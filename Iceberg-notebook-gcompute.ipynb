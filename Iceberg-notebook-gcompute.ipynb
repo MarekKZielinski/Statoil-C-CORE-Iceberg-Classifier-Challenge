{
 "cells": [
  {
   "cell_type": "markdown",
   "metadata": {},
   "source": [
    "### Imports"
   ]
  },
  {
   "cell_type": "code",
   "execution_count": 1,
   "metadata": {
    "scrolled": true
   },
   "outputs": [
    {
     "name": "stderr",
     "output_type": "stream",
     "text": [
      "/home/marozet2/anaconda3/lib/python3.6/site-packages/sklearn/cross_validation.py:41: DeprecationWarning: This module was deprecated in version 0.18 in favor of the model_selection module into which all the refactored classes and functions are moved. Also note that the interface of the new CV iterators are different from that of this module. This module will be removed in 0.20.\n",
      "  \"This module will be removed in 0.20.\", DeprecationWarning)\n",
      "Using TensorFlow backend.\n"
     ]
    }
   ],
   "source": [
    "import numpy as np\n",
    "import pandas as pd\n",
    "import time\n",
    "import matplotlib.pyplot as plt\n",
    "import os\n",
    "import math\n",
    "import pickle\n",
    "import datetime\n",
    "import heapq\n",
    "import xgboost as xgb\n",
    "import h5py\n",
    "from tqdm import tqdm_notebook as tqdm\n",
    "\n",
    "from keras import backend as K\n",
    "from keras.models import Model, load_model\n",
    "from keras.layers import Dense, Activation, Conv2D, MaxPooling2D, Reshape, Lambda, ZeroPadding2D, GaussianNoise, AlphaDropout, Input, Concatenate\n",
    "from keras.layers.core import Flatten, Dropout\n",
    "from keras.optimizers import Adam, SGD\n",
    "from keras.layers.normalization import BatchNormalization\n",
    "from keras.preprocessing.image import ImageDataGenerator\n",
    "from keras.callbacks import ModelCheckpoint, Callback, EarlyStopping, ReduceLROnPlateau, LearningRateScheduler\n",
    "from keras.utils import to_categorical, normalize\n",
    "from keras.models import model_from_json\n",
    "from keras_tqdm import TQDMNotebookCallback\n",
    "\n",
    "from sklearn.model_selection import train_test_split, GridSearchCV\n",
    "from sklearn import metrics\n",
    "import tensorflow as tf\n",
    "\n",
    "from scipy import ndimage\n",
    "from skimage.morphology import reconstruction\n",
    "from skimage.restoration import denoise_wavelet, denoise_tv_chambolle, denoise_nl_means\n",
    "\n",
    "from cyclicLR_callback import CyclicLR\n",
    "\n",
    "random_seed = 4321\n",
    "np.random.seed(random_seed)\n",
    "cwd = os.getcwd()\n",
    "#for windows\n",
    "model_path = cwd + '\\\\models\\\\'"
   ]
  },
  {
   "cell_type": "code",
   "execution_count": 2,
   "metadata": {},
   "outputs": [
    {
     "data": {
      "text/plain": [
       "'2.1.3'"
      ]
     },
     "execution_count": 2,
     "metadata": {},
     "output_type": "execute_result"
    }
   ],
   "source": [
    "import keras\n",
    "keras.__version__"
   ]
  },
  {
   "cell_type": "code",
   "execution_count": 3,
   "metadata": {},
   "outputs": [
    {
     "data": {
      "text/plain": [
       "'3.3.1'"
      ]
     },
     "execution_count": 3,
     "metadata": {},
     "output_type": "execute_result"
    }
   ],
   "source": [
    "import cv2\n",
    "cv2.__version__"
   ]
  },
  {
   "cell_type": "markdown",
   "metadata": {},
   "source": [
    "Manually create tensorflow session to avoid potential OEM errors on laptop's GPU."
   ]
  },
  {
   "cell_type": "code",
   "execution_count": 4,
   "metadata": {},
   "outputs": [],
   "source": [
    "tf.set_random_seed(random_seed)\n",
    "config = tf.ConfigProto()\n",
    "config.gpu_options.allow_growth = True\n",
    "session = tf.Session(config=config)\n",
    "K.set_session(session)\n",
    "K.set_image_dim_ordering('tf')"
   ]
  },
  {
   "cell_type": "code",
   "execution_count": 5,
   "metadata": {},
   "outputs": [
    {
     "name": "stdout",
     "output_type": "stream",
     "text": [
      "/bin/sh: 1: nvidia-smi: not found\r\n"
     ]
    }
   ],
   "source": [
    "!nvidia-smi"
   ]
  },
  {
   "cell_type": "markdown",
   "metadata": {},
   "source": [
    "### Load Data"
   ]
  },
  {
   "cell_type": "code",
   "execution_count": 6,
   "metadata": {
    "collapsed": true
   },
   "outputs": [],
   "source": [
    "data = pd.read_json(\"Data/train/train.json\", orient='records')\n",
    "data.head()\n",
    "train_df = data"
   ]
  },
  {
   "cell_type": "code",
   "execution_count": 7,
   "metadata": {
    "scrolled": true
   },
   "outputs": [
    {
     "name": "stdout",
     "output_type": "stream",
     "text": [
      "<class 'pandas.core.frame.DataFrame'>\n",
      "Int64Index: 1604 entries, 0 to 1603\n",
      "Data columns (total 5 columns):\n",
      "band_1        1604 non-null object\n",
      "band_2        1604 non-null object\n",
      "id            1604 non-null object\n",
      "inc_angle     1604 non-null object\n",
      "is_iceberg    1604 non-null int64\n",
      "dtypes: int64(1), object(4)\n",
      "memory usage: 75.2+ KB\n"
     ]
    }
   ],
   "source": [
    "data.info()"
   ]
  },
  {
   "cell_type": "markdown",
   "metadata": {},
   "source": [
    "### Missing values"
   ]
  },
  {
   "cell_type": "code",
   "execution_count": 8,
   "metadata": {
    "scrolled": true
   },
   "outputs": [
    {
     "name": "stdout",
     "output_type": "stream",
     "text": [
      "missing values in inc_angle:  133\n"
     ]
    },
    {
     "data": {
      "text/html": [
       "<div>\n",
       "<style scoped>\n",
       "    .dataframe tbody tr th:only-of-type {\n",
       "        vertical-align: middle;\n",
       "    }\n",
       "\n",
       "    .dataframe tbody tr th {\n",
       "        vertical-align: top;\n",
       "    }\n",
       "\n",
       "    .dataframe thead th {\n",
       "        text-align: right;\n",
       "    }\n",
       "</style>\n",
       "<table border=\"1\" class=\"dataframe\">\n",
       "  <thead>\n",
       "    <tr style=\"text-align: right;\">\n",
       "      <th></th>\n",
       "      <th>band_1</th>\n",
       "      <th>band_2</th>\n",
       "      <th>id</th>\n",
       "      <th>inc_angle</th>\n",
       "      <th>is_iceberg</th>\n",
       "      <th>inc_angle_f</th>\n",
       "    </tr>\n",
       "  </thead>\n",
       "  <tbody>\n",
       "    <tr>\n",
       "      <th>1599</th>\n",
       "      <td>[-30.999878, -29.976866, -28.233906, -29.50732...</td>\n",
       "      <td>[-27.847719, -28.233864, -24.712077999999998, ...</td>\n",
       "      <td>04e11240</td>\n",
       "      <td>na</td>\n",
       "      <td>0</td>\n",
       "      <td>0.0</td>\n",
       "    </tr>\n",
       "    <tr>\n",
       "      <th>1600</th>\n",
       "      <td>[-25.31155, -26.511555, -28.694487, -27.180115...</td>\n",
       "      <td>[-29.563713, -28.290375, -26.839405, -28.29046...</td>\n",
       "      <td>c7d6f6f8</td>\n",
       "      <td>na</td>\n",
       "      <td>0</td>\n",
       "      <td>0.0</td>\n",
       "    </tr>\n",
       "    <tr>\n",
       "      <th>1601</th>\n",
       "      <td>[-18.141895, -18.141844, -19.01737, -19.701599...</td>\n",
       "      <td>[-25.305355, -29.387701, -28.963863, -26.16023...</td>\n",
       "      <td>bba1a0f1</td>\n",
       "      <td>na</td>\n",
       "      <td>0</td>\n",
       "      <td>0.0</td>\n",
       "    </tr>\n",
       "    <tr>\n",
       "      <th>1602</th>\n",
       "      <td>[-22.455633, -25.794661, -26.954567, -22.83354...</td>\n",
       "      <td>[-26.070356, -22.093737, -21.577662, -24.53376...</td>\n",
       "      <td>7f66bb44</td>\n",
       "      <td>na</td>\n",
       "      <td>0</td>\n",
       "      <td>0.0</td>\n",
       "    </tr>\n",
       "    <tr>\n",
       "      <th>1603</th>\n",
       "      <td>[-19.909191, -20.678406, -20.208834, -18.42441...</td>\n",
       "      <td>[-24.44487, -24.956001, -27.722103, -26.078417...</td>\n",
       "      <td>9d8f326c</td>\n",
       "      <td>na</td>\n",
       "      <td>0</td>\n",
       "      <td>0.0</td>\n",
       "    </tr>\n",
       "  </tbody>\n",
       "</table>\n",
       "</div>"
      ],
      "text/plain": [
       "                                                 band_1  \\\n",
       "1599  [-30.999878, -29.976866, -28.233906, -29.50732...   \n",
       "1600  [-25.31155, -26.511555, -28.694487, -27.180115...   \n",
       "1601  [-18.141895, -18.141844, -19.01737, -19.701599...   \n",
       "1602  [-22.455633, -25.794661, -26.954567, -22.83354...   \n",
       "1603  [-19.909191, -20.678406, -20.208834, -18.42441...   \n",
       "\n",
       "                                                 band_2        id inc_angle  \\\n",
       "1599  [-27.847719, -28.233864, -24.712077999999998, ...  04e11240        na   \n",
       "1600  [-29.563713, -28.290375, -26.839405, -28.29046...  c7d6f6f8        na   \n",
       "1601  [-25.305355, -29.387701, -28.963863, -26.16023...  bba1a0f1        na   \n",
       "1602  [-26.070356, -22.093737, -21.577662, -24.53376...  7f66bb44        na   \n",
       "1603  [-24.44487, -24.956001, -27.722103, -26.078417...  9d8f326c        na   \n",
       "\n",
       "      is_iceberg  inc_angle_f  \n",
       "1599           0          0.0  \n",
       "1600           0          0.0  \n",
       "1601           0          0.0  \n",
       "1602           0          0.0  \n",
       "1603           0          0.0  "
      ]
     },
     "execution_count": 8,
     "metadata": {},
     "output_type": "execute_result"
    }
   ],
   "source": [
    "train_df['inc_angle_f'] = pd.to_numeric(train_df['inc_angle'], errors='coerce')\n",
    "print(\"missing values in inc_angle: \", train_df['inc_angle_f'].isnull().sum())\n",
    "#train_df['inc_angle_f'].replace(np.nan,train_df['inc_angle_f'].mean(), inplace=True)\n",
    "train_df['inc_angle_f'].replace(np.nan,0, inplace=True)\n",
    "train_df.tail()"
   ]
  },
  {
   "cell_type": "markdown",
   "metadata": {},
   "source": [
    "### Transform for NN"
   ]
  },
  {
   "cell_type": "code",
   "execution_count": 9,
   "metadata": {
    "collapsed": true
   },
   "outputs": [],
   "source": [
    "def get_bands(train_df):\n",
    "    max_col = np.array(train_df.apply(lambda x: max((max(train_df.loc[x.name,'band_1']),max(train_df.loc[x.name,'band_2']))),axis=1)) - 10\n",
    "    max_col2 = max_col.reshape(-1,1) * np.ones(75*75).reshape(1,75*75)\n",
    "    max_col2 = max_col2.reshape(-1,75,75)\n",
    "\n",
    "    band_1 = np.array(train_df['band_1'].tolist()).reshape(-1,75,75) - max_col2\n",
    "    band_2 = np.array(train_df['band_2'].tolist()).reshape(-1,75,75) - max_col2\n",
    "    band_1_t = 10**(band_1/10)\n",
    "    band_2_t = 10**(band_2/10)\n",
    "    band_1_t = np.where(band_1_t > 0.01, band_1_t, 0)\n",
    "    band_2_t = np.where(band_2_t > 0.01, band_2_t, 0)\n",
    "    band_3 = band_1_t - band_2_t\n",
    "    X = np.stack((band_1,band_2,band_1_t,band_2_t),axis=3)\n",
    "    \n",
    "    return band_1, band_2, band_1_t, band_2_t, band_3, X"
   ]
  },
  {
   "cell_type": "code",
   "execution_count": 10,
   "metadata": {},
   "outputs": [
    {
     "data": {
      "image/png": "[encoded data removed]",
      "text/plain": [
       "<matplotlib.figure.Figure at 0x7f8b9621e550>"
      ]
     },
     "metadata": {},
     "output_type": "display_data"
    },
    {
     "data": {
      "image/png": "[encoded data removed]",
      "text/plain": [
       "<matplotlib.figure.Figure at 0x7f8ac6eb2be0>"
      ]
     },
     "metadata": {},
     "output_type": "display_data"
    }
   ],
   "source": [
    "band_1, band_2, band_1_t, band_2_t, band_3, X = get_bands(train_df)\n",
    "plt.hist(band_1.flatten(), bins=200, color=\"red\", alpha=0.4)\n",
    "plt.hist(band_2.flatten(), bins=200, color=\"blue\", alpha=0.4)\n",
    "plt.show()\n",
    "\n",
    "plt.hist(band_1[train_df[train_df['is_iceberg']==0].index[:3]].flatten(), bins=50, color=\"orange\", alpha=0.4)\n",
    "plt.hist(band_1[train_df[train_df['is_iceberg']==1].index[:3]].flatten(), bins=50, color=\"green\", alpha=0.4)\n",
    "plt.show()"
   ]
  },
  {
   "cell_type": "code",
   "execution_count": 11,
   "metadata": {},
   "outputs": [
    {
     "data": {
      "image/png": "[encoded data removed]",
      "text/plain": [
       "<matplotlib.figure.Figure at 0x7f8bf212d550>"
      ]
     },
     "metadata": {},
     "output_type": "display_data"
    }
   ],
   "source": [
    "plt.hist(band_1_t.flatten(),bins=200, color=\"red\", alpha=0.4)\n",
    "plt.hist(band_2_t.flatten(),bins=200, color=\"blue\", alpha=0.4)\n",
    "plt.yscale('log')\n",
    "plt.xscale('log')\n",
    "plt.show()"
   ]
  },
  {
   "cell_type": "code",
   "execution_count": 12,
   "metadata": {},
   "outputs": [
    {
     "data": {
      "image/png": "[encoded data removed]",
      "text/plain": [
       "<matplotlib.figure.Figure at 0x7f8aa7ea3b00>"
      ]
     },
     "metadata": {},
     "output_type": "display_data"
    }
   ],
   "source": [
    "plt.hist(band_3[train_df[train_df['is_iceberg']==0].index].flatten(), bins=50, color=\"orange\", alpha=0.4)\n",
    "plt.hist(band_3[train_df[train_df['is_iceberg']==1].index].flatten(), bins=50, color=\"green\", alpha=0.4)\n",
    "plt.yscale('log')\n",
    "plt.xscale('log')\n",
    "plt.show()"
   ]
  },
  {
   "cell_type": "code",
   "execution_count": 13,
   "metadata": {
    "scrolled": false
   },
   "outputs": [
    {
     "data": {
      "image/png": "[encoded data removed]",
      "text/plain": [
       "<matplotlib.figure.Figure at 0x7f8a925e5668>"
      ]
     },
     "metadata": {},
     "output_type": "display_data"
    },
    {
     "data": {
      "image/png": "[encoded data removed]",
      "text/plain": [
       "<matplotlib.figure.Figure at 0x7f8a9253b4e0>"
      ]
     },
     "metadata": {},
     "output_type": "display_data"
    }
   ],
   "source": [
    "def plot_bands(index, cmap=\"gray\"):\n",
    "    fig = plt.figure(figsize=(12,6))\n",
    "    fig.suptitle(\"Is Iceberg: %x\" % (train_df.loc[index,'is_iceberg']), fontsize=16)\n",
    "    ax1 = fig.add_subplot(251)\n",
    "    ax1.set_title(\"Band 1\")\n",
    "    ax1.imshow(band_1[index], cmap=cmap)\n",
    "    ax2 = fig.add_subplot(252)\n",
    "    ax2.set_title(\"Band 2\")\n",
    "    ax2.imshow(band_2[index], cmap=cmap)\n",
    "    ax3 = fig.add_subplot(253)\n",
    "    ax3.set_title(\"Band 1 t\")\n",
    "    ax3.imshow(band_1_t[index], cmap=cmap)\n",
    "    ax3 = fig.add_subplot(254)\n",
    "    ax3.set_title(\"Band 2 t\")\n",
    "    ax3.imshow(band_2_t[index], cmap=cmap)\n",
    "    ax3 = fig.add_subplot(255)\n",
    "    ax3.set_title(\"Band 3\")\n",
    "    ax3.imshow(band_3[index], cmap=cmap)\n",
    "    fig.tight_layout(rect=[0, 0.03, 1, 0.95])\n",
    "    plt.show()\n",
    "\n",
    "plot_bands(0,cmap=\"inferno\")\n",
    "plot_bands(2,cmap=\"inferno\")\n"
   ]
  },
  {
   "cell_type": "code",
   "execution_count": 14,
   "metadata": {},
   "outputs": [
    {
     "data": {
      "text/plain": [
       "8.4155418416635133"
      ]
     },
     "execution_count": 14,
     "metadata": {},
     "output_type": "execute_result"
    }
   ],
   "source": [
    "band_3[2].max()"
   ]
  },
  {
   "cell_type": "code",
   "execution_count": 15,
   "metadata": {},
   "outputs": [
    {
     "data": {
      "text/plain": [
       "(3, 75, 75, 2)"
      ]
     },
     "execution_count": 15,
     "metadata": {},
     "output_type": "execute_result"
    }
   ],
   "source": [
    "imgs = X[:3,:,:,:2].copy()\n",
    "imgs.shape"
   ]
  },
  {
   "cell_type": "code",
   "execution_count": 16,
   "metadata": {
    "collapsed": true
   },
   "outputs": [],
   "source": [
    "def apply_over_axis(func, data, mask=None, axis=0, *args, **kwargs):\n",
    "    f_list = []\n",
    "    for i in range(data.shape[axis]):\n",
    "        if mask is None:\n",
    "            f_list.append(func(data[i], *args, **kwargs))\n",
    "        else:\n",
    "            f_list.append(func(data[i], mask=mask[i], *args, **kwargs))\n",
    "    return np.stack(f_list,axis=0)"
   ]
  },
  {
   "cell_type": "code",
   "execution_count": 17,
   "metadata": {
    "collapsed": true
   },
   "outputs": [],
   "source": [
    "def add_noise(img, noise):\n",
    "    rand_img = np.zeros(img.shape)\n",
    "    cv2.randn(rand_img,noise[0],noise[1]) \n",
    "    return img + rand_img"
   ]
  },
  {
   "cell_type": "code",
   "execution_count": 18,
   "metadata": {},
   "outputs": [
    {
     "data": {
      "text/plain": [
       "10.000000000000002"
      ]
     },
     "execution_count": 18,
     "metadata": {},
     "output_type": "execute_result"
    }
   ],
   "source": [
    "X[:60,:,:,:2].copy().max()"
   ]
  },
  {
   "cell_type": "code",
   "execution_count": 19,
   "metadata": {},
   "outputs": [
    {
     "data": {
      "text/plain": [
       "13.235153209793092"
      ]
     },
     "execution_count": 19,
     "metadata": {},
     "output_type": "execute_result"
    }
   ],
   "source": [
    "imgs = X[:60,:,:,:2].copy()\n",
    "apply_over_axis(add_noise, imgs, axis=0, noise=((1,0.5),(1,0.5))).max()"
   ]
  },
  {
   "cell_type": "code",
   "execution_count": 20,
   "metadata": {},
   "outputs": [
    {
     "data": {
      "image/png": "[encoded data removed]",
      "text/plain": [
       "<matplotlib.figure.Figure at 0x7f8ac5bf41d0>"
      ]
     },
     "metadata": {},
     "output_type": "display_data"
    },
    {
     "data": {
      "image/png": "[encoded data removed]",
      "text/plain": [
       "<matplotlib.figure.Figure at 0x7f8aad2a35c0>"
      ]
     },
     "metadata": {},
     "output_type": "display_data"
    }
   ],
   "source": [
    "def plot_with_noise(index, cmap=\"gray\"):\n",
    "    m = (2) \n",
    "    s = (2)\n",
    "    fig = plt.figure(figsize=(12,6))\n",
    "    fig.suptitle(\"Is Iceberg: %x\" % (train_df.loc[index,'is_iceberg']), fontsize=16)\n",
    "    ax1 = fig.add_subplot(251)\n",
    "    ax1.set_title(\"Band 1 - original\")\n",
    "    ax1.imshow(band_1[index], cmap=cmap)\n",
    "    ax2 = fig.add_subplot(252)\n",
    "    ax2.set_title(\"Band 1 - noise\")\n",
    "    img = band_1[index].copy()\n",
    "    rand_img = np.zeros((img.shape[0],img.shape[1]))\n",
    "    cv2.randn(rand_img,m,s);\n",
    "    img = img + rand_img\n",
    "    ax2.imshow(img, cmap=cmap)\n",
    "    ax3 = fig.add_subplot(253)\n",
    "    ax3.set_title(\"Band 2 - original\")\n",
    "    ax3.imshow(band_2[index], cmap=cmap)\n",
    "    ax4 = fig.add_subplot(254)\n",
    "    ax4.set_title(\"Band 2 - noise\")\n",
    "    img = band_2[index].copy()\n",
    "    rand_img = np.zeros((img.shape[0],img.shape[1]))\n",
    "    m = (1) \n",
    "    s = (1)\n",
    "    cv2.randn(rand_img,m,s);\n",
    "    img = img + rand_img\n",
    "    ax4.imshow(img, cmap=cmap)\n",
    "    fig.tight_layout(rect=[0, 0.03, 1, 0.95])\n",
    "    plt.show()\n",
    "\n",
    "plot_with_noise(0,cmap=\"inferno\")\n",
    "plot_with_noise(2,cmap=\"inferno\")"
   ]
  },
  {
   "cell_type": "code",
   "execution_count": 21,
   "metadata": {
    "collapsed": true,
    "scrolled": true
   },
   "outputs": [],
   "source": [
    "y = train_df.loc[:,'is_iceberg']\n",
    "y_angle = train_df.loc[:,['is_iceberg','inc_angle_f']]\n",
    "y_angle['index'] = y_angle.index"
   ]
  },
  {
   "cell_type": "code",
   "execution_count": 22,
   "metadata": {},
   "outputs": [
    {
     "data": {
      "text/html": [
       "<div>\n",
       "<style scoped>\n",
       "    .dataframe tbody tr th:only-of-type {\n",
       "        vertical-align: middle;\n",
       "    }\n",
       "\n",
       "    .dataframe tbody tr th {\n",
       "        vertical-align: top;\n",
       "    }\n",
       "\n",
       "    .dataframe thead th {\n",
       "        text-align: right;\n",
       "    }\n",
       "</style>\n",
       "<table border=\"1\" class=\"dataframe\">\n",
       "  <thead>\n",
       "    <tr style=\"text-align: right;\">\n",
       "      <th></th>\n",
       "      <th>is_iceberg</th>\n",
       "      <th>inc_angle_f</th>\n",
       "      <th>index</th>\n",
       "    </tr>\n",
       "  </thead>\n",
       "  <tbody>\n",
       "    <tr>\n",
       "      <th>0</th>\n",
       "      <td>0</td>\n",
       "      <td>43.9239</td>\n",
       "      <td>0</td>\n",
       "    </tr>\n",
       "    <tr>\n",
       "      <th>1</th>\n",
       "      <td>0</td>\n",
       "      <td>38.1562</td>\n",
       "      <td>1</td>\n",
       "    </tr>\n",
       "    <tr>\n",
       "      <th>2</th>\n",
       "      <td>1</td>\n",
       "      <td>45.2859</td>\n",
       "      <td>2</td>\n",
       "    </tr>\n",
       "    <tr>\n",
       "      <th>3</th>\n",
       "      <td>0</td>\n",
       "      <td>43.8306</td>\n",
       "      <td>3</td>\n",
       "    </tr>\n",
       "    <tr>\n",
       "      <th>4</th>\n",
       "      <td>0</td>\n",
       "      <td>35.6256</td>\n",
       "      <td>4</td>\n",
       "    </tr>\n",
       "  </tbody>\n",
       "</table>\n",
       "</div>"
      ],
      "text/plain": [
       "   is_iceberg  inc_angle_f  index\n",
       "0           0      43.9239      0\n",
       "1           0      38.1562      1\n",
       "2           1      45.2859      2\n",
       "3           0      43.8306      3\n",
       "4           0      35.6256      4"
      ]
     },
     "execution_count": 22,
     "metadata": {},
     "output_type": "execute_result"
    }
   ],
   "source": [
    "y_angle.head()"
   ]
  },
  {
   "cell_type": "markdown",
   "metadata": {},
   "source": [
    "### Split into train test and validation sets"
   ]
  },
  {
   "cell_type": "code",
   "execution_count": 23,
   "metadata": {
    "scrolled": true
   },
   "outputs": [
    {
     "name": "stdout",
     "output_type": "stream",
     "text": [
      "(1042, 75, 75, 4)\n",
      "(562, 75, 75, 4)\n"
     ]
    }
   ],
   "source": [
    "X_train, X_val, y_train, y_val = train_test_split(X, y_angle, test_size=0.35, random_state=random_seed)\n",
    "print(X_train.shape)\n",
    "print(X_val.shape)"
   ]
  },
  {
   "cell_type": "code",
   "execution_count": 24,
   "metadata": {},
   "outputs": [
    {
     "name": "stdout",
     "output_type": "stream",
     "text": [
      "(393, 75, 75, 4)\n",
      "(169, 75, 75, 4)\n"
     ]
    }
   ],
   "source": [
    "X_val_tune, X_val_test, y_val_tune, y_val_test = train_test_split(X_val, y_val, test_size=0.3, random_state=random_seed)\n",
    "print(X_val_tune.shape)\n",
    "print(X_val_test.shape)"
   ]
  },
  {
   "cell_type": "markdown",
   "metadata": {},
   "source": [
    "### Data augmentation"
   ]
  },
  {
   "cell_type": "code",
   "execution_count": 25,
   "metadata": {},
   "outputs": [
    {
     "name": "stdout",
     "output_type": "stream",
     "text": [
      "(1042, 75, 75, 4)\n"
     ]
    }
   ],
   "source": [
    "X_train_sample = X_train[:]\n",
    "y_train_sample = y_train[:]\n",
    "print(X_train_sample.shape)"
   ]
  },
  {
   "cell_type": "code",
   "execution_count": 26,
   "metadata": {
    "collapsed": true,
    "scrolled": false
   },
   "outputs": [],
   "source": [
    "\n",
    "\n",
    "datagen = ImageDataGenerator(\n",
    "    samplewise_center=False,\n",
    "    samplewise_std_normalization=False,\n",
    "    rotation_range=25,\n",
    "    horizontal_flip=True,\n",
    "    vertical_flip=True,\n",
    "    fill_mode='nearest')\n",
    "\n",
    "datagen_val = ImageDataGenerator(\n",
    "    samplewise_center=False,\n",
    "    samplewise_std_normalization=False,\n",
    "    rotation_range=0,\n",
    "    horizontal_flip=False,\n",
    "    vertical_flip=False,\n",
    "    fill_mode='nearest')\n",
    "\n",
    "#custom generator for fit_generator\n",
    "from collections import Generator\n",
    "class Datagen_angle(Generator):\n",
    "    def __init__(self, imagegen=ImageDataGenerator, noise=((1,1),(1,1))):\n",
    "        self.imagegen = imagegen\n",
    "        self.noise = noise\n",
    "        self.noise_on = False\n",
    "        \n",
    "    def flow(self, x, y, batch_size=8, shuffle=True, noise_on = False, noise=((1,1),(1,1))):\n",
    "        self.generator = self.imagegen.flow(x, y, batch_size=batch_size, shuffle=shuffle)\n",
    "        self.noise=noise\n",
    "        return self\n",
    "    \n",
    "    def send(self, ignored):\n",
    "        temp_data = next(self.generator)\n",
    "        if self.noise_on:\n",
    "            batches = temp_data[0][:,:,:,:4].copy()\n",
    "            batches = apply_over_axis(add_noise, batches, axis=0, noise=noise)\n",
    "            temp_stacked1 = batches\n",
    "            temp_band_3 = batches[:,:,:,2] - batches[:,:,:,3] #band_1_t - band_2_t\n",
    "        else:\n",
    "            #temp_stacked1 = np.stack((temp_data[0][:,:,:,0],temp_data[0][:,:,:,1]),axis=3)\n",
    "            temp_stacked1 = temp_data[0][:,:,:,:2]\n",
    "            temp_band_3 = temp_data[0][:,:,:,2] - temp_data[0][:,:,:,3] #band_1_t - band_2_t\n",
    "        temp_stacked2 = np.stack((temp_data[0][:,:,:,2],temp_data[0][:,:,:,3],temp_band_3),axis=3)\n",
    "        #nn_denoised_temp = temp_data[0] #pass 4 bands for nn denoising input\n",
    "        return [temp_stacked1, temp_stacked2, \n",
    "                #nn_denoised_temp,\n",
    "                temp_data[1][:,1]], temp_data[1][:,0]\n",
    "    \n",
    "    def throw(self, type=None, value=None, traceback=None):\n",
    "        raise StopIteration\n",
    "    \n",
    "\n"
   ]
  },
  {
   "cell_type": "code",
   "execution_count": 27,
   "metadata": {},
   "outputs": [],
   "source": [
    "\n",
    "datagen.fit(X_train_sample)\n",
    "datagen_val.fit(X_val)\n",
    "\n",
    "datagen_angle = Datagen_angle(imagegen=datagen)\n",
    "datagen_angle_val = Datagen_angle(imagegen=datagen_val)"
   ]
  },
  {
   "cell_type": "markdown",
   "metadata": {},
   "source": [
    "### Learning rate scheduler and callback definition"
   ]
  },
  {
   "cell_type": "code",
   "execution_count": 28,
   "metadata": {
    "collapsed": true
   },
   "outputs": [],
   "source": [
    "# learning rate schedule\n",
    "class LScheduler:\n",
    "    def __init__(self, initial_lrate=0.001, drop=0.66, patience=5):\n",
    "        self.initial_lrate=initial_lrate\n",
    "        self.drop = drop\n",
    "        self.patience = patience\n",
    "\n",
    "    def step_decay(self,epoch):\n",
    "        initial_lrate = self.initial_lrate\n",
    "        drop = self.drop\n",
    "        patience = self.patience\n",
    "        lrate = initial_lrate * math.pow(drop, math.floor((1+epoch)/patience))\n",
    "        if math.fmod(epoch, patience) == 0:\n",
    "            print(\"Setting learning rate: \",lrate)\n",
    "        return lrate"
   ]
  },
  {
   "cell_type": "markdown",
   "metadata": {},
   "source": [
    "### Denoising"
   ]
  },
  {
   "cell_type": "code",
   "execution_count": 29,
   "metadata": {
    "collapsed": true
   },
   "outputs": [],
   "source": [
    "def denoising(img):\n",
    "    img_list = []\n",
    "    for i in range(4):\n",
    "        image = normalize(img[:,:,i])\n",
    "        img_list.append(ndimage.median_filter(image, 3))\n",
    "    return np.stack(img_list,axis=2)"
   ]
  },
  {
   "cell_type": "code",
   "execution_count": null,
   "metadata": {
    "collapsed": true
   },
   "outputs": [],
   "source": []
  },
  {
   "cell_type": "code",
   "execution_count": 30,
   "metadata": {
    "collapsed": true
   },
   "outputs": [],
   "source": [
    "#X_denoised = apply_over_axis(denoising, X)"
   ]
  },
  {
   "cell_type": "code",
   "execution_count": 31,
   "metadata": {
    "collapsed": true,
    "scrolled": true
   },
   "outputs": [],
   "source": [
    "#index=8\n",
    "#original_index = y_train_sample.iloc[index].name\n",
    "#cmap=\"inferno\"\n",
    "#fig = plt.figure(figsize=(12,6))\n",
    "#fig.suptitle(\"Denoising: is iceberg: %x\" % (y_train_sample.iloc[index,0]), fontsize=16)\n",
    "#ax1 = fig.add_subplot(251)\n",
    "#ax1.set_title(\"Before\")\n",
    "#ax1.imshow(X_train_sample[index][:,:,0], cmap=cmap)\n",
    "#ax2 = fig.add_subplot(252)\n",
    "#ax2.set_title(\"Denoised\")\n",
    "#ax2.imshow(X_denoised[original_index][:,:,0], cmap=cmap)\n",
    "#ax1 = fig.add_subplot(253)\n",
    "#ax1.set_title(\"Before - band 2\")\n",
    "#ax1.imshow(X_train_sample[index][:,:,1], cmap=cmap)\n",
    "#ax2 = fig.add_subplot(254)\n",
    "#ax2.set_title(\"Denoised - band 2\")\n",
    "#ax2.imshow(X_denoised[original_index][:,:,1], cmap=cmap)\n",
    "#plt.show()"
   ]
  },
  {
   "cell_type": "markdown",
   "metadata": {},
   "source": [
    "### NN denoising"
   ]
  },
  {
   "cell_type": "code",
   "execution_count": 32,
   "metadata": {
    "collapsed": true
   },
   "outputs": [],
   "source": [
    "##custom generator for denoising\n",
    "#from collections import Generator\n",
    "#class Datagen_denoising(Generator):\n",
    "#    def __init__(self, imagegen=ImageDataGenerator):\n",
    "#        self.imagegen = imagegen\n",
    "#        \n",
    "#    def flow(self, x, y, batch_size=8, shuffle=True):\n",
    "#        self.generator = self.imagegen.flow(x, y, batch_size=batch_size, shuffle=shuffle)\n",
    "#        return self\n",
    "#    \n",
    "#    def send(self, ignored):\n",
    "#        temp_data = next(self.generator)\n",
    "#        temp_stacked1 = np.stack((temp_data[0][:,:,:,0],temp_data[0][:,:,:,1]),axis=3)\n",
    "#        temp_stacked = np.stack((temp_data[0][:,:,:,0],temp_data[0][:,:,:,1],temp_data[0][:,:,:,2],\n",
    "#                                temp_data[0][:,:,:,3]),axis=3)\n",
    "#        return temp_stacked, temp_stacked\n",
    "#    \n",
    "#    def throw(self, type=None, value=None, traceback=None):\n",
    "#        raise StopIteration\n",
    "#        \n",
    "#datagen_denoising = Datagen_denoising(imagegen=datagen)\n",
    "#datagen_denoising_val = Datagen_denoising(imagegen=datagen_val)"
   ]
  },
  {
   "cell_type": "code",
   "execution_count": 33,
   "metadata": {
    "collapsed": true
   },
   "outputs": [],
   "source": [
    "#m_input = Input(shape=(75,75,4), name='m_input')\n",
    "#\n",
    "##conv layers for main_input\n",
    "#x1 = BatchNormalization()(m_input)\n",
    "#x1 = ZeroPadding2D()(x1)\n",
    "#x1 = Conv2D(8, (3,3), activation='relu')(x1)\n",
    "#x1 = BatchNormalization()(x1)\n",
    "#x1 = Dropout(0.2)(x1)\n",
    "#x1 = ZeroPadding2D()(x1)\n",
    "#x1 = Conv2D(8, (3,3), activation='relu')(x1)\n",
    "#x1 = BatchNormalization()(x1)\n",
    "#x1 = Dropout(0.2)(x1)\n",
    "#x1 = ZeroPadding2D()(x1)\n",
    "#m_output = Conv2D(4, (3,3), activation='linear', name='m_output')(x1)\n",
    "#model_denoise = Model(inputs=[m_input,], outputs=[m_output], name='Model_nn_denoising')\n",
    "#\n",
    "#model_denoise.compile(optimizer=Adam(lr=0.1, beta_1=0.9, beta_2=0.999, epsilon=1e-08, decay=0),\n",
    "#loss='mean_squared_error',\n",
    "#metrics=['mae'])"
   ]
  },
  {
   "cell_type": "code",
   "execution_count": 34,
   "metadata": {
    "scrolled": true
   },
   "outputs": [],
   "source": [
    "#model_denoise.summary()"
   ]
  },
  {
   "cell_type": "code",
   "execution_count": 35,
   "metadata": {
    "collapsed": true,
    "scrolled": false
   },
   "outputs": [],
   "source": [
    "##model training\n",
    "##lScheduler_denoising = LScheduler(initial_lrate=0.1, drop=0.66, patience=3)\n",
    "##lrScheduler_denoising = LearningRateScheduler(lScheduler_denoising.step_decay)\n",
    "#lrScheduler_denoising = CyclicLR(base_lr=1e-8, max_lr=0.006,\n",
    "#                                 step_size=400, mode='triangular2', gamma=0.99994)\n",
    "#start_time = time.monotonic()\n",
    "#\n",
    "#H = model_denoise.fit_generator(datagen_denoising.flow(X, y_angle, batch_size=8),\n",
    "#                    steps_per_epoch=len(X)/8,\n",
    "#                    validation_data=datagen_denoising_val.flow(X, y_angle, batch_size=8, shuffle=False), \n",
    "#                    validation_steps=len(X)/8,\n",
    "#                    #validation_data=[X_val,y_val],\n",
    "#                    epochs=12,\n",
    "#                    callbacks = [lrScheduler_denoising, \n",
    "#                                 TQDMNotebookCallback(leave_inner=True, leave_outer=True)],\n",
    "#                    verbose=0)\n",
    "#\n",
    "#model_time = time.monotonic() - start_time\n",
    "#print(\"Model training time: \" + '{:d}'.format(int(model_time // 60)) + \" minutes \" \n",
    "#      + '{:.1f}'.format(model_time % 60) + \" seconds\")"
   ]
  },
  {
   "cell_type": "code",
   "execution_count": 36,
   "metadata": {
    "collapsed": true
   },
   "outputs": [],
   "source": [
    "#h = lrScheduler_denoising.history\n",
    "#plt.plot(h['lr'], color=\"b\", label='lr')\n",
    "#plt.legend()\n",
    "#plt.xlabel('# iterations')\n",
    "#plt.show()"
   ]
  },
  {
   "cell_type": "code",
   "execution_count": 37,
   "metadata": {
    "collapsed": true
   },
   "outputs": [],
   "source": [
    "## serialize model to JSON\n",
    "#model_json = model_denoise.to_json()\n",
    "#with open(\"models/model_denoise.json\", \"w\") as json_file:\n",
    "#    json_file.write(model_json)"
   ]
  },
  {
   "cell_type": "code",
   "execution_count": 38,
   "metadata": {
    "collapsed": true
   },
   "outputs": [],
   "source": [
    "## serialize weights to HDF5\n",
    "#model_weights = model_denoise.get_weights()\n",
    "#with open('models/model_denoise_weights.pickle', 'wb') as handle:\n",
    "#    pickle.dump(model_weights, handle, protocol=pickle.HIGHEST_PROTOCOL)"
   ]
  },
  {
   "cell_type": "code",
   "execution_count": 39,
   "metadata": {
    "collapsed": true
   },
   "outputs": [],
   "source": [
    "## load json and create model\n",
    "#with open(\"models/model_denoise.json\", \"r\") as json_file:\n",
    "#    loaded_model_json = json_file.read()\n",
    "#model_denoise = model_from_json(loaded_model_json)\n",
    "## load weights into new model\n",
    "#with open('models/model_denoise_weights.pickle', 'rb') as handle:\n",
    "#    model_weights = pickle.load(handle)\n",
    "#model_denoise.set_weights(model_weights)\n",
    "#print(\"Loaded model from disk\")"
   ]
  },
  {
   "cell_type": "code",
   "execution_count": 40,
   "metadata": {
    "collapsed": true,
    "scrolled": false
   },
   "outputs": [],
   "source": [
    "#X_nn_denoised = model_denoise.predict(X, verbose=1)"
   ]
  },
  {
   "cell_type": "code",
   "execution_count": 41,
   "metadata": {
    "collapsed": true
   },
   "outputs": [],
   "source": [
    "#index=8\n",
    "#original_index = y_train_sample.iloc[index].name\n",
    "#cmap=\"inferno\"\n",
    "#fig = plt.figure(figsize=(12,6))\n",
    "#fig.suptitle(\"Image denoising nn: %x\" % (train_df.loc[original_index,'is_iceberg']), fontsize=16)\n",
    "#ax1 = fig.add_subplot(251)\n",
    "#ax1.set_title(\"Before band_1\")\n",
    "#ax1.imshow(X_train_sample[index][:,:,0], cmap=cmap)\n",
    "#ax2 = fig.add_subplot(252)\n",
    "#ax2.set_title(\"NN Denoising band 1\")\n",
    "#ax2.imshow(X_nn_denoised[original_index][:,:,0], cmap=cmap)\n",
    "#ax3 = fig.add_subplot(253)\n",
    "#ax3.set_title(\"Before band 2\")\n",
    "#ax3.imshow(X_train_sample[index][:,:,1], cmap=cmap)\n",
    "#ax4 = fig.add_subplot(254)\n",
    "#ax4.set_title(\"NN Denoising band 2\")\n",
    "#ax4.imshow(X_nn_denoised[original_index][:,:,1], cmap=cmap)\n",
    "#plt.show()"
   ]
  },
  {
   "cell_type": "code",
   "execution_count": null,
   "metadata": {
    "collapsed": true
   },
   "outputs": [],
   "source": []
  },
  {
   "cell_type": "markdown",
   "metadata": {},
   "source": [
    "### Keras model"
   ]
  },
  {
   "cell_type": "code",
   "execution_count": 42,
   "metadata": {
    "collapsed": true
   },
   "outputs": [],
   "source": [
    "model_code=\"CNN_2018_01_22_v02\"\n",
    "model_comment=\"2 CNN inputs 3,3 conv filters, na=0\""
   ]
  },
  {
   "cell_type": "code",
   "execution_count": 43,
   "metadata": {
    "scrolled": false
   },
   "outputs": [
    {
     "name": "stdout",
     "output_type": "stream",
     "text": [
      "Overwriting current_model.py\n"
     ]
    }
   ],
   "source": [
    "%%writefile current_model.py\n",
    "\n",
    "def InputBlock(x, dropout=0.2, prefix=''):\n",
    "    #conv layers for input\n",
    "    x = BatchNormalization()(x)\n",
    "    x = Conv2D(64, (3,3), activation='relu')(x)\n",
    "    x = MaxPooling2D((2, 2), strides=(2, 2))(x)\n",
    "    x = BatchNormalization()(x)\n",
    "    x = Dropout(dropout)(x) \n",
    "    x = BatchNormalization()(x)\n",
    "    x = Conv2D(64, (3,3), activation='relu')(x)\n",
    "    x = MaxPooling2D((2, 2), strides=(2, 2))(x)\n",
    "    x = BatchNormalization()(x)\n",
    "    x = Dropout(dropout)(x) \n",
    "    return(x)\n",
    "\n",
    "main_input = Input(shape=(75,75,2), name='main_input')\n",
    "aux_input = Input(shape=(75,75,3), name='aux_input')\n",
    "#aux_input_nn = Input(shape=(75,75,4), name='aux_input_nn')\n",
    "\n",
    "x1 = InputBlock(main_input, prefix='m_input')\n",
    "x2 = InputBlock(aux_input, prefix='a_input')\n",
    "#x3 = model_denoise(aux_input_nn)\n",
    "#x3 = InputBlock(x3,dropout=0.3, prefix='a_input_nn')\n",
    "\n",
    "#x = x1\n",
    "x = Concatenate(axis=3)([x1,x2])\n",
    "#x = BatchNormalization()(x)\n",
    "#x = Dropout(0.2)(x)\n",
    "\n",
    "#conv-block\n",
    "x = Conv2D(128, (3, 3), activation='relu')(x)\n",
    "x = MaxPooling2D((2, 2), strides=(2, 2))(x)\n",
    "x = BatchNormalization()(x)\n",
    "x = Dropout(0.2)(x)\n",
    "\n",
    "#conv-block\n",
    "x = Conv2D(256, (3, 3), activation='relu')(x)\n",
    "x = MaxPooling2D((2, 2), strides=(2, 2))(x)\n",
    "x = BatchNormalization()(x)\n",
    "x = Dropout(0.2)(x)\n",
    "    \n",
    "#flatten\n",
    "x = Flatten()(x)\n",
    "angle_input = Input(shape=[1], name='angle_input')\n",
    "#x1 = BatchNormalization()(angle_input)\n",
    "merged = Concatenate()([x, angle_input])\n",
    "\n",
    "#dense-block\n",
    "x = Dense(512, activation='relu')(merged)\n",
    "x = BatchNormalization()(x)\n",
    "x = Dropout(0.2)(x)\n",
    "\n",
    "#dense-block\n",
    "x = Dense(256, activation='relu')(x)\n",
    "x = BatchNormalization()(x)\n",
    "x = Dropout(0.2)(x)\n",
    "\n",
    "main_output = Dense(1, activation='sigmoid', name='main_output')(x)\n",
    "model_f = Model(inputs=[main_input,aux_input, \n",
    "                        #aux_input_nn, \n",
    "                        angle_input], \n",
    "                        outputs=[main_output])\n",
    "\n",
    "model_f.compile(optimizer=Adam(lr=0.001, beta_1=0.9, beta_2=0.999, epsilon=1e-08, decay=0),\n",
    "loss='binary_crossentropy',\n",
    "metrics=['accuracy'])"
   ]
  },
  {
   "cell_type": "code",
   "execution_count": 44,
   "metadata": {},
   "outputs": [],
   "source": [
    "%run -i current_model.py"
   ]
  },
  {
   "cell_type": "code",
   "execution_count": 45,
   "metadata": {
    "collapsed": true,
    "scrolled": true
   },
   "outputs": [],
   "source": [
    "class ModelHistory(Callback):\n",
    "    def __init__(self, listSize=10):\n",
    "        self.listSize = listSize\n",
    "        self.models = []\n",
    "\n",
    "    def on_epoch_end(self, epoch, logs={}):\n",
    "        lastLoss = logs.get('val_loss')\n",
    "        rank = 1 - lastLoss\n",
    "        if len(self.models) > 0:\n",
    "            if rank > self.models[0][0]: # new model is better than the worst in the heap\n",
    "                if len(self.models) >= self.listSize: #if the model heap is already full\n",
    "                    heapq.heappushpop(self.models, (rank, lastLoss, self.model.get_weights()))\n",
    "                else:\n",
    "                    heapq.heappush(self.models, (rank, lastLoss, self.model.get_weights()))\n",
    "        else:\n",
    "            heapq.heappush(self.models, (rank, lastLoss, self.model.get_weights()))\n",
    "\n",
    "def get_callbacks(filepath, save_to_disc = True, lScheduler = None,\n",
    "                  patience=10, step_decay=LScheduler().step_decay, modelHistoryCallback=None):\n",
    "    #es = EarlyStopping('val_loss', patience=patience, mode=\"min\")\n",
    "    msave = ModelCheckpoint(filepath, save_best_only=True)\n",
    "    #reduceLr = ReduceLROnPlateau(monitor='val_loss', factor=0.5,\n",
    "    #                          patience=5, min_lr=0.000001, verbose=1)\n",
    "    if lScheduler is None:\n",
    "        lrScheduler = LearningRateScheduler(step_decay)\n",
    "    else:\n",
    "        lrScheduler = lScheduler\n",
    "    tqdmCallback =  TQDMNotebookCallback(leave_inner=True, leave_outer=True)\n",
    "    if (save_to_disc):\n",
    "        return [msave, lrScheduler, modelHistoryCallback, tqdmCallback]\n",
    "    else:\n",
    "        return [lrScheduler, modelHistoryCallback, tqdmCallback]"
   ]
  },
  {
   "cell_type": "code",
   "execution_count": 46,
   "metadata": {
    "scrolled": true
   },
   "outputs": [
    {
     "name": "stdout",
     "output_type": "stream",
     "text": [
      "__________________________________________________________________________________________________\n",
      "Layer (type)                    Output Shape         Param #     Connected to                     \n",
      "==================================================================================================\n",
      "main_input (InputLayer)         (None, 75, 75, 2)    0                                            \n",
      "__________________________________________________________________________________________________\n",
      "aux_input (InputLayer)          (None, 75, 75, 3)    0                                            \n",
      "__________________________________________________________________________________________________\n",
      "batch_normalization_1 (BatchNor (None, 75, 75, 2)    8           main_input[0][0]                 \n",
      "__________________________________________________________________________________________________\n",
      "batch_normalization_5 (BatchNor (None, 75, 75, 3)    12          aux_input[0][0]                  \n",
      "__________________________________________________________________________________________________\n",
      "conv2d_1 (Conv2D)               (None, 73, 73, 64)   1216        batch_normalization_1[0][0]      \n",
      "__________________________________________________________________________________________________\n",
      "conv2d_3 (Conv2D)               (None, 73, 73, 64)   1792        batch_normalization_5[0][0]      \n",
      "__________________________________________________________________________________________________\n",
      "max_pooling2d_1 (MaxPooling2D)  (None, 36, 36, 64)   0           conv2d_1[0][0]                   \n",
      "__________________________________________________________________________________________________\n",
      "max_pooling2d_3 (MaxPooling2D)  (None, 36, 36, 64)   0           conv2d_3[0][0]                   \n",
      "__________________________________________________________________________________________________\n",
      "batch_normalization_2 (BatchNor (None, 36, 36, 64)   256         max_pooling2d_1[0][0]            \n",
      "__________________________________________________________________________________________________\n",
      "batch_normalization_6 (BatchNor (None, 36, 36, 64)   256         max_pooling2d_3[0][0]            \n",
      "__________________________________________________________________________________________________\n",
      "dropout_1 (Dropout)             (None, 36, 36, 64)   0           batch_normalization_2[0][0]      \n",
      "__________________________________________________________________________________________________\n",
      "dropout_3 (Dropout)             (None, 36, 36, 64)   0           batch_normalization_6[0][0]      \n",
      "__________________________________________________________________________________________________\n",
      "batch_normalization_3 (BatchNor (None, 36, 36, 64)   256         dropout_1[0][0]                  \n",
      "__________________________________________________________________________________________________\n",
      "batch_normalization_7 (BatchNor (None, 36, 36, 64)   256         dropout_3[0][0]                  \n",
      "__________________________________________________________________________________________________\n",
      "conv2d_2 (Conv2D)               (None, 34, 34, 64)   36928       batch_normalization_3[0][0]      \n",
      "__________________________________________________________________________________________________\n",
      "conv2d_4 (Conv2D)               (None, 34, 34, 64)   36928       batch_normalization_7[0][0]      \n",
      "__________________________________________________________________________________________________\n",
      "max_pooling2d_2 (MaxPooling2D)  (None, 17, 17, 64)   0           conv2d_2[0][0]                   \n",
      "__________________________________________________________________________________________________\n",
      "max_pooling2d_4 (MaxPooling2D)  (None, 17, 17, 64)   0           conv2d_4[0][0]                   \n",
      "__________________________________________________________________________________________________\n",
      "batch_normalization_4 (BatchNor (None, 17, 17, 64)   256         max_pooling2d_2[0][0]            \n",
      "__________________________________________________________________________________________________\n",
      "batch_normalization_8 (BatchNor (None, 17, 17, 64)   256         max_pooling2d_4[0][0]            \n",
      "__________________________________________________________________________________________________\n",
      "dropout_2 (Dropout)             (None, 17, 17, 64)   0           batch_normalization_4[0][0]      \n",
      "__________________________________________________________________________________________________\n",
      "dropout_4 (Dropout)             (None, 17, 17, 64)   0           batch_normalization_8[0][0]      \n",
      "__________________________________________________________________________________________________\n",
      "concatenate_1 (Concatenate)     (None, 17, 17, 128)  0           dropout_2[0][0]                  \n",
      "                                                                 dropout_4[0][0]                  \n",
      "__________________________________________________________________________________________________\n",
      "conv2d_5 (Conv2D)               (None, 15, 15, 128)  147584      concatenate_1[0][0]              \n",
      "__________________________________________________________________________________________________\n",
      "max_pooling2d_5 (MaxPooling2D)  (None, 7, 7, 128)    0           conv2d_5[0][0]                   \n",
      "__________________________________________________________________________________________________\n",
      "batch_normalization_9 (BatchNor (None, 7, 7, 128)    512         max_pooling2d_5[0][0]            \n",
      "__________________________________________________________________________________________________\n",
      "dropout_5 (Dropout)             (None, 7, 7, 128)    0           batch_normalization_9[0][0]      \n",
      "__________________________________________________________________________________________________\n",
      "conv2d_6 (Conv2D)               (None, 5, 5, 256)    295168      dropout_5[0][0]                  \n",
      "__________________________________________________________________________________________________\n",
      "max_pooling2d_6 (MaxPooling2D)  (None, 2, 2, 256)    0           conv2d_6[0][0]                   \n",
      "__________________________________________________________________________________________________\n",
      "batch_normalization_10 (BatchNo (None, 2, 2, 256)    1024        max_pooling2d_6[0][0]            \n",
      "__________________________________________________________________________________________________\n",
      "dropout_6 (Dropout)             (None, 2, 2, 256)    0           batch_normalization_10[0][0]     \n",
      "__________________________________________________________________________________________________\n",
      "flatten_1 (Flatten)             (None, 1024)         0           dropout_6[0][0]                  \n",
      "__________________________________________________________________________________________________\n",
      "angle_input (InputLayer)        (None, 1)            0                                            \n",
      "__________________________________________________________________________________________________\n",
      "concatenate_2 (Concatenate)     (None, 1025)         0           flatten_1[0][0]                  \n",
      "                                                                 angle_input[0][0]                \n",
      "__________________________________________________________________________________________________\n",
      "dense_1 (Dense)                 (None, 512)          525312      concatenate_2[0][0]              \n",
      "__________________________________________________________________________________________________\n",
      "batch_normalization_11 (BatchNo (None, 512)          2048        dense_1[0][0]                    \n",
      "__________________________________________________________________________________________________\n",
      "dropout_7 (Dropout)             (None, 512)          0           batch_normalization_11[0][0]     \n",
      "__________________________________________________________________________________________________\n",
      "dense_2 (Dense)                 (None, 256)          131328      dropout_7[0][0]                  \n",
      "__________________________________________________________________________________________________\n",
      "batch_normalization_12 (BatchNo (None, 256)          1024        dense_2[0][0]                    \n",
      "__________________________________________________________________________________________________\n",
      "dropout_8 (Dropout)             (None, 256)          0           batch_normalization_12[0][0]     \n",
      "__________________________________________________________________________________________________\n",
      "main_output (Dense)             (None, 1)            257         dropout_8[0][0]                  \n",
      "==================================================================================================\n",
      "Total params: 1,182,677\n",
      "Trainable params: 1,179,595\n",
      "Non-trainable params: 3,082\n",
      "__________________________________________________________________________________________________\n"
     ]
    }
   ],
   "source": [
    "model_f.summary()"
   ]
  },
  {
   "cell_type": "code",
   "execution_count": 47,
   "metadata": {
    "scrolled": true
   },
   "outputs": [
    {
     "data": {
      "image/svg+xml": [
       "<svg height=\"2089pt\" viewBox=\"0.00 0.00 690.00 2089.00\" width=\"690pt\" xmlns=\"http://www.w3.org/2000/svg\" xmlns:xlink=\"http://www.w3.org/1999/xlink\">\n",
       "<g class=\"graph\" id=\"graph0\" transform=\"scale(1 1) rotate(0) translate(4 2085)\">\n",
       "<title>G</title>\n",
       "<polygon fill=\"white\" points=\"-4,4 -4,-2085 686,-2085 686,4 -4,4\" stroke=\"none\"/>\n",
       "<!-- 140233136362440 -->\n",
       "<g class=\"node\" id=\"node1\"><title>140233136362440</title>\n",
       "<polygon fill=\"none\" points=\"73,-2044.5 73,-2080.5 259,-2080.5 259,-2044.5 73,-2044.5\" stroke=\"black\"/>\n",
       "<text font-family=\"Times,serif\" font-size=\"14.00\" text-anchor=\"middle\" x=\"166\" y=\"-2058.8\">main_input: InputLayer</text>\n",
       "</g>\n",
       "<!-- 140233137973792 -->\n",
       "<g class=\"node\" id=\"node3\"><title>140233137973792</title>\n",
       "<polygon fill=\"none\" points=\"0,-1971.5 0,-2007.5 332,-2007.5 332,-1971.5 0,-1971.5\" stroke=\"black\"/>\n",
       "<text font-family=\"Times,serif\" font-size=\"14.00\" text-anchor=\"middle\" x=\"166\" y=\"-1985.8\">batch_normalization_1: BatchNormalization</text>\n",
       "</g>\n",
       "<!-- 140233136362440&#45;&gt;140233137973792 -->\n",
       "<g class=\"edge\" id=\"edge1\"><title>140233136362440-&gt;140233137973792</title>\n",
       "<path d=\"M166,-2044.31C166,-2036.29 166,-2026.55 166,-2017.57\" fill=\"none\" stroke=\"black\"/>\n",
       "<polygon fill=\"black\" points=\"169.5,-2017.53 166,-2007.53 162.5,-2017.53 169.5,-2017.53\" stroke=\"black\"/>\n",
       "</g>\n",
       "<!-- 140233137214968 -->\n",
       "<g class=\"node\" id=\"node2\"><title>140233137214968</title>\n",
       "<polygon fill=\"none\" points=\"428,-2044.5 428,-2080.5 604,-2080.5 604,-2044.5 428,-2044.5\" stroke=\"black\"/>\n",
       "<text font-family=\"Times,serif\" font-size=\"14.00\" text-anchor=\"middle\" x=\"516\" y=\"-2058.8\">aux_input: InputLayer</text>\n",
       "</g>\n",
       "<!-- 140233498541472 -->\n",
       "<g class=\"node\" id=\"node4\"><title>140233498541472</title>\n",
       "<polygon fill=\"none\" points=\"350,-1971.5 350,-2007.5 682,-2007.5 682,-1971.5 350,-1971.5\" stroke=\"black\"/>\n",
       "<text font-family=\"Times,serif\" font-size=\"14.00\" text-anchor=\"middle\" x=\"516\" y=\"-1985.8\">batch_normalization_5: BatchNormalization</text>\n",
       "</g>\n",
       "<!-- 140233137214968&#45;&gt;140233498541472 -->\n",
       "<g class=\"edge\" id=\"edge2\"><title>140233137214968-&gt;140233498541472</title>\n",
       "<path d=\"M516,-2044.31C516,-2036.29 516,-2026.55 516,-2017.57\" fill=\"none\" stroke=\"black\"/>\n",
       "<polygon fill=\"black\" points=\"519.5,-2017.53 516,-2007.53 512.5,-2017.53 519.5,-2017.53\" stroke=\"black\"/>\n",
       "</g>\n",
       "<!-- 140233137973064 -->\n",
       "<g class=\"node\" id=\"node5\"><title>140233137973064</title>\n",
       "<polygon fill=\"none\" points=\"90.5,-1898.5 90.5,-1934.5 241.5,-1934.5 241.5,-1898.5 90.5,-1898.5\" stroke=\"black\"/>\n",
       "<text font-family=\"Times,serif\" font-size=\"14.00\" text-anchor=\"middle\" x=\"166\" y=\"-1912.8\">conv2d_1: Conv2D</text>\n",
       "</g>\n",
       "<!-- 140233137973792&#45;&gt;140233137973064 -->\n",
       "<g class=\"edge\" id=\"edge3\"><title>140233137973792-&gt;140233137973064</title>\n",
       "<path d=\"M166,-1971.31C166,-1963.29 166,-1953.55 166,-1944.57\" fill=\"none\" stroke=\"black\"/>\n",
       "<polygon fill=\"black\" points=\"169.5,-1944.53 166,-1934.53 162.5,-1944.53 169.5,-1944.53\" stroke=\"black\"/>\n",
       "</g>\n",
       "<!-- 140233497586488 -->\n",
       "<g class=\"node\" id=\"node6\"><title>140233497586488</title>\n",
       "<polygon fill=\"none\" points=\"440.5,-1898.5 440.5,-1934.5 591.5,-1934.5 591.5,-1898.5 440.5,-1898.5\" stroke=\"black\"/>\n",
       "<text font-family=\"Times,serif\" font-size=\"14.00\" text-anchor=\"middle\" x=\"516\" y=\"-1912.8\">conv2d_3: Conv2D</text>\n",
       "</g>\n",
       "<!-- 140233498541472&#45;&gt;140233497586488 -->\n",
       "<g class=\"edge\" id=\"edge4\"><title>140233498541472-&gt;140233497586488</title>\n",
       "<path d=\"M516,-1971.31C516,-1963.29 516,-1953.55 516,-1944.57\" fill=\"none\" stroke=\"black\"/>\n",
       "<polygon fill=\"black\" points=\"519.5,-1944.53 516,-1934.53 512.5,-1944.53 519.5,-1944.53\" stroke=\"black\"/>\n",
       "</g>\n",
       "<!-- 140233137908312 -->\n",
       "<g class=\"node\" id=\"node7\"><title>140233137908312</title>\n",
       "<polygon fill=\"none\" points=\"39,-1825.5 39,-1861.5 293,-1861.5 293,-1825.5 39,-1825.5\" stroke=\"black\"/>\n",
       "<text font-family=\"Times,serif\" font-size=\"14.00\" text-anchor=\"middle\" x=\"166\" y=\"-1839.8\">max_pooling2d_1: MaxPooling2D</text>\n",
       "</g>\n",
       "<!-- 140233137973064&#45;&gt;140233137908312 -->\n",
       "<g class=\"edge\" id=\"edge5\"><title>140233137973064-&gt;140233137908312</title>\n",
       "<path d=\"M166,-1898.31C166,-1890.29 166,-1880.55 166,-1871.57\" fill=\"none\" stroke=\"black\"/>\n",
       "<polygon fill=\"black\" points=\"169.5,-1871.53 166,-1861.53 162.5,-1871.53 169.5,-1871.53\" stroke=\"black\"/>\n",
       "</g>\n",
       "<!-- 140233137043216 -->\n",
       "<g class=\"node\" id=\"node8\"><title>140233137043216</title>\n",
       "<polygon fill=\"none\" points=\"389,-1825.5 389,-1861.5 643,-1861.5 643,-1825.5 389,-1825.5\" stroke=\"black\"/>\n",
       "<text font-family=\"Times,serif\" font-size=\"14.00\" text-anchor=\"middle\" x=\"516\" y=\"-1839.8\">max_pooling2d_3: MaxPooling2D</text>\n",
       "</g>\n",
       "<!-- 140233497586488&#45;&gt;140233137043216 -->\n",
       "<g class=\"edge\" id=\"edge6\"><title>140233497586488-&gt;140233137043216</title>\n",
       "<path d=\"M516,-1898.31C516,-1890.29 516,-1880.55 516,-1871.57\" fill=\"none\" stroke=\"black\"/>\n",
       "<polygon fill=\"black\" points=\"519.5,-1871.53 516,-1861.53 512.5,-1871.53 519.5,-1871.53\" stroke=\"black\"/>\n",
       "</g>\n",
       "<!-- 140233500371656 -->\n",
       "<g class=\"node\" id=\"node9\"><title>140233500371656</title>\n",
       "<polygon fill=\"none\" points=\"0,-1752.5 0,-1788.5 332,-1788.5 332,-1752.5 0,-1752.5\" stroke=\"black\"/>\n",
       "<text font-family=\"Times,serif\" font-size=\"14.00\" text-anchor=\"middle\" x=\"166\" y=\"-1766.8\">batch_normalization_2: BatchNormalization</text>\n",
       "</g>\n",
       "<!-- 140233137908312&#45;&gt;140233500371656 -->\n",
       "<g class=\"edge\" id=\"edge7\"><title>140233137908312-&gt;140233500371656</title>\n",
       "<path d=\"M166,-1825.31C166,-1817.29 166,-1807.55 166,-1798.57\" fill=\"none\" stroke=\"black\"/>\n",
       "<polygon fill=\"black\" points=\"169.5,-1798.53 166,-1788.53 162.5,-1798.53 169.5,-1798.53\" stroke=\"black\"/>\n",
       "</g>\n",
       "<!-- 140233136362328 -->\n",
       "<g class=\"node\" id=\"node10\"><title>140233136362328</title>\n",
       "<polygon fill=\"none\" points=\"350,-1752.5 350,-1788.5 682,-1788.5 682,-1752.5 350,-1752.5\" stroke=\"black\"/>\n",
       "<text font-family=\"Times,serif\" font-size=\"14.00\" text-anchor=\"middle\" x=\"516\" y=\"-1766.8\">batch_normalization_6: BatchNormalization</text>\n",
       "</g>\n",
       "<!-- 140233137043216&#45;&gt;140233136362328 -->\n",
       "<g class=\"edge\" id=\"edge8\"><title>140233137043216-&gt;140233136362328</title>\n",
       "<path d=\"M516,-1825.31C516,-1817.29 516,-1807.55 516,-1798.57\" fill=\"none\" stroke=\"black\"/>\n",
       "<polygon fill=\"black\" points=\"519.5,-1798.53 516,-1788.53 512.5,-1798.53 519.5,-1798.53\" stroke=\"black\"/>\n",
       "</g>\n",
       "<!-- 140233500328288 -->\n",
       "<g class=\"node\" id=\"node11\"><title>140233500328288</title>\n",
       "<polygon fill=\"none\" points=\"87.5,-1679.5 87.5,-1715.5 244.5,-1715.5 244.5,-1679.5 87.5,-1679.5\" stroke=\"black\"/>\n",
       "<text font-family=\"Times,serif\" font-size=\"14.00\" text-anchor=\"middle\" x=\"166\" y=\"-1693.8\">dropout_1: Dropout</text>\n",
       "</g>\n",
       "<!-- 140233500371656&#45;&gt;140233500328288 -->\n",
       "<g class=\"edge\" id=\"edge9\"><title>140233500371656-&gt;140233500328288</title>\n",
       "<path d=\"M166,-1752.31C166,-1744.29 166,-1734.55 166,-1725.57\" fill=\"none\" stroke=\"black\"/>\n",
       "<polygon fill=\"black\" points=\"169.5,-1725.53 166,-1715.53 162.5,-1725.53 169.5,-1725.53\" stroke=\"black\"/>\n",
       "</g>\n",
       "<!-- 140233136364624 -->\n",
       "<g class=\"node\" id=\"node12\"><title>140233136364624</title>\n",
       "<polygon fill=\"none\" points=\"437.5,-1679.5 437.5,-1715.5 594.5,-1715.5 594.5,-1679.5 437.5,-1679.5\" stroke=\"black\"/>\n",
       "<text font-family=\"Times,serif\" font-size=\"14.00\" text-anchor=\"middle\" x=\"516\" y=\"-1693.8\">dropout_3: Dropout</text>\n",
       "</g>\n",
       "<!-- 140233136362328&#45;&gt;140233136364624 -->\n",
       "<g class=\"edge\" id=\"edge10\"><title>140233136362328-&gt;140233136364624</title>\n",
       "<path d=\"M516,-1752.31C516,-1744.29 516,-1734.55 516,-1725.57\" fill=\"none\" stroke=\"black\"/>\n",
       "<polygon fill=\"black\" points=\"519.5,-1725.53 516,-1715.53 512.5,-1725.53 519.5,-1725.53\" stroke=\"black\"/>\n",
       "</g>\n",
       "<!-- 140233136587552 -->\n",
       "<g class=\"node\" id=\"node13\"><title>140233136587552</title>\n",
       "<polygon fill=\"none\" points=\"0,-1606.5 0,-1642.5 332,-1642.5 332,-1606.5 0,-1606.5\" stroke=\"black\"/>\n",
       "<text font-family=\"Times,serif\" font-size=\"14.00\" text-anchor=\"middle\" x=\"166\" y=\"-1620.8\">batch_normalization_3: BatchNormalization</text>\n",
       "</g>\n",
       "<!-- 140233500328288&#45;&gt;140233136587552 -->\n",
       "<g class=\"edge\" id=\"edge11\"><title>140233500328288-&gt;140233136587552</title>\n",
       "<path d=\"M166,-1679.31C166,-1671.29 166,-1661.55 166,-1652.57\" fill=\"none\" stroke=\"black\"/>\n",
       "<polygon fill=\"black\" points=\"169.5,-1652.53 166,-1642.53 162.5,-1652.53 169.5,-1652.53\" stroke=\"black\"/>\n",
       "</g>\n",
       "<!-- 140233139714536 -->\n",
       "<g class=\"node\" id=\"node14\"><title>140233139714536</title>\n",
       "<polygon fill=\"none\" points=\"350,-1606.5 350,-1642.5 682,-1642.5 682,-1606.5 350,-1606.5\" stroke=\"black\"/>\n",
       "<text font-family=\"Times,serif\" font-size=\"14.00\" text-anchor=\"middle\" x=\"516\" y=\"-1620.8\">batch_normalization_7: BatchNormalization</text>\n",
       "</g>\n",
       "<!-- 140233136364624&#45;&gt;140233139714536 -->\n",
       "<g class=\"edge\" id=\"edge12\"><title>140233136364624-&gt;140233139714536</title>\n",
       "<path d=\"M516,-1679.31C516,-1671.29 516,-1661.55 516,-1652.57\" fill=\"none\" stroke=\"black\"/>\n",
       "<polygon fill=\"black\" points=\"519.5,-1652.53 516,-1642.53 512.5,-1652.53 519.5,-1652.53\" stroke=\"black\"/>\n",
       "</g>\n",
       "<!-- 140233136507760 -->\n",
       "<g class=\"node\" id=\"node15\"><title>140233136507760</title>\n",
       "<polygon fill=\"none\" points=\"90.5,-1533.5 90.5,-1569.5 241.5,-1569.5 241.5,-1533.5 90.5,-1533.5\" stroke=\"black\"/>\n",
       "<text font-family=\"Times,serif\" font-size=\"14.00\" text-anchor=\"middle\" x=\"166\" y=\"-1547.8\">conv2d_2: Conv2D</text>\n",
       "</g>\n",
       "<!-- 140233136587552&#45;&gt;140233136507760 -->\n",
       "<g class=\"edge\" id=\"edge13\"><title>140233136587552-&gt;140233136507760</title>\n",
       "<path d=\"M166,-1606.31C166,-1598.29 166,-1588.55 166,-1579.57\" fill=\"none\" stroke=\"black\"/>\n",
       "<polygon fill=\"black\" points=\"169.5,-1579.53 166,-1569.53 162.5,-1579.53 169.5,-1579.53\" stroke=\"black\"/>\n",
       "</g>\n",
       "<!-- 140233139622240 -->\n",
       "<g class=\"node\" id=\"node16\"><title>140233139622240</title>\n",
       "<polygon fill=\"none\" points=\"440.5,-1533.5 440.5,-1569.5 591.5,-1569.5 591.5,-1533.5 440.5,-1533.5\" stroke=\"black\"/>\n",
       "<text font-family=\"Times,serif\" font-size=\"14.00\" text-anchor=\"middle\" x=\"516\" y=\"-1547.8\">conv2d_4: Conv2D</text>\n",
       "</g>\n",
       "<!-- 140233139714536&#45;&gt;140233139622240 -->\n",
       "<g class=\"edge\" id=\"edge14\"><title>140233139714536-&gt;140233139622240</title>\n",
       "<path d=\"M516,-1606.31C516,-1598.29 516,-1588.55 516,-1579.57\" fill=\"none\" stroke=\"black\"/>\n",
       "<polygon fill=\"black\" points=\"519.5,-1579.53 516,-1569.53 512.5,-1579.53 519.5,-1579.53\" stroke=\"black\"/>\n",
       "</g>\n",
       "<!-- 140233137290992 -->\n",
       "<g class=\"node\" id=\"node17\"><title>140233137290992</title>\n",
       "<polygon fill=\"none\" points=\"39,-1460.5 39,-1496.5 293,-1496.5 293,-1460.5 39,-1460.5\" stroke=\"black\"/>\n",
       "<text font-family=\"Times,serif\" font-size=\"14.00\" text-anchor=\"middle\" x=\"166\" y=\"-1474.8\">max_pooling2d_2: MaxPooling2D</text>\n",
       "</g>\n",
       "<!-- 140233136507760&#45;&gt;140233137290992 -->\n",
       "<g class=\"edge\" id=\"edge15\"><title>140233136507760-&gt;140233137290992</title>\n",
       "<path d=\"M166,-1533.31C166,-1525.29 166,-1515.55 166,-1506.57\" fill=\"none\" stroke=\"black\"/>\n",
       "<polygon fill=\"black\" points=\"169.5,-1506.53 166,-1496.53 162.5,-1506.53 169.5,-1506.53\" stroke=\"black\"/>\n",
       "</g>\n",
       "<!-- 140233499023064 -->\n",
       "<g class=\"node\" id=\"node18\"><title>140233499023064</title>\n",
       "<polygon fill=\"none\" points=\"389,-1460.5 389,-1496.5 643,-1496.5 643,-1460.5 389,-1460.5\" stroke=\"black\"/>\n",
       "<text font-family=\"Times,serif\" font-size=\"14.00\" text-anchor=\"middle\" x=\"516\" y=\"-1474.8\">max_pooling2d_4: MaxPooling2D</text>\n",
       "</g>\n",
       "<!-- 140233139622240&#45;&gt;140233499023064 -->\n",
       "<g class=\"edge\" id=\"edge16\"><title>140233139622240-&gt;140233499023064</title>\n",
       "<path d=\"M516,-1533.31C516,-1525.29 516,-1515.55 516,-1506.57\" fill=\"none\" stroke=\"black\"/>\n",
       "<polygon fill=\"black\" points=\"519.5,-1506.53 516,-1496.53 512.5,-1506.53 519.5,-1506.53\" stroke=\"black\"/>\n",
       "</g>\n",
       "<!-- 140233497554840 -->\n",
       "<g class=\"node\" id=\"node19\"><title>140233497554840</title>\n",
       "<polygon fill=\"none\" points=\"0,-1387.5 0,-1423.5 332,-1423.5 332,-1387.5 0,-1387.5\" stroke=\"black\"/>\n",
       "<text font-family=\"Times,serif\" font-size=\"14.00\" text-anchor=\"middle\" x=\"166\" y=\"-1401.8\">batch_normalization_4: BatchNormalization</text>\n",
       "</g>\n",
       "<!-- 140233137290992&#45;&gt;140233497554840 -->\n",
       "<g class=\"edge\" id=\"edge17\"><title>140233137290992-&gt;140233497554840</title>\n",
       "<path d=\"M166,-1460.31C166,-1452.29 166,-1442.55 166,-1433.57\" fill=\"none\" stroke=\"black\"/>\n",
       "<polygon fill=\"black\" points=\"169.5,-1433.53 166,-1423.53 162.5,-1433.53 169.5,-1433.53\" stroke=\"black\"/>\n",
       "</g>\n",
       "<!-- 140233498999720 -->\n",
       "<g class=\"node\" id=\"node20\"><title>140233498999720</title>\n",
       "<polygon fill=\"none\" points=\"350,-1387.5 350,-1423.5 682,-1423.5 682,-1387.5 350,-1387.5\" stroke=\"black\"/>\n",
       "<text font-family=\"Times,serif\" font-size=\"14.00\" text-anchor=\"middle\" x=\"516\" y=\"-1401.8\">batch_normalization_8: BatchNormalization</text>\n",
       "</g>\n",
       "<!-- 140233499023064&#45;&gt;140233498999720 -->\n",
       "<g class=\"edge\" id=\"edge18\"><title>140233499023064-&gt;140233498999720</title>\n",
       "<path d=\"M516,-1460.31C516,-1452.29 516,-1442.55 516,-1433.57\" fill=\"none\" stroke=\"black\"/>\n",
       "<polygon fill=\"black\" points=\"519.5,-1433.53 516,-1423.53 512.5,-1433.53 519.5,-1433.53\" stroke=\"black\"/>\n",
       "</g>\n",
       "<!-- 140233497554280 -->\n",
       "<g class=\"node\" id=\"node21\"><title>140233497554280</title>\n",
       "<polygon fill=\"none\" points=\"174.5,-1314.5 174.5,-1350.5 331.5,-1350.5 331.5,-1314.5 174.5,-1314.5\" stroke=\"black\"/>\n",
       "<text font-family=\"Times,serif\" font-size=\"14.00\" text-anchor=\"middle\" x=\"253\" y=\"-1328.8\">dropout_2: Dropout</text>\n",
       "</g>\n",
       "<!-- 140233497554840&#45;&gt;140233497554280 -->\n",
       "<g class=\"edge\" id=\"edge19\"><title>140233497554840-&gt;140233497554280</title>\n",
       "<path d=\"M187.06,-1387.31C198.174,-1378.24 211.979,-1366.98 224.081,-1357.1\" fill=\"none\" stroke=\"black\"/>\n",
       "<polygon fill=\"black\" points=\"226.599,-1359.56 232.134,-1350.53 222.173,-1354.14 226.599,-1359.56\" stroke=\"black\"/>\n",
       "</g>\n",
       "<!-- 140233498998992 -->\n",
       "<g class=\"node\" id=\"node22\"><title>140233498998992</title>\n",
       "<polygon fill=\"none\" points=\"393.5,-1314.5 393.5,-1350.5 550.5,-1350.5 550.5,-1314.5 393.5,-1314.5\" stroke=\"black\"/>\n",
       "<text font-family=\"Times,serif\" font-size=\"14.00\" text-anchor=\"middle\" x=\"472\" y=\"-1328.8\">dropout_4: Dropout</text>\n",
       "</g>\n",
       "<!-- 140233498999720&#45;&gt;140233498998992 -->\n",
       "<g class=\"edge\" id=\"edge20\"><title>140233498999720-&gt;140233498998992</title>\n",
       "<path d=\"M505.349,-1387.31C500.106,-1378.85 493.68,-1368.48 487.873,-1359.11\" fill=\"none\" stroke=\"black\"/>\n",
       "<polygon fill=\"black\" points=\"490.796,-1357.19 482.553,-1350.53 484.846,-1360.87 490.796,-1357.19\" stroke=\"black\"/>\n",
       "</g>\n",
       "<!-- 140237495986048 -->\n",
       "<g class=\"node\" id=\"node23\"><title>140237495986048</title>\n",
       "<polygon fill=\"none\" points=\"251.5,-1241.5 251.5,-1277.5 472.5,-1277.5 472.5,-1241.5 251.5,-1241.5\" stroke=\"black\"/>\n",
       "<text font-family=\"Times,serif\" font-size=\"14.00\" text-anchor=\"middle\" x=\"362\" y=\"-1255.8\">concatenate_1: Concatenate</text>\n",
       "</g>\n",
       "<!-- 140233497554280&#45;&gt;140237495986048 -->\n",
       "<g class=\"edge\" id=\"edge21\"><title>140233497554280-&gt;140237495986048</title>\n",
       "<path d=\"M279.108,-1314.49C293.563,-1305.08 311.713,-1293.26 327.343,-1283.07\" fill=\"none\" stroke=\"black\"/>\n",
       "<polygon fill=\"black\" points=\"329.258,-1286 335.727,-1277.61 325.438,-1280.14 329.258,-1286\" stroke=\"black\"/>\n",
       "</g>\n",
       "<!-- 140233498998992&#45;&gt;140237495986048 -->\n",
       "<g class=\"edge\" id=\"edge22\"><title>140233498998992-&gt;140237495986048</title>\n",
       "<path d=\"M445.652,-1314.49C431.065,-1305.08 412.748,-1293.26 396.975,-1283.07\" fill=\"none\" stroke=\"black\"/>\n",
       "<polygon fill=\"black\" points=\"398.814,-1280.1 388.514,-1277.61 395.018,-1285.98 398.814,-1280.1\" stroke=\"black\"/>\n",
       "</g>\n",
       "<!-- 140233137821232 -->\n",
       "<g class=\"node\" id=\"node24\"><title>140233137821232</title>\n",
       "<polygon fill=\"none\" points=\"286.5,-1168.5 286.5,-1204.5 437.5,-1204.5 437.5,-1168.5 286.5,-1168.5\" stroke=\"black\"/>\n",
       "<text font-family=\"Times,serif\" font-size=\"14.00\" text-anchor=\"middle\" x=\"362\" y=\"-1182.8\">conv2d_5: Conv2D</text>\n",
       "</g>\n",
       "<!-- 140237495986048&#45;&gt;140233137821232 -->\n",
       "<g class=\"edge\" id=\"edge23\"><title>140237495986048-&gt;140233137821232</title>\n",
       "<path d=\"M362,-1241.31C362,-1233.29 362,-1223.55 362,-1214.57\" fill=\"none\" stroke=\"black\"/>\n",
       "<polygon fill=\"black\" points=\"365.5,-1214.53 362,-1204.53 358.5,-1214.53 365.5,-1214.53\" stroke=\"black\"/>\n",
       "</g>\n",
       "<!-- 140233137821680 -->\n",
       "<g class=\"node\" id=\"node25\"><title>140233137821680</title>\n",
       "<polygon fill=\"none\" points=\"235,-1095.5 235,-1131.5 489,-1131.5 489,-1095.5 235,-1095.5\" stroke=\"black\"/>\n",
       "<text font-family=\"Times,serif\" font-size=\"14.00\" text-anchor=\"middle\" x=\"362\" y=\"-1109.8\">max_pooling2d_5: MaxPooling2D</text>\n",
       "</g>\n",
       "<!-- 140233137821232&#45;&gt;140233137821680 -->\n",
       "<g class=\"edge\" id=\"edge24\"><title>140233137821232-&gt;140233137821680</title>\n",
       "<path d=\"M362,-1168.31C362,-1160.29 362,-1150.55 362,-1141.57\" fill=\"none\" stroke=\"black\"/>\n",
       "<polygon fill=\"black\" points=\"365.5,-1141.53 362,-1131.53 358.5,-1141.53 365.5,-1141.53\" stroke=\"black\"/>\n",
       "</g>\n",
       "<!-- 140233494968976 -->\n",
       "<g class=\"node\" id=\"node26\"><title>140233494968976</title>\n",
       "<polygon fill=\"none\" points=\"196,-1022.5 196,-1058.5 528,-1058.5 528,-1022.5 196,-1022.5\" stroke=\"black\"/>\n",
       "<text font-family=\"Times,serif\" font-size=\"14.00\" text-anchor=\"middle\" x=\"362\" y=\"-1036.8\">batch_normalization_9: BatchNormalization</text>\n",
       "</g>\n",
       "<!-- 140233137821680&#45;&gt;140233494968976 -->\n",
       "<g class=\"edge\" id=\"edge25\"><title>140233137821680-&gt;140233494968976</title>\n",
       "<path d=\"M362,-1095.31C362,-1087.29 362,-1077.55 362,-1068.57\" fill=\"none\" stroke=\"black\"/>\n",
       "<polygon fill=\"black\" points=\"365.5,-1068.53 362,-1058.53 358.5,-1068.53 365.5,-1068.53\" stroke=\"black\"/>\n",
       "</g>\n",
       "<!-- 140233494575032 -->\n",
       "<g class=\"node\" id=\"node27\"><title>140233494575032</title>\n",
       "<polygon fill=\"none\" points=\"283.5,-949.5 283.5,-985.5 440.5,-985.5 440.5,-949.5 283.5,-949.5\" stroke=\"black\"/>\n",
       "<text font-family=\"Times,serif\" font-size=\"14.00\" text-anchor=\"middle\" x=\"362\" y=\"-963.8\">dropout_5: Dropout</text>\n",
       "</g>\n",
       "<!-- 140233494968976&#45;&gt;140233494575032 -->\n",
       "<g class=\"edge\" id=\"edge26\"><title>140233494968976-&gt;140233494575032</title>\n",
       "<path d=\"M362,-1022.31C362,-1014.29 362,-1004.55 362,-995.569\" fill=\"none\" stroke=\"black\"/>\n",
       "<polygon fill=\"black\" points=\"365.5,-995.529 362,-985.529 358.5,-995.529 365.5,-995.529\" stroke=\"black\"/>\n",
       "</g>\n",
       "<!-- 140233495153576 -->\n",
       "<g class=\"node\" id=\"node28\"><title>140233495153576</title>\n",
       "<polygon fill=\"none\" points=\"286.5,-876.5 286.5,-912.5 437.5,-912.5 437.5,-876.5 286.5,-876.5\" stroke=\"black\"/>\n",
       "<text font-family=\"Times,serif\" font-size=\"14.00\" text-anchor=\"middle\" x=\"362\" y=\"-890.8\">conv2d_6: Conv2D</text>\n",
       "</g>\n",
       "<!-- 140233494575032&#45;&gt;140233495153576 -->\n",
       "<g class=\"edge\" id=\"edge27\"><title>140233494575032-&gt;140233495153576</title>\n",
       "<path d=\"M362,-949.313C362,-941.289 362,-931.547 362,-922.569\" fill=\"none\" stroke=\"black\"/>\n",
       "<polygon fill=\"black\" points=\"365.5,-922.529 362,-912.529 358.5,-922.529 365.5,-922.529\" stroke=\"black\"/>\n",
       "</g>\n",
       "<!-- 140233138959584 -->\n",
       "<g class=\"node\" id=\"node29\"><title>140233138959584</title>\n",
       "<polygon fill=\"none\" points=\"235,-803.5 235,-839.5 489,-839.5 489,-803.5 235,-803.5\" stroke=\"black\"/>\n",
       "<text font-family=\"Times,serif\" font-size=\"14.00\" text-anchor=\"middle\" x=\"362\" y=\"-817.8\">max_pooling2d_6: MaxPooling2D</text>\n",
       "</g>\n",
       "<!-- 140233495153576&#45;&gt;140233138959584 -->\n",
       "<g class=\"edge\" id=\"edge28\"><title>140233495153576-&gt;140233138959584</title>\n",
       "<path d=\"M362,-876.313C362,-868.289 362,-858.547 362,-849.569\" fill=\"none\" stroke=\"black\"/>\n",
       "<polygon fill=\"black\" points=\"365.5,-849.529 362,-839.529 358.5,-849.529 365.5,-849.529\" stroke=\"black\"/>\n",
       "</g>\n",
       "<!-- 140233139495880 -->\n",
       "<g class=\"node\" id=\"node30\"><title>140233139495880</title>\n",
       "<polygon fill=\"none\" points=\"191.5,-730.5 191.5,-766.5 532.5,-766.5 532.5,-730.5 191.5,-730.5\" stroke=\"black\"/>\n",
       "<text font-family=\"Times,serif\" font-size=\"14.00\" text-anchor=\"middle\" x=\"362\" y=\"-744.8\">batch_normalization_10: BatchNormalization</text>\n",
       "</g>\n",
       "<!-- 140233138959584&#45;&gt;140233139495880 -->\n",
       "<g class=\"edge\" id=\"edge29\"><title>140233138959584-&gt;140233139495880</title>\n",
       "<path d=\"M362,-803.313C362,-795.289 362,-785.547 362,-776.569\" fill=\"none\" stroke=\"black\"/>\n",
       "<polygon fill=\"black\" points=\"365.5,-776.529 362,-766.529 358.5,-776.529 365.5,-776.529\" stroke=\"black\"/>\n",
       "</g>\n",
       "<!-- 140233139498344 -->\n",
       "<g class=\"node\" id=\"node31\"><title>140233139498344</title>\n",
       "<polygon fill=\"none\" points=\"283.5,-657.5 283.5,-693.5 440.5,-693.5 440.5,-657.5 283.5,-657.5\" stroke=\"black\"/>\n",
       "<text font-family=\"Times,serif\" font-size=\"14.00\" text-anchor=\"middle\" x=\"362\" y=\"-671.8\">dropout_6: Dropout</text>\n",
       "</g>\n",
       "<!-- 140233139495880&#45;&gt;140233139498344 -->\n",
       "<g class=\"edge\" id=\"edge30\"><title>140233139495880-&gt;140233139498344</title>\n",
       "<path d=\"M362,-730.313C362,-722.289 362,-712.547 362,-703.569\" fill=\"none\" stroke=\"black\"/>\n",
       "<polygon fill=\"black\" points=\"365.5,-703.529 362,-693.529 358.5,-703.529 365.5,-703.529\" stroke=\"black\"/>\n",
       "</g>\n",
       "<!-- 140233136819896 -->\n",
       "<g class=\"node\" id=\"node32\"><title>140233136819896</title>\n",
       "<polygon fill=\"none\" points=\"291.5,-584.5 291.5,-620.5 432.5,-620.5 432.5,-584.5 291.5,-584.5\" stroke=\"black\"/>\n",
       "<text font-family=\"Times,serif\" font-size=\"14.00\" text-anchor=\"middle\" x=\"362\" y=\"-598.8\">flatten_1: Flatten</text>\n",
       "</g>\n",
       "<!-- 140233139498344&#45;&gt;140233136819896 -->\n",
       "<g class=\"edge\" id=\"edge31\"><title>140233139498344-&gt;140233136819896</title>\n",
       "<path d=\"M362,-657.313C362,-649.289 362,-639.547 362,-630.569\" fill=\"none\" stroke=\"black\"/>\n",
       "<polygon fill=\"black\" points=\"365.5,-630.529 362,-620.529 358.5,-630.529 365.5,-630.529\" stroke=\"black\"/>\n",
       "</g>\n",
       "<!-- 140237972492808 -->\n",
       "<g class=\"node\" id=\"node34\"><title>140237972492808</title>\n",
       "<polygon fill=\"none\" points=\"343.5,-511.5 343.5,-547.5 564.5,-547.5 564.5,-511.5 343.5,-511.5\" stroke=\"black\"/>\n",
       "<text font-family=\"Times,serif\" font-size=\"14.00\" text-anchor=\"middle\" x=\"454\" y=\"-525.8\">concatenate_2: Concatenate</text>\n",
       "</g>\n",
       "<!-- 140233136819896&#45;&gt;140237972492808 -->\n",
       "<g class=\"edge\" id=\"edge32\"><title>140233136819896-&gt;140237972492808</title>\n",
       "<path d=\"M384.271,-584.313C396.136,-575.156 410.903,-563.76 423.788,-553.816\" fill=\"none\" stroke=\"black\"/>\n",
       "<polygon fill=\"black\" points=\"426.156,-556.409 431.934,-547.529 421.879,-550.868 426.156,-556.409\" stroke=\"black\"/>\n",
       "</g>\n",
       "<!-- 140233137772584 -->\n",
       "<g class=\"node\" id=\"node33\"><title>140233137772584</title>\n",
       "<polygon fill=\"none\" points=\"451,-584.5 451,-620.5 641,-620.5 641,-584.5 451,-584.5\" stroke=\"black\"/>\n",
       "<text font-family=\"Times,serif\" font-size=\"14.00\" text-anchor=\"middle\" x=\"546\" y=\"-598.8\">angle_input: InputLayer</text>\n",
       "</g>\n",
       "<!-- 140233137772584&#45;&gt;140237972492808 -->\n",
       "<g class=\"edge\" id=\"edge33\"><title>140233137772584-&gt;140237972492808</title>\n",
       "<path d=\"M523.729,-584.313C511.864,-575.156 497.097,-563.76 484.212,-553.816\" fill=\"none\" stroke=\"black\"/>\n",
       "<polygon fill=\"black\" points=\"486.121,-550.868 476.066,-547.529 481.844,-556.409 486.121,-550.868\" stroke=\"black\"/>\n",
       "</g>\n",
       "<!-- 140233759466720 -->\n",
       "<g class=\"node\" id=\"node35\"><title>140233759466720</title>\n",
       "<polygon fill=\"none\" points=\"390,-438.5 390,-474.5 518,-474.5 518,-438.5 390,-438.5\" stroke=\"black\"/>\n",
       "<text font-family=\"Times,serif\" font-size=\"14.00\" text-anchor=\"middle\" x=\"454\" y=\"-452.8\">dense_1: Dense</text>\n",
       "</g>\n",
       "<!-- 140237972492808&#45;&gt;140233759466720 -->\n",
       "<g class=\"edge\" id=\"edge34\"><title>140237972492808-&gt;140233759466720</title>\n",
       "<path d=\"M454,-511.313C454,-503.289 454,-493.547 454,-484.569\" fill=\"none\" stroke=\"black\"/>\n",
       "<polygon fill=\"black\" points=\"457.5,-484.529 454,-474.529 450.5,-484.529 457.5,-484.529\" stroke=\"black\"/>\n",
       "</g>\n",
       "<!-- 140233136978128 -->\n",
       "<g class=\"node\" id=\"node36\"><title>140233136978128</title>\n",
       "<polygon fill=\"none\" points=\"283.5,-365.5 283.5,-401.5 624.5,-401.5 624.5,-365.5 283.5,-365.5\" stroke=\"black\"/>\n",
       "<text font-family=\"Times,serif\" font-size=\"14.00\" text-anchor=\"middle\" x=\"454\" y=\"-379.8\">batch_normalization_11: BatchNormalization</text>\n",
       "</g>\n",
       "<!-- 140233759466720&#45;&gt;140233136978128 -->\n",
       "<g class=\"edge\" id=\"edge35\"><title>140233759466720-&gt;140233136978128</title>\n",
       "<path d=\"M454,-438.313C454,-430.289 454,-420.547 454,-411.569\" fill=\"none\" stroke=\"black\"/>\n",
       "<polygon fill=\"black\" points=\"457.5,-411.529 454,-401.529 450.5,-411.529 457.5,-411.529\" stroke=\"black\"/>\n",
       "</g>\n",
       "<!-- 140232249782848 -->\n",
       "<g class=\"node\" id=\"node37\"><title>140232249782848</title>\n",
       "<polygon fill=\"none\" points=\"375.5,-292.5 375.5,-328.5 532.5,-328.5 532.5,-292.5 375.5,-292.5\" stroke=\"black\"/>\n",
       "<text font-family=\"Times,serif\" font-size=\"14.00\" text-anchor=\"middle\" x=\"454\" y=\"-306.8\">dropout_7: Dropout</text>\n",
       "</g>\n",
       "<!-- 140233136978128&#45;&gt;140232249782848 -->\n",
       "<g class=\"edge\" id=\"edge36\"><title>140233136978128-&gt;140232249782848</title>\n",
       "<path d=\"M454,-365.313C454,-357.289 454,-347.547 454,-338.569\" fill=\"none\" stroke=\"black\"/>\n",
       "<polygon fill=\"black\" points=\"457.5,-338.529 454,-328.529 450.5,-338.529 457.5,-338.529\" stroke=\"black\"/>\n",
       "</g>\n",
       "<!-- 140233136828880 -->\n",
       "<g class=\"node\" id=\"node38\"><title>140233136828880</title>\n",
       "<polygon fill=\"none\" points=\"390,-219.5 390,-255.5 518,-255.5 518,-219.5 390,-219.5\" stroke=\"black\"/>\n",
       "<text font-family=\"Times,serif\" font-size=\"14.00\" text-anchor=\"middle\" x=\"454\" y=\"-233.8\">dense_2: Dense</text>\n",
       "</g>\n",
       "<!-- 140232249782848&#45;&gt;140233136828880 -->\n",
       "<g class=\"edge\" id=\"edge37\"><title>140232249782848-&gt;140233136828880</title>\n",
       "<path d=\"M454,-292.313C454,-284.289 454,-274.547 454,-265.569\" fill=\"none\" stroke=\"black\"/>\n",
       "<polygon fill=\"black\" points=\"457.5,-265.529 454,-255.529 450.5,-265.529 457.5,-265.529\" stroke=\"black\"/>\n",
       "</g>\n",
       "<!-- 140233137907696 -->\n",
       "<g class=\"node\" id=\"node39\"><title>140233137907696</title>\n",
       "<polygon fill=\"none\" points=\"283.5,-146.5 283.5,-182.5 624.5,-182.5 624.5,-146.5 283.5,-146.5\" stroke=\"black\"/>\n",
       "<text font-family=\"Times,serif\" font-size=\"14.00\" text-anchor=\"middle\" x=\"454\" y=\"-160.8\">batch_normalization_12: BatchNormalization</text>\n",
       "</g>\n",
       "<!-- 140233136828880&#45;&gt;140233137907696 -->\n",
       "<g class=\"edge\" id=\"edge38\"><title>140233136828880-&gt;140233137907696</title>\n",
       "<path d=\"M454,-219.313C454,-211.289 454,-201.547 454,-192.569\" fill=\"none\" stroke=\"black\"/>\n",
       "<polygon fill=\"black\" points=\"457.5,-192.529 454,-182.529 450.5,-192.529 457.5,-192.529\" stroke=\"black\"/>\n",
       "</g>\n",
       "<!-- 140233581182256 -->\n",
       "<g class=\"node\" id=\"node40\"><title>140233581182256</title>\n",
       "<polygon fill=\"none\" points=\"375.5,-73.5 375.5,-109.5 532.5,-109.5 532.5,-73.5 375.5,-73.5\" stroke=\"black\"/>\n",
       "<text font-family=\"Times,serif\" font-size=\"14.00\" text-anchor=\"middle\" x=\"454\" y=\"-87.8\">dropout_8: Dropout</text>\n",
       "</g>\n",
       "<!-- 140233137907696&#45;&gt;140233581182256 -->\n",
       "<g class=\"edge\" id=\"edge39\"><title>140233137907696-&gt;140233581182256</title>\n",
       "<path d=\"M454,-146.313C454,-138.289 454,-128.547 454,-119.569\" fill=\"none\" stroke=\"black\"/>\n",
       "<polygon fill=\"black\" points=\"457.5,-119.529 454,-109.529 450.5,-119.529 457.5,-119.529\" stroke=\"black\"/>\n",
       "</g>\n",
       "<!-- 140233494914160 -->\n",
       "<g class=\"node\" id=\"node41\"><title>140233494914160</title>\n",
       "<polygon fill=\"none\" points=\"374,-0.5 374,-36.5 534,-36.5 534,-0.5 374,-0.5\" stroke=\"black\"/>\n",
       "<text font-family=\"Times,serif\" font-size=\"14.00\" text-anchor=\"middle\" x=\"454\" y=\"-14.8\">main_output: Dense</text>\n",
       "</g>\n",
       "<!-- 140233581182256&#45;&gt;140233494914160 -->\n",
       "<g class=\"edge\" id=\"edge40\"><title>140233581182256-&gt;140233494914160</title>\n",
       "<path d=\"M454,-73.3129C454,-65.2895 454,-55.5475 454,-46.5691\" fill=\"none\" stroke=\"black\"/>\n",
       "<polygon fill=\"black\" points=\"457.5,-46.5288 454,-36.5288 450.5,-46.5289 457.5,-46.5288\" stroke=\"black\"/>\n",
       "</g>\n",
       "</g>\n",
       "</svg>"
      ],
      "text/plain": [
       "<IPython.core.display.SVG object>"
      ]
     },
     "execution_count": 47,
     "metadata": {},
     "output_type": "execute_result"
    }
   ],
   "source": [
    "from IPython.display import SVG\n",
    "from keras.utils.vis_utils import model_to_dot\n",
    "#import os\n",
    "#os.environ[\"PATH\"] += os.pathsep + 'd:/Anaconda3/Library/bin/graphviz/'\n",
    "SVG(model_to_dot(model_f).create(prog='dot', format='svg'))"
   ]
  },
  {
   "cell_type": "markdown",
   "metadata": {},
   "source": [
    "### Model Training"
   ]
  },
  {
   "cell_type": "code",
   "execution_count": 48,
   "metadata": {
    "collapsed": true
   },
   "outputs": [],
   "source": [
    "#name init\n",
    "model_timestamp = str(datetime.datetime.now().strftime(\"%Y_%m_%d_%H_%M_%S\"))\n",
    "model_best_weights_path = model_path + \"weights.\" + model_code + \"_\" + model_timestamp + \".hdf5\"\n",
    "#lScheduler = LScheduler(initial_lrate=0.001, drop=0.66, patience=7)\n",
    "modelEnsemble = ModelHistory(listSize=101)\n",
    "lScheduler = CyclicLR(base_lr=0.001, max_lr=0.003,\n",
    "                                 step_size=60, mode='triangular3', beta=0.22, theta=0.11)\n",
    "callbacks = get_callbacks(filepath=model_best_weights_path, save_to_disc=False, lScheduler=lScheduler,\n",
    "                          modelHistoryCallback=modelEnsemble)"
   ]
  },
  {
   "cell_type": "code",
   "execution_count": 49,
   "metadata": {
    "scrolled": false
   },
   "outputs": [
    {
     "data": {
      "application/vnd.jupyter.widget-view+json": {
       "model_id": "0ab110b9e4de424d97ccfae83292a628",
       "version_major": 2,
       "version_minor": 0
      },
      "text/plain": [
       "A Jupyter Widget"
      ]
     },
     "metadata": {},
     "output_type": "display_data"
    },
    {
     "data": {
      "application/vnd.jupyter.widget-view+json": {
       "model_id": "2dc9a90b569a4c2a99dad6668e5874c6",
       "version_major": 2,
       "version_minor": 0
      },
      "text/plain": [
       "A Jupyter Widget"
      ]
     },
     "metadata": {},
     "output_type": "display_data"
    },
    {
     "data": {
      "application/vnd.jupyter.widget-view+json": {
       "model_id": "f40932a2bd6e4297836a687cc2776ac7",
       "version_major": 2,
       "version_minor": 0
      },
      "text/plain": [
       "A Jupyter Widget"
      ]
     },
     "metadata": {},
     "output_type": "display_data"
    },
    {
     "data": {
      "application/vnd.jupyter.widget-view+json": {
       "model_id": "ef4763e3549b46909dd118d52bc841a5",
       "version_major": 2,
       "version_minor": 0
      },
      "text/plain": [
       "A Jupyter Widget"
      ]
     },
     "metadata": {},
     "output_type": "display_data"
    },
    {
     "data": {
      "application/vnd.jupyter.widget-view+json": {
       "model_id": "7f76fed14c4b4d36b77da8dbb1edbb6d",
       "version_major": 2,
       "version_minor": 0
      },
      "text/plain": [
       "A Jupyter Widget"
      ]
     },
     "metadata": {},
     "output_type": "display_data"
    },
    {
     "data": {
      "application/vnd.jupyter.widget-view+json": {
       "model_id": "da74cc3b29b74b5e8bb590cae889bc8d",
       "version_major": 2,
       "version_minor": 0
      },
      "text/plain": [
       "A Jupyter Widget"
      ]
     },
     "metadata": {},
     "output_type": "display_data"
    },
    {
     "data": {
      "application/vnd.jupyter.widget-view+json": {
       "model_id": "a16194362e0d4e7b9cd4001990cc0df6",
       "version_major": 2,
       "version_minor": 0
      },
      "text/plain": [
       "A Jupyter Widget"
      ]
     },
     "metadata": {},
     "output_type": "display_data"
    },
    {
     "data": {
      "application/vnd.jupyter.widget-view+json": {
       "model_id": "7a646eb85f77476bb0642954003f1d6f",
       "version_major": 2,
       "version_minor": 0
      },
      "text/plain": [
       "A Jupyter Widget"
      ]
     },
     "metadata": {},
     "output_type": "display_data"
    },
    {
     "data": {
      "application/vnd.jupyter.widget-view+json": {
       "model_id": "0184bcee688b4c94975dd17152933c3c",
       "version_major": 2,
       "version_minor": 0
      },
      "text/plain": [
       "A Jupyter Widget"
      ]
     },
     "metadata": {},
     "output_type": "display_data"
    },
    {
     "data": {
      "application/vnd.jupyter.widget-view+json": {
       "model_id": "abc02de016a0462d89382cacbf1aae80",
       "version_major": 2,
       "version_minor": 0
      },
      "text/plain": [
       "A Jupyter Widget"
      ]
     },
     "metadata": {},
     "output_type": "display_data"
    },
    {
     "data": {
      "application/vnd.jupyter.widget-view+json": {
       "model_id": "6e7c773be1c1412ab042e7ff8bde2d05",
       "version_major": 2,
       "version_minor": 0
      },
      "text/plain": [
       "A Jupyter Widget"
      ]
     },
     "metadata": {},
     "output_type": "display_data"
    },
    {
     "data": {
      "application/vnd.jupyter.widget-view+json": {
       "model_id": "a4bbd4fc81b64b0bba82e4814ff2345e",
       "version_major": 2,
       "version_minor": 0
      },
      "text/plain": [
       "A Jupyter Widget"
      ]
     },
     "metadata": {},
     "output_type": "display_data"
    },
    {
     "data": {
      "application/vnd.jupyter.widget-view+json": {
       "model_id": "047452c59634407697f0addac97cb228",
       "version_major": 2,
       "version_minor": 0
      },
      "text/plain": [
       "A Jupyter Widget"
      ]
     },
     "metadata": {},
     "output_type": "display_data"
    },
    {
     "data": {
      "application/vnd.jupyter.widget-view+json": {
       "model_id": "03d2b1aac618401ba653bae699d9f59e",
       "version_major": 2,
       "version_minor": 0
      },
      "text/plain": [
       "A Jupyter Widget"
      ]
     },
     "metadata": {},
     "output_type": "display_data"
    },
    {
     "data": {
      "application/vnd.jupyter.widget-view+json": {
       "model_id": "0a5239b1423343d78131957d16e388b1",
       "version_major": 2,
       "version_minor": 0
      },
      "text/plain": [
       "A Jupyter Widget"
      ]
     },
     "metadata": {},
     "output_type": "display_data"
    },
    {
     "data": {
      "application/vnd.jupyter.widget-view+json": {
       "model_id": "be2c00b324ce4467a32cfbfef3c03bb3",
       "version_major": 2,
       "version_minor": 0
      },
      "text/plain": [
       "A Jupyter Widget"
      ]
     },
     "metadata": {},
     "output_type": "display_data"
    },
    {
     "data": {
      "application/vnd.jupyter.widget-view+json": {
       "model_id": "c1097c11b899449e9676bbaebead4e28",
       "version_major": 2,
       "version_minor": 0
      },
      "text/plain": [
       "A Jupyter Widget"
      ]
     },
     "metadata": {},
     "output_type": "display_data"
    },
    {
     "data": {
      "application/vnd.jupyter.widget-view+json": {
       "model_id": "128f9e29954a4c5986b698b33620d7c6",
       "version_major": 2,
       "version_minor": 0
      },
      "text/plain": [
       "A Jupyter Widget"
      ]
     },
     "metadata": {},
     "output_type": "display_data"
    },
    {
     "data": {
      "application/vnd.jupyter.widget-view+json": {
       "model_id": "7d9ff307c84c4accbaa46b7bfff1e3d0",
       "version_major": 2,
       "version_minor": 0
      },
      "text/plain": [
       "A Jupyter Widget"
      ]
     },
     "metadata": {},
     "output_type": "display_data"
    },
    {
     "data": {
      "application/vnd.jupyter.widget-view+json": {
       "model_id": "9c23430fff5144a5869c9ecd6983076d",
       "version_major": 2,
       "version_minor": 0
      },
      "text/plain": [
       "A Jupyter Widget"
      ]
     },
     "metadata": {},
     "output_type": "display_data"
    },
    {
     "data": {
      "application/vnd.jupyter.widget-view+json": {
       "model_id": "136aca006b8b4d5eb8190959b7223c90",
       "version_major": 2,
       "version_minor": 0
      },
      "text/plain": [
       "A Jupyter Widget"
      ]
     },
     "metadata": {},
     "output_type": "display_data"
    },
    {
     "data": {
      "application/vnd.jupyter.widget-view+json": {
       "model_id": "3d05d3c483a54c4199e297b45a5c6056",
       "version_major": 2,
       "version_minor": 0
      },
      "text/plain": [
       "A Jupyter Widget"
      ]
     },
     "metadata": {},
     "output_type": "display_data"
    },
    {
     "data": {
      "application/vnd.jupyter.widget-view+json": {
       "model_id": "4224c29a6192470cae727375d92d331c",
       "version_major": 2,
       "version_minor": 0
      },
      "text/plain": [
       "A Jupyter Widget"
      ]
     },
     "metadata": {},
     "output_type": "display_data"
    },
    {
     "data": {
      "application/vnd.jupyter.widget-view+json": {
       "model_id": "cfec34e216314b9b82e35c0687411498",
       "version_major": 2,
       "version_minor": 0
      },
      "text/plain": [
       "A Jupyter Widget"
      ]
     },
     "metadata": {},
     "output_type": "display_data"
    },
    {
     "data": {
      "application/vnd.jupyter.widget-view+json": {
       "model_id": "5f2043733c694ceaa5512180adf238d0",
       "version_major": 2,
       "version_minor": 0
      },
      "text/plain": [
       "A Jupyter Widget"
      ]
     },
     "metadata": {},
     "output_type": "display_data"
    },
    {
     "data": {
      "application/vnd.jupyter.widget-view+json": {
       "model_id": "fd384702915e46e691d71f5a0e40e072",
       "version_major": 2,
       "version_minor": 0
      },
      "text/plain": [
       "A Jupyter Widget"
      ]
     },
     "metadata": {},
     "output_type": "display_data"
    },
    {
     "data": {
      "application/vnd.jupyter.widget-view+json": {
       "model_id": "aeeca34ae2464e5d9a187d879b467f0e",
       "version_major": 2,
       "version_minor": 0
      },
      "text/plain": [
       "A Jupyter Widget"
      ]
     },
     "metadata": {},
     "output_type": "display_data"
    },
    {
     "data": {
      "application/vnd.jupyter.widget-view+json": {
       "model_id": "ba589fbb3a2348cba7ef4b17fb7f0a8c",
       "version_major": 2,
       "version_minor": 0
      },
      "text/plain": [
       "A Jupyter Widget"
      ]
     },
     "metadata": {},
     "output_type": "display_data"
    },
    {
     "data": {
      "application/vnd.jupyter.widget-view+json": {
       "model_id": "3f2975bb0523481c88e1bcb27fd5a824",
       "version_major": 2,
       "version_minor": 0
      },
      "text/plain": [
       "A Jupyter Widget"
      ]
     },
     "metadata": {},
     "output_type": "display_data"
    },
    {
     "data": {
      "application/vnd.jupyter.widget-view+json": {
       "model_id": "55fdca4257184e6a8f01b0bb4e14c581",
       "version_major": 2,
       "version_minor": 0
      },
      "text/plain": [
       "A Jupyter Widget"
      ]
     },
     "metadata": {},
     "output_type": "display_data"
    },
    {
     "data": {
      "application/vnd.jupyter.widget-view+json": {
       "model_id": "ae4718f1deb04866b7085f46e8ea7ed1",
       "version_major": 2,
       "version_minor": 0
      },
      "text/plain": [
       "A Jupyter Widget"
      ]
     },
     "metadata": {},
     "output_type": "display_data"
    },
    {
     "data": {
      "application/vnd.jupyter.widget-view+json": {
       "model_id": "606634f0f9ba4e189283095541504175",
       "version_major": 2,
       "version_minor": 0
      },
      "text/plain": [
       "A Jupyter Widget"
      ]
     },
     "metadata": {},
     "output_type": "display_data"
    },
    {
     "data": {
      "application/vnd.jupyter.widget-view+json": {
       "model_id": "4e2dfb6f98ea4c2a94170e2db94a15db",
       "version_major": 2,
       "version_minor": 0
      },
      "text/plain": [
       "A Jupyter Widget"
      ]
     },
     "metadata": {},
     "output_type": "display_data"
    },
    {
     "data": {
      "application/vnd.jupyter.widget-view+json": {
       "model_id": "2ba75b0daaa543c297b1122e8a0aa606",
       "version_major": 2,
       "version_minor": 0
      },
      "text/plain": [
       "A Jupyter Widget"
      ]
     },
     "metadata": {},
     "output_type": "display_data"
    },
    {
     "data": {
      "application/vnd.jupyter.widget-view+json": {
       "model_id": "bd14252eb09940748b6b917f5e523a4a",
       "version_major": 2,
       "version_minor": 0
      },
      "text/plain": [
       "A Jupyter Widget"
      ]
     },
     "metadata": {},
     "output_type": "display_data"
    },
    {
     "data": {
      "application/vnd.jupyter.widget-view+json": {
       "model_id": "11b86192f4114eae85aac5053a598231",
       "version_major": 2,
       "version_minor": 0
      },
      "text/plain": [
       "A Jupyter Widget"
      ]
     },
     "metadata": {},
     "output_type": "display_data"
    },
    {
     "data": {
      "application/vnd.jupyter.widget-view+json": {
       "model_id": "c86df9bfd81e46f78201088ddb45e087",
       "version_major": 2,
       "version_minor": 0
      },
      "text/plain": [
       "A Jupyter Widget"
      ]
     },
     "metadata": {},
     "output_type": "display_data"
    },
    {
     "data": {
      "application/vnd.jupyter.widget-view+json": {
       "model_id": "de1188e161d841618219a7a5e18bde86",
       "version_major": 2,
       "version_minor": 0
      },
      "text/plain": [
       "A Jupyter Widget"
      ]
     },
     "metadata": {},
     "output_type": "display_data"
    },
    {
     "data": {
      "application/vnd.jupyter.widget-view+json": {
       "model_id": "c42c9d4357e04e5298a5b4d1e6ea28fe",
       "version_major": 2,
       "version_minor": 0
      },
      "text/plain": [
       "A Jupyter Widget"
      ]
     },
     "metadata": {},
     "output_type": "display_data"
    },
    {
     "data": {
      "application/vnd.jupyter.widget-view+json": {
       "model_id": "acf0a7c44aeb4598b83ff702fb0d4ce7",
       "version_major": 2,
       "version_minor": 0
      },
      "text/plain": [
       "A Jupyter Widget"
      ]
     },
     "metadata": {},
     "output_type": "display_data"
    },
    {
     "data": {
      "application/vnd.jupyter.widget-view+json": {
       "model_id": "ed875387f94643b39ab1fbd64904a988",
       "version_major": 2,
       "version_minor": 0
      },
      "text/plain": [
       "A Jupyter Widget"
      ]
     },
     "metadata": {},
     "output_type": "display_data"
    },
    {
     "data": {
      "application/vnd.jupyter.widget-view+json": {
       "model_id": "811d9ac4c3664f09b62645f5be4e1443",
       "version_major": 2,
       "version_minor": 0
      },
      "text/plain": [
       "A Jupyter Widget"
      ]
     },
     "metadata": {},
     "output_type": "display_data"
    },
    {
     "data": {
      "application/vnd.jupyter.widget-view+json": {
       "model_id": "8a03e4376460400f9ce3766be92adc32",
       "version_major": 2,
       "version_minor": 0
      },
      "text/plain": [
       "A Jupyter Widget"
      ]
     },
     "metadata": {},
     "output_type": "display_data"
    },
    {
     "data": {
      "application/vnd.jupyter.widget-view+json": {
       "model_id": "4037fa17ae0f4d7db25ac7706b6b184c",
       "version_major": 2,
       "version_minor": 0
      },
      "text/plain": [
       "A Jupyter Widget"
      ]
     },
     "metadata": {},
     "output_type": "display_data"
    },
    {
     "data": {
      "application/vnd.jupyter.widget-view+json": {
       "model_id": "5aa690778cf846bfa6b3dd7fb8e76496",
       "version_major": 2,
       "version_minor": 0
      },
      "text/plain": [
       "A Jupyter Widget"
      ]
     },
     "metadata": {},
     "output_type": "display_data"
    },
    {
     "data": {
      "application/vnd.jupyter.widget-view+json": {
       "model_id": "ed5538be89614e1e9ccb72ef23940efc",
       "version_major": 2,
       "version_minor": 0
      },
      "text/plain": [
       "A Jupyter Widget"
      ]
     },
     "metadata": {},
     "output_type": "display_data"
    },
    {
     "data": {
      "application/vnd.jupyter.widget-view+json": {
       "model_id": "69450143d7c94df1a0c69acde7170189",
       "version_major": 2,
       "version_minor": 0
      },
      "text/plain": [
       "A Jupyter Widget"
      ]
     },
     "metadata": {},
     "output_type": "display_data"
    },
    {
     "data": {
      "application/vnd.jupyter.widget-view+json": {
       "model_id": "e65b4dc837624da89a2b73686b103ad4",
       "version_major": 2,
       "version_minor": 0
      },
      "text/plain": [
       "A Jupyter Widget"
      ]
     },
     "metadata": {},
     "output_type": "display_data"
    },
    {
     "data": {
      "application/vnd.jupyter.widget-view+json": {
       "model_id": "db8bff2afa0d4be7964c6849b4849569",
       "version_major": 2,
       "version_minor": 0
      },
      "text/plain": [
       "A Jupyter Widget"
      ]
     },
     "metadata": {},
     "output_type": "display_data"
    },
    {
     "data": {
      "application/vnd.jupyter.widget-view+json": {
       "model_id": "d5c2f48443a646429b03bad9b967033d",
       "version_major": 2,
       "version_minor": 0
      },
      "text/plain": [
       "A Jupyter Widget"
      ]
     },
     "metadata": {},
     "output_type": "display_data"
    },
    {
     "data": {
      "application/vnd.jupyter.widget-view+json": {
       "model_id": "0559834e9bfe4afe9f6738bb115affa8",
       "version_major": 2,
       "version_minor": 0
      },
      "text/plain": [
       "A Jupyter Widget"
      ]
     },
     "metadata": {},
     "output_type": "display_data"
    },
    {
     "data": {
      "application/vnd.jupyter.widget-view+json": {
       "model_id": "644d36c868bb406b84d7ffe99492f635",
       "version_major": 2,
       "version_minor": 0
      },
      "text/plain": [
       "A Jupyter Widget"
      ]
     },
     "metadata": {},
     "output_type": "display_data"
    },
    {
     "data": {
      "application/vnd.jupyter.widget-view+json": {
       "model_id": "8d363556564842069d4e0fa889f57b57",
       "version_major": 2,
       "version_minor": 0
      },
      "text/plain": [
       "A Jupyter Widget"
      ]
     },
     "metadata": {},
     "output_type": "display_data"
    },
    {
     "data": {
      "application/vnd.jupyter.widget-view+json": {
       "model_id": "2248a2f43f894a959a7a9a3fafe091d6",
       "version_major": 2,
       "version_minor": 0
      },
      "text/plain": [
       "A Jupyter Widget"
      ]
     },
     "metadata": {},
     "output_type": "display_data"
    },
    {
     "data": {
      "application/vnd.jupyter.widget-view+json": {
       "model_id": "3d385ce913e94cf696aed8c035cc4b82",
       "version_major": 2,
       "version_minor": 0
      },
      "text/plain": [
       "A Jupyter Widget"
      ]
     },
     "metadata": {},
     "output_type": "display_data"
    },
    {
     "data": {
      "application/vnd.jupyter.widget-view+json": {
       "model_id": "64e0ada9a730456aa2c49960e877dc33",
       "version_major": 2,
       "version_minor": 0
      },
      "text/plain": [
       "A Jupyter Widget"
      ]
     },
     "metadata": {},
     "output_type": "display_data"
    },
    {
     "data": {
      "application/vnd.jupyter.widget-view+json": {
       "model_id": "781726d7a6f1420fafdb1cca1c1ea2ed",
       "version_major": 2,
       "version_minor": 0
      },
      "text/plain": [
       "A Jupyter Widget"
      ]
     },
     "metadata": {},
     "output_type": "display_data"
    },
    {
     "data": {
      "application/vnd.jupyter.widget-view+json": {
       "model_id": "125685ca1a0d43589c0cb992f581f99a",
       "version_major": 2,
       "version_minor": 0
      },
      "text/plain": [
       "A Jupyter Widget"
      ]
     },
     "metadata": {},
     "output_type": "display_data"
    },
    {
     "data": {
      "application/vnd.jupyter.widget-view+json": {
       "model_id": "fd56848e39654eafabdb0587bb26079f",
       "version_major": 2,
       "version_minor": 0
      },
      "text/plain": [
       "A Jupyter Widget"
      ]
     },
     "metadata": {},
     "output_type": "display_data"
    },
    {
     "data": {
      "application/vnd.jupyter.widget-view+json": {
       "model_id": "33d3c03ff08f4bce8e31376498e07e33",
       "version_major": 2,
       "version_minor": 0
      },
      "text/plain": [
       "A Jupyter Widget"
      ]
     },
     "metadata": {},
     "output_type": "display_data"
    },
    {
     "data": {
      "application/vnd.jupyter.widget-view+json": {
       "model_id": "f37b62c84ca04c8ead36cf113e485f70",
       "version_major": 2,
       "version_minor": 0
      },
      "text/plain": [
       "A Jupyter Widget"
      ]
     },
     "metadata": {},
     "output_type": "display_data"
    },
    {
     "data": {
      "application/vnd.jupyter.widget-view+json": {
       "model_id": "171e126ad9f14cd1be98652e819b16a7",
       "version_major": 2,
       "version_minor": 0
      },
      "text/plain": [
       "A Jupyter Widget"
      ]
     },
     "metadata": {},
     "output_type": "display_data"
    },
    {
     "data": {
      "application/vnd.jupyter.widget-view+json": {
       "model_id": "39cb829b1b7e4280ad7aadead736dfaf",
       "version_major": 2,
       "version_minor": 0
      },
      "text/plain": [
       "A Jupyter Widget"
      ]
     },
     "metadata": {},
     "output_type": "display_data"
    },
    {
     "data": {
      "application/vnd.jupyter.widget-view+json": {
       "model_id": "6c4a4007430c43c7a3fdbf5cebef4e86",
       "version_major": 2,
       "version_minor": 0
      },
      "text/plain": [
       "A Jupyter Widget"
      ]
     },
     "metadata": {},
     "output_type": "display_data"
    },
    {
     "data": {
      "application/vnd.jupyter.widget-view+json": {
       "model_id": "fa2158e7f10144a989eb1ddc96070d2e",
       "version_major": 2,
       "version_minor": 0
      },
      "text/plain": [
       "A Jupyter Widget"
      ]
     },
     "metadata": {},
     "output_type": "display_data"
    },
    {
     "data": {
      "application/vnd.jupyter.widget-view+json": {
       "model_id": "69345c2bf68b4ff8a321ca924a4d546c",
       "version_major": 2,
       "version_minor": 0
      },
      "text/plain": [
       "A Jupyter Widget"
      ]
     },
     "metadata": {},
     "output_type": "display_data"
    },
    {
     "data": {
      "application/vnd.jupyter.widget-view+json": {
       "model_id": "41212dcf9fde43a4a76ce74873d3172b",
       "version_major": 2,
       "version_minor": 0
      },
      "text/plain": [
       "A Jupyter Widget"
      ]
     },
     "metadata": {},
     "output_type": "display_data"
    },
    {
     "data": {
      "application/vnd.jupyter.widget-view+json": {
       "model_id": "aa2e384518984d259a0934ddb4e983bb",
       "version_major": 2,
       "version_minor": 0
      },
      "text/plain": [
       "A Jupyter Widget"
      ]
     },
     "metadata": {},
     "output_type": "display_data"
    },
    {
     "data": {
      "application/vnd.jupyter.widget-view+json": {
       "model_id": "7dd9b7b6835d42459caa12fe07f15e66",
       "version_major": 2,
       "version_minor": 0
      },
      "text/plain": [
       "A Jupyter Widget"
      ]
     },
     "metadata": {},
     "output_type": "display_data"
    },
    {
     "data": {
      "application/vnd.jupyter.widget-view+json": {
       "model_id": "d56ce7f0b0e04bd997c68ac3c3026420",
       "version_major": 2,
       "version_minor": 0
      },
      "text/plain": [
       "A Jupyter Widget"
      ]
     },
     "metadata": {},
     "output_type": "display_data"
    },
    {
     "data": {
      "application/vnd.jupyter.widget-view+json": {
       "model_id": "06c54723e2c9489cae22e8b3205750b5",
       "version_major": 2,
       "version_minor": 0
      },
      "text/plain": [
       "A Jupyter Widget"
      ]
     },
     "metadata": {},
     "output_type": "display_data"
    },
    {
     "data": {
      "application/vnd.jupyter.widget-view+json": {
       "model_id": "8923c8a39dcb4f8ca568847da4b40114",
       "version_major": 2,
       "version_minor": 0
      },
      "text/plain": [
       "A Jupyter Widget"
      ]
     },
     "metadata": {},
     "output_type": "display_data"
    },
    {
     "data": {
      "application/vnd.jupyter.widget-view+json": {
       "model_id": "90cc6a40373a4ff3bb5d317717fb7f9c",
       "version_major": 2,
       "version_minor": 0
      },
      "text/plain": [
       "A Jupyter Widget"
      ]
     },
     "metadata": {},
     "output_type": "display_data"
    },
    {
     "data": {
      "application/vnd.jupyter.widget-view+json": {
       "model_id": "ef09f521cf5044528962d511819fbbc7",
       "version_major": 2,
       "version_minor": 0
      },
      "text/plain": [
       "A Jupyter Widget"
      ]
     },
     "metadata": {},
     "output_type": "display_data"
    },
    {
     "data": {
      "application/vnd.jupyter.widget-view+json": {
       "model_id": "975837006afe473abb8be9fc52b32dab",
       "version_major": 2,
       "version_minor": 0
      },
      "text/plain": [
       "A Jupyter Widget"
      ]
     },
     "metadata": {},
     "output_type": "display_data"
    },
    {
     "data": {
      "application/vnd.jupyter.widget-view+json": {
       "model_id": "52bf449c1609429c95ee04903d6694bc",
       "version_major": 2,
       "version_minor": 0
      },
      "text/plain": [
       "A Jupyter Widget"
      ]
     },
     "metadata": {},
     "output_type": "display_data"
    },
    {
     "data": {
      "application/vnd.jupyter.widget-view+json": {
       "model_id": "1ac40ee1c2dd43e09eb3c8763d2dc4bf",
       "version_major": 2,
       "version_minor": 0
      },
      "text/plain": [
       "A Jupyter Widget"
      ]
     },
     "metadata": {},
     "output_type": "display_data"
    },
    {
     "data": {
      "application/vnd.jupyter.widget-view+json": {
       "model_id": "5227af6341264201af84c98f417e9806",
       "version_major": 2,
       "version_minor": 0
      },
      "text/plain": [
       "A Jupyter Widget"
      ]
     },
     "metadata": {},
     "output_type": "display_data"
    },
    {
     "data": {
      "application/vnd.jupyter.widget-view+json": {
       "model_id": "a0d09504585a4a5985f021cf25ea35d0",
       "version_major": 2,
       "version_minor": 0
      },
      "text/plain": [
       "A Jupyter Widget"
      ]
     },
     "metadata": {},
     "output_type": "display_data"
    },
    {
     "data": {
      "application/vnd.jupyter.widget-view+json": {
       "model_id": "ce4dc7dc956845bfbbb3ecb2818d5613",
       "version_major": 2,
       "version_minor": 0
      },
      "text/plain": [
       "A Jupyter Widget"
      ]
     },
     "metadata": {},
     "output_type": "display_data"
    },
    {
     "data": {
      "application/vnd.jupyter.widget-view+json": {
       "model_id": "e6acd500c2014af5af5578129eb50e7e",
       "version_major": 2,
       "version_minor": 0
      },
      "text/plain": [
       "A Jupyter Widget"
      ]
     },
     "metadata": {},
     "output_type": "display_data"
    },
    {
     "data": {
      "application/vnd.jupyter.widget-view+json": {
       "model_id": "14ac34423d3e4748ad6c4e292815858a",
       "version_major": 2,
       "version_minor": 0
      },
      "text/plain": [
       "A Jupyter Widget"
      ]
     },
     "metadata": {},
     "output_type": "display_data"
    },
    {
     "data": {
      "application/vnd.jupyter.widget-view+json": {
       "model_id": "bd9624cd3815404dbd90220df08894e9",
       "version_major": 2,
       "version_minor": 0
      },
      "text/plain": [
       "A Jupyter Widget"
      ]
     },
     "metadata": {},
     "output_type": "display_data"
    },
    {
     "data": {
      "application/vnd.jupyter.widget-view+json": {
       "model_id": "6461a235cd88496d9124117cf699e470",
       "version_major": 2,
       "version_minor": 0
      },
      "text/plain": [
       "A Jupyter Widget"
      ]
     },
     "metadata": {},
     "output_type": "display_data"
    },
    {
     "data": {
      "application/vnd.jupyter.widget-view+json": {
       "model_id": "27341e6e8f2445529e25150c638953a9",
       "version_major": 2,
       "version_minor": 0
      },
      "text/plain": [
       "A Jupyter Widget"
      ]
     },
     "metadata": {},
     "output_type": "display_data"
    },
    {
     "data": {
      "application/vnd.jupyter.widget-view+json": {
       "model_id": "18878e82f29b46f49390efa0388aa766",
       "version_major": 2,
       "version_minor": 0
      },
      "text/plain": [
       "A Jupyter Widget"
      ]
     },
     "metadata": {},
     "output_type": "display_data"
    },
    {
     "data": {
      "application/vnd.jupyter.widget-view+json": {
       "model_id": "28631bcb57da4be689d5bcc0b3501b29",
       "version_major": 2,
       "version_minor": 0
      },
      "text/plain": [
       "A Jupyter Widget"
      ]
     },
     "metadata": {},
     "output_type": "display_data"
    },
    {
     "data": {
      "application/vnd.jupyter.widget-view+json": {
       "model_id": "807ee01bff0f449895362079358cbd44",
       "version_major": 2,
       "version_minor": 0
      },
      "text/plain": [
       "A Jupyter Widget"
      ]
     },
     "metadata": {},
     "output_type": "display_data"
    },
    {
     "data": {
      "application/vnd.jupyter.widget-view+json": {
       "model_id": "414582e5fd764b1998288b8eff432915",
       "version_major": 2,
       "version_minor": 0
      },
      "text/plain": [
       "A Jupyter Widget"
      ]
     },
     "metadata": {},
     "output_type": "display_data"
    },
    {
     "data": {
      "application/vnd.jupyter.widget-view+json": {
       "model_id": "791bc9b3438f4e41b8bd0d77791bc988",
       "version_major": 2,
       "version_minor": 0
      },
      "text/plain": [
       "A Jupyter Widget"
      ]
     },
     "metadata": {},
     "output_type": "display_data"
    },
    {
     "data": {
      "application/vnd.jupyter.widget-view+json": {
       "model_id": "2271aa17dafc41e497afe13f3aa58384",
       "version_major": 2,
       "version_minor": 0
      },
      "text/plain": [
       "A Jupyter Widget"
      ]
     },
     "metadata": {},
     "output_type": "display_data"
    },
    {
     "data": {
      "application/vnd.jupyter.widget-view+json": {
       "model_id": "2599de41691b43e1abf9c2ba91b851f8",
       "version_major": 2,
       "version_minor": 0
      },
      "text/plain": [
       "A Jupyter Widget"
      ]
     },
     "metadata": {},
     "output_type": "display_data"
    },
    {
     "data": {
      "application/vnd.jupyter.widget-view+json": {
       "model_id": "d94f4dedc7344c6e996918593707a8d3",
       "version_major": 2,
       "version_minor": 0
      },
      "text/plain": [
       "A Jupyter Widget"
      ]
     },
     "metadata": {},
     "output_type": "display_data"
    },
    {
     "data": {
      "application/vnd.jupyter.widget-view+json": {
       "model_id": "f58be85a6f424b6ea9a9b3a4e8d1cc31",
       "version_major": 2,
       "version_minor": 0
      },
      "text/plain": [
       "A Jupyter Widget"
      ]
     },
     "metadata": {},
     "output_type": "display_data"
    },
    {
     "data": {
      "application/vnd.jupyter.widget-view+json": {
       "model_id": "ef079de0f0bd402ebc985fb7e2db3b03",
       "version_major": 2,
       "version_minor": 0
      },
      "text/plain": [
       "A Jupyter Widget"
      ]
     },
     "metadata": {},
     "output_type": "display_data"
    },
    {
     "data": {
      "application/vnd.jupyter.widget-view+json": {
       "model_id": "b76f3771a6854bf087884932381b841f",
       "version_major": 2,
       "version_minor": 0
      },
      "text/plain": [
       "A Jupyter Widget"
      ]
     },
     "metadata": {},
     "output_type": "display_data"
    },
    {
     "data": {
      "application/vnd.jupyter.widget-view+json": {
       "model_id": "c3e20e1b7e2245b3b864a17b5fdb5c14",
       "version_major": 2,
       "version_minor": 0
      },
      "text/plain": [
       "A Jupyter Widget"
      ]
     },
     "metadata": {},
     "output_type": "display_data"
    },
    {
     "data": {
      "application/vnd.jupyter.widget-view+json": {
       "model_id": "7c511d98276f42f2a1bfd67197feb5fa",
       "version_major": 2,
       "version_minor": 0
      },
      "text/plain": [
       "A Jupyter Widget"
      ]
     },
     "metadata": {},
     "output_type": "display_data"
    },
    {
     "data": {
      "application/vnd.jupyter.widget-view+json": {
       "model_id": "fb6dae308e9c439f8ec33471d3e1949f",
       "version_major": 2,
       "version_minor": 0
      },
      "text/plain": [
       "A Jupyter Widget"
      ]
     },
     "metadata": {},
     "output_type": "display_data"
    },
    {
     "data": {
      "application/vnd.jupyter.widget-view+json": {
       "model_id": "4a7bf51d2d5b44e5bb39aed4502aa433",
       "version_major": 2,
       "version_minor": 0
      },
      "text/plain": [
       "A Jupyter Widget"
      ]
     },
     "metadata": {},
     "output_type": "display_data"
    },
    {
     "data": {
      "application/vnd.jupyter.widget-view+json": {
       "model_id": "6ccb26ff09a34a4796254c09387ce2f7",
       "version_major": 2,
       "version_minor": 0
      },
      "text/plain": [
       "A Jupyter Widget"
      ]
     },
     "metadata": {},
     "output_type": "display_data"
    },
    {
     "data": {
      "application/vnd.jupyter.widget-view+json": {
       "model_id": "2dcf351df4694a649ecb933f284fec88",
       "version_major": 2,
       "version_minor": 0
      },
      "text/plain": [
       "A Jupyter Widget"
      ]
     },
     "metadata": {},
     "output_type": "display_data"
    },
    {
     "data": {
      "application/vnd.jupyter.widget-view+json": {
       "model_id": "7100de314ad345c3a78e39b4c3620d88",
       "version_major": 2,
       "version_minor": 0
      },
      "text/plain": [
       "A Jupyter Widget"
      ]
     },
     "metadata": {},
     "output_type": "display_data"
    },
    {
     "data": {
      "application/vnd.jupyter.widget-view+json": {
       "model_id": "70f94fbfd67e48808a6ae95cad68a18b",
       "version_major": 2,
       "version_minor": 0
      },
      "text/plain": [
       "A Jupyter Widget"
      ]
     },
     "metadata": {},
     "output_type": "display_data"
    },
    {
     "data": {
      "application/vnd.jupyter.widget-view+json": {
       "model_id": "94efa85f4b824d8fa9173d9606800b16",
       "version_major": 2,
       "version_minor": 0
      },
      "text/plain": [
       "A Jupyter Widget"
      ]
     },
     "metadata": {},
     "output_type": "display_data"
    },
    {
     "data": {
      "application/vnd.jupyter.widget-view+json": {
       "model_id": "266dcaf95e6d4b5ea2f24e5a7c45e70d",
       "version_major": 2,
       "version_minor": 0
      },
      "text/plain": [
       "A Jupyter Widget"
      ]
     },
     "metadata": {},
     "output_type": "display_data"
    },
    {
     "data": {
      "application/vnd.jupyter.widget-view+json": {
       "model_id": "e2b369be35854aaaa4dc9fcf179dcbd9",
       "version_major": 2,
       "version_minor": 0
      },
      "text/plain": [
       "A Jupyter Widget"
      ]
     },
     "metadata": {},
     "output_type": "display_data"
    },
    {
     "data": {
      "application/vnd.jupyter.widget-view+json": {
       "model_id": "add740b9095a483c85ddb44f995d6caf",
       "version_major": 2,
       "version_minor": 0
      },
      "text/plain": [
       "A Jupyter Widget"
      ]
     },
     "metadata": {},
     "output_type": "display_data"
    },
    {
     "data": {
      "application/vnd.jupyter.widget-view+json": {
       "model_id": "d6399107a64244ada0244c91d7950d36",
       "version_major": 2,
       "version_minor": 0
      },
      "text/plain": [
       "A Jupyter Widget"
      ]
     },
     "metadata": {},
     "output_type": "display_data"
    },
    {
     "data": {
      "application/vnd.jupyter.widget-view+json": {
       "model_id": "b98bc3c6582341238c148b7ab93a8122",
       "version_major": 2,
       "version_minor": 0
      },
      "text/plain": [
       "A Jupyter Widget"
      ]
     },
     "metadata": {},
     "output_type": "display_data"
    },
    {
     "data": {
      "application/vnd.jupyter.widget-view+json": {
       "model_id": "87e5da919a2144008d7360892b450189",
       "version_major": 2,
       "version_minor": 0
      },
      "text/plain": [
       "A Jupyter Widget"
      ]
     },
     "metadata": {},
     "output_type": "display_data"
    },
    {
     "data": {
      "application/vnd.jupyter.widget-view+json": {
       "model_id": "4ec1b48a8fdb470eb656f07f5599b2fa",
       "version_major": 2,
       "version_minor": 0
      },
      "text/plain": [
       "A Jupyter Widget"
      ]
     },
     "metadata": {},
     "output_type": "display_data"
    },
    {
     "data": {
      "application/vnd.jupyter.widget-view+json": {
       "model_id": "efbe33f563244676b5807714aeb5e70f",
       "version_major": 2,
       "version_minor": 0
      },
      "text/plain": [
       "A Jupyter Widget"
      ]
     },
     "metadata": {},
     "output_type": "display_data"
    },
    {
     "data": {
      "application/vnd.jupyter.widget-view+json": {
       "model_id": "a924d61e4f494445862e396277672527",
       "version_major": 2,
       "version_minor": 0
      },
      "text/plain": [
       "A Jupyter Widget"
      ]
     },
     "metadata": {},
     "output_type": "display_data"
    },
    {
     "data": {
      "application/vnd.jupyter.widget-view+json": {
       "model_id": "ff445dca8cbb43cea4d0f11e622f2416",
       "version_major": 2,
       "version_minor": 0
      },
      "text/plain": [
       "A Jupyter Widget"
      ]
     },
     "metadata": {},
     "output_type": "display_data"
    },
    {
     "data": {
      "application/vnd.jupyter.widget-view+json": {
       "model_id": "39d131390d8c41dbb7685e7b2bae512f",
       "version_major": 2,
       "version_minor": 0
      },
      "text/plain": [
       "A Jupyter Widget"
      ]
     },
     "metadata": {},
     "output_type": "display_data"
    },
    {
     "data": {
      "application/vnd.jupyter.widget-view+json": {
       "model_id": "3f84ddb8e5b244f5812fd7e059518e29",
       "version_major": 2,
       "version_minor": 0
      },
      "text/plain": [
       "A Jupyter Widget"
      ]
     },
     "metadata": {},
     "output_type": "display_data"
    },
    {
     "data": {
      "application/vnd.jupyter.widget-view+json": {
       "model_id": "49d7e6beee9f42f48f491b8b16d3adfc",
       "version_major": 2,
       "version_minor": 0
      },
      "text/plain": [
       "A Jupyter Widget"
      ]
     },
     "metadata": {},
     "output_type": "display_data"
    },
    {
     "data": {
      "application/vnd.jupyter.widget-view+json": {
       "model_id": "406ae9de04d44968baeaa095f52bb5bc",
       "version_major": 2,
       "version_minor": 0
      },
      "text/plain": [
       "A Jupyter Widget"
      ]
     },
     "metadata": {},
     "output_type": "display_data"
    },
    {
     "data": {
      "application/vnd.jupyter.widget-view+json": {
       "model_id": "053e79397fd34f66bbf23b7d157c1a37",
       "version_major": 2,
       "version_minor": 0
      },
      "text/plain": [
       "A Jupyter Widget"
      ]
     },
     "metadata": {},
     "output_type": "display_data"
    },
    {
     "data": {
      "application/vnd.jupyter.widget-view+json": {
       "model_id": "25b3eb5fe3c54379842ab1653d620d3f",
       "version_major": 2,
       "version_minor": 0
      },
      "text/plain": [
       "A Jupyter Widget"
      ]
     },
     "metadata": {},
     "output_type": "display_data"
    },
    {
     "data": {
      "application/vnd.jupyter.widget-view+json": {
       "model_id": "d0e5d8553870455a8795455b727c59f7",
       "version_major": 2,
       "version_minor": 0
      },
      "text/plain": [
       "A Jupyter Widget"
      ]
     },
     "metadata": {},
     "output_type": "display_data"
    },
    {
     "data": {
      "application/vnd.jupyter.widget-view+json": {
       "model_id": "3458b10a0c244539b805d3f1bd0a75d5",
       "version_major": 2,
       "version_minor": 0
      },
      "text/plain": [
       "A Jupyter Widget"
      ]
     },
     "metadata": {},
     "output_type": "display_data"
    },
    {
     "data": {
      "application/vnd.jupyter.widget-view+json": {
       "model_id": "6effc9e47f5f4d36a662dbeb5a7a4cf1",
       "version_major": 2,
       "version_minor": 0
      },
      "text/plain": [
       "A Jupyter Widget"
      ]
     },
     "metadata": {},
     "output_type": "display_data"
    },
    {
     "data": {
      "application/vnd.jupyter.widget-view+json": {
       "model_id": "45de68c8f6f34e68a6e376c699908629",
       "version_major": 2,
       "version_minor": 0
      },
      "text/plain": [
       "A Jupyter Widget"
      ]
     },
     "metadata": {},
     "output_type": "display_data"
    },
    {
     "data": {
      "application/vnd.jupyter.widget-view+json": {
       "model_id": "7abbd760f6c54bb69344a21009e1d93a",
       "version_major": 2,
       "version_minor": 0
      },
      "text/plain": [
       "A Jupyter Widget"
      ]
     },
     "metadata": {},
     "output_type": "display_data"
    },
    {
     "data": {
      "application/vnd.jupyter.widget-view+json": {
       "model_id": "fd06ce7d85f24913a1bbd35dc8430d52",
       "version_major": 2,
       "version_minor": 0
      },
      "text/plain": [
       "A Jupyter Widget"
      ]
     },
     "metadata": {},
     "output_type": "display_data"
    },
    {
     "data": {
      "application/vnd.jupyter.widget-view+json": {
       "model_id": "f14c8e6ce67a4037b2e63c9cb17a9ad5",
       "version_major": 2,
       "version_minor": 0
      },
      "text/plain": [
       "A Jupyter Widget"
      ]
     },
     "metadata": {},
     "output_type": "display_data"
    },
    {
     "data": {
      "application/vnd.jupyter.widget-view+json": {
       "model_id": "e637bc850c29459dacf98e9cb1d7db27",
       "version_major": 2,
       "version_minor": 0
      },
      "text/plain": [
       "A Jupyter Widget"
      ]
     },
     "metadata": {},
     "output_type": "display_data"
    },
    {
     "data": {
      "application/vnd.jupyter.widget-view+json": {
       "model_id": "5907d98beb444fa68c497ce37f5bf520",
       "version_major": 2,
       "version_minor": 0
      },
      "text/plain": [
       "A Jupyter Widget"
      ]
     },
     "metadata": {},
     "output_type": "display_data"
    },
    {
     "data": {
      "application/vnd.jupyter.widget-view+json": {
       "model_id": "7912da3db8ab4e0d9406c56ef43e4180",
       "version_major": 2,
       "version_minor": 0
      },
      "text/plain": [
       "A Jupyter Widget"
      ]
     },
     "metadata": {},
     "output_type": "display_data"
    },
    {
     "data": {
      "application/vnd.jupyter.widget-view+json": {
       "model_id": "2fb867d72d2b4d82b2431fe59f7e4197",
       "version_major": 2,
       "version_minor": 0
      },
      "text/plain": [
       "A Jupyter Widget"
      ]
     },
     "metadata": {},
     "output_type": "display_data"
    },
    {
     "data": {
      "application/vnd.jupyter.widget-view+json": {
       "model_id": "29b731916d1b4977a1c48cdba81f0dff",
       "version_major": 2,
       "version_minor": 0
      },
      "text/plain": [
       "A Jupyter Widget"
      ]
     },
     "metadata": {},
     "output_type": "display_data"
    },
    {
     "data": {
      "application/vnd.jupyter.widget-view+json": {
       "model_id": "1a33e2e9579b4c20a4a86590f7f5e71b",
       "version_major": 2,
       "version_minor": 0
      },
      "text/plain": [
       "A Jupyter Widget"
      ]
     },
     "metadata": {},
     "output_type": "display_data"
    },
    {
     "data": {
      "application/vnd.jupyter.widget-view+json": {
       "model_id": "a1b609575a9545d39415d0f543162156",
       "version_major": 2,
       "version_minor": 0
      },
      "text/plain": [
       "A Jupyter Widget"
      ]
     },
     "metadata": {},
     "output_type": "display_data"
    },
    {
     "data": {
      "application/vnd.jupyter.widget-view+json": {
       "model_id": "527b383e53d0410a84fe9cbd70ea20af",
       "version_major": 2,
       "version_minor": 0
      },
      "text/plain": [
       "A Jupyter Widget"
      ]
     },
     "metadata": {},
     "output_type": "display_data"
    },
    {
     "data": {
      "application/vnd.jupyter.widget-view+json": {
       "model_id": "639f72260b5248b5b5c6ab02311fa25c",
       "version_major": 2,
       "version_minor": 0
      },
      "text/plain": [
       "A Jupyter Widget"
      ]
     },
     "metadata": {},
     "output_type": "display_data"
    },
    {
     "data": {
      "application/vnd.jupyter.widget-view+json": {
       "model_id": "3254a1aa4edf4a649db98ac1a56c8859",
       "version_major": 2,
       "version_minor": 0
      },
      "text/plain": [
       "A Jupyter Widget"
      ]
     },
     "metadata": {},
     "output_type": "display_data"
    },
    {
     "data": {
      "application/vnd.jupyter.widget-view+json": {
       "model_id": "fb8d2e02ee1145559d214ba402d9885e",
       "version_major": 2,
       "version_minor": 0
      },
      "text/plain": [
       "A Jupyter Widget"
      ]
     },
     "metadata": {},
     "output_type": "display_data"
    },
    {
     "data": {
      "application/vnd.jupyter.widget-view+json": {
       "model_id": "9fc32a67dca14d5aaff02c609978d0b6",
       "version_major": 2,
       "version_minor": 0
      },
      "text/plain": [
       "A Jupyter Widget"
      ]
     },
     "metadata": {},
     "output_type": "display_data"
    },
    {
     "data": {
      "application/vnd.jupyter.widget-view+json": {
       "model_id": "1da0e28624a8416684dca1f2769265dc",
       "version_major": 2,
       "version_minor": 0
      },
      "text/plain": [
       "A Jupyter Widget"
      ]
     },
     "metadata": {},
     "output_type": "display_data"
    },
    {
     "data": {
      "application/vnd.jupyter.widget-view+json": {
       "model_id": "873d1b463de140ceb86a39f38295e971",
       "version_major": 2,
       "version_minor": 0
      },
      "text/plain": [
       "A Jupyter Widget"
      ]
     },
     "metadata": {},
     "output_type": "display_data"
    },
    {
     "data": {
      "application/vnd.jupyter.widget-view+json": {
       "model_id": "dbc6c35fc4454352877800b96db353f8",
       "version_major": 2,
       "version_minor": 0
      },
      "text/plain": [
       "A Jupyter Widget"
      ]
     },
     "metadata": {},
     "output_type": "display_data"
    },
    {
     "data": {
      "application/vnd.jupyter.widget-view+json": {
       "model_id": "44bf544232e3450d96773462961343a2",
       "version_major": 2,
       "version_minor": 0
      },
      "text/plain": [
       "A Jupyter Widget"
      ]
     },
     "metadata": {},
     "output_type": "display_data"
    },
    {
     "data": {
      "application/vnd.jupyter.widget-view+json": {
       "model_id": "8262756f0173494fbc6af4226c610c3d",
       "version_major": 2,
       "version_minor": 0
      },
      "text/plain": [
       "A Jupyter Widget"
      ]
     },
     "metadata": {},
     "output_type": "display_data"
    },
    {
     "data": {
      "application/vnd.jupyter.widget-view+json": {
       "model_id": "6bd3fa034b604990a80480f7d46742cc",
       "version_major": 2,
       "version_minor": 0
      },
      "text/plain": [
       "A Jupyter Widget"
      ]
     },
     "metadata": {},
     "output_type": "display_data"
    },
    {
     "data": {
      "application/vnd.jupyter.widget-view+json": {
       "model_id": "0ef94b4ec7f545e5a693a0df916b8ad8",
       "version_major": 2,
       "version_minor": 0
      },
      "text/plain": [
       "A Jupyter Widget"
      ]
     },
     "metadata": {},
     "output_type": "display_data"
    },
    {
     "data": {
      "application/vnd.jupyter.widget-view+json": {
       "model_id": "e4aa14f493a646d7888d8ec005c186b0",
       "version_major": 2,
       "version_minor": 0
      },
      "text/plain": [
       "A Jupyter Widget"
      ]
     },
     "metadata": {},
     "output_type": "display_data"
    },
    {
     "data": {
      "application/vnd.jupyter.widget-view+json": {
       "model_id": "0c92c31760d8413db54ea690a3b1d846",
       "version_major": 2,
       "version_minor": 0
      },
      "text/plain": [
       "A Jupyter Widget"
      ]
     },
     "metadata": {},
     "output_type": "display_data"
    },
    {
     "data": {
      "application/vnd.jupyter.widget-view+json": {
       "model_id": "3b1148ea60ea4e1b8d8197e3fe80c568",
       "version_major": 2,
       "version_minor": 0
      },
      "text/plain": [
       "A Jupyter Widget"
      ]
     },
     "metadata": {},
     "output_type": "display_data"
    },
    {
     "data": {
      "application/vnd.jupyter.widget-view+json": {
       "model_id": "cf3f1f76e876475ca67d0e7b5eba32f2",
       "version_major": 2,
       "version_minor": 0
      },
      "text/plain": [
       "A Jupyter Widget"
      ]
     },
     "metadata": {},
     "output_type": "display_data"
    },
    {
     "data": {
      "application/vnd.jupyter.widget-view+json": {
       "model_id": "5f2c64a444d04baaa7163ca9bf7e11cf",
       "version_major": 2,
       "version_minor": 0
      },
      "text/plain": [
       "A Jupyter Widget"
      ]
     },
     "metadata": {},
     "output_type": "display_data"
    },
    {
     "data": {
      "application/vnd.jupyter.widget-view+json": {
       "model_id": "f934054534d0498994b86885e68520c9",
       "version_major": 2,
       "version_minor": 0
      },
      "text/plain": [
       "A Jupyter Widget"
      ]
     },
     "metadata": {},
     "output_type": "display_data"
    },
    {
     "data": {
      "application/vnd.jupyter.widget-view+json": {
       "model_id": "9e8acb4486de4c548fb910ef08cdeaa0",
       "version_major": 2,
       "version_minor": 0
      },
      "text/plain": [
       "A Jupyter Widget"
      ]
     },
     "metadata": {},
     "output_type": "display_data"
    },
    {
     "data": {
      "application/vnd.jupyter.widget-view+json": {
       "model_id": "eeea356e183645b18ccf4ef23c62ae18",
       "version_major": 2,
       "version_minor": 0
      },
      "text/plain": [
       "A Jupyter Widget"
      ]
     },
     "metadata": {},
     "output_type": "display_data"
    },
    {
     "data": {
      "application/vnd.jupyter.widget-view+json": {
       "model_id": "086a1a60d86842ad9485fdc74f21accf",
       "version_major": 2,
       "version_minor": 0
      },
      "text/plain": [
       "A Jupyter Widget"
      ]
     },
     "metadata": {},
     "output_type": "display_data"
    },
    {
     "data": {
      "application/vnd.jupyter.widget-view+json": {
       "model_id": "4680da8f86cd4f5a985486dc1246e2c2",
       "version_major": 2,
       "version_minor": 0
      },
      "text/plain": [
       "A Jupyter Widget"
      ]
     },
     "metadata": {},
     "output_type": "display_data"
    },
    {
     "data": {
      "application/vnd.jupyter.widget-view+json": {
       "model_id": "26e0a2ca51844d2eac6fb321a3715cf7",
       "version_major": 2,
       "version_minor": 0
      },
      "text/plain": [
       "A Jupyter Widget"
      ]
     },
     "metadata": {},
     "output_type": "display_data"
    },
    {
     "data": {
      "application/vnd.jupyter.widget-view+json": {
       "model_id": "b0d7978b4e2b4991b30ad02a7b532564",
       "version_major": 2,
       "version_minor": 0
      },
      "text/plain": [
       "A Jupyter Widget"
      ]
     },
     "metadata": {},
     "output_type": "display_data"
    },
    {
     "data": {
      "application/vnd.jupyter.widget-view+json": {
       "model_id": "7ec3bda0b3474731b6b9f2de8c072b68",
       "version_major": 2,
       "version_minor": 0
      },
      "text/plain": [
       "A Jupyter Widget"
      ]
     },
     "metadata": {},
     "output_type": "display_data"
    },
    {
     "data": {
      "application/vnd.jupyter.widget-view+json": {
       "model_id": "29832556477e45cbab049875e481c2e3",
       "version_major": 2,
       "version_minor": 0
      },
      "text/plain": [
       "A Jupyter Widget"
      ]
     },
     "metadata": {},
     "output_type": "display_data"
    },
    {
     "data": {
      "application/vnd.jupyter.widget-view+json": {
       "model_id": "adc51af236e14022aeda3c7a93a208e5",
       "version_major": 2,
       "version_minor": 0
      },
      "text/plain": [
       "A Jupyter Widget"
      ]
     },
     "metadata": {},
     "output_type": "display_data"
    },
    {
     "data": {
      "application/vnd.jupyter.widget-view+json": {
       "model_id": "7a12a0c94f64468cb400db5c3cb9604c",
       "version_major": 2,
       "version_minor": 0
      },
      "text/plain": [
       "A Jupyter Widget"
      ]
     },
     "metadata": {},
     "output_type": "display_data"
    },
    {
     "data": {
      "application/vnd.jupyter.widget-view+json": {
       "model_id": "c98b93a9ab2c423caacaa3d5ec114b9e",
       "version_major": 2,
       "version_minor": 0
      },
      "text/plain": [
       "A Jupyter Widget"
      ]
     },
     "metadata": {},
     "output_type": "display_data"
    },
    {
     "data": {
      "application/vnd.jupyter.widget-view+json": {
       "model_id": "a56751091b3740aea4a0ea47ff582991",
       "version_major": 2,
       "version_minor": 0
      },
      "text/plain": [
       "A Jupyter Widget"
      ]
     },
     "metadata": {},
     "output_type": "display_data"
    },
    {
     "data": {
      "application/vnd.jupyter.widget-view+json": {
       "model_id": "a42fe4496a7548efa307d1a9f29b3bd8",
       "version_major": 2,
       "version_minor": 0
      },
      "text/plain": [
       "A Jupyter Widget"
      ]
     },
     "metadata": {},
     "output_type": "display_data"
    },
    {
     "data": {
      "application/vnd.jupyter.widget-view+json": {
       "model_id": "adccfb13f2324b688ae1ac2e267837b2",
       "version_major": 2,
       "version_minor": 0
      },
      "text/plain": [
       "A Jupyter Widget"
      ]
     },
     "metadata": {},
     "output_type": "display_data"
    },
    {
     "data": {
      "application/vnd.jupyter.widget-view+json": {
       "model_id": "fd448eece41846d8a028958b5990fe97",
       "version_major": 2,
       "version_minor": 0
      },
      "text/plain": [
       "A Jupyter Widget"
      ]
     },
     "metadata": {},
     "output_type": "display_data"
    },
    {
     "data": {
      "application/vnd.jupyter.widget-view+json": {
       "model_id": "c2499ba4fbb242848865cad49cd66905",
       "version_major": 2,
       "version_minor": 0
      },
      "text/plain": [
       "A Jupyter Widget"
      ]
     },
     "metadata": {},
     "output_type": "display_data"
    },
    {
     "data": {
      "application/vnd.jupyter.widget-view+json": {
       "model_id": "e6f99dc1b078410a8186db5b6c7296ca",
       "version_major": 2,
       "version_minor": 0
      },
      "text/plain": [
       "A Jupyter Widget"
      ]
     },
     "metadata": {},
     "output_type": "display_data"
    },
    {
     "data": {
      "application/vnd.jupyter.widget-view+json": {
       "model_id": "cc1b79a6aaeb46bb96e131e1974eea02",
       "version_major": 2,
       "version_minor": 0
      },
      "text/plain": [
       "A Jupyter Widget"
      ]
     },
     "metadata": {},
     "output_type": "display_data"
    },
    {
     "data": {
      "application/vnd.jupyter.widget-view+json": {
       "model_id": "42e98686ad024e0c8dba0a4a310dd4c9",
       "version_major": 2,
       "version_minor": 0
      },
      "text/plain": [
       "A Jupyter Widget"
      ]
     },
     "metadata": {},
     "output_type": "display_data"
    },
    {
     "data": {
      "application/vnd.jupyter.widget-view+json": {
       "model_id": "5b04fd803a304bde89f3f77c7bdc9572",
       "version_major": 2,
       "version_minor": 0
      },
      "text/plain": [
       "A Jupyter Widget"
      ]
     },
     "metadata": {},
     "output_type": "display_data"
    },
    {
     "data": {
      "application/vnd.jupyter.widget-view+json": {
       "model_id": "ae9e882fbca94eef9e93d696c2996947",
       "version_major": 2,
       "version_minor": 0
      },
      "text/plain": [
       "A Jupyter Widget"
      ]
     },
     "metadata": {},
     "output_type": "display_data"
    },
    {
     "data": {
      "application/vnd.jupyter.widget-view+json": {
       "model_id": "23d7bdad49f449ada4d4d92b6a28a217",
       "version_major": 2,
       "version_minor": 0
      },
      "text/plain": [
       "A Jupyter Widget"
      ]
     },
     "metadata": {},
     "output_type": "display_data"
    },
    {
     "data": {
      "application/vnd.jupyter.widget-view+json": {
       "model_id": "9cd781897cf64043824b88b9e4577dbd",
       "version_major": 2,
       "version_minor": 0
      },
      "text/plain": [
       "A Jupyter Widget"
      ]
     },
     "metadata": {},
     "output_type": "display_data"
    },
    {
     "data": {
      "application/vnd.jupyter.widget-view+json": {
       "model_id": "bc0833fb363a43a799ceb4588223e6e7",
       "version_major": 2,
       "version_minor": 0
      },
      "text/plain": [
       "A Jupyter Widget"
      ]
     },
     "metadata": {},
     "output_type": "display_data"
    },
    {
     "data": {
      "application/vnd.jupyter.widget-view+json": {
       "model_id": "807d7286afbb441cb4148989858b2c53",
       "version_major": 2,
       "version_minor": 0
      },
      "text/plain": [
       "A Jupyter Widget"
      ]
     },
     "metadata": {},
     "output_type": "display_data"
    },
    {
     "data": {
      "application/vnd.jupyter.widget-view+json": {
       "model_id": "970c887e55bd4cd3ae8013ec46ffe846",
       "version_major": 2,
       "version_minor": 0
      },
      "text/plain": [
       "A Jupyter Widget"
      ]
     },
     "metadata": {},
     "output_type": "display_data"
    },
    {
     "data": {
      "application/vnd.jupyter.widget-view+json": {
       "model_id": "9701866600cb4e2b8550401926d2d24a",
       "version_major": 2,
       "version_minor": 0
      },
      "text/plain": [
       "A Jupyter Widget"
      ]
     },
     "metadata": {},
     "output_type": "display_data"
    },
    {
     "data": {
      "application/vnd.jupyter.widget-view+json": {
       "model_id": "ab805633467a4f57bd055c133024beca",
       "version_major": 2,
       "version_minor": 0
      },
      "text/plain": [
       "A Jupyter Widget"
      ]
     },
     "metadata": {},
     "output_type": "display_data"
    },
    {
     "data": {
      "application/vnd.jupyter.widget-view+json": {
       "model_id": "045b75602218488d8997e655b9f6c478",
       "version_major": 2,
       "version_minor": 0
      },
      "text/plain": [
       "A Jupyter Widget"
      ]
     },
     "metadata": {},
     "output_type": "display_data"
    },
    {
     "data": {
      "application/vnd.jupyter.widget-view+json": {
       "model_id": "af77aa2723824568a56ffecaa38f0d6c",
       "version_major": 2,
       "version_minor": 0
      },
      "text/plain": [
       "A Jupyter Widget"
      ]
     },
     "metadata": {},
     "output_type": "display_data"
    },
    {
     "data": {
      "application/vnd.jupyter.widget-view+json": {
       "model_id": "b29f055b0eb04d6cbec2e38eb2f9294d",
       "version_major": 2,
       "version_minor": 0
      },
      "text/plain": [
       "A Jupyter Widget"
      ]
     },
     "metadata": {},
     "output_type": "display_data"
    },
    {
     "data": {
      "application/vnd.jupyter.widget-view+json": {
       "model_id": "852f0e847ee040e58f55cd2853152932",
       "version_major": 2,
       "version_minor": 0
      },
      "text/plain": [
       "A Jupyter Widget"
      ]
     },
     "metadata": {},
     "output_type": "display_data"
    },
    {
     "data": {
      "application/vnd.jupyter.widget-view+json": {
       "model_id": "5009df9007064a8a904b5919303f92ad",
       "version_major": 2,
       "version_minor": 0
      },
      "text/plain": [
       "A Jupyter Widget"
      ]
     },
     "metadata": {},
     "output_type": "display_data"
    },
    {
     "data": {
      "application/vnd.jupyter.widget-view+json": {
       "model_id": "64b4ffb0fb704ae48da93809183fc0cd",
       "version_major": 2,
       "version_minor": 0
      },
      "text/plain": [
       "A Jupyter Widget"
      ]
     },
     "metadata": {},
     "output_type": "display_data"
    },
    {
     "data": {
      "application/vnd.jupyter.widget-view+json": {
       "model_id": "2d16be953453402ba24dd0c631608eed",
       "version_major": 2,
       "version_minor": 0
      },
      "text/plain": [
       "A Jupyter Widget"
      ]
     },
     "metadata": {},
     "output_type": "display_data"
    },
    {
     "data": {
      "application/vnd.jupyter.widget-view+json": {
       "model_id": "89c8177d98ae43f0becca0f5f5d81808",
       "version_major": 2,
       "version_minor": 0
      },
      "text/plain": [
       "A Jupyter Widget"
      ]
     },
     "metadata": {},
     "output_type": "display_data"
    },
    {
     "data": {
      "application/vnd.jupyter.widget-view+json": {
       "model_id": "127ea3c558dc4f43b694cef10948aef4",
       "version_major": 2,
       "version_minor": 0
      },
      "text/plain": [
       "A Jupyter Widget"
      ]
     },
     "metadata": {},
     "output_type": "display_data"
    },
    {
     "data": {
      "application/vnd.jupyter.widget-view+json": {
       "model_id": "9b21f796bbff475f9e46d22e7941fb43",
       "version_major": 2,
       "version_minor": 0
      },
      "text/plain": [
       "A Jupyter Widget"
      ]
     },
     "metadata": {},
     "output_type": "display_data"
    },
    {
     "data": {
      "application/vnd.jupyter.widget-view+json": {
       "model_id": "7fd69eea94934274b11f03b0265bc7be",
       "version_major": 2,
       "version_minor": 0
      },
      "text/plain": [
       "A Jupyter Widget"
      ]
     },
     "metadata": {},
     "output_type": "display_data"
    },
    {
     "data": {
      "application/vnd.jupyter.widget-view+json": {
       "model_id": "4c297e0c2cdb47968b875416aa6f824f",
       "version_major": 2,
       "version_minor": 0
      },
      "text/plain": [
       "A Jupyter Widget"
      ]
     },
     "metadata": {},
     "output_type": "display_data"
    },
    {
     "data": {
      "application/vnd.jupyter.widget-view+json": {
       "model_id": "abfca3aef5ed49818f6be69208b44257",
       "version_major": 2,
       "version_minor": 0
      },
      "text/plain": [
       "A Jupyter Widget"
      ]
     },
     "metadata": {},
     "output_type": "display_data"
    },
    {
     "data": {
      "application/vnd.jupyter.widget-view+json": {
       "model_id": "e860ed48020c4754b460489e4169b273",
       "version_major": 2,
       "version_minor": 0
      },
      "text/plain": [
       "A Jupyter Widget"
      ]
     },
     "metadata": {},
     "output_type": "display_data"
    },
    {
     "data": {
      "application/vnd.jupyter.widget-view+json": {
       "model_id": "1ca06bfd197b4cc9843ad3f15238ed1f",
       "version_major": 2,
       "version_minor": 0
      },
      "text/plain": [
       "A Jupyter Widget"
      ]
     },
     "metadata": {},
     "output_type": "display_data"
    },
    {
     "data": {
      "application/vnd.jupyter.widget-view+json": {
       "model_id": "1e47292c1678475486abcb4693db2343",
       "version_major": 2,
       "version_minor": 0
      },
      "text/plain": [
       "A Jupyter Widget"
      ]
     },
     "metadata": {},
     "output_type": "display_data"
    },
    {
     "data": {
      "application/vnd.jupyter.widget-view+json": {
       "model_id": "e93445bf4fdf4296942f86f49541b90f",
       "version_major": 2,
       "version_minor": 0
      },
      "text/plain": [
       "A Jupyter Widget"
      ]
     },
     "metadata": {},
     "output_type": "display_data"
    },
    {
     "data": {
      "application/vnd.jupyter.widget-view+json": {
       "model_id": "2304d27c0b2047c2a5b1c6736e198433",
       "version_major": 2,
       "version_minor": 0
      },
      "text/plain": [
       "A Jupyter Widget"
      ]
     },
     "metadata": {},
     "output_type": "display_data"
    },
    {
     "data": {
      "application/vnd.jupyter.widget-view+json": {
       "model_id": "fd46da0eac084e57bb3d2630f34643bc",
       "version_major": 2,
       "version_minor": 0
      },
      "text/plain": [
       "A Jupyter Widget"
      ]
     },
     "metadata": {},
     "output_type": "display_data"
    },
    {
     "data": {
      "application/vnd.jupyter.widget-view+json": {
       "model_id": "c10f5889718946659bf1709d826154e6",
       "version_major": 2,
       "version_minor": 0
      },
      "text/plain": [
       "A Jupyter Widget"
      ]
     },
     "metadata": {},
     "output_type": "display_data"
    },
    {
     "name": "stdout",
     "output_type": "stream",
     "text": [
      "\n",
      "Model training time: 52 minutes 51.8 seconds\n"
     ]
    }
   ],
   "source": [
    "#model training\n",
    "start_time = time.monotonic()\n",
    "\n",
    "H = model_f.fit_generator(datagen_angle.flow(X_train_sample, y_train_sample, batch_size=64, \n",
    "                                             noise_on=True,noise=((1,0.5,1,0.5),(1,0.5,1,0.5))), #add noise mean(4 channel) and sigma(4 channels)\n",
    "                    steps_per_epoch=len(X_train_sample)/64,\n",
    "                    validation_data=datagen_angle_val.flow(X_val_tune, y_val_tune, batch_size=40, shuffle=False, \n",
    "                                             noise_on=True,noise=((1,0.5,1,0.5),(1,0.5,1,0.5))), \n",
    "                    validation_steps=len(X_val)/40,\n",
    "                    #validation_data=[X_val,y_val],\n",
    "                    epochs=200, callbacks=callbacks,\n",
    "                    verbose=0)\n",
    "\n",
    "model_time = time.monotonic() - start_time\n",
    "print(\"Model training time: \" + '{:d}'.format(int(model_time // 60)) + \" minutes \" \n",
    "      + '{:.1f}'.format(model_time % 60) + \" seconds\")"
   ]
  },
  {
   "cell_type": "code",
   "execution_count": 50,
   "metadata": {},
   "outputs": [
    {
     "data": {
      "image/png": "[encoded data removed]",
      "text/plain": [
       "<matplotlib.figure.Figure at 0x7f8aa3d6d588>"
      ]
     },
     "metadata": {},
     "output_type": "display_data"
    }
   ],
   "source": [
    "h = lScheduler.history\n",
    "plt.plot(h['lr'], color=\"b\", label='lr')\n",
    "plt.legend()\n",
    "plt.xlabel('# iterations')\n",
    "plt.show()"
   ]
  },
  {
   "cell_type": "code",
   "execution_count": 51,
   "metadata": {
    "scrolled": true
   },
   "outputs": [
    {
     "data": {
      "image/png": "[encoded data removed]",
      "text/plain": [
       "<matplotlib.figure.Figure at 0x7f8ab6a28400>"
      ]
     },
     "metadata": {},
     "output_type": "display_data"
    }
   ],
   "source": [
    "plt.plot(H.history['loss'], color=\"b\", label='Training loss')\n",
    "plt.plot(H.history['val_loss'], color=\"r\", label='Validation loss')\n",
    "plt.legend()\n",
    "plt.xlabel('# epochs')\n",
    "plt.show()"
   ]
  },
  {
   "cell_type": "code",
   "execution_count": 52,
   "metadata": {
    "collapsed": true
   },
   "outputs": [],
   "source": [
    "model_f.set_weights(heapq.nlargest(1,modelEnsemble.models)[0][2])"
   ]
  },
  {
   "cell_type": "markdown",
   "metadata": {},
   "source": [
    "### Additional training epochs  - warm start"
   ]
  },
  {
   "cell_type": "code",
   "execution_count": 53,
   "metadata": {},
   "outputs": [
    {
     "data": {
      "application/vnd.jupyter.widget-view+json": {
       "model_id": "fdb8596ec8f241ed89c2e731fe92a174",
       "version_major": 2,
       "version_minor": 0
      },
      "text/plain": [
       "A Jupyter Widget"
      ]
     },
     "metadata": {},
     "output_type": "display_data"
    },
    {
     "data": {
      "application/vnd.jupyter.widget-view+json": {
       "model_id": "22f4296ba63a43b7b422cc0d47eea154",
       "version_major": 2,
       "version_minor": 0
      },
      "text/plain": [
       "A Jupyter Widget"
      ]
     },
     "metadata": {},
     "output_type": "display_data"
    },
    {
     "data": {
      "application/vnd.jupyter.widget-view+json": {
       "model_id": "9c02ed37b17945c0bca31bd701bd44f7",
       "version_major": 2,
       "version_minor": 0
      },
      "text/plain": [
       "A Jupyter Widget"
      ]
     },
     "metadata": {},
     "output_type": "display_data"
    },
    {
     "data": {
      "application/vnd.jupyter.widget-view+json": {
       "model_id": "29d354ddf7cc490dab28b4c252344698",
       "version_major": 2,
       "version_minor": 0
      },
      "text/plain": [
       "A Jupyter Widget"
      ]
     },
     "metadata": {},
     "output_type": "display_data"
    },
    {
     "data": {
      "application/vnd.jupyter.widget-view+json": {
       "model_id": "3eb23213c8154e9da219c4a3176889f5",
       "version_major": 2,
       "version_minor": 0
      },
      "text/plain": [
       "A Jupyter Widget"
      ]
     },
     "metadata": {},
     "output_type": "display_data"
    },
    {
     "data": {
      "application/vnd.jupyter.widget-view+json": {
       "model_id": "4a5fa913fb4a4ddeb105fb4abf9f6475",
       "version_major": 2,
       "version_minor": 0
      },
      "text/plain": [
       "A Jupyter Widget"
      ]
     },
     "metadata": {},
     "output_type": "display_data"
    },
    {
     "data": {
      "application/vnd.jupyter.widget-view+json": {
       "model_id": "c40842e59d144121a0152a49a4331b70",
       "version_major": 2,
       "version_minor": 0
      },
      "text/plain": [
       "A Jupyter Widget"
      ]
     },
     "metadata": {},
     "output_type": "display_data"
    },
    {
     "data": {
      "application/vnd.jupyter.widget-view+json": {
       "model_id": "8c1f703daab741eb9f99938b9cd8fbb2",
       "version_major": 2,
       "version_minor": 0
      },
      "text/plain": [
       "A Jupyter Widget"
      ]
     },
     "metadata": {},
     "output_type": "display_data"
    },
    {
     "data": {
      "application/vnd.jupyter.widget-view+json": {
       "model_id": "d695cfb57e2346a99a4ddee0fe5bca0d",
       "version_major": 2,
       "version_minor": 0
      },
      "text/plain": [
       "A Jupyter Widget"
      ]
     },
     "metadata": {},
     "output_type": "display_data"
    },
    {
     "data": {
      "application/vnd.jupyter.widget-view+json": {
       "model_id": "706409e82e344c43a7c963f010b278f3",
       "version_major": 2,
       "version_minor": 0
      },
      "text/plain": [
       "A Jupyter Widget"
      ]
     },
     "metadata": {},
     "output_type": "display_data"
    },
    {
     "data": {
      "application/vnd.jupyter.widget-view+json": {
       "model_id": "0f55d86f8164416995eb96db126ff0f9",
       "version_major": 2,
       "version_minor": 0
      },
      "text/plain": [
       "A Jupyter Widget"
      ]
     },
     "metadata": {},
     "output_type": "display_data"
    },
    {
     "data": {
      "application/vnd.jupyter.widget-view+json": {
       "model_id": "43780b8930e443d5830c6c3b17351992",
       "version_major": 2,
       "version_minor": 0
      },
      "text/plain": [
       "A Jupyter Widget"
      ]
     },
     "metadata": {},
     "output_type": "display_data"
    },
    {
     "data": {
      "application/vnd.jupyter.widget-view+json": {
       "model_id": "11c0158077c84f38b59bcd463f9e03a8",
       "version_major": 2,
       "version_minor": 0
      },
      "text/plain": [
       "A Jupyter Widget"
      ]
     },
     "metadata": {},
     "output_type": "display_data"
    },
    {
     "data": {
      "application/vnd.jupyter.widget-view+json": {
       "model_id": "b510d56338154d49862c1d754b61a3ff",
       "version_major": 2,
       "version_minor": 0
      },
      "text/plain": [
       "A Jupyter Widget"
      ]
     },
     "metadata": {},
     "output_type": "display_data"
    },
    {
     "data": {
      "application/vnd.jupyter.widget-view+json": {
       "model_id": "12d9dc8148e4411c82f70b0693c36117",
       "version_major": 2,
       "version_minor": 0
      },
      "text/plain": [
       "A Jupyter Widget"
      ]
     },
     "metadata": {},
     "output_type": "display_data"
    },
    {
     "data": {
      "application/vnd.jupyter.widget-view+json": {
       "model_id": "3e31898b621643c9b6cc084c53363d06",
       "version_major": 2,
       "version_minor": 0
      },
      "text/plain": [
       "A Jupyter Widget"
      ]
     },
     "metadata": {},
     "output_type": "display_data"
    },
    {
     "name": "stdout",
     "output_type": "stream",
     "text": [
      "\n",
      "Model training time: 3 minutes 54.2 seconds\n"
     ]
    }
   ],
   "source": [
    "#addtional training epochs - warm start\n",
    "#lScheduler = LScheduler(initial_lrate=0.000001, drop=0.66, patience=3)\n",
    "modelEnsemble2 = ModelHistory(listSize=1)\n",
    "lScheduler = CyclicLR(base_lr=1e-7, max_lr=1e-5,\n",
    "                                 step_size=60, mode='triangular3', beta=0.33, theta=0.22)\n",
    "callbacks = get_callbacks(filepath=model_best_weights_path, save_to_disc=False, lScheduler=lScheduler,\n",
    "                          modelHistoryCallback=modelEnsemble2)\n",
    "model_f.compile(optimizer=Adam(lr=1e-7),loss='binary_crossentropy',metrics=['accuracy'])\n",
    "start_time = time.monotonic()\n",
    "\n",
    "H2 = model_f.fit_generator(datagen_angle.flow(X_train_sample, y_train_sample, batch_size=48, shuffle=True, \n",
    "                                             noise_on=True,noise=((1,0.5,1,0.5),(1,0.5,1,0.5))),\n",
    "                    steps_per_epoch=len(X_train_sample)/48,\n",
    "                    validation_data=datagen_angle_val.flow(X_val, y_val, batch_size=48, shuffle=False, \n",
    "                                             noise_on=True,noise=((1,0.5,1,0.5),(1,0.5,1,0.5))), \n",
    "                    validation_steps=len(X_val)/48,\n",
    "                    #validation_data=[X_val,y_val],\n",
    "                    epochs=15, callbacks=callbacks,\n",
    "                    verbose=0)\n",
    "\n",
    "model_time = time.monotonic() - start_time\n",
    "print(\"Model training time: \" + '{:d}'.format(int(model_time // 60)) + \" minutes \" \n",
    "      + '{:.1f}'.format(model_time % 60) + \" seconds\")"
   ]
  },
  {
   "cell_type": "code",
   "execution_count": 54,
   "metadata": {},
   "outputs": [
    {
     "data": {
      "image/png": "[encoded data removed]",
      "text/plain": [
       "<matplotlib.figure.Figure at 0x7f8a64a50198>"
      ]
     },
     "metadata": {},
     "output_type": "display_data"
    }
   ],
   "source": [
    "h = lScheduler.history\n",
    "plt.plot(h['lr'], color=\"b\", label='lr')\n",
    "plt.legend()\n",
    "plt.xlabel('# iterations')\n",
    "plt.show()"
   ]
  },
  {
   "cell_type": "code",
   "execution_count": 55,
   "metadata": {
    "collapsed": true
   },
   "outputs": [],
   "source": [
    "for key in H.history:\n",
    "    H.history[key].extend(H2.history[key])"
   ]
  },
  {
   "cell_type": "code",
   "execution_count": 56,
   "metadata": {
    "scrolled": false
   },
   "outputs": [
    {
     "data": {
      "image/png": "[encoded data removed]",
      "text/plain": [
       "<matplotlib.figure.Figure at 0x7f8a90e1add8>"
      ]
     },
     "metadata": {},
     "output_type": "display_data"
    }
   ],
   "source": [
    "plt.plot(H2.history['loss'], color=\"b\", label='Training loss')\n",
    "plt.plot(H2.history['val_loss'], color=\"r\", label='Validation loss')\n",
    "plt.legend()\n",
    "plt.xlabel('# epochs')\n",
    "plt.show()"
   ]
  },
  {
   "cell_type": "code",
   "execution_count": 57,
   "metadata": {},
   "outputs": [
    {
     "data": {
      "image/png": "[encoded data removed]",
      "text/plain": [
       "<matplotlib.figure.Figure at 0x7f8a90577748>"
      ]
     },
     "metadata": {},
     "output_type": "display_data"
    }
   ],
   "source": [
    "plt.plot(H.history['loss'], color=\"b\", label='Training loss')\n",
    "plt.plot(H.history['val_loss'], color=\"r\", label='Validation loss')\n",
    "plt.legend()\n",
    "plt.xlabel('# epochs')\n",
    "plt.show()"
   ]
  },
  {
   "cell_type": "code",
   "execution_count": 58,
   "metadata": {
    "collapsed": true
   },
   "outputs": [],
   "source": [
    "# serialize model to JSON\n",
    "model_json = model_f.to_json()\n",
    "with open(\"models/model_gcompute_v1.json\", \"w\") as json_file:\n",
    "    json_file.write(model_json)"
   ]
  },
  {
   "cell_type": "code",
   "execution_count": 59,
   "metadata": {
    "collapsed": true
   },
   "outputs": [],
   "source": [
    "# load model from JSON - don't care about the weights rith now, they are saved separately\n",
    "with open(\"models/model_gcompute_v1.json\", \"r\") as json_file:\n",
    "    loaded_model_json = json_file.read()\n",
    "    model_f = model_from_json(loaded_model_json)"
   ]
  },
  {
   "cell_type": "code",
   "execution_count": 60,
   "metadata": {
    "collapsed": true,
    "scrolled": false
   },
   "outputs": [],
   "source": [
    "#model_object_path = model_path + \"model.\" + model_code + \"_\" + model_timestamp + '.hdf5'\n",
    "#model_f.save('models/last_model.hdf5') //crashes python kernel with Keras version 2.1.2\n",
    "#model_f = load_model(model_object_path)"
   ]
  },
  {
   "cell_type": "markdown",
   "metadata": {},
   "source": [
    "### Saving model history"
   ]
  },
  {
   "cell_type": "code",
   "execution_count": 61,
   "metadata": {},
   "outputs": [
    {
     "data": {
      "text/plain": [
       "174"
      ]
     },
     "execution_count": 61,
     "metadata": {},
     "output_type": "execute_result"
    }
   ],
   "source": [
    "argmin = np.array(H.history[\"loss\"]).argmin()\n",
    "argmin"
   ]
  },
  {
   "cell_type": "code",
   "execution_count": 62,
   "metadata": {
    "collapsed": true,
    "scrolled": true
   },
   "outputs": [],
   "source": [
    "argmin = np.array(H.history[\"val_loss\"]).argmin()\n",
    "argmax_acc = np.array(H.history[\"val_acc\"]).argmax()\n",
    "#with open('current_model.py','r') as model_python_code_file:\n",
    "#    models_history = pd.DataFrame({\"timestamp\":[model_timestamp], \n",
    "#                                    \"val_loss [min]\":[H.history['val_loss'][argmin]],\n",
    "#                                    \"epoch [val_loss [min]]\":argmin,\n",
    "#                                    \"training_loss [val_loss [min]]\":[H.history['loss'][argmin]],\n",
    "#                                    \"val_acc [val_loss [min]]\":[H.history['val_acc'][argmin]],\n",
    "#                                    \"training_acc [val_loss [min]]\":[H.history['acc'][argmin]],\n",
    "#                                    \n",
    "#                                    \"val_acc [max]\":[H.history['val_acc'][argmax_acc]],\n",
    "#                                    \"epoch [val_acc [max]]\":argmax_acc,\n",
    "#                                    \"training_loss [val_acc [max]]\":[H.history['loss'][argmax_acc]],\n",
    "#                                    \"val_loss [val_acc [max]]\":[H.history['val_loss'][argmax_acc]],\n",
    "#                                    \"training_acc [val_acc [max]]\":[H.history['acc'][argmax_acc]],\n",
    "#                                    \n",
    "#                                    \"model_path\":[model_object_path],\n",
    "#                                    \"model_weights_path\":[model_best_weights_path],\n",
    "#                                    \"model_python_code\":[model_python_code_file.read().replace('\\r\\n','\\n')],\n",
    "#                                    \"model_comment\":[model_comment]\n",
    "#                                })\n",
    "#                               \n",
    "#models_history = models_history[[\"timestamp\", \n",
    "#                                 \"epoch [val_loss [min]]\", \"val_loss [min]\", \"training_loss [val_loss [min]]\",\n",
    "#                                 \"val_acc [val_loss [min]]\", \"training_acc [val_loss [min]]\",\n",
    "#                                 \"epoch [val_acc [max]]\", \"val_acc [max]\", \"training_loss [val_acc [max]]\",\n",
    "#                                 \"val_loss [val_acc [max]]\", \"training_acc [val_acc [max]]\",\n",
    "#                                 \"model_path\",\"model_weights_path\",\"model_python_code\",\"model_comment\"]]\n",
    "#models_history.head()"
   ]
  },
  {
   "cell_type": "code",
   "execution_count": 63,
   "metadata": {
    "collapsed": true
   },
   "outputs": [],
   "source": [
    "#print(\"Min validation loss epoch:\")\n",
    "#print(\"epoch: %d\" %(argmin),\n",
    "#      \"; val loss [min] %.4f: \" % (models_history[\"val_loss [min]\"][0]), \n",
    "#      \"; training loss: %.4f\" % (models_history[\"training_loss [val_loss [min]]\"][0]),\n",
    "#      \"; val acc: %.4f\" % (models_history[\"val_acc [val_loss [min]]\"][0]),\n",
    "#      \"; training acc: %.4f \" % (models_history[\"training_acc [val_loss [min]]\"][0])\n",
    "#     )\n",
    "#print(\"Max validation accuracy epoch:\")\n",
    "#print(\"epoch: %d\" %(argmax_acc),\n",
    "#      \"; val loss %.4f: \" % (models_history[\"val_loss [val_acc [max]]\"][0]), \n",
    "#      \"; training loss: %.4f\" % (models_history[\"training_loss [val_acc [max]]\"][0]),\n",
    "#      \"; val acc [max]: %.4f\" % (models_history[\"val_acc [max]\"][0]),\n",
    "#      \"; training acc: %.4f \" % (models_history[\"training_acc [val_acc [max]]\"][0]),\n",
    "#     )\n",
    "#print(\"model comment:\", model_comment)\n",
    "#"
   ]
  },
  {
   "cell_type": "code",
   "execution_count": 64,
   "metadata": {
    "collapsed": true
   },
   "outputs": [],
   "source": [
    "#with open('models_history.csv', 'a') as f:\n",
    "#    models_history.to_csv(f, header=False,index=False)\n",
    "#    #models_history.to_csv(f, index=False)"
   ]
  },
  {
   "cell_type": "code",
   "execution_count": 65,
   "metadata": {
    "collapsed": true,
    "scrolled": false
   },
   "outputs": [],
   "source": [
    "#df = pd.read_csv('models_history.csv')\n",
    "#df.tail()"
   ]
  },
  {
   "cell_type": "markdown",
   "metadata": {},
   "source": [
    "### Model Ensemble"
   ]
  },
  {
   "cell_type": "code",
   "execution_count": 66,
   "metadata": {},
   "outputs": [
    {
     "data": {
      "text/plain": [
       "[0.19903055454619886, 0.92243436754176611]"
      ]
     },
     "execution_count": 66,
     "metadata": {},
     "output_type": "execute_result"
    }
   ],
   "source": [
    "model_f.set_weights(heapq.nlargest(1,modelEnsemble.models)[0][2])\n",
    "model_f.compile(optimizer=Adam(lr=0.001, beta_1=0.9, beta_2=0.999, epsilon=1e-08, decay=0),\n",
    "loss='binary_crossentropy',\n",
    "metrics=['accuracy'])\n",
    "model_f.evaluate_generator(datagen_angle_val.flow(X_val, y_val, batch_size=16, shuffle=True, \n",
    "                                             noise_on=True,noise=((1,0.5,1,0.5),(1,0.5,1,0.5))), \n",
    "                           steps = len(X)/6)"
   ]
  },
  {
   "cell_type": "code",
   "execution_count": 67,
   "metadata": {
    "collapsed": true,
    "scrolled": true
   },
   "outputs": [],
   "source": [
    "heapq.heappush(modelEnsemble.models, heapq.nlargest(1,modelEnsemble2.models)[0])"
   ]
  },
  {
   "cell_type": "code",
   "execution_count": 68,
   "metadata": {
    "collapsed": true
   },
   "outputs": [],
   "source": [
    "with open('models/modelEnsemble_gcompute_v27.pickle', 'wb') as handle:\n",
    "    pickle.dump(modelEnsemble.models, handle, protocol=pickle.HIGHEST_PROTOCOL)"
   ]
  },
  {
   "cell_type": "code",
   "execution_count": 69,
   "metadata": {
    "collapsed": true
   },
   "outputs": [],
   "source": [
    "modelEnsemble = ModelHistory(listSize=106)\n",
    "with open('models/modelEnsemble_gcompute_v27.pickle', 'rb') as handle:\n",
    "    modelEnsemble.models = pickle.load(handle)"
   ]
  },
  {
   "cell_type": "code",
   "execution_count": 70,
   "metadata": {
    "collapsed": true
   },
   "outputs": [],
   "source": [
    "def get_prediction(model,weights, X, y):\n",
    "    model.set_weights(weights)\n",
    "    return model.predict_generator(datagen_angle_val.flow(X, y, batch_size=256, shuffle=False, \n",
    "                                             noise_on=True,noise=((1,0.5,1,0.5),(1,0.5,1,0.5))), \n",
    "                           steps = len(X)/255, verbose=1)"
   ]
  },
  {
   "cell_type": "code",
   "execution_count": 71,
   "metadata": {
    "collapsed": true
   },
   "outputs": [],
   "source": [
    "def get_ensemble_predictions(X, y, modelEnsemble):\n",
    "    predictions = [get_prediction(model_f, model[2], X, y)[:X.shape[0]]\n",
    "                   for model in tqdm(modelEnsemble.models)]    \n",
    "    temp_array = np.array(predictions)\n",
    "    del(predictions)\n",
    "    temp_array = np.swapaxes(temp_array,0,1)\n",
    "    temp_array = temp_array.reshape(temp_array.shape[0],temp_array.shape[1])\n",
    "    return temp_array"
   ]
  },
  {
   "cell_type": "code",
   "execution_count": 72,
   "metadata": {
    "collapsed": true
   },
   "outputs": [],
   "source": [
    "#with h5py.File('tmp_data/ensemble_data.h5', 'r') as hf:\n",
    "#    ensemble_train = hf['ensemble_train'][:]"
   ]
  },
  {
   "cell_type": "code",
   "execution_count": 73,
   "metadata": {},
   "outputs": [
    {
     "data": {
      "text/plain": [
       "0.25738911519163171"
      ]
     },
     "execution_count": 73,
     "metadata": {},
     "output_type": "execute_result"
    }
   ],
   "source": [
    "modelEnsemble.models[0][1]"
   ]
  },
  {
   "cell_type": "code",
   "execution_count": 74,
   "metadata": {
    "scrolled": true
   },
   "outputs": [
    {
     "data": {
      "application/vnd.jupyter.widget-view+json": {
       "model_id": "9c5360b7981946099db520a50f755ec9",
       "version_major": 2,
       "version_minor": 0
      },
      "text/plain": [
       "A Jupyter Widget"
      ]
     },
     "metadata": {},
     "output_type": "display_data"
    },
    {
     "name": "stdout",
     "output_type": "stream",
     "text": [
      "2/1 [======================================] - 2s 1s/step\n",
      "2/1 [======================================] - 2s 971ms/step\n",
      "2/1 [======================================] - 2s 931ms/step\n",
      "2/1 [======================================] - 2s 940ms/step\n",
      "2/1 [======================================] - 2s 933ms/step\n",
      "2/1 [======================================] - 2s 935ms/step\n",
      "2/1 [======================================] - 2s 932ms/step\n",
      "2/1 [======================================] - 2s 938ms/step\n",
      "2/1 [======================================] - 2s 929ms/step\n",
      "2/1 [======================================] - 2s 926ms/step\n",
      "2/1 [======================================] - 2s 926ms/step\n",
      "2/1 [======================================] - 2s 935ms/step\n",
      "2/1 [======================================] - 2s 929ms/step\n",
      "2/1 [======================================] - 2s 929ms/step\n",
      "2/1 [======================================] - 2s 931ms/step\n",
      "2/1 [======================================] - 2s 936ms/step\n",
      "2/1 [======================================] - 2s 935ms/step\n",
      "2/1 [======================================] - 2s 924ms/step\n",
      "2/1 [======================================] - 2s 928ms/step\n",
      "2/1 [======================================] - 2s 947ms/step\n",
      "2/1 [======================================] - 2s 929ms/step\n",
      "2/1 [======================================] - 2s 936ms/step\n",
      "2/1 [======================================] - 2s 933ms/step\n",
      "2/1 [======================================] - 2s 943ms/step\n",
      "2/1 [======================================] - 2s 929ms/step\n",
      "2/1 [======================================] - 2s 941ms/step\n",
      "2/1 [======================================] - 2s 941ms/step\n",
      "2/1 [======================================] - 2s 927ms/step\n",
      "2/1 [======================================] - 2s 941ms/step\n",
      "2/1 [======================================] - 2s 946ms/step\n",
      "2/1 [======================================] - 2s 1s/step\n",
      "2/1 [======================================] - 2s 920ms/step\n",
      "2/1 [======================================] - 2s 938ms/step\n",
      "2/1 [======================================] - 2s 926ms/step\n",
      "2/1 [======================================] - 2s 931ms/step\n",
      "2/1 [======================================] - 2s 936ms/step\n",
      "2/1 [======================================] - 2s 1s/step\n",
      "2/1 [======================================] - 2s 923ms/step\n",
      "2/1 [======================================] - 2s 924ms/step\n",
      "2/1 [======================================] - 2s 920ms/step\n",
      "2/1 [======================================] - 2s 939ms/step\n",
      "2/1 [======================================] - 2s 936ms/step\n",
      "2/1 [======================================] - 2s 928ms/step\n",
      "2/1 [======================================] - 2s 911ms/step\n",
      "2/1 [======================================] - 2s 941ms/step\n",
      "2/1 [======================================] - 2s 936ms/step\n",
      "2/1 [======================================] - 2s 929ms/step\n",
      "2/1 [======================================] - 2s 928ms/step\n",
      "2/1 [======================================] - 2s 918ms/step\n",
      "2/1 [======================================] - 2s 919ms/step\n",
      "2/1 [======================================] - 2s 936ms/step\n",
      "2/1 [======================================] - 2s 920ms/step\n",
      "2/1 [======================================] - 2s 926ms/step\n",
      "2/1 [======================================] - 2s 937ms/step\n",
      "2/1 [======================================] - 2s 907ms/step\n",
      "2/1 [======================================] - 2s 936ms/step\n",
      "2/1 [======================================] - 2s 915ms/step\n",
      "2/1 [======================================] - 2s 923ms/step\n",
      "2/1 [======================================] - 2s 919ms/step\n",
      "2/1 [======================================] - 2s 926ms/step\n",
      "2/1 [======================================] - 2s 924ms/step\n",
      "2/1 [======================================] - 2s 905ms/step\n",
      "2/1 [======================================] - 2s 931ms/step\n",
      "2/1 [======================================] - 2s 910ms/step\n",
      "2/1 [======================================] - 2s 913ms/step\n",
      "2/1 [======================================] - 2s 924ms/step\n",
      "2/1 [======================================] - 2s 905ms/step\n",
      "2/1 [======================================] - 2s 918ms/step\n",
      "2/1 [======================================] - 2s 922ms/step\n",
      "2/1 [======================================] - 2s 923ms/step\n",
      "2/1 [======================================] - 2s 926ms/step\n",
      "2/1 [======================================] - 2s 905ms/step\n",
      "2/1 [======================================] - 2s 913ms/step\n",
      "2/1 [======================================] - 2s 911ms/step\n",
      "2/1 [======================================] - 2s 909ms/step\n",
      "2/1 [======================================] - 2s 976ms/step\n",
      "2/1 [======================================] - 2s 979ms/step\n",
      "2/1 [======================================] - 2s 980ms/step\n",
      "2/1 [======================================] - 2s 926ms/step\n",
      "2/1 [======================================] - 2s 923ms/step\n",
      "2/1 [======================================] - 2s 935ms/step\n",
      "2/1 [======================================] - 2s 919ms/step\n",
      "2/1 [======================================] - 2s 909ms/step\n",
      "2/1 [======================================] - 2s 943ms/step\n",
      "2/1 [======================================] - 2s 941ms/step\n",
      "2/1 [======================================] - 2s 938ms/step\n",
      "2/1 [======================================] - 2s 934ms/step\n",
      "2/1 [======================================] - 2s 924ms/step\n",
      "2/1 [======================================] - 2s 924ms/step\n",
      "2/1 [======================================] - 2s 938ms/step\n",
      "2/1 [======================================] - 2s 931ms/step\n",
      "2/1 [======================================] - 2s 945ms/step\n",
      "2/1 [======================================] - 2s 937ms/step\n",
      "2/1 [======================================] - 2s 933ms/step\n",
      "2/1 [======================================] - 2s 936ms/step\n",
      "2/1 [======================================] - 2s 942ms/step\n",
      "2/1 [======================================] - 2s 925ms/step\n",
      "2/1 [======================================] - 2s 939ms/step\n",
      "2/1 [======================================] - 2s 935ms/step\n",
      "2/1 [======================================] - 2s 935ms/step\n",
      "2/1 [======================================] - 2s 926ms/step\n",
      "2/1 [======================================] - 2s 921ms/step\n",
      "\n"
     ]
    },
    {
     "data": {
      "application/vnd.jupyter.widget-view+json": {
       "model_id": "b1eae91888634541a396a97e80aed49c",
       "version_major": 2,
       "version_minor": 0
      },
      "text/plain": [
       "A Jupyter Widget"
      ]
     },
     "metadata": {},
     "output_type": "display_data"
    },
    {
     "name": "stdout",
     "output_type": "stream",
     "text": [
      "1/0 [=============================================] - 1s 803ms/step\n",
      "1/0 [=============================================] - 1s 799ms/step\n",
      "1/0 [=============================================] - 1s 822ms/step\n",
      "1/0 [=============================================] - 1s 860ms/step\n",
      "1/0 [=============================================] - 1s 1s/step\n",
      "1/0 [=============================================] - 1s 793ms/step\n",
      "1/0 [=============================================] - 1s 819ms/step\n",
      "1/0 [=============================================] - 1s 782ms/step\n",
      "1/0 [=============================================] - 1s 810ms/step\n",
      "1/0 [=============================================] - 1s 806ms/step\n",
      "1/0 [=============================================] - 1s 817ms/step\n",
      "1/0 [=============================================] - 1s 805ms/step\n",
      "1/0 [=============================================] - 1s 805ms/step\n",
      "1/0 [=============================================] - 1s 799ms/step\n",
      "1/0 [=============================================] - 1s 811ms/step\n",
      "1/0 [=============================================] - 1s 803ms/step\n",
      "1/0 [=============================================] - 1s 818ms/step\n",
      "1/0 [=============================================] - 1s 827ms/step\n",
      "1/0 [=============================================] - 1s 793ms/step\n",
      "1/0 [=============================================] - 1s 806ms/step\n",
      "1/0 [=============================================] - 1s 819ms/step\n",
      "1/0 [=============================================] - 1s 821ms/step\n",
      "1/0 [=============================================] - 1s 824ms/step\n",
      "1/0 [=============================================] - 1s 822ms/step\n",
      "1/0 [=============================================] - 1s 783ms/step\n",
      "1/0 [=============================================] - 1s 799ms/step\n",
      "1/0 [=============================================] - 1s 794ms/step\n",
      "1/0 [=============================================] - 1s 807ms/step\n",
      "1/0 [=============================================] - 1s 826ms/step\n",
      "1/0 [=============================================] - 1s 833ms/step\n",
      "1/0 [=============================================] - 1s 834ms/step\n",
      "1/0 [=============================================] - 1s 810ms/step\n",
      "1/0 [=============================================] - 1s 799ms/step\n",
      "1/0 [=============================================] - 1s 804ms/step\n",
      "1/0 [=============================================] - 1s 816ms/step\n",
      "1/0 [=============================================] - 1s 819ms/step\n",
      "1/0 [=============================================] - 1s 861ms/step\n",
      "1/0 [=============================================] - 1s 830ms/step\n",
      "1/0 [=============================================] - 1s 849ms/step\n",
      "1/0 [=============================================] - 1s 836ms/step\n",
      "1/0 [=============================================] - 1s 833ms/step\n",
      "1/0 [=============================================] - 1s 822ms/step\n",
      "1/0 [=============================================] - 1s 826ms/step\n",
      "1/0 [=============================================] - 1s 854ms/step\n",
      "1/0 [=============================================] - 1s 833ms/step\n",
      "1/0 [=============================================] - 1s 853ms/step\n",
      "1/0 [=============================================] - 1s 862ms/step\n",
      "1/0 [=============================================] - 1s 864ms/step\n",
      "1/0 [=============================================] - 1s 820ms/step\n",
      "1/0 [=============================================] - 1s 850ms/step\n",
      "1/0 [=============================================] - 1s 843ms/step\n",
      "1/0 [=============================================] - 1s 841ms/step\n",
      "1/0 [=============================================] - 1s 841ms/step\n",
      "1/0 [=============================================] - 1s 838ms/step\n",
      "1/0 [=============================================] - 1s 827ms/step\n",
      "1/0 [=============================================] - 1s 851ms/step\n",
      "1/0 [=============================================] - 1s 837ms/step\n",
      "1/0 [=============================================] - 1s 830ms/step\n",
      "1/0 [=============================================] - 1s 844ms/step\n",
      "1/0 [=============================================] - 1s 855ms/step\n",
      "1/0 [=============================================] - 1s 846ms/step\n",
      "1/0 [=============================================] - 1s 821ms/step\n",
      "1/0 [=============================================] - 1s 813ms/step\n",
      "1/0 [=============================================] - 1s 852ms/step\n",
      "1/0 [=============================================] - 1s 837ms/step\n",
      "1/0 [=============================================] - 1s 847ms/step\n",
      "1/0 [=============================================] - 1s 846ms/step\n",
      "1/0 [=============================================] - 1s 805ms/step\n",
      "1/0 [=============================================] - 1s 846ms/step\n",
      "1/0 [=============================================] - 1s 824ms/step\n",
      "1/0 [=============================================] - 1s 842ms/step\n",
      "1/0 [=============================================] - 1s 836ms/step\n",
      "1/0 [=============================================] - 1s 845ms/step\n",
      "1/0 [=============================================] - 1s 837ms/step\n",
      "1/0 [=============================================] - 1s 841ms/step\n",
      "1/0 [=============================================] - 1s 838ms/step\n",
      "1/0 [=============================================] - 1s 842ms/step\n",
      "1/0 [=============================================] - 1s 814ms/step\n",
      "1/0 [=============================================] - 1s 834ms/step\n",
      "1/0 [=============================================] - 1s 845ms/step\n",
      "1/0 [=============================================] - 1s 850ms/step\n",
      "1/0 [=============================================] - 1s 816ms/step\n",
      "1/0 [=============================================] - 1s 845ms/step\n",
      "1/0 [=============================================] - 1s 822ms/step\n",
      "1/0 [=============================================] - 1s 852ms/step\n",
      "1/0 [=============================================] - 1s 852ms/step\n",
      "1/0 [=============================================] - 1s 844ms/step\n",
      "1/0 [=============================================] - 1s 855ms/step\n",
      "1/0 [=============================================] - 1s 856ms/step\n",
      "1/0 [=============================================] - 1s 849ms/step\n",
      "1/0 [=============================================] - 1s 832ms/step\n",
      "1/0 [=============================================] - 1s 829ms/step\n",
      "1/0 [=============================================] - 1s 828ms/step\n",
      "1/0 [=============================================] - 1s 843ms/step\n",
      "1/0 [=============================================] - 1s 848ms/step\n",
      "1/0 [=============================================] - 1s 852ms/step\n",
      "1/0 [=============================================] - 1s 828ms/step\n",
      "1/0 [=============================================] - 1s 829ms/step\n",
      "1/0 [=============================================] - 1s 855ms/step\n",
      "1/0 [=============================================] - 1s 853ms/step\n",
      "1/0 [=============================================] - 1s 857ms/step\n",
      "1/0 [=============================================] - 1s 840ms/step\n",
      "\n"
     ]
    }
   ],
   "source": [
    "ensemble_val = get_ensemble_predictions(X_val_tune, y_val_tune, modelEnsemble)\n",
    "ensemble_val_test = get_ensemble_predictions(X_val_test, y_val_test, modelEnsemble)"
   ]
  },
  {
   "cell_type": "code",
   "execution_count": 75,
   "metadata": {},
   "outputs": [
    {
     "data": {
      "text/plain": [
       "(393, 102)"
      ]
     },
     "execution_count": 75,
     "metadata": {},
     "output_type": "execute_result"
    }
   ],
   "source": [
    "with h5py.File('tmp_data/ensemble_data.h5', 'w') as hf:\n",
    "    hf.create_dataset(\"ensemble_val\",  data=ensemble_val)\n",
    "ensemble_val.shape"
   ]
  },
  {
   "cell_type": "code",
   "execution_count": 76,
   "metadata": {
    "collapsed": true
   },
   "outputs": [],
   "source": [
    "#with h5py.File('tmp_data/ensemble_data.h5', 'r') as hf:\n",
    "#    ensemble_val = hf['ensemble_val'][:]"
   ]
  },
  {
   "cell_type": "code",
   "execution_count": 77,
   "metadata": {
    "scrolled": true
   },
   "outputs": [
    {
     "data": {
      "text/plain": [
       "(393, 102)"
      ]
     },
     "execution_count": 77,
     "metadata": {},
     "output_type": "execute_result"
    }
   ],
   "source": [
    "ensemble_val.shape"
   ]
  },
  {
   "cell_type": "code",
   "execution_count": 78,
   "metadata": {},
   "outputs": [
    {
     "data": {
      "text/plain": [
       "(562, 3)"
      ]
     },
     "execution_count": 78,
     "metadata": {},
     "output_type": "execute_result"
    }
   ],
   "source": [
    "y_val.shape"
   ]
  },
  {
   "cell_type": "code",
   "execution_count": 79,
   "metadata": {},
   "outputs": [
    {
     "data": {
      "text/plain": [
       "(393, 102)"
      ]
     },
     "execution_count": 79,
     "metadata": {},
     "output_type": "execute_result"
    }
   ],
   "source": [
    "with h5py.File('tmp_data/ensemble_data.h5', 'w') as hf:\n",
    "    hf.create_dataset(\"ensemble_val_test\",  data=ensemble_val)\n",
    "ensemble_val.shape"
   ]
  },
  {
   "cell_type": "code",
   "execution_count": 80,
   "metadata": {
    "collapsed": true
   },
   "outputs": [],
   "source": [
    "def modelfit(alg, X, y , X_test, y_test, useTrainCV=True, cv_folds=5, early_stopping_rounds=50):\n",
    "    \n",
    "    if useTrainCV:\n",
    "        xgb_param = alg.get_xgb_params()\n",
    "        xgtrain = xgb.DMatrix(X, label=y)\n",
    "        cvresult = xgb.cv(xgb_param, xgtrain, num_boost_round=alg.get_params()['n_estimators'], nfold=cv_folds,\n",
    "            metrics='logloss', early_stopping_rounds=early_stopping_rounds)\n",
    "        alg.set_params(n_estimators=cvresult.shape[0])\n",
    "    \n",
    "    #Fit the algorithm on the data\n",
    "    alg.fit(X, y,eval_metric='logloss')\n",
    "        \n",
    "    #Predict training set:\n",
    "    dtrain_predictions = alg.predict(X)\n",
    "    dtrain_predprob = alg.predict_proba(X)[:,1]\n",
    "    dtest_predprob = alg.predict_proba(X_test)[:,1]\n",
    "        \n",
    "    #Print model report:\n",
    "    print(\"\\nModel Report\")\n",
    "    print(\"n_estimators: %d\" % cvresult.shape[0])\n",
    "    print(\"Accuracy : %.4g\" % metrics.accuracy_score(y, dtrain_predictions))\n",
    "    print(\"Log loss (Train): %f\" % metrics.log_loss(y, dtrain_predprob))\n",
    "    print(\"Log loss (Test): %f\" % metrics.log_loss(y_test, dtest_predprob))\n",
    "                    \n",
    "    feat_imp = pd.Series(alg.booster().get_fscore()).sort_values(ascending=False)\n",
    "    feat_imp.plot(kind='bar', title='Feature Importances')\n",
    "    plt.ylabel('Feature Importance Score')\n",
    "    plt.show()"
   ]
  },
  {
   "cell_type": "code",
   "execution_count": 81,
   "metadata": {
    "collapsed": true
   },
   "outputs": [],
   "source": [
    "#ensemble_train = get_ensemble_predictions(X_train, y_train, modelEnsemble)\n",
    "#with h5py.File('tmp_data/ensemble_data.h5', 'a') as hf:\n",
    "#    hf.create_dataset(\"ensemble_train\",  data=ensemble_train)"
   ]
  },
  {
   "cell_type": "code",
   "execution_count": 82,
   "metadata": {},
   "outputs": [],
   "source": [
    "#with h5py.File('tmp_data/ensemble_data.h5', 'r') as hf:\n",
    "#    ensemble_train = hf['ensemble_train'][:]"
   ]
  },
  {
   "cell_type": "code",
   "execution_count": 83,
   "metadata": {},
   "outputs": [],
   "source": [
    "#ensemble_train.shape"
   ]
  },
  {
   "cell_type": "code",
   "execution_count": 84,
   "metadata": {
    "collapsed": true
   },
   "outputs": [],
   "source": [
    "#ensemble_all = get_ensemble_predictions(X, y_angle, modelEnsemble)"
   ]
  },
  {
   "cell_type": "markdown",
   "metadata": {},
   "source": [
    "### Fine tuning ensemble using xgboost"
   ]
  },
  {
   "cell_type": "code",
   "execution_count": 85,
   "metadata": {
    "scrolled": true
   },
   "outputs": [
    {
     "name": "stdout",
     "output_type": "stream",
     "text": [
      "\n",
      "Model Report\n",
      "n_estimators: 42\n",
      "Accuracy : 0.9949\n",
      "Log loss (Train): 0.060636\n",
      "Log loss (Test): 0.164816\n"
     ]
    },
    {
     "data": {
      "image/png": "[encoded data removed]",
      "text/plain": [
       "<matplotlib.figure.Figure at 0x7f8a9110c438>"
      ]
     },
     "metadata": {},
     "output_type": "display_data"
    }
   ],
   "source": [
    "xgb1 = xgb.XGBClassifier(\n",
    " learning_rate =0.1,\n",
    " n_estimators=1000,\n",
    " max_depth=5,\n",
    " min_child_weight=1,\n",
    " gamma=0,\n",
    " subsample=0.8,\n",
    " colsample_bytree=0.8,\n",
    " objective= 'binary:logistic',\n",
    " nthread=8,\n",
    " scale_pos_weight=1,\n",
    " seed=27)\n",
    "modelfit(xgb1, ensemble_val, y_val_tune['is_iceberg'], ensemble_val_test, y_val_test['is_iceberg'])"
   ]
  },
  {
   "cell_type": "code",
   "execution_count": 86,
   "metadata": {
    "collapsed": true,
    "scrolled": true
   },
   "outputs": [],
   "source": [
    "#ensemble_all = get_ensemble_predictions(X, y_angle, modelEnsemble)"
   ]
  },
  {
   "cell_type": "code",
   "execution_count": 98,
   "metadata": {
    "scrolled": true
   },
   "outputs": [
    {
     "name": "stdout",
     "output_type": "stream",
     "text": [
      "Fitting 5 folds for each of 25 candidates, totalling 125 fits\n"
     ]
    },
    {
     "name": "stderr",
     "output_type": "stream",
     "text": [
      "[Parallel(n_jobs=1)]: Done 125 out of 125 | elapsed:    4.2s finished\n",
      "/home/marozet2/anaconda3/lib/python3.6/site-packages/sklearn/model_selection/_search.py:761: DeprecationWarning: The grid_scores_ attribute was deprecated in version 0.18 in favor of the more elaborate cv_results_ attribute. The grid_scores_ attribute will not be available from 0.20\n",
      "  DeprecationWarning)\n"
     ]
    },
    {
     "data": {
      "text/plain": [
       "([mean: -0.23581, std: 0.05974, params: {'max_depth': 3, 'min_child_weight': 1},\n",
       "  mean: -0.22580, std: 0.05278, params: {'max_depth': 3, 'min_child_weight': 3},\n",
       "  mean: -0.22487, std: 0.05761, params: {'max_depth': 3, 'min_child_weight': 5},\n",
       "  mean: -0.22535, std: 0.05830, params: {'max_depth': 3, 'min_child_weight': 7},\n",
       "  mean: -0.22487, std: 0.05356, params: {'max_depth': 3, 'min_child_weight': 9},\n",
       "  mean: -0.23889, std: 0.05219, params: {'max_depth': 5, 'min_child_weight': 1},\n",
       "  mean: -0.22704, std: 0.04811, params: {'max_depth': 5, 'min_child_weight': 3},\n",
       "  mean: -0.22521, std: 0.05754, params: {'max_depth': 5, 'min_child_weight': 5},\n",
       "  mean: -0.22535, std: 0.05830, params: {'max_depth': 5, 'min_child_weight': 7},\n",
       "  mean: -0.22487, std: 0.05356, params: {'max_depth': 5, 'min_child_weight': 9},\n",
       "  mean: -0.23699, std: 0.05092, params: {'max_depth': 7, 'min_child_weight': 1},\n",
       "  mean: -0.22704, std: 0.04811, params: {'max_depth': 7, 'min_child_weight': 3},\n",
       "  mean: -0.22521, std: 0.05754, params: {'max_depth': 7, 'min_child_weight': 5},\n",
       "  mean: -0.22535, std: 0.05830, params: {'max_depth': 7, 'min_child_weight': 7},\n",
       "  mean: -0.22487, std: 0.05356, params: {'max_depth': 7, 'min_child_weight': 9},\n",
       "  mean: -0.23770, std: 0.05087, params: {'max_depth': 9, 'min_child_weight': 1},\n",
       "  mean: -0.22704, std: 0.04811, params: {'max_depth': 9, 'min_child_weight': 3},\n",
       "  mean: -0.22521, std: 0.05754, params: {'max_depth': 9, 'min_child_weight': 5},\n",
       "  mean: -0.22535, std: 0.05830, params: {'max_depth': 9, 'min_child_weight': 7},\n",
       "  mean: -0.22487, std: 0.05356, params: {'max_depth': 9, 'min_child_weight': 9},\n",
       "  mean: -0.23770, std: 0.05087, params: {'max_depth': 11, 'min_child_weight': 1},\n",
       "  mean: -0.22704, std: 0.04811, params: {'max_depth': 11, 'min_child_weight': 3},\n",
       "  mean: -0.22521, std: 0.05754, params: {'max_depth': 11, 'min_child_weight': 5},\n",
       "  mean: -0.22535, std: 0.05830, params: {'max_depth': 11, 'min_child_weight': 7},\n",
       "  mean: -0.22487, std: 0.05356, params: {'max_depth': 11, 'min_child_weight': 9}],\n",
       " {'max_depth': 3, 'min_child_weight': 9},\n",
       " -0.22486825743789884)"
      ]
     },
     "execution_count": 98,
     "metadata": {},
     "output_type": "execute_result"
    }
   ],
   "source": [
    "param_test1 = {\n",
    " 'max_depth':list(range(3,13,2)),\n",
    " 'min_child_weight':list(range(1,10,2))\n",
    "}\n",
    "gsearch1 = GridSearchCV(estimator = xgb.XGBClassifier( learning_rate =0.1, n_estimators=42, max_depth=5,\n",
    " min_child_weight=1, gamma=0, subsample=0.8, colsample_bytree=0.8,\n",
    " objective= 'binary:logistic', nthread=8, scale_pos_weight=1, seed=random_seed), \n",
    " param_grid = param_test1, scoring='neg_log_loss',n_jobs=1,iid=False, cv=5, verbose=1)\n",
    "gsearch1.fit(ensemble_val,y_val_tune['is_iceberg'].values)\n",
    "gsearch1.grid_scores_, gsearch1.best_params_, gsearch1.best_score_"
   ]
  },
  {
   "cell_type": "code",
   "execution_count": 101,
   "metadata": {
    "scrolled": true
   },
   "outputs": [
    {
     "name": "stdout",
     "output_type": "stream",
     "text": [
      "Fitting 5 folds for each of 9 candidates, totalling 45 fits\n"
     ]
    },
    {
     "name": "stderr",
     "output_type": "stream",
     "text": [
      "[Parallel(n_jobs=1)]: Done  45 out of  45 | elapsed:    1.1s finished\n",
      "/home/marozet2/anaconda3/lib/python3.6/site-packages/sklearn/model_selection/_search.py:761: DeprecationWarning: The grid_scores_ attribute was deprecated in version 0.18 in favor of the more elaborate cv_results_ attribute. The grid_scores_ attribute will not be available from 0.20\n",
      "  DeprecationWarning)\n"
     ]
    },
    {
     "data": {
      "text/plain": [
       "([mean: -0.22648, std: 0.05678, params: {'max_depth': 2, 'min_child_weight': 8.5},\n",
       "  mean: -0.22487, std: 0.05356, params: {'max_depth': 2, 'min_child_weight': 9},\n",
       "  mean: -0.22832, std: 0.05472, params: {'max_depth': 2, 'min_child_weight': 9.5},\n",
       "  mean: -0.22648, std: 0.05678, params: {'max_depth': 3, 'min_child_weight': 8.5},\n",
       "  mean: -0.22487, std: 0.05356, params: {'max_depth': 3, 'min_child_weight': 9},\n",
       "  mean: -0.22832, std: 0.05472, params: {'max_depth': 3, 'min_child_weight': 9.5},\n",
       "  mean: -0.22648, std: 0.05678, params: {'max_depth': 4, 'min_child_weight': 8.5},\n",
       "  mean: -0.22487, std: 0.05356, params: {'max_depth': 4, 'min_child_weight': 9},\n",
       "  mean: -0.22832, std: 0.05472, params: {'max_depth': 4, 'min_child_weight': 9.5}],\n",
       " {'max_depth': 2, 'min_child_weight': 9},\n",
       " -0.22486825743789884)"
      ]
     },
     "execution_count": 101,
     "metadata": {},
     "output_type": "execute_result"
    }
   ],
   "source": [
    "param_test2 = {\n",
    " 'max_depth':[2,3,4],\n",
    " 'min_child_weight':[8.5,9,9.5]\n",
    "}\n",
    "gsearch2 = GridSearchCV(estimator = xgb.XGBClassifier( learning_rate =0.1, n_estimators=42, max_depth=2,\n",
    " min_child_weight=9, gamma=0, subsample=0.8, colsample_bytree=0.8,\n",
    " objective= 'binary:logistic', nthread=8, scale_pos_weight=1, seed=random_seed), \n",
    " param_grid = param_test2, scoring='neg_log_loss',n_jobs=1,iid=False, cv=5, verbose=1)\n",
    "gsearch2.fit(ensemble_val,y_val_tune['is_iceberg'].values)\n",
    "gsearch2.grid_scores_, gsearch2.best_params_, gsearch2.best_score_"
   ]
  },
  {
   "cell_type": "code",
   "execution_count": 102,
   "metadata": {},
   "outputs": [
    {
     "name": "stdout",
     "output_type": "stream",
     "text": [
      "Fitting 5 folds for each of 30 candidates, totalling 150 fits\n"
     ]
    },
    {
     "name": "stderr",
     "output_type": "stream",
     "text": [
      "[Parallel(n_jobs=1)]: Done 150 out of 150 | elapsed:    2.9s finished\n",
      "/home/marozet2/anaconda3/lib/python3.6/site-packages/sklearn/model_selection/_search.py:761: DeprecationWarning: The grid_scores_ attribute was deprecated in version 0.18 in favor of the more elaborate cv_results_ attribute. The grid_scores_ attribute will not be available from 0.20\n",
      "  DeprecationWarning)\n"
     ]
    },
    {
     "data": {
      "text/plain": [
       "([mean: -0.22487, std: 0.05356, params: {'gamma': 0.0},\n",
       "  mean: -0.22487, std: 0.05356, params: {'gamma': 0.05},\n",
       "  mean: -0.22583, std: 0.05516, params: {'gamma': 0.1},\n",
       "  mean: -0.22632, std: 0.05545, params: {'gamma': 0.15},\n",
       "  mean: -0.22632, std: 0.05545, params: {'gamma': 0.2},\n",
       "  mean: -0.22631, std: 0.05551, params: {'gamma': 0.25},\n",
       "  mean: -0.22622, std: 0.05564, params: {'gamma': 0.3},\n",
       "  mean: -0.22759, std: 0.05518, params: {'gamma': 0.35},\n",
       "  mean: -0.22840, std: 0.05550, params: {'gamma': 0.4},\n",
       "  mean: -0.22861, std: 0.05569, params: {'gamma': 0.45},\n",
       "  mean: -0.22861, std: 0.05569, params: {'gamma': 0.5},\n",
       "  mean: -0.22852, std: 0.05575, params: {'gamma': 0.55},\n",
       "  mean: -0.22842, std: 0.05560, params: {'gamma': 0.6},\n",
       "  mean: -0.22874, std: 0.05543, params: {'gamma': 0.65},\n",
       "  mean: -0.22881, std: 0.05545, params: {'gamma': 0.7},\n",
       "  mean: -0.22939, std: 0.05640, params: {'gamma': 0.75},\n",
       "  mean: -0.23008, std: 0.05636, params: {'gamma': 0.8},\n",
       "  mean: -0.23178, std: 0.05850, params: {'gamma': 0.85},\n",
       "  mean: -0.23252, std: 0.05879, params: {'gamma': 0.9},\n",
       "  mean: -0.23149, std: 0.05863, params: {'gamma': 0.95},\n",
       "  mean: -0.23150, std: 0.05862, params: {'gamma': 1.0},\n",
       "  mean: -0.23135, std: 0.05882, params: {'gamma': 1.05},\n",
       "  mean: -0.23157, std: 0.05891, params: {'gamma': 1.1},\n",
       "  mean: -0.23157, std: 0.05891, params: {'gamma': 1.15},\n",
       "  mean: -0.23157, std: 0.05891, params: {'gamma': 1.2},\n",
       "  mean: -0.23154, std: 0.05885, params: {'gamma': 1.25},\n",
       "  mean: -0.23157, std: 0.05885, params: {'gamma': 1.3},\n",
       "  mean: -0.23126, std: 0.05873, params: {'gamma': 1.35},\n",
       "  mean: -0.23146, std: 0.05871, params: {'gamma': 1.4},\n",
       "  mean: -0.23146, std: 0.05871, params: {'gamma': 1.45}],\n",
       " {'gamma': 0.0},\n",
       " -0.22486825743789884)"
      ]
     },
     "execution_count": 102,
     "metadata": {},
     "output_type": "execute_result"
    }
   ],
   "source": [
    "param_test3 = {\n",
    " 'gamma':[i/20.0 for i in range(0,30)]\n",
    "}\n",
    "gsearch3 = GridSearchCV(estimator = xgb.XGBClassifier( learning_rate =0.1, n_estimators=42, max_depth=2,\n",
    " min_child_weight=9, gamma=0, subsample=0.8, colsample_bytree=0.8,\n",
    " objective= 'binary:logistic', nthread=8, scale_pos_weight=1, seed=random_seed), \n",
    " param_grid = param_test3, scoring='neg_log_loss',n_jobs=1,iid=False, cv=5, verbose=1)\n",
    "gsearch3.fit(ensemble_val,y_val_tune['is_iceberg'].values)\n",
    "gsearch3.grid_scores_, gsearch3.best_params_, gsearch3.best_score_"
   ]
  },
  {
   "cell_type": "code",
   "execution_count": 103,
   "metadata": {},
   "outputs": [
    {
     "name": "stdout",
     "output_type": "stream",
     "text": [
      "\n",
      "Model Report\n",
      "n_estimators: 77\n",
      "Accuracy : 0.9364\n",
      "Log loss (Train): 0.161308\n",
      "Log loss (Test): 0.160444\n"
     ]
    },
    {
     "data": {
      "image/png": "[encoded data removed]",
      "text/plain": [
       "<matplotlib.figure.Figure at 0x7f8a90f40748>"
      ]
     },
     "metadata": {},
     "output_type": "display_data"
    }
   ],
   "source": [
    "xgb2 = xgb.XGBClassifier(\n",
    " learning_rate =0.1,\n",
    " n_estimators=1000,\n",
    " max_depth=2,\n",
    " min_child_weight=9,\n",
    " gamma=0.0,\n",
    " subsample=0.8,\n",
    " colsample_bytree=0.8,\n",
    " objective= 'binary:logistic',\n",
    " nthread=8,\n",
    " scale_pos_weight=1,\n",
    " seed=27)\n",
    "modelfit(xgb2, ensemble_val, y_val_tune['is_iceberg'],ensemble_val_test, y_val_test['is_iceberg'])"
   ]
  },
  {
   "cell_type": "code",
   "execution_count": 104,
   "metadata": {
    "scrolled": true
   },
   "outputs": [
    {
     "name": "stdout",
     "output_type": "stream",
     "text": [
      "Fitting 5 folds for each of 16 candidates, totalling 80 fits\n"
     ]
    },
    {
     "name": "stderr",
     "output_type": "stream",
     "text": [
      "[Parallel(n_jobs=1)]: Done  80 out of  80 | elapsed:    2.8s finished\n",
      "/home/marozet2/anaconda3/lib/python3.6/site-packages/sklearn/model_selection/_search.py:761: DeprecationWarning: The grid_scores_ attribute was deprecated in version 0.18 in favor of the more elaborate cv_results_ attribute. The grid_scores_ attribute will not be available from 0.20\n",
      "  DeprecationWarning)\n"
     ]
    },
    {
     "data": {
      "text/plain": [
       "([mean: -0.23730, std: 0.05915, params: {'colsample_bytree': 0.6, 'subsample': 0.6},\n",
       "  mean: -0.23468, std: 0.05702, params: {'colsample_bytree': 0.6, 'subsample': 0.7},\n",
       "  mean: -0.22313, std: 0.05467, params: {'colsample_bytree': 0.6, 'subsample': 0.8},\n",
       "  mean: -0.22623, std: 0.05656, params: {'colsample_bytree': 0.6, 'subsample': 0.9},\n",
       "  mean: -0.23854, std: 0.05545, params: {'colsample_bytree': 0.7, 'subsample': 0.6},\n",
       "  mean: -0.23738, std: 0.05494, params: {'colsample_bytree': 0.7, 'subsample': 0.7},\n",
       "  mean: -0.22532, std: 0.05655, params: {'colsample_bytree': 0.7, 'subsample': 0.8},\n",
       "  mean: -0.22707, std: 0.05635, params: {'colsample_bytree': 0.7, 'subsample': 0.9},\n",
       "  mean: -0.23620, std: 0.05274, params: {'colsample_bytree': 0.8, 'subsample': 0.6},\n",
       "  mean: -0.23651, std: 0.05559, params: {'colsample_bytree': 0.8, 'subsample': 0.7},\n",
       "  mean: -0.22428, std: 0.05462, params: {'colsample_bytree': 0.8, 'subsample': 0.8},\n",
       "  mean: -0.22649, std: 0.05596, params: {'colsample_bytree': 0.8, 'subsample': 0.9},\n",
       "  mean: -0.24145, std: 0.05225, params: {'colsample_bytree': 0.9, 'subsample': 0.6},\n",
       "  mean: -0.23295, std: 0.05620, params: {'colsample_bytree': 0.9, 'subsample': 0.7},\n",
       "  mean: -0.22752, std: 0.05441, params: {'colsample_bytree': 0.9, 'subsample': 0.8},\n",
       "  mean: -0.22585, std: 0.05675, params: {'colsample_bytree': 0.9, 'subsample': 0.9}],\n",
       " {'colsample_bytree': 0.6, 'subsample': 0.8},\n",
       " -0.22313174325401186)"
      ]
     },
     "execution_count": 104,
     "metadata": {},
     "output_type": "execute_result"
    }
   ],
   "source": [
    "param_test4 = {\n",
    " 'subsample':[i/10.0 for i in range(6,10)],\n",
    " 'colsample_bytree':[i/10.0 for i in range(6,10)]\n",
    "}\n",
    "gsearch4 = GridSearchCV(estimator = xgb.XGBClassifier( learning_rate =0.1, n_estimators=77, max_depth=2,\n",
    " min_child_weight=9, gamma=0, subsample=0.8, colsample_bytree=0.8,\n",
    " objective= 'binary:logistic', nthread=8, scale_pos_weight=1, seed=random_seed), \n",
    " param_grid = param_test4, scoring='neg_log_loss',n_jobs=1,iid=False, cv=5, verbose=1)\n",
    "gsearch4.fit(ensemble_val,y_val_tune['is_iceberg'].values)\n",
    "gsearch4.grid_scores_, gsearch4.best_params_, gsearch4.best_score_"
   ]
  },
  {
   "cell_type": "code",
   "execution_count": 106,
   "metadata": {
    "scrolled": true
   },
   "outputs": [
    {
     "name": "stdout",
     "output_type": "stream",
     "text": [
      "Fitting 5 folds for each of 36 candidates, totalling 180 fits\n"
     ]
    },
    {
     "name": "stderr",
     "output_type": "stream",
     "text": [
      "[Parallel(n_jobs=1)]: Done 180 out of 180 | elapsed:    6.4s finished\n",
      "/home/marozet2/anaconda3/lib/python3.6/site-packages/sklearn/model_selection/_search.py:761: DeprecationWarning: The grid_scores_ attribute was deprecated in version 0.18 in favor of the more elaborate cv_results_ attribute. The grid_scores_ attribute will not be available from 0.20\n",
      "  DeprecationWarning)\n"
     ]
    },
    {
     "data": {
      "text/plain": [
       "([mean: -0.24510, std: 0.05048, params: {'colsample_bytree': 0.6, 'subsample': 0.5},\n",
       "  mean: -0.24071, std: 0.05481, params: {'colsample_bytree': 0.6, 'subsample': 0.55},\n",
       "  mean: -0.23730, std: 0.05915, params: {'colsample_bytree': 0.6, 'subsample': 0.6},\n",
       "  mean: -0.23175, std: 0.05528, params: {'colsample_bytree': 0.6, 'subsample': 0.65},\n",
       "  mean: -0.23468, std: 0.05702, params: {'colsample_bytree': 0.6, 'subsample': 0.7},\n",
       "  mean: -0.22678, std: 0.05747, params: {'colsample_bytree': 0.6, 'subsample': 0.75},\n",
       "  mean: -0.24124, std: 0.05018, params: {'colsample_bytree': 0.65, 'subsample': 0.5},\n",
       "  mean: -0.24033, std: 0.05392, params: {'colsample_bytree': 0.65, 'subsample': 0.55},\n",
       "  mean: -0.23796, std: 0.05898, params: {'colsample_bytree': 0.65, 'subsample': 0.6},\n",
       "  mean: -0.23328, std: 0.05522, params: {'colsample_bytree': 0.65, 'subsample': 0.65},\n",
       "  mean: -0.23466, std: 0.05651, params: {'colsample_bytree': 0.65, 'subsample': 0.7},\n",
       "  mean: -0.23027, std: 0.05593, params: {'colsample_bytree': 0.65, 'subsample': 0.75},\n",
       "  mean: -0.24430, std: 0.05015, params: {'colsample_bytree': 0.7, 'subsample': 0.5},\n",
       "  mean: -0.24157, std: 0.05237, params: {'colsample_bytree': 0.7, 'subsample': 0.55},\n",
       "  mean: -0.23854, std: 0.05545, params: {'colsample_bytree': 0.7, 'subsample': 0.6},\n",
       "  mean: -0.23447, std: 0.05546, params: {'colsample_bytree': 0.7, 'subsample': 0.65},\n",
       "  mean: -0.23738, std: 0.05494, params: {'colsample_bytree': 0.7, 'subsample': 0.7},\n",
       "  mean: -0.23154, std: 0.05599, params: {'colsample_bytree': 0.7, 'subsample': 0.75},\n",
       "  mean: -0.24613, std: 0.04975, params: {'colsample_bytree': 0.75, 'subsample': 0.5},\n",
       "  mean: -0.24159, std: 0.05209, params: {'colsample_bytree': 0.75, 'subsample': 0.55},\n",
       "  mean: -0.23822, std: 0.05647, params: {'colsample_bytree': 0.75, 'subsample': 0.6},\n",
       "  mean: -0.23596, std: 0.05569, params: {'colsample_bytree': 0.75, 'subsample': 0.65},\n",
       "  mean: -0.23727, std: 0.05602, params: {'colsample_bytree': 0.75, 'subsample': 0.7},\n",
       "  mean: -0.23177, std: 0.05663, params: {'colsample_bytree': 0.75, 'subsample': 0.75},\n",
       "  mean: -0.24647, std: 0.04991, params: {'colsample_bytree': 0.8, 'subsample': 0.5},\n",
       "  mean: -0.24444, std: 0.05279, params: {'colsample_bytree': 0.8, 'subsample': 0.55},\n",
       "  mean: -0.23620, std: 0.05274, params: {'colsample_bytree': 0.8, 'subsample': 0.6},\n",
       "  mean: -0.23611, std: 0.05518, params: {'colsample_bytree': 0.8, 'subsample': 0.65},\n",
       "  mean: -0.23651, std: 0.05559, params: {'colsample_bytree': 0.8, 'subsample': 0.7},\n",
       "  mean: -0.23287, std: 0.05769, params: {'colsample_bytree': 0.8, 'subsample': 0.75},\n",
       "  mean: -0.25011, std: 0.04966, params: {'colsample_bytree': 0.85, 'subsample': 0.5},\n",
       "  mean: -0.24487, std: 0.05243, params: {'colsample_bytree': 0.85, 'subsample': 0.55},\n",
       "  mean: -0.23995, std: 0.05338, params: {'colsample_bytree': 0.85, 'subsample': 0.6},\n",
       "  mean: -0.23607, std: 0.05436, params: {'colsample_bytree': 0.85, 'subsample': 0.65},\n",
       "  mean: -0.23674, std: 0.05716, params: {'colsample_bytree': 0.85, 'subsample': 0.7},\n",
       "  mean: -0.23325, std: 0.05743, params: {'colsample_bytree': 0.85, 'subsample': 0.75}],\n",
       " {'colsample_bytree': 0.6, 'subsample': 0.75},\n",
       " -0.22677805694426795)"
      ]
     },
     "execution_count": 106,
     "metadata": {},
     "output_type": "execute_result"
    }
   ],
   "source": [
    "param_test5 = {\n",
    " 'subsample':[i/100.0 for i in range(50,80,5)],\n",
    " 'colsample_bytree':[i/100.0 for i in range(60,90,5)]\n",
    "}\n",
    "gsearch5 = GridSearchCV(estimator = xgb.XGBClassifier( learning_rate =0.1, n_estimators=77, max_depth=2,\n",
    " min_child_weight=9, gamma=0.0, subsample=0.8, colsample_bytree=0.8,\n",
    " objective= 'binary:logistic', nthread=8, scale_pos_weight=1, seed=random_seed), \n",
    " param_grid = param_test5, scoring='neg_log_loss',n_jobs=1,iid=False, cv=5, verbose=1)\n",
    "gsearch5.fit(ensemble_val,y_val_tune['is_iceberg'].values)\n",
    "gsearch5.grid_scores_, gsearch5.best_params_, gsearch5.best_score_"
   ]
  },
  {
   "cell_type": "code",
   "execution_count": 107,
   "metadata": {
    "scrolled": true
   },
   "outputs": [
    {
     "name": "stdout",
     "output_type": "stream",
     "text": [
      "Fitting 5 folds for each of 6 candidates, totalling 30 fits\n"
     ]
    },
    {
     "name": "stderr",
     "output_type": "stream",
     "text": [
      "[Parallel(n_jobs=1)]: Done  30 out of  30 | elapsed:    1.0s finished\n",
      "/home/marozet2/anaconda3/lib/python3.6/site-packages/sklearn/model_selection/_search.py:761: DeprecationWarning: The grid_scores_ attribute was deprecated in version 0.18 in favor of the more elaborate cv_results_ attribute. The grid_scores_ attribute will not be available from 0.20\n",
      "  DeprecationWarning)\n"
     ]
    },
    {
     "data": {
      "text/plain": [
       "([mean: -0.22678, std: 0.05747, params: {'reg_alpha': 0},\n",
       "  mean: -0.22678, std: 0.05747, params: {'reg_alpha': 1e-05},\n",
       "  mean: -0.22551, std: 0.05768, params: {'reg_alpha': 0.01},\n",
       "  mean: -0.22622, std: 0.05776, params: {'reg_alpha': 0.1},\n",
       "  mean: -0.22914, std: 0.05895, params: {'reg_alpha': 1},\n",
       "  mean: -0.69315, std: 0.00000, params: {'reg_alpha': 100}],\n",
       " {'reg_alpha': 0.01},\n",
       " -0.22550816898411624)"
      ]
     },
     "execution_count": 107,
     "metadata": {},
     "output_type": "execute_result"
    }
   ],
   "source": [
    "param_test6 = {\n",
    " 'reg_alpha':[0,1e-5, 1e-2, 0.1, 1, 100]\n",
    "}\n",
    "gsearch6 = GridSearchCV(estimator = xgb.XGBClassifier( learning_rate =0.1, n_estimators=77, max_depth=2,\n",
    " min_child_weight=9, gamma=0.0, subsample=0.75, colsample_bytree=0.6,\n",
    " objective= 'binary:logistic', nthread=8, scale_pos_weight=1, seed=random_seed), \n",
    " param_grid = param_test6, scoring='neg_log_loss',n_jobs=1,iid=False, cv=5, verbose=1)\n",
    "gsearch6.fit(ensemble_val,y_val_tune['is_iceberg'].values)\n",
    "gsearch6.grid_scores_, gsearch6.best_params_, gsearch6.best_score_"
   ]
  },
  {
   "cell_type": "code",
   "execution_count": 110,
   "metadata": {
    "scrolled": true
   },
   "outputs": [
    {
     "name": "stdout",
     "output_type": "stream",
     "text": [
      "Fitting 5 folds for each of 5 candidates, totalling 25 fits\n"
     ]
    },
    {
     "name": "stderr",
     "output_type": "stream",
     "text": [
      "[Parallel(n_jobs=1)]: Done  25 out of  25 | elapsed:    0.9s finished\n",
      "/home/marozet2/anaconda3/lib/python3.6/site-packages/sklearn/model_selection/_search.py:761: DeprecationWarning: The grid_scores_ attribute was deprecated in version 0.18 in favor of the more elaborate cv_results_ attribute. The grid_scores_ attribute will not be available from 0.20\n",
      "  DeprecationWarning)\n"
     ]
    },
    {
     "data": {
      "text/plain": [
       "([mean: -0.22678, std: 0.05747, params: {'reg_alpha': 0.0001},\n",
       "  mean: -0.22689, std: 0.05765, params: {'reg_alpha': 0.001},\n",
       "  mean: -0.22627, std: 0.05772, params: {'reg_alpha': 0.003},\n",
       "  mean: -0.22551, std: 0.05768, params: {'reg_alpha': 0.01},\n",
       "  mean: -0.22696, std: 0.05741, params: {'reg_alpha': 0.03}],\n",
       " {'reg_alpha': 0.01},\n",
       " -0.22550816898411624)"
      ]
     },
     "execution_count": 110,
     "metadata": {},
     "output_type": "execute_result"
    }
   ],
   "source": [
    "param_test7 = {\n",
    " 'reg_alpha':[1e-4, 1e-3, 0.003, 0.01, 0.03]\n",
    "}\n",
    "gsearch7 = GridSearchCV(estimator = xgb.XGBClassifier( learning_rate =0.1, n_estimators=77,max_depth=2,\n",
    " min_child_weight=9, gamma=0.0, subsample=0.75, colsample_bytree=0.6,\n",
    " objective= 'binary:logistic', nthread=8, scale_pos_weight=1, seed=random_seed), \n",
    " param_grid = param_test7, scoring='neg_log_loss',n_jobs=1,iid=False, cv=5, verbose=1)\n",
    "gsearch7.fit(ensemble_val,y_val_tune['is_iceberg'].values)\n",
    "gsearch7.grid_scores_, gsearch7.best_params_, gsearch7.best_score_"
   ]
  },
  {
   "cell_type": "code",
   "execution_count": 112,
   "metadata": {
    "scrolled": true
   },
   "outputs": [
    {
     "name": "stdout",
     "output_type": "stream",
     "text": [
      "\n",
      "Model Report\n",
      "n_estimators: 116\n",
      "Accuracy : 0.9288\n",
      "Log loss (Train): 0.165041\n",
      "Log loss (Test): 0.164859\n"
     ]
    },
    {
     "data": {
      "image/png": "[encoded data removed]",
      "text/plain": [
       "<matplotlib.figure.Figure at 0x7f8a4cfad518>"
      ]
     },
     "metadata": {},
     "output_type": "display_data"
    }
   ],
   "source": [
    "xgb3 = xgb.XGBClassifier(\n",
    " learning_rate =0.1,\n",
    " n_estimators=1000,\n",
    " max_depth=2,\n",
    " min_child_weight=9,\n",
    " gamma=0.0,\n",
    " subsample=0.75,\n",
    " colsample_bytree=0.6,\n",
    " reg_alpha=0.01,\n",
    " objective= 'binary:logistic',\n",
    " nthread=8,\n",
    " scale_pos_weight=1,\n",
    " seed=27)\n",
    "modelfit(xgb3, ensemble_val, y_val_tune['is_iceberg'], ensemble_val_test, y_val_test['is_iceberg'])"
   ]
  },
  {
   "cell_type": "code",
   "execution_count": 137,
   "metadata": {},
   "outputs": [
    {
     "name": "stdout",
     "output_type": "stream",
     "text": [
      "\n",
      "Model Report\n",
      "n_estimators: 77\n",
      "Accuracy : 0.9364\n",
      "Log loss (Train): 0.161342\n",
      "Log loss (Test): 0.160440\n"
     ]
    },
    {
     "data": {
      "image/png": "[encoded data removed]",
      "text/plain": [
       "<matplotlib.figure.Figure at 0x7f8a911e9a20>"
      ]
     },
     "metadata": {},
     "output_type": "display_data"
    }
   ],
   "source": [
    "xgb4 = xgb.XGBClassifier(\n",
    " learning_rate =0.1,\n",
    " n_estimators=1000,\n",
    " max_depth=2,\n",
    " min_child_weight=9,\n",
    " gamma=0.0,\n",
    " subsample=0.8,\n",
    " colsample_bytree=0.8,\n",
    " reg_alpha=0.01,\n",
    " objective= 'binary:logistic',\n",
    " nthread=8,\n",
    " scale_pos_weight=1,\n",
    " seed=27)\n",
    "modelfit(xgb4, ensemble_val, y_val_tune['is_iceberg'], ensemble_val_test, y_val_test['is_iceberg'])"
   ]
  },
  {
   "cell_type": "code",
   "execution_count": 143,
   "metadata": {},
   "outputs": [
    {
     "name": "stdout",
     "output_type": "stream",
     "text": [
      "\n",
      "Model Report\n",
      "Log loss (Test): 0.160440\n"
     ]
    }
   ],
   "source": [
    "dtest_predprob = xgb4.predict_proba(ensemble_val_test)[:,1]\n",
    "    \n",
    "#Print model report:\n",
    "print(\"\\nModel Report\")\n",
    "print(\"Log loss (Test): %f\" % metrics.log_loss(y_val_test['is_iceberg'], dtest_predprob))"
   ]
  },
  {
   "cell_type": "code",
   "execution_count": 144,
   "metadata": {
    "collapsed": true
   },
   "outputs": [],
   "source": [
    "with open('models/modelXgb4_gcompute_v27.pickle', 'wb') as handle:\n",
    "    pickle.dump(xgb4, handle, protocol=pickle.HIGHEST_PROTOCOL)"
   ]
  },
  {
   "cell_type": "code",
   "execution_count": null,
   "metadata": {
    "collapsed": true
   },
   "outputs": [],
   "source": [
    "#with open('models/modelXgb4.pickle', 'rb') as handle:\n",
    "#    xgb4 = pickle.load(handle)"
   ]
  },
  {
   "cell_type": "markdown",
   "metadata": {},
   "source": [
    "### Predictions"
   ]
  },
  {
   "cell_type": "code",
   "execution_count": null,
   "metadata": {
    "collapsed": true
   },
   "outputs": [],
   "source": [
    "#use model\n",
    "#model_object_path = \"models\\\\model.CNN_2017_12_19_v15_2017_12_21_15_54_42.hdf5\"\n",
    "#model_best_weights_path = \"models\\\\weights.CNN_2017_12_19_v15_2017_12_21_15_54_42.hdf5\""
   ]
  },
  {
   "cell_type": "code",
   "execution_count": null,
   "metadata": {
    "collapsed": true
   },
   "outputs": [],
   "source": [
    "#model_f = load_model(model_object_path)"
   ]
  },
  {
   "cell_type": "code",
   "execution_count": null,
   "metadata": {
    "collapsed": true,
    "scrolled": true
   },
   "outputs": [],
   "source": [
    "#model_f.load_weights(model_best_weights_path)"
   ]
  },
  {
   "cell_type": "code",
   "execution_count": null,
   "metadata": {
    "collapsed": true,
    "scrolled": true
   },
   "outputs": [],
   "source": [
    "#model_f.evaluate_generator(datagen_angle_val.flow(X_val, y_val, batch_size=32, shuffle=False), \n",
    "#                          steps = len(X_val)/32)"
   ]
  },
  {
   "cell_type": "code",
   "execution_count": null,
   "metadata": {
    "collapsed": true
   },
   "outputs": [],
   "source": []
  },
  {
   "cell_type": "code",
   "execution_count": 145,
   "metadata": {
    "collapsed": true
   },
   "outputs": [],
   "source": [
    "test_df = pd.read_json(\"Data/test/test.json\")"
   ]
  },
  {
   "cell_type": "code",
   "execution_count": 146,
   "metadata": {
    "scrolled": false
   },
   "outputs": [
    {
     "data": {
      "text/html": [
       "<div>\n",
       "<style scoped>\n",
       "    .dataframe tbody tr th:only-of-type {\n",
       "        vertical-align: middle;\n",
       "    }\n",
       "\n",
       "    .dataframe tbody tr th {\n",
       "        vertical-align: top;\n",
       "    }\n",
       "\n",
       "    .dataframe thead th {\n",
       "        text-align: right;\n",
       "    }\n",
       "</style>\n",
       "<table border=\"1\" class=\"dataframe\">\n",
       "  <thead>\n",
       "    <tr style=\"text-align: right;\">\n",
       "      <th></th>\n",
       "      <th>band_1</th>\n",
       "      <th>band_2</th>\n",
       "      <th>id</th>\n",
       "      <th>inc_angle</th>\n",
       "    </tr>\n",
       "  </thead>\n",
       "  <tbody>\n",
       "    <tr>\n",
       "      <th>0</th>\n",
       "      <td>[-15.863251, -15.201077, -17.887735, -19.17248...</td>\n",
       "      <td>[-21.629612, -21.142353, -23.908337, -28.34524...</td>\n",
       "      <td>5941774d</td>\n",
       "      <td>34.966400</td>\n",
       "    </tr>\n",
       "    <tr>\n",
       "      <th>1</th>\n",
       "      <td>[-26.058969497680664, -26.058969497680664, -26...</td>\n",
       "      <td>[-25.754207611083984, -25.754207611083984, -25...</td>\n",
       "      <td>4023181e</td>\n",
       "      <td>32.615072</td>\n",
       "    </tr>\n",
       "    <tr>\n",
       "      <th>2</th>\n",
       "      <td>[-14.14109992980957, -15.064241409301758, -17....</td>\n",
       "      <td>[-14.74563980102539, -14.590410232543945, -14....</td>\n",
       "      <td>b20200e4</td>\n",
       "      <td>37.505433</td>\n",
       "    </tr>\n",
       "    <tr>\n",
       "      <th>3</th>\n",
       "      <td>[-12.167478, -13.706167, -16.54837, -13.572674...</td>\n",
       "      <td>[-24.32222, -26.375538, -24.096739, -23.8769, ...</td>\n",
       "      <td>e7f018bb</td>\n",
       "      <td>34.473900</td>\n",
       "    </tr>\n",
       "    <tr>\n",
       "      <th>4</th>\n",
       "      <td>[-23.37459373474121, -26.02718162536621, -28.1...</td>\n",
       "      <td>[-25.72234344482422, -27.011577606201172, -23....</td>\n",
       "      <td>4371c8c3</td>\n",
       "      <td>43.918874</td>\n",
       "    </tr>\n",
       "  </tbody>\n",
       "</table>\n",
       "</div>"
      ],
      "text/plain": [
       "                                              band_1  \\\n",
       "0  [-15.863251, -15.201077, -17.887735, -19.17248...   \n",
       "1  [-26.058969497680664, -26.058969497680664, -26...   \n",
       "2  [-14.14109992980957, -15.064241409301758, -17....   \n",
       "3  [-12.167478, -13.706167, -16.54837, -13.572674...   \n",
       "4  [-23.37459373474121, -26.02718162536621, -28.1...   \n",
       "\n",
       "                                              band_2        id  inc_angle  \n",
       "0  [-21.629612, -21.142353, -23.908337, -28.34524...  5941774d  34.966400  \n",
       "1  [-25.754207611083984, -25.754207611083984, -25...  4023181e  32.615072  \n",
       "2  [-14.74563980102539, -14.590410232543945, -14....  b20200e4  37.505433  \n",
       "3  [-24.32222, -26.375538, -24.096739, -23.8769, ...  e7f018bb  34.473900  \n",
       "4  [-25.72234344482422, -27.011577606201172, -23....  4371c8c3  43.918874  "
      ]
     },
     "execution_count": 146,
     "metadata": {},
     "output_type": "execute_result"
    }
   ],
   "source": [
    "test_df.head()"
   ]
  },
  {
   "cell_type": "code",
   "execution_count": 147,
   "metadata": {
    "scrolled": true
   },
   "outputs": [
    {
     "name": "stdout",
     "output_type": "stream",
     "text": [
      "missing values in inc_angle:  0\n"
     ]
    },
    {
     "data": {
      "text/html": [
       "<div>\n",
       "<style scoped>\n",
       "    .dataframe tbody tr th:only-of-type {\n",
       "        vertical-align: middle;\n",
       "    }\n",
       "\n",
       "    .dataframe tbody tr th {\n",
       "        vertical-align: top;\n",
       "    }\n",
       "\n",
       "    .dataframe thead th {\n",
       "        text-align: right;\n",
       "    }\n",
       "</style>\n",
       "<table border=\"1\" class=\"dataframe\">\n",
       "  <thead>\n",
       "    <tr style=\"text-align: right;\">\n",
       "      <th></th>\n",
       "      <th>band_1</th>\n",
       "      <th>band_2</th>\n",
       "      <th>id</th>\n",
       "      <th>inc_angle</th>\n",
       "      <th>inc_angle_f</th>\n",
       "    </tr>\n",
       "  </thead>\n",
       "  <tbody>\n",
       "    <tr>\n",
       "      <th>8419</th>\n",
       "      <td>[-25.082357, -26.71583, -24.599827, -25.082571...</td>\n",
       "      <td>[-25.860718, -23.29442, -25.860861, -25.334354...</td>\n",
       "      <td>16ee9b50</td>\n",
       "      <td>34.795500</td>\n",
       "      <td>34.795500</td>\n",
       "    </tr>\n",
       "    <tr>\n",
       "      <th>8420</th>\n",
       "      <td>[-21.031391143798828, -21.031391143798828, -21...</td>\n",
       "      <td>[-23.755836486816406, -23.755836486816406, -23...</td>\n",
       "      <td>5a599eb7</td>\n",
       "      <td>32.246683</td>\n",
       "      <td>32.246683</td>\n",
       "    </tr>\n",
       "    <tr>\n",
       "      <th>8421</th>\n",
       "      <td>[-28.609278, -26.514626, -26.514679, -26.83061...</td>\n",
       "      <td>[-28.609278, -29.437183, -30.35239, -31.375494...</td>\n",
       "      <td>df30d6dd</td>\n",
       "      <td>39.503200</td>\n",
       "      <td>39.503200</td>\n",
       "    </tr>\n",
       "    <tr>\n",
       "      <th>8422</th>\n",
       "      <td>[-27.068821, -27.068892, -23.970854, -22.38730...</td>\n",
       "      <td>[-29.991381, -29.163599, -24.886002, -27.71266...</td>\n",
       "      <td>18af95b1</td>\n",
       "      <td>33.638000</td>\n",
       "      <td>33.638000</td>\n",
       "    </tr>\n",
       "    <tr>\n",
       "      <th>8423</th>\n",
       "      <td>[-25.438865661621094, -25.438865661621094, -25...</td>\n",
       "      <td>[-23.85527801513672, -23.85527801513672, -23.8...</td>\n",
       "      <td>27d788c8</td>\n",
       "      <td>36.758181</td>\n",
       "      <td>36.758181</td>\n",
       "    </tr>\n",
       "  </tbody>\n",
       "</table>\n",
       "</div>"
      ],
      "text/plain": [
       "                                                 band_1  \\\n",
       "8419  [-25.082357, -26.71583, -24.599827, -25.082571...   \n",
       "8420  [-21.031391143798828, -21.031391143798828, -21...   \n",
       "8421  [-28.609278, -26.514626, -26.514679, -26.83061...   \n",
       "8422  [-27.068821, -27.068892, -23.970854, -22.38730...   \n",
       "8423  [-25.438865661621094, -25.438865661621094, -25...   \n",
       "\n",
       "                                                 band_2        id  inc_angle  \\\n",
       "8419  [-25.860718, -23.29442, -25.860861, -25.334354...  16ee9b50  34.795500   \n",
       "8420  [-23.755836486816406, -23.755836486816406, -23...  5a599eb7  32.246683   \n",
       "8421  [-28.609278, -29.437183, -30.35239, -31.375494...  df30d6dd  39.503200   \n",
       "8422  [-29.991381, -29.163599, -24.886002, -27.71266...  18af95b1  33.638000   \n",
       "8423  [-23.85527801513672, -23.85527801513672, -23.8...  27d788c8  36.758181   \n",
       "\n",
       "      inc_angle_f  \n",
       "8419    34.795500  \n",
       "8420    32.246683  \n",
       "8421    39.503200  \n",
       "8422    33.638000  \n",
       "8423    36.758181  "
      ]
     },
     "execution_count": 147,
     "metadata": {},
     "output_type": "execute_result"
    }
   ],
   "source": [
    "test_df['inc_angle_f'] = pd.to_numeric(test_df['inc_angle'], errors='coerce')\n",
    "print(\"missing values in inc_angle: \", test_df['inc_angle_f'].isnull().sum())\n",
    "test_df['inc_angle_f'].replace(np.nan,0, inplace=True)\n",
    "test_df.tail()"
   ]
  },
  {
   "cell_type": "code",
   "execution_count": 148,
   "metadata": {},
   "outputs": [
    {
     "name": "stderr",
     "output_type": "stream",
     "text": [
      "current_model.py:2: FutureWarning: \n",
      "Passing list-likes to .loc or [] with any missing label will raise\n",
      "KeyError in the future, you can use .reindex() as an alternative.\n",
      "\n",
      "See the documentation here:\n",
      "http://pandas.pydata.org/pandas-docs/stable/indexing.html#deprecate-loc-reindex-listlike\n",
      "  def InputBlock(x, dropout=0.2, prefix=''):\n",
      "/home/marozet2/anaconda3/lib/python3.6/site-packages/pandas/core/indexing.py:1367: FutureWarning: \n",
      "Passing list-likes to .loc or [] with any missing label will raise\n",
      "KeyError in the future, you can use .reindex() as an alternative.\n",
      "\n",
      "See the documentation here:\n",
      "http://pandas.pydata.org/pandas-docs/stable/indexing.html#deprecate-loc-reindex-listlike\n",
      "  return self._getitem_tuple(key)\n"
     ]
    }
   ],
   "source": [
    "_, _, _, _, _, X_test = get_bands(test_df)\n",
    "y_angle_test = test_df.loc[:,['is_iceberg','inc_angle_f']]\n",
    "y_angle_test['index'] = y_angle_test.index"
   ]
  },
  {
   "cell_type": "code",
   "execution_count": 149,
   "metadata": {},
   "outputs": [
    {
     "data": {
      "text/plain": [
       "(8424, 75, 75, 4)"
      ]
     },
     "execution_count": 149,
     "metadata": {},
     "output_type": "execute_result"
    }
   ],
   "source": [
    "X_test.shape"
   ]
  },
  {
   "cell_type": "code",
   "execution_count": 150,
   "metadata": {
    "collapsed": true
   },
   "outputs": [],
   "source": [
    "datagen_val.fit(X_test)\n",
    "datagen_angle_val = Datagen_angle(imagegen=datagen_val)"
   ]
  },
  {
   "cell_type": "code",
   "execution_count": 151,
   "metadata": {},
   "outputs": [
    {
     "name": "stdout",
     "output_type": "stream",
     "text": [
      "34/33 [==============================] - 40s 1s/step\n"
     ]
    },
    {
     "data": {
      "application/vnd.jupyter.widget-view+json": {
       "model_id": "073b2557880a4c50a3298f60ff5d9f93",
       "version_major": 2,
       "version_minor": 0
      },
      "text/plain": [
       "A Jupyter Widget"
      ]
     },
     "metadata": {},
     "output_type": "display_data"
    },
    {
     "name": "stdout",
     "output_type": "stream",
     "text": [
      "34/33 [==============================] - 40s 1s/step\n",
      "34/33 [==============================] - 40s 1s/step\n",
      "34/33 [==============================] - 39s 1s/step\n",
      "34/33 [==============================] - 39s 1s/step\n",
      "34/33 [==============================] - 39s 1s/step\n",
      "34/33 [==============================] - 40s 1s/step\n",
      "34/33 [==============================] - 40s 1s/step\n",
      "34/33 [==============================] - 40s 1s/step\n",
      "34/33 [==============================] - 40s 1s/step\n",
      "34/33 [==============================] - 40s 1s/step\n",
      "34/33 [==============================] - 40s 1s/step\n",
      "34/33 [==============================] - 40s 1s/step\n",
      "34/33 [==============================] - 39s 1s/step\n",
      "34/33 [==============================] - 39s 1s/step\n",
      "34/33 [==============================] - 39s 1s/step\n",
      "34/33 [==============================] - 39s 1s/step\n",
      "34/33 [==============================] - 39s 1s/step\n",
      "34/33 [==============================] - 39s 1s/step\n",
      "34/33 [==============================] - 39s 1s/step\n",
      "34/33 [==============================] - 39s 1s/step\n",
      "34/33 [==============================] - 39s 1s/step\n",
      "34/33 [==============================] - 39s 1s/step\n",
      "34/33 [==============================] - 40s 1s/step\n",
      "34/33 [==============================] - 40s 1s/step\n",
      "34/33 [==============================] - 40s 1s/step\n",
      "\n"
     ]
    }
   ],
   "source": [
    "idx = 0\n",
    "pred = get_prediction(model_f, modelEnsemble.models[idx][2], X_test, y_angle_test)[:X_test.shape[0]]\n",
    "pred = np.array(pred)\n",
    "dataset_name = 'ensemble_data_%02d' % idx\n",
    "with h5py.File('tmp_data/ensemble_test_data.hd5', 'w') as hf:\n",
    "    hf.create_dataset(dataset_name,  data=pred)\n",
    "idx=1\n",
    "for i in tqdm(range(idx,idx+25), ascii=True):\n",
    "    idx = i\n",
    "    model = modelEnsemble.models[idx]\n",
    "    pred = get_prediction(model_f, model[2], X_test, y_angle_test)[:X_test.shape[0]]\n",
    "    pred = np.array(pred)\n",
    "    dataset_name = 'ensemble_data_%02d' % idx\n",
    "    with h5py.File('tmp_data/ensemble_test_data.hd5', 'a') as hf:\n",
    "        hf.create_dataset(dataset_name,  data=pred)"
   ]
  },
  {
   "cell_type": "code",
   "execution_count": 152,
   "metadata": {},
   "outputs": [
    {
     "data": {
      "application/vnd.jupyter.widget-view+json": {
       "model_id": "4af97ab569c643eb84ab31d19a2b06ec",
       "version_major": 2,
       "version_minor": 0
      },
      "text/plain": [
       "A Jupyter Widget"
      ]
     },
     "metadata": {},
     "output_type": "display_data"
    },
    {
     "name": "stdout",
     "output_type": "stream",
     "text": [
      "34/33 [==============================] - 40s 1s/step\n",
      "34/33 [==============================] - 40s 1s/step\n",
      "34/33 [==============================] - 40s 1s/step\n",
      "34/33 [==============================] - 40s 1s/step\n",
      "34/33 [==============================] - 40s 1s/step\n",
      "34/33 [==============================] - 40s 1s/step\n",
      "34/33 [==============================] - 40s 1s/step\n",
      "34/33 [==============================] - 40s 1s/step\n",
      "34/33 [==============================] - 40s 1s/step\n",
      "34/33 [==============================] - 39s 1s/step\n",
      "34/33 [==============================] - 39s 1s/step\n",
      " 9/33 [=======>......................] - ETA: 28s"
     ]
    },
    {
     "ename": "KeyboardInterrupt",
     "evalue": "",
     "output_type": "error",
     "traceback": [
      "\u001b[0;31m---------------------------------------------------------------------------\u001b[0m",
      "\u001b[0;31mKeyboardInterrupt\u001b[0m                         Traceback (most recent call last)",
      "\u001b[0;32m~/Statoil-C-CORE-Iceberg-Classifier-Challenge/current_model.py\u001b[0m in \u001b[0;36m<module>\u001b[0;34m()\u001b[0m\n\u001b[1;32m      3\u001b[0m     \u001b[0midx\u001b[0m \u001b[0;34m=\u001b[0m \u001b[0mi\u001b[0m\u001b[0;34m\u001b[0m\u001b[0m\n\u001b[1;32m      4\u001b[0m     \u001b[0mmodel\u001b[0m \u001b[0;34m=\u001b[0m \u001b[0mmodelEnsemble\u001b[0m\u001b[0;34m.\u001b[0m\u001b[0mmodels\u001b[0m\u001b[0;34m[\u001b[0m\u001b[0midx\u001b[0m\u001b[0;34m]\u001b[0m\u001b[0;34m\u001b[0m\u001b[0m\n\u001b[0;32m----> 5\u001b[0;31m     \u001b[0mpred\u001b[0m \u001b[0;34m=\u001b[0m \u001b[0mget_prediction\u001b[0m\u001b[0;34m(\u001b[0m\u001b[0mmodel_f\u001b[0m\u001b[0;34m,\u001b[0m \u001b[0mmodel\u001b[0m\u001b[0;34m[\u001b[0m\u001b[0;36m2\u001b[0m\u001b[0;34m]\u001b[0m\u001b[0;34m,\u001b[0m \u001b[0mX_test\u001b[0m\u001b[0;34m,\u001b[0m \u001b[0my_angle_test\u001b[0m\u001b[0;34m)\u001b[0m\u001b[0;34m[\u001b[0m\u001b[0;34m:\u001b[0m\u001b[0mX_test\u001b[0m\u001b[0;34m.\u001b[0m\u001b[0mshape\u001b[0m\u001b[0;34m[\u001b[0m\u001b[0;36m0\u001b[0m\u001b[0;34m]\u001b[0m\u001b[0;34m]\u001b[0m\u001b[0;34m\u001b[0m\u001b[0m\n\u001b[0m\u001b[1;32m      6\u001b[0m     \u001b[0mpred\u001b[0m \u001b[0;34m=\u001b[0m \u001b[0mnp\u001b[0m\u001b[0;34m.\u001b[0m\u001b[0marray\u001b[0m\u001b[0;34m(\u001b[0m\u001b[0mpred\u001b[0m\u001b[0;34m)\u001b[0m\u001b[0;34m\u001b[0m\u001b[0m\n\u001b[1;32m      7\u001b[0m     \u001b[0mdataset_name\u001b[0m \u001b[0;34m=\u001b[0m \u001b[0;34m'ensemble_data_%02d'\u001b[0m \u001b[0;34m%\u001b[0m \u001b[0midx\u001b[0m\u001b[0;34m\u001b[0m\u001b[0m\n",
      "\u001b[0;32m~/Statoil-C-CORE-Iceberg-Classifier-Challenge/current_model.py\u001b[0m in \u001b[0;36mget_prediction\u001b[0;34m(model, weights, X, y)\u001b[0m\n\u001b[1;32m      3\u001b[0m     return model.predict_generator(datagen_angle_val.flow(X, y, batch_size=256, shuffle=False, \n\u001b[1;32m      4\u001b[0m                                              noise_on=True,noise=((1,0.5,1,0.5),(1,0.5,1,0.5))), \n\u001b[0;32m----> 5\u001b[0;31m                            steps = len(X)/255, verbose=1)\n\u001b[0m",
      "\u001b[0;32m~/anaconda3/lib/python3.6/site-packages/keras/legacy/interfaces.py\u001b[0m in \u001b[0;36mwrapper\u001b[0;34m(*args, **kwargs)\u001b[0m\n\u001b[1;32m     89\u001b[0m                 warnings.warn('Update your `' + object_name +\n\u001b[1;32m     90\u001b[0m                               '` call to the Keras 2 API: ' + signature, stacklevel=2)\n\u001b[0;32m---> 91\u001b[0;31m             \u001b[0;32mreturn\u001b[0m \u001b[0mfunc\u001b[0m\u001b[0;34m(\u001b[0m\u001b[0;34m*\u001b[0m\u001b[0margs\u001b[0m\u001b[0;34m,\u001b[0m \u001b[0;34m**\u001b[0m\u001b[0mkwargs\u001b[0m\u001b[0;34m)\u001b[0m\u001b[0;34m\u001b[0m\u001b[0m\n\u001b[0m\u001b[1;32m     92\u001b[0m         \u001b[0mwrapper\u001b[0m\u001b[0;34m.\u001b[0m\u001b[0m_original_function\u001b[0m \u001b[0;34m=\u001b[0m \u001b[0mfunc\u001b[0m\u001b[0;34m\u001b[0m\u001b[0m\n\u001b[1;32m     93\u001b[0m         \u001b[0;32mreturn\u001b[0m \u001b[0mwrapper\u001b[0m\u001b[0;34m\u001b[0m\u001b[0m\n",
      "\u001b[0;32m~/anaconda3/lib/python3.6/site-packages/keras/engine/training.py\u001b[0m in \u001b[0;36mpredict_generator\u001b[0;34m(self, generator, steps, max_queue_size, workers, use_multiprocessing, verbose)\u001b[0m\n\u001b[1;32m   2453\u001b[0m                     \u001b[0mx\u001b[0m \u001b[0;34m=\u001b[0m \u001b[0mgenerator_output\u001b[0m\u001b[0;34m\u001b[0m\u001b[0m\n\u001b[1;32m   2454\u001b[0m \u001b[0;34m\u001b[0m\u001b[0m\n\u001b[0;32m-> 2455\u001b[0;31m                 \u001b[0mouts\u001b[0m \u001b[0;34m=\u001b[0m \u001b[0mself\u001b[0m\u001b[0;34m.\u001b[0m\u001b[0mpredict_on_batch\u001b[0m\u001b[0;34m(\u001b[0m\u001b[0mx\u001b[0m\u001b[0;34m)\u001b[0m\u001b[0;34m\u001b[0m\u001b[0m\n\u001b[0m\u001b[1;32m   2456\u001b[0m                 \u001b[0;32mif\u001b[0m \u001b[0;32mnot\u001b[0m \u001b[0misinstance\u001b[0m\u001b[0;34m(\u001b[0m\u001b[0mouts\u001b[0m\u001b[0;34m,\u001b[0m \u001b[0mlist\u001b[0m\u001b[0;34m)\u001b[0m\u001b[0;34m:\u001b[0m\u001b[0;34m\u001b[0m\u001b[0m\n\u001b[1;32m   2457\u001b[0m                     \u001b[0mouts\u001b[0m \u001b[0;34m=\u001b[0m \u001b[0;34m[\u001b[0m\u001b[0mouts\u001b[0m\u001b[0;34m]\u001b[0m\u001b[0;34m\u001b[0m\u001b[0m\n",
      "\u001b[0;32m~/anaconda3/lib/python3.6/site-packages/keras/engine/training.py\u001b[0m in \u001b[0;36mpredict_on_batch\u001b[0;34m(self, x)\u001b[0m\n\u001b[1;32m   1910\u001b[0m             \u001b[0mins\u001b[0m \u001b[0;34m=\u001b[0m \u001b[0mx\u001b[0m\u001b[0;34m\u001b[0m\u001b[0m\n\u001b[1;32m   1911\u001b[0m         \u001b[0mself\u001b[0m\u001b[0;34m.\u001b[0m\u001b[0m_make_predict_function\u001b[0m\u001b[0;34m(\u001b[0m\u001b[0;34m)\u001b[0m\u001b[0;34m\u001b[0m\u001b[0m\n\u001b[0;32m-> 1912\u001b[0;31m         \u001b[0moutputs\u001b[0m \u001b[0;34m=\u001b[0m \u001b[0mself\u001b[0m\u001b[0;34m.\u001b[0m\u001b[0mpredict_function\u001b[0m\u001b[0;34m(\u001b[0m\u001b[0mins\u001b[0m\u001b[0;34m)\u001b[0m\u001b[0;34m\u001b[0m\u001b[0m\n\u001b[0m\u001b[1;32m   1913\u001b[0m         \u001b[0;32mif\u001b[0m \u001b[0mlen\u001b[0m\u001b[0;34m(\u001b[0m\u001b[0moutputs\u001b[0m\u001b[0;34m)\u001b[0m \u001b[0;34m==\u001b[0m \u001b[0;36m1\u001b[0m\u001b[0;34m:\u001b[0m\u001b[0;34m\u001b[0m\u001b[0m\n\u001b[1;32m   1914\u001b[0m             \u001b[0;32mreturn\u001b[0m \u001b[0moutputs\u001b[0m\u001b[0;34m[\u001b[0m\u001b[0;36m0\u001b[0m\u001b[0;34m]\u001b[0m\u001b[0;34m\u001b[0m\u001b[0m\n",
      "\u001b[0;32m~/anaconda3/lib/python3.6/site-packages/keras/backend/tensorflow_backend.py\u001b[0m in \u001b[0;36m__call__\u001b[0;34m(self, inputs)\u001b[0m\n\u001b[1;32m   2473\u001b[0m         \u001b[0msession\u001b[0m \u001b[0;34m=\u001b[0m \u001b[0mget_session\u001b[0m\u001b[0;34m(\u001b[0m\u001b[0;34m)\u001b[0m\u001b[0;34m\u001b[0m\u001b[0m\n\u001b[1;32m   2474\u001b[0m         updated = session.run(fetches=fetches, feed_dict=feed_dict,\n\u001b[0;32m-> 2475\u001b[0;31m                               **self.session_kwargs)\n\u001b[0m\u001b[1;32m   2476\u001b[0m         \u001b[0;32mreturn\u001b[0m \u001b[0mupdated\u001b[0m\u001b[0;34m[\u001b[0m\u001b[0;34m:\u001b[0m\u001b[0mlen\u001b[0m\u001b[0;34m(\u001b[0m\u001b[0mself\u001b[0m\u001b[0;34m.\u001b[0m\u001b[0moutputs\u001b[0m\u001b[0;34m)\u001b[0m\u001b[0;34m]\u001b[0m\u001b[0;34m\u001b[0m\u001b[0m\n\u001b[1;32m   2477\u001b[0m \u001b[0;34m\u001b[0m\u001b[0m\n",
      "\u001b[0;32m~/anaconda3/lib/python3.6/site-packages/tensorflow/python/client/session.py\u001b[0m in \u001b[0;36mrun\u001b[0;34m(self, fetches, feed_dict, options, run_metadata)\u001b[0m\n\u001b[1;32m    887\u001b[0m     \u001b[0;32mtry\u001b[0m\u001b[0;34m:\u001b[0m\u001b[0;34m\u001b[0m\u001b[0m\n\u001b[1;32m    888\u001b[0m       result = self._run(None, fetches, feed_dict, options_ptr,\n\u001b[0;32m--> 889\u001b[0;31m                          run_metadata_ptr)\n\u001b[0m\u001b[1;32m    890\u001b[0m       \u001b[0;32mif\u001b[0m \u001b[0mrun_metadata\u001b[0m\u001b[0;34m:\u001b[0m\u001b[0;34m\u001b[0m\u001b[0m\n\u001b[1;32m    891\u001b[0m         \u001b[0mproto_data\u001b[0m \u001b[0;34m=\u001b[0m \u001b[0mtf_session\u001b[0m\u001b[0;34m.\u001b[0m\u001b[0mTF_GetBuffer\u001b[0m\u001b[0;34m(\u001b[0m\u001b[0mrun_metadata_ptr\u001b[0m\u001b[0;34m)\u001b[0m\u001b[0;34m\u001b[0m\u001b[0m\n",
      "\u001b[0;32m~/anaconda3/lib/python3.6/site-packages/tensorflow/python/client/session.py\u001b[0m in \u001b[0;36m_run\u001b[0;34m(self, handle, fetches, feed_dict, options, run_metadata)\u001b[0m\n\u001b[1;32m   1118\u001b[0m     \u001b[0;32mif\u001b[0m \u001b[0mfinal_fetches\u001b[0m \u001b[0;32mor\u001b[0m \u001b[0mfinal_targets\u001b[0m \u001b[0;32mor\u001b[0m \u001b[0;34m(\u001b[0m\u001b[0mhandle\u001b[0m \u001b[0;32mand\u001b[0m \u001b[0mfeed_dict_tensor\u001b[0m\u001b[0;34m)\u001b[0m\u001b[0;34m:\u001b[0m\u001b[0;34m\u001b[0m\u001b[0m\n\u001b[1;32m   1119\u001b[0m       results = self._do_run(handle, final_targets, final_fetches,\n\u001b[0;32m-> 1120\u001b[0;31m                              feed_dict_tensor, options, run_metadata)\n\u001b[0m\u001b[1;32m   1121\u001b[0m     \u001b[0;32melse\u001b[0m\u001b[0;34m:\u001b[0m\u001b[0;34m\u001b[0m\u001b[0m\n\u001b[1;32m   1122\u001b[0m       \u001b[0mresults\u001b[0m \u001b[0;34m=\u001b[0m \u001b[0;34m[\u001b[0m\u001b[0;34m]\u001b[0m\u001b[0;34m\u001b[0m\u001b[0m\n",
      "\u001b[0;32m~/anaconda3/lib/python3.6/site-packages/tensorflow/python/client/session.py\u001b[0m in \u001b[0;36m_do_run\u001b[0;34m(self, handle, target_list, fetch_list, feed_dict, options, run_metadata)\u001b[0m\n\u001b[1;32m   1315\u001b[0m     \u001b[0;32mif\u001b[0m \u001b[0mhandle\u001b[0m \u001b[0;32mis\u001b[0m \u001b[0;32mNone\u001b[0m\u001b[0;34m:\u001b[0m\u001b[0;34m\u001b[0m\u001b[0m\n\u001b[1;32m   1316\u001b[0m       return self._do_call(_run_fn, self._session, feeds, fetches, targets,\n\u001b[0;32m-> 1317\u001b[0;31m                            options, run_metadata)\n\u001b[0m\u001b[1;32m   1318\u001b[0m     \u001b[0;32melse\u001b[0m\u001b[0;34m:\u001b[0m\u001b[0;34m\u001b[0m\u001b[0m\n\u001b[1;32m   1319\u001b[0m       \u001b[0;32mreturn\u001b[0m \u001b[0mself\u001b[0m\u001b[0;34m.\u001b[0m\u001b[0m_do_call\u001b[0m\u001b[0;34m(\u001b[0m\u001b[0m_prun_fn\u001b[0m\u001b[0;34m,\u001b[0m \u001b[0mself\u001b[0m\u001b[0;34m.\u001b[0m\u001b[0m_session\u001b[0m\u001b[0;34m,\u001b[0m \u001b[0mhandle\u001b[0m\u001b[0;34m,\u001b[0m \u001b[0mfeeds\u001b[0m\u001b[0;34m,\u001b[0m \u001b[0mfetches\u001b[0m\u001b[0;34m)\u001b[0m\u001b[0;34m\u001b[0m\u001b[0m\n",
      "\u001b[0;32m~/anaconda3/lib/python3.6/site-packages/tensorflow/python/client/session.py\u001b[0m in \u001b[0;36m_do_call\u001b[0;34m(self, fn, *args)\u001b[0m\n\u001b[1;32m   1321\u001b[0m   \u001b[0;32mdef\u001b[0m \u001b[0m_do_call\u001b[0m\u001b[0;34m(\u001b[0m\u001b[0mself\u001b[0m\u001b[0;34m,\u001b[0m \u001b[0mfn\u001b[0m\u001b[0;34m,\u001b[0m \u001b[0;34m*\u001b[0m\u001b[0margs\u001b[0m\u001b[0;34m)\u001b[0m\u001b[0;34m:\u001b[0m\u001b[0;34m\u001b[0m\u001b[0m\n\u001b[1;32m   1322\u001b[0m     \u001b[0;32mtry\u001b[0m\u001b[0;34m:\u001b[0m\u001b[0;34m\u001b[0m\u001b[0m\n\u001b[0;32m-> 1323\u001b[0;31m       \u001b[0;32mreturn\u001b[0m \u001b[0mfn\u001b[0m\u001b[0;34m(\u001b[0m\u001b[0;34m*\u001b[0m\u001b[0margs\u001b[0m\u001b[0;34m)\u001b[0m\u001b[0;34m\u001b[0m\u001b[0m\n\u001b[0m\u001b[1;32m   1324\u001b[0m     \u001b[0;32mexcept\u001b[0m \u001b[0merrors\u001b[0m\u001b[0;34m.\u001b[0m\u001b[0mOpError\u001b[0m \u001b[0;32mas\u001b[0m \u001b[0me\u001b[0m\u001b[0;34m:\u001b[0m\u001b[0;34m\u001b[0m\u001b[0m\n\u001b[1;32m   1325\u001b[0m       \u001b[0mmessage\u001b[0m \u001b[0;34m=\u001b[0m \u001b[0mcompat\u001b[0m\u001b[0;34m.\u001b[0m\u001b[0mas_text\u001b[0m\u001b[0;34m(\u001b[0m\u001b[0me\u001b[0m\u001b[0;34m.\u001b[0m\u001b[0mmessage\u001b[0m\u001b[0;34m)\u001b[0m\u001b[0;34m\u001b[0m\u001b[0m\n",
      "\u001b[0;32m~/anaconda3/lib/python3.6/site-packages/tensorflow/python/client/session.py\u001b[0m in \u001b[0;36m_run_fn\u001b[0;34m(session, feed_dict, fetch_list, target_list, options, run_metadata)\u001b[0m\n\u001b[1;32m   1300\u001b[0m           return tf_session.TF_Run(session, options,\n\u001b[1;32m   1301\u001b[0m                                    \u001b[0mfeed_dict\u001b[0m\u001b[0;34m,\u001b[0m \u001b[0mfetch_list\u001b[0m\u001b[0;34m,\u001b[0m \u001b[0mtarget_list\u001b[0m\u001b[0;34m,\u001b[0m\u001b[0;34m\u001b[0m\u001b[0m\n\u001b[0;32m-> 1302\u001b[0;31m                                    status, run_metadata)\n\u001b[0m\u001b[1;32m   1303\u001b[0m \u001b[0;34m\u001b[0m\u001b[0m\n\u001b[1;32m   1304\u001b[0m     \u001b[0;32mdef\u001b[0m \u001b[0m_prun_fn\u001b[0m\u001b[0;34m(\u001b[0m\u001b[0msession\u001b[0m\u001b[0;34m,\u001b[0m \u001b[0mhandle\u001b[0m\u001b[0;34m,\u001b[0m \u001b[0mfeed_dict\u001b[0m\u001b[0;34m,\u001b[0m \u001b[0mfetch_list\u001b[0m\u001b[0;34m)\u001b[0m\u001b[0;34m:\u001b[0m\u001b[0;34m\u001b[0m\u001b[0m\n",
      "\u001b[0;31mKeyboardInterrupt\u001b[0m: "
     ]
    }
   ],
   "source": [
    "idx+=1\n",
    "for i in tqdm(range(idx,idx+25), ascii=True):\n",
    "    idx = i\n",
    "    model = modelEnsemble.models[idx]\n",
    "    pred = get_prediction(model_f, model[2], X_test, y_angle_test)[:X_test.shape[0]]\n",
    "    pred = np.array(pred)\n",
    "    dataset_name = 'ensemble_data_%02d' % idx\n",
    "    with h5py.File('tmp_data/ensemble_test_data.hd5', 'a') as hf:\n",
    "        hf.create_dataset(dataset_name,  data=pred)"
   ]
  },
  {
   "cell_type": "code",
   "execution_count": null,
   "metadata": {
    "collapsed": true
   },
   "outputs": [],
   "source": [
    "idx+=1\n",
    "for i in tqdm(range(idx,idx+25), ascii=True):\n",
    "    idx = i\n",
    "    model = modelEnsemble.models[idx]\n",
    "    pred = get_prediction(model_f, model[2], X_test, y_angle_test)[:X_test.shape[0]]\n",
    "    pred = np.array(pred)\n",
    "    dataset_name = 'ensemble_data_%02d' % idx\n",
    "    with h5py.File('tmp_data/ensemble_test_data.hd5', 'a') as hf:\n",
    "        hf.create_dataset(dataset_name,  data=pred)"
   ]
  },
  {
   "cell_type": "code",
   "execution_count": null,
   "metadata": {
    "collapsed": true
   },
   "outputs": [],
   "source": [
    "idx+=1\n",
    "for i in tqdm(range(idx,idx+25), ascii=True):\n",
    "    idx = i\n",
    "    model = modelEnsemble.models[idx]\n",
    "    pred = get_prediction(model_f, model[2], X_test, y_angle_test)[:X_test.shape[0]]\n",
    "    pred = np.array(pred)\n",
    "    dataset_name = 'ensemble_data_%02d' % idx\n",
    "    with h5py.File('tmp_data/ensemble_test_data.hd5', 'a') as hf:\n",
    "        hf.create_dataset(dataset_name,  data=pred)"
   ]
  },
  {
   "cell_type": "code",
   "execution_count": null,
   "metadata": {
    "collapsed": true
   },
   "outputs": [],
   "source": [
    "idx += 1\n",
    "for i in tqdm(range(idx,len(modelEnsemble.models)), ascii=True):\n",
    "    idx = i\n",
    "    model = modelEnsemble.models[idx]\n",
    "    pred = get_prediction(model_f, model[2], X_test, y_angle_test)[:X_test.shape[0]]\n",
    "    pred = np.array(pred)\n",
    "    dataset_name = 'ensemble_data_%02d' % idx\n",
    "    with h5py.File('tmp_data/ensemble_test_data.hd5', 'a') as hf:\n",
    "        hf.create_dataset(dataset_name,  data=pred)"
   ]
  },
  {
   "cell_type": "code",
   "execution_count": null,
   "metadata": {
    "collapsed": true
   },
   "outputs": [],
   "source": [
    "#ensemble_test = get_ensemble_predictions(X_test, y_angle_test, modelEnsemble)\n",
    "#with h5py.File('tmp_data/ensemble_data.h5', 'a') as hf:\n",
    "#    hf.create_dataset(\"ensemble_test\",  data=ensemble_train)"
   ]
  },
  {
   "cell_type": "code",
   "execution_count": null,
   "metadata": {
    "collapsed": true
   },
   "outputs": [],
   "source": [
    "with h5py.File('tmp_data/ensemble_test_data.hd5', 'r') as hf:\n",
    "    ensemble_test_list = [hf['ensemble_data_%02d' % idx2][:] for idx2 in tqdm(range(0,len(modelEnsemble.models)), ascii=True)]"
   ]
  },
  {
   "cell_type": "code",
   "execution_count": null,
   "metadata": {
    "collapsed": true
   },
   "outputs": [],
   "source": [
    "ensemble_test = np.array(ensemble_test_list)\n",
    "ensemble_test = np.swapaxes(ensemble_test,0,1)\n",
    "ensemble_test = ensemble_test.reshape(ensemble_test.shape[0],ensemble_test.shape[1])\n",
    "ensemble_test.shape"
   ]
  },
  {
   "cell_type": "code",
   "execution_count": null,
   "metadata": {
    "collapsed": true
   },
   "outputs": [],
   "source": [
    "with open('models/modelXgb4_gcompute_v27.pickle', 'rb') as handle:\n",
    "    xgb4 = pickle.load(handle)"
   ]
  },
  {
   "cell_type": "code",
   "execution_count": null,
   "metadata": {
    "collapsed": true
   },
   "outputs": [],
   "source": [
    "test_probs = xgb4.predict_proba(ensemble_test)\n",
    "predictions = test_probs"
   ]
  },
  {
   "cell_type": "code",
   "execution_count": null,
   "metadata": {
    "collapsed": true
   },
   "outputs": [],
   "source": [
    "predictions[:,1]"
   ]
  },
  {
   "cell_type": "code",
   "execution_count": null,
   "metadata": {
    "collapsed": true
   },
   "outputs": [],
   "source": [
    "submission = pd.DataFrame({'id': test_df['id'], 'is_iceberg': predictions[:,1]})\n",
    "submission.head(10)\n",
    "submission.to_csv(\"submission.ensemble.xgboost.106.v27.csv\", index=False)"
   ]
  },
  {
   "cell_type": "code",
   "execution_count": null,
   "metadata": {
    "collapsed": true
   },
   "outputs": [],
   "source": []
  }
 ],
 "metadata": {
  "anaconda-cloud": {},
  "kernelspec": {
   "display_name": "Python 3",
   "language": "python",
   "name": "python3"
  },
  "language_info": {
   "codemirror_mode": {
    "name": "ipython",
    "version": 3
   },
   "file_extension": ".py",
   "mimetype": "text/x-python",
   "name": "python",
   "nbconvert_exporter": "python",
   "pygments_lexer": "ipython3",
   "version": "3.6.3"
  }
 },
 "nbformat": 4,
 "nbformat_minor": 1
}
