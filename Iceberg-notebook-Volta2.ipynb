{
 "cells": [
  {
   "cell_type": "markdown",
   "metadata": {},
   "source": [
    "### Imports"
   ]
  },
  {
   "cell_type": "code",
   "execution_count": 103,
   "metadata": {
    "scrolled": false
   },
   "outputs": [],
   "source": [
    "import numpy as np\n",
    "import pandas as pd\n",
    "import time\n",
    "import matplotlib.pyplot as plt\n",
    "import os\n",
    "import math\n",
    "import pickle\n",
    "import datetime\n",
    "\n",
    "from keras import backend as K\n",
    "from keras.models import Model, load_model\n",
    "from keras.layers import Dense, Activation, Conv2D, MaxPooling2D, Reshape, Lambda, ZeroPadding2D, GaussianNoise, AlphaDropout, Input, Concatenate\n",
    "from keras.layers.core import Flatten, Dropout\n",
    "from keras.optimizers import Adam\n",
    "from keras.layers.normalization import BatchNormalization\n",
    "from keras.preprocessing.image import ImageDataGenerator\n",
    "from keras.callbacks import ModelCheckpoint, Callback, EarlyStopping, ReduceLROnPlateau, LearningRateScheduler\n",
    "from keras.utils import to_categorical, normalize\n",
    "\n",
    "from sklearn.model_selection import train_test_split\n",
    "import tensorflow as tf\n",
    "\n",
    "from scipy import ndimage\n",
    "from skimage.morphology import reconstruction\n",
    "from skimage.restoration import denoise_wavelet, denoise_tv_chambolle, denoise_nl_means\n",
    "\n",
    "\n",
    "random_seed = 54321\n",
    "np.random.seed(random_seed)\n",
    "cwd = os.getcwd()\n",
    "#for windows\n",
    "model_path = cwd + '\\\\models\\\\'"
   ]
  },
  {
   "cell_type": "markdown",
   "metadata": {},
   "source": [
    "Manually create tensorflow session to avoid potential OEM errors on laptop's GPU."
   ]
  },
  {
   "cell_type": "code",
   "execution_count": 104,
   "metadata": {},
   "outputs": [],
   "source": [
    "tf.set_random_seed(random_seed)\n",
    "config = tf.ConfigProto()\n",
    "config.gpu_options.allow_growth = True\n",
    "session = tf.Session(config=config)\n",
    "K.set_session(session)\n",
    "K.set_image_dim_ordering('tf')"
   ]
  },
  {
   "cell_type": "code",
   "execution_count": 105,
   "metadata": {},
   "outputs": [
    {
     "name": "stdout",
     "output_type": "stream",
     "text": [
      "Thu Dec 21 17:02:33 2017       \r\n",
      "+-----------------------------------------------------------------------------+\r\n",
      "| NVIDIA-SMI 384.81                 Driver Version: 384.81                    |\r\n",
      "|-------------------------------+----------------------+----------------------+\r\n",
      "| GPU  Name        Persistence-M| Bus-Id        Disp.A | Volatile Uncorr. ECC |\r\n",
      "| Fan  Temp  Perf  Pwr:Usage/Cap|         Memory-Usage | GPU-Util  Compute M. |\r\n",
      "|===============================+======================+======================|\r\n",
      "|   0  Tesla V100-SXM2...  Off  | 00000000:00:1E.0 Off |                    0 |\r\n",
      "| N/A   36C    P0    37W / 300W |   4690MiB / 16152MiB |      0%      Default |\r\n",
      "+-------------------------------+----------------------+----------------------+\r\n",
      "                                                                               \r\n",
      "+-----------------------------------------------------------------------------+\r\n",
      "| Processes:                                                       GPU Memory |\r\n",
      "|  GPU       PID   Type   Process name                             Usage      |\r\n",
      "|=============================================================================|\r\n",
      "+-----------------------------------------------------------------------------+\r\n"
     ]
    }
   ],
   "source": [
    "!nvidia-smi"
   ]
  },
  {
   "cell_type": "markdown",
   "metadata": {},
   "source": [
    "### Load Data"
   ]
  },
  {
   "cell_type": "code",
   "execution_count": 106,
   "metadata": {},
   "outputs": [],
   "source": [
    "data = pd.read_json(\"Data/train/train.json\", orient='records')\n",
    "data.head()\n",
    "train_df = data"
   ]
  },
  {
   "cell_type": "code",
   "execution_count": 107,
   "metadata": {
    "scrolled": true
   },
   "outputs": [
    {
     "name": "stdout",
     "output_type": "stream",
     "text": [
      "<class 'pandas.core.frame.DataFrame'>\n",
      "Int64Index: 1604 entries, 0 to 1603\n",
      "Data columns (total 5 columns):\n",
      "band_1        1604 non-null object\n",
      "band_2        1604 non-null object\n",
      "id            1604 non-null object\n",
      "inc_angle     1604 non-null object\n",
      "is_iceberg    1604 non-null int64\n",
      "dtypes: int64(1), object(4)\n",
      "memory usage: 75.2+ KB\n"
     ]
    }
   ],
   "source": [
    "data.info()"
   ]
  },
  {
   "cell_type": "markdown",
   "metadata": {},
   "source": [
    "### Missing values"
   ]
  },
  {
   "cell_type": "code",
   "execution_count": 108,
   "metadata": {
    "scrolled": true
   },
   "outputs": [
    {
     "name": "stdout",
     "output_type": "stream",
     "text": [
      "missing values in inc_angle:  133\n"
     ]
    },
    {
     "data": {
      "text/html": [
       "<div>\n",
       "<style scoped>\n",
       "    .dataframe tbody tr th:only-of-type {\n",
       "        vertical-align: middle;\n",
       "    }\n",
       "\n",
       "    .dataframe tbody tr th {\n",
       "        vertical-align: top;\n",
       "    }\n",
       "\n",
       "    .dataframe thead th {\n",
       "        text-align: right;\n",
       "    }\n",
       "</style>\n",
       "<table border=\"1\" class=\"dataframe\">\n",
       "  <thead>\n",
       "    <tr style=\"text-align: right;\">\n",
       "      <th></th>\n",
       "      <th>band_1</th>\n",
       "      <th>band_2</th>\n",
       "      <th>id</th>\n",
       "      <th>inc_angle</th>\n",
       "      <th>is_iceberg</th>\n",
       "      <th>inc_angle_f</th>\n",
       "    </tr>\n",
       "  </thead>\n",
       "  <tbody>\n",
       "    <tr>\n",
       "      <th>1599</th>\n",
       "      <td>[-30.999878, -29.976866, -28.233906, -29.50732...</td>\n",
       "      <td>[-27.847719, -28.233864, -24.712077999999998, ...</td>\n",
       "      <td>04e11240</td>\n",
       "      <td>na</td>\n",
       "      <td>0</td>\n",
       "      <td>0.0</td>\n",
       "    </tr>\n",
       "    <tr>\n",
       "      <th>1600</th>\n",
       "      <td>[-25.31155, -26.511555, -28.694487, -27.180115...</td>\n",
       "      <td>[-29.563713, -28.290375, -26.839405, -28.29046...</td>\n",
       "      <td>c7d6f6f8</td>\n",
       "      <td>na</td>\n",
       "      <td>0</td>\n",
       "      <td>0.0</td>\n",
       "    </tr>\n",
       "    <tr>\n",
       "      <th>1601</th>\n",
       "      <td>[-18.141895, -18.141844, -19.01737, -19.701599...</td>\n",
       "      <td>[-25.305355, -29.387701, -28.963863, -26.16023...</td>\n",
       "      <td>bba1a0f1</td>\n",
       "      <td>na</td>\n",
       "      <td>0</td>\n",
       "      <td>0.0</td>\n",
       "    </tr>\n",
       "    <tr>\n",
       "      <th>1602</th>\n",
       "      <td>[-22.455633, -25.794661, -26.954567, -22.83354...</td>\n",
       "      <td>[-26.070356, -22.093737, -21.577662, -24.53376...</td>\n",
       "      <td>7f66bb44</td>\n",
       "      <td>na</td>\n",
       "      <td>0</td>\n",
       "      <td>0.0</td>\n",
       "    </tr>\n",
       "    <tr>\n",
       "      <th>1603</th>\n",
       "      <td>[-19.909191, -20.678406, -20.208834, -18.42441...</td>\n",
       "      <td>[-24.44487, -24.956001, -27.722103, -26.078417...</td>\n",
       "      <td>9d8f326c</td>\n",
       "      <td>na</td>\n",
       "      <td>0</td>\n",
       "      <td>0.0</td>\n",
       "    </tr>\n",
       "  </tbody>\n",
       "</table>\n",
       "</div>"
      ],
      "text/plain": [
       "                                                 band_1  \\\n",
       "1599  [-30.999878, -29.976866, -28.233906, -29.50732...   \n",
       "1600  [-25.31155, -26.511555, -28.694487, -27.180115...   \n",
       "1601  [-18.141895, -18.141844, -19.01737, -19.701599...   \n",
       "1602  [-22.455633, -25.794661, -26.954567, -22.83354...   \n",
       "1603  [-19.909191, -20.678406, -20.208834, -18.42441...   \n",
       "\n",
       "                                                 band_2        id inc_angle  \\\n",
       "1599  [-27.847719, -28.233864, -24.712077999999998, ...  04e11240        na   \n",
       "1600  [-29.563713, -28.290375, -26.839405, -28.29046...  c7d6f6f8        na   \n",
       "1601  [-25.305355, -29.387701, -28.963863, -26.16023...  bba1a0f1        na   \n",
       "1602  [-26.070356, -22.093737, -21.577662, -24.53376...  7f66bb44        na   \n",
       "1603  [-24.44487, -24.956001, -27.722103, -26.078417...  9d8f326c        na   \n",
       "\n",
       "      is_iceberg  inc_angle_f  \n",
       "1599           0          0.0  \n",
       "1600           0          0.0  \n",
       "1601           0          0.0  \n",
       "1602           0          0.0  \n",
       "1603           0          0.0  "
      ]
     },
     "execution_count": 108,
     "metadata": {},
     "output_type": "execute_result"
    }
   ],
   "source": [
    "train_df['inc_angle_f'] = pd.to_numeric(train_df['inc_angle'], errors='coerce')\n",
    "print(\"missing values in inc_angle: \", train_df['inc_angle_f'].isnull().sum())\n",
    "#train_df['inc_angle_f'].replace(np.nan,train_df['inc_angle_f'].mean(), inplace=True)\n",
    "train_df['inc_angle_f'].replace(np.nan,0, inplace=True)\n",
    "train_df.tail()"
   ]
  },
  {
   "cell_type": "markdown",
   "metadata": {},
   "source": [
    "### Transform for NN"
   ]
  },
  {
   "cell_type": "code",
   "execution_count": 109,
   "metadata": {},
   "outputs": [],
   "source": [
    "def get_bands(train_df):\n",
    "    max_col = np.array(train_df.apply(lambda x: max((max(train_df.loc[x.name,'band_1']),max(train_df.loc[x.name,'band_2']))),axis=1)) - 10\n",
    "    max_col2 = max_col.reshape(-1,1) * np.ones(75*75).reshape(1,75*75)\n",
    "    max_col2 = max_col2.reshape(-1,75,75)\n",
    "\n",
    "    band_1 = np.array(train_df['band_1'].tolist()).reshape(-1,75,75) - max_col2\n",
    "    band_2 = np.array(train_df['band_2'].tolist()).reshape(-1,75,75) - max_col2\n",
    "    band_1_t = 10**(band_1/10)\n",
    "    band_2_t = 10**(band_2/10)\n",
    "    band_1_t = np.where(band_1_t > 0.01, band_1_t, 0)\n",
    "    band_2_t = np.where(band_2_t > 0.01, band_2_t, 0)\n",
    "    band_3 = band_1_t - band_2_t\n",
    "    X = np.stack((band_1,band_2,band_1_t,band_2_t),axis=3)\n",
    "    \n",
    "    return band_1, band_2, band_1_t, band_2_t, band_3, X"
   ]
  },
  {
   "cell_type": "code",
   "execution_count": 110,
   "metadata": {},
   "outputs": [
    {
     "data": {
      "image/png": "[encoded data removed]",
      "text/plain": [
       "<matplotlib.figure.Figure at 0x7f655e0f8da0>"
      ]
     },
     "metadata": {},
     "output_type": "display_data"
    },
    {
     "data": {
      "image/png": "[encoded data removed]",
      "text/plain": [
       "<matplotlib.figure.Figure at 0x7f6633eac5c0>"
      ]
     },
     "metadata": {},
     "output_type": "display_data"
    }
   ],
   "source": [
    "band_1, band_2, band_1_t, band_2_t, band_3, X = get_bands(train_df)\n",
    "plt.hist(band_1.flatten(), bins=200, color=\"red\", alpha=0.4)\n",
    "plt.hist(band_2.flatten(), bins=200, color=\"blue\", alpha=0.4)\n",
    "plt.show()\n",
    "\n",
    "plt.hist(band_1[train_df[train_df['is_iceberg']==0].index[:3]].flatten(), bins=50, color=\"orange\", alpha=0.4)\n",
    "plt.hist(band_1[train_df[train_df['is_iceberg']==1].index[:3]].flatten(), bins=50, color=\"green\", alpha=0.4)\n",
    "plt.show()"
   ]
  },
  {
   "cell_type": "code",
   "execution_count": 111,
   "metadata": {},
   "outputs": [
    {
     "data": {
      "image/png": "[encoded data removed]",
      "text/plain": [
       "<matplotlib.figure.Figure at 0x7f64c2e59588>"
      ]
     },
     "metadata": {},
     "output_type": "display_data"
    }
   ],
   "source": [
    "plt.hist(band_1_t.flatten(),bins=200, color=\"red\", alpha=0.4)\n",
    "plt.hist(band_2_t.flatten(),bins=200, color=\"blue\", alpha=0.4)\n",
    "plt.yscale('log')\n",
    "plt.xscale('log')\n",
    "plt.show()"
   ]
  },
  {
   "cell_type": "code",
   "execution_count": 112,
   "metadata": {},
   "outputs": [
    {
     "data": {
      "image/png": "[encoded data removed]",
      "text/plain": [
       "<matplotlib.figure.Figure at 0x7f663f82d710>"
      ]
     },
     "metadata": {},
     "output_type": "display_data"
    }
   ],
   "source": [
    "plt.hist(band_3[train_df[train_df['is_iceberg']==0].index].flatten(), bins=50, color=\"orange\", alpha=0.4)\n",
    "plt.hist(band_3[train_df[train_df['is_iceberg']==1].index].flatten(), bins=50, color=\"green\", alpha=0.4)\n",
    "plt.yscale('log')\n",
    "plt.xscale('log')\n",
    "plt.show()"
   ]
  },
  {
   "cell_type": "code",
   "execution_count": 113,
   "metadata": {
    "scrolled": false
   },
   "outputs": [
    {
     "data": {
      "image/png": "[encoded data removed]",
      "text/plain": [
       "<matplotlib.figure.Figure at 0x7f66427baf98>"
      ]
     },
     "metadata": {},
     "output_type": "display_data"
    },
    {
     "data": {
      "image/png": "[encoded data removed]",
      "text/plain": [
       "<matplotlib.figure.Figure at 0x7f663b6fb8d0>"
      ]
     },
     "metadata": {},
     "output_type": "display_data"
    }
   ],
   "source": [
    "def plot_bands(index, cmap=\"gray\"):\n",
    "    fig = plt.figure(figsize=(12,6))\n",
    "    fig.suptitle(\"Is Iceberg: %x\" % (train_df.loc[index,'is_iceberg']), fontsize=16)\n",
    "    ax1 = fig.add_subplot(251)\n",
    "    ax1.set_title(\"Band 1\")\n",
    "    ax1.imshow(band_1[index], cmap=cmap)\n",
    "    ax2 = fig.add_subplot(252)\n",
    "    ax2.set_title(\"Band 2\")\n",
    "    ax2.imshow(band_2[index], cmap=cmap)\n",
    "    ax3 = fig.add_subplot(253)\n",
    "    ax3.set_title(\"Band 1 t\")\n",
    "    ax3.imshow(band_1_t[index], cmap=cmap)\n",
    "    ax3 = fig.add_subplot(254)\n",
    "    ax3.set_title(\"Band 2 t\")\n",
    "    ax3.imshow(band_2_t[index], cmap=cmap)\n",
    "    ax3 = fig.add_subplot(255)\n",
    "    ax3.set_title(\"Band 3\")\n",
    "    ax3.imshow(band_3[index], cmap=cmap)\n",
    "    fig.tight_layout(rect=[0, 0.03, 1, 0.95])\n",
    "    plt.show()\n",
    "\n",
    "plot_bands(0,cmap=\"inferno\")\n",
    "plot_bands(2,cmap=\"inferno\")\n"
   ]
  },
  {
   "cell_type": "code",
   "execution_count": 114,
   "metadata": {
    "scrolled": true
   },
   "outputs": [],
   "source": [
    "y = train_df.loc[:,'is_iceberg']\n",
    "y_angle = train_df.loc[:,['is_iceberg','inc_angle_f']]\n",
    "y_angle['index'] = y_angle.index"
   ]
  },
  {
   "cell_type": "code",
   "execution_count": 115,
   "metadata": {},
   "outputs": [
    {
     "data": {
      "text/html": [
       "<div>\n",
       "<style scoped>\n",
       "    .dataframe tbody tr th:only-of-type {\n",
       "        vertical-align: middle;\n",
       "    }\n",
       "\n",
       "    .dataframe tbody tr th {\n",
       "        vertical-align: top;\n",
       "    }\n",
       "\n",
       "    .dataframe thead th {\n",
       "        text-align: right;\n",
       "    }\n",
       "</style>\n",
       "<table border=\"1\" class=\"dataframe\">\n",
       "  <thead>\n",
       "    <tr style=\"text-align: right;\">\n",
       "      <th></th>\n",
       "      <th>is_iceberg</th>\n",
       "      <th>inc_angle_f</th>\n",
       "      <th>index</th>\n",
       "    </tr>\n",
       "  </thead>\n",
       "  <tbody>\n",
       "    <tr>\n",
       "      <th>0</th>\n",
       "      <td>0</td>\n",
       "      <td>43.9239</td>\n",
       "      <td>0</td>\n",
       "    </tr>\n",
       "    <tr>\n",
       "      <th>1</th>\n",
       "      <td>0</td>\n",
       "      <td>38.1562</td>\n",
       "      <td>1</td>\n",
       "    </tr>\n",
       "    <tr>\n",
       "      <th>2</th>\n",
       "      <td>1</td>\n",
       "      <td>45.2859</td>\n",
       "      <td>2</td>\n",
       "    </tr>\n",
       "    <tr>\n",
       "      <th>3</th>\n",
       "      <td>0</td>\n",
       "      <td>43.8306</td>\n",
       "      <td>3</td>\n",
       "    </tr>\n",
       "    <tr>\n",
       "      <th>4</th>\n",
       "      <td>0</td>\n",
       "      <td>35.6256</td>\n",
       "      <td>4</td>\n",
       "    </tr>\n",
       "  </tbody>\n",
       "</table>\n",
       "</div>"
      ],
      "text/plain": [
       "   is_iceberg  inc_angle_f  index\n",
       "0           0      43.9239      0\n",
       "1           0      38.1562      1\n",
       "2           1      45.2859      2\n",
       "3           0      43.8306      3\n",
       "4           0      35.6256      4"
      ]
     },
     "execution_count": 115,
     "metadata": {},
     "output_type": "execute_result"
    }
   ],
   "source": [
    "y_angle.head()"
   ]
  },
  {
   "cell_type": "markdown",
   "metadata": {},
   "source": [
    "### Split into train test and validation sets"
   ]
  },
  {
   "cell_type": "code",
   "execution_count": 116,
   "metadata": {},
   "outputs": [
    {
     "name": "stdout",
     "output_type": "stream",
     "text": [
      "(1122, 75, 75, 4)\n",
      "(482, 75, 75, 4)\n"
     ]
    }
   ],
   "source": [
    "X_train, X_val, y_train, y_val = train_test_split(X, y_angle, test_size=0.3, random_state=random_seed)\n",
    "print(X_train.shape)\n",
    "print(X_val.shape)"
   ]
  },
  {
   "cell_type": "markdown",
   "metadata": {},
   "source": [
    "### Data augmentation"
   ]
  },
  {
   "cell_type": "code",
   "execution_count": 117,
   "metadata": {
    "scrolled": false
   },
   "outputs": [
    {
     "name": "stdout",
     "output_type": "stream",
     "text": [
      "(1122, 75, 75, 4)\n"
     ]
    }
   ],
   "source": [
    "X_train_sample = X_train[:]\n",
    "y_train_sample = y_train[:]\n",
    "print(X_train_sample.shape)\n",
    "\n",
    "datagen = ImageDataGenerator(\n",
    "    samplewise_center=False,\n",
    "    samplewise_std_normalization=False,\n",
    "    rotation_range=20,\n",
    "    horizontal_flip=True,\n",
    "    vertical_flip=True,\n",
    "    fill_mode='nearest')\n",
    "\n",
    "datagen_val = ImageDataGenerator(\n",
    "    samplewise_center=False,\n",
    "    samplewise_std_normalization=False,\n",
    "    rotation_range=0,\n",
    "    horizontal_flip=False,\n",
    "    vertical_flip=False,\n",
    "    fill_mode='nearest')\n",
    "\n",
    "#custom generator for fit_generator\n",
    "from collections import Generator\n",
    "class Datagen_angle(Generator):\n",
    "    def __init__(self, imagegen=ImageDataGenerator):\n",
    "        self.imagegen = imagegen\n",
    "        \n",
    "    def flow(self, x, y, batch_size=8, shuffle=True):\n",
    "        self.generator = self.imagegen.flow(x, y, batch_size=batch_size, shuffle=shuffle)\n",
    "        return self\n",
    "    \n",
    "    def send(self, ignored):\n",
    "        temp_data = next(self.generator)\n",
    "        temp_band_3 = temp_data[0][:,:,:,2] - temp_data[0][:,:,:,3] #band_1_t - band_2_t\n",
    "        temp_stacked = np.stack((temp_data[0][:,:,:,0],temp_data[0][:,:,:,1],temp_data[0][:,:,:,2],\n",
    "                               temp_data[0][:,:,:,3],temp_band_3),axis=3)\n",
    "        temp_stacked1 = np.stack((temp_data[0][:,:,:,0],temp_data[0][:,:,:,1]),axis=3)\n",
    "        temp_stacked2 = np.stack((temp_data[0][:,:,:,2],temp_data[0][:,:,:,3],temp_band_3),axis=3)\n",
    "        nn_denoised_temp = temp_data[0] #pass 4 bands for nn denoising input\n",
    "        #denoised_temp = apply_over_axis(denoising, temp_stacked) #denoise all channels\n",
    "        return [temp_stacked1, temp_stacked2, \n",
    "                nn_denoised_temp,\n",
    "                #denoised_temp,\n",
    "                temp_data[1][:,1]], temp_data[1][:,0]\n",
    "    \n",
    "    def throw(self, type=None, value=None, traceback=None):\n",
    "        raise StopIteration\n",
    "    \n",
    "\n",
    "datagen.fit(X_train_sample)\n",
    "datagen_val.fit(X_val)\n",
    "\n",
    "datagen_angle = Datagen_angle(imagegen=datagen)\n",
    "datagen_angle_val = Datagen_angle(imagegen=datagen_val)\n"
   ]
  },
  {
   "cell_type": "markdown",
   "metadata": {},
   "source": [
    "### Denoising"
   ]
  },
  {
   "cell_type": "code",
   "execution_count": 118,
   "metadata": {},
   "outputs": [],
   "source": [
    "def denoising(img):\n",
    "    img_list = []\n",
    "    for i in range(4):\n",
    "        image = normalize(img[:,:,i])\n",
    "        img_list.append(ndimage.median_filter(image, 3))\n",
    "    return np.stack(img_list,axis=2)"
   ]
  },
  {
   "cell_type": "code",
   "execution_count": 119,
   "metadata": {},
   "outputs": [],
   "source": [
    "def apply_over_axis(func, data, mask=None, axis=0, *args, **kwargs):\n",
    "    f_list = []\n",
    "    for i in range(data.shape[axis]):\n",
    "        if mask is None:\n",
    "            f_list.append(func(data[i], *args, **kwargs))\n",
    "        else:\n",
    "            f_list.append(func(data[i], mask=mask[i], *args, **kwargs))\n",
    "    return np.stack(f_list,axis=0)"
   ]
  },
  {
   "cell_type": "code",
   "execution_count": 120,
   "metadata": {},
   "outputs": [],
   "source": [
    "#X_denoised = apply_over_axis(denoising, X)"
   ]
  },
  {
   "cell_type": "code",
   "execution_count": 121,
   "metadata": {
    "scrolled": true
   },
   "outputs": [],
   "source": [
    "#index=8\n",
    "#original_index = y_train_sample.iloc[index].name\n",
    "#cmap=\"inferno\"\n",
    "#fig = plt.figure(figsize=(12,6))\n",
    "#fig.suptitle(\"Denoising: is iceberg: %x\" % (y_train_sample.iloc[index,0]), fontsize=16)\n",
    "#ax1 = fig.add_subplot(251)\n",
    "#ax1.set_title(\"Before\")\n",
    "#ax1.imshow(X_train_sample[index][:,:,0], cmap=cmap)\n",
    "#ax2 = fig.add_subplot(252)\n",
    "#ax2.set_title(\"Denoised\")\n",
    "#ax2.imshow(X_denoised[original_index][:,:,0], cmap=cmap)\n",
    "#ax1 = fig.add_subplot(253)\n",
    "#ax1.set_title(\"Before - band 2\")\n",
    "#ax1.imshow(X_train_sample[index][:,:,1], cmap=cmap)\n",
    "#ax2 = fig.add_subplot(254)\n",
    "#ax2.set_title(\"Denoised - band 2\")\n",
    "#ax2.imshow(X_denoised[original_index][:,:,1], cmap=cmap)\n",
    "#plt.show()"
   ]
  },
  {
   "cell_type": "markdown",
   "metadata": {},
   "source": [
    "### NN denoising"
   ]
  },
  {
   "cell_type": "code",
   "execution_count": 122,
   "metadata": {},
   "outputs": [],
   "source": [
    "#custom generator for denoising\n",
    "from collections import Generator\n",
    "class Datagen_denoising(Generator):\n",
    "    def __init__(self, imagegen=ImageDataGenerator):\n",
    "        self.imagegen = imagegen\n",
    "        \n",
    "    def flow(self, x, y, batch_size=8, shuffle=True):\n",
    "        self.generator = self.imagegen.flow(x, y, batch_size=batch_size, shuffle=shuffle)\n",
    "        return self\n",
    "    \n",
    "    def send(self, ignored):\n",
    "        temp_data = next(self.generator)\n",
    "        temp_stacked1 = np.stack((temp_data[0][:,:,:,0],temp_data[0][:,:,:,1]),axis=3)\n",
    "        temp_stacked = np.stack((temp_data[0][:,:,:,0],temp_data[0][:,:,:,1],temp_data[0][:,:,:,2],\n",
    "                                temp_data[0][:,:,:,3]),axis=3)\n",
    "        return temp_stacked, temp_stacked\n",
    "    \n",
    "    def throw(self, type=None, value=None, traceback=None):\n",
    "        raise StopIteration\n",
    "        \n",
    "datagen_denoising = Datagen_denoising(imagegen=datagen)\n",
    "datagen_denoising_val = Datagen_denoising(imagegen=datagen_val)"
   ]
  },
  {
   "cell_type": "code",
   "execution_count": 123,
   "metadata": {},
   "outputs": [],
   "source": [
    "m_input = Input(shape=(75,75,4), name='m_input')\n",
    "\n",
    "#conv layers for main_input\n",
    "x1 = BatchNormalization()(m_input)\n",
    "x1 = ZeroPadding2D()(x1)\n",
    "x1 = Conv2D(8, (3,3), activation='relu')(x1)\n",
    "x1 = BatchNormalization()(x1)\n",
    "x1 = Dropout(0.2)(x1)\n",
    "x1 = ZeroPadding2D()(x1)\n",
    "x1 = Conv2D(8, (3,3), activation='relu')(x1)\n",
    "x1 = BatchNormalization()(x1)\n",
    "x1 = Dropout(0.2)(x1)\n",
    "x1 = ZeroPadding2D()(x1)\n",
    "m_output = Conv2D(4, (3,3), activation='linear', name='m_output')(x1)\n",
    "model_denoise = Model(inputs=[m_input,], outputs=[m_output], name='Model_nn_denoising')\n",
    "\n",
    "model_denoise.compile(optimizer=Adam(lr=0.1, beta_1=0.9, beta_2=0.999, epsilon=1e-08, decay=0),\n",
    "loss='mean_squared_error',\n",
    "metrics=['mae'])"
   ]
  },
  {
   "cell_type": "code",
   "execution_count": 124,
   "metadata": {
    "scrolled": false
   },
   "outputs": [],
   "source": [
    "#model_denoise.summary()"
   ]
  },
  {
   "cell_type": "code",
   "execution_count": 125,
   "metadata": {
    "scrolled": false
   },
   "outputs": [
    {
     "name": "stdout",
     "output_type": "stream",
     "text": [
      "Epoch 1/10\n",
      "201/200 [==============================] - 4s 20ms/step - loss: 18.7309 - mean_absolute_error: 2.3993 - val_loss: 14.8853 - val_mean_absolute_error: 2.2378\n",
      "Epoch 2/10\n",
      "201/200 [==============================] - 3s 14ms/step - loss: 11.8057 - mean_absolute_error: 1.9209 - val_loss: 12.9550 - val_mean_absolute_error: 2.0300\n",
      "Epoch 3/10\n",
      "201/200 [==============================] - 3s 14ms/step - loss: 12.5690 - mean_absolute_error: 1.9334 - val_loss: 15.2671 - val_mean_absolute_error: 2.3607\n",
      "Epoch 4/10\n",
      "201/200 [==============================] - 3s 14ms/step - loss: 11.9094 - mean_absolute_error: 1.9432 - val_loss: 2.6263 - val_mean_absolute_error: 1.0298\n",
      "Epoch 5/10\n",
      "201/200 [==============================] - 3s 14ms/step - loss: 9.3165 - mean_absolute_error: 1.7406 - val_loss: 12.8510 - val_mean_absolute_error: 1.9412\n",
      "Epoch 6/10\n",
      "201/200 [==============================] - 3s 14ms/step - loss: 9.2218 - mean_absolute_error: 1.7195 - val_loss: 4.2941 - val_mean_absolute_error: 1.2380\n",
      "Epoch 7/10\n",
      "201/200 [==============================] - 3s 14ms/step - loss: 10.2204 - mean_absolute_error: 1.8446 - val_loss: 3.6917 - val_mean_absolute_error: 1.1897\n",
      "Epoch 8/10\n",
      "201/200 [==============================] - 3s 14ms/step - loss: 9.7926 - mean_absolute_error: 1.7805 - val_loss: 2.7170 - val_mean_absolute_error: 1.0157\n",
      "Epoch 9/10\n",
      "201/200 [==============================] - 3s 14ms/step - loss: 8.1561 - mean_absolute_error: 1.6342 - val_loss: 21.5066 - val_mean_absolute_error: 3.0657\n",
      "Epoch 10/10\n",
      "201/200 [==============================] - 3s 14ms/step - loss: 8.7164 - mean_absolute_error: 1.7304 - val_loss: 2.3154 - val_mean_absolute_error: 0.8968\n",
      "Model training time: 0 minutes 30.4 seconds\n"
     ]
    }
   ],
   "source": [
    "#model training\n",
    "start_time = time.monotonic()\n",
    "\n",
    "H = model_denoise.fit_generator(datagen_denoising.flow(X, y_angle, batch_size=8),\n",
    "                    steps_per_epoch=len(X)/8,\n",
    "                    validation_data=datagen_denoising_val.flow(X, y_angle, batch_size=8, shuffle=False), \n",
    "                    validation_steps=len(X)/8,\n",
    "                    #validation_data=[X_val,y_val],\n",
    "                    epochs=10)\n",
    "\n",
    "model_time = time.monotonic() - start_time\n",
    "print(\"Model training time: \" + '{:d}'.format(int(model_time // 60)) + \" minutes \" \n",
    "      + '{:.1f}'.format(model_time % 60) + \" seconds\")"
   ]
  },
  {
   "cell_type": "code",
   "execution_count": 126,
   "metadata": {
    "scrolled": false
   },
   "outputs": [
    {
     "name": "stdout",
     "output_type": "stream",
     "text": [
      "1604/1604 [==============================] - 1s 390us/step\n"
     ]
    }
   ],
   "source": [
    "X_nn_denoised = model_denoise.predict(X, verbose=1)"
   ]
  },
  {
   "cell_type": "code",
   "execution_count": 127,
   "metadata": {},
   "outputs": [
    {
     "data": {
      "image/png": "[encoded data removed]",
      "text/plain": [
       "<matplotlib.figure.Figure at 0x7f663e824dd8>"
      ]
     },
     "metadata": {},
     "output_type": "display_data"
    }
   ],
   "source": [
    "index=8\n",
    "original_index = y_train_sample.iloc[index].name\n",
    "cmap=\"inferno\"\n",
    "fig = plt.figure(figsize=(12,6))\n",
    "fig.suptitle(\"Image denoising nn: %x\" % (train_df.loc[original_index,'is_iceberg']), fontsize=16)\n",
    "ax1 = fig.add_subplot(251)\n",
    "ax1.set_title(\"Before band_1\")\n",
    "ax1.imshow(X_train_sample[index][:,:,0], cmap=cmap)\n",
    "ax2 = fig.add_subplot(252)\n",
    "ax2.set_title(\"NN Denoising band 1\")\n",
    "ax2.imshow(X_nn_denoised[original_index][:,:,0], cmap=cmap)\n",
    "ax3 = fig.add_subplot(253)\n",
    "ax3.set_title(\"Before band 2\")\n",
    "ax3.imshow(X_train_sample[index][:,:,1], cmap=cmap)\n",
    "ax4 = fig.add_subplot(254)\n",
    "ax4.set_title(\"NN Denoising band 2\")\n",
    "ax4.imshow(X_nn_denoised[original_index][:,:,1], cmap=cmap)\n",
    "plt.show()"
   ]
  },
  {
   "cell_type": "markdown",
   "metadata": {},
   "source": [
    "### Filtering regional maxima"
   ]
  },
  {
   "cell_type": "code",
   "execution_count": 128,
   "metadata": {},
   "outputs": [],
   "source": [
    "#def img_filtering(img,mask,h=0.75):\n",
    "#    img_list = []\n",
    "#    for i in range(img.shape[2]):\n",
    "#        image = img[:,:,i]\n",
    "#        mask1 = mask[:,:,i]\n",
    "#        h = (mask1.max() - mask1.min()) * h\n",
    "#        seed = mask1 - h\n",
    "#        dilated = reconstruction(seed, mask1, method='dilation')\n",
    "#        hdome = image * dilated\n",
    "#        img_list.append(hdome)\n",
    "#    return np.stack(img_list,axis=2)\n",
    "#\n",
    "#def img_dilated(mask,h=0.2):\n",
    "#    img_list = []\n",
    "#    for i in range(mask.shape[2]):\n",
    "#        mask1 = mask[:,:,i]\n",
    "#        h = (mask1.max() - mask1.min()) * h\n",
    "#        seed = mask1 - h\n",
    "#        dilated = reconstruction(seed, mask1, method='dilation')\n",
    "#        img_list.append(dilated)\n",
    "#    return np.stack(img_list,axis=2)    "
   ]
  },
  {
   "cell_type": "code",
   "execution_count": 129,
   "metadata": {},
   "outputs": [],
   "source": [
    "#X_filtered = apply_over_axis(img_filtering, X, mask=X_denoised)\n",
    "#X_dilated = apply_over_axis(img_dilated, X_denoised )"
   ]
  },
  {
   "cell_type": "code",
   "execution_count": 130,
   "metadata": {},
   "outputs": [],
   "source": [
    "#base_images = X_train_sample\n",
    "#index=8\n",
    "#original_index = y_train_sample.iloc[index].name\n",
    "#cmap=\"inferno\"\n",
    "#fig = plt.figure(figsize=(14,6))\n",
    "#fig.suptitle(\"Image filtering: %x\" % (train_df.loc[original_index,'is_iceberg']), fontsize=16)\n",
    "#ax1 = fig.add_subplot(251)\n",
    "#ax1.set_title(\"Before\")\n",
    "#ax1.imshow(base_images[index][:,:,0], cmap=cmap)\n",
    "#ax2 = fig.add_subplot(252)\n",
    "#ax2.set_title(\"Filtered\")\n",
    "#ax2.imshow(X_filtered[original_index][:,:,0], cmap=cmap)\n",
    "#ax1 = fig.add_subplot(253)\n",
    "#ax1.set_title(\"Before - band 2\")\n",
    "#ax1.imshow(base_images[index][:,:,0], cmap=cmap)\n",
    "#ax2 = fig.add_subplot(254)\n",
    "#ax2.set_title(\"Filtered - band 2\")\n",
    "#ax2.imshow(X_filtered[original_index][:,:,0], cmap=cmap)\n",
    "#ax4 = fig.add_subplot(255)\n",
    "#ax4.set_title(\"Dilated - band 1\")\n",
    "#ax4.imshow(X_dilated[original_index][:,:,0], cmap=cmap)\n",
    "#plt.show()"
   ]
  },
  {
   "cell_type": "markdown",
   "metadata": {},
   "source": [
    "### Keras model"
   ]
  },
  {
   "cell_type": "code",
   "execution_count": 131,
   "metadata": {},
   "outputs": [],
   "source": [
    "model_code=\"CNN_2017_12_21_v1\"\n",
    "model_comment=\"2 CNN inputs 3,3 conv filters - nn denoising, na=0\""
   ]
  },
  {
   "cell_type": "code",
   "execution_count": 132,
   "metadata": {
    "scrolled": false
   },
   "outputs": [
    {
     "name": "stdout",
     "output_type": "stream",
     "text": [
      "Overwriting current_model.py\n"
     ]
    }
   ],
   "source": [
    "%%writefile current_model.py\n",
    "\n",
    "def InputBlock(x, dropout=0.2, prefix=''):\n",
    "    #conv layers for input\n",
    "    x = BatchNormalization()(x)\n",
    "    x = Conv2D(64, (3,3), activation='relu')(x)\n",
    "    x = MaxPooling2D((2, 2), strides=(2, 2))(x)\n",
    "    x = BatchNormalization()(x)\n",
    "    x = Dropout(dropout)(x) \n",
    "    return(x)\n",
    "\n",
    "main_input = Input(shape=(75,75,2), name='main_input')\n",
    "aux_input = Input(shape=(75,75,3), name='aux_input')\n",
    "#denoise_input = Input(shape=(75,75,4), name='denoise_input')\n",
    "aux_input_nn = Input(shape=(75,75,4), name='aux_input_nn')\n",
    "\n",
    "x1 = InputBlock(main_input, prefix='m_input')\n",
    "x2 = InputBlock(aux_input, prefix='a_input')\n",
    "#x3 = InputBlock(denoise_input, prefix='d_input')\n",
    "x3 = model_denoise(aux_input_nn)\n",
    "x3 = InputBlock(x3,dropout=0.2, prefix='a_input_nn')\n",
    "\n",
    "x = Concatenate(axis=3)([x1,x2,x3])\n",
    "#x = BatchNormalization()(x)\n",
    "#x = Dropout(0.2)(x)\n",
    "\n",
    "#conv-block\n",
    "x = Conv2D(128, (3, 3), activation='relu')(x)\n",
    "x = MaxPooling2D((2, 2), strides=(2, 2))(x)\n",
    "x = BatchNormalization()(x)\n",
    "x = Dropout(0.2)(x)\n",
    "\n",
    "#conv-block\n",
    "x = Conv2D(256, (3, 3), activation='relu')(x)\n",
    "x = MaxPooling2D((2, 2), strides=(2, 2))(x)\n",
    "x = BatchNormalization()(x)\n",
    "x = Dropout(0.2)(x)\n",
    "    \n",
    "#flatten\n",
    "x = Flatten()(x)\n",
    "angle_input = Input(shape=[1], name='angle_input')\n",
    "#x1 = BatchNormalization()(angle_input)\n",
    "merged = Concatenate()([x, angle_input])\n",
    "\n",
    "#dense-block\n",
    "x = Dense(513, activation='relu')(merged)\n",
    "x = BatchNormalization()(x)\n",
    "x = Dropout(0.2)(x)\n",
    "\n",
    "#dense-block\n",
    "x = Dense(256, activation='relu')(x)\n",
    "x = BatchNormalization()(x)\n",
    "x = Dropout(0.2)(x)\n",
    "\n",
    "main_output = Dense(1, activation='sigmoid', name='main_output')(x)\n",
    "model_f = Model(inputs=[main_input,aux_input, \n",
    "                        aux_input_nn,\n",
    "                        #denoise_input,\n",
    "                        angle_input], \n",
    "                        outputs=[main_output])\n",
    "\n",
    "model_f.compile(optimizer=Adam(lr=0.001, beta_1=0.9, beta_2=0.999, epsilon=1e-08, decay=0),\n",
    "loss='binary_crossentropy',\n",
    "metrics=['accuracy'])"
   ]
  },
  {
   "cell_type": "code",
   "execution_count": 133,
   "metadata": {},
   "outputs": [],
   "source": [
    "%run -i current_model.py"
   ]
  },
  {
   "cell_type": "code",
   "execution_count": 143,
   "metadata": {},
   "outputs": [],
   "source": [
    "def step_decay(epoch):\n",
    "    initial_lrate = 0.001\n",
    "    drop = 0.66\n",
    "    patience = 7.0\n",
    "    lrate = initial_lrate * math.pow(drop, math.floor((1+epoch)/patience))\n",
    "    if math.fmod(epoch, patience) == 0:\n",
    "        print(\"Setting learning rate: \",lrate)\n",
    "    return lrate\n",
    "\n",
    "def step_decay2(epoch):\n",
    "    initial_lrate = 0.000001\n",
    "    drop = 0.66\n",
    "    patience = 5.0\n",
    "    lrate = initial_lrate * math.pow(drop, math.floor((1+epoch)/patience))\n",
    "    if math.fmod(epoch, patience) == 0:\n",
    "        print(\"Setting learning rate: \",lrate)\n",
    "    return lrate\n",
    "\n",
    "# learning rate schedule\n",
    "class LScheduler:\n",
    "    def __init__(self, initial_lrate=0.001):\n",
    "        self.initial_lrate=initial_lrate\n",
    "\n",
    "    def step_decay(epoch,logs):\n",
    "        initial_lrate = self.initial_lrate\n",
    "        drop = 0.66\n",
    "        patience = 5.0\n",
    "        lrate = initial_lrate * math.pow(drop, math.floor((1+epoch)/patience))\n",
    "        if math.fmod(epoch, patience) == 0:\n",
    "            print(\"Setting learning rate: \",lrate)\n",
    "        return lrate\n",
    "\n",
    "def get_callbacks(filepath, patience=10, step_decay=step_decay):\n",
    "    #es = EarlyStopping('val_loss', patience=patience, mode=\"min\")\n",
    "    msave = ModelCheckpoint(filepath, save_best_only=True, monitor = 'loss')\n",
    "    #msave = ModelCheckpoint(filepath, save_best_only=True)\n",
    "    #reduceLr = ReduceLROnPlateau(monitor='val_loss', factor=0.5,\n",
    "    #                          patience=5, min_lr=0.000001, verbose=1)\n",
    "    lrScheduler = LearningRateScheduler(step_decay)\n",
    "    return [msave, lrScheduler]"
   ]
  },
  {
   "cell_type": "code",
   "execution_count": 144,
   "metadata": {
    "scrolled": true
   },
   "outputs": [
    {
     "name": "stdout",
     "output_type": "stream",
     "text": [
      "__________________________________________________________________________________________________\n",
      "Layer (type)                    Output Shape         Param #     Connected to                     \n",
      "==================================================================================================\n",
      "aux_input_nn (InputLayer)       (None, 75, 75, 4)    0                                            \n",
      "__________________________________________________________________________________________________\n",
      "main_input (InputLayer)         (None, 75, 75, 2)    0                                            \n",
      "__________________________________________________________________________________________________\n",
      "aux_input (InputLayer)          (None, 75, 75, 3)    0                                            \n",
      "__________________________________________________________________________________________________\n",
      "Model_nn_denoising (Model)      (None, 75, 75, 4)    1252        aux_input_nn[0][0]               \n",
      "__________________________________________________________________________________________________\n",
      "batch_normalization_44 (BatchNo (None, 75, 75, 2)    8           main_input[0][0]                 \n",
      "__________________________________________________________________________________________________\n",
      "batch_normalization_46 (BatchNo (None, 75, 75, 3)    12          aux_input[0][0]                  \n",
      "__________________________________________________________________________________________________\n",
      "batch_normalization_48 (BatchNo (None, 75, 75, 4)    16          Model_nn_denoising[1][0]         \n",
      "__________________________________________________________________________________________________\n",
      "conv2d_23 (Conv2D)              (None, 73, 73, 64)   1216        batch_normalization_44[0][0]     \n",
      "__________________________________________________________________________________________________\n",
      "conv2d_24 (Conv2D)              (None, 73, 73, 64)   1792        batch_normalization_46[0][0]     \n",
      "__________________________________________________________________________________________________\n",
      "conv2d_25 (Conv2D)              (None, 73, 73, 64)   2368        batch_normalization_48[0][0]     \n",
      "__________________________________________________________________________________________________\n",
      "max_pooling2d_21 (MaxPooling2D) (None, 36, 36, 64)   0           conv2d_23[0][0]                  \n",
      "__________________________________________________________________________________________________\n",
      "max_pooling2d_22 (MaxPooling2D) (None, 36, 36, 64)   0           conv2d_24[0][0]                  \n",
      "__________________________________________________________________________________________________\n",
      "max_pooling2d_23 (MaxPooling2D) (None, 36, 36, 64)   0           conv2d_25[0][0]                  \n",
      "__________________________________________________________________________________________________\n",
      "batch_normalization_45 (BatchNo (None, 36, 36, 64)   256         max_pooling2d_21[0][0]           \n",
      "__________________________________________________________________________________________________\n",
      "batch_normalization_47 (BatchNo (None, 36, 36, 64)   256         max_pooling2d_22[0][0]           \n",
      "__________________________________________________________________________________________________\n",
      "batch_normalization_49 (BatchNo (None, 36, 36, 64)   256         max_pooling2d_23[0][0]           \n",
      "__________________________________________________________________________________________________\n",
      "dropout_31 (Dropout)            (None, 36, 36, 64)   0           batch_normalization_45[0][0]     \n",
      "__________________________________________________________________________________________________\n",
      "dropout_32 (Dropout)            (None, 36, 36, 64)   0           batch_normalization_47[0][0]     \n",
      "__________________________________________________________________________________________________\n",
      "dropout_33 (Dropout)            (None, 36, 36, 64)   0           batch_normalization_49[0][0]     \n",
      "__________________________________________________________________________________________________\n",
      "concatenate_9 (Concatenate)     (None, 36, 36, 192)  0           dropout_31[0][0]                 \n",
      "                                                                 dropout_32[0][0]                 \n",
      "                                                                 dropout_33[0][0]                 \n",
      "__________________________________________________________________________________________________\n",
      "conv2d_26 (Conv2D)              (None, 34, 34, 128)  221312      concatenate_9[0][0]              \n",
      "__________________________________________________________________________________________________\n",
      "max_pooling2d_24 (MaxPooling2D) (None, 17, 17, 128)  0           conv2d_26[0][0]                  \n",
      "__________________________________________________________________________________________________\n",
      "batch_normalization_50 (BatchNo (None, 17, 17, 128)  512         max_pooling2d_24[0][0]           \n",
      "__________________________________________________________________________________________________\n",
      "dropout_34 (Dropout)            (None, 17, 17, 128)  0           batch_normalization_50[0][0]     \n",
      "__________________________________________________________________________________________________\n",
      "conv2d_27 (Conv2D)              (None, 15, 15, 256)  295168      dropout_34[0][0]                 \n",
      "__________________________________________________________________________________________________\n",
      "max_pooling2d_25 (MaxPooling2D) (None, 7, 7, 256)    0           conv2d_27[0][0]                  \n",
      "__________________________________________________________________________________________________\n",
      "batch_normalization_51 (BatchNo (None, 7, 7, 256)    1024        max_pooling2d_25[0][0]           \n",
      "__________________________________________________________________________________________________\n",
      "dropout_35 (Dropout)            (None, 7, 7, 256)    0           batch_normalization_51[0][0]     \n",
      "__________________________________________________________________________________________________\n",
      "flatten_5 (Flatten)             (None, 12544)        0           dropout_35[0][0]                 \n",
      "__________________________________________________________________________________________________\n",
      "angle_input (InputLayer)        (None, 1)            0                                            \n",
      "__________________________________________________________________________________________________\n",
      "concatenate_10 (Concatenate)    (None, 12545)        0           flatten_5[0][0]                  \n",
      "                                                                 angle_input[0][0]                \n",
      "__________________________________________________________________________________________________\n",
      "dense_9 (Dense)                 (None, 513)          6436098     concatenate_10[0][0]             \n",
      "__________________________________________________________________________________________________\n",
      "batch_normalization_52 (BatchNo (None, 513)          2052        dense_9[0][0]                    \n",
      "__________________________________________________________________________________________________\n",
      "dropout_36 (Dropout)            (None, 513)          0           batch_normalization_52[0][0]     \n",
      "__________________________________________________________________________________________________\n",
      "dense_10 (Dense)                (None, 256)          131584      dropout_36[0][0]                 \n",
      "__________________________________________________________________________________________________\n",
      "batch_normalization_53 (BatchNo (None, 256)          1024        dense_10[0][0]                   \n",
      "__________________________________________________________________________________________________\n",
      "dropout_37 (Dropout)            (None, 256)          0           batch_normalization_53[0][0]     \n",
      "__________________________________________________________________________________________________\n",
      "main_output (Dense)             (None, 1)            257         dropout_37[0][0]                 \n",
      "==================================================================================================\n",
      "Total params: 7,096,463\n",
      "Trainable params: 7,093,715\n",
      "Non-trainable params: 2,748\n",
      "__________________________________________________________________________________________________\n"
     ]
    }
   ],
   "source": [
    "model_f.summary()"
   ]
  },
  {
   "cell_type": "code",
   "execution_count": 145,
   "metadata": {
    "scrolled": false
   },
   "outputs": [
    {
     "data": {
      "image/svg+xml": [
       "<svg height=\"1797pt\" viewBox=\"0.00 0.00 1067.00 1797.00\" width=\"1067pt\" xmlns=\"http://www.w3.org/2000/svg\" xmlns:xlink=\"http://www.w3.org/1999/xlink\">\n",
       "<g class=\"graph\" id=\"graph0\" transform=\"scale(1 1) rotate(0) translate(4 1793)\">\n",
       "<title>G</title>\n",
       "<polygon fill=\"white\" points=\"-4,4 -4,-1793 1063,-1793 1063,4 -4,4\" stroke=\"none\"/>\n",
       "<!-- 140077126545192 -->\n",
       "<g class=\"node\" id=\"node1\"><title>140077126545192</title>\n",
       "<polygon fill=\"none\" points=\"69.5,-1752.5 69.5,-1788.5 271.5,-1788.5 271.5,-1752.5 69.5,-1752.5\" stroke=\"black\"/>\n",
       "<text font-family=\"Times,serif\" font-size=\"14.00\" text-anchor=\"middle\" x=\"170.5\" y=\"-1766.8\">aux_input_nn: InputLayer</text>\n",
       "</g>\n",
       "<!-- 140077122310608 -->\n",
       "<g class=\"node\" id=\"node4\"><title>140077122310608</title>\n",
       "<polygon fill=\"none\" points=\"61.5,-1679.5 61.5,-1715.5 279.5,-1715.5 279.5,-1679.5 61.5,-1679.5\" stroke=\"black\"/>\n",
       "<text font-family=\"Times,serif\" font-size=\"14.00\" text-anchor=\"middle\" x=\"170.5\" y=\"-1693.8\">Model_nn_denoising: Model</text>\n",
       "</g>\n",
       "<!-- 140077126545192&#45;&gt;140077122310608 -->\n",
       "<g class=\"edge\" id=\"edge1\"><title>140077126545192-&gt;140077122310608</title>\n",
       "<path d=\"M170.5,-1752.31C170.5,-1744.29 170.5,-1734.55 170.5,-1725.57\" fill=\"none\" stroke=\"black\"/>\n",
       "<polygon fill=\"black\" points=\"174,-1725.53 170.5,-1715.53 167,-1725.53 174,-1725.53\" stroke=\"black\"/>\n",
       "</g>\n",
       "<!-- 140077058177960 -->\n",
       "<g class=\"node\" id=\"node2\"><title>140077058177960</title>\n",
       "<polygon fill=\"none\" points=\"436.5,-1679.5 436.5,-1715.5 622.5,-1715.5 622.5,-1679.5 436.5,-1679.5\" stroke=\"black\"/>\n",
       "<text font-family=\"Times,serif\" font-size=\"14.00\" text-anchor=\"middle\" x=\"529.5\" y=\"-1693.8\">main_input: InputLayer</text>\n",
       "</g>\n",
       "<!-- 140077126527128 -->\n",
       "<g class=\"node\" id=\"node5\"><title>140077126527128</title>\n",
       "<polygon fill=\"none\" points=\"359,-1606.5 359,-1642.5 700,-1642.5 700,-1606.5 359,-1606.5\" stroke=\"black\"/>\n",
       "<text font-family=\"Times,serif\" font-size=\"14.00\" text-anchor=\"middle\" x=\"529.5\" y=\"-1620.8\">batch_normalization_44: BatchNormalization</text>\n",
       "</g>\n",
       "<!-- 140077058177960&#45;&gt;140077126527128 -->\n",
       "<g class=\"edge\" id=\"edge2\"><title>140077058177960-&gt;140077126527128</title>\n",
       "<path d=\"M529.5,-1679.31C529.5,-1671.29 529.5,-1661.55 529.5,-1652.57\" fill=\"none\" stroke=\"black\"/>\n",
       "<polygon fill=\"black\" points=\"533,-1652.53 529.5,-1642.53 526,-1652.53 533,-1652.53\" stroke=\"black\"/>\n",
       "</g>\n",
       "<!-- 140077126472536 -->\n",
       "<g class=\"node\" id=\"node3\"><title>140077126472536</title>\n",
       "<polygon fill=\"none\" points=\"800.5,-1679.5 800.5,-1715.5 976.5,-1715.5 976.5,-1679.5 800.5,-1679.5\" stroke=\"black\"/>\n",
       "<text font-family=\"Times,serif\" font-size=\"14.00\" text-anchor=\"middle\" x=\"888.5\" y=\"-1693.8\">aux_input: InputLayer</text>\n",
       "</g>\n",
       "<!-- 140077110957560 -->\n",
       "<g class=\"node\" id=\"node6\"><title>140077110957560</title>\n",
       "<polygon fill=\"none\" points=\"718,-1606.5 718,-1642.5 1059,-1642.5 1059,-1606.5 718,-1606.5\" stroke=\"black\"/>\n",
       "<text font-family=\"Times,serif\" font-size=\"14.00\" text-anchor=\"middle\" x=\"888.5\" y=\"-1620.8\">batch_normalization_46: BatchNormalization</text>\n",
       "</g>\n",
       "<!-- 140077126472536&#45;&gt;140077110957560 -->\n",
       "<g class=\"edge\" id=\"edge3\"><title>140077126472536-&gt;140077110957560</title>\n",
       "<path d=\"M888.5,-1679.31C888.5,-1671.29 888.5,-1661.55 888.5,-1652.57\" fill=\"none\" stroke=\"black\"/>\n",
       "<polygon fill=\"black\" points=\"892,-1652.53 888.5,-1642.53 885,-1652.53 892,-1652.53\" stroke=\"black\"/>\n",
       "</g>\n",
       "<!-- 140077109865160 -->\n",
       "<g class=\"node\" id=\"node7\"><title>140077109865160</title>\n",
       "<polygon fill=\"none\" points=\"0,-1606.5 0,-1642.5 341,-1642.5 341,-1606.5 0,-1606.5\" stroke=\"black\"/>\n",
       "<text font-family=\"Times,serif\" font-size=\"14.00\" text-anchor=\"middle\" x=\"170.5\" y=\"-1620.8\">batch_normalization_48: BatchNormalization</text>\n",
       "</g>\n",
       "<!-- 140077122310608&#45;&gt;140077109865160 -->\n",
       "<g class=\"edge\" id=\"edge4\"><title>140077122310608-&gt;140077109865160</title>\n",
       "<path d=\"M170.5,-1679.31C170.5,-1671.29 170.5,-1661.55 170.5,-1652.57\" fill=\"none\" stroke=\"black\"/>\n",
       "<polygon fill=\"black\" points=\"174,-1652.53 170.5,-1642.53 167,-1652.53 174,-1652.53\" stroke=\"black\"/>\n",
       "</g>\n",
       "<!-- 140077126542952 -->\n",
       "<g class=\"node\" id=\"node8\"><title>140077126542952</title>\n",
       "<polygon fill=\"none\" points=\"449.5,-1533.5 449.5,-1569.5 609.5,-1569.5 609.5,-1533.5 449.5,-1533.5\" stroke=\"black\"/>\n",
       "<text font-family=\"Times,serif\" font-size=\"14.00\" text-anchor=\"middle\" x=\"529.5\" y=\"-1547.8\">conv2d_23: Conv2D</text>\n",
       "</g>\n",
       "<!-- 140077126527128&#45;&gt;140077126542952 -->\n",
       "<g class=\"edge\" id=\"edge5\"><title>140077126527128-&gt;140077126542952</title>\n",
       "<path d=\"M529.5,-1606.31C529.5,-1598.29 529.5,-1588.55 529.5,-1579.57\" fill=\"none\" stroke=\"black\"/>\n",
       "<polygon fill=\"black\" points=\"533,-1579.53 529.5,-1569.53 526,-1579.53 533,-1579.53\" stroke=\"black\"/>\n",
       "</g>\n",
       "<!-- 140077111030560 -->\n",
       "<g class=\"node\" id=\"node9\"><title>140077111030560</title>\n",
       "<polygon fill=\"none\" points=\"808.5,-1533.5 808.5,-1569.5 968.5,-1569.5 968.5,-1533.5 808.5,-1533.5\" stroke=\"black\"/>\n",
       "<text font-family=\"Times,serif\" font-size=\"14.00\" text-anchor=\"middle\" x=\"888.5\" y=\"-1547.8\">conv2d_24: Conv2D</text>\n",
       "</g>\n",
       "<!-- 140077110957560&#45;&gt;140077111030560 -->\n",
       "<g class=\"edge\" id=\"edge6\"><title>140077110957560-&gt;140077111030560</title>\n",
       "<path d=\"M888.5,-1606.31C888.5,-1598.29 888.5,-1588.55 888.5,-1579.57\" fill=\"none\" stroke=\"black\"/>\n",
       "<polygon fill=\"black\" points=\"892,-1579.53 888.5,-1569.53 885,-1579.53 892,-1579.53\" stroke=\"black\"/>\n",
       "</g>\n",
       "<!-- 140077109183824 -->\n",
       "<g class=\"node\" id=\"node10\"><title>140077109183824</title>\n",
       "<polygon fill=\"none\" points=\"90.5,-1533.5 90.5,-1569.5 250.5,-1569.5 250.5,-1533.5 90.5,-1533.5\" stroke=\"black\"/>\n",
       "<text font-family=\"Times,serif\" font-size=\"14.00\" text-anchor=\"middle\" x=\"170.5\" y=\"-1547.8\">conv2d_25: Conv2D</text>\n",
       "</g>\n",
       "<!-- 140077109865160&#45;&gt;140077109183824 -->\n",
       "<g class=\"edge\" id=\"edge7\"><title>140077109865160-&gt;140077109183824</title>\n",
       "<path d=\"M170.5,-1606.31C170.5,-1598.29 170.5,-1588.55 170.5,-1579.57\" fill=\"none\" stroke=\"black\"/>\n",
       "<polygon fill=\"black\" points=\"174,-1579.53 170.5,-1569.53 167,-1579.53 174,-1579.53\" stroke=\"black\"/>\n",
       "</g>\n",
       "<!-- 140077110509520 -->\n",
       "<g class=\"node\" id=\"node11\"><title>140077110509520</title>\n",
       "<polygon fill=\"none\" points=\"398,-1460.5 398,-1496.5 661,-1496.5 661,-1460.5 398,-1460.5\" stroke=\"black\"/>\n",
       "<text font-family=\"Times,serif\" font-size=\"14.00\" text-anchor=\"middle\" x=\"529.5\" y=\"-1474.8\">max_pooling2d_21: MaxPooling2D</text>\n",
       "</g>\n",
       "<!-- 140077126542952&#45;&gt;140077110509520 -->\n",
       "<g class=\"edge\" id=\"edge8\"><title>140077126542952-&gt;140077110509520</title>\n",
       "<path d=\"M529.5,-1533.31C529.5,-1525.29 529.5,-1515.55 529.5,-1506.57\" fill=\"none\" stroke=\"black\"/>\n",
       "<polygon fill=\"black\" points=\"533,-1506.53 529.5,-1496.53 526,-1506.53 533,-1506.53\" stroke=\"black\"/>\n",
       "</g>\n",
       "<!-- 140077110699960 -->\n",
       "<g class=\"node\" id=\"node12\"><title>140077110699960</title>\n",
       "<polygon fill=\"none\" points=\"757,-1460.5 757,-1496.5 1020,-1496.5 1020,-1460.5 757,-1460.5\" stroke=\"black\"/>\n",
       "<text font-family=\"Times,serif\" font-size=\"14.00\" text-anchor=\"middle\" x=\"888.5\" y=\"-1474.8\">max_pooling2d_22: MaxPooling2D</text>\n",
       "</g>\n",
       "<!-- 140077111030560&#45;&gt;140077110699960 -->\n",
       "<g class=\"edge\" id=\"edge9\"><title>140077111030560-&gt;140077110699960</title>\n",
       "<path d=\"M888.5,-1533.31C888.5,-1525.29 888.5,-1515.55 888.5,-1506.57\" fill=\"none\" stroke=\"black\"/>\n",
       "<polygon fill=\"black\" points=\"892,-1506.53 888.5,-1496.53 885,-1506.53 892,-1506.53\" stroke=\"black\"/>\n",
       "</g>\n",
       "<!-- 140077107776088 -->\n",
       "<g class=\"node\" id=\"node13\"><title>140077107776088</title>\n",
       "<polygon fill=\"none\" points=\"39,-1460.5 39,-1496.5 302,-1496.5 302,-1460.5 39,-1460.5\" stroke=\"black\"/>\n",
       "<text font-family=\"Times,serif\" font-size=\"14.00\" text-anchor=\"middle\" x=\"170.5\" y=\"-1474.8\">max_pooling2d_23: MaxPooling2D</text>\n",
       "</g>\n",
       "<!-- 140077109183824&#45;&gt;140077107776088 -->\n",
       "<g class=\"edge\" id=\"edge10\"><title>140077109183824-&gt;140077107776088</title>\n",
       "<path d=\"M170.5,-1533.31C170.5,-1525.29 170.5,-1515.55 170.5,-1506.57\" fill=\"none\" stroke=\"black\"/>\n",
       "<polygon fill=\"black\" points=\"174,-1506.53 170.5,-1496.53 167,-1506.53 174,-1506.53\" stroke=\"black\"/>\n",
       "</g>\n",
       "<!-- 140077111398976 -->\n",
       "<g class=\"node\" id=\"node14\"><title>140077111398976</title>\n",
       "<polygon fill=\"none\" points=\"359,-1387.5 359,-1423.5 700,-1423.5 700,-1387.5 359,-1387.5\" stroke=\"black\"/>\n",
       "<text font-family=\"Times,serif\" font-size=\"14.00\" text-anchor=\"middle\" x=\"529.5\" y=\"-1401.8\">batch_normalization_45: BatchNormalization</text>\n",
       "</g>\n",
       "<!-- 140077110509520&#45;&gt;140077111398976 -->\n",
       "<g class=\"edge\" id=\"edge11\"><title>140077110509520-&gt;140077111398976</title>\n",
       "<path d=\"M529.5,-1460.31C529.5,-1452.29 529.5,-1442.55 529.5,-1433.57\" fill=\"none\" stroke=\"black\"/>\n",
       "<polygon fill=\"black\" points=\"533,-1433.53 529.5,-1423.53 526,-1433.53 533,-1433.53\" stroke=\"black\"/>\n",
       "</g>\n",
       "<!-- 140077109789360 -->\n",
       "<g class=\"node\" id=\"node15\"><title>140077109789360</title>\n",
       "<polygon fill=\"none\" points=\"718,-1387.5 718,-1423.5 1059,-1423.5 1059,-1387.5 718,-1387.5\" stroke=\"black\"/>\n",
       "<text font-family=\"Times,serif\" font-size=\"14.00\" text-anchor=\"middle\" x=\"888.5\" y=\"-1401.8\">batch_normalization_47: BatchNormalization</text>\n",
       "</g>\n",
       "<!-- 140077110699960&#45;&gt;140077109789360 -->\n",
       "<g class=\"edge\" id=\"edge12\"><title>140077110699960-&gt;140077109789360</title>\n",
       "<path d=\"M888.5,-1460.31C888.5,-1452.29 888.5,-1442.55 888.5,-1433.57\" fill=\"none\" stroke=\"black\"/>\n",
       "<polygon fill=\"black\" points=\"892,-1433.53 888.5,-1423.53 885,-1433.53 892,-1433.53\" stroke=\"black\"/>\n",
       "</g>\n",
       "<!-- 140077112432232 -->\n",
       "<g class=\"node\" id=\"node16\"><title>140077112432232</title>\n",
       "<polygon fill=\"none\" points=\"0,-1387.5 0,-1423.5 341,-1423.5 341,-1387.5 0,-1387.5\" stroke=\"black\"/>\n",
       "<text font-family=\"Times,serif\" font-size=\"14.00\" text-anchor=\"middle\" x=\"170.5\" y=\"-1401.8\">batch_normalization_49: BatchNormalization</text>\n",
       "</g>\n",
       "<!-- 140077107776088&#45;&gt;140077112432232 -->\n",
       "<g class=\"edge\" id=\"edge13\"><title>140077107776088-&gt;140077112432232</title>\n",
       "<path d=\"M170.5,-1460.31C170.5,-1452.29 170.5,-1442.55 170.5,-1433.57\" fill=\"none\" stroke=\"black\"/>\n",
       "<polygon fill=\"black\" points=\"174,-1433.53 170.5,-1423.53 167,-1433.53 174,-1433.53\" stroke=\"black\"/>\n",
       "</g>\n",
       "<!-- 140077111402056 -->\n",
       "<g class=\"node\" id=\"node17\"><title>140077111402056</title>\n",
       "<polygon fill=\"none\" points=\"446.5,-1314.5 446.5,-1350.5 612.5,-1350.5 612.5,-1314.5 446.5,-1314.5\" stroke=\"black\"/>\n",
       "<text font-family=\"Times,serif\" font-size=\"14.00\" text-anchor=\"middle\" x=\"529.5\" y=\"-1328.8\">dropout_31: Dropout</text>\n",
       "</g>\n",
       "<!-- 140077111398976&#45;&gt;140077111402056 -->\n",
       "<g class=\"edge\" id=\"edge14\"><title>140077111398976-&gt;140077111402056</title>\n",
       "<path d=\"M529.5,-1387.31C529.5,-1379.29 529.5,-1369.55 529.5,-1360.57\" fill=\"none\" stroke=\"black\"/>\n",
       "<polygon fill=\"black\" points=\"533,-1360.53 529.5,-1350.53 526,-1360.53 533,-1360.53\" stroke=\"black\"/>\n",
       "</g>\n",
       "<!-- 140077109791656 -->\n",
       "<g class=\"node\" id=\"node18\"><title>140077109791656</title>\n",
       "<polygon fill=\"none\" points=\"717.5,-1314.5 717.5,-1350.5 883.5,-1350.5 883.5,-1314.5 717.5,-1314.5\" stroke=\"black\"/>\n",
       "<text font-family=\"Times,serif\" font-size=\"14.00\" text-anchor=\"middle\" x=\"800.5\" y=\"-1328.8\">dropout_32: Dropout</text>\n",
       "</g>\n",
       "<!-- 140077109789360&#45;&gt;140077109791656 -->\n",
       "<g class=\"edge\" id=\"edge15\"><title>140077109789360-&gt;140077109791656</title>\n",
       "<path d=\"M867.198,-1387.31C855.848,-1378.16 841.724,-1366.76 829.399,-1356.82\" fill=\"none\" stroke=\"black\"/>\n",
       "<polygon fill=\"black\" points=\"831.587,-1354.08 821.606,-1350.53 827.191,-1359.53 831.587,-1354.08\" stroke=\"black\"/>\n",
       "</g>\n",
       "<!-- 140077112433912 -->\n",
       "<g class=\"node\" id=\"node19\"><title>140077112433912</title>\n",
       "<polygon fill=\"none\" points=\"175.5,-1314.5 175.5,-1350.5 341.5,-1350.5 341.5,-1314.5 175.5,-1314.5\" stroke=\"black\"/>\n",
       "<text font-family=\"Times,serif\" font-size=\"14.00\" text-anchor=\"middle\" x=\"258.5\" y=\"-1328.8\">dropout_33: Dropout</text>\n",
       "</g>\n",
       "<!-- 140077112432232&#45;&gt;140077112433912 -->\n",
       "<g class=\"edge\" id=\"edge16\"><title>140077112432232-&gt;140077112433912</title>\n",
       "<path d=\"M191.802,-1387.31C203.152,-1378.16 217.276,-1366.76 229.601,-1356.82\" fill=\"none\" stroke=\"black\"/>\n",
       "<polygon fill=\"black\" points=\"231.809,-1359.53 237.394,-1350.53 227.413,-1354.08 231.809,-1359.53\" stroke=\"black\"/>\n",
       "</g>\n",
       "<!-- 140077112459728 -->\n",
       "<g class=\"node\" id=\"node20\"><title>140077112459728</title>\n",
       "<polygon fill=\"none\" points=\"419,-1241.5 419,-1277.5 640,-1277.5 640,-1241.5 419,-1241.5\" stroke=\"black\"/>\n",
       "<text font-family=\"Times,serif\" font-size=\"14.00\" text-anchor=\"middle\" x=\"529.5\" y=\"-1255.8\">concatenate_9: Concatenate</text>\n",
       "</g>\n",
       "<!-- 140077111402056&#45;&gt;140077112459728 -->\n",
       "<g class=\"edge\" id=\"edge17\"><title>140077111402056-&gt;140077112459728</title>\n",
       "<path d=\"M529.5,-1314.31C529.5,-1306.29 529.5,-1296.55 529.5,-1287.57\" fill=\"none\" stroke=\"black\"/>\n",
       "<polygon fill=\"black\" points=\"533,-1287.53 529.5,-1277.53 526,-1287.53 533,-1287.53\" stroke=\"black\"/>\n",
       "</g>\n",
       "<!-- 140077109791656&#45;&gt;140077112459728 -->\n",
       "<g class=\"edge\" id=\"edge18\"><title>140077109791656-&gt;140077112459728</title>\n",
       "<path d=\"M735.589,-1314.49C696.158,-1304.16 645.663,-1290.93 604.524,-1280.16\" fill=\"none\" stroke=\"black\"/>\n",
       "<polygon fill=\"black\" points=\"605.381,-1276.76 594.821,-1277.61 603.607,-1283.53 605.381,-1276.76\" stroke=\"black\"/>\n",
       "</g>\n",
       "<!-- 140077112433912&#45;&gt;140077112459728 -->\n",
       "<g class=\"edge\" id=\"edge19\"><title>140077112433912-&gt;140077112459728</title>\n",
       "<path d=\"M323.411,-1314.49C362.842,-1304.16 413.337,-1290.93 454.476,-1280.16\" fill=\"none\" stroke=\"black\"/>\n",
       "<polygon fill=\"black\" points=\"455.393,-1283.53 464.179,-1277.61 453.619,-1276.76 455.393,-1283.53\" stroke=\"black\"/>\n",
       "</g>\n",
       "<!-- 140077112461128 -->\n",
       "<g class=\"node\" id=\"node21\"><title>140077112461128</title>\n",
       "<polygon fill=\"none\" points=\"449.5,-1168.5 449.5,-1204.5 609.5,-1204.5 609.5,-1168.5 449.5,-1168.5\" stroke=\"black\"/>\n",
       "<text font-family=\"Times,serif\" font-size=\"14.00\" text-anchor=\"middle\" x=\"529.5\" y=\"-1182.8\">conv2d_26: Conv2D</text>\n",
       "</g>\n",
       "<!-- 140077112459728&#45;&gt;140077112461128 -->\n",
       "<g class=\"edge\" id=\"edge20\"><title>140077112459728-&gt;140077112461128</title>\n",
       "<path d=\"M529.5,-1241.31C529.5,-1233.29 529.5,-1223.55 529.5,-1214.57\" fill=\"none\" stroke=\"black\"/>\n",
       "<polygon fill=\"black\" points=\"533,-1214.53 529.5,-1204.53 526,-1214.53 533,-1214.53\" stroke=\"black\"/>\n",
       "</g>\n",
       "<!-- 140077111966520 -->\n",
       "<g class=\"node\" id=\"node22\"><title>140077111966520</title>\n",
       "<polygon fill=\"none\" points=\"398,-1095.5 398,-1131.5 661,-1131.5 661,-1095.5 398,-1095.5\" stroke=\"black\"/>\n",
       "<text font-family=\"Times,serif\" font-size=\"14.00\" text-anchor=\"middle\" x=\"529.5\" y=\"-1109.8\">max_pooling2d_24: MaxPooling2D</text>\n",
       "</g>\n",
       "<!-- 140077112461128&#45;&gt;140077111966520 -->\n",
       "<g class=\"edge\" id=\"edge21\"><title>140077112461128-&gt;140077111966520</title>\n",
       "<path d=\"M529.5,-1168.31C529.5,-1160.29 529.5,-1150.55 529.5,-1141.57\" fill=\"none\" stroke=\"black\"/>\n",
       "<polygon fill=\"black\" points=\"533,-1141.53 529.5,-1131.53 526,-1141.53 533,-1141.53\" stroke=\"black\"/>\n",
       "</g>\n",
       "<!-- 140077112699256 -->\n",
       "<g class=\"node\" id=\"node23\"><title>140077112699256</title>\n",
       "<polygon fill=\"none\" points=\"359,-1022.5 359,-1058.5 700,-1058.5 700,-1022.5 359,-1022.5\" stroke=\"black\"/>\n",
       "<text font-family=\"Times,serif\" font-size=\"14.00\" text-anchor=\"middle\" x=\"529.5\" y=\"-1036.8\">batch_normalization_50: BatchNormalization</text>\n",
       "</g>\n",
       "<!-- 140077111966520&#45;&gt;140077112699256 -->\n",
       "<g class=\"edge\" id=\"edge22\"><title>140077111966520-&gt;140077112699256</title>\n",
       "<path d=\"M529.5,-1095.31C529.5,-1087.29 529.5,-1077.55 529.5,-1068.57\" fill=\"none\" stroke=\"black\"/>\n",
       "<polygon fill=\"black\" points=\"533,-1068.53 529.5,-1058.53 526,-1068.53 533,-1068.53\" stroke=\"black\"/>\n",
       "</g>\n",
       "<!-- 140077112697128 -->\n",
       "<g class=\"node\" id=\"node24\"><title>140077112697128</title>\n",
       "<polygon fill=\"none\" points=\"446.5,-949.5 446.5,-985.5 612.5,-985.5 612.5,-949.5 446.5,-949.5\" stroke=\"black\"/>\n",
       "<text font-family=\"Times,serif\" font-size=\"14.00\" text-anchor=\"middle\" x=\"529.5\" y=\"-963.8\">dropout_34: Dropout</text>\n",
       "</g>\n",
       "<!-- 140077112699256&#45;&gt;140077112697128 -->\n",
       "<g class=\"edge\" id=\"edge23\"><title>140077112699256-&gt;140077112697128</title>\n",
       "<path d=\"M529.5,-1022.31C529.5,-1014.29 529.5,-1004.55 529.5,-995.569\" fill=\"none\" stroke=\"black\"/>\n",
       "<polygon fill=\"black\" points=\"533,-995.529 529.5,-985.529 526,-995.529 533,-995.529\" stroke=\"black\"/>\n",
       "</g>\n",
       "<!-- 140077112636248 -->\n",
       "<g class=\"node\" id=\"node25\"><title>140077112636248</title>\n",
       "<polygon fill=\"none\" points=\"449.5,-876.5 449.5,-912.5 609.5,-912.5 609.5,-876.5 449.5,-876.5\" stroke=\"black\"/>\n",
       "<text font-family=\"Times,serif\" font-size=\"14.00\" text-anchor=\"middle\" x=\"529.5\" y=\"-890.8\">conv2d_27: Conv2D</text>\n",
       "</g>\n",
       "<!-- 140077112697128&#45;&gt;140077112636248 -->\n",
       "<g class=\"edge\" id=\"edge24\"><title>140077112697128-&gt;140077112636248</title>\n",
       "<path d=\"M529.5,-949.313C529.5,-941.289 529.5,-931.547 529.5,-922.569\" fill=\"none\" stroke=\"black\"/>\n",
       "<polygon fill=\"black\" points=\"533,-922.529 529.5,-912.529 526,-922.529 533,-922.529\" stroke=\"black\"/>\n",
       "</g>\n",
       "<!-- 140077112521112 -->\n",
       "<g class=\"node\" id=\"node26\"><title>140077112521112</title>\n",
       "<polygon fill=\"none\" points=\"398,-803.5 398,-839.5 661,-839.5 661,-803.5 398,-803.5\" stroke=\"black\"/>\n",
       "<text font-family=\"Times,serif\" font-size=\"14.00\" text-anchor=\"middle\" x=\"529.5\" y=\"-817.8\">max_pooling2d_25: MaxPooling2D</text>\n",
       "</g>\n",
       "<!-- 140077112636248&#45;&gt;140077112521112 -->\n",
       "<g class=\"edge\" id=\"edge25\"><title>140077112636248-&gt;140077112521112</title>\n",
       "<path d=\"M529.5,-876.313C529.5,-868.289 529.5,-858.547 529.5,-849.569\" fill=\"none\" stroke=\"black\"/>\n",
       "<polygon fill=\"black\" points=\"533,-849.529 529.5,-839.529 526,-849.529 533,-849.529\" stroke=\"black\"/>\n",
       "</g>\n",
       "<!-- 140077112907984 -->\n",
       "<g class=\"node\" id=\"node27\"><title>140077112907984</title>\n",
       "<polygon fill=\"none\" points=\"359,-730.5 359,-766.5 700,-766.5 700,-730.5 359,-730.5\" stroke=\"black\"/>\n",
       "<text font-family=\"Times,serif\" font-size=\"14.00\" text-anchor=\"middle\" x=\"529.5\" y=\"-744.8\">batch_normalization_51: BatchNormalization</text>\n",
       "</g>\n",
       "<!-- 140077112521112&#45;&gt;140077112907984 -->\n",
       "<g class=\"edge\" id=\"edge26\"><title>140077112521112-&gt;140077112907984</title>\n",
       "<path d=\"M529.5,-803.313C529.5,-795.289 529.5,-785.547 529.5,-776.569\" fill=\"none\" stroke=\"black\"/>\n",
       "<polygon fill=\"black\" points=\"533,-776.529 529.5,-766.529 526,-776.529 533,-776.529\" stroke=\"black\"/>\n",
       "</g>\n",
       "<!-- 140077115182384 -->\n",
       "<g class=\"node\" id=\"node28\"><title>140077115182384</title>\n",
       "<polygon fill=\"none\" points=\"446.5,-657.5 446.5,-693.5 612.5,-693.5 612.5,-657.5 446.5,-657.5\" stroke=\"black\"/>\n",
       "<text font-family=\"Times,serif\" font-size=\"14.00\" text-anchor=\"middle\" x=\"529.5\" y=\"-671.8\">dropout_35: Dropout</text>\n",
       "</g>\n",
       "<!-- 140077112907984&#45;&gt;140077115182384 -->\n",
       "<g class=\"edge\" id=\"edge27\"><title>140077112907984-&gt;140077115182384</title>\n",
       "<path d=\"M529.5,-730.313C529.5,-722.289 529.5,-712.547 529.5,-703.569\" fill=\"none\" stroke=\"black\"/>\n",
       "<polygon fill=\"black\" points=\"533,-703.529 529.5,-693.529 526,-703.529 533,-703.529\" stroke=\"black\"/>\n",
       "</g>\n",
       "<!-- 140077112874320 -->\n",
       "<g class=\"node\" id=\"node29\"><title>140077112874320</title>\n",
       "<polygon fill=\"none\" points=\"459.5,-584.5 459.5,-620.5 599.5,-620.5 599.5,-584.5 459.5,-584.5\" stroke=\"black\"/>\n",
       "<text font-family=\"Times,serif\" font-size=\"14.00\" text-anchor=\"middle\" x=\"529.5\" y=\"-598.8\">flatten_5: Flatten</text>\n",
       "</g>\n",
       "<!-- 140077115182384&#45;&gt;140077112874320 -->\n",
       "<g class=\"edge\" id=\"edge28\"><title>140077115182384-&gt;140077112874320</title>\n",
       "<path d=\"M529.5,-657.313C529.5,-649.289 529.5,-639.547 529.5,-630.569\" fill=\"none\" stroke=\"black\"/>\n",
       "<polygon fill=\"black\" points=\"533,-630.529 529.5,-620.529 526,-630.529 533,-630.529\" stroke=\"black\"/>\n",
       "</g>\n",
       "<!-- 140077112788248 -->\n",
       "<g class=\"node\" id=\"node31\"><title>140077112788248</title>\n",
       "<polygon fill=\"none\" points=\"505.5,-511.5 505.5,-547.5 735.5,-547.5 735.5,-511.5 505.5,-511.5\" stroke=\"black\"/>\n",
       "<text font-family=\"Times,serif\" font-size=\"14.00\" text-anchor=\"middle\" x=\"620.5\" y=\"-525.8\">concatenate_10: Concatenate</text>\n",
       "</g>\n",
       "<!-- 140077112874320&#45;&gt;140077112788248 -->\n",
       "<g class=\"edge\" id=\"edge29\"><title>140077112874320-&gt;140077112788248</title>\n",
       "<path d=\"M551.529,-584.313C563.265,-575.156 577.871,-563.76 590.616,-553.816\" fill=\"none\" stroke=\"black\"/>\n",
       "<polygon fill=\"black\" points=\"592.943,-556.44 598.674,-547.529 588.637,-550.921 592.943,-556.44\" stroke=\"black\"/>\n",
       "</g>\n",
       "<!-- 140077112844920 -->\n",
       "<g class=\"node\" id=\"node30\"><title>140077112844920</title>\n",
       "<polygon fill=\"none\" points=\"617.5,-584.5 617.5,-620.5 807.5,-620.5 807.5,-584.5 617.5,-584.5\" stroke=\"black\"/>\n",
       "<text font-family=\"Times,serif\" font-size=\"14.00\" text-anchor=\"middle\" x=\"712.5\" y=\"-598.8\">angle_input: InputLayer</text>\n",
       "</g>\n",
       "<!-- 140077112844920&#45;&gt;140077112788248 -->\n",
       "<g class=\"edge\" id=\"edge30\"><title>140077112844920-&gt;140077112788248</title>\n",
       "<path d=\"M690.229,-584.313C678.364,-575.156 663.597,-563.76 650.712,-553.816\" fill=\"none\" stroke=\"black\"/>\n",
       "<polygon fill=\"black\" points=\"652.621,-550.868 642.566,-547.529 648.344,-556.409 652.621,-550.868\" stroke=\"black\"/>\n",
       "</g>\n",
       "<!-- 140077113125352 -->\n",
       "<g class=\"node\" id=\"node32\"><title>140077113125352</title>\n",
       "<polygon fill=\"none\" points=\"556.5,-438.5 556.5,-474.5 684.5,-474.5 684.5,-438.5 556.5,-438.5\" stroke=\"black\"/>\n",
       "<text font-family=\"Times,serif\" font-size=\"14.00\" text-anchor=\"middle\" x=\"620.5\" y=\"-452.8\">dense_9: Dense</text>\n",
       "</g>\n",
       "<!-- 140077112788248&#45;&gt;140077113125352 -->\n",
       "<g class=\"edge\" id=\"edge31\"><title>140077112788248-&gt;140077113125352</title>\n",
       "<path d=\"M620.5,-511.313C620.5,-503.289 620.5,-493.547 620.5,-484.569\" fill=\"none\" stroke=\"black\"/>\n",
       "<polygon fill=\"black\" points=\"624,-484.529 620.5,-474.529 617,-484.529 624,-484.529\" stroke=\"black\"/>\n",
       "</g>\n",
       "<!-- 140077124430648 -->\n",
       "<g class=\"node\" id=\"node33\"><title>140077124430648</title>\n",
       "<polygon fill=\"none\" points=\"450,-365.5 450,-401.5 791,-401.5 791,-365.5 450,-365.5\" stroke=\"black\"/>\n",
       "<text font-family=\"Times,serif\" font-size=\"14.00\" text-anchor=\"middle\" x=\"620.5\" y=\"-379.8\">batch_normalization_52: BatchNormalization</text>\n",
       "</g>\n",
       "<!-- 140077113125352&#45;&gt;140077124430648 -->\n",
       "<g class=\"edge\" id=\"edge32\"><title>140077113125352-&gt;140077124430648</title>\n",
       "<path d=\"M620.5,-438.313C620.5,-430.289 620.5,-420.547 620.5,-411.569\" fill=\"none\" stroke=\"black\"/>\n",
       "<polygon fill=\"black\" points=\"624,-411.529 620.5,-401.529 617,-411.529 624,-411.529\" stroke=\"black\"/>\n",
       "</g>\n",
       "<!-- 140077124428856 -->\n",
       "<g class=\"node\" id=\"node34\"><title>140077124428856</title>\n",
       "<polygon fill=\"none\" points=\"537.5,-292.5 537.5,-328.5 703.5,-328.5 703.5,-292.5 537.5,-292.5\" stroke=\"black\"/>\n",
       "<text font-family=\"Times,serif\" font-size=\"14.00\" text-anchor=\"middle\" x=\"620.5\" y=\"-306.8\">dropout_36: Dropout</text>\n",
       "</g>\n",
       "<!-- 140077124430648&#45;&gt;140077124428856 -->\n",
       "<g class=\"edge\" id=\"edge33\"><title>140077124430648-&gt;140077124428856</title>\n",
       "<path d=\"M620.5,-365.313C620.5,-357.289 620.5,-347.547 620.5,-338.569\" fill=\"none\" stroke=\"black\"/>\n",
       "<polygon fill=\"black\" points=\"624,-338.529 620.5,-328.529 617,-338.529 624,-338.529\" stroke=\"black\"/>\n",
       "</g>\n",
       "<!-- 140077124265688 -->\n",
       "<g class=\"node\" id=\"node35\"><title>140077124265688</title>\n",
       "<polygon fill=\"none\" points=\"552,-219.5 552,-255.5 689,-255.5 689,-219.5 552,-219.5\" stroke=\"black\"/>\n",
       "<text font-family=\"Times,serif\" font-size=\"14.00\" text-anchor=\"middle\" x=\"620.5\" y=\"-233.8\">dense_10: Dense</text>\n",
       "</g>\n",
       "<!-- 140077124428856&#45;&gt;140077124265688 -->\n",
       "<g class=\"edge\" id=\"edge34\"><title>140077124428856-&gt;140077124265688</title>\n",
       "<path d=\"M620.5,-292.313C620.5,-284.289 620.5,-274.547 620.5,-265.569\" fill=\"none\" stroke=\"black\"/>\n",
       "<polygon fill=\"black\" points=\"624,-265.529 620.5,-255.529 617,-265.529 624,-265.529\" stroke=\"black\"/>\n",
       "</g>\n",
       "<!-- 140077124468352 -->\n",
       "<g class=\"node\" id=\"node36\"><title>140077124468352</title>\n",
       "<polygon fill=\"none\" points=\"450,-146.5 450,-182.5 791,-182.5 791,-146.5 450,-146.5\" stroke=\"black\"/>\n",
       "<text font-family=\"Times,serif\" font-size=\"14.00\" text-anchor=\"middle\" x=\"620.5\" y=\"-160.8\">batch_normalization_53: BatchNormalization</text>\n",
       "</g>\n",
       "<!-- 140077124265688&#45;&gt;140077124468352 -->\n",
       "<g class=\"edge\" id=\"edge35\"><title>140077124265688-&gt;140077124468352</title>\n",
       "<path d=\"M620.5,-219.313C620.5,-211.289 620.5,-201.547 620.5,-192.569\" fill=\"none\" stroke=\"black\"/>\n",
       "<polygon fill=\"black\" points=\"624,-192.529 620.5,-182.529 617,-192.529 624,-192.529\" stroke=\"black\"/>\n",
       "</g>\n",
       "<!-- 140077123538560 -->\n",
       "<g class=\"node\" id=\"node37\"><title>140077123538560</title>\n",
       "<polygon fill=\"none\" points=\"537.5,-73.5 537.5,-109.5 703.5,-109.5 703.5,-73.5 537.5,-73.5\" stroke=\"black\"/>\n",
       "<text font-family=\"Times,serif\" font-size=\"14.00\" text-anchor=\"middle\" x=\"620.5\" y=\"-87.8\">dropout_37: Dropout</text>\n",
       "</g>\n",
       "<!-- 140077124468352&#45;&gt;140077123538560 -->\n",
       "<g class=\"edge\" id=\"edge36\"><title>140077124468352-&gt;140077123538560</title>\n",
       "<path d=\"M620.5,-146.313C620.5,-138.289 620.5,-128.547 620.5,-119.569\" fill=\"none\" stroke=\"black\"/>\n",
       "<polygon fill=\"black\" points=\"624,-119.529 620.5,-109.529 617,-119.529 624,-119.529\" stroke=\"black\"/>\n",
       "</g>\n",
       "<!-- 140077124206544 -->\n",
       "<g class=\"node\" id=\"node38\"><title>140077124206544</title>\n",
       "<polygon fill=\"none\" points=\"540.5,-0.5 540.5,-36.5 700.5,-36.5 700.5,-0.5 540.5,-0.5\" stroke=\"black\"/>\n",
       "<text font-family=\"Times,serif\" font-size=\"14.00\" text-anchor=\"middle\" x=\"620.5\" y=\"-14.8\">main_output: Dense</text>\n",
       "</g>\n",
       "<!-- 140077123538560&#45;&gt;140077124206544 -->\n",
       "<g class=\"edge\" id=\"edge37\"><title>140077123538560-&gt;140077124206544</title>\n",
       "<path d=\"M620.5,-73.3129C620.5,-65.2895 620.5,-55.5475 620.5,-46.5691\" fill=\"none\" stroke=\"black\"/>\n",
       "<polygon fill=\"black\" points=\"624,-46.5288 620.5,-36.5288 617,-46.5289 624,-46.5288\" stroke=\"black\"/>\n",
       "</g>\n",
       "</g>\n",
       "</svg>"
      ],
      "text/plain": [
       "<IPython.core.display.SVG object>"
      ]
     },
     "execution_count": 145,
     "metadata": {},
     "output_type": "execute_result"
    }
   ],
   "source": [
    "from IPython.display import SVG\n",
    "from keras.utils.vis_utils import model_to_dot\n",
    "#import os\n",
    "#os.environ[\"PATH\"] += os.pathsep + 'd:/Anaconda3/Library/bin/graphviz/'\n",
    "SVG(model_to_dot(model_f).create(prog='dot', format='svg'))"
   ]
  },
  {
   "cell_type": "markdown",
   "metadata": {},
   "source": [
    "### Model Training"
   ]
  },
  {
   "cell_type": "code",
   "execution_count": 146,
   "metadata": {},
   "outputs": [],
   "source": [
    "#name init\n",
    "model_timestamp = str(datetime.datetime.now().strftime(\"%Y_%m_%d_%H_%M_%S\"))\n",
    "model_best_weights_path = model_path + \"weights.\" + model_code + \"_\" + model_timestamp + \".hdf5\"\n",
    "callbacks = get_callbacks(filepath=model_best_weights_path, patience=10, step_decay=step_decay)"
   ]
  },
  {
   "cell_type": "code",
   "execution_count": 150,
   "metadata": {
    "scrolled": false
   },
   "outputs": [
    {
     "name": "stdout",
     "output_type": "stream",
     "text": [
      "Setting learning rate:  1e-06\n",
      "Epoch 1/56\n",
      "26/25 [===============================] - 3s 103ms/step - loss: 0.2151 - acc: 0.9098\n",
      "Epoch 2/56\n",
      "26/25 [===============================] - 2s 90ms/step - loss: 0.2231 - acc: 0.9149\n",
      "Epoch 3/56\n",
      "26/25 [===============================] - 2s 88ms/step - loss: 0.1972 - acc: 0.9080\n",
      "Epoch 4/56\n",
      "26/25 [===============================] - 2s 90ms/step - loss: 0.2143 - acc: 0.9032\n",
      "Epoch 5/56\n",
      "26/25 [===============================] - 2s 88ms/step - loss: 0.2391 - acc: 0.8981\n",
      "Setting learning rate:  6.6e-07\n",
      "Epoch 6/56\n",
      "26/25 [===============================] - 3s 101ms/step - loss: 0.1701 - acc: 0.9302\n",
      "Epoch 7/56\n",
      "26/25 [===============================] - 3s 104ms/step - loss: 0.1717 - acc: 0.9263\n",
      "Epoch 8/56\n",
      "26/25 [===============================] - 2s 89ms/step - loss: 0.1772 - acc: 0.9332\n",
      "Epoch 9/56\n",
      "26/25 [===============================] - 2s 93ms/step - loss: 0.1649 - acc: 0.9362\n",
      "Epoch 10/56\n",
      "26/25 [===============================] - 2s 89ms/step - loss: 0.1688 - acc: 0.9374\n",
      "Setting learning rate:  4.356e-07\n",
      "Epoch 11/56\n",
      "26/25 [===============================] - 2s 88ms/step - loss: 0.2433 - acc: 0.9092\n",
      "Epoch 12/56\n",
      "26/25 [===============================] - 2s 89ms/step - loss: 0.2482 - acc: 0.9032\n",
      "Epoch 13/56\n",
      "26/25 [===============================] - 2s 91ms/step - loss: 0.1793 - acc: 0.9284\n",
      "Epoch 14/56\n",
      "26/25 [===============================] - 2s 88ms/step - loss: 0.1926 - acc: 0.9185\n",
      "Epoch 15/56\n",
      "26/25 [===============================] - 2s 92ms/step - loss: 0.1863 - acc: 0.9275\n",
      "Setting learning rate:  2.87496e-07\n",
      "Epoch 16/56\n",
      "26/25 [===============================] - 2s 90ms/step - loss: 0.1637 - acc: 0.9356\n",
      "Epoch 17/56\n",
      "26/25 [===============================] - 2s 87ms/step - loss: 0.1733 - acc: 0.9272\n",
      "Epoch 18/56\n",
      "26/25 [===============================] - 2s 92ms/step - loss: 0.2242 - acc: 0.9245\n",
      "Epoch 19/56\n",
      "26/25 [===============================] - 2s 90ms/step - loss: 0.1951 - acc: 0.9221\n",
      "Epoch 20/56\n",
      "26/25 [===============================] - 2s 90ms/step - loss: 0.1946 - acc: 0.9203\n",
      "Setting learning rate:  1.8974736000000002e-07\n",
      "Epoch 21/56\n",
      "26/25 [===============================] - 2s 90ms/step - loss: 0.1804 - acc: 0.9260\n",
      "Epoch 22/56\n",
      "26/25 [===============================] - 2s 93ms/step - loss: 0.1802 - acc: 0.9272\n",
      "Epoch 23/56\n",
      "26/25 [===============================] - 2s 85ms/step - loss: 0.1869 - acc: 0.9296\n",
      "Epoch 24/56\n",
      "26/25 [===============================] - 2s 87ms/step - loss: 0.1870 - acc: 0.9164\n",
      "Epoch 25/56\n",
      "26/25 [===============================] - 2s 86ms/step - loss: 0.1699 - acc: 0.9380\n",
      "Setting learning rate:  1.2523325760000002e-07\n",
      "Epoch 26/56\n",
      "26/25 [===============================] - 2s 87ms/step - loss: 0.1738 - acc: 0.9350\n",
      "Epoch 27/56\n",
      "26/25 [===============================] - 2s 90ms/step - loss: 0.1829 - acc: 0.9242\n",
      "Epoch 28/56\n",
      "26/25 [===============================] - 2s 91ms/step - loss: 0.2139 - acc: 0.9038\n",
      "Epoch 29/56\n",
      "26/25 [===============================] - 2s 86ms/step - loss: 0.1968 - acc: 0.9233\n",
      "Epoch 30/56\n",
      "26/25 [===============================] - 2s 88ms/step - loss: 0.2054 - acc: 0.9191\n",
      "Setting learning rate:  8.265395001600003e-08\n",
      "Epoch 31/56\n",
      "26/25 [===============================] - 2s 87ms/step - loss: 0.1808 - acc: 0.9200\n",
      "Epoch 32/56\n",
      "26/25 [===============================] - 2s 92ms/step - loss: 0.1804 - acc: 0.9323\n",
      "Epoch 33/56\n",
      "26/25 [===============================] - 2s 91ms/step - loss: 0.2097 - acc: 0.9122\n",
      "Epoch 34/56\n",
      "26/25 [===============================] - 2s 86ms/step - loss: 0.2051 - acc: 0.9212\n",
      "Epoch 35/56\n",
      "26/25 [===============================] - 2s 87ms/step - loss: 0.1639 - acc: 0.9350\n",
      "Setting learning rate:  5.455160701056002e-08\n",
      "Epoch 36/56\n",
      "26/25 [===============================] - 2s 89ms/step - loss: 0.2146 - acc: 0.9044\n",
      "Epoch 37/56\n",
      "26/25 [===============================] - 2s 91ms/step - loss: 0.1880 - acc: 0.9221\n",
      "Epoch 38/56\n",
      "26/25 [===============================] - 2s 87ms/step - loss: 0.1664 - acc: 0.9374\n",
      "Epoch 39/56\n",
      "26/25 [===============================] - 2s 85ms/step - loss: 0.1852 - acc: 0.9242\n",
      "Epoch 40/56\n",
      "26/25 [===============================] - 2s 85ms/step - loss: 0.1816 - acc: 0.9296\n",
      "Setting learning rate:  3.6004060626969614e-08\n",
      "Epoch 41/56\n",
      "26/25 [===============================] - 2s 86ms/step - loss: 0.2559 - acc: 0.9188\n",
      "Epoch 42/56\n",
      "26/25 [===============================] - 2s 88ms/step - loss: 0.2278 - acc: 0.9191\n",
      "Epoch 43/56\n",
      "26/25 [===============================] - 2s 90ms/step - loss: 0.1717 - acc: 0.9386\n",
      "Epoch 44/56\n",
      "26/25 [===============================] - 2s 86ms/step - loss: 0.2334 - acc: 0.9110\n",
      "Epoch 45/56\n",
      "26/25 [===============================] - 2s 89ms/step - loss: 0.1844 - acc: 0.9185\n",
      "Setting learning rate:  2.3762680013799943e-08\n",
      "Epoch 46/56\n",
      "26/25 [===============================] - 2s 92ms/step - loss: 0.2032 - acc: 0.9251\n",
      "Epoch 47/56\n",
      "26/25 [===============================] - 2s 88ms/step - loss: 0.1799 - acc: 0.9299\n",
      "Epoch 48/56\n",
      "26/25 [===============================] - 2s 86ms/step - loss: 0.1920 - acc: 0.9278\n",
      "Epoch 49/56\n",
      "26/25 [===============================] - 2s 89ms/step - loss: 0.2411 - acc: 0.9164\n",
      "Epoch 50/56\n",
      "26/25 [===============================] - 2s 90ms/step - loss: 0.2129 - acc: 0.9155\n",
      "Setting learning rate:  1.5683368809107964e-08\n",
      "Epoch 51/56\n",
      "26/25 [===============================] - 2s 90ms/step - loss: 0.2313 - acc: 0.8957\n",
      "Epoch 52/56\n",
      "26/25 [===============================] - 2s 86ms/step - loss: 0.2144 - acc: 0.9227\n",
      "Epoch 53/56\n",
      "26/25 [===============================] - 2s 93ms/step - loss: 0.1708 - acc: 0.9314\n",
      "Epoch 54/56\n",
      "26/25 [===============================] - 2s 86ms/step - loss: 0.1885 - acc: 0.9290\n",
      "Epoch 55/56\n",
      "26/25 [===============================] - 2s 92ms/step - loss: 0.2034 - acc: 0.9116\n",
      "Setting learning rate:  1.0351023414011255e-08\n",
      "Epoch 56/56\n",
      "26/25 [===============================] - 2s 92ms/step - loss: 0.1732 - acc: 0.9284\n",
      "Model training time: 2 minutes 10.7 seconds\n"
     ]
    }
   ],
   "source": [
    "#model training\n",
    "start_time = time.monotonic()\n",
    "\n",
    "H = model_f.fit_generator(datagen_angle.flow(X, y_angle, batch_size=64),\n",
    "                    steps_per_epoch=len(X)/64,\n",
    "                    #validation_data=datagen_angle_val.flow(X, y_angle, batch_size=64, shuffle=False), \n",
    "                    #validation_steps=len(X)/32,\n",
    "                    #validation_data=[X_val,y_val],\n",
    "                    epochs=56, callbacks=callbacks)\n",
    "\n",
    "model_time = time.monotonic() - start_time\n",
    "print(\"Model training time: \" + '{:d}'.format(int(model_time // 60)) + \" minutes \" \n",
    "      + '{:.1f}'.format(model_time % 60) + \" seconds\")"
   ]
  },
  {
   "cell_type": "code",
   "execution_count": 151,
   "metadata": {
    "scrolled": true
   },
   "outputs": [
    {
     "ename": "KeyError",
     "evalue": "'val_loss'",
     "output_type": "error",
     "traceback": [
      "\u001b[0;31m---------------------------------------------------------------------------\u001b[0m",
      "\u001b[0;31mKeyError\u001b[0m                                  Traceback (most recent call last)",
      "\u001b[0;32m/iceberg/Statoil-C-CORE-Iceberg-Classifier-Challenge/current_model.py\u001b[0m in \u001b[0;36m<module>\u001b[0;34m()\u001b[0m\n\u001b[1;32m      1\u001b[0m \u001b[0mplt\u001b[0m\u001b[0;34m.\u001b[0m\u001b[0mplot\u001b[0m\u001b[0;34m(\u001b[0m\u001b[0mH\u001b[0m\u001b[0;34m.\u001b[0m\u001b[0mhistory\u001b[0m\u001b[0;34m[\u001b[0m\u001b[0;34m'loss'\u001b[0m\u001b[0;34m]\u001b[0m\u001b[0;34m,\u001b[0m \u001b[0mcolor\u001b[0m\u001b[0;34m=\u001b[0m\u001b[0;34m\"b\"\u001b[0m\u001b[0;34m,\u001b[0m \u001b[0mlabel\u001b[0m\u001b[0;34m=\u001b[0m\u001b[0;34m'Training loss'\u001b[0m\u001b[0;34m)\u001b[0m\u001b[0;34m\u001b[0m\u001b[0m\n\u001b[0;32m----> 2\u001b[0;31m \u001b[0mplt\u001b[0m\u001b[0;34m.\u001b[0m\u001b[0mplot\u001b[0m\u001b[0;34m(\u001b[0m\u001b[0mH\u001b[0m\u001b[0;34m.\u001b[0m\u001b[0mhistory\u001b[0m\u001b[0;34m[\u001b[0m\u001b[0;34m'val_loss'\u001b[0m\u001b[0;34m]\u001b[0m\u001b[0;34m,\u001b[0m \u001b[0mcolor\u001b[0m\u001b[0;34m=\u001b[0m\u001b[0;34m\"r\"\u001b[0m\u001b[0;34m,\u001b[0m \u001b[0mlabel\u001b[0m\u001b[0;34m=\u001b[0m\u001b[0;34m'Validation loss'\u001b[0m\u001b[0;34m)\u001b[0m\u001b[0;34m\u001b[0m\u001b[0m\n\u001b[0m\u001b[1;32m      3\u001b[0m \u001b[0mplt\u001b[0m\u001b[0;34m.\u001b[0m\u001b[0mlegend\u001b[0m\u001b[0;34m(\u001b[0m\u001b[0;34m)\u001b[0m\u001b[0;34m\u001b[0m\u001b[0m\n\u001b[1;32m      4\u001b[0m \u001b[0mplt\u001b[0m\u001b[0;34m.\u001b[0m\u001b[0mxlabel\u001b[0m\u001b[0;34m(\u001b[0m\u001b[0;34m'# epochs'\u001b[0m\u001b[0;34m)\u001b[0m\u001b[0;34m\u001b[0m\u001b[0m\n\u001b[1;32m      5\u001b[0m \u001b[0mplt\u001b[0m\u001b[0;34m.\u001b[0m\u001b[0mshow\u001b[0m\u001b[0;34m(\u001b[0m\u001b[0;34m)\u001b[0m\u001b[0;34m\u001b[0m\u001b[0m\n",
      "\u001b[0;31mKeyError\u001b[0m: 'val_loss'"
     ]
    },
    {
     "data": {
      "image/png": "[encoded data removed]",
      "text/plain": [
       "<matplotlib.figure.Figure at 0x7f64f8d74908>"
      ]
     },
     "metadata": {},
     "output_type": "display_data"
    }
   ],
   "source": [
    "plt.plot(H.history['loss'], color=\"b\", label='Training loss')\n",
    "plt.plot(H.history['val_loss'], color=\"r\", label='Validation loss')\n",
    "plt.legend()\n",
    "plt.xlabel('# epochs')\n",
    "plt.show()"
   ]
  },
  {
   "cell_type": "code",
   "execution_count": 149,
   "metadata": {
    "scrolled": true
   },
   "outputs": [
    {
     "name": "stdout",
     "output_type": "stream",
     "text": [
      "Setting learning rate:  1e-06\n",
      "Epoch 1/14\n",
      "67/66 [==============================] - 3s 45ms/step - loss: 0.2365 - acc: 0.9045\n",
      "Epoch 2/14\n",
      "67/66 [==============================] - 2s 37ms/step - loss: 0.2414 - acc: 0.8996\n",
      "Epoch 3/14\n",
      "67/66 [==============================] - 3s 38ms/step - loss: 0.2426 - acc: 0.8889\n",
      "Epoch 4/14\n",
      "67/66 [==============================] - 3s 43ms/step - loss: 0.2192 - acc: 0.9175\n",
      "Epoch 5/14\n",
      "67/66 [==============================] - 2s 36ms/step - loss: 0.2368 - acc: 0.8990\n",
      "Setting learning rate:  6.6e-07\n",
      "Epoch 6/14\n",
      "67/66 [==============================] - 3s 44ms/step - loss: 0.2171 - acc: 0.9108\n",
      "Epoch 7/14\n",
      "67/66 [==============================] - 2s 37ms/step - loss: 0.2348 - acc: 0.9072\n",
      "Epoch 8/14\n",
      "67/66 [==============================] - 2s 37ms/step - loss: 0.2438 - acc: 0.9016\n",
      "Epoch 9/14\n",
      "67/66 [==============================] - 3s 44ms/step - loss: 0.2133 - acc: 0.9203\n",
      "Epoch 10/14\n",
      "67/66 [==============================] - 2s 37ms/step - loss: 0.2334 - acc: 0.9070\n",
      "Setting learning rate:  4.356e-07\n",
      "Epoch 11/14\n",
      "67/66 [==============================] - 3s 38ms/step - loss: 0.2260 - acc: 0.8988\n",
      "Epoch 12/14\n",
      "67/66 [==============================] - 3s 39ms/step - loss: 0.2284 - acc: 0.9040\n",
      "Epoch 13/14\n",
      "67/66 [==============================] - 3s 39ms/step - loss: 0.2274 - acc: 0.9096\n",
      "Epoch 14/14\n",
      "67/66 [==============================] - 2s 37ms/step - loss: 0.2271 - acc: 0.9022\n",
      "Model training time: 0 minutes 36.9 seconds\n"
     ]
    }
   ],
   "source": [
    "#addtional training epochs\n",
    "callbacks = get_callbacks(filepath=model_best_weights_path, patience=10, step_decay=step_decay2)\n",
    "start_time = time.monotonic()\n",
    "\n",
    "H2 = model_f.fit_generator(datagen_angle.flow(X, y_angle, batch_size=24),\n",
    "                    steps_per_epoch=len(X)/24,\n",
    "                    #validation_data=datagen_angle_val.flow(X, y_angle, batch_size=32, shuffle=False), \n",
    "                    #validation_steps=len(X)/12,\n",
    "                    #validation_data=[X_val,y_val],\n",
    "                    epochs=14, callbacks=callbacks)\n",
    "\n",
    "model_time = time.monotonic() - start_time\n",
    "print(\"Model training time: \" + '{:d}'.format(int(model_time // 60)) + \" minutes \" \n",
    "      + '{:.1f}'.format(model_time % 60) + \" seconds\")"
   ]
  },
  {
   "cell_type": "code",
   "execution_count": null,
   "metadata": {},
   "outputs": [],
   "source": [
    "for key in H.history:\n",
    "    H.history[key].extend(H2.history[key])"
   ]
  },
  {
   "cell_type": "code",
   "execution_count": null,
   "metadata": {
    "scrolled": false
   },
   "outputs": [],
   "source": [
    "plt.plot(H2.history['loss'], color=\"b\", label='Training loss')\n",
    "plt.plot(H2.history['val_loss'], color=\"r\", label='Validation loss')\n",
    "plt.legend()\n",
    "plt.xlabel('# epochs')\n",
    "plt.show()"
   ]
  },
  {
   "cell_type": "code",
   "execution_count": null,
   "metadata": {},
   "outputs": [],
   "source": [
    "plt.plot(H.history['loss'], color=\"b\", label='Training loss')\n",
    "plt.plot(H.history['val_loss'], color=\"r\", label='Validation loss')\n",
    "plt.legend()\n",
    "plt.xlabel('# epochs')\n",
    "plt.show()"
   ]
  },
  {
   "cell_type": "code",
   "execution_count": null,
   "metadata": {
    "scrolled": false
   },
   "outputs": [],
   "source": [
    "model_object_path = model_path + \"model.\" + model_code + \"_\" + model_timestamp + '.hdf5'\n",
    "model_f.save(model_object_path)\n",
    "#model_f = load_model(model_object_path)"
   ]
  },
  {
   "cell_type": "markdown",
   "metadata": {},
   "source": [
    "### Saving model history"
   ]
  },
  {
   "cell_type": "code",
   "execution_count": null,
   "metadata": {},
   "outputs": [],
   "source": []
  },
  {
   "cell_type": "code",
   "execution_count": null,
   "metadata": {
    "scrolled": true
   },
   "outputs": [],
   "source": [
    "argmin = np.array(H.history[\"val_loss\"]).argmin()\n",
    "argmax_acc = np.array(H.history[\"val_acc\"]).argmax()\n",
    "with open('current_model.py','r') as model_python_code_file:\n",
    "    models_history = pd.DataFrame({\"timestamp\":[model_timestamp], \n",
    "                                    \"val_loss [min]\":[H.history['val_loss'][argmin]],\n",
    "                                    \"epoch [val_loss [min]]\":argmin,\n",
    "                                    \"training_loss [val_loss [min]]\":[H.history['loss'][argmin]],\n",
    "                                    \"val_acc [val_loss [min]]\":[H.history['val_acc'][argmin]],\n",
    "                                    \"training_acc [val_loss [min]]\":[H.history['acc'][argmin]],\n",
    "                                    \n",
    "                                    \"val_acc [max]\":[H.history['val_acc'][argmax_acc]],\n",
    "                                    \"epoch [val_acc [max]]\":argmax_acc,\n",
    "                                    \"training_loss [val_acc [max]]\":[H.history['loss'][argmax_acc]],\n",
    "                                    \"val_loss [val_acc [max]]\":[H.history['val_loss'][argmax_acc]],\n",
    "                                    \"training_acc [val_acc [max]]\":[H.history['acc'][argmax_acc]],\n",
    "                                    \n",
    "                                    \"model_path\":[model_object_path],\n",
    "                                    \"model_weights_path\":[model_best_weights_path],\n",
    "                                    \"model_python_code\":[model_python_code_file.read().replace('\\r\\n','\\n')],\n",
    "                                    \"model_comment\":[model_comment]\n",
    "                                })\n",
    "                               \n",
    "models_history = models_history[[\"timestamp\", \n",
    "                                 \"epoch [val_loss [min]]\", \"val_loss [min]\", \"training_loss [val_loss [min]]\",\n",
    "                                 \"val_acc [val_loss [min]]\", \"training_acc [val_loss [min]]\",\n",
    "                                 \"epoch [val_acc [max]]\", \"val_acc [max]\", \"training_loss [val_acc [max]]\",\n",
    "                                 \"val_loss [val_acc [max]]\", \"training_acc [val_acc [max]]\",\n",
    "                                 \"model_path\",\"model_weights_path\",\"model_python_code\",\"model_comment\"]]\n",
    "models_history.head()"
   ]
  },
  {
   "cell_type": "code",
   "execution_count": null,
   "metadata": {},
   "outputs": [],
   "source": [
    "print(\"Min validation loss epoch:\")\n",
    "print(\"epoch: %d\" %(argmin),\n",
    "      \"; val loss [min] %.4f: \" % (models_history[\"val_loss [min]\"][0]), \n",
    "      \"; training loss: %.4f\" % (models_history[\"training_loss [val_loss [min]]\"][0]),\n",
    "      \"; val acc: %.4f\" % (models_history[\"val_acc [val_loss [min]]\"][0]),\n",
    "      \"; training acc: %.4f \" % (models_history[\"training_acc [val_loss [min]]\"][0])\n",
    "     )\n",
    "print(\"Max validation accuracy epoch:\")\n",
    "print(\"epoch: %d\" %(argmax_acc),\n",
    "      \"; val loss %.4f: \" % (models_history[\"val_loss [val_acc [max]]\"][0]), \n",
    "      \"; training loss: %.4f\" % (models_history[\"training_loss [val_acc [max]]\"][0]),\n",
    "      \"; val acc [max]: %.4f\" % (models_history[\"val_acc [max]\"][0]),\n",
    "      \"; training acc: %.4f \" % (models_history[\"training_acc [val_acc [max]]\"][0]),\n",
    "     )\n",
    "print(\"model comment:\", model_comment)\n"
   ]
  },
  {
   "cell_type": "code",
   "execution_count": null,
   "metadata": {},
   "outputs": [],
   "source": [
    "with open('models_history.csv', 'a') as f:\n",
    "    models_history.to_csv(f, header=False,index=False)\n",
    "    #models_history.to_csv(f, index=False)"
   ]
  },
  {
   "cell_type": "code",
   "execution_count": null,
   "metadata": {
    "scrolled": false
   },
   "outputs": [],
   "source": [
    "df = pd.read_csv('models_history.csv')\n",
    "df.tail()"
   ]
  },
  {
   "cell_type": "markdown",
   "metadata": {},
   "source": [
    "### Predictions"
   ]
  },
  {
   "cell_type": "code",
   "execution_count": 152,
   "metadata": {
    "scrolled": true
   },
   "outputs": [],
   "source": [
    "model_f.load_weights(model_best_weights_path)"
   ]
  },
  {
   "cell_type": "code",
   "execution_count": 155,
   "metadata": {},
   "outputs": [],
   "source": [
    "test_df = pd.read_json(\"Data/test/test.json\")"
   ]
  },
  {
   "cell_type": "code",
   "execution_count": 156,
   "metadata": {},
   "outputs": [
    {
     "data": {
      "text/html": [
       "<div>\n",
       "<style scoped>\n",
       "    .dataframe tbody tr th:only-of-type {\n",
       "        vertical-align: middle;\n",
       "    }\n",
       "\n",
       "    .dataframe tbody tr th {\n",
       "        vertical-align: top;\n",
       "    }\n",
       "\n",
       "    .dataframe thead th {\n",
       "        text-align: right;\n",
       "    }\n",
       "</style>\n",
       "<table border=\"1\" class=\"dataframe\">\n",
       "  <thead>\n",
       "    <tr style=\"text-align: right;\">\n",
       "      <th></th>\n",
       "      <th>band_1</th>\n",
       "      <th>band_2</th>\n",
       "      <th>id</th>\n",
       "      <th>inc_angle</th>\n",
       "    </tr>\n",
       "  </thead>\n",
       "  <tbody>\n",
       "    <tr>\n",
       "      <th>0</th>\n",
       "      <td>[-15.863251, -15.201077, -17.887735, -19.17248...</td>\n",
       "      <td>[-21.629612, -21.142353, -23.908337, -28.34524...</td>\n",
       "      <td>5941774d</td>\n",
       "      <td>34.966400</td>\n",
       "    </tr>\n",
       "    <tr>\n",
       "      <th>1</th>\n",
       "      <td>[-26.058969497680664, -26.058969497680664, -26...</td>\n",
       "      <td>[-25.754207611083984, -25.754207611083984, -25...</td>\n",
       "      <td>4023181e</td>\n",
       "      <td>32.615072</td>\n",
       "    </tr>\n",
       "    <tr>\n",
       "      <th>2</th>\n",
       "      <td>[-14.14109992980957, -15.064241409301758, -17....</td>\n",
       "      <td>[-14.74563980102539, -14.590410232543945, -14....</td>\n",
       "      <td>b20200e4</td>\n",
       "      <td>37.505433</td>\n",
       "    </tr>\n",
       "    <tr>\n",
       "      <th>3</th>\n",
       "      <td>[-12.167478, -13.706167, -16.54837, -13.572674...</td>\n",
       "      <td>[-24.32222, -26.375538, -24.096739, -23.8769, ...</td>\n",
       "      <td>e7f018bb</td>\n",
       "      <td>34.473900</td>\n",
       "    </tr>\n",
       "    <tr>\n",
       "      <th>4</th>\n",
       "      <td>[-23.37459373474121, -26.02718162536621, -28.1...</td>\n",
       "      <td>[-25.72234344482422, -27.011577606201172, -23....</td>\n",
       "      <td>4371c8c3</td>\n",
       "      <td>43.918874</td>\n",
       "    </tr>\n",
       "  </tbody>\n",
       "</table>\n",
       "</div>"
      ],
      "text/plain": [
       "                                              band_1  \\\n",
       "0  [-15.863251, -15.201077, -17.887735, -19.17248...   \n",
       "1  [-26.058969497680664, -26.058969497680664, -26...   \n",
       "2  [-14.14109992980957, -15.064241409301758, -17....   \n",
       "3  [-12.167478, -13.706167, -16.54837, -13.572674...   \n",
       "4  [-23.37459373474121, -26.02718162536621, -28.1...   \n",
       "\n",
       "                                              band_2        id  inc_angle  \n",
       "0  [-21.629612, -21.142353, -23.908337, -28.34524...  5941774d  34.966400  \n",
       "1  [-25.754207611083984, -25.754207611083984, -25...  4023181e  32.615072  \n",
       "2  [-14.74563980102539, -14.590410232543945, -14....  b20200e4  37.505433  \n",
       "3  [-24.32222, -26.375538, -24.096739, -23.8769, ...  e7f018bb  34.473900  \n",
       "4  [-25.72234344482422, -27.011577606201172, -23....  4371c8c3  43.918874  "
      ]
     },
     "execution_count": 156,
     "metadata": {},
     "output_type": "execute_result"
    }
   ],
   "source": [
    "test_df.head()"
   ]
  },
  {
   "cell_type": "code",
   "execution_count": 157,
   "metadata": {},
   "outputs": [
    {
     "name": "stdout",
     "output_type": "stream",
     "text": [
      "missing values in inc_angle:  0\n"
     ]
    }
   ],
   "source": [
    "test_df['inc_angle_f'] = pd.to_numeric(test_df['inc_angle'], errors='coerce')\n",
    "\n",
    "print(\"missing values in inc_angle: \", test_df['inc_angle_f'].isnull().sum())\n",
    "\n",
    "test_df['inc_angle_f'].replace(np.nan,0, inplace=True)"
   ]
  },
  {
   "cell_type": "code",
   "execution_count": 158,
   "metadata": {},
   "outputs": [
    {
     "name": "stderr",
     "output_type": "stream",
     "text": [
      "current_model.py:3: FutureWarning: \n",
      "Passing list-likes to .loc or [] with any missing label will raise\n",
      "KeyError in the future, you can use .reindex() as an alternative.\n",
      "\n",
      "See the documentation here:\n",
      "http://pandas.pydata.org/pandas-docs/stable/indexing.html#deprecate-loc-reindex-listlike\n",
      "  #conv layers for input\n",
      "/usr/local/lib/python3.5/dist-packages/pandas/core/indexing.py:1367: FutureWarning: \n",
      "Passing list-likes to .loc or [] with any missing label will raise\n",
      "KeyError in the future, you can use .reindex() as an alternative.\n",
      "\n",
      "See the documentation here:\n",
      "http://pandas.pydata.org/pandas-docs/stable/indexing.html#deprecate-loc-reindex-listlike\n",
      "  return self._getitem_tuple(key)\n"
     ]
    }
   ],
   "source": [
    "t_band_1, t_band_2, t_band_1_t, t_band_2_t, t_band_3, X_test = get_bands(test_df)\n",
    "\n",
    "y_angle_test = test_df.loc[:,['is_iceberg','inc_angle_f']]\n",
    "\n",
    "y_angle_test['index'] = y_angle_test.index"
   ]
  },
  {
   "cell_type": "code",
   "execution_count": 159,
   "metadata": {},
   "outputs": [
    {
     "name": "stdout",
     "output_type": "stream",
     "text": [
      "272/271 [==============================] - 3s 12ms/step\n"
     ]
    }
   ],
   "source": [
    "predictions = model_f.predict_generator(datagen_angle_val.flow(X_test, y_angle_test, batch_size=32, shuffle=False),\n",
    "\n",
    "                          steps = len(X_test)/31, verbose=1)"
   ]
  },
  {
   "cell_type": "code",
   "execution_count": 160,
   "metadata": {},
   "outputs": [
    {
     "data": {
      "text/html": [
       "<div>\n",
       "<style scoped>\n",
       "    .dataframe tbody tr th:only-of-type {\n",
       "        vertical-align: middle;\n",
       "    }\n",
       "\n",
       "    .dataframe tbody tr th {\n",
       "        vertical-align: top;\n",
       "    }\n",
       "\n",
       "    .dataframe thead th {\n",
       "        text-align: right;\n",
       "    }\n",
       "</style>\n",
       "<table border=\"1\" class=\"dataframe\">\n",
       "  <thead>\n",
       "    <tr style=\"text-align: right;\">\n",
       "      <th></th>\n",
       "      <th>id</th>\n",
       "      <th>is_iceberg</th>\n",
       "    </tr>\n",
       "  </thead>\n",
       "  <tbody>\n",
       "    <tr>\n",
       "      <th>0</th>\n",
       "      <td>5941774d</td>\n",
       "      <td>0.005288</td>\n",
       "    </tr>\n",
       "    <tr>\n",
       "      <th>1</th>\n",
       "      <td>4023181e</td>\n",
       "      <td>0.979689</td>\n",
       "    </tr>\n",
       "    <tr>\n",
       "      <th>2</th>\n",
       "      <td>b20200e4</td>\n",
       "      <td>0.000310</td>\n",
       "    </tr>\n",
       "    <tr>\n",
       "      <th>3</th>\n",
       "      <td>e7f018bb</td>\n",
       "      <td>0.998251</td>\n",
       "    </tr>\n",
       "    <tr>\n",
       "      <th>4</th>\n",
       "      <td>4371c8c3</td>\n",
       "      <td>0.933461</td>\n",
       "    </tr>\n",
       "    <tr>\n",
       "      <th>5</th>\n",
       "      <td>a8d9b1fd</td>\n",
       "      <td>0.059069</td>\n",
       "    </tr>\n",
       "    <tr>\n",
       "      <th>6</th>\n",
       "      <td>29e7727e</td>\n",
       "      <td>0.264501</td>\n",
       "    </tr>\n",
       "    <tr>\n",
       "      <th>7</th>\n",
       "      <td>92a51ffb</td>\n",
       "      <td>0.998842</td>\n",
       "    </tr>\n",
       "    <tr>\n",
       "      <th>8</th>\n",
       "      <td>c769ac97</td>\n",
       "      <td>0.005914</td>\n",
       "    </tr>\n",
       "    <tr>\n",
       "      <th>9</th>\n",
       "      <td>aee0547d</td>\n",
       "      <td>0.001500</td>\n",
       "    </tr>\n",
       "  </tbody>\n",
       "</table>\n",
       "</div>"
      ],
      "text/plain": [
       "         id  is_iceberg\n",
       "0  5941774d    0.005288\n",
       "1  4023181e    0.979689\n",
       "2  b20200e4    0.000310\n",
       "3  e7f018bb    0.998251\n",
       "4  4371c8c3    0.933461\n",
       "5  a8d9b1fd    0.059069\n",
       "6  29e7727e    0.264501\n",
       "7  92a51ffb    0.998842\n",
       "8  c769ac97    0.005914\n",
       "9  aee0547d    0.001500"
      ]
     },
     "execution_count": 160,
     "metadata": {},
     "output_type": "execute_result"
    }
   ],
   "source": [
    "submission = pd.DataFrame({'id': test_df['id'], 'is_iceberg': predictions[:8424].reshape(-1)})\n",
    "\n",
    "submission.head(10)"
   ]
  },
  {
   "cell_type": "code",
   "execution_count": 161,
   "metadata": {},
   "outputs": [],
   "source": [
    "submission.to_csv(\"submission_candidate_2.csv\", index=False)"
   ]
  },
  {
   "cell_type": "code",
   "execution_count": null,
   "metadata": {},
   "outputs": [],
   "source": []
  }
 ],
 "metadata": {
  "anaconda-cloud": {},
  "kernelspec": {
   "display_name": "Python 3",
   "language": "python",
   "name": "python3"
  },
  "language_info": {
   "codemirror_mode": {
    "name": "ipython",
    "version": 3
   },
   "file_extension": ".py",
   "mimetype": "text/x-python",
   "name": "python",
   "nbconvert_exporter": "python",
   "pygments_lexer": "ipython3",
   "version": "3.5.2"
  }
 },
 "nbformat": 4,
 "nbformat_minor": 1
}
