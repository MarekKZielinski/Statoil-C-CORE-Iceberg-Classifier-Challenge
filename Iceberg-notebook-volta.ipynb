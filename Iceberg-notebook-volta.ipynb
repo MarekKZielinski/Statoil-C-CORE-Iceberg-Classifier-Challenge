{
 "cells": [
  {
   "cell_type": "markdown",
   "metadata": {},
   "source": [
    "# Statoil-C-CORE-Iceberg-Classifier-Challenge - CNN with inception and ensembling"
   ]
  },
  {
   "cell_type": "markdown",
   "metadata": {},
   "source": [
    "<a name=\"toc\"/>\n",
    "## TOC"
   ]
  },
  {
   "cell_type": "markdown",
   "metadata": {},
   "source": [
    "[1. Introduction](#introduction)<br>\n",
    "&nbsp;&nbsp;&nbsp;&nbsp;[1.1 Intro](#introduction-intro)<br>\n",
    "&nbsp;&nbsp;&nbsp;&nbsp;[1.2 Imports](#introduction-imports)<br>\n",
    "&nbsp;&nbsp;&nbsp;&nbsp;[1.3 Setup](#introduction-setup)<br>\n",
    "<br>\n",
    "[2. Data](#data)<br>\n",
    "&nbsp;&nbsp;&nbsp;&nbsp;[2.1 Load training data](#data-loading)<br>\n",
    "&nbsp;&nbsp;&nbsp;&nbsp;[2.2 Imputing missing values](#data-missing-values)<br>\n",
    "&nbsp;&nbsp;&nbsp;&nbsp;[2.3 Transform data for NN](#data-transform-for-nn)<br>\n",
    "&nbsp;&nbsp;&nbsp;&nbsp;[2.4 EDA](#data-eda)<br>\n",
    "&nbsp;&nbsp;&nbsp;&nbsp;&nbsp;&nbsp;&nbsp;&nbsp;[2.4.1 Data visualisation](#data-visualisation)<br>\n",
    "&nbsp;&nbsp;&nbsp;&nbsp;[2.5 Training, validation, holdout splits](#data-split)<br>\n",
    "<br>\n",
    "[3. Usefull functions](#functions)<br>\n",
    "<br>\n",
    "[4. Data Augmentation](#data-augmentation)<br>\n",
    "&nbsp;&nbsp;&nbsp;&nbsp;[4.1 Adding noise](#aug-noise)<br>\n",
    "&nbsp;&nbsp;&nbsp;&nbsp;[4.2 Data generator with image augmentation](#aug-datagen)<br>\n",
    "&nbsp;&nbsp;&nbsp;&nbsp;[4.3 Add more augmented validation data](#aug-gen-val-data)<br>\n",
    "<br>\n",
    "\n",
    "&nbsp;&nbsp;&nbsp;&nbsp;[NN denosing](#nn-denoising)<br>\n",
    "&nbsp;&nbsp;&nbsp;&nbsp;[CNN model](#cnn-model)<br>\n",
    "&nbsp;&nbsp;&nbsp;&nbsp;[Model reset](#model-reset)<br>\n",
    "&nbsp;&nbsp;&nbsp;&nbsp;[Callbacks](#training-callbacks)<br>\n",
    "&nbsp;&nbsp;&nbsp;&nbsp;[Model training](#model-training)<br>"
   ]
  },
  {
   "cell_type": "markdown",
   "metadata": {},
   "source": [
    "<a name=\"introduction\"/>\n",
    "## 1. Introduction"
   ]
  },
  {
   "cell_type": "markdown",
   "metadata": {},
   "source": [
    "<a name=\"introduction-intro\"/>\n",
    "### 1.1 Intro"
   ]
  },
  {
   "cell_type": "code",
   "execution_count": null,
   "metadata": {
    "collapsed": true
   },
   "outputs": [],
   "source": []
  },
  {
   "cell_type": "markdown",
   "metadata": {},
   "source": [
    "[>> back to TOC <<](#toc)"
   ]
  },
  {
   "cell_type": "markdown",
   "metadata": {},
   "source": [
    "<a name=\"introduction-imports\"/>\n",
    "### 1.2 Imports"
   ]
  },
  {
   "cell_type": "code",
   "execution_count": 1,
   "metadata": {
    "scrolled": true
   },
   "outputs": [
    {
     "name": "stderr",
     "output_type": "stream",
     "text": [
      "/home/marozet2/anaconda3/lib/python3.6/site-packages/sklearn/cross_validation.py:41: DeprecationWarning: This module was deprecated in version 0.18 in favor of the model_selection module into which all the refactored classes and functions are moved. Also note that the interface of the new CV iterators are different from that of this module. This module will be removed in 0.20.\n",
      "  \"This module will be removed in 0.20.\", DeprecationWarning)\n",
      "/home/marozet2/anaconda3/lib/python3.6/site-packages/h5py/__init__.py:34: FutureWarning: Conversion of the second argument of issubdtype from `float` to `np.floating` is deprecated. In future, it will be treated as `np.float64 == np.dtype(float).type`.\n",
      "  from ._conv import register_converters as _register_converters\n",
      "Using TensorFlow backend.\n"
     ]
    }
   ],
   "source": [
    "import numpy as np\n",
    "import pandas as pd\n",
    "import time\n",
    "import matplotlib.pyplot as plt\n",
    "import os\n",
    "import math\n",
    "import pickle\n",
    "import datetime\n",
    "import heapq\n",
    "import xgboost as xgb\n",
    "import h5py\n",
    "from tqdm import tqdm_notebook as tqdm\n",
    "import tensorflow as tf\n",
    "from keras.callbacks import TensorBoard\n",
    "\n",
    "from keras import backend as K\n",
    "from keras.models import Model, load_model\n",
    "from keras.layers import Dense, Activation, Conv2D, MaxPooling2D, Reshape, Lambda, ZeroPadding2D, GaussianNoise, AlphaDropout, Input, Concatenate\n",
    "from keras.layers.core import Flatten, Dropout\n",
    "from keras.optimizers import Adam, SGD\n",
    "from keras.layers.normalization import BatchNormalization\n",
    "from keras.preprocessing.image import ImageDataGenerator\n",
    "from keras.callbacks import ModelCheckpoint, Callback, EarlyStopping, ReduceLROnPlateau, LearningRateScheduler\n",
    "from keras.utils import to_categorical, normalize\n",
    "from keras.models import model_from_json\n",
    "from keras_tqdm import TQDMNotebookCallback, TQDMCallback\n",
    "\n",
    "from sklearn.model_selection import train_test_split, GridSearchCV\n",
    "from sklearn.model_selection import StratifiedKFold\n",
    "from sklearn import metrics\n",
    "\n",
    "from scipy import ndimage\n",
    "from skimage.morphology import reconstruction\n",
    "from skimage.restoration import denoise_wavelet, denoise_tv_chambolle, denoise_nl_means\n",
    "\n",
    "from cyclicLR_callback import CyclicLR\n",
    "\n",
    "random_seed = 4321\n",
    "np.random.seed(random_seed)\n",
    "cwd = os.getcwd()\n",
    "#for windows\n",
    "model_path = cwd + '\\\\models\\\\'"
   ]
  },
  {
   "cell_type": "code",
   "execution_count": 2,
   "metadata": {},
   "outputs": [
    {
     "data": {
      "text/plain": [
       "'2.1.3'"
      ]
     },
     "execution_count": 2,
     "metadata": {},
     "output_type": "execute_result"
    }
   ],
   "source": [
    "import keras\n",
    "keras.__version__"
   ]
  },
  {
   "cell_type": "code",
   "execution_count": 3,
   "metadata": {},
   "outputs": [
    {
     "data": {
      "text/plain": [
       "'3.3.1'"
      ]
     },
     "execution_count": 3,
     "metadata": {},
     "output_type": "execute_result"
    }
   ],
   "source": [
    "import cv2\n",
    "cv2.__version__"
   ]
  },
  {
   "cell_type": "markdown",
   "metadata": {},
   "source": [
    "[>> back to TOC <<](#toc)"
   ]
  },
  {
   "cell_type": "markdown",
   "metadata": {},
   "source": [
    "<a name=\"introduction-setup\"/>\n",
    "### 1.3 Setup"
   ]
  },
  {
   "cell_type": "markdown",
   "metadata": {},
   "source": [
    "Manually create tensorflow session to avoid potential OEM errors on laptop's GPU."
   ]
  },
  {
   "cell_type": "code",
   "execution_count": 4,
   "metadata": {
    "collapsed": true
   },
   "outputs": [],
   "source": [
    "tf.set_random_seed(random_seed)\n",
    "config = tf.ConfigProto()\n",
    "config.gpu_options.allow_growth = True\n",
    "session = tf.Session(config=config)\n",
    "K.set_session(session)\n",
    "K.set_image_dim_ordering('tf')"
   ]
  },
  {
   "cell_type": "code",
   "execution_count": 5,
   "metadata": {},
   "outputs": [
    {
     "name": "stdout",
     "output_type": "stream",
     "text": [
      "/bin/sh: 1: nvidia-smi: not found\r\n"
     ]
    }
   ],
   "source": [
    "!nvidia-smi"
   ]
  },
  {
   "cell_type": "markdown",
   "metadata": {},
   "source": [
    "[>> back to TOC <<](#toc)"
   ]
  },
  {
   "cell_type": "markdown",
   "metadata": {},
   "source": [
    "<a name=\"data\"/>\n",
    "## 2. Data"
   ]
  },
  {
   "cell_type": "markdown",
   "metadata": {},
   "source": [
    "<a name=\"data-loading\"/>\n",
    "### 2.1 Load training data"
   ]
  },
  {
   "cell_type": "code",
   "execution_count": 6,
   "metadata": {
    "collapsed": true
   },
   "outputs": [],
   "source": [
    "data = pd.read_json(\"data/processed/train.json\", orient='records')\n",
    "data.head()\n",
    "train_df = data"
   ]
  },
  {
   "cell_type": "code",
   "execution_count": 7,
   "metadata": {
    "scrolled": false
   },
   "outputs": [
    {
     "name": "stdout",
     "output_type": "stream",
     "text": [
      "<class 'pandas.core.frame.DataFrame'>\n",
      "Int64Index: 1604 entries, 0 to 1603\n",
      "Data columns (total 5 columns):\n",
      "band_1        1604 non-null object\n",
      "band_2        1604 non-null object\n",
      "id            1604 non-null object\n",
      "inc_angle     1604 non-null object\n",
      "is_iceberg    1604 non-null int64\n",
      "dtypes: int64(1), object(4)\n",
      "memory usage: 75.2+ KB\n"
     ]
    }
   ],
   "source": [
    "data.info()"
   ]
  },
  {
   "cell_type": "markdown",
   "metadata": {},
   "source": [
    "[>> back to TOC <<](#toc)"
   ]
  },
  {
   "cell_type": "markdown",
   "metadata": {},
   "source": [
    "<a name=\"data-missing-values\"/>\n",
    "### 2.2 Missing values"
   ]
  },
  {
   "cell_type": "code",
   "execution_count": 8,
   "metadata": {
    "scrolled": true
   },
   "outputs": [
    {
     "name": "stdout",
     "output_type": "stream",
     "text": [
      "missing values in inc_angle:  133\n"
     ]
    },
    {
     "data": {
      "text/html": [
       "<div>\n",
       "<style scoped>\n",
       "    .dataframe tbody tr th:only-of-type {\n",
       "        vertical-align: middle;\n",
       "    }\n",
       "\n",
       "    .dataframe tbody tr th {\n",
       "        vertical-align: top;\n",
       "    }\n",
       "\n",
       "    .dataframe thead th {\n",
       "        text-align: right;\n",
       "    }\n",
       "</style>\n",
       "<table border=\"1\" class=\"dataframe\">\n",
       "  <thead>\n",
       "    <tr style=\"text-align: right;\">\n",
       "      <th></th>\n",
       "      <th>band_1</th>\n",
       "      <th>band_2</th>\n",
       "      <th>id</th>\n",
       "      <th>inc_angle</th>\n",
       "      <th>is_iceberg</th>\n",
       "      <th>inc_angle_f</th>\n",
       "    </tr>\n",
       "  </thead>\n",
       "  <tbody>\n",
       "    <tr>\n",
       "      <th>1599</th>\n",
       "      <td>[-30.999878, -29.976866, -28.233906, -29.50732...</td>\n",
       "      <td>[-27.847719, -28.233864, -24.712077999999998, ...</td>\n",
       "      <td>04e11240</td>\n",
       "      <td>na</td>\n",
       "      <td>0</td>\n",
       "      <td>0.0</td>\n",
       "    </tr>\n",
       "    <tr>\n",
       "      <th>1600</th>\n",
       "      <td>[-25.31155, -26.511555, -28.694487, -27.180115...</td>\n",
       "      <td>[-29.563713, -28.290375, -26.839405, -28.29046...</td>\n",
       "      <td>c7d6f6f8</td>\n",
       "      <td>na</td>\n",
       "      <td>0</td>\n",
       "      <td>0.0</td>\n",
       "    </tr>\n",
       "    <tr>\n",
       "      <th>1601</th>\n",
       "      <td>[-18.141895, -18.141844, -19.01737, -19.701599...</td>\n",
       "      <td>[-25.305355, -29.387701, -28.963863, -26.16023...</td>\n",
       "      <td>bba1a0f1</td>\n",
       "      <td>na</td>\n",
       "      <td>0</td>\n",
       "      <td>0.0</td>\n",
       "    </tr>\n",
       "    <tr>\n",
       "      <th>1602</th>\n",
       "      <td>[-22.455633, -25.794661, -26.954567, -22.83354...</td>\n",
       "      <td>[-26.070356, -22.093737, -21.577662, -24.53376...</td>\n",
       "      <td>7f66bb44</td>\n",
       "      <td>na</td>\n",
       "      <td>0</td>\n",
       "      <td>0.0</td>\n",
       "    </tr>\n",
       "    <tr>\n",
       "      <th>1603</th>\n",
       "      <td>[-19.909191, -20.678406, -20.208834, -18.42441...</td>\n",
       "      <td>[-24.44487, -24.956001, -27.722103, -26.078417...</td>\n",
       "      <td>9d8f326c</td>\n",
       "      <td>na</td>\n",
       "      <td>0</td>\n",
       "      <td>0.0</td>\n",
       "    </tr>\n",
       "  </tbody>\n",
       "</table>\n",
       "</div>"
      ],
      "text/plain": [
       "                                                 band_1  \\\n",
       "1599  [-30.999878, -29.976866, -28.233906, -29.50732...   \n",
       "1600  [-25.31155, -26.511555, -28.694487, -27.180115...   \n",
       "1601  [-18.141895, -18.141844, -19.01737, -19.701599...   \n",
       "1602  [-22.455633, -25.794661, -26.954567, -22.83354...   \n",
       "1603  [-19.909191, -20.678406, -20.208834, -18.42441...   \n",
       "\n",
       "                                                 band_2        id inc_angle  \\\n",
       "1599  [-27.847719, -28.233864, -24.712077999999998, ...  04e11240        na   \n",
       "1600  [-29.563713, -28.290375, -26.839405, -28.29046...  c7d6f6f8        na   \n",
       "1601  [-25.305355, -29.387701, -28.963863, -26.16023...  bba1a0f1        na   \n",
       "1602  [-26.070356, -22.093737, -21.577662, -24.53376...  7f66bb44        na   \n",
       "1603  [-24.44487, -24.956001, -27.722103, -26.078417...  9d8f326c        na   \n",
       "\n",
       "      is_iceberg  inc_angle_f  \n",
       "1599           0          0.0  \n",
       "1600           0          0.0  \n",
       "1601           0          0.0  \n",
       "1602           0          0.0  \n",
       "1603           0          0.0  "
      ]
     },
     "execution_count": 8,
     "metadata": {},
     "output_type": "execute_result"
    }
   ],
   "source": [
    "train_df['inc_angle_f'] = pd.to_numeric(train_df['inc_angle'], errors='coerce')\n",
    "print(\"missing values in inc_angle: \", train_df['inc_angle_f'].isnull().sum())\n",
    "#train_df['inc_angle_f'].replace(np.nan,train_df['inc_angle_f'].mean(), inplace=True)\n",
    "train_df['inc_angle_f'].replace(np.nan,0, inplace=True)\n",
    "train_df.tail()"
   ]
  },
  {
   "cell_type": "markdown",
   "metadata": {},
   "source": [
    "[>> back to TOC <<](#toc)"
   ]
  },
  {
   "cell_type": "markdown",
   "metadata": {},
   "source": [
    "<a name=\"data-transform-for-nn\"/>\n",
    "### 2.3 Transform data for NN"
   ]
  },
  {
   "cell_type": "code",
   "execution_count": 9,
   "metadata": {
    "collapsed": true
   },
   "outputs": [],
   "source": [
    "def get_bands(train_df):\n",
    "    #set max value to 10 in all bands\n",
    "    max_col = np.array(train_df.apply(lambda x: max((max(train_df.loc[x.name,'band_1']),max(train_df.loc[x.name,'band_2']))),axis=1)) - 10\n",
    "    max_col2 = max_col.reshape(-1,1) * np.ones(75*75).reshape(1,75*75)\n",
    "    max_col2 = max_col2.reshape(-1,75,75)\n",
    "\n",
    "    band_1 = np.array(train_df['band_1'].tolist()).reshape(-1,75,75) - max_col2\n",
    "    band_2 = np.array(train_df['band_2'].tolist()).reshape(-1,75,75) - max_col2\n",
    "    band_1_t = 10**(band_1/10)\n",
    "    band_2_t = 10**(band_2/10)\n",
    "    band_1_t = np.where(band_1_t > 0.01, band_1_t, 0)\n",
    "    band_2_t = np.where(band_2_t > 0.01, band_2_t, 0)\n",
    "    band_3 = band_1_t - band_2_t\n",
    "    X = np.stack((band_1,band_2,band_1_t,band_2_t),axis=3)\n",
    "    \n",
    "    return band_1, band_2, band_1_t, band_2_t, band_3, X"
   ]
  },
  {
   "cell_type": "code",
   "execution_count": 10,
   "metadata": {
    "collapsed": true
   },
   "outputs": [],
   "source": [
    "band_1, band_2, band_1_t, band_2_t, band_3, X = get_bands(train_df)"
   ]
  },
  {
   "cell_type": "code",
   "execution_count": 11,
   "metadata": {
    "collapsed": true,
    "scrolled": true
   },
   "outputs": [],
   "source": [
    "y = train_df.loc[:,'is_iceberg']\n",
    "y_angle = train_df.loc[:,['is_iceberg','inc_angle_f']]\n",
    "y_angle['index'] = y_angle.index"
   ]
  },
  {
   "cell_type": "code",
   "execution_count": 12,
   "metadata": {},
   "outputs": [
    {
     "data": {
      "text/html": [
       "<div>\n",
       "<style scoped>\n",
       "    .dataframe tbody tr th:only-of-type {\n",
       "        vertical-align: middle;\n",
       "    }\n",
       "\n",
       "    .dataframe tbody tr th {\n",
       "        vertical-align: top;\n",
       "    }\n",
       "\n",
       "    .dataframe thead th {\n",
       "        text-align: right;\n",
       "    }\n",
       "</style>\n",
       "<table border=\"1\" class=\"dataframe\">\n",
       "  <thead>\n",
       "    <tr style=\"text-align: right;\">\n",
       "      <th></th>\n",
       "      <th>is_iceberg</th>\n",
       "      <th>inc_angle_f</th>\n",
       "      <th>index</th>\n",
       "    </tr>\n",
       "  </thead>\n",
       "  <tbody>\n",
       "    <tr>\n",
       "      <th>0</th>\n",
       "      <td>0</td>\n",
       "      <td>43.9239</td>\n",
       "      <td>0</td>\n",
       "    </tr>\n",
       "    <tr>\n",
       "      <th>1</th>\n",
       "      <td>0</td>\n",
       "      <td>38.1562</td>\n",
       "      <td>1</td>\n",
       "    </tr>\n",
       "    <tr>\n",
       "      <th>2</th>\n",
       "      <td>1</td>\n",
       "      <td>45.2859</td>\n",
       "      <td>2</td>\n",
       "    </tr>\n",
       "    <tr>\n",
       "      <th>3</th>\n",
       "      <td>0</td>\n",
       "      <td>43.8306</td>\n",
       "      <td>3</td>\n",
       "    </tr>\n",
       "    <tr>\n",
       "      <th>4</th>\n",
       "      <td>0</td>\n",
       "      <td>35.6256</td>\n",
       "      <td>4</td>\n",
       "    </tr>\n",
       "  </tbody>\n",
       "</table>\n",
       "</div>"
      ],
      "text/plain": [
       "   is_iceberg  inc_angle_f  index\n",
       "0           0      43.9239      0\n",
       "1           0      38.1562      1\n",
       "2           1      45.2859      2\n",
       "3           0      43.8306      3\n",
       "4           0      35.6256      4"
      ]
     },
     "execution_count": 12,
     "metadata": {},
     "output_type": "execute_result"
    }
   ],
   "source": [
    "y_angle.head()"
   ]
  },
  {
   "cell_type": "code",
   "execution_count": null,
   "metadata": {
    "collapsed": true
   },
   "outputs": [],
   "source": []
  },
  {
   "cell_type": "markdown",
   "metadata": {},
   "source": [
    "[>> back to TOC <<](#toc)"
   ]
  },
  {
   "cell_type": "markdown",
   "metadata": {},
   "source": [
    "<a name=\"data-eda\"/>\n",
    "### 2.4 EDA"
   ]
  },
  {
   "cell_type": "markdown",
   "metadata": {},
   "source": [
    "<a name=\"data-visualisation\"/>\n",
    "#### 2.4.1 Data visualisation"
   ]
  },
  {
   "cell_type": "code",
   "execution_count": 13,
   "metadata": {},
   "outputs": [
    {
     "data": {
      "image/png": "[encoded data removed]",
      "text/plain": [
       "<matplotlib.figure.Figure at 0x7f1a9ba36550>"
      ]
     },
     "metadata": {},
     "output_type": "display_data"
    },
    {
     "data": {
      "image/png": "[encoded data removed]",
      "text/plain": [
       "<matplotlib.figure.Figure at 0x7f196e479b70>"
      ]
     },
     "metadata": {},
     "output_type": "display_data"
    }
   ],
   "source": [
    "plt.hist(band_1.flatten(), bins=200, color=\"red\", alpha=0.4, label='band_1')\n",
    "plt.hist(band_2.flatten(), bins=200, color=\"blue\", alpha=0.4, label='band_2')\n",
    "plt.legend()\n",
    "plt.show()\n",
    "\n",
    "plt.hist(band_1[train_df[train_df['is_iceberg']==0].index].flatten(), bins=50, color=\"orange\", alpha=0.4, \n",
    "         label='not iceberg - band_1')\n",
    "plt.hist(band_1[train_df[train_df['is_iceberg']==1].index].flatten(), bins=50, color=\"green\", alpha=0.4,\n",
    "         label='iceberg - band_1')\n",
    "plt.legend()\n",
    "plt.show()"
   ]
  },
  {
   "cell_type": "code",
   "execution_count": 14,
   "metadata": {},
   "outputs": [
    {
     "data": {
      "image/png": "[encoded data removed]",
      "text/plain": [
       "<matplotlib.figure.Figure at 0x7f19f0739400>"
      ]
     },
     "metadata": {},
     "output_type": "display_data"
    }
   ],
   "source": [
    "plt.hist(band_1_t.flatten(),bins=200, color=\"red\", alpha=0.4)\n",
    "plt.hist(band_2_t.flatten(),bins=200, color=\"blue\", alpha=0.4)\n",
    "#plt.yscale('log')\n",
    "plt.xscale('log')\n",
    "plt.xlim([1e-2,3])\n",
    "plt.ylim([1e-5,1500000])\n",
    "plt.show()"
   ]
  },
  {
   "cell_type": "code",
   "execution_count": 15,
   "metadata": {},
   "outputs": [
    {
     "data": {
      "image/png": "[encoded data removed]",
      "text/plain": [
       "<matplotlib.figure.Figure at 0x7f1acf0705f8>"
      ]
     },
     "metadata": {},
     "output_type": "display_data"
    }
   ],
   "source": [
    "plt.hist(band_3[train_df[train_df['is_iceberg']==0].index].flatten(), bins=100, color=\"orange\", alpha=0.4)\n",
    "plt.hist(band_3[train_df[train_df['is_iceberg']==1].index].flatten(), bins=100, color=\"green\", alpha=0.4)\n",
    "#plt.yscale('log')\n",
    "plt.xscale('log')\n",
    "plt.xlim([1e-2,3])\n",
    "plt.ylim([1e-5,2500000])\n",
    "plt.show()"
   ]
  },
  {
   "cell_type": "code",
   "execution_count": 16,
   "metadata": {
    "scrolled": false
   },
   "outputs": [
    {
     "data": {
      "image/png": "[encoded data removed]",
      "text/plain": [
       "<matplotlib.figure.Figure at 0x7f1942381048>"
      ]
     },
     "metadata": {},
     "output_type": "display_data"
    },
    {
     "data": {
      "image/png": "[encoded data removed]",
      "text/plain": [
       "<matplotlib.figure.Figure at 0x7f194236ff98>"
      ]
     },
     "metadata": {},
     "output_type": "display_data"
    }
   ],
   "source": [
    "def plot_bands(index, cmap=\"gray\"):\n",
    "    fig = plt.figure(figsize=(12,6))\n",
    "    fig.suptitle(\"Is Iceberg: %x\" % (train_df.loc[index,'is_iceberg']), fontsize=16)\n",
    "    ax1 = fig.add_subplot(251)\n",
    "    ax1.set_title(\"Band 1\")\n",
    "    ax1.imshow(band_1[index], cmap=cmap)\n",
    "    ax2 = fig.add_subplot(252)\n",
    "    ax2.set_title(\"Band 2\")\n",
    "    ax2.imshow(band_2[index], cmap=cmap)\n",
    "    ax3 = fig.add_subplot(253)\n",
    "    ax3.set_title(\"Band 1 t\")\n",
    "    ax3.imshow(band_1_t[index], cmap=cmap)\n",
    "    ax3 = fig.add_subplot(254)\n",
    "    ax3.set_title(\"Band 2 t\")\n",
    "    ax3.imshow(band_2_t[index], cmap=cmap)\n",
    "    ax3 = fig.add_subplot(255)\n",
    "    ax3.set_title(\"Band 3\")\n",
    "    ax3.imshow(band_3[index], cmap=cmap)\n",
    "    fig.tight_layout(rect=[0, 0.03, 1, 0.95])\n",
    "    plt.show()\n",
    "\n",
    "plot_bands(0,cmap=\"inferno\")\n",
    "plot_bands(2,cmap=\"inferno\")\n"
   ]
  },
  {
   "cell_type": "markdown",
   "metadata": {},
   "source": [
    "[>> back to TOC <<](#toc)"
   ]
  },
  {
   "cell_type": "markdown",
   "metadata": {},
   "source": [
    "<a name=\"data-split\"/>\n",
    "### 2.5 Training, validation, holdout split"
   ]
  },
  {
   "cell_type": "code",
   "execution_count": 17,
   "metadata": {
    "scrolled": true
   },
   "outputs": [
    {
     "name": "stdout",
     "output_type": "stream",
     "text": [
      "(1042, 75, 75, 4)\n",
      "(562, 75, 75, 4)\n"
     ]
    }
   ],
   "source": [
    "X_train, X_val, y_train, y_val = train_test_split(X, y_angle, test_size=0.35, random_state=random_seed)\n",
    "print(X_train.shape)\n",
    "print(X_val.shape)"
   ]
  },
  {
   "cell_type": "code",
   "execution_count": 18,
   "metadata": {},
   "outputs": [
    {
     "name": "stdout",
     "output_type": "stream",
     "text": [
      "(393, 75, 75, 4)\n",
      "(169, 75, 75, 4)\n"
     ]
    }
   ],
   "source": [
    "X_val_tune, X_val_test, y_val_tune, y_val_test = train_test_split(X_val, y_val, test_size=0.3, random_state=random_seed)\n",
    "print(X_val_tune.shape)\n",
    "print(X_val_test.shape)"
   ]
  },
  {
   "cell_type": "markdown",
   "metadata": {},
   "source": [
    "[>> back to TOC <<](#toc)"
   ]
  },
  {
   "cell_type": "markdown",
   "metadata": {},
   "source": [
    "<a name=\"functions\"/>\n",
    "## 3. Usefull functions"
   ]
  },
  {
   "cell_type": "code",
   "execution_count": 19,
   "metadata": {
    "collapsed": true
   },
   "outputs": [],
   "source": [
    "def apply_over_axis(func, data, mask=None, axis=0, *args, **kwargs):\n",
    "    f_list = []\n",
    "    for i in range(data.shape[axis]):\n",
    "        if mask is None:\n",
    "            f_list.append(func(data[i], *args, **kwargs))\n",
    "        else:\n",
    "            f_list.append(func(data[i], mask=mask[i], *args, **kwargs))\n",
    "    return np.stack(f_list,axis=0)"
   ]
  },
  {
   "cell_type": "code",
   "execution_count": 20,
   "metadata": {
    "collapsed": true
   },
   "outputs": [],
   "source": [
    "def plot_imgs(imgs, y, cmap=\"inferno\"):\n",
    "    for idx in range(imgs.shape[0]):\n",
    "        fig = plt.figure(figsize=(12,6))\n",
    "        fig.suptitle(\"Is Iceberg: %x\" % int(y.iloc[idx]['is_iceberg']), fontsize=16)\n",
    "        ax1 = fig.add_subplot(251)\n",
    "        ax1.set_title(\"Band 1\")\n",
    "        ax1.imshow(imgs[idx,:,:,0], cmap=cmap)\n",
    "        ax2 = fig.add_subplot(252)\n",
    "        ax2.set_title(\"Band 2\")\n",
    "        ax2.imshow(imgs[idx,:,:,1], cmap=cmap)\n",
    "        ax3 = fig.add_subplot(253)\n",
    "        ax3.set_title(\"Band 1 t\")\n",
    "        ax3.imshow(imgs[idx,:,:,2], cmap=cmap)\n",
    "        ax4 = fig.add_subplot(254)\n",
    "        ax4.set_title(\"Band 2 t\")\n",
    "        ax4.imshow(imgs[idx,:,:,3], cmap=cmap)\n",
    "        fig.tight_layout(rect=[0, 0.03, 1, 0.95])\n",
    "        plt.show()"
   ]
  },
  {
   "cell_type": "markdown",
   "metadata": {},
   "source": [
    "[>> back to TOC <<](#toc)"
   ]
  },
  {
   "cell_type": "markdown",
   "metadata": {},
   "source": [
    "<a name=\"data-augmentation\"/>\n",
    "## 4. Data augmentation"
   ]
  },
  {
   "cell_type": "markdown",
   "metadata": {},
   "source": [
    "<a name=\"aug-noise\"/>\n",
    "### 5.1 Adding noise"
   ]
  },
  {
   "cell_type": "code",
   "execution_count": 21,
   "metadata": {
    "collapsed": true
   },
   "outputs": [],
   "source": [
    "def add_noise(img, noise):\n",
    "    rand_img = np.zeros(img.shape)\n",
    "    cv2.randn(rand_img,noise[0],noise[1]) \n",
    "    return img + rand_img"
   ]
  },
  {
   "cell_type": "code",
   "execution_count": 22,
   "metadata": {},
   "outputs": [
    {
     "data": {
      "image/png": "[encoded data removed]",
      "text/plain": [
       "<matplotlib.figure.Figure at 0x7f19259d07f0>"
      ]
     },
     "metadata": {},
     "output_type": "display_data"
    },
    {
     "data": {
      "image/png": "[encoded data removed]",
      "text/plain": [
       "<matplotlib.figure.Figure at 0x7f19259d0550>"
      ]
     },
     "metadata": {},
     "output_type": "display_data"
    }
   ],
   "source": [
    "def plot_with_noise(index, cmap=\"gray\"):\n",
    "    m = (1) \n",
    "    s = (1)\n",
    "    fig = plt.figure(figsize=(12,6))\n",
    "    fig.suptitle(\"Is Iceberg: %x\" % (train_df.loc[index,'is_iceberg']), fontsize=16)\n",
    "    ax1 = fig.add_subplot(251)\n",
    "    ax1.set_title(\"Band 1 - original\")\n",
    "    ax1.imshow(band_1[index], cmap=cmap)\n",
    "    ax2 = fig.add_subplot(252)\n",
    "    ax2.set_title(\"Band 1 - noise\")\n",
    "    img = band_1[index].copy()\n",
    "    rand_img = np.zeros((img.shape[0],img.shape[1]))\n",
    "    cv2.randn(rand_img,m,s);\n",
    "    img = img + rand_img\n",
    "    ax2.imshow(img, cmap=cmap)\n",
    "    ax3 = fig.add_subplot(253)\n",
    "    ax3.set_title(\"Band 2 - original\")\n",
    "    ax3.imshow(band_2[index], cmap=cmap)\n",
    "    ax4 = fig.add_subplot(254)\n",
    "    ax4.set_title(\"Band 2 - noise\")\n",
    "    img = band_2[index].copy()\n",
    "    rand_img = np.zeros((img.shape[0],img.shape[1]))\n",
    "    m = (0.5) \n",
    "    s = (0.5)\n",
    "    cv2.randn(rand_img,m,s);\n",
    "    img = img + rand_img\n",
    "    ax4.imshow(img, cmap=cmap)\n",
    "    fig.tight_layout(rect=[0, 0.03, 1, 0.95])\n",
    "    plt.show()\n",
    "\n",
    "plot_with_noise(0,cmap=\"inferno\")\n",
    "plot_with_noise(2,cmap=\"inferno\")"
   ]
  },
  {
   "cell_type": "code",
   "execution_count": 23,
   "metadata": {
    "collapsed": true
   },
   "outputs": [],
   "source": [
    "#set noise params\n",
    "aug_noise=((0,0,0,0),(0.25,0.25,0.05,0.05))"
   ]
  },
  {
   "cell_type": "markdown",
   "metadata": {},
   "source": [
    "[>> back to TOC <<](#toc)"
   ]
  },
  {
   "cell_type": "markdown",
   "metadata": {},
   "source": [
    "<a name=\"aug-datagen\"/>\n",
    "### 4.2 Data generators with image augmentation"
   ]
  },
  {
   "cell_type": "code",
   "execution_count": 24,
   "metadata": {},
   "outputs": [
    {
     "name": "stdout",
     "output_type": "stream",
     "text": [
      "(1042, 75, 75, 4)\n"
     ]
    }
   ],
   "source": [
    "X_train_sample = X_train[:]\n",
    "y_train_sample = y_train[:]\n",
    "print(X_train_sample.shape)"
   ]
  },
  {
   "cell_type": "code",
   "execution_count": 25,
   "metadata": {
    "collapsed": true,
    "scrolled": false
   },
   "outputs": [],
   "source": [
    "\n",
    "\n",
    "datagen = ImageDataGenerator(\n",
    "    samplewise_center=False,\n",
    "    samplewise_std_normalization=False,\n",
    "    rotation_range=179,\n",
    "    horizontal_flip=True,\n",
    "    vertical_flip=True,\n",
    "    fill_mode='nearest')\n",
    "\n",
    "datagen_val = ImageDataGenerator(\n",
    "    samplewise_center=False,\n",
    "    samplewise_std_normalization=False,\n",
    "    rotation_range=0,\n",
    "    horizontal_flip=False,\n",
    "    vertical_flip=False,\n",
    "    fill_mode='nearest')\n",
    "\n",
    "#custom generator for fit_generator\n",
    "from collections import Generator\n",
    "class Datagen_angle(Generator):\n",
    "    def __init__(self, imagegen=ImageDataGenerator, noise=((1,1),(1,1))):\n",
    "        self.imagegen = imagegen\n",
    "        self.noise = noise\n",
    "        self.noise_on = False\n",
    "        \n",
    "    def flow(self, x, y, batch_size=8, shuffle=True, noise_on = False, noise=((1,1),(1,1))):\n",
    "        self.generator = self.imagegen.flow(x, y, batch_size=batch_size, shuffle=shuffle)\n",
    "        self.noise_on = noise_on\n",
    "        self.noise=noise\n",
    "        return self\n",
    "    \n",
    "    def send(self, ignored):\n",
    "        temp_data = next(self.generator)\n",
    "        if self.noise_on:\n",
    "            batches = temp_data[0][:,:,:,:4].copy()\n",
    "            batches = apply_over_axis(add_noise, batches, axis=0, noise=self.noise)\n",
    "            temp_stacked1 = batches[:,:,:,:2]\n",
    "            temp_band_3 = batches[:,:,:,2] - batches[:,:,:,3] #band_1_t - band_2_t\n",
    "            temp_stacked2 = np.stack((batches[:,:,:,2],batches[:,:,:,3],temp_band_3),axis=3)\n",
    "        else:\n",
    "            #temp_stacked1 = np.stack((temp_data[0][:,:,:,0],temp_data[0][:,:,:,1]),axis=3)\n",
    "            temp_stacked1 = temp_data[0][:,:,:,:2]\n",
    "            temp_band_3 = temp_data[0][:,:,:,2] - temp_data[0][:,:,:,3] #band_1_t - band_2_t\n",
    "            temp_stacked2 = np.stack((temp_data[0][:,:,:,2],temp_data[0][:,:,:,3],temp_band_3),axis=3)\n",
    "        #nn_denoised_temp = temp_data[0] #pass 4 bands for nn denoising input\n",
    "        return [temp_stacked1, temp_stacked2, \n",
    "                #nn_denoised_temp,\n",
    "                temp_data[1][:,1]], temp_data[1][:,0]\n",
    "    \n",
    "    def get_next(self):\n",
    "        temp_data = next(self.generator)\n",
    "        if self.noise_on:\n",
    "            batches = temp_data[0][:,:,:,:4].copy()\n",
    "            batches = apply_over_axis(add_noise, batches, axis=0, noise=self.noise)\n",
    "        else:\n",
    "            batches = temp_data[0]\n",
    "        return batches, temp_data[1]\n",
    "    \n",
    "    def throw(self, type=None, value=None, traceback=None):\n",
    "        raise StopIteration\n",
    "    \n",
    "\n"
   ]
  },
  {
   "cell_type": "code",
   "execution_count": 26,
   "metadata": {
    "collapsed": true
   },
   "outputs": [],
   "source": [
    "\n",
    "datagen.fit(X_train_sample)\n",
    "datagen_val.fit(X_val)\n",
    "\n",
    "datagen_angle = Datagen_angle(imagegen=datagen)\n",
    "datagen_angle_val = Datagen_angle(imagegen=datagen_val)"
   ]
  },
  {
   "cell_type": "markdown",
   "metadata": {},
   "source": [
    "[>> back to TOC <<](#toc)"
   ]
  },
  {
   "cell_type": "markdown",
   "metadata": {},
   "source": [
    "<a name=\"aug-gen-val-data\"/>\n",
    "### 4.3 Add more augmented validation data"
   ]
  },
  {
   "cell_type": "code",
   "execution_count": 27,
   "metadata": {},
   "outputs": [
    {
     "data": {
      "text/plain": [
       "(393, 75, 75, 4)"
      ]
     },
     "execution_count": 27,
     "metadata": {},
     "output_type": "execute_result"
    }
   ],
   "source": [
    "X_val_tune.shape"
   ]
  },
  {
   "cell_type": "code",
   "execution_count": 28,
   "metadata": {},
   "outputs": [
    {
     "name": "stdout",
     "output_type": "stream",
     "text": [
      "<class 'pandas.core.frame.DataFrame'>\n",
      "Int64Index: 393 entries, 52 to 687\n",
      "Data columns (total 3 columns):\n",
      "is_iceberg     393 non-null int64\n",
      "inc_angle_f    393 non-null float64\n",
      "index          393 non-null int64\n",
      "dtypes: float64(1), int64(2)\n",
      "memory usage: 12.3 KB\n"
     ]
    }
   ],
   "source": [
    "y_val_tune.info()"
   ]
  },
  {
   "cell_type": "code",
   "execution_count": 29,
   "metadata": {
    "collapsed": true
   },
   "outputs": [],
   "source": [
    "def get_augmented(gen):\n",
    "    x_new, y_new = gen.get_next()\n",
    "    y_new_df = pd.DataFrame(y_new, columns=y_val_tune.columns)\n",
    "    y_new_df['is_iceberg'] = y_new_df['is_iceberg'].astype(np.int)\n",
    "    y_new_df['index'] = y_new_df['index'].astype(np.int)\n",
    "    y_new_df.index = y_new_df['index']\n",
    "    return x_new, y_new_df"
   ]
  },
  {
   "cell_type": "code",
   "execution_count": 30,
   "metadata": {
    "scrolled": false
   },
   "outputs": [
    {
     "data": {
      "image/png": "[encoded data removed]",
      "text/plain": [
       "<matplotlib.figure.Figure at 0x7f1925a0a898>"
      ]
     },
     "metadata": {},
     "output_type": "display_data"
    },
    {
     "data": {
      "image/png": "[encoded data removed]",
      "text/plain": [
       "<matplotlib.figure.Figure at 0x7f1914236b70>"
      ]
     },
     "metadata": {},
     "output_type": "display_data"
    }
   ],
   "source": [
    "validation_generator = datagen_angle.flow(X_val_tune, y_val_tune, batch_size=8, \n",
    "                                          noise_on=True, noise=aug_noise)\n",
    "x_new, y_new_df = get_augmented(validation_generator)\n",
    "plot_imgs(x_new[:2], y_new_df.iloc[:2])"
   ]
  },
  {
   "cell_type": "code",
   "execution_count": 31,
   "metadata": {},
   "outputs": [
    {
     "data": {
      "application/vnd.jupyter.widget-view+json": {
       "model_id": "1e370f7120a148f681a68c5983a0e289",
       "version_major": 2,
       "version_minor": 0
      },
      "text/plain": [
       "A Jupyter Widget"
      ]
     },
     "metadata": {},
     "output_type": "display_data"
    },
    {
     "name": "stdout",
     "output_type": "stream",
     "text": [
      "\n"
     ]
    },
    {
     "data": {
      "text/plain": [
       "(1435, 75, 75, 4)"
      ]
     },
     "execution_count": 31,
     "metadata": {},
     "output_type": "execute_result"
    }
   ],
   "source": [
    "validation_generator = datagen_angle.flow(X_val_tune, y_val_tune, batch_size=256, \n",
    "                                          noise_on=False, noise=aug_noise)\n",
    "X_val_tune2 = X_val_tune\n",
    "y_val_tune2 = y_val_tune\n",
    "for _ in tqdm(range(5)):\n",
    "    x_new, y_new_df = get_augmented(validation_generator)\n",
    "    X_val_tune2 = np.append(X_val_tune2, x_new, axis=0)\n",
    "    y_val_tune2 = pd.concat([y_val_tune2, y_new_df])\n",
    "X_val_tune2.shape"
   ]
  },
  {
   "cell_type": "code",
   "execution_count": 32,
   "metadata": {},
   "outputs": [
    {
     "data": {
      "application/vnd.jupyter.widget-view+json": {
       "model_id": "cf2189a9d89d4c4f95e110699448ca92",
       "version_major": 2,
       "version_minor": 0
      },
      "text/plain": [
       "A Jupyter Widget"
      ]
     },
     "metadata": {},
     "output_type": "display_data"
    },
    {
     "name": "stdout",
     "output_type": "stream",
     "text": [
      "\n"
     ]
    },
    {
     "data": {
      "text/plain": [
       "(1014, 75, 75, 4)"
      ]
     },
     "execution_count": 32,
     "metadata": {},
     "output_type": "execute_result"
    }
   ],
   "source": [
    "validation_generator = datagen_angle.flow(X_val_test, y_val_test, batch_size=256, \n",
    "                                          noise_on=False, noise=aug_noise)\n",
    "X_val_test2 = X_val_test\n",
    "y_val_test2 = y_val_test\n",
    "for _ in tqdm(range(5)):\n",
    "    x_new, y_new_df = get_augmented(validation_generator)\n",
    "    X_val_test2 = np.append(X_val_test2, x_new, axis=0)\n",
    "    y_val_test2 = pd.concat([y_val_test2, y_new_df])\n",
    "X_val_test2.shape"
   ]
  },
  {
   "cell_type": "markdown",
   "metadata": {},
   "source": [
    "[>> back to TOC <<](#toc)"
   ]
  },
  {
   "cell_type": "markdown",
   "metadata": {},
   "source": [
    "<a name=\"nn-denoising\"/>\n",
    "### NN denoising"
   ]
  },
  {
   "cell_type": "code",
   "execution_count": 33,
   "metadata": {
    "collapsed": true
   },
   "outputs": [],
   "source": [
    "##custom generator for denoising\n",
    "#from collections import Generator\n",
    "#class Datagen_denoising(Generator):\n",
    "#    def __init__(self, imagegen=ImageDataGenerator):\n",
    "#        self.imagegen = imagegen\n",
    "#        \n",
    "#    def flow(self, x, y, batch_size=8, shuffle=True):\n",
    "#        self.generator = self.imagegen.flow(x, y, batch_size=batch_size, shuffle=shuffle)\n",
    "#        return self\n",
    "#    \n",
    "#    def send(self, ignored):\n",
    "#        temp_data = next(self.generator)\n",
    "#        temp_stacked1 = np.stack((temp_data[0][:,:,:,0],temp_data[0][:,:,:,1]),axis=3)\n",
    "#        temp_stacked = np.stack((temp_data[0][:,:,:,0],temp_data[0][:,:,:,1],temp_data[0][:,:,:,2],\n",
    "#                                temp_data[0][:,:,:,3]),axis=3)\n",
    "#        return temp_stacked, temp_stacked\n",
    "#    \n",
    "#    def throw(self, type=None, value=None, traceback=None):\n",
    "#        raise StopIteration\n",
    "#        \n",
    "#datagen_denoising = Datagen_denoising(imagegen=datagen)\n",
    "#datagen_denoising_val = Datagen_denoising(imagegen=datagen_val)"
   ]
  },
  {
   "cell_type": "code",
   "execution_count": 34,
   "metadata": {
    "collapsed": true
   },
   "outputs": [],
   "source": [
    "#m_input = Input(shape=(75,75,4), name='m_input')\n",
    "#\n",
    "##conv layers for main_input\n",
    "#x1 = BatchNormalization()(m_input)\n",
    "#x1 = ZeroPadding2D()(x1)\n",
    "#x1 = Conv2D(8, (3,3), activation='relu')(x1)\n",
    "#x1 = BatchNormalization()(x1)\n",
    "#x1 = Dropout(0.2)(x1)\n",
    "#x1 = ZeroPadding2D()(x1)\n",
    "#x1 = Conv2D(8, (3,3), activation='relu')(x1)\n",
    "#x1 = BatchNormalization()(x1)\n",
    "#x1 = Dropout(0.2)(x1)\n",
    "#x1 = ZeroPadding2D()(x1)\n",
    "#m_output = Conv2D(4, (3,3), activation='linear', name='m_output')(x1)\n",
    "#model_denoise = Model(inputs=[m_input,], outputs=[m_output], name='Model_nn_denoising')\n",
    "#\n",
    "#model_denoise.compile(optimizer=Adam(lr=0.1, beta_1=0.9, beta_2=0.999, epsilon=1e-08, decay=0),\n",
    "#loss='mean_squared_error',\n",
    "#metrics=['mae'])"
   ]
  },
  {
   "cell_type": "code",
   "execution_count": 35,
   "metadata": {
    "collapsed": true,
    "scrolled": true
   },
   "outputs": [],
   "source": [
    "#model_denoise.summary()"
   ]
  },
  {
   "cell_type": "code",
   "execution_count": 36,
   "metadata": {
    "collapsed": true,
    "scrolled": false
   },
   "outputs": [],
   "source": [
    "##model training\n",
    "##lScheduler_denoising = LScheduler(initial_lrate=0.1, drop=0.66, patience=3)\n",
    "##lrScheduler_denoising = LearningRateScheduler(lScheduler_denoising.step_decay)\n",
    "#lrScheduler_denoising = CyclicLR(base_lr=1e-8, max_lr=0.006,\n",
    "#                                 step_size=400, mode='triangular2', gamma=0.99994)\n",
    "#start_time = time.monotonic()\n",
    "#\n",
    "#H = model_denoise.fit_generator(datagen_denoising.flow(X, y_angle, batch_size=8),\n",
    "#                    steps_per_epoch=len(X)/8,\n",
    "#                    validation_data=datagen_denoising_val.flow(X, y_angle, batch_size=8, shuffle=False), \n",
    "#                    validation_steps=len(X)/8,\n",
    "#                    #validation_data=[X_val,y_val],\n",
    "#                    epochs=12,\n",
    "#                    callbacks = [lrScheduler_denoising, \n",
    "#                                 TQDMNotebookCallback(leave_inner=True, leave_outer=True)],\n",
    "#                    verbose=0)\n",
    "#\n",
    "#model_time = time.monotonic() - start_time\n",
    "#print(\"Model training time: \" + '{:d}'.format(int(model_time // 60)) + \" minutes \" \n",
    "#      + '{:.1f}'.format(model_time % 60) + \" seconds\")"
   ]
  },
  {
   "cell_type": "code",
   "execution_count": 37,
   "metadata": {
    "collapsed": true
   },
   "outputs": [],
   "source": [
    "#h = lrScheduler_denoising.history\n",
    "#plt.plot(h['lr'], color=\"b\", label='lr')\n",
    "#plt.legend()\n",
    "#plt.xlabel('# iterations')\n",
    "#plt.show()"
   ]
  },
  {
   "cell_type": "code",
   "execution_count": 38,
   "metadata": {
    "collapsed": true
   },
   "outputs": [],
   "source": [
    "## serialize model to JSON\n",
    "#model_json = model_denoise.to_json()\n",
    "#with open(\"models/model_denoise.json\", \"w\") as json_file:\n",
    "#    json_file.write(model_json)"
   ]
  },
  {
   "cell_type": "code",
   "execution_count": 39,
   "metadata": {
    "collapsed": true
   },
   "outputs": [],
   "source": [
    "## serialize weights to HDF5\n",
    "#model_weights = model_denoise.get_weights()\n",
    "#with open('models/model_denoise_weights.pickle', 'wb') as handle:\n",
    "#    pickle.dump(model_weights, handle, protocol=pickle.HIGHEST_PROTOCOL)"
   ]
  },
  {
   "cell_type": "code",
   "execution_count": 40,
   "metadata": {
    "collapsed": true
   },
   "outputs": [],
   "source": [
    "## load json and create model\n",
    "#with open(\"models/model_denoise.json\", \"r\") as json_file:\n",
    "#    loaded_model_json = json_file.read()\n",
    "#model_denoise = model_from_json(loaded_model_json)\n",
    "## load weights into new model\n",
    "#with open('models/model_denoise_weights.pickle', 'rb') as handle:\n",
    "#    model_weights = pickle.load(handle)\n",
    "#model_denoise.set_weights(model_weights)\n",
    "#print(\"Loaded model from disk\")"
   ]
  },
  {
   "cell_type": "code",
   "execution_count": 41,
   "metadata": {
    "collapsed": true,
    "scrolled": false
   },
   "outputs": [],
   "source": [
    "#X_nn_denoised = model_denoise.predict(X, verbose=1)"
   ]
  },
  {
   "cell_type": "code",
   "execution_count": 42,
   "metadata": {
    "collapsed": true
   },
   "outputs": [],
   "source": [
    "#index=8\n",
    "#original_index = y_train_sample.iloc[index].name\n",
    "#cmap=\"inferno\"\n",
    "#fig = plt.figure(figsize=(12,6))\n",
    "#fig.suptitle(\"Image denoising nn: %x\" % (train_df.loc[original_index,'is_iceberg']), fontsize=16)\n",
    "#ax1 = fig.add_subplot(251)\n",
    "#ax1.set_title(\"Before band_1\")\n",
    "#ax1.imshow(X_train_sample[index][:,:,0], cmap=cmap)\n",
    "#ax2 = fig.add_subplot(252)\n",
    "#ax2.set_title(\"NN Denoising band 1\")\n",
    "#ax2.imshow(X_nn_denoised[original_index][:,:,0], cmap=cmap)\n",
    "#ax3 = fig.add_subplot(253)\n",
    "#ax3.set_title(\"Before band 2\")\n",
    "#ax3.imshow(X_train_sample[index][:,:,1], cmap=cmap)\n",
    "#ax4 = fig.add_subplot(254)\n",
    "#ax4.set_title(\"NN Denoising band 2\")\n",
    "#ax4.imshow(X_nn_denoised[original_index][:,:,1], cmap=cmap)\n",
    "#plt.show()"
   ]
  },
  {
   "cell_type": "markdown",
   "metadata": {},
   "source": [
    "[>> back to TOC <<](#toc)"
   ]
  },
  {
   "cell_type": "markdown",
   "metadata": {},
   "source": [
    "<a name=\"cnn-model\"/>\n",
    "### CNN model"
   ]
  },
  {
   "cell_type": "code",
   "execution_count": 43,
   "metadata": {
    "collapsed": true
   },
   "outputs": [],
   "source": [
    "model_code=\"CNN_2018_01_24_v03\"\n",
    "model_comment=\"2 CNN inputs + simplified inception block + noise augmentation, na=0\""
   ]
  },
  {
   "cell_type": "code",
   "execution_count": 44,
   "metadata": {
    "scrolled": true
   },
   "outputs": [
    {
     "name": "stdout",
     "output_type": "stream",
     "text": [
      "Overwriting current_model.py\n"
     ]
    }
   ],
   "source": [
    "%%writefile current_model.py\n",
    "\n",
    "def SimpleInceptionBlock(x, filters=64, dropout=0.2, prefix=''):\n",
    "    #path 1\n",
    "    x1 = Conv2D(filters, (1,1), padding='same', activation='relu', name=prefix + '11_Conv_1_1')(x)\n",
    "    x1 = MaxPooling2D((2, 2), strides=(2, 2), padding='same', name=prefix + '12_MaxPool_2_2')(x1)\n",
    "    x1 = BatchNormalization()(x1)\n",
    "    x1 = Dropout(dropout)(x1) \n",
    "    #path 2\n",
    "    x2 = Conv2D(filters, (3,3), activation='relu', padding='same', name=prefix + '21_Conv_3_3')(x)\n",
    "    x2 = MaxPooling2D((2, 2), strides=(2, 2), padding='same', name=prefix + '22_MaxPool_2_2')(x2)\n",
    "    x2 = BatchNormalization()(x2)\n",
    "    x2 = Dropout(dropout)(x2) \n",
    "    #path 3\n",
    "    x3 = Conv2D(filters, (1,1), activation='relu', padding='same', name=prefix + '31_Conv_1_1')(x)\n",
    "    x3 = Conv2D(filters, (5,5), activation='relu', padding='same', name=prefix + '32_Conv_5_5')(x3)\n",
    "    x3 = MaxPooling2D((2, 2), strides=(2, 2), padding='same', name=prefix + '33_MaxPool_2_2')(x3)\n",
    "    x3 = BatchNormalization()(x3)\n",
    "    x3 = Dropout(dropout)(x3)\n",
    "    #concatenate\n",
    "    x = Concatenate(axis=3, name=prefix+'_Inception_end')([x1,x2,x3])\n",
    "    return x\n",
    "\n",
    "def ConvBlock(x, filters=64, dropout=0.2, prefix=''):\n",
    "    x = Conv2D(filters, (3,3), activation='relu')(x)\n",
    "    x = MaxPooling2D((2, 2), strides=(2, 2))(x)\n",
    "    x = BatchNormalization()(x)\n",
    "    x = Dropout(dropout)(x) \n",
    "    \n",
    "def InputBlock(x, dropout=0.2, prefix=''):\n",
    "    #conv layers for input\n",
    "    x = BatchNormalization()(x)\n",
    "    x = SimpleInceptionBlock(x, prefix=prefix+'_1_')\n",
    "    x = SimpleInceptionBlock(x, prefix=prefix+'_2_')\n",
    "    #x = ConvBlock(x)\n",
    "    #x = ConvBlock(x)\n",
    "    return(x)\n",
    "\n",
    "main_input = Input(shape=(75,75,2), name='main_input')\n",
    "aux_input = Input(shape=(75,75,3), name='aux_input')\n",
    "    #aux_input_nn = Input(shape=(75,75,4), name='aux_input_nn')\n",
    "\n",
    "x1 = InputBlock(main_input, prefix='m_input')\n",
    "x2 = InputBlock(aux_input, prefix='a_input')\n",
    "    #x3 = model_denoise(aux_input_nn)\n",
    "    #x3 = InputBlock(x3,dropout=0.3, prefix='a_input_nn')\n",
    "\n",
    "    #x = x1\n",
    "x = Concatenate(axis=3)([x1,x2])\n",
    "    #x = BatchNormalization()(x)\n",
    "    #x = Dropout(0.2)(x)\n",
    "\n",
    "    #conv-blocks\n",
    "#x = ConvBlock(x, filters=128)\n",
    "#x = ConvBlock(x, filters=256)\n",
    "\n",
    "    #inception blocks\n",
    "x = SimpleInceptionBlock(x, filters=128, prefix='main_1')\n",
    "x = SimpleInceptionBlock(x, filters=256, prefix='main_2')\n",
    "\n",
    "    #flatten\n",
    "x = Flatten()(x)\n",
    "angle_input = Input(shape=[1], name='angle_input')\n",
    "    #x1 = BatchNormalization()(angle_input)\n",
    "merged = Concatenate()([x, angle_input])\n",
    "    \n",
    "    #dense-block\n",
    "x = Dense(1025, activation='relu')(merged)\n",
    "x = BatchNormalization()(x)\n",
    "x = Dropout(0.2)(x)\n",
    "    \n",
    "    #dense-block\n",
    "x = Dense(256, activation='relu')(x)\n",
    "x = BatchNormalization()(x)\n",
    "x = Dropout(0.2)(x)\n",
    "    \n",
    "main_output = Dense(1, activation='sigmoid', name='main_output')(x)\n",
    "model_f = Model(inputs=[main_input,aux_input, \n",
    "                            #aux_input_nn, \n",
    "                            angle_input], \n",
    "                            outputs=[main_output])\n",
    "\n",
    "model_f.compile(optimizer=Adam(lr=0.001, beta_1=0.9, beta_2=0.999, epsilon=1e-08, decay=0),\n",
    "    loss='binary_crossentropy',\n",
    "    metrics=['accuracy'])\n",
    "    "
   ]
  },
  {
   "cell_type": "markdown",
   "metadata": {},
   "source": [
    "<a name=\"model-reset\"/>\n",
    "#### Model reset"
   ]
  },
  {
   "cell_type": "code",
   "execution_count": 45,
   "metadata": {
    "collapsed": true
   },
   "outputs": [],
   "source": [
    "%run -i current_model.py"
   ]
  },
  {
   "cell_type": "markdown",
   "metadata": {},
   "source": [
    "[>> back to TOC <<](#toc)"
   ]
  },
  {
   "cell_type": "code",
   "execution_count": 46,
   "metadata": {
    "collapsed": true
   },
   "outputs": [],
   "source": [
    "#model_f = build_model()"
   ]
  },
  {
   "cell_type": "code",
   "execution_count": 47,
   "metadata": {
    "scrolled": true
   },
   "outputs": [
    {
     "name": "stdout",
     "output_type": "stream",
     "text": [
      "__________________________________________________________________________________________________\n",
      "Layer (type)                    Output Shape         Param #     Connected to                     \n",
      "==================================================================================================\n",
      "main_input (InputLayer)         (None, 75, 75, 2)    0                                            \n",
      "__________________________________________________________________________________________________\n",
      "aux_input (InputLayer)          (None, 75, 75, 3)    0                                            \n",
      "__________________________________________________________________________________________________\n",
      "batch_normalization_1 (BatchNor (None, 75, 75, 2)    8           main_input[0][0]                 \n",
      "__________________________________________________________________________________________________\n",
      "batch_normalization_8 (BatchNor (None, 75, 75, 3)    12          aux_input[0][0]                  \n",
      "__________________________________________________________________________________________________\n",
      "m_input_1_31_Conv_1_1 (Conv2D)  (None, 75, 75, 64)   192         batch_normalization_1[0][0]      \n",
      "__________________________________________________________________________________________________\n",
      "a_input_1_31_Conv_1_1 (Conv2D)  (None, 75, 75, 64)   256         batch_normalization_8[0][0]      \n",
      "__________________________________________________________________________________________________\n",
      "m_input_1_11_Conv_1_1 (Conv2D)  (None, 75, 75, 64)   192         batch_normalization_1[0][0]      \n",
      "__________________________________________________________________________________________________\n",
      "m_input_1_21_Conv_3_3 (Conv2D)  (None, 75, 75, 64)   1216        batch_normalization_1[0][0]      \n",
      "__________________________________________________________________________________________________\n",
      "m_input_1_32_Conv_5_5 (Conv2D)  (None, 75, 75, 64)   102464      m_input_1_31_Conv_1_1[0][0]      \n",
      "__________________________________________________________________________________________________\n",
      "a_input_1_11_Conv_1_1 (Conv2D)  (None, 75, 75, 64)   256         batch_normalization_8[0][0]      \n",
      "__________________________________________________________________________________________________\n",
      "a_input_1_21_Conv_3_3 (Conv2D)  (None, 75, 75, 64)   1792        batch_normalization_8[0][0]      \n",
      "__________________________________________________________________________________________________\n",
      "a_input_1_32_Conv_5_5 (Conv2D)  (None, 75, 75, 64)   102464      a_input_1_31_Conv_1_1[0][0]      \n",
      "__________________________________________________________________________________________________\n",
      "m_input_1_12_MaxPool_2_2 (MaxPo (None, 38, 38, 64)   0           m_input_1_11_Conv_1_1[0][0]      \n",
      "__________________________________________________________________________________________________\n",
      "m_input_1_22_MaxPool_2_2 (MaxPo (None, 38, 38, 64)   0           m_input_1_21_Conv_3_3[0][0]      \n",
      "__________________________________________________________________________________________________\n",
      "m_input_1_33_MaxPool_2_2 (MaxPo (None, 38, 38, 64)   0           m_input_1_32_Conv_5_5[0][0]      \n",
      "__________________________________________________________________________________________________\n",
      "a_input_1_12_MaxPool_2_2 (MaxPo (None, 38, 38, 64)   0           a_input_1_11_Conv_1_1[0][0]      \n",
      "__________________________________________________________________________________________________\n",
      "a_input_1_22_MaxPool_2_2 (MaxPo (None, 38, 38, 64)   0           a_input_1_21_Conv_3_3[0][0]      \n",
      "__________________________________________________________________________________________________\n",
      "a_input_1_33_MaxPool_2_2 (MaxPo (None, 38, 38, 64)   0           a_input_1_32_Conv_5_5[0][0]      \n",
      "__________________________________________________________________________________________________\n",
      "batch_normalization_2 (BatchNor (None, 38, 38, 64)   256         m_input_1_12_MaxPool_2_2[0][0]   \n",
      "__________________________________________________________________________________________________\n",
      "batch_normalization_3 (BatchNor (None, 38, 38, 64)   256         m_input_1_22_MaxPool_2_2[0][0]   \n",
      "__________________________________________________________________________________________________\n",
      "batch_normalization_4 (BatchNor (None, 38, 38, 64)   256         m_input_1_33_MaxPool_2_2[0][0]   \n",
      "__________________________________________________________________________________________________\n",
      "batch_normalization_9 (BatchNor (None, 38, 38, 64)   256         a_input_1_12_MaxPool_2_2[0][0]   \n",
      "__________________________________________________________________________________________________\n",
      "batch_normalization_10 (BatchNo (None, 38, 38, 64)   256         a_input_1_22_MaxPool_2_2[0][0]   \n",
      "__________________________________________________________________________________________________\n",
      "batch_normalization_11 (BatchNo (None, 38, 38, 64)   256         a_input_1_33_MaxPool_2_2[0][0]   \n",
      "__________________________________________________________________________________________________\n",
      "dropout_1 (Dropout)             (None, 38, 38, 64)   0           batch_normalization_2[0][0]      \n",
      "__________________________________________________________________________________________________\n",
      "dropout_2 (Dropout)             (None, 38, 38, 64)   0           batch_normalization_3[0][0]      \n",
      "__________________________________________________________________________________________________\n",
      "dropout_3 (Dropout)             (None, 38, 38, 64)   0           batch_normalization_4[0][0]      \n",
      "__________________________________________________________________________________________________\n",
      "dropout_7 (Dropout)             (None, 38, 38, 64)   0           batch_normalization_9[0][0]      \n",
      "__________________________________________________________________________________________________\n",
      "dropout_8 (Dropout)             (None, 38, 38, 64)   0           batch_normalization_10[0][0]     \n",
      "__________________________________________________________________________________________________\n",
      "dropout_9 (Dropout)             (None, 38, 38, 64)   0           batch_normalization_11[0][0]     \n",
      "__________________________________________________________________________________________________\n",
      "m_input_1__Inception_end (Conca (None, 38, 38, 192)  0           dropout_1[0][0]                  \n",
      "                                                                 dropout_2[0][0]                  \n",
      "                                                                 dropout_3[0][0]                  \n",
      "__________________________________________________________________________________________________\n",
      "a_input_1__Inception_end (Conca (None, 38, 38, 192)  0           dropout_7[0][0]                  \n",
      "                                                                 dropout_8[0][0]                  \n",
      "                                                                 dropout_9[0][0]                  \n",
      "__________________________________________________________________________________________________\n",
      "m_input_2_31_Conv_1_1 (Conv2D)  (None, 38, 38, 64)   12352       m_input_1__Inception_end[0][0]   \n",
      "__________________________________________________________________________________________________\n",
      "a_input_2_31_Conv_1_1 (Conv2D)  (None, 38, 38, 64)   12352       a_input_1__Inception_end[0][0]   \n",
      "__________________________________________________________________________________________________\n",
      "m_input_2_11_Conv_1_1 (Conv2D)  (None, 38, 38, 64)   12352       m_input_1__Inception_end[0][0]   \n",
      "__________________________________________________________________________________________________\n",
      "m_input_2_21_Conv_3_3 (Conv2D)  (None, 38, 38, 64)   110656      m_input_1__Inception_end[0][0]   \n",
      "__________________________________________________________________________________________________\n",
      "m_input_2_32_Conv_5_5 (Conv2D)  (None, 38, 38, 64)   102464      m_input_2_31_Conv_1_1[0][0]      \n",
      "__________________________________________________________________________________________________\n",
      "a_input_2_11_Conv_1_1 (Conv2D)  (None, 38, 38, 64)   12352       a_input_1__Inception_end[0][0]   \n",
      "__________________________________________________________________________________________________\n",
      "a_input_2_21_Conv_3_3 (Conv2D)  (None, 38, 38, 64)   110656      a_input_1__Inception_end[0][0]   \n",
      "__________________________________________________________________________________________________\n",
      "a_input_2_32_Conv_5_5 (Conv2D)  (None, 38, 38, 64)   102464      a_input_2_31_Conv_1_1[0][0]      \n",
      "__________________________________________________________________________________________________\n",
      "m_input_2_12_MaxPool_2_2 (MaxPo (None, 19, 19, 64)   0           m_input_2_11_Conv_1_1[0][0]      \n",
      "__________________________________________________________________________________________________\n",
      "m_input_2_22_MaxPool_2_2 (MaxPo (None, 19, 19, 64)   0           m_input_2_21_Conv_3_3[0][0]      \n",
      "__________________________________________________________________________________________________\n",
      "m_input_2_33_MaxPool_2_2 (MaxPo (None, 19, 19, 64)   0           m_input_2_32_Conv_5_5[0][0]      \n",
      "__________________________________________________________________________________________________\n",
      "a_input_2_12_MaxPool_2_2 (MaxPo (None, 19, 19, 64)   0           a_input_2_11_Conv_1_1[0][0]      \n",
      "__________________________________________________________________________________________________\n",
      "a_input_2_22_MaxPool_2_2 (MaxPo (None, 19, 19, 64)   0           a_input_2_21_Conv_3_3[0][0]      \n",
      "__________________________________________________________________________________________________\n",
      "a_input_2_33_MaxPool_2_2 (MaxPo (None, 19, 19, 64)   0           a_input_2_32_Conv_5_5[0][0]      \n",
      "__________________________________________________________________________________________________\n",
      "batch_normalization_5 (BatchNor (None, 19, 19, 64)   256         m_input_2_12_MaxPool_2_2[0][0]   \n",
      "__________________________________________________________________________________________________\n",
      "batch_normalization_6 (BatchNor (None, 19, 19, 64)   256         m_input_2_22_MaxPool_2_2[0][0]   \n",
      "__________________________________________________________________________________________________\n",
      "batch_normalization_7 (BatchNor (None, 19, 19, 64)   256         m_input_2_33_MaxPool_2_2[0][0]   \n",
      "__________________________________________________________________________________________________\n",
      "batch_normalization_12 (BatchNo (None, 19, 19, 64)   256         a_input_2_12_MaxPool_2_2[0][0]   \n",
      "__________________________________________________________________________________________________\n",
      "batch_normalization_13 (BatchNo (None, 19, 19, 64)   256         a_input_2_22_MaxPool_2_2[0][0]   \n",
      "__________________________________________________________________________________________________\n",
      "batch_normalization_14 (BatchNo (None, 19, 19, 64)   256         a_input_2_33_MaxPool_2_2[0][0]   \n",
      "__________________________________________________________________________________________________\n",
      "dropout_4 (Dropout)             (None, 19, 19, 64)   0           batch_normalization_5[0][0]      \n",
      "__________________________________________________________________________________________________\n",
      "dropout_5 (Dropout)             (None, 19, 19, 64)   0           batch_normalization_6[0][0]      \n",
      "__________________________________________________________________________________________________\n",
      "dropout_6 (Dropout)             (None, 19, 19, 64)   0           batch_normalization_7[0][0]      \n",
      "__________________________________________________________________________________________________\n",
      "dropout_10 (Dropout)            (None, 19, 19, 64)   0           batch_normalization_12[0][0]     \n",
      "__________________________________________________________________________________________________\n",
      "dropout_11 (Dropout)            (None, 19, 19, 64)   0           batch_normalization_13[0][0]     \n",
      "__________________________________________________________________________________________________\n",
      "dropout_12 (Dropout)            (None, 19, 19, 64)   0           batch_normalization_14[0][0]     \n",
      "__________________________________________________________________________________________________\n",
      "m_input_2__Inception_end (Conca (None, 19, 19, 192)  0           dropout_4[0][0]                  \n",
      "                                                                 dropout_5[0][0]                  \n",
      "                                                                 dropout_6[0][0]                  \n",
      "__________________________________________________________________________________________________\n",
      "a_input_2__Inception_end (Conca (None, 19, 19, 192)  0           dropout_10[0][0]                 \n",
      "                                                                 dropout_11[0][0]                 \n",
      "                                                                 dropout_12[0][0]                 \n",
      "__________________________________________________________________________________________________\n",
      "concatenate_1 (Concatenate)     (None, 19, 19, 384)  0           m_input_2__Inception_end[0][0]   \n",
      "                                                                 a_input_2__Inception_end[0][0]   \n",
      "__________________________________________________________________________________________________\n",
      "main_131_Conv_1_1 (Conv2D)      (None, 19, 19, 128)  49280       concatenate_1[0][0]              \n",
      "__________________________________________________________________________________________________\n",
      "main_111_Conv_1_1 (Conv2D)      (None, 19, 19, 128)  49280       concatenate_1[0][0]              \n",
      "__________________________________________________________________________________________________\n",
      "main_121_Conv_3_3 (Conv2D)      (None, 19, 19, 128)  442496      concatenate_1[0][0]              \n",
      "__________________________________________________________________________________________________\n",
      "main_132_Conv_5_5 (Conv2D)      (None, 19, 19, 128)  409728      main_131_Conv_1_1[0][0]          \n",
      "__________________________________________________________________________________________________\n",
      "main_112_MaxPool_2_2 (MaxPoolin (None, 10, 10, 128)  0           main_111_Conv_1_1[0][0]          \n",
      "__________________________________________________________________________________________________\n",
      "main_122_MaxPool_2_2 (MaxPoolin (None, 10, 10, 128)  0           main_121_Conv_3_3[0][0]          \n",
      "__________________________________________________________________________________________________\n",
      "main_133_MaxPool_2_2 (MaxPoolin (None, 10, 10, 128)  0           main_132_Conv_5_5[0][0]          \n",
      "__________________________________________________________________________________________________\n",
      "batch_normalization_15 (BatchNo (None, 10, 10, 128)  512         main_112_MaxPool_2_2[0][0]       \n",
      "__________________________________________________________________________________________________\n",
      "batch_normalization_16 (BatchNo (None, 10, 10, 128)  512         main_122_MaxPool_2_2[0][0]       \n",
      "__________________________________________________________________________________________________\n",
      "batch_normalization_17 (BatchNo (None, 10, 10, 128)  512         main_133_MaxPool_2_2[0][0]       \n",
      "__________________________________________________________________________________________________\n",
      "dropout_13 (Dropout)            (None, 10, 10, 128)  0           batch_normalization_15[0][0]     \n",
      "__________________________________________________________________________________________________\n",
      "dropout_14 (Dropout)            (None, 10, 10, 128)  0           batch_normalization_16[0][0]     \n",
      "__________________________________________________________________________________________________\n",
      "dropout_15 (Dropout)            (None, 10, 10, 128)  0           batch_normalization_17[0][0]     \n",
      "__________________________________________________________________________________________________\n",
      "main_1_Inception_end (Concatena (None, 10, 10, 384)  0           dropout_13[0][0]                 \n",
      "                                                                 dropout_14[0][0]                 \n",
      "                                                                 dropout_15[0][0]                 \n",
      "__________________________________________________________________________________________________\n",
      "main_231_Conv_1_1 (Conv2D)      (None, 10, 10, 256)  98560       main_1_Inception_end[0][0]       \n",
      "__________________________________________________________________________________________________\n",
      "main_211_Conv_1_1 (Conv2D)      (None, 10, 10, 256)  98560       main_1_Inception_end[0][0]       \n",
      "__________________________________________________________________________________________________\n",
      "main_221_Conv_3_3 (Conv2D)      (None, 10, 10, 256)  884992      main_1_Inception_end[0][0]       \n",
      "__________________________________________________________________________________________________\n",
      "main_232_Conv_5_5 (Conv2D)      (None, 10, 10, 256)  1638656     main_231_Conv_1_1[0][0]          \n",
      "__________________________________________________________________________________________________\n",
      "main_212_MaxPool_2_2 (MaxPoolin (None, 5, 5, 256)    0           main_211_Conv_1_1[0][0]          \n",
      "__________________________________________________________________________________________________\n",
      "main_222_MaxPool_2_2 (MaxPoolin (None, 5, 5, 256)    0           main_221_Conv_3_3[0][0]          \n",
      "__________________________________________________________________________________________________\n",
      "main_233_MaxPool_2_2 (MaxPoolin (None, 5, 5, 256)    0           main_232_Conv_5_5[0][0]          \n",
      "__________________________________________________________________________________________________\n",
      "batch_normalization_18 (BatchNo (None, 5, 5, 256)    1024        main_212_MaxPool_2_2[0][0]       \n",
      "__________________________________________________________________________________________________\n",
      "batch_normalization_19 (BatchNo (None, 5, 5, 256)    1024        main_222_MaxPool_2_2[0][0]       \n",
      "__________________________________________________________________________________________________\n",
      "batch_normalization_20 (BatchNo (None, 5, 5, 256)    1024        main_233_MaxPool_2_2[0][0]       \n",
      "__________________________________________________________________________________________________\n",
      "dropout_16 (Dropout)            (None, 5, 5, 256)    0           batch_normalization_18[0][0]     \n",
      "__________________________________________________________________________________________________\n",
      "dropout_17 (Dropout)            (None, 5, 5, 256)    0           batch_normalization_19[0][0]     \n",
      "__________________________________________________________________________________________________\n",
      "dropout_18 (Dropout)            (None, 5, 5, 256)    0           batch_normalization_20[0][0]     \n",
      "__________________________________________________________________________________________________\n",
      "main_2_Inception_end (Concatena (None, 5, 5, 768)    0           dropout_16[0][0]                 \n",
      "                                                                 dropout_17[0][0]                 \n",
      "                                                                 dropout_18[0][0]                 \n",
      "__________________________________________________________________________________________________\n",
      "flatten_1 (Flatten)             (None, 19200)        0           main_2_Inception_end[0][0]       \n",
      "__________________________________________________________________________________________________\n",
      "angle_input (InputLayer)        (None, 1)            0                                            \n",
      "__________________________________________________________________________________________________\n",
      "concatenate_2 (Concatenate)     (None, 19201)        0           flatten_1[0][0]                  \n",
      "                                                                 angle_input[0][0]                \n",
      "__________________________________________________________________________________________________\n",
      "dense_1 (Dense)                 (None, 1025)         19682050    concatenate_2[0][0]              \n",
      "__________________________________________________________________________________________________\n",
      "batch_normalization_21 (BatchNo (None, 1025)         4100        dense_1[0][0]                    \n",
      "__________________________________________________________________________________________________\n",
      "dropout_19 (Dropout)            (None, 1025)         0           batch_normalization_21[0][0]     \n",
      "__________________________________________________________________________________________________\n",
      "dense_2 (Dense)                 (None, 256)          262656      dropout_19[0][0]                 \n",
      "__________________________________________________________________________________________________\n",
      "batch_normalization_22 (BatchNo (None, 256)          1024        dense_2[0][0]                    \n",
      "__________________________________________________________________________________________________\n",
      "dropout_20 (Dropout)            (None, 256)          0           batch_normalization_22[0][0]     \n",
      "__________________________________________________________________________________________________\n",
      "main_output (Dense)             (None, 1)            257         dropout_20[0][0]                 \n",
      "==================================================================================================\n",
      "Total params: 24,313,819\n",
      "Trainable params: 24,307,407\n",
      "Non-trainable params: 6,412\n",
      "__________________________________________________________________________________________________\n"
     ]
    }
   ],
   "source": [
    "model_f.summary()"
   ]
  },
  {
   "cell_type": "code",
   "execution_count": 48,
   "metadata": {
    "scrolled": true
   },
   "outputs": [
    {
     "data": {
      "image/svg+xml": [
       "<svg height=\"2600pt\" viewBox=\"0.00 0.00 2096.00 2600.00\" width=\"2096pt\" xmlns=\"http://www.w3.org/2000/svg\" xmlns:xlink=\"http://www.w3.org/1999/xlink\">\n",
       "<g class=\"graph\" id=\"graph0\" transform=\"scale(1 1) rotate(0) translate(4 2596)\">\n",
       "<title>G</title>\n",
       "<polygon fill=\"white\" points=\"-4,4 -4,-2596 2092,-2596 2092,4 -4,4\" stroke=\"none\"/>\n",
       "<!-- 139746533187712 -->\n",
       "<g class=\"node\" id=\"node1\"><title>139746533187712</title>\n",
       "<polygon fill=\"none\" points=\"421.5,-2555.5 421.5,-2591.5 607.5,-2591.5 607.5,-2555.5 421.5,-2555.5\" stroke=\"black\"/>\n",
       "<text font-family=\"Times,serif\" font-size=\"14.00\" text-anchor=\"middle\" x=\"514.5\" y=\"-2569.8\">main_input: InputLayer</text>\n",
       "</g>\n",
       "<!-- 139746533022688 -->\n",
       "<g class=\"node\" id=\"node3\"><title>139746533022688</title>\n",
       "<polygon fill=\"none\" points=\"348.5,-2482.5 348.5,-2518.5 680.5,-2518.5 680.5,-2482.5 348.5,-2482.5\" stroke=\"black\"/>\n",
       "<text font-family=\"Times,serif\" font-size=\"14.00\" text-anchor=\"middle\" x=\"514.5\" y=\"-2496.8\">batch_normalization_1: BatchNormalization</text>\n",
       "</g>\n",
       "<!-- 139746533187712&#45;&gt;139746533022688 -->\n",
       "<g class=\"edge\" id=\"edge1\"><title>139746533187712-&gt;139746533022688</title>\n",
       "<path d=\"M514.5,-2555.31C514.5,-2547.29 514.5,-2537.55 514.5,-2528.57\" fill=\"none\" stroke=\"black\"/>\n",
       "<polygon fill=\"black\" points=\"518,-2528.53 514.5,-2518.53 511,-2528.53 518,-2528.53\" stroke=\"black\"/>\n",
       "</g>\n",
       "<!-- 139746533191240 -->\n",
       "<g class=\"node\" id=\"node2\"><title>139746533191240</title>\n",
       "<polygon fill=\"none\" points=\"1467.5,-2555.5 1467.5,-2591.5 1643.5,-2591.5 1643.5,-2555.5 1467.5,-2555.5\" stroke=\"black\"/>\n",
       "<text font-family=\"Times,serif\" font-size=\"14.00\" text-anchor=\"middle\" x=\"1555.5\" y=\"-2569.8\">aux_input: InputLayer</text>\n",
       "</g>\n",
       "<!-- 139746826616448 -->\n",
       "<g class=\"node\" id=\"node4\"><title>139746826616448</title>\n",
       "<polygon fill=\"none\" points=\"1389.5,-2482.5 1389.5,-2518.5 1721.5,-2518.5 1721.5,-2482.5 1389.5,-2482.5\" stroke=\"black\"/>\n",
       "<text font-family=\"Times,serif\" font-size=\"14.00\" text-anchor=\"middle\" x=\"1555.5\" y=\"-2496.8\">batch_normalization_8: BatchNormalization</text>\n",
       "</g>\n",
       "<!-- 139746533191240&#45;&gt;139746826616448 -->\n",
       "<g class=\"edge\" id=\"edge2\"><title>139746533191240-&gt;139746826616448</title>\n",
       "<path d=\"M1555.5,-2555.31C1555.5,-2547.29 1555.5,-2537.55 1555.5,-2528.57\" fill=\"none\" stroke=\"black\"/>\n",
       "<polygon fill=\"black\" points=\"1559,-2528.53 1555.5,-2518.53 1552,-2528.53 1559,-2528.53\" stroke=\"black\"/>\n",
       "</g>\n",
       "<!-- 139746823092264 -->\n",
       "<g class=\"node\" id=\"node5\"><title>139746823092264</title>\n",
       "<polygon fill=\"none\" points=\"71.5,-2409.5 71.5,-2445.5 331.5,-2445.5 331.5,-2409.5 71.5,-2409.5\" stroke=\"black\"/>\n",
       "<text font-family=\"Times,serif\" font-size=\"14.00\" text-anchor=\"middle\" x=\"201.5\" y=\"-2423.8\">m_input_1_31_Conv_1_1: Conv2D</text>\n",
       "</g>\n",
       "<!-- 139746533022688&#45;&gt;139746823092264 -->\n",
       "<g class=\"edge\" id=\"edge3\"><title>139746533022688-&gt;139746823092264</title>\n",
       "<path d=\"M439.529,-2482.49C393.518,-2472.06 334.464,-2458.66 286.688,-2447.82\" fill=\"none\" stroke=\"black\"/>\n",
       "<polygon fill=\"black\" points=\"287.199,-2444.35 276.673,-2445.55 285.651,-2451.18 287.199,-2444.35\" stroke=\"black\"/>\n",
       "</g>\n",
       "<!-- 139746533019776 -->\n",
       "<g class=\"node\" id=\"node7\"><title>139746533019776</title>\n",
       "<polygon fill=\"none\" points=\"384.5,-2409.5 384.5,-2445.5 644.5,-2445.5 644.5,-2409.5 384.5,-2409.5\" stroke=\"black\"/>\n",
       "<text font-family=\"Times,serif\" font-size=\"14.00\" text-anchor=\"middle\" x=\"514.5\" y=\"-2423.8\">m_input_1_11_Conv_1_1: Conv2D</text>\n",
       "</g>\n",
       "<!-- 139746533022688&#45;&gt;139746533019776 -->\n",
       "<g class=\"edge\" id=\"edge5\"><title>139746533022688-&gt;139746533019776</title>\n",
       "<path d=\"M514.5,-2482.31C514.5,-2474.29 514.5,-2464.55 514.5,-2455.57\" fill=\"none\" stroke=\"black\"/>\n",
       "<polygon fill=\"black\" points=\"518,-2455.53 514.5,-2445.53 511,-2455.53 518,-2455.53\" stroke=\"black\"/>\n",
       "</g>\n",
       "<!-- 139746531204232 -->\n",
       "<g class=\"node\" id=\"node8\"><title>139746531204232</title>\n",
       "<polygon fill=\"none\" points=\"680.5,-2409.5 680.5,-2445.5 940.5,-2445.5 940.5,-2409.5 680.5,-2409.5\" stroke=\"black\"/>\n",
       "<text font-family=\"Times,serif\" font-size=\"14.00\" text-anchor=\"middle\" x=\"810.5\" y=\"-2423.8\">m_input_1_21_Conv_3_3: Conv2D</text>\n",
       "</g>\n",
       "<!-- 139746533022688&#45;&gt;139746531204232 -->\n",
       "<g class=\"edge\" id=\"edge6\"><title>139746533022688-&gt;139746531204232</title>\n",
       "<path d=\"M585.399,-2482.49C628.82,-2472.08 684.524,-2458.72 729.655,-2447.89\" fill=\"none\" stroke=\"black\"/>\n",
       "<polygon fill=\"black\" points=\"730.502,-2451.29 739.41,-2445.55 728.87,-2444.48 730.502,-2451.29\" stroke=\"black\"/>\n",
       "</g>\n",
       "<!-- 139745604280160 -->\n",
       "<g class=\"node\" id=\"node6\"><title>139745604280160</title>\n",
       "<polygon fill=\"none\" points=\"1196,-2409.5 1196,-2445.5 1451,-2445.5 1451,-2409.5 1196,-2409.5\" stroke=\"black\"/>\n",
       "<text font-family=\"Times,serif\" font-size=\"14.00\" text-anchor=\"middle\" x=\"1323.5\" y=\"-2423.8\">a_input_1_31_Conv_1_1: Conv2D</text>\n",
       "</g>\n",
       "<!-- 139746826616448&#45;&gt;139745604280160 -->\n",
       "<g class=\"edge\" id=\"edge4\"><title>139746826616448-&gt;139745604280160</title>\n",
       "<path d=\"M1499.93,-2482.49C1466.6,-2472.29 1424.04,-2459.27 1389.07,-2448.57\" fill=\"none\" stroke=\"black\"/>\n",
       "<polygon fill=\"black\" points=\"1390.01,-2445.19 1379.42,-2445.61 1387.96,-2451.89 1390.01,-2445.19\" stroke=\"black\"/>\n",
       "</g>\n",
       "<!-- 139746007883280 -->\n",
       "<g class=\"node\" id=\"node10\"><title>139746007883280</title>\n",
       "<polygon fill=\"none\" points=\"1428,-2336.5 1428,-2372.5 1683,-2372.5 1683,-2336.5 1428,-2336.5\" stroke=\"black\"/>\n",
       "<text font-family=\"Times,serif\" font-size=\"14.00\" text-anchor=\"middle\" x=\"1555.5\" y=\"-2350.8\">a_input_1_11_Conv_1_1: Conv2D</text>\n",
       "</g>\n",
       "<!-- 139746826616448&#45;&gt;139746007883280 -->\n",
       "<g class=\"edge\" id=\"edge8\"><title>139746826616448-&gt;139746007883280</title>\n",
       "<path d=\"M1555.5,-2482.42C1555.5,-2457.84 1555.5,-2412.25 1555.5,-2382.93\" fill=\"none\" stroke=\"black\"/>\n",
       "<polygon fill=\"black\" points=\"1559,-2382.56 1555.5,-2372.56 1552,-2382.56 1559,-2382.56\" stroke=\"black\"/>\n",
       "</g>\n",
       "<!-- 139745557939536 -->\n",
       "<g class=\"node\" id=\"node11\"><title>139745557939536</title>\n",
       "<polygon fill=\"none\" points=\"1671,-2409.5 1671,-2445.5 1926,-2445.5 1926,-2409.5 1671,-2409.5\" stroke=\"black\"/>\n",
       "<text font-family=\"Times,serif\" font-size=\"14.00\" text-anchor=\"middle\" x=\"1798.5\" y=\"-2423.8\">a_input_1_21_Conv_3_3: Conv2D</text>\n",
       "</g>\n",
       "<!-- 139746826616448&#45;&gt;139745557939536 -->\n",
       "<g class=\"edge\" id=\"edge9\"><title>139746826616448-&gt;139745557939536</title>\n",
       "<path d=\"M1613.7,-2482.49C1648.76,-2472.25 1693.58,-2459.16 1730.29,-2448.43\" fill=\"none\" stroke=\"black\"/>\n",
       "<polygon fill=\"black\" points=\"1731.31,-2451.78 1739.93,-2445.61 1729.35,-2445.06 1731.31,-2451.78\" stroke=\"black\"/>\n",
       "</g>\n",
       "<!-- 139746822939984 -->\n",
       "<g class=\"node\" id=\"node9\"><title>139746822939984</title>\n",
       "<polygon fill=\"none\" points=\"53.5,-2336.5 53.5,-2372.5 313.5,-2372.5 313.5,-2336.5 53.5,-2336.5\" stroke=\"black\"/>\n",
       "<text font-family=\"Times,serif\" font-size=\"14.00\" text-anchor=\"middle\" x=\"183.5\" y=\"-2350.8\">m_input_1_32_Conv_5_5: Conv2D</text>\n",
       "</g>\n",
       "<!-- 139746823092264&#45;&gt;139746822939984 -->\n",
       "<g class=\"edge\" id=\"edge7\"><title>139746823092264-&gt;139746822939984</title>\n",
       "<path d=\"M197.143,-2409.31C195.086,-2401.2 192.585,-2391.34 190.288,-2382.28\" fill=\"none\" stroke=\"black\"/>\n",
       "<polygon fill=\"black\" points=\"193.667,-2381.36 187.817,-2372.53 186.882,-2383.08 193.667,-2381.36\" stroke=\"black\"/>\n",
       "</g>\n",
       "<!-- 139745688773856 -->\n",
       "<g class=\"node\" id=\"node12\"><title>139745688773856</title>\n",
       "<polygon fill=\"none\" points=\"1120,-2336.5 1120,-2372.5 1375,-2372.5 1375,-2336.5 1120,-2336.5\" stroke=\"black\"/>\n",
       "<text font-family=\"Times,serif\" font-size=\"14.00\" text-anchor=\"middle\" x=\"1247.5\" y=\"-2350.8\">a_input_1_32_Conv_5_5: Conv2D</text>\n",
       "</g>\n",
       "<!-- 139745604280160&#45;&gt;139745688773856 -->\n",
       "<g class=\"edge\" id=\"edge10\"><title>139745604280160-&gt;139745688773856</title>\n",
       "<path d=\"M1305.1,-2409.31C1295.49,-2400.33 1283.57,-2389.19 1273.07,-2379.39\" fill=\"none\" stroke=\"black\"/>\n",
       "<polygon fill=\"black\" points=\"1275.42,-2376.8 1265.73,-2372.53 1270.65,-2381.91 1275.42,-2376.8\" stroke=\"black\"/>\n",
       "</g>\n",
       "<!-- 139746533022128 -->\n",
       "<g class=\"node\" id=\"node13\"><title>139746533022128</title>\n",
       "<polygon fill=\"none\" points=\"349,-2263.5 349,-2299.5 680,-2299.5 680,-2263.5 349,-2263.5\" stroke=\"black\"/>\n",
       "<text font-family=\"Times,serif\" font-size=\"14.00\" text-anchor=\"middle\" x=\"514.5\" y=\"-2277.8\">m_input_1_12_MaxPool_2_2: MaxPooling2D</text>\n",
       "</g>\n",
       "<!-- 139746533019776&#45;&gt;139746533022128 -->\n",
       "<g class=\"edge\" id=\"edge11\"><title>139746533019776-&gt;139746533022128</title>\n",
       "<path d=\"M514.5,-2409.42C514.5,-2384.84 514.5,-2339.25 514.5,-2309.93\" fill=\"none\" stroke=\"black\"/>\n",
       "<polygon fill=\"black\" points=\"518,-2309.56 514.5,-2299.56 511,-2309.56 518,-2309.56\" stroke=\"black\"/>\n",
       "</g>\n",
       "<!-- 139746530457808 -->\n",
       "<g class=\"node\" id=\"node14\"><title>139746530457808</title>\n",
       "<polygon fill=\"none\" points=\"681,-2336.5 681,-2372.5 1012,-2372.5 1012,-2336.5 681,-2336.5\" stroke=\"black\"/>\n",
       "<text font-family=\"Times,serif\" font-size=\"14.00\" text-anchor=\"middle\" x=\"846.5\" y=\"-2350.8\">m_input_1_22_MaxPool_2_2: MaxPooling2D</text>\n",
       "</g>\n",
       "<!-- 139746531204232&#45;&gt;139746530457808 -->\n",
       "<g class=\"edge\" id=\"edge12\"><title>139746531204232-&gt;139746530457808</title>\n",
       "<path d=\"M819.215,-2409.31C823.415,-2401.03 828.545,-2390.91 833.219,-2381.69\" fill=\"none\" stroke=\"black\"/>\n",
       "<polygon fill=\"black\" points=\"836.465,-2383.03 837.866,-2372.53 830.222,-2379.87 836.465,-2383.03\" stroke=\"black\"/>\n",
       "</g>\n",
       "<!-- 139746826290624 -->\n",
       "<g class=\"node\" id=\"node15\"><title>139746826290624</title>\n",
       "<polygon fill=\"none\" points=\"0,-2263.5 0,-2299.5 331,-2299.5 331,-2263.5 0,-2263.5\" stroke=\"black\"/>\n",
       "<text font-family=\"Times,serif\" font-size=\"14.00\" text-anchor=\"middle\" x=\"165.5\" y=\"-2277.8\">m_input_1_33_MaxPool_2_2: MaxPooling2D</text>\n",
       "</g>\n",
       "<!-- 139746822939984&#45;&gt;139746826290624 -->\n",
       "<g class=\"edge\" id=\"edge13\"><title>139746822939984-&gt;139746826290624</title>\n",
       "<path d=\"M179.143,-2336.31C177.086,-2328.2 174.585,-2318.34 172.288,-2309.28\" fill=\"none\" stroke=\"black\"/>\n",
       "<polygon fill=\"black\" points=\"175.667,-2308.36 169.817,-2299.53 168.882,-2310.08 175.667,-2308.36\" stroke=\"black\"/>\n",
       "</g>\n",
       "<!-- 139745518882376 -->\n",
       "<g class=\"node\" id=\"node16\"><title>139745518882376</title>\n",
       "<polygon fill=\"none\" points=\"1392.5,-2263.5 1392.5,-2299.5 1718.5,-2299.5 1718.5,-2263.5 1392.5,-2263.5\" stroke=\"black\"/>\n",
       "<text font-family=\"Times,serif\" font-size=\"14.00\" text-anchor=\"middle\" x=\"1555.5\" y=\"-2277.8\">a_input_1_12_MaxPool_2_2: MaxPooling2D</text>\n",
       "</g>\n",
       "<!-- 139746007883280&#45;&gt;139745518882376 -->\n",
       "<g class=\"edge\" id=\"edge14\"><title>139746007883280-&gt;139745518882376</title>\n",
       "<path d=\"M1555.5,-2336.31C1555.5,-2328.29 1555.5,-2318.55 1555.5,-2309.57\" fill=\"none\" stroke=\"black\"/>\n",
       "<polygon fill=\"black\" points=\"1559,-2309.53 1555.5,-2299.53 1552,-2309.53 1559,-2309.53\" stroke=\"black\"/>\n",
       "</g>\n",
       "<!-- 139748041445272 -->\n",
       "<g class=\"node\" id=\"node17\"><title>139748041445272</title>\n",
       "<polygon fill=\"none\" points=\"1722.5,-2336.5 1722.5,-2372.5 2048.5,-2372.5 2048.5,-2336.5 1722.5,-2336.5\" stroke=\"black\"/>\n",
       "<text font-family=\"Times,serif\" font-size=\"14.00\" text-anchor=\"middle\" x=\"1885.5\" y=\"-2350.8\">a_input_1_22_MaxPool_2_2: MaxPooling2D</text>\n",
       "</g>\n",
       "<!-- 139745557939536&#45;&gt;139748041445272 -->\n",
       "<g class=\"edge\" id=\"edge15\"><title>139745557939536-&gt;139748041445272</title>\n",
       "<path d=\"M1819.56,-2409.31C1830.67,-2400.24 1844.48,-2388.98 1856.58,-2379.1\" fill=\"none\" stroke=\"black\"/>\n",
       "<polygon fill=\"black\" points=\"1859.1,-2381.56 1864.63,-2372.53 1854.67,-2376.14 1859.1,-2381.56\" stroke=\"black\"/>\n",
       "</g>\n",
       "<!-- 139746533285560 -->\n",
       "<g class=\"node\" id=\"node18\"><title>139746533285560</title>\n",
       "<polygon fill=\"none\" points=\"1048.5,-2263.5 1048.5,-2299.5 1374.5,-2299.5 1374.5,-2263.5 1048.5,-2263.5\" stroke=\"black\"/>\n",
       "<text font-family=\"Times,serif\" font-size=\"14.00\" text-anchor=\"middle\" x=\"1211.5\" y=\"-2277.8\">a_input_1_33_MaxPool_2_2: MaxPooling2D</text>\n",
       "</g>\n",
       "<!-- 139745688773856&#45;&gt;139746533285560 -->\n",
       "<g class=\"edge\" id=\"edge16\"><title>139745688773856-&gt;139746533285560</title>\n",
       "<path d=\"M1238.79,-2336.31C1234.58,-2328.03 1229.45,-2317.91 1224.78,-2308.69\" fill=\"none\" stroke=\"black\"/>\n",
       "<polygon fill=\"black\" points=\"1227.78,-2306.87 1220.13,-2299.53 1221.54,-2310.03 1227.78,-2306.87\" stroke=\"black\"/>\n",
       "</g>\n",
       "<!-- 139746825308592 -->\n",
       "<g class=\"node\" id=\"node19\"><title>139746825308592</title>\n",
       "<polygon fill=\"none\" points=\"356.5,-2190.5 356.5,-2226.5 688.5,-2226.5 688.5,-2190.5 356.5,-2190.5\" stroke=\"black\"/>\n",
       "<text font-family=\"Times,serif\" font-size=\"14.00\" text-anchor=\"middle\" x=\"522.5\" y=\"-2204.8\">batch_normalization_2: BatchNormalization</text>\n",
       "</g>\n",
       "<!-- 139746533022128&#45;&gt;139746825308592 -->\n",
       "<g class=\"edge\" id=\"edge17\"><title>139746533022128-&gt;139746825308592</title>\n",
       "<path d=\"M516.437,-2263.31C517.341,-2255.29 518.438,-2245.55 519.45,-2236.57\" fill=\"none\" stroke=\"black\"/>\n",
       "<polygon fill=\"black\" points=\"522.939,-2236.86 520.581,-2226.53 515.984,-2236.07 522.939,-2236.86\" stroke=\"black\"/>\n",
       "</g>\n",
       "<!-- 139746823129128 -->\n",
       "<g class=\"node\" id=\"node20\"><title>139746823129128</title>\n",
       "<polygon fill=\"none\" points=\"698.5,-2263.5 698.5,-2299.5 1030.5,-2299.5 1030.5,-2263.5 698.5,-2263.5\" stroke=\"black\"/>\n",
       "<text font-family=\"Times,serif\" font-size=\"14.00\" text-anchor=\"middle\" x=\"864.5\" y=\"-2277.8\">batch_normalization_3: BatchNormalization</text>\n",
       "</g>\n",
       "<!-- 139746530457808&#45;&gt;139746823129128 -->\n",
       "<g class=\"edge\" id=\"edge18\"><title>139746530457808-&gt;139746823129128</title>\n",
       "<path d=\"M850.857,-2336.31C852.914,-2328.2 855.415,-2318.34 857.712,-2309.28\" fill=\"none\" stroke=\"black\"/>\n",
       "<polygon fill=\"black\" points=\"861.118,-2310.08 860.183,-2299.53 854.333,-2308.36 861.118,-2310.08\" stroke=\"black\"/>\n",
       "</g>\n",
       "<!-- 139746826049408 -->\n",
       "<g class=\"node\" id=\"node21\"><title>139746826049408</title>\n",
       "<polygon fill=\"none\" points=\"4.5,-2190.5 4.5,-2226.5 336.5,-2226.5 336.5,-2190.5 4.5,-2190.5\" stroke=\"black\"/>\n",
       "<text font-family=\"Times,serif\" font-size=\"14.00\" text-anchor=\"middle\" x=\"170.5\" y=\"-2204.8\">batch_normalization_4: BatchNormalization</text>\n",
       "</g>\n",
       "<!-- 139746826290624&#45;&gt;139746826049408 -->\n",
       "<g class=\"edge\" id=\"edge19\"><title>139746826290624-&gt;139746826049408</title>\n",
       "<path d=\"M166.71,-2263.31C167.275,-2255.29 167.961,-2245.55 168.594,-2236.57\" fill=\"none\" stroke=\"black\"/>\n",
       "<polygon fill=\"black\" points=\"172.09,-2236.75 169.301,-2226.53 165.107,-2236.26 172.09,-2236.75\" stroke=\"black\"/>\n",
       "</g>\n",
       "<!-- 139745538532408 -->\n",
       "<g class=\"node\" id=\"node22\"><title>139745538532408</title>\n",
       "<polygon fill=\"none\" points=\"1399.5,-2190.5 1399.5,-2226.5 1731.5,-2226.5 1731.5,-2190.5 1399.5,-2190.5\" stroke=\"black\"/>\n",
       "<text font-family=\"Times,serif\" font-size=\"14.00\" text-anchor=\"middle\" x=\"1565.5\" y=\"-2204.8\">batch_normalization_9: BatchNormalization</text>\n",
       "</g>\n",
       "<!-- 139745518882376&#45;&gt;139745538532408 -->\n",
       "<g class=\"edge\" id=\"edge20\"><title>139745518882376-&gt;139745538532408</title>\n",
       "<path d=\"M1557.92,-2263.31C1559.05,-2255.29 1560.42,-2245.55 1561.69,-2236.57\" fill=\"none\" stroke=\"black\"/>\n",
       "<polygon fill=\"black\" points=\"1565.17,-2236.92 1563.1,-2226.53 1558.24,-2235.94 1565.17,-2236.92\" stroke=\"black\"/>\n",
       "</g>\n",
       "<!-- 139746461837576 -->\n",
       "<g class=\"node\" id=\"node23\"><title>139746461837576</title>\n",
       "<polygon fill=\"none\" points=\"1737,-2263.5 1737,-2299.5 2078,-2299.5 2078,-2263.5 1737,-2263.5\" stroke=\"black\"/>\n",
       "<text font-family=\"Times,serif\" font-size=\"14.00\" text-anchor=\"middle\" x=\"1907.5\" y=\"-2277.8\">batch_normalization_10: BatchNormalization</text>\n",
       "</g>\n",
       "<!-- 139748041445272&#45;&gt;139746461837576 -->\n",
       "<g class=\"edge\" id=\"edge21\"><title>139748041445272-&gt;139746461837576</title>\n",
       "<path d=\"M1890.83,-2336.31C1893.34,-2328.2 1896.4,-2318.34 1899.2,-2309.28\" fill=\"none\" stroke=\"black\"/>\n",
       "<polygon fill=\"black\" points=\"1902.61,-2310.12 1902.22,-2299.53 1895.92,-2308.04 1902.61,-2310.12\" stroke=\"black\"/>\n",
       "</g>\n",
       "<!-- 139747201096280 -->\n",
       "<g class=\"node\" id=\"node24\"><title>139747201096280</title>\n",
       "<polygon fill=\"none\" points=\"1040,-2190.5 1040,-2226.5 1381,-2226.5 1381,-2190.5 1040,-2190.5\" stroke=\"black\"/>\n",
       "<text font-family=\"Times,serif\" font-size=\"14.00\" text-anchor=\"middle\" x=\"1210.5\" y=\"-2204.8\">batch_normalization_11: BatchNormalization</text>\n",
       "</g>\n",
       "<!-- 139746533285560&#45;&gt;139747201096280 -->\n",
       "<g class=\"edge\" id=\"edge22\"><title>139746533285560-&gt;139747201096280</title>\n",
       "<path d=\"M1211.26,-2263.31C1211.14,-2255.29 1211.01,-2245.55 1210.88,-2236.57\" fill=\"none\" stroke=\"black\"/>\n",
       "<polygon fill=\"black\" points=\"1214.38,-2236.48 1210.74,-2226.53 1207.38,-2236.58 1214.38,-2236.48\" stroke=\"black\"/>\n",
       "</g>\n",
       "<!-- 139746825310104 -->\n",
       "<g class=\"node\" id=\"node25\"><title>139746825310104</title>\n",
       "<polygon fill=\"none\" points=\"445,-2117.5 445,-2153.5 602,-2153.5 602,-2117.5 445,-2117.5\" stroke=\"black\"/>\n",
       "<text font-family=\"Times,serif\" font-size=\"14.00\" text-anchor=\"middle\" x=\"523.5\" y=\"-2131.8\">dropout_1: Dropout</text>\n",
       "</g>\n",
       "<!-- 139746825308592&#45;&gt;139746825310104 -->\n",
       "<g class=\"edge\" id=\"edge23\"><title>139746825308592-&gt;139746825310104</title>\n",
       "<path d=\"M522.742,-2190.31C522.855,-2182.29 522.992,-2172.55 523.119,-2163.57\" fill=\"none\" stroke=\"black\"/>\n",
       "<polygon fill=\"black\" points=\"526.619,-2163.58 523.26,-2153.53 519.62,-2163.48 526.619,-2163.58\" stroke=\"black\"/>\n",
       "</g>\n",
       "<!-- 139746823130864 -->\n",
       "<g class=\"node\" id=\"node26\"><title>139746823130864</title>\n",
       "<polygon fill=\"none\" points=\"747,-2190.5 747,-2226.5 904,-2226.5 904,-2190.5 747,-2190.5\" stroke=\"black\"/>\n",
       "<text font-family=\"Times,serif\" font-size=\"14.00\" text-anchor=\"middle\" x=\"825.5\" y=\"-2204.8\">dropout_2: Dropout</text>\n",
       "</g>\n",
       "<!-- 139746823129128&#45;&gt;139746823130864 -->\n",
       "<g class=\"edge\" id=\"edge24\"><title>139746823129128-&gt;139746823130864</title>\n",
       "<path d=\"M855.059,-2263.31C850.46,-2254.94 844.834,-2244.7 839.728,-2235.4\" fill=\"none\" stroke=\"black\"/>\n",
       "<polygon fill=\"black\" points=\"842.736,-2233.61 834.854,-2226.53 836.601,-2236.98 842.736,-2233.61\" stroke=\"black\"/>\n",
       "</g>\n",
       "<!-- 139746826049520 -->\n",
       "<g class=\"node\" id=\"node27\"><title>139746826049520</title>\n",
       "<polygon fill=\"none\" points=\"182,-2117.5 182,-2153.5 339,-2153.5 339,-2117.5 182,-2117.5\" stroke=\"black\"/>\n",
       "<text font-family=\"Times,serif\" font-size=\"14.00\" text-anchor=\"middle\" x=\"260.5\" y=\"-2131.8\">dropout_3: Dropout</text>\n",
       "</g>\n",
       "<!-- 139746826049408&#45;&gt;139746826049520 -->\n",
       "<g class=\"edge\" id=\"edge25\"><title>139746826049408-&gt;139746826049520</title>\n",
       "<path d=\"M192.286,-2190.31C203.894,-2181.16 218.339,-2169.76 230.945,-2159.82\" fill=\"none\" stroke=\"black\"/>\n",
       "<polygon fill=\"black\" points=\"233.231,-2162.47 238.914,-2153.53 228.895,-2156.97 233.231,-2162.47\" stroke=\"black\"/>\n",
       "</g>\n",
       "<!-- 139745538533920 -->\n",
       "<g class=\"node\" id=\"node28\"><title>139745538533920</title>\n",
       "<polygon fill=\"none\" points=\"1487,-2117.5 1487,-2153.5 1644,-2153.5 1644,-2117.5 1487,-2117.5\" stroke=\"black\"/>\n",
       "<text font-family=\"Times,serif\" font-size=\"14.00\" text-anchor=\"middle\" x=\"1565.5\" y=\"-2131.8\">dropout_7: Dropout</text>\n",
       "</g>\n",
       "<!-- 139745538532408&#45;&gt;139745538533920 -->\n",
       "<g class=\"edge\" id=\"edge26\"><title>139745538532408-&gt;139745538533920</title>\n",
       "<path d=\"M1565.5,-2190.31C1565.5,-2182.29 1565.5,-2172.55 1565.5,-2163.57\" fill=\"none\" stroke=\"black\"/>\n",
       "<polygon fill=\"black\" points=\"1569,-2163.53 1565.5,-2153.53 1562,-2163.53 1569,-2163.53\" stroke=\"black\"/>\n",
       "</g>\n",
       "<!-- 139746461837184 -->\n",
       "<g class=\"node\" id=\"node29\"><title>139746461837184</title>\n",
       "<polygon fill=\"none\" points=\"1708,-2117.5 1708,-2153.5 1865,-2153.5 1865,-2117.5 1708,-2117.5\" stroke=\"black\"/>\n",
       "<text font-family=\"Times,serif\" font-size=\"14.00\" text-anchor=\"middle\" x=\"1786.5\" y=\"-2131.8\">dropout_8: Dropout</text>\n",
       "</g>\n",
       "<!-- 139746461837576&#45;&gt;139746461837184 -->\n",
       "<g class=\"edge\" id=\"edge27\"><title>139746461837576-&gt;139746461837184</title>\n",
       "<path d=\"M1893.14,-2263.42C1871.86,-2238.08 1831.81,-2190.42 1807.31,-2161.26\" fill=\"none\" stroke=\"black\"/>\n",
       "<polygon fill=\"black\" points=\"1809.95,-2158.97 1800.84,-2153.56 1804.59,-2163.47 1809.95,-2158.97\" stroke=\"black\"/>\n",
       "</g>\n",
       "<!-- 139747201096000 -->\n",
       "<g class=\"node\" id=\"node30\"><title>139747201096000</title>\n",
       "<polygon fill=\"none\" points=\"1222,-2117.5 1222,-2153.5 1379,-2153.5 1379,-2117.5 1222,-2117.5\" stroke=\"black\"/>\n",
       "<text font-family=\"Times,serif\" font-size=\"14.00\" text-anchor=\"middle\" x=\"1300.5\" y=\"-2131.8\">dropout_9: Dropout</text>\n",
       "</g>\n",
       "<!-- 139747201096280&#45;&gt;139747201096000 -->\n",
       "<g class=\"edge\" id=\"edge28\"><title>139747201096280-&gt;139747201096000</title>\n",
       "<path d=\"M1232.29,-2190.31C1243.89,-2181.16 1258.34,-2169.76 1270.94,-2159.82\" fill=\"none\" stroke=\"black\"/>\n",
       "<polygon fill=\"black\" points=\"1273.23,-2162.47 1278.91,-2153.53 1268.9,-2156.97 1273.23,-2162.47\" stroke=\"black\"/>\n",
       "</g>\n",
       "<!-- 139746007706760 -->\n",
       "<g class=\"node\" id=\"node31\"><title>139746007706760</title>\n",
       "<polygon fill=\"none\" points=\"369.5,-2044.5 369.5,-2080.5 677.5,-2080.5 677.5,-2044.5 369.5,-2044.5\" stroke=\"black\"/>\n",
       "<text font-family=\"Times,serif\" font-size=\"14.00\" text-anchor=\"middle\" x=\"523.5\" y=\"-2058.8\">m_input_1__Inception_end: Concatenate</text>\n",
       "</g>\n",
       "<!-- 139746825310104&#45;&gt;139746007706760 -->\n",
       "<g class=\"edge\" id=\"edge29\"><title>139746825310104-&gt;139746007706760</title>\n",
       "<path d=\"M523.5,-2117.31C523.5,-2109.29 523.5,-2099.55 523.5,-2090.57\" fill=\"none\" stroke=\"black\"/>\n",
       "<polygon fill=\"black\" points=\"527,-2090.53 523.5,-2080.53 520,-2090.53 527,-2090.53\" stroke=\"black\"/>\n",
       "</g>\n",
       "<!-- 139746823130864&#45;&gt;139746007706760 -->\n",
       "<g class=\"edge\" id=\"edge30\"><title>139746823130864-&gt;139746007706760</title>\n",
       "<path d=\"M789.671,-2190.42C734.5,-2164.11 628.826,-2113.72 568.552,-2084.98\" fill=\"none\" stroke=\"black\"/>\n",
       "<polygon fill=\"black\" points=\"569.815,-2081.71 559.283,-2080.56 566.803,-2088.03 569.815,-2081.71\" stroke=\"black\"/>\n",
       "</g>\n",
       "<!-- 139746826049520&#45;&gt;139746007706760 -->\n",
       "<g class=\"edge\" id=\"edge31\"><title>139746826049520-&gt;139746007706760</title>\n",
       "<path d=\"M323.495,-2117.49C361.681,-2107.18 410.56,-2093.99 450.438,-2083.22\" fill=\"none\" stroke=\"black\"/>\n",
       "<polygon fill=\"black\" points=\"451.365,-2086.6 460.107,-2080.61 449.541,-2079.84 451.365,-2086.6\" stroke=\"black\"/>\n",
       "</g>\n",
       "<!-- 139746531518896 -->\n",
       "<g class=\"node\" id=\"node32\"><title>139746531518896</title>\n",
       "<polygon fill=\"none\" points=\"1414,-2044.5 1414,-2080.5 1717,-2080.5 1717,-2044.5 1414,-2044.5\" stroke=\"black\"/>\n",
       "<text font-family=\"Times,serif\" font-size=\"14.00\" text-anchor=\"middle\" x=\"1565.5\" y=\"-2058.8\">a_input_1__Inception_end: Concatenate</text>\n",
       "</g>\n",
       "<!-- 139745538533920&#45;&gt;139746531518896 -->\n",
       "<g class=\"edge\" id=\"edge32\"><title>139745538533920-&gt;139746531518896</title>\n",
       "<path d=\"M1565.5,-2117.31C1565.5,-2109.29 1565.5,-2099.55 1565.5,-2090.57\" fill=\"none\" stroke=\"black\"/>\n",
       "<polygon fill=\"black\" points=\"1569,-2090.53 1565.5,-2080.53 1562,-2090.53 1569,-2090.53\" stroke=\"black\"/>\n",
       "</g>\n",
       "<!-- 139746461837184&#45;&gt;139746531518896 -->\n",
       "<g class=\"edge\" id=\"edge33\"><title>139746461837184-&gt;139746531518896</title>\n",
       "<path d=\"M1733.56,-2117.49C1701.95,-2107.34 1661.62,-2094.38 1628.39,-2083.7\" fill=\"none\" stroke=\"black\"/>\n",
       "<polygon fill=\"black\" points=\"1629.36,-2080.34 1618.77,-2080.61 1627.22,-2087 1629.36,-2080.34\" stroke=\"black\"/>\n",
       "</g>\n",
       "<!-- 139747201096000&#45;&gt;139746531518896 -->\n",
       "<g class=\"edge\" id=\"edge34\"><title>139747201096000-&gt;139746531518896</title>\n",
       "<path d=\"M1363.97,-2117.49C1402.45,-2107.18 1451.7,-2093.99 1491.88,-2083.22\" fill=\"none\" stroke=\"black\"/>\n",
       "<polygon fill=\"black\" points=\"1492.87,-2086.58 1501.63,-2080.61 1491.06,-2079.82 1492.87,-2086.58\" stroke=\"black\"/>\n",
       "</g>\n",
       "<!-- 139746530611664 -->\n",
       "<g class=\"node\" id=\"node33\"><title>139746530611664</title>\n",
       "<polygon fill=\"none\" points=\"98.5,-1971.5 98.5,-2007.5 358.5,-2007.5 358.5,-1971.5 98.5,-1971.5\" stroke=\"black\"/>\n",
       "<text font-family=\"Times,serif\" font-size=\"14.00\" text-anchor=\"middle\" x=\"228.5\" y=\"-1985.8\">m_input_2_31_Conv_1_1: Conv2D</text>\n",
       "</g>\n",
       "<!-- 139746007706760&#45;&gt;139746530611664 -->\n",
       "<g class=\"edge\" id=\"edge35\"><title>139746007706760-&gt;139746530611664</title>\n",
       "<path d=\"M452.84,-2044.49C409.657,-2034.1 354.283,-2020.77 309.354,-2009.96\" fill=\"none\" stroke=\"black\"/>\n",
       "<polygon fill=\"black\" points=\"309.891,-2006.49 299.35,-2007.55 308.253,-2013.29 309.891,-2006.49\" stroke=\"black\"/>\n",
       "</g>\n",
       "<!-- 139746462020328 -->\n",
       "<g class=\"node\" id=\"node35\"><title>139746462020328</title>\n",
       "<polygon fill=\"none\" points=\"394.5,-1971.5 394.5,-2007.5 654.5,-2007.5 654.5,-1971.5 394.5,-1971.5\" stroke=\"black\"/>\n",
       "<text font-family=\"Times,serif\" font-size=\"14.00\" text-anchor=\"middle\" x=\"524.5\" y=\"-1985.8\">m_input_2_11_Conv_1_1: Conv2D</text>\n",
       "</g>\n",
       "<!-- 139746007706760&#45;&gt;139746462020328 -->\n",
       "<g class=\"edge\" id=\"edge37\"><title>139746007706760-&gt;139746462020328</title>\n",
       "<path d=\"M523.742,-2044.31C523.855,-2036.29 523.992,-2026.55 524.119,-2017.57\" fill=\"none\" stroke=\"black\"/>\n",
       "<polygon fill=\"black\" points=\"527.619,-2017.58 524.26,-2007.53 520.62,-2017.48 527.619,-2017.58\" stroke=\"black\"/>\n",
       "</g>\n",
       "<!-- 139746461926232 -->\n",
       "<g class=\"node\" id=\"node36\"><title>139746461926232</title>\n",
       "<polygon fill=\"none\" points=\"690.5,-1971.5 690.5,-2007.5 950.5,-2007.5 950.5,-1971.5 690.5,-1971.5\" stroke=\"black\"/>\n",
       "<text font-family=\"Times,serif\" font-size=\"14.00\" text-anchor=\"middle\" x=\"820.5\" y=\"-1985.8\">m_input_2_21_Conv_3_3: Conv2D</text>\n",
       "</g>\n",
       "<!-- 139746007706760&#45;&gt;139746461926232 -->\n",
       "<g class=\"edge\" id=\"edge38\"><title>139746007706760-&gt;139746461926232</title>\n",
       "<path d=\"M594.639,-2044.49C638.206,-2034.08 694.099,-2020.72 739.382,-2009.89\" fill=\"none\" stroke=\"black\"/>\n",
       "<polygon fill=\"black\" points=\"740.258,-2013.28 749.17,-2007.55 738.63,-2006.47 740.258,-2013.28\" stroke=\"black\"/>\n",
       "</g>\n",
       "<!-- 139745982195080 -->\n",
       "<g class=\"node\" id=\"node34\"><title>139745982195080</title>\n",
       "<polygon fill=\"none\" points=\"1223,-1971.5 1223,-2007.5 1478,-2007.5 1478,-1971.5 1223,-1971.5\" stroke=\"black\"/>\n",
       "<text font-family=\"Times,serif\" font-size=\"14.00\" text-anchor=\"middle\" x=\"1350.5\" y=\"-1985.8\">a_input_2_31_Conv_1_1: Conv2D</text>\n",
       "</g>\n",
       "<!-- 139746531518896&#45;&gt;139745982195080 -->\n",
       "<g class=\"edge\" id=\"edge36\"><title>139746531518896-&gt;139745982195080</title>\n",
       "<path d=\"M1514,-2044.49C1483.38,-2034.38 1444.34,-2021.49 1412.1,-2010.84\" fill=\"none\" stroke=\"black\"/>\n",
       "<polygon fill=\"black\" points=\"1412.92,-2007.43 1402.32,-2007.61 1410.72,-2014.07 1412.92,-2007.43\" stroke=\"black\"/>\n",
       "</g>\n",
       "<!-- 139746531518672 -->\n",
       "<g class=\"node\" id=\"node38\"><title>139746531518672</title>\n",
       "<polygon fill=\"none\" points=\"1438,-1898.5 1438,-1934.5 1693,-1934.5 1693,-1898.5 1438,-1898.5\" stroke=\"black\"/>\n",
       "<text font-family=\"Times,serif\" font-size=\"14.00\" text-anchor=\"middle\" x=\"1565.5\" y=\"-1912.8\">a_input_2_11_Conv_1_1: Conv2D</text>\n",
       "</g>\n",
       "<!-- 139746531518896&#45;&gt;139746531518672 -->\n",
       "<g class=\"edge\" id=\"edge40\"><title>139746531518896-&gt;139746531518672</title>\n",
       "<path d=\"M1565.5,-2044.42C1565.5,-2019.84 1565.5,-1974.25 1565.5,-1944.93\" fill=\"none\" stroke=\"black\"/>\n",
       "<polygon fill=\"black\" points=\"1569,-1944.56 1565.5,-1934.56 1562,-1944.56 1569,-1944.56\" stroke=\"black\"/>\n",
       "</g>\n",
       "<!-- 139747226866800 -->\n",
       "<g class=\"node\" id=\"node39\"><title>139747226866800</title>\n",
       "<polygon fill=\"none\" points=\"1670,-1971.5 1670,-2007.5 1925,-2007.5 1925,-1971.5 1670,-1971.5\" stroke=\"black\"/>\n",
       "<text font-family=\"Times,serif\" font-size=\"14.00\" text-anchor=\"middle\" x=\"1797.5\" y=\"-1985.8\">a_input_2_21_Conv_3_3: Conv2D</text>\n",
       "</g>\n",
       "<!-- 139746531518896&#45;&gt;139747226866800 -->\n",
       "<g class=\"edge\" id=\"edge41\"><title>139746531518896-&gt;139747226866800</title>\n",
       "<path d=\"M1621.07,-2044.49C1654.4,-2034.29 1696.96,-2021.27 1731.93,-2010.57\" fill=\"none\" stroke=\"black\"/>\n",
       "<polygon fill=\"black\" points=\"1733.04,-2013.89 1741.58,-2007.61 1730.99,-2007.19 1733.04,-2013.89\" stroke=\"black\"/>\n",
       "</g>\n",
       "<!-- 139745982224816 -->\n",
       "<g class=\"node\" id=\"node37\"><title>139745982224816</title>\n",
       "<polygon fill=\"none\" points=\"63.5,-1898.5 63.5,-1934.5 323.5,-1934.5 323.5,-1898.5 63.5,-1898.5\" stroke=\"black\"/>\n",
       "<text font-family=\"Times,serif\" font-size=\"14.00\" text-anchor=\"middle\" x=\"193.5\" y=\"-1912.8\">m_input_2_32_Conv_5_5: Conv2D</text>\n",
       "</g>\n",
       "<!-- 139746530611664&#45;&gt;139745982224816 -->\n",
       "<g class=\"edge\" id=\"edge39\"><title>139746530611664-&gt;139745982224816</title>\n",
       "<path d=\"M220.027,-1971.31C215.943,-1963.03 210.956,-1952.91 206.412,-1943.69\" fill=\"none\" stroke=\"black\"/>\n",
       "<polygon fill=\"black\" points=\"209.455,-1941.95 201.895,-1934.53 203.177,-1945.05 209.455,-1941.95\" stroke=\"black\"/>\n",
       "</g>\n",
       "<!-- 139745616910040 -->\n",
       "<g class=\"node\" id=\"node40\"><title>139745616910040</title>\n",
       "<polygon fill=\"none\" points=\"1129,-1898.5 1129,-1934.5 1384,-1934.5 1384,-1898.5 1129,-1898.5\" stroke=\"black\"/>\n",
       "<text font-family=\"Times,serif\" font-size=\"14.00\" text-anchor=\"middle\" x=\"1256.5\" y=\"-1912.8\">a_input_2_32_Conv_5_5: Conv2D</text>\n",
       "</g>\n",
       "<!-- 139745982195080&#45;&gt;139745616910040 -->\n",
       "<g class=\"edge\" id=\"edge42\"><title>139745982195080-&gt;139745616910040</title>\n",
       "<path d=\"M1327.75,-1971.31C1315.62,-1962.16 1300.53,-1950.76 1287.37,-1940.82\" fill=\"none\" stroke=\"black\"/>\n",
       "<polygon fill=\"black\" points=\"1289.13,-1937.76 1279.05,-1934.53 1284.92,-1943.35 1289.13,-1937.76\" stroke=\"black\"/>\n",
       "</g>\n",
       "<!-- 139746007774712 -->\n",
       "<g class=\"node\" id=\"node41\"><title>139746007774712</title>\n",
       "<polygon fill=\"none\" points=\"359,-1825.5 359,-1861.5 690,-1861.5 690,-1825.5 359,-1825.5\" stroke=\"black\"/>\n",
       "<text font-family=\"Times,serif\" font-size=\"14.00\" text-anchor=\"middle\" x=\"524.5\" y=\"-1839.8\">m_input_2_12_MaxPool_2_2: MaxPooling2D</text>\n",
       "</g>\n",
       "<!-- 139746462020328&#45;&gt;139746007774712 -->\n",
       "<g class=\"edge\" id=\"edge43\"><title>139746462020328-&gt;139746007774712</title>\n",
       "<path d=\"M524.5,-1971.42C524.5,-1946.84 524.5,-1901.25 524.5,-1871.93\" fill=\"none\" stroke=\"black\"/>\n",
       "<polygon fill=\"black\" points=\"528,-1871.56 524.5,-1861.56 521,-1871.56 528,-1871.56\" stroke=\"black\"/>\n",
       "</g>\n",
       "<!-- 139746825800000 -->\n",
       "<g class=\"node\" id=\"node42\"><title>139746825800000</title>\n",
       "<polygon fill=\"none\" points=\"673,-1898.5 673,-1934.5 1004,-1934.5 1004,-1898.5 673,-1898.5\" stroke=\"black\"/>\n",
       "<text font-family=\"Times,serif\" font-size=\"14.00\" text-anchor=\"middle\" x=\"838.5\" y=\"-1912.8\">m_input_2_22_MaxPool_2_2: MaxPooling2D</text>\n",
       "</g>\n",
       "<!-- 139746461926232&#45;&gt;139746825800000 -->\n",
       "<g class=\"edge\" id=\"edge44\"><title>139746461926232-&gt;139746825800000</title>\n",
       "<path d=\"M824.857,-1971.31C826.914,-1963.2 829.415,-1953.34 831.712,-1944.28\" fill=\"none\" stroke=\"black\"/>\n",
       "<polygon fill=\"black\" points=\"835.118,-1945.08 834.183,-1934.53 828.333,-1943.36 835.118,-1945.08\" stroke=\"black\"/>\n",
       "</g>\n",
       "<!-- 139746825608776 -->\n",
       "<g class=\"node\" id=\"node43\"><title>139746825608776</title>\n",
       "<polygon fill=\"none\" points=\"10,-1825.5 10,-1861.5 341,-1861.5 341,-1825.5 10,-1825.5\" stroke=\"black\"/>\n",
       "<text font-family=\"Times,serif\" font-size=\"14.00\" text-anchor=\"middle\" x=\"175.5\" y=\"-1839.8\">m_input_2_33_MaxPool_2_2: MaxPooling2D</text>\n",
       "</g>\n",
       "<!-- 139745982224816&#45;&gt;139746825608776 -->\n",
       "<g class=\"edge\" id=\"edge45\"><title>139745982224816-&gt;139746825608776</title>\n",
       "<path d=\"M189.143,-1898.31C187.086,-1890.2 184.585,-1880.34 182.288,-1871.28\" fill=\"none\" stroke=\"black\"/>\n",
       "<polygon fill=\"black\" points=\"185.667,-1870.36 179.817,-1861.53 178.882,-1872.08 185.667,-1870.36\" stroke=\"black\"/>\n",
       "</g>\n",
       "<!-- 139748910757088 -->\n",
       "<g class=\"node\" id=\"node44\"><title>139748910757088</title>\n",
       "<polygon fill=\"none\" points=\"1402.5,-1825.5 1402.5,-1861.5 1728.5,-1861.5 1728.5,-1825.5 1402.5,-1825.5\" stroke=\"black\"/>\n",
       "<text font-family=\"Times,serif\" font-size=\"14.00\" text-anchor=\"middle\" x=\"1565.5\" y=\"-1839.8\">a_input_2_12_MaxPool_2_2: MaxPooling2D</text>\n",
       "</g>\n",
       "<!-- 139746531518672&#45;&gt;139748910757088 -->\n",
       "<g class=\"edge\" id=\"edge46\"><title>139746531518672-&gt;139748910757088</title>\n",
       "<path d=\"M1565.5,-1898.31C1565.5,-1890.29 1565.5,-1880.55 1565.5,-1871.57\" fill=\"none\" stroke=\"black\"/>\n",
       "<polygon fill=\"black\" points=\"1569,-1871.53 1565.5,-1861.53 1562,-1871.53 1569,-1871.53\" stroke=\"black\"/>\n",
       "</g>\n",
       "<!-- 139746529991032 -->\n",
       "<g class=\"node\" id=\"node45\"><title>139746529991032</title>\n",
       "<polygon fill=\"none\" points=\"1732.5,-1898.5 1732.5,-1934.5 2058.5,-1934.5 2058.5,-1898.5 1732.5,-1898.5\" stroke=\"black\"/>\n",
       "<text font-family=\"Times,serif\" font-size=\"14.00\" text-anchor=\"middle\" x=\"1895.5\" y=\"-1912.8\">a_input_2_22_MaxPool_2_2: MaxPooling2D</text>\n",
       "</g>\n",
       "<!-- 139747226866800&#45;&gt;139746529991032 -->\n",
       "<g class=\"edge\" id=\"edge47\"><title>139747226866800-&gt;139746529991032</title>\n",
       "<path d=\"M1821.22,-1971.31C1833.98,-1962.07 1849.89,-1950.54 1863.71,-1940.53\" fill=\"none\" stroke=\"black\"/>\n",
       "<polygon fill=\"black\" points=\"1865.95,-1943.23 1872,-1934.53 1861.84,-1937.56 1865.95,-1943.23\" stroke=\"black\"/>\n",
       "</g>\n",
       "<!-- 139746007946968 -->\n",
       "<g class=\"node\" id=\"node46\"><title>139746007946968</title>\n",
       "<polygon fill=\"none\" points=\"1058.5,-1825.5 1058.5,-1861.5 1384.5,-1861.5 1384.5,-1825.5 1058.5,-1825.5\" stroke=\"black\"/>\n",
       "<text font-family=\"Times,serif\" font-size=\"14.00\" text-anchor=\"middle\" x=\"1221.5\" y=\"-1839.8\">a_input_2_33_MaxPool_2_2: MaxPooling2D</text>\n",
       "</g>\n",
       "<!-- 139745616910040&#45;&gt;139746007946968 -->\n",
       "<g class=\"edge\" id=\"edge48\"><title>139745616910040-&gt;139746007946968</title>\n",
       "<path d=\"M1248.03,-1898.31C1243.94,-1890.03 1238.96,-1879.91 1234.41,-1870.69\" fill=\"none\" stroke=\"black\"/>\n",
       "<polygon fill=\"black\" points=\"1237.46,-1868.95 1229.89,-1861.53 1231.18,-1872.05 1237.46,-1868.95\" stroke=\"black\"/>\n",
       "</g>\n",
       "<!-- 139746461989688 -->\n",
       "<g class=\"node\" id=\"node47\"><title>139746461989688</title>\n",
       "<polygon fill=\"none\" points=\"391.5,-1752.5 391.5,-1788.5 723.5,-1788.5 723.5,-1752.5 391.5,-1752.5\" stroke=\"black\"/>\n",
       "<text font-family=\"Times,serif\" font-size=\"14.00\" text-anchor=\"middle\" x=\"557.5\" y=\"-1766.8\">batch_normalization_5: BatchNormalization</text>\n",
       "</g>\n",
       "<!-- 139746007774712&#45;&gt;139746461989688 -->\n",
       "<g class=\"edge\" id=\"edge49\"><title>139746007774712-&gt;139746461989688</title>\n",
       "<path d=\"M532.488,-1825.31C536.339,-1817.03 541.042,-1806.91 545.326,-1797.69\" fill=\"none\" stroke=\"black\"/>\n",
       "<polygon fill=\"black\" points=\"548.544,-1799.07 549.585,-1788.53 542.196,-1796.12 548.544,-1799.07\" stroke=\"black\"/>\n",
       "</g>\n",
       "<!-- 139746461945752 -->\n",
       "<g class=\"node\" id=\"node48\"><title>139746461945752</title>\n",
       "<polygon fill=\"none\" points=\"708.5,-1825.5 708.5,-1861.5 1040.5,-1861.5 1040.5,-1825.5 708.5,-1825.5\" stroke=\"black\"/>\n",
       "<text font-family=\"Times,serif\" font-size=\"14.00\" text-anchor=\"middle\" x=\"874.5\" y=\"-1839.8\">batch_normalization_6: BatchNormalization</text>\n",
       "</g>\n",
       "<!-- 139746825800000&#45;&gt;139746461945752 -->\n",
       "<g class=\"edge\" id=\"edge50\"><title>139746825800000-&gt;139746461945752</title>\n",
       "<path d=\"M847.215,-1898.31C851.415,-1890.03 856.545,-1879.91 861.219,-1870.69\" fill=\"none\" stroke=\"black\"/>\n",
       "<polygon fill=\"black\" points=\"864.465,-1872.03 865.866,-1861.53 858.222,-1868.87 864.465,-1872.03\" stroke=\"black\"/>\n",
       "</g>\n",
       "<!-- 139745453293808 -->\n",
       "<g class=\"node\" id=\"node49\"><title>139745453293808</title>\n",
       "<polygon fill=\"none\" points=\"20.5,-1752.5 20.5,-1788.5 352.5,-1788.5 352.5,-1752.5 20.5,-1752.5\" stroke=\"black\"/>\n",
       "<text font-family=\"Times,serif\" font-size=\"14.00\" text-anchor=\"middle\" x=\"186.5\" y=\"-1766.8\">batch_normalization_7: BatchNormalization</text>\n",
       "</g>\n",
       "<!-- 139746825608776&#45;&gt;139745453293808 -->\n",
       "<g class=\"edge\" id=\"edge51\"><title>139746825608776-&gt;139745453293808</title>\n",
       "<path d=\"M178.163,-1825.31C179.406,-1817.29 180.915,-1807.55 182.306,-1798.57\" fill=\"none\" stroke=\"black\"/>\n",
       "<polygon fill=\"black\" points=\"185.789,-1798.95 183.862,-1788.53 178.872,-1797.88 185.789,-1798.95\" stroke=\"black\"/>\n",
       "</g>\n",
       "<!-- 139746007892936 -->\n",
       "<g class=\"node\" id=\"node50\"><title>139746007892936</title>\n",
       "<polygon fill=\"none\" points=\"1402,-1752.5 1402,-1788.5 1743,-1788.5 1743,-1752.5 1402,-1752.5\" stroke=\"black\"/>\n",
       "<text font-family=\"Times,serif\" font-size=\"14.00\" text-anchor=\"middle\" x=\"1572.5\" y=\"-1766.8\">batch_normalization_12: BatchNormalization</text>\n",
       "</g>\n",
       "<!-- 139748910757088&#45;&gt;139746007892936 -->\n",
       "<g class=\"edge\" id=\"edge52\"><title>139748910757088-&gt;139746007892936</title>\n",
       "<path d=\"M1567.19,-1825.31C1567.99,-1817.29 1568.95,-1807.55 1569.83,-1798.57\" fill=\"none\" stroke=\"black\"/>\n",
       "<polygon fill=\"black\" points=\"1573.32,-1798.82 1570.82,-1788.53 1566.36,-1798.14 1573.32,-1798.82\" stroke=\"black\"/>\n",
       "</g>\n",
       "<!-- 139746461457544 -->\n",
       "<g class=\"node\" id=\"node51\"><title>139746461457544</title>\n",
       "<polygon fill=\"none\" points=\"1747,-1825.5 1747,-1861.5 2088,-1861.5 2088,-1825.5 1747,-1825.5\" stroke=\"black\"/>\n",
       "<text font-family=\"Times,serif\" font-size=\"14.00\" text-anchor=\"middle\" x=\"1917.5\" y=\"-1839.8\">batch_normalization_13: BatchNormalization</text>\n",
       "</g>\n",
       "<!-- 139746529991032&#45;&gt;139746461457544 -->\n",
       "<g class=\"edge\" id=\"edge53\"><title>139746529991032-&gt;139746461457544</title>\n",
       "<path d=\"M1900.83,-1898.31C1903.34,-1890.2 1906.4,-1880.34 1909.2,-1871.28\" fill=\"none\" stroke=\"black\"/>\n",
       "<polygon fill=\"black\" points=\"1912.61,-1872.12 1912.22,-1861.53 1905.92,-1870.04 1912.61,-1872.12\" stroke=\"black\"/>\n",
       "</g>\n",
       "<!-- 139745957858888 -->\n",
       "<g class=\"node\" id=\"node52\"><title>139745957858888</title>\n",
       "<polygon fill=\"none\" points=\"1043,-1752.5 1043,-1788.5 1384,-1788.5 1384,-1752.5 1043,-1752.5\" stroke=\"black\"/>\n",
       "<text font-family=\"Times,serif\" font-size=\"14.00\" text-anchor=\"middle\" x=\"1213.5\" y=\"-1766.8\">batch_normalization_14: BatchNormalization</text>\n",
       "</g>\n",
       "<!-- 139746007946968&#45;&gt;139745957858888 -->\n",
       "<g class=\"edge\" id=\"edge54\"><title>139746007946968-&gt;139745957858888</title>\n",
       "<path d=\"M1219.56,-1825.31C1218.66,-1817.29 1217.56,-1807.55 1216.55,-1798.57\" fill=\"none\" stroke=\"black\"/>\n",
       "<polygon fill=\"black\" points=\"1220.02,-1798.07 1215.42,-1788.53 1213.06,-1798.86 1220.02,-1798.07\" stroke=\"black\"/>\n",
       "</g>\n",
       "<!-- 139746461987896 -->\n",
       "<g class=\"node\" id=\"node53\"><title>139746461987896</title>\n",
       "<polygon fill=\"none\" points=\"547,-1679.5 547,-1715.5 704,-1715.5 704,-1679.5 547,-1679.5\" stroke=\"black\"/>\n",
       "<text font-family=\"Times,serif\" font-size=\"14.00\" text-anchor=\"middle\" x=\"625.5\" y=\"-1693.8\">dropout_4: Dropout</text>\n",
       "</g>\n",
       "<!-- 139746461989688&#45;&gt;139746461987896 -->\n",
       "<g class=\"edge\" id=\"edge55\"><title>139746461989688-&gt;139746461987896</title>\n",
       "<path d=\"M573.961,-1752.31C582.397,-1743.5 592.817,-1732.63 602.075,-1722.96\" fill=\"none\" stroke=\"black\"/>\n",
       "<polygon fill=\"black\" points=\"604.802,-1725.17 609.191,-1715.53 599.746,-1720.33 604.802,-1725.17\" stroke=\"black\"/>\n",
       "</g>\n",
       "<!-- 139746461944688 -->\n",
       "<g class=\"node\" id=\"node54\"><title>139746461944688</title>\n",
       "<polygon fill=\"none\" points=\"753,-1752.5 753,-1788.5 910,-1788.5 910,-1752.5 753,-1752.5\" stroke=\"black\"/>\n",
       "<text font-family=\"Times,serif\" font-size=\"14.00\" text-anchor=\"middle\" x=\"831.5\" y=\"-1766.8\">dropout_5: Dropout</text>\n",
       "</g>\n",
       "<!-- 139746461945752&#45;&gt;139746461944688 -->\n",
       "<g class=\"edge\" id=\"edge56\"><title>139746461945752-&gt;139746461944688</title>\n",
       "<path d=\"M864.091,-1825.31C858.968,-1816.85 852.687,-1806.48 847.012,-1797.11\" fill=\"none\" stroke=\"black\"/>\n",
       "<polygon fill=\"black\" points=\"849.987,-1795.27 841.813,-1788.53 844,-1798.9 849.987,-1795.27\" stroke=\"black\"/>\n",
       "</g>\n",
       "<!-- 139745453295376 -->\n",
       "<g class=\"node\" id=\"node55\"><title>139745453295376</title>\n",
       "<polygon fill=\"none\" points=\"274,-1679.5 274,-1715.5 431,-1715.5 431,-1679.5 274,-1679.5\" stroke=\"black\"/>\n",
       "<text font-family=\"Times,serif\" font-size=\"14.00\" text-anchor=\"middle\" x=\"352.5\" y=\"-1693.8\">dropout_6: Dropout</text>\n",
       "</g>\n",
       "<!-- 139745453293808&#45;&gt;139745453295376 -->\n",
       "<g class=\"edge\" id=\"edge57\"><title>139745453293808-&gt;139745453295376</title>\n",
       "<path d=\"M226.261,-1752.49C249.293,-1742.64 278.488,-1730.16 303,-1719.67\" fill=\"none\" stroke=\"black\"/>\n",
       "<polygon fill=\"black\" points=\"304.67,-1722.76 312.488,-1715.61 301.917,-1716.33 304.67,-1722.76\" stroke=\"black\"/>\n",
       "</g>\n",
       "<!-- 139746007892600 -->\n",
       "<g class=\"node\" id=\"node56\"><title>139746007892600</title>\n",
       "<polygon fill=\"none\" points=\"1445.5,-1679.5 1445.5,-1715.5 1611.5,-1715.5 1611.5,-1679.5 1445.5,-1679.5\" stroke=\"black\"/>\n",
       "<text font-family=\"Times,serif\" font-size=\"14.00\" text-anchor=\"middle\" x=\"1528.5\" y=\"-1693.8\">dropout_10: Dropout</text>\n",
       "</g>\n",
       "<!-- 139746007892936&#45;&gt;139746007892600 -->\n",
       "<g class=\"edge\" id=\"edge58\"><title>139746007892936-&gt;139746007892600</title>\n",
       "<path d=\"M1561.85,-1752.31C1556.61,-1743.85 1550.18,-1733.48 1544.37,-1724.11\" fill=\"none\" stroke=\"black\"/>\n",
       "<polygon fill=\"black\" points=\"1547.3,-1722.19 1539.05,-1715.53 1541.35,-1725.87 1547.3,-1722.19\" stroke=\"black\"/>\n",
       "</g>\n",
       "<!-- 139746461455976 -->\n",
       "<g class=\"node\" id=\"node57\"><title>139746461455976</title>\n",
       "<polygon fill=\"none\" points=\"1718.5,-1679.5 1718.5,-1715.5 1884.5,-1715.5 1884.5,-1679.5 1718.5,-1679.5\" stroke=\"black\"/>\n",
       "<text font-family=\"Times,serif\" font-size=\"14.00\" text-anchor=\"middle\" x=\"1801.5\" y=\"-1693.8\">dropout_11: Dropout</text>\n",
       "</g>\n",
       "<!-- 139746461457544&#45;&gt;139746461455976 -->\n",
       "<g class=\"edge\" id=\"edge59\"><title>139746461457544-&gt;139746461455976</title>\n",
       "<path d=\"M1903.74,-1825.42C1883.42,-1800.19 1845.26,-1752.83 1821.75,-1723.64\" fill=\"none\" stroke=\"black\"/>\n",
       "<polygon fill=\"black\" points=\"1824.24,-1721.15 1815.24,-1715.56 1818.79,-1725.55 1824.24,-1721.15\" stroke=\"black\"/>\n",
       "</g>\n",
       "<!-- 139745957856368 -->\n",
       "<g class=\"node\" id=\"node58\"><title>139745957856368</title>\n",
       "<polygon fill=\"none\" points=\"1174.5,-1679.5 1174.5,-1715.5 1340.5,-1715.5 1340.5,-1679.5 1174.5,-1679.5\" stroke=\"black\"/>\n",
       "<text font-family=\"Times,serif\" font-size=\"14.00\" text-anchor=\"middle\" x=\"1257.5\" y=\"-1693.8\">dropout_12: Dropout</text>\n",
       "</g>\n",
       "<!-- 139745957858888&#45;&gt;139745957856368 -->\n",
       "<g class=\"edge\" id=\"edge60\"><title>139745957858888-&gt;139745957856368</title>\n",
       "<path d=\"M1224.15,-1752.31C1229.39,-1743.85 1235.82,-1733.48 1241.63,-1724.11\" fill=\"none\" stroke=\"black\"/>\n",
       "<polygon fill=\"black\" points=\"1244.65,-1725.87 1246.95,-1715.53 1238.7,-1722.19 1244.65,-1725.87\" stroke=\"black\"/>\n",
       "</g>\n",
       "<!-- 139746533248752 -->\n",
       "<g class=\"node\" id=\"node59\"><title>139746533248752</title>\n",
       "<polygon fill=\"none\" points=\"506.5,-1606.5 506.5,-1642.5 814.5,-1642.5 814.5,-1606.5 506.5,-1606.5\" stroke=\"black\"/>\n",
       "<text font-family=\"Times,serif\" font-size=\"14.00\" text-anchor=\"middle\" x=\"660.5\" y=\"-1620.8\">m_input_2__Inception_end: Concatenate</text>\n",
       "</g>\n",
       "<!-- 139746461987896&#45;&gt;139746533248752 -->\n",
       "<g class=\"edge\" id=\"edge61\"><title>139746461987896-&gt;139746533248752</title>\n",
       "<path d=\"M633.973,-1679.31C638.057,-1671.03 643.044,-1660.91 647.588,-1651.69\" fill=\"none\" stroke=\"black\"/>\n",
       "<polygon fill=\"black\" points=\"650.823,-1653.05 652.105,-1642.53 644.545,-1649.95 650.823,-1653.05\" stroke=\"black\"/>\n",
       "</g>\n",
       "<!-- 139746461944688&#45;&gt;139746533248752 -->\n",
       "<g class=\"edge\" id=\"edge62\"><title>139746461944688-&gt;139746533248752</title>\n",
       "<path d=\"M811.213,-1752.42C780.745,-1726.76 723.076,-1678.2 688.584,-1649.15\" fill=\"none\" stroke=\"black\"/>\n",
       "<polygon fill=\"black\" points=\"690.665,-1646.33 680.761,-1642.56 686.156,-1651.68 690.665,-1646.33\" stroke=\"black\"/>\n",
       "</g>\n",
       "<!-- 139745453295376&#45;&gt;139746533248752 -->\n",
       "<g class=\"edge\" id=\"edge63\"><title>139745453295376-&gt;139746533248752</title>\n",
       "<path d=\"M426.274,-1679.49C471.549,-1669.06 529.66,-1655.66 576.673,-1644.82\" fill=\"none\" stroke=\"black\"/>\n",
       "<polygon fill=\"black\" points=\"577.57,-1648.21 586.528,-1642.55 575.997,-1641.39 577.57,-1648.21\" stroke=\"black\"/>\n",
       "</g>\n",
       "<!-- 139745957740384 -->\n",
       "<g class=\"node\" id=\"node60\"><title>139745957740384</title>\n",
       "<polygon fill=\"none\" points=\"1241,-1606.5 1241,-1642.5 1544,-1642.5 1544,-1606.5 1241,-1606.5\" stroke=\"black\"/>\n",
       "<text font-family=\"Times,serif\" font-size=\"14.00\" text-anchor=\"middle\" x=\"1392.5\" y=\"-1620.8\">a_input_2__Inception_end: Concatenate</text>\n",
       "</g>\n",
       "<!-- 139746007892600&#45;&gt;139745957740384 -->\n",
       "<g class=\"edge\" id=\"edge64\"><title>139746007892600-&gt;139745957740384</title>\n",
       "<path d=\"M1495.92,-1679.49C1477.47,-1669.86 1454.19,-1657.71 1434.39,-1647.37\" fill=\"none\" stroke=\"black\"/>\n",
       "<polygon fill=\"black\" points=\"1435.77,-1644.14 1425.28,-1642.61 1432.53,-1650.34 1435.77,-1644.14\" stroke=\"black\"/>\n",
       "</g>\n",
       "<!-- 139746461455976&#45;&gt;139745957740384 -->\n",
       "<g class=\"edge\" id=\"edge65\"><title>139746461455976-&gt;139745957740384</title>\n",
       "<path d=\"M1718.24,-1682.05C1655.46,-1671.15 1568.83,-1656.11 1500.68,-1644.28\" fill=\"none\" stroke=\"black\"/>\n",
       "<polygon fill=\"black\" points=\"1501.22,-1640.82 1490.77,-1642.56 1500.02,-1647.72 1501.22,-1640.82\" stroke=\"black\"/>\n",
       "</g>\n",
       "<!-- 139745957856368&#45;&gt;139745957740384 -->\n",
       "<g class=\"edge\" id=\"edge66\"><title>139745957856368-&gt;139745957740384</title>\n",
       "<path d=\"M1289.84,-1679.49C1308.15,-1669.86 1331.26,-1657.71 1350.92,-1647.37\" fill=\"none\" stroke=\"black\"/>\n",
       "<polygon fill=\"black\" points=\"1352.74,-1650.37 1359.96,-1642.61 1349.48,-1644.17 1352.74,-1650.37\" stroke=\"black\"/>\n",
       "</g>\n",
       "<!-- 139745957940808 -->\n",
       "<g class=\"node\" id=\"node61\"><title>139745957940808</title>\n",
       "<polygon fill=\"none\" points=\"899,-1533.5 899,-1569.5 1120,-1569.5 1120,-1533.5 899,-1533.5\" stroke=\"black\"/>\n",
       "<text font-family=\"Times,serif\" font-size=\"14.00\" text-anchor=\"middle\" x=\"1009.5\" y=\"-1547.8\">concatenate_1: Concatenate</text>\n",
       "</g>\n",
       "<!-- 139746533248752&#45;&gt;139745957940808 -->\n",
       "<g class=\"edge\" id=\"edge67\"><title>139746533248752-&gt;139745957940808</title>\n",
       "<path d=\"M744.094,-1606.49C795.826,-1595.97 862.346,-1582.44 915.849,-1571.55\" fill=\"none\" stroke=\"black\"/>\n",
       "<polygon fill=\"black\" points=\"916.58,-1574.98 925.681,-1569.55 915.184,-1568.12 916.58,-1574.98\" stroke=\"black\"/>\n",
       "</g>\n",
       "<!-- 139745957740384&#45;&gt;139745957940808 -->\n",
       "<g class=\"edge\" id=\"edge68\"><title>139745957740384-&gt;139745957940808</title>\n",
       "<path d=\"M1300.76,-1606.49C1243.75,-1595.93 1170.38,-1582.32 1111.54,-1571.42\" fill=\"none\" stroke=\"black\"/>\n",
       "<polygon fill=\"black\" points=\"1111.95,-1567.93 1101.48,-1569.55 1110.68,-1574.82 1111.95,-1567.93\" stroke=\"black\"/>\n",
       "</g>\n",
       "<!-- 139745856851304 -->\n",
       "<g class=\"node\" id=\"node62\"><title>139745856851304</title>\n",
       "<polygon fill=\"none\" points=\"717.5,-1460.5 717.5,-1496.5 947.5,-1496.5 947.5,-1460.5 717.5,-1460.5\" stroke=\"black\"/>\n",
       "<text font-family=\"Times,serif\" font-size=\"14.00\" text-anchor=\"middle\" x=\"832.5\" y=\"-1474.8\">main_131_Conv_1_1: Conv2D</text>\n",
       "</g>\n",
       "<!-- 139745957940808&#45;&gt;139745856851304 -->\n",
       "<g class=\"edge\" id=\"edge69\"><title>139745957940808-&gt;139745856851304</title>\n",
       "<path d=\"M967.104,-1533.49C942.328,-1523.56 910.864,-1510.93 884.588,-1500.39\" fill=\"none\" stroke=\"black\"/>\n",
       "<polygon fill=\"black\" points=\"885.748,-1497.09 875.163,-1496.61 883.142,-1503.58 885.748,-1497.09\" stroke=\"black\"/>\n",
       "</g>\n",
       "<!-- 139745957940248 -->\n",
       "<g class=\"node\" id=\"node63\"><title>139745957940248</title>\n",
       "<polygon fill=\"none\" points=\"894.5,-1387.5 894.5,-1423.5 1124.5,-1423.5 1124.5,-1387.5 894.5,-1387.5\" stroke=\"black\"/>\n",
       "<text font-family=\"Times,serif\" font-size=\"14.00\" text-anchor=\"middle\" x=\"1009.5\" y=\"-1401.8\">main_111_Conv_1_1: Conv2D</text>\n",
       "</g>\n",
       "<!-- 139745957940808&#45;&gt;139745957940248 -->\n",
       "<g class=\"edge\" id=\"edge70\"><title>139745957940808-&gt;139745957940248</title>\n",
       "<path d=\"M1009.5,-1533.42C1009.5,-1508.84 1009.5,-1463.25 1009.5,-1433.93\" fill=\"none\" stroke=\"black\"/>\n",
       "<polygon fill=\"black\" points=\"1013,-1433.56 1009.5,-1423.56 1006,-1433.56 1013,-1433.56\" stroke=\"black\"/>\n",
       "</g>\n",
       "<!-- 139745956246024 -->\n",
       "<g class=\"node\" id=\"node64\"><title>139745956246024</title>\n",
       "<polygon fill=\"none\" points=\"1037.5,-1460.5 1037.5,-1496.5 1267.5,-1496.5 1267.5,-1460.5 1037.5,-1460.5\" stroke=\"black\"/>\n",
       "<text font-family=\"Times,serif\" font-size=\"14.00\" text-anchor=\"middle\" x=\"1152.5\" y=\"-1474.8\">main_121_Conv_3_3: Conv2D</text>\n",
       "</g>\n",
       "<!-- 139745957940808&#45;&gt;139745956246024 -->\n",
       "<g class=\"edge\" id=\"edge71\"><title>139745957940808-&gt;139745956246024</title>\n",
       "<path d=\"M1043.75,-1533.49C1063.33,-1523.77 1088.08,-1511.49 1109.02,-1501.09\" fill=\"none\" stroke=\"black\"/>\n",
       "<polygon fill=\"black\" points=\"1110.63,-1504.2 1118.03,-1496.61 1107.52,-1497.93 1110.63,-1504.2\" stroke=\"black\"/>\n",
       "</g>\n",
       "<!-- 139745856795200 -->\n",
       "<g class=\"node\" id=\"node65\"><title>139745856795200</title>\n",
       "<polygon fill=\"none\" points=\"609.5,-1387.5 609.5,-1423.5 839.5,-1423.5 839.5,-1387.5 609.5,-1387.5\" stroke=\"black\"/>\n",
       "<text font-family=\"Times,serif\" font-size=\"14.00\" text-anchor=\"middle\" x=\"724.5\" y=\"-1401.8\">main_132_Conv_5_5: Conv2D</text>\n",
       "</g>\n",
       "<!-- 139745856851304&#45;&gt;139745856795200 -->\n",
       "<g class=\"edge\" id=\"edge72\"><title>139745856851304-&gt;139745856795200</title>\n",
       "<path d=\"M806.631,-1460.49C792.442,-1451.17 774.658,-1439.47 759.27,-1429.36\" fill=\"none\" stroke=\"black\"/>\n",
       "<polygon fill=\"black\" points=\"760.811,-1426.18 750.532,-1423.61 756.965,-1432.03 760.811,-1426.18\" stroke=\"black\"/>\n",
       "</g>\n",
       "<!-- 139745957187824 -->\n",
       "<g class=\"node\" id=\"node66\"><title>139745957187824</title>\n",
       "<polygon fill=\"none\" points=\"859.5,-1314.5 859.5,-1350.5 1159.5,-1350.5 1159.5,-1314.5 859.5,-1314.5\" stroke=\"black\"/>\n",
       "<text font-family=\"Times,serif\" font-size=\"14.00\" text-anchor=\"middle\" x=\"1009.5\" y=\"-1328.8\">main_112_MaxPool_2_2: MaxPooling2D</text>\n",
       "</g>\n",
       "<!-- 139745957940248&#45;&gt;139745957187824 -->\n",
       "<g class=\"edge\" id=\"edge73\"><title>139745957940248-&gt;139745957187824</title>\n",
       "<path d=\"M1009.5,-1387.31C1009.5,-1379.29 1009.5,-1369.55 1009.5,-1360.57\" fill=\"none\" stroke=\"black\"/>\n",
       "<polygon fill=\"black\" points=\"1013,-1360.53 1009.5,-1350.53 1006,-1360.53 1013,-1360.53\" stroke=\"black\"/>\n",
       "</g>\n",
       "<!-- 139745955847024 -->\n",
       "<g class=\"node\" id=\"node67\"><title>139745955847024</title>\n",
       "<polygon fill=\"none\" points=\"1197.5,-1314.5 1197.5,-1350.5 1497.5,-1350.5 1497.5,-1314.5 1197.5,-1314.5\" stroke=\"black\"/>\n",
       "<text font-family=\"Times,serif\" font-size=\"14.00\" text-anchor=\"middle\" x=\"1347.5\" y=\"-1328.8\">main_122_MaxPool_2_2: MaxPooling2D</text>\n",
       "</g>\n",
       "<!-- 139745956246024&#45;&gt;139745955847024 -->\n",
       "<g class=\"edge\" id=\"edge74\"><title>139745956246024-&gt;139745955847024</title>\n",
       "<path d=\"M1175.63,-1460.42C1210.53,-1434.65 1276.7,-1385.79 1315.97,-1356.78\" fill=\"none\" stroke=\"black\"/>\n",
       "<polygon fill=\"black\" points=\"1318.43,-1359.32 1324.4,-1350.56 1314.27,-1353.69 1318.43,-1359.32\" stroke=\"black\"/>\n",
       "</g>\n",
       "<!-- 139745856169352 -->\n",
       "<g class=\"node\" id=\"node68\"><title>139745856169352</title>\n",
       "<polygon fill=\"none\" points=\"520.5,-1314.5 520.5,-1350.5 820.5,-1350.5 820.5,-1314.5 520.5,-1314.5\" stroke=\"black\"/>\n",
       "<text font-family=\"Times,serif\" font-size=\"14.00\" text-anchor=\"middle\" x=\"670.5\" y=\"-1328.8\">main_133_MaxPool_2_2: MaxPooling2D</text>\n",
       "</g>\n",
       "<!-- 139745856795200&#45;&gt;139745856169352 -->\n",
       "<g class=\"edge\" id=\"edge75\"><title>139745856795200-&gt;139745856169352</title>\n",
       "<path d=\"M711.428,-1387.31C704.862,-1378.68 696.781,-1368.06 689.54,-1358.53\" fill=\"none\" stroke=\"black\"/>\n",
       "<polygon fill=\"black\" points=\"692.291,-1356.37 683.452,-1350.53 686.719,-1360.61 692.291,-1356.37\" stroke=\"black\"/>\n",
       "</g>\n",
       "<!-- 139745956563096 -->\n",
       "<g class=\"node\" id=\"node69\"><title>139745956563096</title>\n",
       "<polygon fill=\"none\" points=\"839,-1241.5 839,-1277.5 1180,-1277.5 1180,-1241.5 839,-1241.5\" stroke=\"black\"/>\n",
       "<text font-family=\"Times,serif\" font-size=\"14.00\" text-anchor=\"middle\" x=\"1009.5\" y=\"-1255.8\">batch_normalization_15: BatchNormalization</text>\n",
       "</g>\n",
       "<!-- 139745957187824&#45;&gt;139745956563096 -->\n",
       "<g class=\"edge\" id=\"edge76\"><title>139745957187824-&gt;139745956563096</title>\n",
       "<path d=\"M1009.5,-1314.31C1009.5,-1306.29 1009.5,-1296.55 1009.5,-1287.57\" fill=\"none\" stroke=\"black\"/>\n",
       "<polygon fill=\"black\" points=\"1013,-1287.53 1009.5,-1277.53 1006,-1287.53 1013,-1287.53\" stroke=\"black\"/>\n",
       "</g>\n",
       "<!-- 139745955255968 -->\n",
       "<g class=\"node\" id=\"node70\"><title>139745955255968</title>\n",
       "<polygon fill=\"none\" points=\"1198,-1241.5 1198,-1277.5 1539,-1277.5 1539,-1241.5 1198,-1241.5\" stroke=\"black\"/>\n",
       "<text font-family=\"Times,serif\" font-size=\"14.00\" text-anchor=\"middle\" x=\"1368.5\" y=\"-1255.8\">batch_normalization_16: BatchNormalization</text>\n",
       "</g>\n",
       "<!-- 139745955847024&#45;&gt;139745955255968 -->\n",
       "<g class=\"edge\" id=\"edge77\"><title>139745955847024-&gt;139745955255968</title>\n",
       "<path d=\"M1352.58,-1314.31C1354.98,-1306.2 1357.9,-1296.34 1360.58,-1287.28\" fill=\"none\" stroke=\"black\"/>\n",
       "<polygon fill=\"black\" points=\"1363.98,-1288.11 1363.46,-1277.53 1357.27,-1286.13 1363.98,-1288.11\" stroke=\"black\"/>\n",
       "</g>\n",
       "<!-- 139745855854800 -->\n",
       "<g class=\"node\" id=\"node71\"><title>139745855854800</title>\n",
       "<polygon fill=\"none\" points=\"480,-1241.5 480,-1277.5 821,-1277.5 821,-1241.5 480,-1241.5\" stroke=\"black\"/>\n",
       "<text font-family=\"Times,serif\" font-size=\"14.00\" text-anchor=\"middle\" x=\"650.5\" y=\"-1255.8\">batch_normalization_17: BatchNormalization</text>\n",
       "</g>\n",
       "<!-- 139745856169352&#45;&gt;139745855854800 -->\n",
       "<g class=\"edge\" id=\"edge78\"><title>139745856169352-&gt;139745855854800</title>\n",
       "<path d=\"M665.659,-1314.31C663.374,-1306.2 660.595,-1296.34 658.043,-1287.28\" fill=\"none\" stroke=\"black\"/>\n",
       "<polygon fill=\"black\" points=\"661.377,-1286.21 655.297,-1277.53 654.639,-1288.1 661.377,-1286.21\" stroke=\"black\"/>\n",
       "</g>\n",
       "<!-- 139745956563768 -->\n",
       "<g class=\"node\" id=\"node72\"><title>139745956563768</title>\n",
       "<polygon fill=\"none\" points=\"926.5,-1168.5 926.5,-1204.5 1092.5,-1204.5 1092.5,-1168.5 926.5,-1168.5\" stroke=\"black\"/>\n",
       "<text font-family=\"Times,serif\" font-size=\"14.00\" text-anchor=\"middle\" x=\"1009.5\" y=\"-1182.8\">dropout_13: Dropout</text>\n",
       "</g>\n",
       "<!-- 139745956563096&#45;&gt;139745956563768 -->\n",
       "<g class=\"edge\" id=\"edge79\"><title>139745956563096-&gt;139745956563768</title>\n",
       "<path d=\"M1009.5,-1241.31C1009.5,-1233.29 1009.5,-1223.55 1009.5,-1214.57\" fill=\"none\" stroke=\"black\"/>\n",
       "<polygon fill=\"black\" points=\"1013,-1214.53 1009.5,-1204.53 1006,-1214.53 1013,-1214.53\" stroke=\"black\"/>\n",
       "</g>\n",
       "<!-- 139745955258264 -->\n",
       "<g class=\"node\" id=\"node73\"><title>139745955258264</title>\n",
       "<polygon fill=\"none\" points=\"1197.5,-1168.5 1197.5,-1204.5 1363.5,-1204.5 1363.5,-1168.5 1197.5,-1168.5\" stroke=\"black\"/>\n",
       "<text font-family=\"Times,serif\" font-size=\"14.00\" text-anchor=\"middle\" x=\"1280.5\" y=\"-1182.8\">dropout_14: Dropout</text>\n",
       "</g>\n",
       "<!-- 139745955255968&#45;&gt;139745955258264 -->\n",
       "<g class=\"edge\" id=\"edge80\"><title>139745955255968-&gt;139745955258264</title>\n",
       "<path d=\"M1347.2,-1241.31C1335.85,-1232.16 1321.72,-1220.76 1309.4,-1210.82\" fill=\"none\" stroke=\"black\"/>\n",
       "<polygon fill=\"black\" points=\"1311.59,-1208.08 1301.61,-1204.53 1307.19,-1213.53 1311.59,-1208.08\" stroke=\"black\"/>\n",
       "</g>\n",
       "<!-- 139745855856536 -->\n",
       "<g class=\"node\" id=\"node74\"><title>139745855856536</title>\n",
       "<polygon fill=\"none\" points=\"655.5,-1168.5 655.5,-1204.5 821.5,-1204.5 821.5,-1168.5 655.5,-1168.5\" stroke=\"black\"/>\n",
       "<text font-family=\"Times,serif\" font-size=\"14.00\" text-anchor=\"middle\" x=\"738.5\" y=\"-1182.8\">dropout_15: Dropout</text>\n",
       "</g>\n",
       "<!-- 139745855854800&#45;&gt;139745855856536 -->\n",
       "<g class=\"edge\" id=\"edge81\"><title>139745855854800-&gt;139745855856536</title>\n",
       "<path d=\"M671.802,-1241.31C683.152,-1232.16 697.276,-1220.76 709.601,-1210.82\" fill=\"none\" stroke=\"black\"/>\n",
       "<polygon fill=\"black\" points=\"711.809,-1213.53 717.394,-1204.53 707.413,-1208.08 711.809,-1213.53\" stroke=\"black\"/>\n",
       "</g>\n",
       "<!-- 139745855961296 -->\n",
       "<g class=\"node\" id=\"node75\"><title>139745855961296</title>\n",
       "<polygon fill=\"none\" points=\"870.5,-1095.5 870.5,-1131.5 1148.5,-1131.5 1148.5,-1095.5 870.5,-1095.5\" stroke=\"black\"/>\n",
       "<text font-family=\"Times,serif\" font-size=\"14.00\" text-anchor=\"middle\" x=\"1009.5\" y=\"-1109.8\">main_1_Inception_end: Concatenate</text>\n",
       "</g>\n",
       "<!-- 139745956563768&#45;&gt;139745855961296 -->\n",
       "<g class=\"edge\" id=\"edge82\"><title>139745956563768-&gt;139745855961296</title>\n",
       "<path d=\"M1009.5,-1168.31C1009.5,-1160.29 1009.5,-1150.55 1009.5,-1141.57\" fill=\"none\" stroke=\"black\"/>\n",
       "<polygon fill=\"black\" points=\"1013,-1141.53 1009.5,-1131.53 1006,-1141.53 1013,-1141.53\" stroke=\"black\"/>\n",
       "</g>\n",
       "<!-- 139745955258264&#45;&gt;139745855961296 -->\n",
       "<g class=\"edge\" id=\"edge83\"><title>139745955258264-&gt;139745855961296</title>\n",
       "<path d=\"M1215.59,-1168.49C1176.16,-1158.16 1125.66,-1144.93 1084.52,-1134.16\" fill=\"none\" stroke=\"black\"/>\n",
       "<polygon fill=\"black\" points=\"1085.38,-1130.76 1074.82,-1131.61 1083.61,-1137.53 1085.38,-1130.76\" stroke=\"black\"/>\n",
       "</g>\n",
       "<!-- 139745855856536&#45;&gt;139745855961296 -->\n",
       "<g class=\"edge\" id=\"edge84\"><title>139745855856536-&gt;139745855961296</title>\n",
       "<path d=\"M803.411,-1168.49C842.842,-1158.16 893.337,-1144.93 934.476,-1134.16\" fill=\"none\" stroke=\"black\"/>\n",
       "<polygon fill=\"black\" points=\"935.393,-1137.53 944.179,-1131.61 933.619,-1130.76 935.393,-1137.53\" stroke=\"black\"/>\n",
       "</g>\n",
       "<!-- 139745853347544 -->\n",
       "<g class=\"node\" id=\"node76\"><title>139745853347544</title>\n",
       "<polygon fill=\"none\" points=\"717.5,-1022.5 717.5,-1058.5 947.5,-1058.5 947.5,-1022.5 717.5,-1022.5\" stroke=\"black\"/>\n",
       "<text font-family=\"Times,serif\" font-size=\"14.00\" text-anchor=\"middle\" x=\"832.5\" y=\"-1036.8\">main_231_Conv_1_1: Conv2D</text>\n",
       "</g>\n",
       "<!-- 139745855961296&#45;&gt;139745853347544 -->\n",
       "<g class=\"edge\" id=\"edge85\"><title>139745855961296-&gt;139745853347544</title>\n",
       "<path d=\"M967.104,-1095.49C942.328,-1085.56 910.864,-1072.93 884.588,-1062.39\" fill=\"none\" stroke=\"black\"/>\n",
       "<polygon fill=\"black\" points=\"885.748,-1059.09 875.163,-1058.61 883.142,-1065.58 885.748,-1059.09\" stroke=\"black\"/>\n",
       "</g>\n",
       "<!-- 139745855960736 -->\n",
       "<g class=\"node\" id=\"node77\"><title>139745855960736</title>\n",
       "<polygon fill=\"none\" points=\"894.5,-949.5 894.5,-985.5 1124.5,-985.5 1124.5,-949.5 894.5,-949.5\" stroke=\"black\"/>\n",
       "<text font-family=\"Times,serif\" font-size=\"14.00\" text-anchor=\"middle\" x=\"1009.5\" y=\"-963.8\">main_211_Conv_1_1: Conv2D</text>\n",
       "</g>\n",
       "<!-- 139745855961296&#45;&gt;139745855960736 -->\n",
       "<g class=\"edge\" id=\"edge86\"><title>139745855961296-&gt;139745855960736</title>\n",
       "<path d=\"M1009.5,-1095.42C1009.5,-1070.84 1009.5,-1025.25 1009.5,-995.927\" fill=\"none\" stroke=\"black\"/>\n",
       "<polygon fill=\"black\" points=\"1013,-995.562 1009.5,-985.562 1006,-995.562 1013,-995.562\" stroke=\"black\"/>\n",
       "</g>\n",
       "<!-- 139745854663088 -->\n",
       "<g class=\"node\" id=\"node78\"><title>139745854663088</title>\n",
       "<polygon fill=\"none\" points=\"1037.5,-1022.5 1037.5,-1058.5 1267.5,-1058.5 1267.5,-1022.5 1037.5,-1022.5\" stroke=\"black\"/>\n",
       "<text font-family=\"Times,serif\" font-size=\"14.00\" text-anchor=\"middle\" x=\"1152.5\" y=\"-1036.8\">main_221_Conv_3_3: Conv2D</text>\n",
       "</g>\n",
       "<!-- 139745855961296&#45;&gt;139745854663088 -->\n",
       "<g class=\"edge\" id=\"edge87\"><title>139745855961296-&gt;139745854663088</title>\n",
       "<path d=\"M1043.75,-1095.49C1063.33,-1085.77 1088.08,-1073.49 1109.02,-1063.09\" fill=\"none\" stroke=\"black\"/>\n",
       "<polygon fill=\"black\" points=\"1110.63,-1066.2 1118.03,-1058.61 1107.52,-1059.93 1110.63,-1066.2\" stroke=\"black\"/>\n",
       "</g>\n",
       "<!-- 139745852428184 -->\n",
       "<g class=\"node\" id=\"node79\"><title>139745852428184</title>\n",
       "<polygon fill=\"none\" points=\"609.5,-949.5 609.5,-985.5 839.5,-985.5 839.5,-949.5 609.5,-949.5\" stroke=\"black\"/>\n",
       "<text font-family=\"Times,serif\" font-size=\"14.00\" text-anchor=\"middle\" x=\"724.5\" y=\"-963.8\">main_232_Conv_5_5: Conv2D</text>\n",
       "</g>\n",
       "<!-- 139745853347544&#45;&gt;139745852428184 -->\n",
       "<g class=\"edge\" id=\"edge88\"><title>139745853347544-&gt;139745852428184</title>\n",
       "<path d=\"M806.631,-1022.49C792.442,-1013.17 774.658,-1001.47 759.27,-991.358\" fill=\"none\" stroke=\"black\"/>\n",
       "<polygon fill=\"black\" points=\"760.811,-988.182 750.532,-985.614 756.965,-994.032 760.811,-988.182\" stroke=\"black\"/>\n",
       "</g>\n",
       "<!-- 139745856048936 -->\n",
       "<g class=\"node\" id=\"node80\"><title>139745856048936</title>\n",
       "<polygon fill=\"none\" points=\"859.5,-876.5 859.5,-912.5 1159.5,-912.5 1159.5,-876.5 859.5,-876.5\" stroke=\"black\"/>\n",
       "<text font-family=\"Times,serif\" font-size=\"14.00\" text-anchor=\"middle\" x=\"1009.5\" y=\"-890.8\">main_212_MaxPool_2_2: MaxPooling2D</text>\n",
       "</g>\n",
       "<!-- 139745855960736&#45;&gt;139745856048936 -->\n",
       "<g class=\"edge\" id=\"edge89\"><title>139745855960736-&gt;139745856048936</title>\n",
       "<path d=\"M1009.5,-949.313C1009.5,-941.289 1009.5,-931.547 1009.5,-922.569\" fill=\"none\" stroke=\"black\"/>\n",
       "<polygon fill=\"black\" points=\"1013,-922.529 1009.5,-912.529 1006,-922.529 1013,-922.529\" stroke=\"black\"/>\n",
       "</g>\n",
       "<!-- 139745853713376 -->\n",
       "<g class=\"node\" id=\"node81\"><title>139745853713376</title>\n",
       "<polygon fill=\"none\" points=\"1197.5,-876.5 1197.5,-912.5 1497.5,-912.5 1497.5,-876.5 1197.5,-876.5\" stroke=\"black\"/>\n",
       "<text font-family=\"Times,serif\" font-size=\"14.00\" text-anchor=\"middle\" x=\"1347.5\" y=\"-890.8\">main_222_MaxPool_2_2: MaxPooling2D</text>\n",
       "</g>\n",
       "<!-- 139745854663088&#45;&gt;139745853713376 -->\n",
       "<g class=\"edge\" id=\"edge90\"><title>139745854663088-&gt;139745853713376</title>\n",
       "<path d=\"M1175.63,-1022.42C1210.53,-996.65 1276.7,-947.785 1315.97,-918.783\" fill=\"none\" stroke=\"black\"/>\n",
       "<polygon fill=\"black\" points=\"1318.43,-921.318 1324.4,-912.562 1314.27,-915.687 1318.43,-921.318\" stroke=\"black\"/>\n",
       "</g>\n",
       "<!-- 139745852263112 -->\n",
       "<g class=\"node\" id=\"node82\"><title>139745852263112</title>\n",
       "<polygon fill=\"none\" points=\"520.5,-876.5 520.5,-912.5 820.5,-912.5 820.5,-876.5 520.5,-876.5\" stroke=\"black\"/>\n",
       "<text font-family=\"Times,serif\" font-size=\"14.00\" text-anchor=\"middle\" x=\"670.5\" y=\"-890.8\">main_233_MaxPool_2_2: MaxPooling2D</text>\n",
       "</g>\n",
       "<!-- 139745852428184&#45;&gt;139745852263112 -->\n",
       "<g class=\"edge\" id=\"edge91\"><title>139745852428184-&gt;139745852263112</title>\n",
       "<path d=\"M711.428,-949.313C704.862,-940.679 696.781,-930.055 689.54,-920.534\" fill=\"none\" stroke=\"black\"/>\n",
       "<polygon fill=\"black\" points=\"692.291,-918.37 683.452,-912.529 686.719,-922.607 692.291,-918.37\" stroke=\"black\"/>\n",
       "</g>\n",
       "<!-- 139745854556592 -->\n",
       "<g class=\"node\" id=\"node83\"><title>139745854556592</title>\n",
       "<polygon fill=\"none\" points=\"839,-803.5 839,-839.5 1180,-839.5 1180,-803.5 839,-803.5\" stroke=\"black\"/>\n",
       "<text font-family=\"Times,serif\" font-size=\"14.00\" text-anchor=\"middle\" x=\"1009.5\" y=\"-817.8\">batch_normalization_18: BatchNormalization</text>\n",
       "</g>\n",
       "<!-- 139745856048936&#45;&gt;139745854556592 -->\n",
       "<g class=\"edge\" id=\"edge92\"><title>139745856048936-&gt;139745854556592</title>\n",
       "<path d=\"M1009.5,-876.313C1009.5,-868.289 1009.5,-858.547 1009.5,-849.569\" fill=\"none\" stroke=\"black\"/>\n",
       "<polygon fill=\"black\" points=\"1013,-849.529 1009.5,-839.529 1006,-849.529 1013,-849.529\" stroke=\"black\"/>\n",
       "</g>\n",
       "<!-- 139745853249240 -->\n",
       "<g class=\"node\" id=\"node84\"><title>139745853249240</title>\n",
       "<polygon fill=\"none\" points=\"1198,-803.5 1198,-839.5 1539,-839.5 1539,-803.5 1198,-803.5\" stroke=\"black\"/>\n",
       "<text font-family=\"Times,serif\" font-size=\"14.00\" text-anchor=\"middle\" x=\"1368.5\" y=\"-817.8\">batch_normalization_19: BatchNormalization</text>\n",
       "</g>\n",
       "<!-- 139745853713376&#45;&gt;139745853249240 -->\n",
       "<g class=\"edge\" id=\"edge93\"><title>139745853713376-&gt;139745853249240</title>\n",
       "<path d=\"M1352.58,-876.313C1354.98,-868.202 1357.9,-858.336 1360.58,-849.277\" fill=\"none\" stroke=\"black\"/>\n",
       "<polygon fill=\"black\" points=\"1363.98,-850.111 1363.46,-839.529 1357.27,-848.125 1363.98,-850.111\" stroke=\"black\"/>\n",
       "</g>\n",
       "<!-- 139745852052984 -->\n",
       "<g class=\"node\" id=\"node85\"><title>139745852052984</title>\n",
       "<polygon fill=\"none\" points=\"480,-803.5 480,-839.5 821,-839.5 821,-803.5 480,-803.5\" stroke=\"black\"/>\n",
       "<text font-family=\"Times,serif\" font-size=\"14.00\" text-anchor=\"middle\" x=\"650.5\" y=\"-817.8\">batch_normalization_20: BatchNormalization</text>\n",
       "</g>\n",
       "<!-- 139745852263112&#45;&gt;139745852052984 -->\n",
       "<g class=\"edge\" id=\"edge94\"><title>139745852263112-&gt;139745852052984</title>\n",
       "<path d=\"M665.659,-876.313C663.374,-868.202 660.595,-858.336 658.043,-849.277\" fill=\"none\" stroke=\"black\"/>\n",
       "<polygon fill=\"black\" points=\"661.377,-848.205 655.297,-839.529 654.639,-850.103 661.377,-848.205\" stroke=\"black\"/>\n",
       "</g>\n",
       "<!-- 139745854558104 -->\n",
       "<g class=\"node\" id=\"node86\"><title>139745854558104</title>\n",
       "<polygon fill=\"none\" points=\"926.5,-730.5 926.5,-766.5 1092.5,-766.5 1092.5,-730.5 926.5,-730.5\" stroke=\"black\"/>\n",
       "<text font-family=\"Times,serif\" font-size=\"14.00\" text-anchor=\"middle\" x=\"1009.5\" y=\"-744.8\">dropout_16: Dropout</text>\n",
       "</g>\n",
       "<!-- 139745854556592&#45;&gt;139745854558104 -->\n",
       "<g class=\"edge\" id=\"edge95\"><title>139745854556592-&gt;139745854558104</title>\n",
       "<path d=\"M1009.5,-803.313C1009.5,-795.289 1009.5,-785.547 1009.5,-776.569\" fill=\"none\" stroke=\"black\"/>\n",
       "<polygon fill=\"black\" points=\"1013,-776.529 1009.5,-766.529 1006,-776.529 1013,-776.529\" stroke=\"black\"/>\n",
       "</g>\n",
       "<!-- 139745853251144 -->\n",
       "<g class=\"node\" id=\"node87\"><title>139745853251144</title>\n",
       "<polygon fill=\"none\" points=\"1197.5,-730.5 1197.5,-766.5 1363.5,-766.5 1363.5,-730.5 1197.5,-730.5\" stroke=\"black\"/>\n",
       "<text font-family=\"Times,serif\" font-size=\"14.00\" text-anchor=\"middle\" x=\"1280.5\" y=\"-744.8\">dropout_17: Dropout</text>\n",
       "</g>\n",
       "<!-- 139745853249240&#45;&gt;139745853251144 -->\n",
       "<g class=\"edge\" id=\"edge96\"><title>139745853249240-&gt;139745853251144</title>\n",
       "<path d=\"M1347.2,-803.313C1335.85,-794.156 1321.72,-782.76 1309.4,-772.816\" fill=\"none\" stroke=\"black\"/>\n",
       "<polygon fill=\"black\" points=\"1311.59,-770.084 1301.61,-766.529 1307.19,-775.532 1311.59,-770.084\" stroke=\"black\"/>\n",
       "</g>\n",
       "<!-- 139745852053656 -->\n",
       "<g class=\"node\" id=\"node88\"><title>139745852053656</title>\n",
       "<polygon fill=\"none\" points=\"655.5,-730.5 655.5,-766.5 821.5,-766.5 821.5,-730.5 655.5,-730.5\" stroke=\"black\"/>\n",
       "<text font-family=\"Times,serif\" font-size=\"14.00\" text-anchor=\"middle\" x=\"738.5\" y=\"-744.8\">dropout_18: Dropout</text>\n",
       "</g>\n",
       "<!-- 139745852052984&#45;&gt;139745852053656 -->\n",
       "<g class=\"edge\" id=\"edge97\"><title>139745852052984-&gt;139745852053656</title>\n",
       "<path d=\"M671.802,-803.313C683.152,-794.156 697.276,-782.76 709.601,-772.816\" fill=\"none\" stroke=\"black\"/>\n",
       "<polygon fill=\"black\" points=\"711.809,-775.532 717.394,-766.529 707.413,-770.084 711.809,-775.532\" stroke=\"black\"/>\n",
       "</g>\n",
       "<!-- 139745851416024 -->\n",
       "<g class=\"node\" id=\"node89\"><title>139745851416024</title>\n",
       "<polygon fill=\"none\" points=\"870.5,-657.5 870.5,-693.5 1148.5,-693.5 1148.5,-657.5 870.5,-657.5\" stroke=\"black\"/>\n",
       "<text font-family=\"Times,serif\" font-size=\"14.00\" text-anchor=\"middle\" x=\"1009.5\" y=\"-671.8\">main_2_Inception_end: Concatenate</text>\n",
       "</g>\n",
       "<!-- 139745854558104&#45;&gt;139745851416024 -->\n",
       "<g class=\"edge\" id=\"edge98\"><title>139745854558104-&gt;139745851416024</title>\n",
       "<path d=\"M1009.5,-730.313C1009.5,-722.289 1009.5,-712.547 1009.5,-703.569\" fill=\"none\" stroke=\"black\"/>\n",
       "<polygon fill=\"black\" points=\"1013,-703.529 1009.5,-693.529 1006,-703.529 1013,-703.529\" stroke=\"black\"/>\n",
       "</g>\n",
       "<!-- 139745853251144&#45;&gt;139745851416024 -->\n",
       "<g class=\"edge\" id=\"edge99\"><title>139745853251144-&gt;139745851416024</title>\n",
       "<path d=\"M1215.59,-730.494C1176.16,-720.163 1125.66,-706.934 1084.52,-696.156\" fill=\"none\" stroke=\"black\"/>\n",
       "<polygon fill=\"black\" points=\"1085.38,-692.762 1074.82,-693.614 1083.61,-699.534 1085.38,-692.762\" stroke=\"black\"/>\n",
       "</g>\n",
       "<!-- 139745852053656&#45;&gt;139745851416024 -->\n",
       "<g class=\"edge\" id=\"edge100\"><title>139745852053656-&gt;139745851416024</title>\n",
       "<path d=\"M803.411,-730.494C842.842,-720.163 893.337,-706.934 934.476,-696.156\" fill=\"none\" stroke=\"black\"/>\n",
       "<polygon fill=\"black\" points=\"935.393,-699.534 944.179,-693.614 933.619,-692.762 935.393,-699.534\" stroke=\"black\"/>\n",
       "</g>\n",
       "<!-- 139745851625424 -->\n",
       "<g class=\"node\" id=\"node90\"><title>139745851625424</title>\n",
       "<polygon fill=\"none\" points=\"939,-584.5 939,-620.5 1080,-620.5 1080,-584.5 939,-584.5\" stroke=\"black\"/>\n",
       "<text font-family=\"Times,serif\" font-size=\"14.00\" text-anchor=\"middle\" x=\"1009.5\" y=\"-598.8\">flatten_1: Flatten</text>\n",
       "</g>\n",
       "<!-- 139745851416024&#45;&gt;139745851625424 -->\n",
       "<g class=\"edge\" id=\"edge101\"><title>139745851416024-&gt;139745851625424</title>\n",
       "<path d=\"M1009.5,-657.313C1009.5,-649.289 1009.5,-639.547 1009.5,-630.569\" fill=\"none\" stroke=\"black\"/>\n",
       "<polygon fill=\"black\" points=\"1013,-630.529 1009.5,-620.529 1006,-630.529 1013,-630.529\" stroke=\"black\"/>\n",
       "</g>\n",
       "<!-- 139745851835616 -->\n",
       "<g class=\"node\" id=\"node92\"><title>139745851835616</title>\n",
       "<polygon fill=\"none\" points=\"991,-511.5 991,-547.5 1212,-547.5 1212,-511.5 991,-511.5\" stroke=\"black\"/>\n",
       "<text font-family=\"Times,serif\" font-size=\"14.00\" text-anchor=\"middle\" x=\"1101.5\" y=\"-525.8\">concatenate_2: Concatenate</text>\n",
       "</g>\n",
       "<!-- 139745851625424&#45;&gt;139745851835616 -->\n",
       "<g class=\"edge\" id=\"edge102\"><title>139745851625424-&gt;139745851835616</title>\n",
       "<path d=\"M1031.77,-584.313C1043.64,-575.156 1058.4,-563.76 1071.29,-553.816\" fill=\"none\" stroke=\"black\"/>\n",
       "<polygon fill=\"black\" points=\"1073.66,-556.409 1079.43,-547.529 1069.38,-550.868 1073.66,-556.409\" stroke=\"black\"/>\n",
       "</g>\n",
       "<!-- 139745850806680 -->\n",
       "<g class=\"node\" id=\"node91\"><title>139745850806680</title>\n",
       "<polygon fill=\"none\" points=\"1098.5,-584.5 1098.5,-620.5 1288.5,-620.5 1288.5,-584.5 1098.5,-584.5\" stroke=\"black\"/>\n",
       "<text font-family=\"Times,serif\" font-size=\"14.00\" text-anchor=\"middle\" x=\"1193.5\" y=\"-598.8\">angle_input: InputLayer</text>\n",
       "</g>\n",
       "<!-- 139745850806680&#45;&gt;139745851835616 -->\n",
       "<g class=\"edge\" id=\"edge103\"><title>139745850806680-&gt;139745851835616</title>\n",
       "<path d=\"M1171.23,-584.313C1159.36,-575.156 1144.6,-563.76 1131.71,-553.816\" fill=\"none\" stroke=\"black\"/>\n",
       "<polygon fill=\"black\" points=\"1133.62,-550.868 1123.57,-547.529 1129.34,-556.409 1133.62,-550.868\" stroke=\"black\"/>\n",
       "</g>\n",
       "<!-- 139745850731936 -->\n",
       "<g class=\"node\" id=\"node93\"><title>139745850731936</title>\n",
       "<polygon fill=\"none\" points=\"1037.5,-438.5 1037.5,-474.5 1165.5,-474.5 1165.5,-438.5 1037.5,-438.5\" stroke=\"black\"/>\n",
       "<text font-family=\"Times,serif\" font-size=\"14.00\" text-anchor=\"middle\" x=\"1101.5\" y=\"-452.8\">dense_1: Dense</text>\n",
       "</g>\n",
       "<!-- 139745851835616&#45;&gt;139745850731936 -->\n",
       "<g class=\"edge\" id=\"edge104\"><title>139745851835616-&gt;139745850731936</title>\n",
       "<path d=\"M1101.5,-511.313C1101.5,-503.289 1101.5,-493.547 1101.5,-484.569\" fill=\"none\" stroke=\"black\"/>\n",
       "<polygon fill=\"black\" points=\"1105,-484.529 1101.5,-474.529 1098,-484.529 1105,-484.529\" stroke=\"black\"/>\n",
       "</g>\n",
       "<!-- 139745850328008 -->\n",
       "<g class=\"node\" id=\"node94\"><title>139745850328008</title>\n",
       "<polygon fill=\"none\" points=\"931,-365.5 931,-401.5 1272,-401.5 1272,-365.5 931,-365.5\" stroke=\"black\"/>\n",
       "<text font-family=\"Times,serif\" font-size=\"14.00\" text-anchor=\"middle\" x=\"1101.5\" y=\"-379.8\">batch_normalization_21: BatchNormalization</text>\n",
       "</g>\n",
       "<!-- 139745850731936&#45;&gt;139745850328008 -->\n",
       "<g class=\"edge\" id=\"edge105\"><title>139745850731936-&gt;139745850328008</title>\n",
       "<path d=\"M1101.5,-438.313C1101.5,-430.289 1101.5,-420.547 1101.5,-411.569\" fill=\"none\" stroke=\"black\"/>\n",
       "<polygon fill=\"black\" points=\"1105,-411.529 1101.5,-401.529 1098,-411.529 1105,-411.529\" stroke=\"black\"/>\n",
       "</g>\n",
       "<!-- 139745850452400 -->\n",
       "<g class=\"node\" id=\"node95\"><title>139745850452400</title>\n",
       "<polygon fill=\"none\" points=\"1018.5,-292.5 1018.5,-328.5 1184.5,-328.5 1184.5,-292.5 1018.5,-292.5\" stroke=\"black\"/>\n",
       "<text font-family=\"Times,serif\" font-size=\"14.00\" text-anchor=\"middle\" x=\"1101.5\" y=\"-306.8\">dropout_19: Dropout</text>\n",
       "</g>\n",
       "<!-- 139745850328008&#45;&gt;139745850452400 -->\n",
       "<g class=\"edge\" id=\"edge106\"><title>139745850328008-&gt;139745850452400</title>\n",
       "<path d=\"M1101.5,-365.313C1101.5,-357.289 1101.5,-347.547 1101.5,-338.569\" fill=\"none\" stroke=\"black\"/>\n",
       "<polygon fill=\"black\" points=\"1105,-338.529 1101.5,-328.529 1098,-338.529 1105,-338.529\" stroke=\"black\"/>\n",
       "</g>\n",
       "<!-- 139745850037920 -->\n",
       "<g class=\"node\" id=\"node96\"><title>139745850037920</title>\n",
       "<polygon fill=\"none\" points=\"1037.5,-219.5 1037.5,-255.5 1165.5,-255.5 1165.5,-219.5 1037.5,-219.5\" stroke=\"black\"/>\n",
       "<text font-family=\"Times,serif\" font-size=\"14.00\" text-anchor=\"middle\" x=\"1101.5\" y=\"-233.8\">dense_2: Dense</text>\n",
       "</g>\n",
       "<!-- 139745850452400&#45;&gt;139745850037920 -->\n",
       "<g class=\"edge\" id=\"edge107\"><title>139745850452400-&gt;139745850037920</title>\n",
       "<path d=\"M1101.5,-292.313C1101.5,-284.289 1101.5,-274.547 1101.5,-265.569\" fill=\"none\" stroke=\"black\"/>\n",
       "<polygon fill=\"black\" points=\"1105,-265.529 1101.5,-255.529 1098,-265.529 1105,-265.529\" stroke=\"black\"/>\n",
       "</g>\n",
       "<!-- 139745849002808 -->\n",
       "<g class=\"node\" id=\"node97\"><title>139745849002808</title>\n",
       "<polygon fill=\"none\" points=\"931,-146.5 931,-182.5 1272,-182.5 1272,-146.5 931,-146.5\" stroke=\"black\"/>\n",
       "<text font-family=\"Times,serif\" font-size=\"14.00\" text-anchor=\"middle\" x=\"1101.5\" y=\"-160.8\">batch_normalization_22: BatchNormalization</text>\n",
       "</g>\n",
       "<!-- 139745850037920&#45;&gt;139745849002808 -->\n",
       "<g class=\"edge\" id=\"edge108\"><title>139745850037920-&gt;139745849002808</title>\n",
       "<path d=\"M1101.5,-219.313C1101.5,-211.289 1101.5,-201.547 1101.5,-192.569\" fill=\"none\" stroke=\"black\"/>\n",
       "<polygon fill=\"black\" points=\"1105,-192.529 1101.5,-182.529 1098,-192.529 1105,-192.529\" stroke=\"black\"/>\n",
       "</g>\n",
       "<!-- 139745849400736 -->\n",
       "<g class=\"node\" id=\"node98\"><title>139745849400736</title>\n",
       "<polygon fill=\"none\" points=\"1018.5,-73.5 1018.5,-109.5 1184.5,-109.5 1184.5,-73.5 1018.5,-73.5\" stroke=\"black\"/>\n",
       "<text font-family=\"Times,serif\" font-size=\"14.00\" text-anchor=\"middle\" x=\"1101.5\" y=\"-87.8\">dropout_20: Dropout</text>\n",
       "</g>\n",
       "<!-- 139745849002808&#45;&gt;139745849400736 -->\n",
       "<g class=\"edge\" id=\"edge109\"><title>139745849002808-&gt;139745849400736</title>\n",
       "<path d=\"M1101.5,-146.313C1101.5,-138.289 1101.5,-128.547 1101.5,-119.569\" fill=\"none\" stroke=\"black\"/>\n",
       "<polygon fill=\"black\" points=\"1105,-119.529 1101.5,-109.529 1098,-119.529 1105,-119.529\" stroke=\"black\"/>\n",
       "</g>\n",
       "<!-- 139745849130456 -->\n",
       "<g class=\"node\" id=\"node99\"><title>139745849130456</title>\n",
       "<polygon fill=\"none\" points=\"1021.5,-0.5 1021.5,-36.5 1181.5,-36.5 1181.5,-0.5 1021.5,-0.5\" stroke=\"black\"/>\n",
       "<text font-family=\"Times,serif\" font-size=\"14.00\" text-anchor=\"middle\" x=\"1101.5\" y=\"-14.8\">main_output: Dense</text>\n",
       "</g>\n",
       "<!-- 139745849400736&#45;&gt;139745849130456 -->\n",
       "<g class=\"edge\" id=\"edge110\"><title>139745849400736-&gt;139745849130456</title>\n",
       "<path d=\"M1101.5,-73.3129C1101.5,-65.2895 1101.5,-55.5475 1101.5,-46.5691\" fill=\"none\" stroke=\"black\"/>\n",
       "<polygon fill=\"black\" points=\"1105,-46.5288 1101.5,-36.5288 1098,-46.5289 1105,-46.5288\" stroke=\"black\"/>\n",
       "</g>\n",
       "</g>\n",
       "</svg>"
      ],
      "text/plain": [
       "<IPython.core.display.SVG object>"
      ]
     },
     "execution_count": 48,
     "metadata": {},
     "output_type": "execute_result"
    }
   ],
   "source": [
    "from IPython.display import SVG\n",
    "from keras.utils.vis_utils import model_to_dot\n",
    "#import os\n",
    "#os.environ[\"PATH\"] += os.pathsep + 'd:/Anaconda3/Library/bin/graphviz/'\n",
    "SVG(model_to_dot(model_f).create(prog='dot', format='svg'))"
   ]
  },
  {
   "cell_type": "markdown",
   "metadata": {},
   "source": [
    "[>> back to TOC <<](#toc)"
   ]
  },
  {
   "cell_type": "markdown",
   "metadata": {},
   "source": [
    "<a name=\"training-callbacks\"/>\n",
    "### Callbacks"
   ]
  },
  {
   "cell_type": "code",
   "execution_count": 49,
   "metadata": {
    "collapsed": true
   },
   "outputs": [],
   "source": [
    "# learning rate schedule\n",
    "class LScheduler:\n",
    "    def __init__(self, initial_lrate=0.001, drop=0.66, patience=5):\n",
    "        self.initial_lrate=initial_lrate\n",
    "        self.drop = drop\n",
    "        self.patience = patience\n",
    "\n",
    "    def step_decay(self,epoch):\n",
    "        initial_lrate = self.initial_lrate\n",
    "        drop = self.drop\n",
    "        patience = self.patience\n",
    "        lrate = initial_lrate * math.pow(drop, math.floor((1+epoch)/patience))\n",
    "        if math.fmod(epoch, patience) == 0:\n",
    "            print(\"Setting learning rate: \",lrate)\n",
    "        return lrate"
   ]
  },
  {
   "cell_type": "markdown",
   "metadata": {},
   "source": [
    "[>> back to TOC <<](#toc)"
   ]
  },
  {
   "cell_type": "code",
   "execution_count": 53,
   "metadata": {
    "collapsed": true,
    "scrolled": true
   },
   "outputs": [],
   "source": [
    "class ModelHistory(Callback):\n",
    "    def __init__(self, listSize=10):\n",
    "        self.listSize = listSize\n",
    "        self.models = []\n",
    "\n",
    "    def on_epoch_end(self, epoch, logs={}):\n",
    "        lastLoss = logs.get('val_loss')\n",
    "        rank = - lastLoss\n",
    "        model_log = (rank, { 'val_loss':lastLoss,\n",
    "                       'val_acc':logs.get('val_acc'),\n",
    "                       'loss':logs.get('loss'),\n",
    "                       'acc':logs.get('acc'),\n",
    "                       'epoch': epoch,\n",
    "                       'lr': K.get_value(self.model.optimizer.lr),\n",
    "                       'weights':self.model.get_weights()\n",
    "                     })\n",
    "        if len(self.models) < self.listSize: #if the model heap is already full\n",
    "            heapq.heappush(self.models, model_log)\n",
    "        else:\n",
    "            if rank > self.models[0][0]: # new model is better than the worst in the heap\n",
    "                heapq.heappushpop(self.models, model_log)\n",
    "            \n",
    "    def head(self,n=5):\n",
    "        tmp_dict = {\n",
    "            'rank':[],\n",
    "            'val_loss':[],\n",
    "            'val_acc':[],\n",
    "            'loss':[],\n",
    "            'acc':[],\n",
    "            'epoch':[],\n",
    "            'lr':[]\n",
    "        }\n",
    "        for cnt,log in enumerate(heapq.nlargest(n,self.models)):    \n",
    "            tmp_dict['rank'].append(log[0])\n",
    "            tmp_dict['val_loss'].append(log[1]['val_loss'])\n",
    "            tmp_dict['val_acc'].append(log[1]['val_acc'])\n",
    "            tmp_dict['loss'].append(log[1]['loss'])\n",
    "            tmp_dict['acc'].append(log[1]['acc'])\n",
    "            tmp_dict['epoch'].append(log[1]['epoch'])\n",
    "            tmp_dict['lr'].append(log[1]['lr'])\n",
    "        return pd.DataFrame(tmp_dict)[['rank','val_loss','val_acc','loss','acc','lr']].head(n)\n",
    "\n",
    "def get_callbacks(filepath, save_to_disc = True, lScheduler = None, \n",
    "                  step_decay=LScheduler().step_decay, modelHistoryCallback=None):\n",
    "    \n",
    "    msave = ModelCheckpoint(filepath, save_best_only=True)\n",
    "    if lScheduler is None:\n",
    "        lrScheduler = LearningRateScheduler(step_decay)\n",
    "    else:\n",
    "        lrScheduler = lScheduler\n",
    "    tqdmCallback =  TQDMNotebookCallback(leave_inner=True, leave_outer=True)\n",
    "    tensorboard = TensorBoard(log_dir=\"logs/{}\".format(time.time()), histogram_freq=0,  \n",
    "                              write_graph=True, write_images=True)\n",
    "    if (save_to_disc):\n",
    "        return [msave, lrScheduler, modelHistoryCallback, tensorboard]\n",
    "    else:\n",
    "        return [lrScheduler, modelHistoryCallback, tensorboard]"
   ]
  },
  {
   "cell_type": "markdown",
   "metadata": {},
   "source": [
    "[>> back to TOC <<](#toc)"
   ]
  },
  {
   "cell_type": "markdown",
   "metadata": {},
   "source": [
    "<a name=\"model-training\"/>\n",
    "### Model Training"
   ]
  },
  {
   "cell_type": "code",
   "execution_count": 54,
   "metadata": {
    "collapsed": true
   },
   "outputs": [],
   "source": [
    "#name init\n",
    "model_timestamp = str(datetime.datetime.now().strftime(\"%Y_%m_%d_%H_%M_%S\"))\n",
    "model_best_weights_path = model_path + \"weights.\" + model_code + \"_\" + model_timestamp + \".hdf5\"\n",
    "#lScheduler = LScheduler(initial_lrate=0.001, drop=0.66, patience=7)"
   ]
  },
  {
   "cell_type": "code",
   "execution_count": null,
   "metadata": {
    "scrolled": false
   },
   "outputs": [
    {
     "name": "stdout",
     "output_type": "stream",
     "text": [
      "Epoch 1/300\n",
      "5/4 [====================================] - 72s 14s/step - loss: 0.9891 - acc: 0.6077 - val_loss: 2.9492 - val_acc: 0.4931\n",
      "Epoch 2/300\n",
      "5/4 [====================================] - 69s 14s/step - loss: 0.6083 - acc: 0.7075 - val_loss: 4.3707 - val_acc: 0.5017\n",
      "Epoch 3/300\n",
      "5/4 [====================================] - 69s 14s/step - loss: 0.6038 - acc: 0.6712 - val_loss: 1.9656 - val_acc: 0.6007\n",
      "Epoch 4/300\n",
      "5/4 [====================================] - 70s 14s/step - loss: 0.5878 - acc: 0.6891 - val_loss: 1.2773 - val_acc: 0.6233\n",
      "Epoch 5/300\n",
      "5/4 [====================================] - 69s 14s/step - loss: 0.5325 - acc: 0.7336 - val_loss: 1.1757 - val_acc: 0.6480\n",
      "Epoch 6/300\n",
      "5/4 [====================================] - 68s 14s/step - loss: 0.4943 - acc: 0.7596 - val_loss: 1.0593 - val_acc: 0.6441\n",
      "Epoch 7/300\n",
      "5/4 [====================================] - 68s 14s/step - loss: 0.4943 - acc: 0.7604 - val_loss: 1.0166 - val_acc: 0.6562\n",
      "Epoch 8/300\n",
      "5/4 [====================================] - 68s 14s/step - loss: 0.4761 - acc: 0.7626 - val_loss: 0.9495 - val_acc: 0.6410\n",
      "Epoch 9/300\n",
      "5/4 [====================================] - 68s 14s/step - loss: 0.5225 - acc: 0.7737 - val_loss: 0.7001 - val_acc: 0.6944\n",
      "Epoch 10/300\n",
      "5/4 [====================================] - 68s 14s/step - loss: 0.4384 - acc: 0.8026 - val_loss: 0.6041 - val_acc: 0.6935\n",
      "Epoch 11/300\n",
      "5/4 [====================================] - 67s 13s/step - loss: 0.4426 - acc: 0.8055 - val_loss: 0.6009 - val_acc: 0.7170\n",
      "Epoch 12/300\n",
      "5/4 [====================================] - 68s 14s/step - loss: 0.4353 - acc: 0.8074 - val_loss: 0.4556 - val_acc: 0.7795\n",
      "Epoch 13/300\n",
      "5/4 [====================================] - 68s 14s/step - loss: 0.4034 - acc: 0.8193 - val_loss: 0.4878 - val_acc: 0.7723\n",
      "Epoch 14/300\n",
      "5/4 [====================================] - 68s 14s/step - loss: 0.4792 - acc: 0.7867 - val_loss: 0.7770 - val_acc: 0.6528\n",
      "Epoch 15/300\n",
      "5/4 [====================================] - 67s 13s/step - loss: 0.5524 - acc: 0.7445 - val_loss: 0.9303 - val_acc: 0.6743\n",
      "Epoch 16/300\n",
      "5/4 [====================================] - 67s 13s/step - loss: 0.5210 - acc: 0.7794 - val_loss: 0.6115 - val_acc: 0.7622\n",
      "Epoch 17/300\n",
      "5/4 [====================================] - 67s 13s/step - loss: 0.4403 - acc: 0.8099 - val_loss: 0.4370 - val_acc: 0.8229\n",
      "Epoch 18/300\n",
      "5/4 [====================================] - 67s 13s/step - loss: 0.5241 - acc: 0.7981 - val_loss: 0.3862 - val_acc: 0.8196\n",
      "Epoch 19/300\n",
      "5/4 [====================================] - 67s 13s/step - loss: 0.3918 - acc: 0.8223 - val_loss: 0.3574 - val_acc: 0.8351\n",
      "Epoch 20/300\n",
      "5/4 [====================================] - 68s 14s/step - loss: 0.4102 - acc: 0.8043 - val_loss: 0.3992 - val_acc: 0.8389\n",
      "Epoch 21/300\n",
      "5/4 [====================================] - 67s 13s/step - loss: 0.3649 - acc: 0.8387 - val_loss: 0.4088 - val_acc: 0.8368\n",
      "Epoch 22/300\n",
      "5/4 [====================================] - 67s 13s/step - loss: 0.3629 - acc: 0.8546 - val_loss: 0.4026 - val_acc: 0.8125\n",
      "Epoch 23/300\n",
      "5/4 [====================================] - 67s 13s/step - loss: 0.3284 - acc: 0.8706 - val_loss: 0.3873 - val_acc: 0.8424\n",
      "Epoch 24/300\n",
      "5/4 [====================================] - 67s 13s/step - loss: 0.2884 - acc: 0.8767 - val_loss: 0.3572 - val_acc: 0.8438\n",
      "Epoch 25/300\n",
      "5/4 [====================================] - 67s 13s/step - loss: 0.3239 - acc: 0.8668 - val_loss: 0.3812 - val_acc: 0.8406\n",
      "Epoch 26/300\n",
      "5/4 [====================================] - 67s 13s/step - loss: 0.3139 - acc: 0.8717 - val_loss: 0.4013 - val_acc: 0.8003\n",
      "Epoch 27/300\n",
      "5/4 [====================================] - 67s 13s/step - loss: 0.3622 - acc: 0.8277 - val_loss: 0.5053 - val_acc: 0.7691\n",
      "Epoch 28/300\n",
      "5/4 [====================================] - 67s 13s/step - loss: 0.3546 - acc: 0.8342 - val_loss: 0.5031 - val_acc: 0.7513\n",
      "Epoch 29/300\n",
      "5/4 [====================================] - 67s 13s/step - loss: 0.4027 - acc: 0.8253 - val_loss: 0.3778 - val_acc: 0.8281\n",
      "Epoch 30/300\n",
      "5/4 [====================================] - 67s 13s/step - loss: 0.3524 - acc: 0.8543 - val_loss: 0.5167 - val_acc: 0.7110\n",
      "Epoch 31/300\n",
      "5/4 [====================================] - 67s 13s/step - loss: 0.3648 - acc: 0.8391 - val_loss: 0.3451 - val_acc: 0.8559\n",
      "Epoch 32/300\n",
      "5/4 [====================================] - 68s 14s/step - loss: 0.2898 - acc: 0.8681 - val_loss: 0.3381 - val_acc: 0.8611\n",
      "Epoch 33/300\n",
      "5/4 [====================================] - 67s 13s/step - loss: 0.3654 - acc: 0.8218 - val_loss: 0.3352 - val_acc: 0.8529\n",
      "Epoch 34/300\n",
      "5/4 [====================================] - 67s 13s/step - loss: 0.2724 - acc: 0.8929 - val_loss: 0.3745 - val_acc: 0.8281\n",
      "Epoch 35/300\n",
      "5/4 [====================================] - 67s 13s/step - loss: 0.2956 - acc: 0.8636 - val_loss: 0.3488 - val_acc: 0.8529\n",
      "Epoch 36/300\n",
      "5/4 [====================================] - 68s 14s/step - loss: 0.2979 - acc: 0.8647 - val_loss: 0.3296 - val_acc: 0.8628\n",
      "Epoch 37/300\n",
      "5/4 [====================================] - 68s 14s/step - loss: 0.3182 - acc: 0.8601 - val_loss: 0.2936 - val_acc: 0.8750\n",
      "Epoch 38/300\n",
      "5/4 [====================================] - 67s 13s/step - loss: 0.3102 - acc: 0.8760 - val_loss: 0.2970 - val_acc: 0.8757\n",
      "Epoch 39/300\n",
      "5/4 [====================================] - 67s 13s/step - loss: 0.2997 - acc: 0.8588 - val_loss: 0.3322 - val_acc: 0.8542\n",
      "Epoch 40/300\n",
      "5/4 [====================================] - 67s 13s/step - loss: 0.3559 - acc: 0.8550 - val_loss: 0.4278 - val_acc: 0.8109\n",
      "Epoch 41/300\n",
      "5/4 [====================================] - 67s 13s/step - loss: 0.3205 - acc: 0.8553 - val_loss: 0.3222 - val_acc: 0.8455\n",
      "Epoch 42/300\n",
      "5/4 [====================================] - 67s 13s/step - loss: 0.2763 - acc: 0.8811 - val_loss: 0.3737 - val_acc: 0.8212\n",
      "Epoch 43/300\n",
      "5/4 [====================================] - 67s 13s/step - loss: 0.3647 - acc: 0.8405 - val_loss: 0.3322 - val_acc: 0.8476\n",
      "Epoch 44/300\n",
      "5/4 [====================================] - 68s 14s/step - loss: 0.3225 - acc: 0.8696 - val_loss: 0.3558 - val_acc: 0.8403\n",
      "Epoch 45/300\n",
      "5/4 [====================================] - 67s 13s/step - loss: 0.3897 - acc: 0.8348 - val_loss: 0.3610 - val_acc: 0.8336\n",
      "Epoch 46/300\n",
      "5/4 [====================================] - 68s 14s/step - loss: 0.3249 - acc: 0.8507 - val_loss: 0.3378 - val_acc: 0.8698\n",
      "Epoch 47/300\n",
      "5/4 [====================================] - 67s 13s/step - loss: 0.2828 - acc: 0.8814 - val_loss: 0.2991 - val_acc: 0.8785\n",
      "Epoch 48/300\n",
      "5/4 [====================================] - 67s 13s/step - loss: 0.3028 - acc: 0.8798 - val_loss: 0.3019 - val_acc: 0.8599\n",
      "Epoch 49/300\n",
      "5/4 [====================================] - 67s 13s/step - loss: 0.2691 - acc: 0.8728 - val_loss: 0.2951 - val_acc: 0.8681\n",
      "Epoch 50/300\n",
      "5/4 [====================================] - 67s 13s/step - loss: 0.3008 - acc: 0.8518 - val_loss: 0.3046 - val_acc: 0.8529\n",
      "Epoch 51/300\n",
      "5/4 [====================================] - 68s 14s/step - loss: 0.2501 - acc: 0.8984 - val_loss: 0.3170 - val_acc: 0.8611\n",
      "Epoch 52/300\n",
      "5/4 [====================================] - 67s 13s/step - loss: 0.2346 - acc: 0.9205 - val_loss: 0.3220 - val_acc: 0.8663\n",
      "Epoch 53/300\n",
      "5/4 [====================================] - 67s 13s/step - loss: 0.2809 - acc: 0.8906 - val_loss: 0.2820 - val_acc: 0.8774\n",
      "Epoch 54/300\n",
      "5/4 [====================================] - 67s 13s/step - loss: 0.3056 - acc: 0.8752 - val_loss: 0.2893 - val_acc: 0.8681\n",
      "Epoch 55/300\n",
      "5/4 [====================================] - 67s 13s/step - loss: 0.3049 - acc: 0.8626 - val_loss: 0.2957 - val_acc: 0.8722\n",
      "Epoch 56/300\n",
      "5/4 [====================================] - 67s 13s/step - loss: 0.2591 - acc: 0.8847 - val_loss: 0.3494 - val_acc: 0.8125\n",
      "Epoch 57/300\n",
      "5/4 [====================================] - 68s 14s/step - loss: 0.2911 - acc: 0.8504 - val_loss: 0.3887 - val_acc: 0.7934\n",
      "Epoch 58/300\n",
      "5/4 [====================================] - 67s 13s/step - loss: 0.3340 - acc: 0.8911 - val_loss: 0.3141 - val_acc: 0.8529\n",
      "Epoch 59/300\n",
      "5/4 [====================================] - 67s 13s/step - loss: 0.3093 - acc: 0.8655 - val_loss: 0.2983 - val_acc: 0.8854\n",
      "Epoch 60/300\n",
      "5/4 [====================================] - 67s 13s/step - loss: 0.2957 - acc: 0.8752 - val_loss: 0.2986 - val_acc: 0.8827\n"
     ]
    },
    {
     "name": "stdout",
     "output_type": "stream",
     "text": [
      "Epoch 61/300\n",
      "5/4 [====================================] - 67s 13s/step - loss: 0.2510 - acc: 0.8822 - val_loss: 0.2917 - val_acc: 0.8924\n",
      "Epoch 62/300\n",
      "5/4 [====================================] - 67s 13s/step - loss: 0.2405 - acc: 0.9165 - val_loss: 0.2940 - val_acc: 0.8819\n",
      "Epoch 63/300\n",
      "5/4 [====================================] - 67s 13s/step - loss: 0.2652 - acc: 0.8764 - val_loss: 0.2896 - val_acc: 0.8651\n",
      "Epoch 64/300\n",
      "5/4 [====================================] - 67s 13s/step - loss: 0.2703 - acc: 0.8968 - val_loss: 0.2757 - val_acc: 0.8958\n",
      "Epoch 65/300\n",
      "5/4 [====================================] - 67s 13s/step - loss: 0.2401 - acc: 0.9148 - val_loss: 0.3228 - val_acc: 0.8546\n",
      "Epoch 66/300\n",
      "5/4 [====================================] - 67s 13s/step - loss: 0.2795 - acc: 0.8895 - val_loss: 0.3062 - val_acc: 0.8576\n",
      "Epoch 67/300\n",
      "5/4 [====================================] - 67s 13s/step - loss: 0.2709 - acc: 0.8882 - val_loss: 0.2863 - val_acc: 0.8941\n",
      "Epoch 68/300\n",
      "5/4 [====================================] - 67s 13s/step - loss: 0.2665 - acc: 0.9025 - val_loss: 0.3135 - val_acc: 0.8739\n",
      "Epoch 69/300\n",
      "5/4 [====================================] - 67s 13s/step - loss: 0.2908 - acc: 0.8825 - val_loss: 0.3652 - val_acc: 0.8681\n",
      "Epoch 70/300\n",
      "5/4 [====================================] - 67s 13s/step - loss: 0.2481 - acc: 0.9075 - val_loss: 0.3609 - val_acc: 0.8669\n",
      "Epoch 71/300\n",
      "5/4 [====================================] - 67s 13s/step - loss: 0.2746 - acc: 0.8777 - val_loss: 0.3124 - val_acc: 0.8854\n",
      "Epoch 72/300\n",
      "5/4 [====================================] - 67s 13s/step - loss: 0.2587 - acc: 0.8858 - val_loss: 0.3033 - val_acc: 0.8802\n",
      "Epoch 73/300\n",
      "5/4 [====================================] - 67s 13s/step - loss: 0.2855 - acc: 0.8788 - val_loss: 0.3058 - val_acc: 0.8616\n",
      "Epoch 74/300\n",
      "5/4 [====================================] - 67s 13s/step - loss: 0.3958 - acc: 0.8489 - val_loss: 0.3421 - val_acc: 0.8420\n",
      "Epoch 75/300\n",
      "5/4 [====================================] - 66s 13s/step - loss: 0.3353 - acc: 0.8616 - val_loss: 0.3205 - val_acc: 0.8669\n",
      "Epoch 76/300\n",
      "5/4 [====================================] - 67s 13s/step - loss: 0.3010 - acc: 0.8686 - val_loss: 0.3084 - val_acc: 0.8819\n",
      "Epoch 77/300\n",
      "5/4 [====================================] - 67s 13s/step - loss: 0.2605 - acc: 0.8669 - val_loss: 0.2909 - val_acc: 0.8802\n",
      "Epoch 78/300\n",
      "5/4 [====================================] - 67s 13s/step - loss: 0.2746 - acc: 0.8830 - val_loss: 0.4411 - val_acc: 0.8266\n",
      "Epoch 79/300\n",
      "5/4 [====================================] - 67s 13s/step - loss: 0.2879 - acc: 0.8744 - val_loss: 0.5183 - val_acc: 0.8455\n",
      "Epoch 80/300\n",
      "5/4 [====================================] - 67s 13s/step - loss: 0.3002 - acc: 0.8696 - val_loss: 0.4394 - val_acc: 0.8424\n",
      "Epoch 81/300\n",
      "5/4 [====================================] - 67s 13s/step - loss: 0.3480 - acc: 0.8575 - val_loss: 0.3691 - val_acc: 0.8663\n",
      "Epoch 82/300\n",
      "5/4 [====================================] - 67s 13s/step - loss: 0.2708 - acc: 0.8890 - val_loss: 0.3377 - val_acc: 0.8733\n",
      "Epoch 83/300\n",
      "5/4 [====================================] - 67s 13s/step - loss: 0.2656 - acc: 0.9028 - val_loss: 0.2980 - val_acc: 0.8879\n",
      "Epoch 84/300\n",
      "5/4 [====================================] - 67s 13s/step - loss: 0.3169 - acc: 0.8893 - val_loss: 0.2924 - val_acc: 0.8924\n",
      "Epoch 85/300\n",
      "5/4 [====================================] - 67s 13s/step - loss: 0.2209 - acc: 0.9262 - val_loss: 0.3104 - val_acc: 0.8774\n",
      "Epoch 86/300\n",
      "5/4 [====================================] - 67s 13s/step - loss: 0.2299 - acc: 0.9122 - val_loss: 0.3203 - val_acc: 0.8785\n",
      "Epoch 87/300\n",
      "5/4 [====================================] - 67s 13s/step - loss: 0.2907 - acc: 0.8845 - val_loss: 0.3207 - val_acc: 0.8698\n",
      "Epoch 88/300\n",
      "5/4 [====================================] - 67s 13s/step - loss: 0.2238 - acc: 0.8963 - val_loss: 0.3059 - val_acc: 0.8757\n",
      "Epoch 89/300\n",
      "5/4 [====================================] - 67s 13s/step - loss: 0.2228 - acc: 0.9087 - val_loss: 0.2902 - val_acc: 0.8906\n",
      "Epoch 90/300\n",
      "5/4 [====================================] - 67s 13s/step - loss: 0.2469 - acc: 0.9044 - val_loss: 0.3083 - val_acc: 0.8722\n",
      "Epoch 91/300\n",
      "5/4 [====================================] - 67s 13s/step - loss: 0.2402 - acc: 0.9106 - val_loss: 0.3091 - val_acc: 0.8715\n",
      "Epoch 92/300\n",
      "5/4 [====================================] - 67s 13s/step - loss: 0.2152 - acc: 0.9181 - val_loss: 0.2944 - val_acc: 0.8802\n",
      "Epoch 93/300\n",
      "5/4 [====================================] - 67s 13s/step - loss: 0.2095 - acc: 0.8968 - val_loss: 0.2984 - val_acc: 0.8827\n",
      "Epoch 94/300\n",
      "5/4 [====================================] - 67s 13s/step - loss: 0.2700 - acc: 0.8828 - val_loss: 0.2831 - val_acc: 0.8906\n",
      "Epoch 95/300\n",
      "5/4 [====================================] - 67s 13s/step - loss: 0.3085 - acc: 0.8530 - val_loss: 0.3130 - val_acc: 0.8546\n",
      "Epoch 96/300\n",
      "5/4 [====================================] - 67s 13s/step - loss: 0.3216 - acc: 0.8780 - val_loss: 0.3075 - val_acc: 0.8698\n",
      "Epoch 97/300\n",
      "5/4 [====================================] - 67s 13s/step - loss: 0.2464 - acc: 0.8923 - val_loss: 0.2914 - val_acc: 0.8785\n",
      "Epoch 98/300\n",
      "5/4 [====================================] - 67s 13s/step - loss: 0.2508 - acc: 0.8963 - val_loss: 0.3005 - val_acc: 0.8792\n",
      "Epoch 99/300\n",
      "5/4 [====================================] - 67s 13s/step - loss: 0.2489 - acc: 0.9012 - val_loss: 0.2729 - val_acc: 0.8976\n",
      "Epoch 100/300\n",
      "5/4 [====================================] - 67s 13s/step - loss: 0.2883 - acc: 0.8742 - val_loss: 0.2948 - val_acc: 0.8809\n",
      "Epoch 101/300\n",
      "5/4 [====================================] - 67s 13s/step - loss: 0.3259 - acc: 0.8799 - val_loss: 0.2947 - val_acc: 0.8924\n",
      "Epoch 102/300\n",
      "5/4 [====================================] - 67s 13s/step - loss: 0.2971 - acc: 0.8988 - val_loss: 0.2780 - val_acc: 0.8889\n",
      "Epoch 103/300\n",
      "5/4 [====================================] - 67s 13s/step - loss: 0.2696 - acc: 0.9004 - val_loss: 0.2810 - val_acc: 0.8757\n",
      "Epoch 104/300\n",
      "5/4 [====================================] - 67s 13s/step - loss: 0.2561 - acc: 0.8853 - val_loss: 0.2808 - val_acc: 0.8681\n",
      "Epoch 105/300\n",
      "5/4 [====================================] - 67s 13s/step - loss: 0.2157 - acc: 0.9017 - val_loss: 0.2878 - val_acc: 0.8879\n",
      "Epoch 106/300\n",
      "5/4 [====================================] - 67s 13s/step - loss: 0.2258 - acc: 0.8979 - val_loss: 0.2992 - val_acc: 0.8802\n",
      "Epoch 107/300\n",
      "5/4 [====================================] - 67s 13s/step - loss: 0.2594 - acc: 0.8958 - val_loss: 0.3055 - val_acc: 0.8715\n",
      "Epoch 108/300\n",
      "5/4 [====================================] - 67s 13s/step - loss: 0.2473 - acc: 0.8979 - val_loss: 0.3026 - val_acc: 0.8792\n",
      "Epoch 109/300\n",
      "5/4 [====================================] - 67s 13s/step - loss: 0.2514 - acc: 0.8947 - val_loss: 0.3032 - val_acc: 0.8837\n",
      "Epoch 110/300\n",
      "5/4 [====================================] - 67s 13s/step - loss: 0.2827 - acc: 0.8901 - val_loss: 0.3450 - val_acc: 0.8616\n",
      "Epoch 111/300\n",
      "5/4 [====================================] - 67s 13s/step - loss: 0.2041 - acc: 0.9225 - val_loss: 0.3514 - val_acc: 0.8733\n",
      "Epoch 112/300\n",
      "5/4 [====================================] - 67s 13s/step - loss: 0.2933 - acc: 0.8942 - val_loss: 0.3249 - val_acc: 0.8733\n",
      "Epoch 113/300\n",
      "5/4 [====================================] - 67s 13s/step - loss: 0.2236 - acc: 0.8931 - val_loss: 0.3241 - val_acc: 0.8722\n",
      "Epoch 114/300\n",
      "5/4 [====================================] - 67s 13s/step - loss: 0.2094 - acc: 0.9143 - val_loss: 0.3103 - val_acc: 0.8802\n",
      "Epoch 115/300\n",
      "5/4 [====================================] - 67s 13s/step - loss: 0.2125 - acc: 0.9205 - val_loss: 0.3224 - val_acc: 0.8687\n",
      "Epoch 116/300\n",
      "5/4 [====================================] - 67s 13s/step - loss: 0.1983 - acc: 0.9216 - val_loss: 0.3144 - val_acc: 0.8889\n",
      "Epoch 117/300\n",
      "5/4 [====================================] - 67s 13s/step - loss: 0.2559 - acc: 0.8988 - val_loss: 0.3040 - val_acc: 0.8802\n",
      "Epoch 118/300\n",
      "5/4 [====================================] - 67s 13s/step - loss: 0.2040 - acc: 0.9057 - val_loss: 0.3076 - val_acc: 0.8581\n",
      "Epoch 119/300\n",
      "5/4 [====================================] - 67s 13s/step - loss: 0.2059 - acc: 0.9216 - val_loss: 0.2930 - val_acc: 0.8872\n",
      "Epoch 120/300\n"
     ]
    },
    {
     "name": "stdout",
     "output_type": "stream",
     "text": [
      "5/4 [====================================] - 67s 13s/step - loss: 0.2221 - acc: 0.9106 - val_loss: 0.3075 - val_acc: 0.8757\n",
      "Epoch 121/300\n",
      "5/4 [====================================] - 67s 13s/step - loss: 0.1855 - acc: 0.9257 - val_loss: 0.3237 - val_acc: 0.8750\n",
      "Epoch 122/300\n",
      "5/4 [====================================] - 67s 13s/step - loss: 0.2137 - acc: 0.9187 - val_loss: 0.3132 - val_acc: 0.8819\n",
      "Epoch 123/300\n",
      "5/4 [====================================] - 67s 13s/step - loss: 0.2067 - acc: 0.9138 - val_loss: 0.3017 - val_acc: 0.8757\n",
      "Epoch 124/300\n",
      "5/4 [====================================] - 67s 13s/step - loss: 0.2170 - acc: 0.9052 - val_loss: 0.2881 - val_acc: 0.8958\n",
      "Epoch 125/300\n",
      "5/4 [====================================] - 67s 13s/step - loss: 0.2131 - acc: 0.9077 - val_loss: 0.3138 - val_acc: 0.8844\n",
      "Epoch 126/300\n",
      "5/4 [====================================] - 67s 13s/step - loss: 0.1774 - acc: 0.9319 - val_loss: 0.3303 - val_acc: 0.8767\n",
      "Epoch 127/300\n",
      "5/4 [====================================] - 67s 13s/step - loss: 0.1926 - acc: 0.9298 - val_loss: 0.3172 - val_acc: 0.8872\n",
      "Epoch 128/300\n",
      "5/4 [====================================] - 67s 13s/step - loss: 0.1946 - acc: 0.9138 - val_loss: 0.3087 - val_acc: 0.8757\n",
      "Epoch 129/300\n",
      "5/4 [====================================] - 67s 13s/step - loss: 0.2451 - acc: 0.9158 - val_loss: 0.2904 - val_acc: 0.8802\n",
      "Epoch 130/300\n",
      "5/4 [====================================] - 67s 13s/step - loss: 0.2356 - acc: 0.9028 - val_loss: 0.2973 - val_acc: 0.8722\n",
      "Epoch 131/300\n",
      "5/4 [====================================] - 67s 13s/step - loss: 0.2722 - acc: 0.8893 - val_loss: 0.2895 - val_acc: 0.8854\n",
      "Epoch 132/300\n",
      "5/4 [====================================] - 67s 13s/step - loss: 0.1996 - acc: 0.9163 - val_loss: 0.2880 - val_acc: 0.9010\n",
      "Epoch 133/300\n",
      "5/4 [====================================] - 67s 13s/step - loss: 0.2347 - acc: 0.9106 - val_loss: 0.2593 - val_acc: 0.9037\n",
      "Epoch 134/300\n",
      "5/4 [====================================] - 67s 13s/step - loss: 0.1853 - acc: 0.9335 - val_loss: 0.2702 - val_acc: 0.8976\n",
      "Epoch 135/300\n",
      "5/4 [====================================] - 67s 13s/step - loss: 0.2879 - acc: 0.8896 - val_loss: 0.2750 - val_acc: 0.8827\n",
      "Epoch 136/300\n",
      "5/4 [====================================] - 67s 13s/step - loss: 0.2391 - acc: 0.8974 - val_loss: 0.2817 - val_acc: 0.8906\n",
      "Epoch 137/300\n",
      "5/4 [====================================] - 67s 13s/step - loss: 0.1964 - acc: 0.9171 - val_loss: 0.2933 - val_acc: 0.8819\n",
      "Epoch 138/300\n",
      "5/4 [====================================] - 67s 13s/step - loss: 0.1874 - acc: 0.9225 - val_loss: 0.2728 - val_acc: 0.8844\n",
      "Epoch 139/300\n",
      "5/4 [====================================] - 67s 13s/step - loss: 0.2141 - acc: 0.9179 - val_loss: 0.2745 - val_acc: 0.8958\n",
      "Epoch 140/300\n",
      "5/4 [====================================] - 67s 13s/step - loss: 0.2246 - acc: 0.8991 - val_loss: 0.2879 - val_acc: 0.8914\n",
      "Epoch 141/300\n",
      "5/4 [====================================] - 67s 13s/step - loss: 0.1916 - acc: 0.9257 - val_loss: 0.3044 - val_acc: 0.8906\n",
      "Epoch 142/300\n",
      "5/4 [====================================] - 67s 13s/step - loss: 0.2026 - acc: 0.9130 - val_loss: 0.3484 - val_acc: 0.8785\n",
      "Epoch 143/300\n",
      "5/4 [====================================] - 67s 13s/step - loss: 0.2262 - acc: 0.9025 - val_loss: 0.3489 - val_acc: 0.8739\n",
      "Epoch 144/300\n",
      "5/4 [====================================] - 67s 13s/step - loss: 0.2287 - acc: 0.8947 - val_loss: 0.3216 - val_acc: 0.8715\n",
      "Epoch 145/300\n",
      "5/4 [====================================] - 67s 13s/step - loss: 0.2352 - acc: 0.9171 - val_loss: 0.3022 - val_acc: 0.8809\n",
      "Epoch 146/300\n",
      "5/4 [====================================] - 67s 13s/step - loss: 0.1795 - acc: 0.9298 - val_loss: 0.3109 - val_acc: 0.8681\n",
      "Epoch 147/300\n",
      "5/4 [====================================] - 67s 13s/step - loss: 0.2826 - acc: 0.8869 - val_loss: 0.3074 - val_acc: 0.8750\n",
      "Epoch 148/300\n",
      "5/4 [====================================] - 67s 13s/step - loss: 0.2441 - acc: 0.9020 - val_loss: 0.2925 - val_acc: 0.8687\n",
      "Epoch 149/300\n",
      "5/4 [====================================] - 67s 13s/step - loss: 0.2191 - acc: 0.9036 - val_loss: 0.2946 - val_acc: 0.8837\n",
      "Epoch 150/300\n",
      "5/4 [====================================] - 67s 13s/step - loss: 0.1986 - acc: 0.9163 - val_loss: 0.2973 - val_acc: 0.8844\n",
      "Epoch 151/300\n",
      "5/4 [====================================] - 67s 13s/step - loss: 0.2220 - acc: 0.9158 - val_loss: 0.3102 - val_acc: 0.8854\n",
      "Epoch 152/300\n",
      "5/4 [====================================] - 67s 13s/step - loss: 0.1857 - acc: 0.9192 - val_loss: 0.3054 - val_acc: 0.8854\n",
      "Epoch 153/300\n",
      "5/4 [====================================] - 67s 13s/step - loss: 0.2520 - acc: 0.9039 - val_loss: 0.2839 - val_acc: 0.8862\n",
      "Epoch 154/300\n",
      "5/4 [====================================] - 67s 13s/step - loss: 0.1920 - acc: 0.9155 - val_loss: 0.2924 - val_acc: 0.8819\n",
      "Epoch 155/300\n",
      "5/4 [====================================] - 67s 13s/step - loss: 0.1689 - acc: 0.9294 - val_loss: 0.3043 - val_acc: 0.8809\n",
      "Epoch 156/300\n",
      "5/4 [====================================] - 67s 13s/step - loss: 0.1847 - acc: 0.9155 - val_loss: 0.3224 - val_acc: 0.8819\n",
      "Epoch 157/300\n",
      "5/4 [====================================] - 67s 13s/step - loss: 0.1702 - acc: 0.9400 - val_loss: 0.3098 - val_acc: 0.8785\n",
      "Epoch 158/300\n",
      "5/4 [====================================] - 66s 13s/step - loss: 0.1853 - acc: 0.9298 - val_loss: 0.3046 - val_acc: 0.8809\n",
      "Epoch 159/300\n",
      "5/4 [====================================] - 67s 13s/step - loss: 0.1650 - acc: 0.9338 - val_loss: 0.2948 - val_acc: 0.8819\n",
      "Epoch 160/300\n",
      "5/4 [====================================] - 67s 13s/step - loss: 0.1935 - acc: 0.9198 - val_loss: 0.3217 - val_acc: 0.8792\n",
      "Epoch 161/300\n",
      "5/4 [====================================] - 67s 13s/step - loss: 0.1625 - acc: 0.9392 - val_loss: 0.3394 - val_acc: 0.8802\n",
      "Epoch 162/300\n",
      "5/4 [====================================] - 67s 13s/step - loss: 0.1848 - acc: 0.9371 - val_loss: 0.3204 - val_acc: 0.8785\n",
      "Epoch 163/300\n",
      "5/4 [====================================] - 67s 13s/step - loss: 0.1609 - acc: 0.9457 - val_loss: 0.3047 - val_acc: 0.8844\n",
      "Epoch 164/300\n",
      "5/4 [====================================] - 67s 13s/step - loss: 0.2700 - acc: 0.9096 - val_loss: 0.2905 - val_acc: 0.8854\n",
      "Epoch 165/300\n",
      "5/4 [====================================] - 67s 13s/step - loss: 0.2152 - acc: 0.9252 - val_loss: 0.3057 - val_acc: 0.8862\n",
      "Epoch 166/300\n",
      "5/4 [====================================] - 67s 13s/step - loss: 0.1947 - acc: 0.9117 - val_loss: 0.3232 - val_acc: 0.8785\n",
      "Epoch 167/300\n",
      "5/4 [====================================] - 67s 13s/step - loss: 0.1555 - acc: 0.9440 - val_loss: 0.3074 - val_acc: 0.8837\n",
      "Epoch 168/300\n",
      "5/4 [====================================] - 67s 13s/step - loss: 0.1710 - acc: 0.9330 - val_loss: 0.2835 - val_acc: 0.8914\n",
      "Epoch 169/300\n",
      "5/4 [====================================] - 67s 13s/step - loss: 0.2373 - acc: 0.8794 - val_loss: 0.2791 - val_acc: 0.8976\n",
      "Epoch 170/300\n",
      "5/4 [====================================] - 67s 13s/step - loss: 0.1673 - acc: 0.9346 - val_loss: 0.2982 - val_acc: 0.8914\n",
      "Epoch 171/300\n",
      "5/4 [====================================] - 67s 13s/step - loss: 0.1446 - acc: 0.9440 - val_loss: 0.3096 - val_acc: 0.8837\n",
      "Epoch 172/300\n",
      "5/4 [====================================] - 67s 13s/step - loss: 0.1723 - acc: 0.9338 - val_loss: 0.3087 - val_acc: 0.8924\n",
      "Epoch 173/300\n",
      "5/4 [====================================] - 67s 13s/step - loss: 0.2003 - acc: 0.9052 - val_loss: 0.2916 - val_acc: 0.8862\n",
      "Epoch 174/300\n",
      "5/4 [====================================] - 67s 13s/step - loss: 0.1832 - acc: 0.9395 - val_loss: 0.2839 - val_acc: 0.8976\n",
      "Epoch 175/300\n",
      "5/4 [====================================] - 67s 13s/step - loss: 0.1734 - acc: 0.9249 - val_loss: 0.3018 - val_acc: 0.8862\n",
      "Epoch 176/300\n",
      "5/4 [====================================] - 67s 13s/step - loss: 0.1545 - acc: 0.9432 - val_loss: 0.3077 - val_acc: 0.8802\n",
      "Epoch 177/300\n",
      "5/4 [====================================] - 67s 13s/step - loss: 0.1826 - acc: 0.9341 - val_loss: 0.3110 - val_acc: 0.8976\n",
      "Epoch 178/300\n",
      "5/4 [====================================] - 67s 13s/step - loss: 0.1973 - acc: 0.9211 - val_loss: 0.2823 - val_acc: 0.8844\n",
      "Epoch 179/300\n"
     ]
    },
    {
     "name": "stdout",
     "output_type": "stream",
     "text": [
      "5/4 [====================================] - 67s 13s/step - loss: 0.1832 - acc: 0.9301 - val_loss: 0.2790 - val_acc: 0.8993\n",
      "Epoch 180/300\n",
      "5/4 [====================================] - 67s 13s/step - loss: 0.1973 - acc: 0.9211 - val_loss: 0.2990 - val_acc: 0.8897\n",
      "Epoch 181/300\n",
      "5/4 [====================================] - 67s 13s/step - loss: 0.1939 - acc: 0.9211 - val_loss: 0.3156 - val_acc: 0.8819\n",
      "Epoch 182/300\n",
      "5/4 [====================================] - 67s 13s/step - loss: 0.2333 - acc: 0.9134 - val_loss: 0.3198 - val_acc: 0.8785\n",
      "Epoch 183/300\n",
      "5/4 [====================================] - 67s 13s/step - loss: 0.2153 - acc: 0.9039 - val_loss: 0.2943 - val_acc: 0.8914\n",
      "Epoch 184/300\n",
      "5/4 [====================================] - 67s 13s/step - loss: 0.1852 - acc: 0.9155 - val_loss: 0.2834 - val_acc: 0.8906\n",
      "Epoch 185/300\n",
      "5/4 [====================================] - 67s 13s/step - loss: 0.2379 - acc: 0.9117 - val_loss: 0.2990 - val_acc: 0.8897\n",
      "Epoch 186/300\n",
      "5/4 [====================================] - 67s 13s/step - loss: 0.1642 - acc: 0.9289 - val_loss: 0.3112 - val_acc: 0.8837\n",
      "Epoch 187/300\n",
      "5/4 [====================================] - 67s 13s/step - loss: 0.1673 - acc: 0.9444 - val_loss: 0.3068 - val_acc: 0.8889\n",
      "Epoch 188/300\n",
      "5/4 [====================================] - 67s 13s/step - loss: 0.2415 - acc: 0.8986 - val_loss: 0.2869 - val_acc: 0.8897\n",
      "Epoch 189/300\n",
      "5/4 [====================================] - 67s 13s/step - loss: 0.2061 - acc: 0.9134 - val_loss: 0.2817 - val_acc: 0.8924\n",
      "Epoch 190/300\n",
      "5/4 [====================================] - 67s 13s/step - loss: 0.1712 - acc: 0.9268 - val_loss: 0.3040 - val_acc: 0.8792\n",
      "Epoch 191/300\n",
      "5/4 [====================================] - 67s 13s/step - loss: 0.2442 - acc: 0.9182 - val_loss: 0.3161 - val_acc: 0.8854\n",
      "Epoch 192/300\n",
      "5/4 [====================================] - 67s 13s/step - loss: 0.1509 - acc: 0.9367 - val_loss: 0.3126 - val_acc: 0.8854\n",
      "Epoch 193/300\n",
      "5/4 [====================================] - 67s 13s/step - loss: 0.1567 - acc: 0.9427 - val_loss: 0.2976 - val_acc: 0.8862\n",
      "Epoch 194/300\n",
      "5/4 [====================================] - 66s 13s/step - loss: 0.1785 - acc: 0.9268 - val_loss: 0.2890 - val_acc: 0.8889\n",
      "Epoch 195/300\n",
      "5/4 [====================================] - 67s 13s/step - loss: 0.1995 - acc: 0.9085 - val_loss: 0.3036 - val_acc: 0.8792\n",
      "Epoch 196/300\n",
      "5/4 [====================================] - 67s 13s/step - loss: 0.1536 - acc: 0.9457 - val_loss: 0.3059 - val_acc: 0.8802\n",
      "Epoch 197/300\n",
      "5/4 [====================================] - 67s 13s/step - loss: 0.1957 - acc: 0.9174 - val_loss: 0.3092 - val_acc: 0.8854\n",
      "Epoch 198/300\n",
      "5/4 [====================================] - 67s 13s/step - loss: 0.2526 - acc: 0.9007 - val_loss: 0.2872 - val_acc: 0.8879\n",
      "Epoch 199/300\n",
      "5/4 [====================================] - 66s 13s/step - loss: 0.2772 - acc: 0.9010 - val_loss: 0.2854 - val_acc: 0.8837\n",
      "Epoch 200/300\n",
      "5/4 [====================================] - 67s 13s/step - loss: 0.2364 - acc: 0.9064 - val_loss: 0.3033 - val_acc: 0.8844\n",
      "Epoch 201/300\n",
      "5/4 [====================================] - 67s 13s/step - loss: 0.1492 - acc: 0.9432 - val_loss: 0.3068 - val_acc: 0.8767\n",
      "Epoch 202/300\n",
      "5/4 [====================================] - 67s 13s/step - loss: 0.1379 - acc: 0.9522 - val_loss: 0.3069 - val_acc: 0.8854\n",
      "Epoch 203/300\n",
      "5/4 [====================================] - 68s 14s/step - loss: 0.1494 - acc: 0.9419 - val_loss: 0.2859 - val_acc: 0.8827\n",
      "Epoch 204/300\n",
      "5/4 [====================================] - 67s 13s/step - loss: 0.2007 - acc: 0.9198 - val_loss: 0.2840 - val_acc: 0.8854\n",
      "Epoch 205/300\n",
      "5/4 [====================================] - 67s 13s/step - loss: 0.1734 - acc: 0.9395 - val_loss: 0.2993 - val_acc: 0.8844\n",
      "Epoch 206/300\n",
      "5/4 [====================================] - 67s 13s/step - loss: 0.1422 - acc: 0.9435 - val_loss: 0.3055 - val_acc: 0.8872\n",
      "Epoch 207/300\n",
      "5/4 [====================================] - 67s 13s/step - loss: 0.1904 - acc: 0.9268 - val_loss: 0.3147 - val_acc: 0.8889\n",
      "Epoch 208/300\n",
      "5/4 [====================================] - 67s 13s/step - loss: 0.1806 - acc: 0.9198 - val_loss: 0.2909 - val_acc: 0.8879\n",
      "Epoch 209/300\n",
      "5/4 [====================================] - 67s 13s/step - loss: 0.1742 - acc: 0.9215 - val_loss: 0.2912 - val_acc: 0.8924\n",
      "Epoch 210/300\n",
      "5/4 [====================================] - 67s 13s/step - loss: 0.1747 - acc: 0.9379 - val_loss: 0.3080 - val_acc: 0.8879\n",
      "Epoch 211/300\n",
      "5/4 [====================================] - 67s 13s/step - loss: 0.1853 - acc: 0.9333 - val_loss: 0.3078 - val_acc: 0.8924\n",
      "Epoch 212/300\n",
      "5/4 [====================================] - 67s 13s/step - loss: 0.3037 - acc: 0.9120 - val_loss: 0.3130 - val_acc: 0.9028\n",
      "Epoch 213/300\n",
      "5/4 [====================================] - 67s 13s/step - loss: 0.1762 - acc: 0.9260 - val_loss: 0.2786 - val_acc: 0.8879\n",
      "Epoch 214/300\n",
      "5/4 [====================================] - 67s 13s/step - loss: 0.1665 - acc: 0.9379 - val_loss: 0.2858 - val_acc: 0.8976\n",
      "Epoch 215/300\n",
      "5/4 [====================================] - 67s 13s/step - loss: 0.2721 - acc: 0.8757 - val_loss: 0.2958 - val_acc: 0.8862\n",
      "Epoch 216/300\n",
      "5/4 [====================================] - 67s 13s/step - loss: 0.1419 - acc: 0.9449 - val_loss: 0.3010 - val_acc: 0.8958\n",
      "Epoch 217/300\n",
      "5/4 [====================================] - 67s 13s/step - loss: 0.2037 - acc: 0.9215 - val_loss: 0.3123 - val_acc: 0.8924\n",
      "Epoch 218/300\n",
      "5/4 [====================================] - 67s 13s/step - loss: 0.1891 - acc: 0.9039 - val_loss: 0.2799 - val_acc: 0.8844\n",
      "Epoch 219/300\n",
      "5/4 [====================================] - 67s 13s/step - loss: 0.1562 - acc: 0.9354 - val_loss: 0.2822 - val_acc: 0.8872\n",
      "Epoch 220/300\n",
      "5/4 [====================================] - 67s 13s/step - loss: 0.2260 - acc: 0.9010 - val_loss: 0.2911 - val_acc: 0.8827\n",
      "Epoch 221/300\n",
      "5/4 [====================================] - 67s 13s/step - loss: 0.1564 - acc: 0.9371 - val_loss: 0.2890 - val_acc: 0.8854\n",
      "Epoch 222/300\n",
      "5/4 [====================================] - 67s 13s/step - loss: 0.1751 - acc: 0.9371 - val_loss: 0.2983 - val_acc: 0.8872\n",
      "Epoch 223/300\n",
      "5/4 [====================================] - 67s 13s/step - loss: 0.1693 - acc: 0.9260 - val_loss: 0.2736 - val_acc: 0.8914\n",
      "Epoch 224/300\n",
      "5/4 [====================================] - 67s 13s/step - loss: 0.1713 - acc: 0.9158 - val_loss: 0.2780 - val_acc: 0.8906\n",
      "Epoch 225/300\n",
      "5/4 [====================================] - 67s 13s/step - loss: 0.1808 - acc: 0.9190 - val_loss: 0.2946 - val_acc: 0.8879\n",
      "Epoch 226/300\n",
      "5/4 [====================================] - 67s 13s/step - loss: 0.2073 - acc: 0.9185 - val_loss: 0.3020 - val_acc: 0.8906\n",
      "Epoch 227/300\n",
      "5/4 [====================================] - 67s 13s/step - loss: 0.2324 - acc: 0.9072 - val_loss: 0.3115 - val_acc: 0.8924\n",
      "Epoch 228/300\n",
      "5/4 [====================================] - 67s 13s/step - loss: 0.2115 - acc: 0.9137 - val_loss: 0.2831 - val_acc: 0.8949\n",
      "Epoch 229/300\n",
      "5/4 [====================================] - 66s 13s/step - loss: 0.1722 - acc: 0.9403 - val_loss: 0.2827 - val_acc: 0.8924\n",
      "Epoch 230/300\n",
      "5/4 [====================================] - 67s 13s/step - loss: 0.1626 - acc: 0.9252 - val_loss: 0.2999 - val_acc: 0.8897\n",
      "Epoch 231/300\n",
      "5/4 [====================================] - 67s 13s/step - loss: 0.1852 - acc: 0.9333 - val_loss: 0.3119 - val_acc: 0.8854\n",
      "Epoch 232/300\n",
      "5/4 [====================================] - 67s 13s/step - loss: 0.1770 - acc: 0.9349 - val_loss: 0.3193 - val_acc: 0.8854\n",
      "Epoch 233/300\n",
      "5/4 [====================================] - 67s 13s/step - loss: 0.1702 - acc: 0.9284 - val_loss: 0.2962 - val_acc: 0.8862\n",
      "Epoch 234/300\n",
      "5/4 [====================================] - 67s 13s/step - loss: 0.1958 - acc: 0.9080 - val_loss: 0.2926 - val_acc: 0.8941\n",
      "Epoch 235/300\n",
      "5/4 [====================================] - 67s 13s/step - loss: 0.2060 - acc: 0.9169 - val_loss: 0.3112 - val_acc: 0.8809\n",
      "Epoch 236/300\n",
      "5/4 [====================================] - 67s 13s/step - loss: 0.1559 - acc: 0.9392 - val_loss: 0.3171 - val_acc: 0.8837\n",
      "Epoch 237/300\n",
      "5/4 [====================================] - 67s 13s/step - loss: 0.1845 - acc: 0.9174 - val_loss: 0.3206 - val_acc: 0.8837\n",
      "Epoch 238/300\n"
     ]
    },
    {
     "name": "stdout",
     "output_type": "stream",
     "text": [
      "5/4 [====================================] - 67s 13s/step - loss: 0.1709 - acc: 0.9252 - val_loss: 0.2941 - val_acc: 0.8809\n",
      "Epoch 239/300\n"
     ]
    }
   ],
   "source": [
    "#addtional training epochs - warm start\n",
    "#lScheduler = LScheduler(initial_lrate=0.000001, drop=0.66, patience=3)\n",
    "modelEnsemble = ModelHistory(listSize=33)\n",
    "lScheduler = CyclicLR(base_lr=1e-7, max_lr=0.003,\n",
    "                      step_size=32, mode='triangular4', \n",
    "                      beta=0.22, theta=0.22, gamma=0.66, step_patience=3)\n",
    "callbacks = get_callbacks(filepath=model_best_weights_path, save_to_disc=False, lScheduler=lScheduler,\n",
    "                          modelHistoryCallback=modelEnsemble)\n",
    "model_f.compile(optimizer=Adam(lr=1e-3),loss='binary_crossentropy',metrics=['accuracy'])\n",
    "start_time = time.monotonic()\n",
    "\n",
    "H1 = model_f.fit_generator(datagen_angle.flow(X_train_sample, y_train_sample, batch_size=256, shuffle=True, \n",
    "                                             noise_on=True,noise=aug_noise),\n",
    "                    steps_per_epoch=len(X_train_sample)/256,\n",
    "                    validation_data=datagen_angle_val.flow(X_val_tune2, y_val_tune2, batch_size=48, shuffle=False, \n",
    "                                             noise_on=False,noise=aug_noise), \n",
    "                    validation_steps=len(X_val)/48,\n",
    "                    #validation_data=[X_val,y_val],\n",
    "                    epochs=300, callbacks=callbacks,\n",
    "                    verbose=1)\n",
    "\n",
    "model_time = time.monotonic() - start_time\n",
    "print(\"Model training time: \" + '{:d}'.format(int(model_time // 60)) + \" minutes \" \n",
    "      + '{:.1f}'.format(model_time % 60) + \" seconds\")"
   ]
  },
  {
   "cell_type": "code",
   "execution_count": null,
   "metadata": {
    "collapsed": true
   },
   "outputs": [],
   "source": [
    "with open('models/modelEnsemble_volta_v29.pickle', 'wb') as handle:\n",
    "    pickle.dump(modelEnsemble.models, handle, protocol=pickle.HIGHEST_PROTOCOL)"
   ]
  },
  {
   "cell_type": "code",
   "execution_count": null,
   "metadata": {
    "collapsed": true
   },
   "outputs": [],
   "source": [
    "print(\"Best models\")\n",
    "modelEnsemble.head(3)"
   ]
  },
  {
   "cell_type": "code",
   "execution_count": null,
   "metadata": {
    "collapsed": true,
    "scrolled": true
   },
   "outputs": [],
   "source": [
    "h = lScheduler.history\n",
    "plt.plot(h['lr'], color=\"b\", label='lr')\n",
    "plt.legend()\n",
    "plt.xlabel('# iterations')\n",
    "plt.show()\n",
    "\n",
    "plt.plot(H1.history['loss'], color=\"b\", label='Training loss')\n",
    "plt.plot(H1.history['val_loss'], color=\"r\", label='Validation loss')\n",
    "plt.legend()\n",
    "plt.xlabel('# epochs')\n",
    "plt.ylim(0,1)\n",
    "plt.show()"
   ]
  },
  {
   "cell_type": "code",
   "execution_count": null,
   "metadata": {
    "collapsed": true
   },
   "outputs": [],
   "source": [
    "#heapq.nlargest(1,modelEnsemble.models)[0]"
   ]
  },
  {
   "cell_type": "code",
   "execution_count": null,
   "metadata": {
    "collapsed": true
   },
   "outputs": [],
   "source": [
    "model_f.set_weights(heapq.nlargest(1,modelEnsemble.models)[0][1]['weights'])"
   ]
  },
  {
   "cell_type": "code",
   "execution_count": null,
   "metadata": {
    "collapsed": true
   },
   "outputs": [],
   "source": [
    "# serialize model to JSON\n",
    "model_json = model_f.to_json()\n",
    "with open(\"models/model_volta_v29.json\", \"w\") as json_file:\n",
    "    json_file.write(model_json)"
   ]
  },
  {
   "cell_type": "code",
   "execution_count": null,
   "metadata": {
    "collapsed": true
   },
   "outputs": [],
   "source": [
    "# load model from JSON - don't care about the weights rith now, they are saved separately\n",
    "with open(\"models/model_volta_v29.json\", \"r\") as json_file:\n",
    "    loaded_model_json = json_file.read()\n",
    "    model_f = model_from_json(loaded_model_json)"
   ]
  },
  {
   "cell_type": "code",
   "execution_count": null,
   "metadata": {
    "collapsed": true,
    "scrolled": false
   },
   "outputs": [],
   "source": [
    "#model_object_path = model_path + \"model.\" + model_code + \"_\" + model_timestamp + '.hdf5'\n",
    "#model_f.save('models/last_model.hdf5') //crashes python kernel with Keras version 2.1.2\n",
    "#model_f = load_model(model_object_path)"
   ]
  },
  {
   "cell_type": "code",
   "execution_count": null,
   "metadata": {
    "collapsed": true
   },
   "outputs": [],
   "source": [
    "#for model_weights in modelEnsemble.models:\n",
    "#    heapq.heappush(modelEnsemble.models, model_weights)"
   ]
  },
  {
   "cell_type": "code",
   "execution_count": null,
   "metadata": {
    "collapsed": true
   },
   "outputs": [],
   "source": [
    "with open('models/modelEnsemble_volta_v29.pickle', 'wb') as handle:\n",
    "    pickle.dump(modelEnsemble.models, handle, protocol=pickle.HIGHEST_PROTOCOL)"
   ]
  },
  {
   "cell_type": "code",
   "execution_count": null,
   "metadata": {
    "collapsed": true
   },
   "outputs": [],
   "source": [
    "modelEnsemble = ModelHistory(listSize=106)\n",
    "with open('models/modelEnsemble_volta_v29.pickle', 'rb') as handle:\n",
    "    modelEnsemble.models = pickle.load(handle)"
   ]
  },
  {
   "cell_type": "markdown",
   "metadata": {},
   "source": [
    "### Saving model history"
   ]
  },
  {
   "cell_type": "code",
   "execution_count": null,
   "metadata": {
    "collapsed": true
   },
   "outputs": [],
   "source": [
    "#argmin = np.array(H.history[\"loss\"]).argmin()\n",
    "#argmin"
   ]
  },
  {
   "cell_type": "code",
   "execution_count": null,
   "metadata": {
    "collapsed": true,
    "scrolled": true
   },
   "outputs": [],
   "source": [
    "#argmin = np.array(H.history[\"val_loss\"]).argmin()\n",
    "#argmax_acc = np.array(H.history[\"val_acc\"]).argmax()\n",
    "#with open('current_model.py','r') as model_python_code_file:\n",
    "#    models_history = pd.DataFrame({\"timestamp\":[model_timestamp], \n",
    "#                                    \"val_loss [min]\":[H.history['val_loss'][argmin]],\n",
    "#                                    \"epoch [val_loss [min]]\":argmin,\n",
    "#                                    \"training_loss [val_loss [min]]\":[H.history['loss'][argmin]],\n",
    "#                                    \"val_acc [val_loss [min]]\":[H.history['val_acc'][argmin]],\n",
    "#                                    \"training_acc [val_loss [min]]\":[H.history['acc'][argmin]],\n",
    "#                                    \n",
    "#                                    \"val_acc [max]\":[H.history['val_acc'][argmax_acc]],\n",
    "#                                    \"epoch [val_acc [max]]\":argmax_acc,\n",
    "#                                    \"training_loss [val_acc [max]]\":[H.history['loss'][argmax_acc]],\n",
    "#                                    \"val_loss [val_acc [max]]\":[H.history['val_loss'][argmax_acc]],\n",
    "#                                    \"training_acc [val_acc [max]]\":[H.history['acc'][argmax_acc]],\n",
    "#                                    \n",
    "#                                    \"model_path\":[model_object_path],\n",
    "#                                    \"model_weights_path\":[model_best_weights_path],\n",
    "#                                    \"model_python_code\":[model_python_code_file.read().replace('\\r\\n','\\n')],\n",
    "#                                    \"model_comment\":[model_comment]\n",
    "#                                })\n",
    "#                               \n",
    "#models_history = models_history[[\"timestamp\", \n",
    "#                                 \"epoch [val_loss [min]]\", \"val_loss [min]\", \"training_loss [val_loss [min]]\",\n",
    "#                                 \"val_acc [val_loss [min]]\", \"training_acc [val_loss [min]]\",\n",
    "#                                 \"epoch [val_acc [max]]\", \"val_acc [max]\", \"training_loss [val_acc [max]]\",\n",
    "#                                 \"val_loss [val_acc [max]]\", \"training_acc [val_acc [max]]\",\n",
    "#                                 \"model_path\",\"model_weights_path\",\"model_python_code\",\"model_comment\"]]\n",
    "#models_history.head()"
   ]
  },
  {
   "cell_type": "code",
   "execution_count": null,
   "metadata": {
    "collapsed": true
   },
   "outputs": [],
   "source": [
    "#print(\"Min validation loss epoch:\")\n",
    "#print(\"epoch: %d\" %(argmin),\n",
    "#      \"; val loss [min] %.4f: \" % (models_history[\"val_loss [min]\"][0]), \n",
    "#      \"; training loss: %.4f\" % (models_history[\"training_loss [val_loss [min]]\"][0]),\n",
    "#      \"; val acc: %.4f\" % (models_history[\"val_acc [val_loss [min]]\"][0]),\n",
    "#      \"; training acc: %.4f \" % (models_history[\"training_acc [val_loss [min]]\"][0])\n",
    "#     )\n",
    "#print(\"Max validation accuracy epoch:\")\n",
    "#print(\"epoch: %d\" %(argmax_acc),\n",
    "#      \"; val loss %.4f: \" % (models_history[\"val_loss [val_acc [max]]\"][0]), \n",
    "#      \"; training loss: %.4f\" % (models_history[\"training_loss [val_acc [max]]\"][0]),\n",
    "#      \"; val acc [max]: %.4f\" % (models_history[\"val_acc [max]\"][0]),\n",
    "#      \"; training acc: %.4f \" % (models_history[\"training_acc [val_acc [max]]\"][0]),\n",
    "#     )\n",
    "#print(\"model comment:\", model_comment)\n",
    "#"
   ]
  },
  {
   "cell_type": "code",
   "execution_count": null,
   "metadata": {
    "collapsed": true
   },
   "outputs": [],
   "source": [
    "#with open('models_history.csv', 'a') as f:\n",
    "#    models_history.to_csv(f, header=False,index=False)\n",
    "#    #models_history.to_csv(f, index=False)"
   ]
  },
  {
   "cell_type": "code",
   "execution_count": null,
   "metadata": {
    "collapsed": true,
    "scrolled": false
   },
   "outputs": [],
   "source": [
    "#df = pd.read_csv('models_history.csv')\n",
    "#df.tail()"
   ]
  },
  {
   "cell_type": "markdown",
   "metadata": {},
   "source": [
    "### Model Ensemble"
   ]
  },
  {
   "cell_type": "code",
   "execution_count": null,
   "metadata": {
    "collapsed": true
   },
   "outputs": [],
   "source": [
    "heapq.nlargest(1,modelEnsemble.models)[0][1]['val_loss']"
   ]
  },
  {
   "cell_type": "code",
   "execution_count": null,
   "metadata": {
    "collapsed": true
   },
   "outputs": [],
   "source": [
    "model_f.set_weights(heapq.nlargest(1,modelEnsemble.models)[0][1]['weights'])\n",
    "model_f.compile(optimizer=Adam(lr=0.001, beta_1=0.9, beta_2=0.999, epsilon=1e-08, decay=0),\n",
    "loss='binary_crossentropy',\n",
    "metrics=['accuracy'])\n",
    "model_f.evaluate_generator(datagen_angle_val.flow(X_val, y_val, batch_size=16, shuffle=False, \n",
    "                                             noise_on=False,noise=aug_noise), \n",
    "                           steps = len(X)/16)"
   ]
  },
  {
   "cell_type": "code",
   "execution_count": null,
   "metadata": {
    "collapsed": true
   },
   "outputs": [],
   "source": []
  },
  {
   "cell_type": "code",
   "execution_count": null,
   "metadata": {
    "collapsed": true
   },
   "outputs": [],
   "source": [
    "def get_prediction(model,weights, X, y):\n",
    "    model.set_weights(weights)\n",
    "    return model.predict_generator(datagen_angle_val.flow(X, y, batch_size=256, shuffle=False, \n",
    "                                             noise_on=False,noise=aug_noise), \n",
    "                           steps = len(X)/255, verbose=0)"
   ]
  },
  {
   "cell_type": "code",
   "execution_count": null,
   "metadata": {
    "collapsed": true
   },
   "outputs": [],
   "source": [
    "def get_ensemble_predictions(X, y, modelEnsemble):\n",
    "    predictions = [get_prediction(model_f, model[1]['weights'], X, y)[:X.shape[0]]\n",
    "                   for model in tqdm(modelEnsemble.models)]    \n",
    "    temp_array = np.array(predictions)\n",
    "    del(predictions)\n",
    "    temp_array = np.swapaxes(temp_array,0,1)\n",
    "    temp_array = temp_array.reshape(temp_array.shape[0],temp_array.shape[1])\n",
    "    return temp_array"
   ]
  },
  {
   "cell_type": "code",
   "execution_count": null,
   "metadata": {
    "collapsed": true
   },
   "outputs": [],
   "source": [
    "#with h5py.File('tmp_data/ensemble_data.h5', 'r') as hf:\n",
    "#    ensemble_train = hf['ensemble_train'][:]"
   ]
  },
  {
   "cell_type": "code",
   "execution_count": null,
   "metadata": {
    "collapsed": true,
    "scrolled": true
   },
   "outputs": [],
   "source": [
    "ensemble_val_tune = get_ensemble_predictions(X_val_tune2, y_val_tune2, modelEnsemble)\n",
    "ensemble_val_test = get_ensemble_predictions(X_val_test2, y_val_test2, modelEnsemble)"
   ]
  },
  {
   "cell_type": "code",
   "execution_count": null,
   "metadata": {
    "collapsed": true
   },
   "outputs": [],
   "source": [
    "#ensemble_train = get_ensemble_predictions(np.append(X_train,X_val_tune2,axis=0), pd.concat([y_train,y_val_tune2]), modelEnsemble)"
   ]
  },
  {
   "cell_type": "code",
   "execution_count": null,
   "metadata": {
    "collapsed": true
   },
   "outputs": [],
   "source": [
    "y_train_val_tune2 = pd.concat([y_train,y_val_tune2])"
   ]
  },
  {
   "cell_type": "code",
   "execution_count": null,
   "metadata": {
    "collapsed": true
   },
   "outputs": [],
   "source": [
    "with h5py.File('tmp_data/ensemble_data.h5', 'w') as hf:\n",
    "    hf.create_dataset(\"ensemble_val_tune\",  data=ensemble_val_tune)\n",
    "ensemble_val_tune.shape"
   ]
  },
  {
   "cell_type": "code",
   "execution_count": null,
   "metadata": {
    "collapsed": true
   },
   "outputs": [],
   "source": [
    "#with h5py.File('tmp_data/ensemble_data.h5', 'r') as hf:\n",
    "#    ensemble_val = hf['ensemble_val'][:]"
   ]
  },
  {
   "cell_type": "code",
   "execution_count": null,
   "metadata": {
    "collapsed": true,
    "scrolled": true
   },
   "outputs": [],
   "source": [
    "ensemble_val_tune.shape"
   ]
  },
  {
   "cell_type": "code",
   "execution_count": null,
   "metadata": {
    "collapsed": true
   },
   "outputs": [],
   "source": [
    "y_val.shape"
   ]
  },
  {
   "cell_type": "code",
   "execution_count": null,
   "metadata": {
    "collapsed": true
   },
   "outputs": [],
   "source": [
    "with h5py.File('tmp_data/ensemble_data.h5', 'a') as hf:\n",
    "    hf.create_dataset(\"ensemble_val_test\",  data=ensemble_val_test)\n",
    "ensemble_val_test.shape"
   ]
  },
  {
   "cell_type": "code",
   "execution_count": null,
   "metadata": {
    "collapsed": true
   },
   "outputs": [],
   "source": [
    "#with h5py.File('tmp_data/ensemble_data.h5', 'a') as hf:\n",
    "#    hf.create_dataset(\"ensemble_val_train\",  data=ensemble_val_train)\n",
    "#ensemble_val.shape"
   ]
  },
  {
   "cell_type": "code",
   "execution_count": null,
   "metadata": {
    "collapsed": true
   },
   "outputs": [],
   "source": [
    "def modelfit(alg, X, y , X_test, y_test, useTrainCV=True, cv_folds=5, early_stopping_rounds=50):\n",
    "    \n",
    "    if useTrainCV:\n",
    "        xgb_param = alg.get_xgb_params()\n",
    "        xgtrain = xgb.DMatrix(X, label=y)\n",
    "        cvresult = xgb.cv(xgb_param, xgtrain, num_boost_round=alg.get_params()['n_estimators'], nfold=cv_folds,\n",
    "            metrics='logloss', early_stopping_rounds=early_stopping_rounds)\n",
    "        alg.set_params(n_estimators=cvresult.shape[0])\n",
    "    \n",
    "    #Fit the algorithm on the data\n",
    "    alg.fit(X, y,eval_metric='logloss')\n",
    "        \n",
    "    #Predict training set:\n",
    "    dtrain_predictions = alg.predict(X)\n",
    "    dtrain_predprob = alg.predict_proba(X)[:,1]\n",
    "    dtest_predprob = alg.predict_proba(X_test)[:,1]\n",
    "        \n",
    "    #Print model report:\n",
    "    print(\"\\nModel Report\")\n",
    "    print(\"n_estimators: %d\" % cvresult.shape[0])\n",
    "    print(\"Accuracy : %.4g\" % metrics.accuracy_score(y, dtrain_predictions))\n",
    "    print(\"Log loss (Train): %f\" % metrics.log_loss(y, dtrain_predprob))\n",
    "    print(\"Log loss (Test): %f\" % metrics.log_loss(y_test, dtest_predprob))\n"
   ]
  },
  {
   "cell_type": "code",
   "execution_count": null,
   "metadata": {
    "collapsed": true
   },
   "outputs": [],
   "source": [
    "#ensemble_train = get_ensemble_predictions(X_train, y_train, modelEnsemble)\n",
    "#with h5py.File('tmp_data/ensemble_data.h5', 'a') as hf:\n",
    "#    hf.create_dataset(\"ensemble_train\",  data=ensemble_train)"
   ]
  },
  {
   "cell_type": "code",
   "execution_count": null,
   "metadata": {
    "collapsed": true
   },
   "outputs": [],
   "source": [
    "#with h5py.File('tmp_data/ensemble_data.h5', 'r') as hf:\n",
    "#    ensemble_train = hf['ensemble_train'][:]"
   ]
  },
  {
   "cell_type": "code",
   "execution_count": null,
   "metadata": {
    "collapsed": true
   },
   "outputs": [],
   "source": [
    "#ensemble_train.shape"
   ]
  },
  {
   "cell_type": "code",
   "execution_count": null,
   "metadata": {
    "collapsed": true
   },
   "outputs": [],
   "source": [
    "#ensemble_all = get_ensemble_predictions(X, y_angle, modelEnsemble)"
   ]
  },
  {
   "cell_type": "markdown",
   "metadata": {},
   "source": [
    "### Fine tuning ensemble using xgboost"
   ]
  },
  {
   "cell_type": "code",
   "execution_count": null,
   "metadata": {
    "collapsed": true
   },
   "outputs": [],
   "source": [
    "params = {\n",
    "    'lr':0.1,\n",
    "    'n':35,\n",
    "    'max_depth':5,\n",
    "    'min_child_weight':1,\n",
    "    'gamma':0,\n",
    "    'subsample':0.8,\n",
    "    'colsample_bytree':0.8,\n",
    "}"
   ]
  },
  {
   "cell_type": "code",
   "execution_count": null,
   "metadata": {
    "collapsed": true,
    "scrolled": true
   },
   "outputs": [],
   "source": [
    "xgb1 = xgb.XGBClassifier(\n",
    " learning_rate = params['lr'],\n",
    " n_estimators = 1000,\n",
    " max_depth = params['max_depth'],\n",
    " min_child_weight = params['min_child_weight'],\n",
    " gamma = params['gamma'],\n",
    " subsample = params['subsample'], \n",
    " colsample_bytree = params['colsample_bytree'],\n",
    " objective= 'binary:logistic',\n",
    " nthread=8,\n",
    " scale_pos_weight=1,\n",
    " seed=27)\n",
    "modelfit(xgb1, ensemble_val_tune, y_val_tune2['is_iceberg'], ensemble_val_test, y_val_test2['is_iceberg'])"
   ]
  },
  {
   "cell_type": "code",
   "execution_count": null,
   "metadata": {
    "collapsed": true,
    "scrolled": true
   },
   "outputs": [],
   "source": [
    "params = {\n",
    "    'lr':0.1,\n",
    "    'n':127,\n",
    "    'max_depth':5,\n",
    "    'min_child_weight':1,\n",
    "    'gamma':0,\n",
    "    'subsample':0.8,\n",
    "    'colsample_bytree':0.8,\n",
    "}"
   ]
  },
  {
   "cell_type": "code",
   "execution_count": null,
   "metadata": {
    "collapsed": true,
    "scrolled": true
   },
   "outputs": [],
   "source": [
    "param_test1 = {\n",
    " 'max_depth':list(range(3,13,2)),\n",
    " 'min_child_weight':list(range(1,10,2))\n",
    "}\n",
    "gsearch1 = GridSearchCV(\n",
    "    estimator = xgb.XGBClassifier( \n",
    "         learning_rate=params['lr'], n_estimators=params['n'], max_depth=params['max_depth'],\n",
    "         min_child_weight=params['min_child_weight'], gamma=params['gamma'], \n",
    "         subsample=params['subsample'], colsample_bytree=params['colsample_bytree'],\n",
    "         objective= 'binary:logistic', nthread=8, scale_pos_weight=1, seed=random_seed), \n",
    "param_grid = param_test1, scoring='neg_log_loss',n_jobs=1,iid=False, cv=5, verbose=1)\n",
    "gsearch1.fit(ensemble_val_tune,y_val_tune2['is_iceberg'].values)\n",
    "gsearch1.grid_scores_, gsearch1.best_params_, gsearch1.best_score_"
   ]
  },
  {
   "cell_type": "code",
   "execution_count": null,
   "metadata": {
    "collapsed": true
   },
   "outputs": [],
   "source": [
    "gsearch1.best_params_"
   ]
  },
  {
   "cell_type": "code",
   "execution_count": null,
   "metadata": {
    "collapsed": true
   },
   "outputs": [],
   "source": [
    "params['max_depth'] = gsearch1.best_params_['max_depth']\n",
    "params['min_child_weight'] = gsearch1.best_params_['min_child_weight']"
   ]
  },
  {
   "cell_type": "code",
   "execution_count": null,
   "metadata": {
    "collapsed": true,
    "scrolled": true
   },
   "outputs": [],
   "source": [
    "param_test2 = {\n",
    " 'max_depth':[gsearch1.best_params_['max_depth']-1,gsearch1.best_params_['max_depth'],gsearch1.best_params_['max_depth']+1],\n",
    " 'min_child_weight':[gsearch1.best_params_['min_child_weight']-0.5,\n",
    "                     gsearch1.best_params_['min_child_weight'],\n",
    "                     gsearch1.best_params_['min_child_weight']+0.5]\n",
    "}\n",
    "gsearch2 = GridSearchCV(estimator = xgb.XGBClassifier( learning_rate=params['lr'], n_estimators=params['n'], \n",
    "                            max_depth=params['max_depth'],\n",
    "                            min_child_weight=params['min_child_weight'], \n",
    "                            gamma=params['gamma'], subsample=params['subsample'], \n",
    "                            colsample_bytree=params['colsample_bytree'],\n",
    "                            objective= 'binary:logistic', nthread=8, scale_pos_weight=1, seed=random_seed), \n",
    "param_grid = param_test2, scoring='neg_log_loss',n_jobs=1,iid=False, cv=5, verbose=1)\n",
    "gsearch2.fit(ensemble_val_tune,y_val_tune2['is_iceberg'].values)\n",
    "gsearch2.grid_scores_, gsearch2.best_params_, gsearch2.best_score_"
   ]
  },
  {
   "cell_type": "code",
   "execution_count": null,
   "metadata": {
    "collapsed": true
   },
   "outputs": [],
   "source": [
    "params['max_depth'] = gsearch2.best_params_['max_depth']\n",
    "params['min_child_weight'] = gsearch2.best_params_['min_child_weight']"
   ]
  },
  {
   "cell_type": "code",
   "execution_count": null,
   "metadata": {
    "collapsed": true
   },
   "outputs": [],
   "source": [
    "param_test3 = {\n",
    " 'gamma':[i/20.0 for i in range(0,30)]\n",
    "}\n",
    "gsearch3 = GridSearchCV(estimator = xgb.XGBClassifier( learning_rate=params['lr'], n_estimators=params['n'], \n",
    "                            max_depth=params['max_depth'], min_child_weight=params['min_child_weight'],\n",
    "                            gamma=params['gamma'], subsample=params['subsample'], \n",
    "                            colsample_bytree=params['colsample_bytree'],\n",
    "                            objective= 'binary:logistic', nthread=8, scale_pos_weight=1, seed=random_seed), \n",
    "param_grid = param_test3, scoring='neg_log_loss',n_jobs=1,iid=False, cv=5, verbose=1)\n",
    "gsearch3.fit(ensemble_val_tune,y_val_tune2['is_iceberg'].values)\n",
    "gsearch3.grid_scores_, gsearch3.best_params_, gsearch3.best_score_"
   ]
  },
  {
   "cell_type": "code",
   "execution_count": null,
   "metadata": {
    "collapsed": true
   },
   "outputs": [],
   "source": [
    "params['gamma'] = gsearch3.best_params_['gamma']"
   ]
  },
  {
   "cell_type": "code",
   "execution_count": null,
   "metadata": {
    "collapsed": true
   },
   "outputs": [],
   "source": [
    "xgb2 = xgb.XGBClassifier(\n",
    " learning_rate=params['lr'],\n",
    " n_estimators=1000,\n",
    " max_depth=params['max_depth'],\n",
    " min_child_weight=params['min_child_weight'],\n",
    " gamma=params['gamma'],\n",
    " subsample=params['subsample'],\n",
    " colsample_bytree=params['colsample_bytree'],\n",
    " objective='binary:logistic',\n",
    " nthread=8,\n",
    " scale_pos_weight=1,\n",
    " seed=27)\n",
    "modelfit(xgb2, ensemble_val_tune, y_val_tune2['is_iceberg'],ensemble_val_test, y_val_test2['is_iceberg'])"
   ]
  },
  {
   "cell_type": "code",
   "execution_count": null,
   "metadata": {
    "collapsed": true
   },
   "outputs": [],
   "source": [
    "params['n'] = 73"
   ]
  },
  {
   "cell_type": "code",
   "execution_count": null,
   "metadata": {
    "collapsed": true,
    "scrolled": true
   },
   "outputs": [],
   "source": [
    "param_test4 = {\n",
    " 'subsample':[i/10.0 for i in range(4,10)],\n",
    " 'colsample_bytree':[i/10.0 for i in range(4,10)]\n",
    "}\n",
    "gsearch4 = GridSearchCV(estimator = xgb.XGBClassifier( learning_rate=params['lr'], n_estimators=params['n'], \n",
    "                                max_depth=params['max_depth'], min_child_weight=params['min_child_weight'], \n",
    "                                gamma=params['gamma'], subsample=params['subsample'], \n",
    "                                colsample_bytree=params['colsample_bytree'],\n",
    "                                objective= 'binary:logistic', nthread=8, scale_pos_weight=1, seed=random_seed), \n",
    "param_grid = param_test4, scoring='neg_log_loss',n_jobs=1,iid=False, cv=5, verbose=1)\n",
    "gsearch4.fit(ensemble_val_tune,y_val_tune2['is_iceberg'].values)\n",
    "gsearch4.grid_scores_, gsearch4.best_params_, gsearch4.best_score_"
   ]
  },
  {
   "cell_type": "code",
   "execution_count": null,
   "metadata": {
    "collapsed": true
   },
   "outputs": [],
   "source": [
    "params['subsample'] = gsearch4.best_params_['subsample']\n",
    "params['colsample_bytree'] = gsearch4.best_params_['colsample_bytree']"
   ]
  },
  {
   "cell_type": "code",
   "execution_count": null,
   "metadata": {
    "collapsed": true,
    "scrolled": true
   },
   "outputs": [],
   "source": [
    "param_test5 = {\n",
    " 'subsample':[i/100.0 for i in range(int(gsearch4.best_params_['subsample']*100)-10,\n",
    "                                     int(gsearch4.best_params_['subsample']*100)+10,5)],\n",
    " 'colsample_bytree':[i/100.0 for i in range(int(gsearch4.best_params_['colsample_bytree']*100)-10,\n",
    "                                            int(gsearch4.best_params_['colsample_bytree']*100)+10,5)]\n",
    "}\n",
    "gsearch5 = GridSearchCV(estimator = xgb.XGBClassifier( learning_rate=params['lr'], n_estimators=params['n'], \n",
    "                                max_depth=params['max_depth'], min_child_weight=params['min_child_weight'], \n",
    "                                gamma=params['gamma'], subsample=params['subsample'], \n",
    "                                colsample_bytree=params['colsample_bytree'],\n",
    "                                objective= 'binary:logistic', nthread=8, scale_pos_weight=1, seed=random_seed), \n",
    "param_grid = param_test5, scoring='neg_log_loss',n_jobs=1,iid=False, cv=5, verbose=1)\n",
    "gsearch5.fit(ensemble_val_tune,y_val_tune2['is_iceberg'].values)\n",
    "gsearch5.grid_scores_, gsearch5.best_params_, gsearch5.best_score_"
   ]
  },
  {
   "cell_type": "code",
   "execution_count": null,
   "metadata": {
    "collapsed": true
   },
   "outputs": [],
   "source": [
    "params['subsample'] = gsearch5.best_params_['subsample']\n",
    "params['colsample_bytree'] = gsearch5.best_params_['colsample_bytree']"
   ]
  },
  {
   "cell_type": "code",
   "execution_count": null,
   "metadata": {
    "collapsed": true,
    "scrolled": true
   },
   "outputs": [],
   "source": [
    "param_test6 = {\n",
    " 'reg_alpha':[0, 1e-6, 3e-6, 1e-5, 3e-5, 1e-4, 3e-4, 0.001, 0.003, 0.01, 0.03, 0.1, 0.3, 1, 10]\n",
    "}\n",
    "gsearch6 = GridSearchCV(estimator = xgb.XGBClassifier( learning_rate=params['lr'], n_estimators=params['n'], \n",
    "                                max_depth=params['max_depth'], min_child_weight=params['min_child_weight'], \n",
    "                                gamma=params['gamma'], subsample=params['subsample'], \n",
    "                                colsample_bytree=params['colsample_bytree'],\n",
    "                                objective= 'binary:logistic', nthread=8, scale_pos_weight=1, seed=random_seed),  \n",
    "param_grid = param_test6, scoring='neg_log_loss',n_jobs=1,iid=False, cv=5, verbose=1)\n",
    "gsearch6.fit(ensemble_val_tune,y_val_tune2['is_iceberg'].values)\n",
    "gsearch6.grid_scores_, gsearch6.best_params_, gsearch6.best_score_"
   ]
  },
  {
   "cell_type": "code",
   "execution_count": null,
   "metadata": {
    "collapsed": true
   },
   "outputs": [],
   "source": [
    "params['reg_alpha'] = gsearch6.best_params_['reg_alpha']"
   ]
  },
  {
   "cell_type": "code",
   "execution_count": null,
   "metadata": {
    "collapsed": true,
    "scrolled": true
   },
   "outputs": [],
   "source": [
    "xgb3 = xgb.XGBClassifier(\n",
    " learning_rate=params['lr'],\n",
    " n_estimators=1000,\n",
    " max_depth=params['max_depth'],\n",
    " min_child_weight=params['min_child_weight'],\n",
    " gamma=params['gamma'],\n",
    " subsample=params['subsample'],\n",
    " colsample_bytree=params['colsample_bytree'],\n",
    " objective='binary:logistic',\n",
    " nthread=8,\n",
    " scale_pos_weight=1,\n",
    " seed=27)\n",
    "modelfit(xgb3, ensemble_val_tune, y_val_tune2['is_iceberg'], ensemble_val_test, y_val_test2['is_iceberg'])"
   ]
  },
  {
   "cell_type": "code",
   "execution_count": null,
   "metadata": {
    "collapsed": true
   },
   "outputs": [],
   "source": [
    "xgb4 = xgb.XGBClassifier(\n",
    " learning_rate=0.01,\n",
    " n_estimators=1000,\n",
    " max_depth=params['max_depth'],\n",
    " min_child_weight=params['min_child_weight'],\n",
    " gamma=params['gamma'],\n",
    " subsample=params['subsample'],\n",
    " colsample_bytree=params['colsample_bytree'],\n",
    " objective='binary:logistic',\n",
    " nthread=8,\n",
    " scale_pos_weight=1,\n",
    " seed=27)\n",
    "modelfit(xgb4, ensemble_val_tune, y_val_tune2['is_iceberg'], ensemble_val_test, y_val_test2['is_iceberg'])"
   ]
  },
  {
   "cell_type": "code",
   "execution_count": null,
   "metadata": {
    "collapsed": true
   },
   "outputs": [],
   "source": [
    "with open('models/modelXgb4_volta_v29.pickle', 'wb') as handle:\n",
    "    pickle.dump(xgb4, handle, protocol=pickle.HIGHEST_PROTOCOL)"
   ]
  },
  {
   "cell_type": "code",
   "execution_count": null,
   "metadata": {
    "collapsed": true
   },
   "outputs": [],
   "source": [
    "with open('models/modelXgb4_volta_v29.pickle', 'rb') as handle:\n",
    "    xgb5= pickle.load(handle)"
   ]
  },
  {
   "cell_type": "markdown",
   "metadata": {},
   "source": [
    "### Predictions"
   ]
  },
  {
   "cell_type": "code",
   "execution_count": null,
   "metadata": {
    "collapsed": true
   },
   "outputs": [],
   "source": [
    "#use model\n",
    "#model_object_path = \"models\\\\model.CNN_2017_12_19_v15_2017_12_21_15_54_42.hdf5\"\n",
    "#model_best_weights_path = \"models\\\\weights.CNN_2017_12_19_v15_2017_12_21_15_54_42.hdf5\""
   ]
  },
  {
   "cell_type": "code",
   "execution_count": null,
   "metadata": {
    "collapsed": true
   },
   "outputs": [],
   "source": [
    "#model_f = load_model(model_object_path)"
   ]
  },
  {
   "cell_type": "code",
   "execution_count": null,
   "metadata": {
    "collapsed": true,
    "scrolled": true
   },
   "outputs": [],
   "source": [
    "#model_f.load_weights(model_best_weights_path)"
   ]
  },
  {
   "cell_type": "code",
   "execution_count": null,
   "metadata": {
    "collapsed": true,
    "scrolled": true
   },
   "outputs": [],
   "source": [
    "#model_f.evaluate_generator(datagen_angle_val.flow(X_val, y_val, batch_size=32, shuffle=False), \n",
    "#                          steps = len(X_val)/32)"
   ]
  },
  {
   "cell_type": "code",
   "execution_count": null,
   "metadata": {
    "collapsed": true
   },
   "outputs": [],
   "source": []
  },
  {
   "cell_type": "code",
   "execution_count": null,
   "metadata": {
    "collapsed": true
   },
   "outputs": [],
   "source": [
    "test_df = pd.read_json(\"data/processed/test.json\")"
   ]
  },
  {
   "cell_type": "code",
   "execution_count": null,
   "metadata": {
    "collapsed": true,
    "scrolled": false
   },
   "outputs": [],
   "source": [
    "test_df.head()"
   ]
  },
  {
   "cell_type": "code",
   "execution_count": null,
   "metadata": {
    "collapsed": true,
    "scrolled": true
   },
   "outputs": [],
   "source": [
    "test_df['inc_angle_f'] = pd.to_numeric(test_df['inc_angle'], errors='coerce')\n",
    "print(\"missing values in inc_angle: \", test_df['inc_angle_f'].isnull().sum())\n",
    "test_df['inc_angle_f'].replace(np.nan,0, inplace=True)\n",
    "test_df.tail()"
   ]
  },
  {
   "cell_type": "code",
   "execution_count": null,
   "metadata": {
    "collapsed": true
   },
   "outputs": [],
   "source": [
    "_, _, _, _, _, X_test = get_bands(test_df)\n",
    "y_angle_test = test_df.loc[:,['is_iceberg','inc_angle_f']]\n",
    "y_angle_test['index'] = y_angle_test.index"
   ]
  },
  {
   "cell_type": "code",
   "execution_count": null,
   "metadata": {
    "collapsed": true
   },
   "outputs": [],
   "source": [
    "X_test.shape"
   ]
  },
  {
   "cell_type": "code",
   "execution_count": null,
   "metadata": {
    "collapsed": true
   },
   "outputs": [],
   "source": [
    "datagen_val.fit(X_test)\n",
    "datagen_angle_val = Datagen_angle(imagegen=datagen_val)"
   ]
  },
  {
   "cell_type": "code",
   "execution_count": null,
   "metadata": {
    "collapsed": true,
    "scrolled": true
   },
   "outputs": [],
   "source": [
    "idx = 0\n",
    "pred = get_prediction(model_f, modelEnsemble.models[idx][1]['weights'], X_test, y_angle_test)[:X_test.shape[0]]\n",
    "pred = np.array(pred)\n",
    "dataset_name = 'ensemble_data_%02d' % idx\n",
    "with h5py.File('tmp_data/ensemble_test_data.hd5', 'w') as hf:\n",
    "    hf.create_dataset(dataset_name,  data=pred)\n",
    "idx=1\n",
    "for i in tqdm(range(idx,idx+25), ascii=True):\n",
    "    idx = i\n",
    "    model = modelEnsemble.models[idx]\n",
    "    pred = get_prediction(model_f, model[1]['weights'], X_test, y_angle_test)[:X_test.shape[0]]\n",
    "    pred = np.array(pred)\n",
    "    dataset_name = 'ensemble_data_%02d' % idx\n",
    "    with h5py.File('tmp_data/ensemble_test_data.hd5', 'a') as hf:\n",
    "        hf.create_dataset(dataset_name,  data=pred)"
   ]
  },
  {
   "cell_type": "code",
   "execution_count": null,
   "metadata": {
    "collapsed": true,
    "scrolled": true
   },
   "outputs": [],
   "source": [
    "idx2=32\n",
    "with h5py.File('tmp_data/ensemble_test_data.hd5', 'r') as hf:\n",
    "    ensemble_test = [hf['ensemble_data_%02d' % idx2][:]]"
   ]
  },
  {
   "cell_type": "code",
   "execution_count": null,
   "metadata": {
    "collapsed": true
   },
   "outputs": [],
   "source": [
    "idx+=1\n",
    "for i in tqdm(range(idx,idx+25), ascii=True):\n",
    "    idx = i\n",
    "    model = modelEnsemble.models[idx]\n",
    "    pred = get_prediction(model_f, model[1]['weights'], X_test, y_angle_test)[:X_test.shape[0]]\n",
    "    pred = np.array(pred)\n",
    "    dataset_name = 'ensemble_data_%02d' % idx\n",
    "    with h5py.File('tmp_data/ensemble_test_data.hd5', 'a') as hf:\n",
    "        hf.create_dataset(dataset_name,  data=pred)"
   ]
  },
  {
   "cell_type": "code",
   "execution_count": null,
   "metadata": {
    "collapsed": true
   },
   "outputs": [],
   "source": [
    "idx+=1\n",
    "for i in tqdm(range(idx,idx+25), ascii=True):\n",
    "    idx = i\n",
    "    model = modelEnsemble.models[idx]\n",
    "    pred = get_prediction(model_f, model[2], X_test, y_angle_test)[:X_test.shape[0]]\n",
    "    pred = np.array(pred)\n",
    "    dataset_name = 'ensemble_data_%02d' % idx\n",
    "    with h5py.File('tmp_data/ensemble_test_data.hd5', 'a') as hf:\n",
    "        hf.create_dataset(dataset_name,  data=pred)"
   ]
  },
  {
   "cell_type": "code",
   "execution_count": null,
   "metadata": {
    "collapsed": true
   },
   "outputs": [],
   "source": [
    "idx+=1\n",
    "for i in tqdm(range(idx,idx+25), ascii=True):\n",
    "    idx = i\n",
    "    model = modelEnsemble.models[idx]\n",
    "    pred = get_prediction(model_f, model[2], X_test, y_angle_test)[:X_test.shape[0]]\n",
    "    pred = np.array(pred)\n",
    "    dataset_name = 'ensemble_data_%02d' % idx\n",
    "    with h5py.File('tmp_data/ensemble_test_data.hd5', 'a') as hf:\n",
    "        hf.create_dataset(dataset_name,  data=pred)"
   ]
  },
  {
   "cell_type": "code",
   "execution_count": null,
   "metadata": {
    "collapsed": true
   },
   "outputs": [],
   "source": [
    "idx += 1\n",
    "for i in tqdm(range(idx,len(modelEnsemble.models)), ascii=True):\n",
    "    idx = i\n",
    "    model = modelEnsemble.models[idx]\n",
    "    pred = get_prediction(model_f, model[2], X_test, y_angle_test)[:X_test.shape[0]]\n",
    "    pred = np.array(pred)\n",
    "    dataset_name = 'ensemble_data_%02d' % idx\n",
    "    with h5py.File('tmp_data/ensemble_test_data.hd5', 'a') as hf:\n",
    "        hf.create_dataset(dataset_name,  data=pred)"
   ]
  },
  {
   "cell_type": "code",
   "execution_count": null,
   "metadata": {
    "collapsed": true
   },
   "outputs": [],
   "source": [
    "#ensemble_test = get_ensemble_predictions(X_test, y_angle_test, modelEnsemble)\n",
    "#with h5py.File('tmp_data/ensemble_data.h5', 'a') as hf:\n",
    "#    hf.create_dataset(\"ensemble_test\",  data=ensemble_train)"
   ]
  },
  {
   "cell_type": "code",
   "execution_count": null,
   "metadata": {
    "collapsed": true
   },
   "outputs": [],
   "source": []
  },
  {
   "cell_type": "code",
   "execution_count": null,
   "metadata": {
    "collapsed": true
   },
   "outputs": [],
   "source": [
    "#n = len(modelEnsemble.models)\n",
    "n = 33\n",
    "with h5py.File('tmp_data/ensemble_test_data.hd5', 'r') as hf:\n",
    "    ensemble_test_list = [hf['ensemble_data_%02d' % idx2][:] for idx2 in tqdm(range(0,n), ascii=True)]"
   ]
  },
  {
   "cell_type": "code",
   "execution_count": null,
   "metadata": {
    "collapsed": true
   },
   "outputs": [],
   "source": [
    "ensemble_test = np.array(ensemble_test_list)\n",
    "ensemble_test = np.swapaxes(ensemble_test,0,1)\n",
    "ensemble_test = ensemble_test.reshape(ensemble_test.shape[0],ensemble_test.shape[1])\n",
    "ensemble_test.shape"
   ]
  },
  {
   "cell_type": "code",
   "execution_count": null,
   "metadata": {
    "collapsed": true
   },
   "outputs": [],
   "source": [
    "with open('models/modelXgb4_volta_v29.pickle', 'rb') as handle:\n",
    "    xgb4 = pickle.load(handle)"
   ]
  },
  {
   "cell_type": "code",
   "execution_count": null,
   "metadata": {
    "collapsed": true
   },
   "outputs": [],
   "source": [
    "test_probs = xgb4.predict_proba(ensemble_test)\n",
    "predictions = test_probs"
   ]
  },
  {
   "cell_type": "code",
   "execution_count": null,
   "metadata": {
    "collapsed": true
   },
   "outputs": [],
   "source": [
    "predictions[:,1]"
   ]
  },
  {
   "cell_type": "code",
   "execution_count": null,
   "metadata": {
    "collapsed": true
   },
   "outputs": [],
   "source": [
    "submission = pd.DataFrame({'id': test_df['id'], 'is_iceberg': predictions[:,1]})\n",
    "submission.head(10)\n",
    "submission.to_csv(\"submission.ensemble.xgboost.106.v29.csv\", index=False)"
   ]
  },
  {
   "cell_type": "code",
   "execution_count": null,
   "metadata": {
    "collapsed": true
   },
   "outputs": [],
   "source": []
  },
  {
   "cell_type": "code",
   "execution_count": null,
   "metadata": {
    "collapsed": true
   },
   "outputs": [],
   "source": []
  }
 ],
 "metadata": {
  "anaconda-cloud": {},
  "kernelspec": {
   "display_name": "Python 3",
   "language": "python",
   "name": "python3"
  },
  "language_info": {
   "codemirror_mode": {
    "name": "ipython",
    "version": 3
   },
   "file_extension": ".py",
   "mimetype": "text/x-python",
   "name": "python",
   "nbconvert_exporter": "python",
   "pygments_lexer": "ipython3",
   "version": "3.6.3"
  }
 },
 "nbformat": 4,
 "nbformat_minor": 1
}
