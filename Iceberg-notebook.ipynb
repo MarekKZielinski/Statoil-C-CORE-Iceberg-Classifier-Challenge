{
 "cells": [
  {
   "cell_type": "markdown",
   "metadata": {},
   "source": [
    "### Imports"
   ]
  },
  {
   "cell_type": "code",
   "execution_count": 49,
   "metadata": {
    "scrolled": true
   },
   "outputs": [],
   "source": [
    "import numpy as np\n",
    "import pandas as pd\n",
    "import time\n",
    "import matplotlib.pyplot as plt\n",
    "import os\n",
    "import math\n",
    "import pickle\n",
    "import datetime\n",
    "import heapq\n",
    "import xgboost as xgb\n",
    "import h5py\n",
    "from tqdm import tqdm_notebook as tqdm\n",
    "\n",
    "from keras import backend as K\n",
    "from keras.models import Model, load_model\n",
    "from keras.layers import Dense, Activation, Conv2D, MaxPooling2D, Reshape, Lambda, ZeroPadding2D, GaussianNoise, AlphaDropout, Input, Concatenate\n",
    "from keras.layers.core import Flatten, Dropout\n",
    "from keras.optimizers import Adam, SGD\n",
    "from keras.layers.normalization import BatchNormalization\n",
    "from keras.preprocessing.image import ImageDataGenerator\n",
    "from keras.callbacks import ModelCheckpoint, Callback, EarlyStopping, ReduceLROnPlateau, LearningRateScheduler\n",
    "from keras.utils import to_categorical, normalize\n",
    "from keras.models import model_from_json\n",
    "from keras_tqdm import TQDMNotebookCallback\n",
    "\n",
    "from sklearn.model_selection import train_test_split, GridSearchCV\n",
    "from sklearn import metrics\n",
    "import tensorflow as tf\n",
    "\n",
    "from scipy import ndimage\n",
    "from skimage.morphology import reconstruction\n",
    "from skimage.restoration import denoise_wavelet, denoise_tv_chambolle, denoise_nl_means\n",
    "\n",
    "from cyclicLR_callback import CyclicLR\n",
    "\n",
    "random_seed = 54321\n",
    "np.random.seed(random_seed)\n",
    "cwd = os.getcwd()\n",
    "#for windows\n",
    "model_path = cwd + '\\\\models\\\\'"
   ]
  },
  {
   "cell_type": "code",
   "execution_count": 2,
   "metadata": {},
   "outputs": [
    {
     "data": {
      "text/plain": [
       "'2.1.2'"
      ]
     },
     "execution_count": 2,
     "metadata": {},
     "output_type": "execute_result"
    }
   ],
   "source": [
    "import keras\n",
    "keras.__version__"
   ]
  },
  {
   "cell_type": "markdown",
   "metadata": {},
   "source": [
    "Manually create tensorflow session to avoid potential OEM errors on laptop's GPU."
   ]
  },
  {
   "cell_type": "code",
   "execution_count": 3,
   "metadata": {
    "collapsed": true
   },
   "outputs": [],
   "source": [
    "tf.set_random_seed(random_seed)\n",
    "config = tf.ConfigProto()\n",
    "config.gpu_options.allow_growth = True\n",
    "session = tf.Session(config=config)\n",
    "K.set_session(session)\n",
    "K.set_image_dim_ordering('tf')"
   ]
  },
  {
   "cell_type": "code",
   "execution_count": 4,
   "metadata": {},
   "outputs": [
    {
     "name": "stderr",
     "output_type": "stream",
     "text": [
      "'nvidia-smi' is not recognized as an internal or external command,\n",
      "operable program or batch file.\n"
     ]
    }
   ],
   "source": [
    "!nvidia-smi"
   ]
  },
  {
   "cell_type": "markdown",
   "metadata": {},
   "source": [
    "### Load Data"
   ]
  },
  {
   "cell_type": "code",
   "execution_count": 5,
   "metadata": {
    "collapsed": true
   },
   "outputs": [],
   "source": [
    "data = pd.read_json(\"Data/train/train.json\", orient='records')\n",
    "data.head()\n",
    "train_df = data"
   ]
  },
  {
   "cell_type": "code",
   "execution_count": 6,
   "metadata": {
    "scrolled": true
   },
   "outputs": [
    {
     "name": "stdout",
     "output_type": "stream",
     "text": [
      "<class 'pandas.core.frame.DataFrame'>\n",
      "RangeIndex: 1604 entries, 0 to 1603\n",
      "Data columns (total 5 columns):\n",
      "band_1        1604 non-null object\n",
      "band_2        1604 non-null object\n",
      "id            1604 non-null object\n",
      "inc_angle     1604 non-null object\n",
      "is_iceberg    1604 non-null int64\n",
      "dtypes: int64(1), object(4)\n",
      "memory usage: 62.7+ KB\n"
     ]
    }
   ],
   "source": [
    "data.info()"
   ]
  },
  {
   "cell_type": "markdown",
   "metadata": {},
   "source": [
    "### Missing values"
   ]
  },
  {
   "cell_type": "code",
   "execution_count": 7,
   "metadata": {
    "scrolled": true
   },
   "outputs": [
    {
     "name": "stdout",
     "output_type": "stream",
     "text": [
      "missing values in inc_angle:  133\n"
     ]
    },
    {
     "data": {
      "text/html": [
       "<div>\n",
       "<style>\n",
       "    .dataframe thead tr:only-child th {\n",
       "        text-align: right;\n",
       "    }\n",
       "\n",
       "    .dataframe thead th {\n",
       "        text-align: left;\n",
       "    }\n",
       "\n",
       "    .dataframe tbody tr th {\n",
       "        vertical-align: top;\n",
       "    }\n",
       "</style>\n",
       "<table border=\"1\" class=\"dataframe\">\n",
       "  <thead>\n",
       "    <tr style=\"text-align: right;\">\n",
       "      <th></th>\n",
       "      <th>band_1</th>\n",
       "      <th>band_2</th>\n",
       "      <th>id</th>\n",
       "      <th>inc_angle</th>\n",
       "      <th>is_iceberg</th>\n",
       "      <th>inc_angle_f</th>\n",
       "    </tr>\n",
       "  </thead>\n",
       "  <tbody>\n",
       "    <tr>\n",
       "      <th>1599</th>\n",
       "      <td>[-30.999878, -29.976866, -28.233906, -29.50732...</td>\n",
       "      <td>[-27.847719, -28.233864, -24.712077999999998, ...</td>\n",
       "      <td>04e11240</td>\n",
       "      <td>na</td>\n",
       "      <td>0</td>\n",
       "      <td>0.0</td>\n",
       "    </tr>\n",
       "    <tr>\n",
       "      <th>1600</th>\n",
       "      <td>[-25.31155, -26.511555, -28.694487, -27.180115...</td>\n",
       "      <td>[-29.563713, -28.290375, -26.839405, -28.29046...</td>\n",
       "      <td>c7d6f6f8</td>\n",
       "      <td>na</td>\n",
       "      <td>0</td>\n",
       "      <td>0.0</td>\n",
       "    </tr>\n",
       "    <tr>\n",
       "      <th>1601</th>\n",
       "      <td>[-18.141895, -18.141844, -19.01737, -19.701599...</td>\n",
       "      <td>[-25.305355, -29.387701, -28.963863, -26.16023...</td>\n",
       "      <td>bba1a0f1</td>\n",
       "      <td>na</td>\n",
       "      <td>0</td>\n",
       "      <td>0.0</td>\n",
       "    </tr>\n",
       "    <tr>\n",
       "      <th>1602</th>\n",
       "      <td>[-22.455633, -25.794661, -26.954567, -22.83354...</td>\n",
       "      <td>[-26.070356, -22.093737, -21.577662, -24.53376...</td>\n",
       "      <td>7f66bb44</td>\n",
       "      <td>na</td>\n",
       "      <td>0</td>\n",
       "      <td>0.0</td>\n",
       "    </tr>\n",
       "    <tr>\n",
       "      <th>1603</th>\n",
       "      <td>[-19.909191, -20.678406, -20.208834, -18.42441...</td>\n",
       "      <td>[-24.44487, -24.956001, -27.722103, -26.078417...</td>\n",
       "      <td>9d8f326c</td>\n",
       "      <td>na</td>\n",
       "      <td>0</td>\n",
       "      <td>0.0</td>\n",
       "    </tr>\n",
       "  </tbody>\n",
       "</table>\n",
       "</div>"
      ],
      "text/plain": [
       "                                                 band_1  \\\n",
       "1599  [-30.999878, -29.976866, -28.233906, -29.50732...   \n",
       "1600  [-25.31155, -26.511555, -28.694487, -27.180115...   \n",
       "1601  [-18.141895, -18.141844, -19.01737, -19.701599...   \n",
       "1602  [-22.455633, -25.794661, -26.954567, -22.83354...   \n",
       "1603  [-19.909191, -20.678406, -20.208834, -18.42441...   \n",
       "\n",
       "                                                 band_2        id inc_angle  \\\n",
       "1599  [-27.847719, -28.233864, -24.712077999999998, ...  04e11240        na   \n",
       "1600  [-29.563713, -28.290375, -26.839405, -28.29046...  c7d6f6f8        na   \n",
       "1601  [-25.305355, -29.387701, -28.963863, -26.16023...  bba1a0f1        na   \n",
       "1602  [-26.070356, -22.093737, -21.577662, -24.53376...  7f66bb44        na   \n",
       "1603  [-24.44487, -24.956001, -27.722103, -26.078417...  9d8f326c        na   \n",
       "\n",
       "      is_iceberg  inc_angle_f  \n",
       "1599           0          0.0  \n",
       "1600           0          0.0  \n",
       "1601           0          0.0  \n",
       "1602           0          0.0  \n",
       "1603           0          0.0  "
      ]
     },
     "execution_count": 7,
     "metadata": {},
     "output_type": "execute_result"
    }
   ],
   "source": [
    "train_df['inc_angle_f'] = pd.to_numeric(train_df['inc_angle'], errors='coerce')\n",
    "print(\"missing values in inc_angle: \", train_df['inc_angle_f'].isnull().sum())\n",
    "#train_df['inc_angle_f'].replace(np.nan,train_df['inc_angle_f'].mean(), inplace=True)\n",
    "train_df['inc_angle_f'].replace(np.nan,0, inplace=True)\n",
    "train_df.tail()"
   ]
  },
  {
   "cell_type": "markdown",
   "metadata": {},
   "source": [
    "### Transform for NN"
   ]
  },
  {
   "cell_type": "code",
   "execution_count": 8,
   "metadata": {
    "collapsed": true
   },
   "outputs": [],
   "source": [
    "def get_bands(train_df):\n",
    "    max_col = np.array(train_df.apply(lambda x: max((max(train_df.loc[x.name,'band_1']),max(train_df.loc[x.name,'band_2']))),axis=1)) - 10\n",
    "    max_col2 = max_col.reshape(-1,1) * np.ones(75*75).reshape(1,75*75)\n",
    "    max_col2 = max_col2.reshape(-1,75,75)\n",
    "\n",
    "    band_1 = np.array(train_df['band_1'].tolist()).reshape(-1,75,75) - max_col2\n",
    "    band_2 = np.array(train_df['band_2'].tolist()).reshape(-1,75,75) - max_col2\n",
    "    band_1_t = 10**(band_1/10)\n",
    "    band_2_t = 10**(band_2/10)\n",
    "    band_1_t = np.where(band_1_t > 0.01, band_1_t, 0)\n",
    "    band_2_t = np.where(band_2_t > 0.01, band_2_t, 0)\n",
    "    band_3 = band_1_t - band_2_t\n",
    "    X = np.stack((band_1,band_2,band_1_t,band_2_t),axis=3)\n",
    "    \n",
    "    return band_1, band_2, band_1_t, band_2_t, band_3, X"
   ]
  },
  {
   "cell_type": "code",
   "execution_count": 9,
   "metadata": {},
   "outputs": [
    {
     "data": {
      "image/png": "[encoded data removed]",
      "text/plain": [
       "<matplotlib.figure.Figure at 0x287d3c434a8>"
      ]
     },
     "metadata": {},
     "output_type": "display_data"
    },
    {
     "data": {
      "image/png": "[encoded data removed]",
      "text/plain": [
       "<matplotlib.figure.Figure at 0x28797a8e630>"
      ]
     },
     "metadata": {},
     "output_type": "display_data"
    }
   ],
   "source": [
    "band_1, band_2, band_1_t, band_2_t, band_3, X = get_bands(train_df)\n",
    "plt.hist(band_1.flatten(), bins=200, color=\"red\", alpha=0.4)\n",
    "plt.hist(band_2.flatten(), bins=200, color=\"blue\", alpha=0.4)\n",
    "plt.show()\n",
    "\n",
    "plt.hist(band_1[train_df[train_df['is_iceberg']==0].index[:3]].flatten(), bins=50, color=\"orange\", alpha=0.4)\n",
    "plt.hist(band_1[train_df[train_df['is_iceberg']==1].index[:3]].flatten(), bins=50, color=\"green\", alpha=0.4)\n",
    "plt.show()"
   ]
  },
  {
   "cell_type": "code",
   "execution_count": 10,
   "metadata": {},
   "outputs": [
    {
     "data": {
      "image/png": "[encoded data removed]",
      "text/plain": [
       "<matplotlib.figure.Figure at 0x287d8327390>"
      ]
     },
     "metadata": {},
     "output_type": "display_data"
    }
   ],
   "source": [
    "plt.hist(band_1_t.flatten(),bins=200, color=\"red\", alpha=0.4)\n",
    "plt.hist(band_2_t.flatten(),bins=200, color=\"blue\", alpha=0.4)\n",
    "plt.yscale('log')\n",
    "plt.xscale('log')\n",
    "plt.show()"
   ]
  },
  {
   "cell_type": "code",
   "execution_count": 11,
   "metadata": {},
   "outputs": [
    {
     "data": {
      "image/png": "[encoded data removed]",
      "text/plain": [
       "<matplotlib.figure.Figure at 0x287fc2918d0>"
      ]
     },
     "metadata": {},
     "output_type": "display_data"
    }
   ],
   "source": [
    "plt.hist(band_3[train_df[train_df['is_iceberg']==0].index].flatten(), bins=50, color=\"orange\", alpha=0.4)\n",
    "plt.hist(band_3[train_df[train_df['is_iceberg']==1].index].flatten(), bins=50, color=\"green\", alpha=0.4)\n",
    "plt.yscale('log')\n",
    "plt.xscale('log')\n",
    "plt.show()"
   ]
  },
  {
   "cell_type": "code",
   "execution_count": 12,
   "metadata": {
    "scrolled": false
   },
   "outputs": [
    {
     "data": {
      "image/png": "[encoded data removed]",
      "text/plain": [
       "<matplotlib.figure.Figure at 0x2878024d710>"
      ]
     },
     "metadata": {},
     "output_type": "display_data"
    },
    {
     "data": {
      "image/png": "[encoded data removed]",
      "text/plain": [
       "<matplotlib.figure.Figure at 0x28781521390>"
      ]
     },
     "metadata": {},
     "output_type": "display_data"
    }
   ],
   "source": [
    "def plot_bands(index, cmap=\"gray\"):\n",
    "    fig = plt.figure(figsize=(12,6))\n",
    "    fig.suptitle(\"Is Iceberg: %x\" % (train_df.loc[index,'is_iceberg']), fontsize=16)\n",
    "    ax1 = fig.add_subplot(251)\n",
    "    ax1.set_title(\"Band 1\")\n",
    "    ax1.imshow(band_1[index], cmap=cmap)\n",
    "    ax2 = fig.add_subplot(252)\n",
    "    ax2.set_title(\"Band 2\")\n",
    "    ax2.imshow(band_2[index], cmap=cmap)\n",
    "    ax3 = fig.add_subplot(253)\n",
    "    ax3.set_title(\"Band 1 t\")\n",
    "    ax3.imshow(band_1_t[index], cmap=cmap)\n",
    "    ax3 = fig.add_subplot(254)\n",
    "    ax3.set_title(\"Band 2 t\")\n",
    "    ax3.imshow(band_2_t[index], cmap=cmap)\n",
    "    ax3 = fig.add_subplot(255)\n",
    "    ax3.set_title(\"Band 3\")\n",
    "    ax3.imshow(band_3[index], cmap=cmap)\n",
    "    fig.tight_layout(rect=[0, 0.03, 1, 0.95])\n",
    "    plt.show()\n",
    "\n",
    "plot_bands(0,cmap=\"inferno\")\n",
    "plot_bands(2,cmap=\"inferno\")\n"
   ]
  },
  {
   "cell_type": "code",
   "execution_count": 13,
   "metadata": {
    "collapsed": true,
    "scrolled": true
   },
   "outputs": [],
   "source": [
    "y = train_df.loc[:,'is_iceberg']\n",
    "y_angle = train_df.loc[:,['is_iceberg','inc_angle_f']]\n",
    "y_angle['index'] = y_angle.index"
   ]
  },
  {
   "cell_type": "code",
   "execution_count": 14,
   "metadata": {},
   "outputs": [
    {
     "data": {
      "text/html": [
       "<div>\n",
       "<style>\n",
       "    .dataframe thead tr:only-child th {\n",
       "        text-align: right;\n",
       "    }\n",
       "\n",
       "    .dataframe thead th {\n",
       "        text-align: left;\n",
       "    }\n",
       "\n",
       "    .dataframe tbody tr th {\n",
       "        vertical-align: top;\n",
       "    }\n",
       "</style>\n",
       "<table border=\"1\" class=\"dataframe\">\n",
       "  <thead>\n",
       "    <tr style=\"text-align: right;\">\n",
       "      <th></th>\n",
       "      <th>is_iceberg</th>\n",
       "      <th>inc_angle_f</th>\n",
       "      <th>index</th>\n",
       "    </tr>\n",
       "  </thead>\n",
       "  <tbody>\n",
       "    <tr>\n",
       "      <th>0</th>\n",
       "      <td>0</td>\n",
       "      <td>43.9239</td>\n",
       "      <td>0</td>\n",
       "    </tr>\n",
       "    <tr>\n",
       "      <th>1</th>\n",
       "      <td>0</td>\n",
       "      <td>38.1562</td>\n",
       "      <td>1</td>\n",
       "    </tr>\n",
       "    <tr>\n",
       "      <th>2</th>\n",
       "      <td>1</td>\n",
       "      <td>45.2859</td>\n",
       "      <td>2</td>\n",
       "    </tr>\n",
       "    <tr>\n",
       "      <th>3</th>\n",
       "      <td>0</td>\n",
       "      <td>43.8306</td>\n",
       "      <td>3</td>\n",
       "    </tr>\n",
       "    <tr>\n",
       "      <th>4</th>\n",
       "      <td>0</td>\n",
       "      <td>35.6256</td>\n",
       "      <td>4</td>\n",
       "    </tr>\n",
       "  </tbody>\n",
       "</table>\n",
       "</div>"
      ],
      "text/plain": [
       "   is_iceberg  inc_angle_f  index\n",
       "0           0      43.9239      0\n",
       "1           0      38.1562      1\n",
       "2           1      45.2859      2\n",
       "3           0      43.8306      3\n",
       "4           0      35.6256      4"
      ]
     },
     "execution_count": 14,
     "metadata": {},
     "output_type": "execute_result"
    }
   ],
   "source": [
    "y_angle.head()"
   ]
  },
  {
   "cell_type": "markdown",
   "metadata": {},
   "source": [
    "### Split into train test and validation sets"
   ]
  },
  {
   "cell_type": "code",
   "execution_count": 15,
   "metadata": {},
   "outputs": [
    {
     "name": "stdout",
     "output_type": "stream",
     "text": [
      "(1122, 75, 75, 4)\n",
      "(482, 75, 75, 4)\n"
     ]
    }
   ],
   "source": [
    "X_train, X_val, y_train, y_val = train_test_split(X, y_angle, test_size=0.3, random_state=random_seed)\n",
    "print(X_train.shape)\n",
    "print(X_val.shape)"
   ]
  },
  {
   "cell_type": "markdown",
   "metadata": {},
   "source": [
    "### Data augmentation"
   ]
  },
  {
   "cell_type": "code",
   "execution_count": 16,
   "metadata": {
    "scrolled": false
   },
   "outputs": [
    {
     "name": "stdout",
     "output_type": "stream",
     "text": [
      "(1122, 75, 75, 4)\n"
     ]
    }
   ],
   "source": [
    "X_train_sample = X_train[:]\n",
    "y_train_sample = y_train[:]\n",
    "print(X_train_sample.shape)\n",
    "\n",
    "datagen = ImageDataGenerator(\n",
    "    samplewise_center=False,\n",
    "    samplewise_std_normalization=False,\n",
    "    rotation_range=20,\n",
    "    horizontal_flip=True,\n",
    "    vertical_flip=True,\n",
    "    fill_mode='nearest')\n",
    "\n",
    "datagen_val = ImageDataGenerator(\n",
    "    samplewise_center=False,\n",
    "    samplewise_std_normalization=False,\n",
    "    rotation_range=0,\n",
    "    horizontal_flip=False,\n",
    "    vertical_flip=False,\n",
    "    fill_mode='nearest')\n",
    "\n",
    "#custom generator for fit_generator\n",
    "from collections import Generator\n",
    "class Datagen_angle(Generator):\n",
    "    def __init__(self, imagegen=ImageDataGenerator):\n",
    "        self.imagegen = imagegen\n",
    "        \n",
    "    def flow(self, x, y, batch_size=8, shuffle=True):\n",
    "        self.generator = self.imagegen.flow(x, y, batch_size=batch_size, shuffle=shuffle)\n",
    "        return self\n",
    "    \n",
    "    def send(self, ignored):\n",
    "        temp_data = next(self.generator)\n",
    "        temp_band_3 = temp_data[0][:,:,:,2] - temp_data[0][:,:,:,3] #band_1_t - band_2_t\n",
    "        temp_stacked1 = np.stack((temp_data[0][:,:,:,0],temp_data[0][:,:,:,1]),axis=3)\n",
    "        temp_stacked2 = np.stack((temp_data[0][:,:,:,2],temp_data[0][:,:,:,3],temp_band_3),axis=3)\n",
    "        nn_denoised_temp = temp_data[0] #pass 4 bands for nn denoising input\n",
    "        return [temp_stacked1, temp_stacked2, \n",
    "                nn_denoised_temp,\n",
    "                temp_data[1][:,1]], temp_data[1][:,0]\n",
    "    \n",
    "    def throw(self, type=None, value=None, traceback=None):\n",
    "        raise StopIteration\n",
    "    \n",
    "\n",
    "datagen.fit(X_train_sample)\n",
    "datagen_val.fit(X_val)\n",
    "\n",
    "datagen_angle = Datagen_angle(imagegen=datagen)\n",
    "datagen_angle_val = Datagen_angle(imagegen=datagen_val)\n"
   ]
  },
  {
   "cell_type": "markdown",
   "metadata": {},
   "source": [
    "### Learning rate scheduler and callback definition"
   ]
  },
  {
   "cell_type": "code",
   "execution_count": 17,
   "metadata": {
    "collapsed": true
   },
   "outputs": [],
   "source": [
    "# learning rate schedule\n",
    "class LScheduler:\n",
    "    def __init__(self, initial_lrate=0.001, drop=0.66, patience=5):\n",
    "        self.initial_lrate=initial_lrate\n",
    "        self.drop = drop\n",
    "        self.patience = patience\n",
    "\n",
    "    def step_decay(self,epoch):\n",
    "        initial_lrate = self.initial_lrate\n",
    "        drop = self.drop\n",
    "        patience = self.patience\n",
    "        lrate = initial_lrate * math.pow(drop, math.floor((1+epoch)/patience))\n",
    "        if math.fmod(epoch, patience) == 0:\n",
    "            print(\"Setting learning rate: \",lrate)\n",
    "        return lrate"
   ]
  },
  {
   "cell_type": "markdown",
   "metadata": {},
   "source": [
    "### Denoising"
   ]
  },
  {
   "cell_type": "code",
   "execution_count": 18,
   "metadata": {
    "collapsed": true
   },
   "outputs": [],
   "source": [
    "def denoising(img):\n",
    "    img_list = []\n",
    "    for i in range(4):\n",
    "        image = normalize(img[:,:,i])\n",
    "        img_list.append(ndimage.median_filter(image, 3))\n",
    "    return np.stack(img_list,axis=2)"
   ]
  },
  {
   "cell_type": "code",
   "execution_count": 19,
   "metadata": {
    "collapsed": true
   },
   "outputs": [],
   "source": [
    "def apply_over_axis(func, data, mask=None, axis=0, *args, **kwargs):\n",
    "    f_list = []\n",
    "    for i in range(data.shape[axis]):\n",
    "        if mask is None:\n",
    "            f_list.append(func(data[i], *args, **kwargs))\n",
    "        else:\n",
    "            f_list.append(func(data[i], mask=mask[i], *args, **kwargs))\n",
    "    return np.stack(f_list,axis=0)"
   ]
  },
  {
   "cell_type": "code",
   "execution_count": 20,
   "metadata": {
    "collapsed": true
   },
   "outputs": [],
   "source": [
    "#X_denoised = apply_over_axis(denoising, X)"
   ]
  },
  {
   "cell_type": "code",
   "execution_count": 21,
   "metadata": {
    "collapsed": true,
    "scrolled": true
   },
   "outputs": [],
   "source": [
    "#index=8\n",
    "#original_index = y_train_sample.iloc[index].name\n",
    "#cmap=\"inferno\"\n",
    "#fig = plt.figure(figsize=(12,6))\n",
    "#fig.suptitle(\"Denoising: is iceberg: %x\" % (y_train_sample.iloc[index,0]), fontsize=16)\n",
    "#ax1 = fig.add_subplot(251)\n",
    "#ax1.set_title(\"Before\")\n",
    "#ax1.imshow(X_train_sample[index][:,:,0], cmap=cmap)\n",
    "#ax2 = fig.add_subplot(252)\n",
    "#ax2.set_title(\"Denoised\")\n",
    "#ax2.imshow(X_denoised[original_index][:,:,0], cmap=cmap)\n",
    "#ax1 = fig.add_subplot(253)\n",
    "#ax1.set_title(\"Before - band 2\")\n",
    "#ax1.imshow(X_train_sample[index][:,:,1], cmap=cmap)\n",
    "#ax2 = fig.add_subplot(254)\n",
    "#ax2.set_title(\"Denoised - band 2\")\n",
    "#ax2.imshow(X_denoised[original_index][:,:,1], cmap=cmap)\n",
    "#plt.show()"
   ]
  },
  {
   "cell_type": "markdown",
   "metadata": {},
   "source": [
    "### NN denoising"
   ]
  },
  {
   "cell_type": "code",
   "execution_count": 22,
   "metadata": {
    "collapsed": true
   },
   "outputs": [],
   "source": [
    "#custom generator for denoising\n",
    "from collections import Generator\n",
    "class Datagen_denoising(Generator):\n",
    "    def __init__(self, imagegen=ImageDataGenerator):\n",
    "        self.imagegen = imagegen\n",
    "        \n",
    "    def flow(self, x, y, batch_size=8, shuffle=True):\n",
    "        self.generator = self.imagegen.flow(x, y, batch_size=batch_size, shuffle=shuffle)\n",
    "        return self\n",
    "    \n",
    "    def send(self, ignored):\n",
    "        temp_data = next(self.generator)\n",
    "        temp_stacked1 = np.stack((temp_data[0][:,:,:,0],temp_data[0][:,:,:,1]),axis=3)\n",
    "        temp_stacked = np.stack((temp_data[0][:,:,:,0],temp_data[0][:,:,:,1],temp_data[0][:,:,:,2],\n",
    "                                temp_data[0][:,:,:,3]),axis=3)\n",
    "        return temp_stacked, temp_stacked\n",
    "    \n",
    "    def throw(self, type=None, value=None, traceback=None):\n",
    "        raise StopIteration\n",
    "        \n",
    "datagen_denoising = Datagen_denoising(imagegen=datagen)\n",
    "datagen_denoising_val = Datagen_denoising(imagegen=datagen_val)"
   ]
  },
  {
   "cell_type": "code",
   "execution_count": 23,
   "metadata": {
    "collapsed": true
   },
   "outputs": [],
   "source": [
    "m_input = Input(shape=(75,75,4), name='m_input')\n",
    "\n",
    "#conv layers for main_input\n",
    "x1 = BatchNormalization()(m_input)\n",
    "x1 = ZeroPadding2D()(x1)\n",
    "x1 = Conv2D(8, (3,3), activation='relu')(x1)\n",
    "x1 = BatchNormalization()(x1)\n",
    "x1 = Dropout(0.2)(x1)\n",
    "x1 = ZeroPadding2D()(x1)\n",
    "x1 = Conv2D(8, (3,3), activation='relu')(x1)\n",
    "x1 = BatchNormalization()(x1)\n",
    "x1 = Dropout(0.2)(x1)\n",
    "x1 = ZeroPadding2D()(x1)\n",
    "m_output = Conv2D(4, (3,3), activation='linear', name='m_output')(x1)\n",
    "model_denoise = Model(inputs=[m_input,], outputs=[m_output], name='Model_nn_denoising')\n",
    "\n",
    "model_denoise.compile(optimizer=Adam(lr=0.1, beta_1=0.9, beta_2=0.999, epsilon=1e-08, decay=0),\n",
    "loss='mean_squared_error',\n",
    "metrics=['mae'])"
   ]
  },
  {
   "cell_type": "code",
   "execution_count": 24,
   "metadata": {
    "scrolled": true
   },
   "outputs": [
    {
     "name": "stdout",
     "output_type": "stream",
     "text": [
      "_________________________________________________________________\n",
      "Layer (type)                 Output Shape              Param #   \n",
      "=================================================================\n",
      "m_input (InputLayer)         (None, 75, 75, 4)         0         \n",
      "_________________________________________________________________\n",
      "batch_normalization_1 (Batch (None, 75, 75, 4)         16        \n",
      "_________________________________________________________________\n",
      "zero_padding2d_1 (ZeroPaddin (None, 77, 77, 4)         0         \n",
      "_________________________________________________________________\n",
      "conv2d_1 (Conv2D)            (None, 75, 75, 8)         296       \n",
      "_________________________________________________________________\n",
      "batch_normalization_2 (Batch (None, 75, 75, 8)         32        \n",
      "_________________________________________________________________\n",
      "dropout_1 (Dropout)          (None, 75, 75, 8)         0         \n",
      "_________________________________________________________________\n",
      "zero_padding2d_2 (ZeroPaddin (None, 77, 77, 8)         0         \n",
      "_________________________________________________________________\n",
      "conv2d_2 (Conv2D)            (None, 75, 75, 8)         584       \n",
      "_________________________________________________________________\n",
      "batch_normalization_3 (Batch (None, 75, 75, 8)         32        \n",
      "_________________________________________________________________\n",
      "dropout_2 (Dropout)          (None, 75, 75, 8)         0         \n",
      "_________________________________________________________________\n",
      "zero_padding2d_3 (ZeroPaddin (None, 77, 77, 8)         0         \n",
      "_________________________________________________________________\n",
      "m_output (Conv2D)            (None, 75, 75, 4)         292       \n",
      "=================================================================\n",
      "Total params: 1,252\n",
      "Trainable params: 1,212\n",
      "Non-trainable params: 40\n",
      "_________________________________________________________________\n"
     ]
    }
   ],
   "source": [
    "model_denoise.summary()"
   ]
  },
  {
   "cell_type": "code",
   "execution_count": 25,
   "metadata": {
    "scrolled": false
   },
   "outputs": [
    {
     "data": {
      "application/vnd.jupyter.widget-view+json": {
       "model_id": "18f479876fbd42b594a5914b1a96e75e",
       "version_major": 2,
       "version_minor": 0
      },
      "text/html": [
       "<p>Failed to display Jupyter Widget of type <code>HBox</code>.</p>\n",
       "<p>\n",
       "  If you're reading this message in the Jupyter Notebook or JupyterLab Notebook, it may mean\n",
       "  that the widgets JavaScript is still loading. If this message persists, it\n",
       "  likely means that the widgets JavaScript library is either not installed or\n",
       "  not enabled. See the <a href=\"https://ipywidgets.readthedocs.io/en/stable/user_install.html\">Jupyter\n",
       "  Widgets Documentation</a> for setup instructions.\n",
       "</p>\n",
       "<p>\n",
       "  If you're reading this message in another frontend (for example, a static\n",
       "  rendering on GitHub or <a href=\"https://nbviewer.jupyter.org/\">NBViewer</a>),\n",
       "  it may mean that your frontend doesn't currently support widgets.\n",
       "</p>\n"
      ],
      "text/plain": [
       "HBox(children=(IntProgress(value=0, description='Training', max=12), HTML(value='')))"
      ]
     },
     "metadata": {},
     "output_type": "display_data"
    },
    {
     "data": {
      "application/vnd.jupyter.widget-view+json": {
       "model_id": "2d156728e0d74164bd22a55418b66e28",
       "version_major": 2,
       "version_minor": 0
      },
      "text/html": [
       "<p>Failed to display Jupyter Widget of type <code>HBox</code>.</p>\n",
       "<p>\n",
       "  If you're reading this message in the Jupyter Notebook or JupyterLab Notebook, it may mean\n",
       "  that the widgets JavaScript is still loading. If this message persists, it\n",
       "  likely means that the widgets JavaScript library is either not installed or\n",
       "  not enabled. See the <a href=\"https://ipywidgets.readthedocs.io/en/stable/user_install.html\">Jupyter\n",
       "  Widgets Documentation</a> for setup instructions.\n",
       "</p>\n",
       "<p>\n",
       "  If you're reading this message in another frontend (for example, a static\n",
       "  rendering on GitHub or <a href=\"https://nbviewer.jupyter.org/\">NBViewer</a>),\n",
       "  it may mean that your frontend doesn't currently support widgets.\n",
       "</p>\n"
      ],
      "text/plain": [
       "HBox(children=(IntProgress(value=0, description='Epoch 0', max=200), HTML(value='')))"
      ]
     },
     "metadata": {},
     "output_type": "display_data"
    },
    {
     "data": {
      "application/vnd.jupyter.widget-view+json": {
       "model_id": "9dc1ed51e1f34ac5af8a2fe4219db6b0",
       "version_major": 2,
       "version_minor": 0
      },
      "text/html": [
       "<p>Failed to display Jupyter Widget of type <code>HBox</code>.</p>\n",
       "<p>\n",
       "  If you're reading this message in the Jupyter Notebook or JupyterLab Notebook, it may mean\n",
       "  that the widgets JavaScript is still loading. If this message persists, it\n",
       "  likely means that the widgets JavaScript library is either not installed or\n",
       "  not enabled. See the <a href=\"https://ipywidgets.readthedocs.io/en/stable/user_install.html\">Jupyter\n",
       "  Widgets Documentation</a> for setup instructions.\n",
       "</p>\n",
       "<p>\n",
       "  If you're reading this message in another frontend (for example, a static\n",
       "  rendering on GitHub or <a href=\"https://nbviewer.jupyter.org/\">NBViewer</a>),\n",
       "  it may mean that your frontend doesn't currently support widgets.\n",
       "</p>\n"
      ],
      "text/plain": [
       "HBox(children=(IntProgress(value=0, description='Epoch 1', max=200), HTML(value='')))"
      ]
     },
     "metadata": {},
     "output_type": "display_data"
    },
    {
     "data": {
      "application/vnd.jupyter.widget-view+json": {
       "model_id": "66aa5c058ad1450f9073f61b53ddaf30",
       "version_major": 2,
       "version_minor": 0
      },
      "text/html": [
       "<p>Failed to display Jupyter Widget of type <code>HBox</code>.</p>\n",
       "<p>\n",
       "  If you're reading this message in the Jupyter Notebook or JupyterLab Notebook, it may mean\n",
       "  that the widgets JavaScript is still loading. If this message persists, it\n",
       "  likely means that the widgets JavaScript library is either not installed or\n",
       "  not enabled. See the <a href=\"https://ipywidgets.readthedocs.io/en/stable/user_install.html\">Jupyter\n",
       "  Widgets Documentation</a> for setup instructions.\n",
       "</p>\n",
       "<p>\n",
       "  If you're reading this message in another frontend (for example, a static\n",
       "  rendering on GitHub or <a href=\"https://nbviewer.jupyter.org/\">NBViewer</a>),\n",
       "  it may mean that your frontend doesn't currently support widgets.\n",
       "</p>\n"
      ],
      "text/plain": [
       "HBox(children=(IntProgress(value=0, description='Epoch 2', max=200), HTML(value='')))"
      ]
     },
     "metadata": {},
     "output_type": "display_data"
    },
    {
     "data": {
      "application/vnd.jupyter.widget-view+json": {
       "model_id": "d4693554c65948ccb000eb439c93b0bd",
       "version_major": 2,
       "version_minor": 0
      },
      "text/html": [
       "<p>Failed to display Jupyter Widget of type <code>HBox</code>.</p>\n",
       "<p>\n",
       "  If you're reading this message in the Jupyter Notebook or JupyterLab Notebook, it may mean\n",
       "  that the widgets JavaScript is still loading. If this message persists, it\n",
       "  likely means that the widgets JavaScript library is either not installed or\n",
       "  not enabled. See the <a href=\"https://ipywidgets.readthedocs.io/en/stable/user_install.html\">Jupyter\n",
       "  Widgets Documentation</a> for setup instructions.\n",
       "</p>\n",
       "<p>\n",
       "  If you're reading this message in another frontend (for example, a static\n",
       "  rendering on GitHub or <a href=\"https://nbviewer.jupyter.org/\">NBViewer</a>),\n",
       "  it may mean that your frontend doesn't currently support widgets.\n",
       "</p>\n"
      ],
      "text/plain": [
       "HBox(children=(IntProgress(value=0, description='Epoch 3', max=200), HTML(value='')))"
      ]
     },
     "metadata": {},
     "output_type": "display_data"
    },
    {
     "data": {
      "application/vnd.jupyter.widget-view+json": {
       "model_id": "cfbcbf1db5204e98b8797cebcea7480f",
       "version_major": 2,
       "version_minor": 0
      },
      "text/html": [
       "<p>Failed to display Jupyter Widget of type <code>HBox</code>.</p>\n",
       "<p>\n",
       "  If you're reading this message in the Jupyter Notebook or JupyterLab Notebook, it may mean\n",
       "  that the widgets JavaScript is still loading. If this message persists, it\n",
       "  likely means that the widgets JavaScript library is either not installed or\n",
       "  not enabled. See the <a href=\"https://ipywidgets.readthedocs.io/en/stable/user_install.html\">Jupyter\n",
       "  Widgets Documentation</a> for setup instructions.\n",
       "</p>\n",
       "<p>\n",
       "  If you're reading this message in another frontend (for example, a static\n",
       "  rendering on GitHub or <a href=\"https://nbviewer.jupyter.org/\">NBViewer</a>),\n",
       "  it may mean that your frontend doesn't currently support widgets.\n",
       "</p>\n"
      ],
      "text/plain": [
       "HBox(children=(IntProgress(value=0, description='Epoch 4', max=200), HTML(value='')))"
      ]
     },
     "metadata": {},
     "output_type": "display_data"
    },
    {
     "data": {
      "application/vnd.jupyter.widget-view+json": {
       "model_id": "744e957477a04da4b1fa53bb1082c1a2",
       "version_major": 2,
       "version_minor": 0
      },
      "text/html": [
       "<p>Failed to display Jupyter Widget of type <code>HBox</code>.</p>\n",
       "<p>\n",
       "  If you're reading this message in the Jupyter Notebook or JupyterLab Notebook, it may mean\n",
       "  that the widgets JavaScript is still loading. If this message persists, it\n",
       "  likely means that the widgets JavaScript library is either not installed or\n",
       "  not enabled. See the <a href=\"https://ipywidgets.readthedocs.io/en/stable/user_install.html\">Jupyter\n",
       "  Widgets Documentation</a> for setup instructions.\n",
       "</p>\n",
       "<p>\n",
       "  If you're reading this message in another frontend (for example, a static\n",
       "  rendering on GitHub or <a href=\"https://nbviewer.jupyter.org/\">NBViewer</a>),\n",
       "  it may mean that your frontend doesn't currently support widgets.\n",
       "</p>\n"
      ],
      "text/plain": [
       "HBox(children=(IntProgress(value=0, description='Epoch 5', max=200), HTML(value='')))"
      ]
     },
     "metadata": {},
     "output_type": "display_data"
    },
    {
     "data": {
      "application/vnd.jupyter.widget-view+json": {
       "model_id": "4937a917589540afa71a3eca5065fca4",
       "version_major": 2,
       "version_minor": 0
      },
      "text/html": [
       "<p>Failed to display Jupyter Widget of type <code>HBox</code>.</p>\n",
       "<p>\n",
       "  If you're reading this message in the Jupyter Notebook or JupyterLab Notebook, it may mean\n",
       "  that the widgets JavaScript is still loading. If this message persists, it\n",
       "  likely means that the widgets JavaScript library is either not installed or\n",
       "  not enabled. See the <a href=\"https://ipywidgets.readthedocs.io/en/stable/user_install.html\">Jupyter\n",
       "  Widgets Documentation</a> for setup instructions.\n",
       "</p>\n",
       "<p>\n",
       "  If you're reading this message in another frontend (for example, a static\n",
       "  rendering on GitHub or <a href=\"https://nbviewer.jupyter.org/\">NBViewer</a>),\n",
       "  it may mean that your frontend doesn't currently support widgets.\n",
       "</p>\n"
      ],
      "text/plain": [
       "HBox(children=(IntProgress(value=0, description='Epoch 6', max=200), HTML(value='')))"
      ]
     },
     "metadata": {},
     "output_type": "display_data"
    },
    {
     "data": {
      "application/vnd.jupyter.widget-view+json": {
       "model_id": "7606e568968348db80551d049c070892",
       "version_major": 2,
       "version_minor": 0
      },
      "text/html": [
       "<p>Failed to display Jupyter Widget of type <code>HBox</code>.</p>\n",
       "<p>\n",
       "  If you're reading this message in the Jupyter Notebook or JupyterLab Notebook, it may mean\n",
       "  that the widgets JavaScript is still loading. If this message persists, it\n",
       "  likely means that the widgets JavaScript library is either not installed or\n",
       "  not enabled. See the <a href=\"https://ipywidgets.readthedocs.io/en/stable/user_install.html\">Jupyter\n",
       "  Widgets Documentation</a> for setup instructions.\n",
       "</p>\n",
       "<p>\n",
       "  If you're reading this message in another frontend (for example, a static\n",
       "  rendering on GitHub or <a href=\"https://nbviewer.jupyter.org/\">NBViewer</a>),\n",
       "  it may mean that your frontend doesn't currently support widgets.\n",
       "</p>\n"
      ],
      "text/plain": [
       "HBox(children=(IntProgress(value=0, description='Epoch 7', max=200), HTML(value='')))"
      ]
     },
     "metadata": {},
     "output_type": "display_data"
    },
    {
     "data": {
      "application/vnd.jupyter.widget-view+json": {
       "model_id": "cab99fb2ba03432da072ac1ade9b4e19",
       "version_major": 2,
       "version_minor": 0
      },
      "text/html": [
       "<p>Failed to display Jupyter Widget of type <code>HBox</code>.</p>\n",
       "<p>\n",
       "  If you're reading this message in the Jupyter Notebook or JupyterLab Notebook, it may mean\n",
       "  that the widgets JavaScript is still loading. If this message persists, it\n",
       "  likely means that the widgets JavaScript library is either not installed or\n",
       "  not enabled. See the <a href=\"https://ipywidgets.readthedocs.io/en/stable/user_install.html\">Jupyter\n",
       "  Widgets Documentation</a> for setup instructions.\n",
       "</p>\n",
       "<p>\n",
       "  If you're reading this message in another frontend (for example, a static\n",
       "  rendering on GitHub or <a href=\"https://nbviewer.jupyter.org/\">NBViewer</a>),\n",
       "  it may mean that your frontend doesn't currently support widgets.\n",
       "</p>\n"
      ],
      "text/plain": [
       "HBox(children=(IntProgress(value=0, description='Epoch 8', max=200), HTML(value='')))"
      ]
     },
     "metadata": {},
     "output_type": "display_data"
    },
    {
     "data": {
      "application/vnd.jupyter.widget-view+json": {
       "model_id": "bd8a154d1d3d415696c9154862a3240b",
       "version_major": 2,
       "version_minor": 0
      },
      "text/html": [
       "<p>Failed to display Jupyter Widget of type <code>HBox</code>.</p>\n",
       "<p>\n",
       "  If you're reading this message in the Jupyter Notebook or JupyterLab Notebook, it may mean\n",
       "  that the widgets JavaScript is still loading. If this message persists, it\n",
       "  likely means that the widgets JavaScript library is either not installed or\n",
       "  not enabled. See the <a href=\"https://ipywidgets.readthedocs.io/en/stable/user_install.html\">Jupyter\n",
       "  Widgets Documentation</a> for setup instructions.\n",
       "</p>\n",
       "<p>\n",
       "  If you're reading this message in another frontend (for example, a static\n",
       "  rendering on GitHub or <a href=\"https://nbviewer.jupyter.org/\">NBViewer</a>),\n",
       "  it may mean that your frontend doesn't currently support widgets.\n",
       "</p>\n"
      ],
      "text/plain": [
       "HBox(children=(IntProgress(value=0, description='Epoch 9', max=200), HTML(value='')))"
      ]
     },
     "metadata": {},
     "output_type": "display_data"
    },
    {
     "data": {
      "application/vnd.jupyter.widget-view+json": {
       "model_id": "e5ba16838b7944eda39d022adb9a92f4",
       "version_major": 2,
       "version_minor": 0
      },
      "text/html": [
       "<p>Failed to display Jupyter Widget of type <code>HBox</code>.</p>\n",
       "<p>\n",
       "  If you're reading this message in the Jupyter Notebook or JupyterLab Notebook, it may mean\n",
       "  that the widgets JavaScript is still loading. If this message persists, it\n",
       "  likely means that the widgets JavaScript library is either not installed or\n",
       "  not enabled. See the <a href=\"https://ipywidgets.readthedocs.io/en/stable/user_install.html\">Jupyter\n",
       "  Widgets Documentation</a> for setup instructions.\n",
       "</p>\n",
       "<p>\n",
       "  If you're reading this message in another frontend (for example, a static\n",
       "  rendering on GitHub or <a href=\"https://nbviewer.jupyter.org/\">NBViewer</a>),\n",
       "  it may mean that your frontend doesn't currently support widgets.\n",
       "</p>\n"
      ],
      "text/plain": [
       "HBox(children=(IntProgress(value=0, description='Epoch 10', max=200), HTML(value='')))"
      ]
     },
     "metadata": {},
     "output_type": "display_data"
    },
    {
     "data": {
      "application/vnd.jupyter.widget-view+json": {
       "model_id": "7c216e2dd3da497fa5601d04176c4f66",
       "version_major": 2,
       "version_minor": 0
      },
      "text/html": [
       "<p>Failed to display Jupyter Widget of type <code>HBox</code>.</p>\n",
       "<p>\n",
       "  If you're reading this message in the Jupyter Notebook or JupyterLab Notebook, it may mean\n",
       "  that the widgets JavaScript is still loading. If this message persists, it\n",
       "  likely means that the widgets JavaScript library is either not installed or\n",
       "  not enabled. See the <a href=\"https://ipywidgets.readthedocs.io/en/stable/user_install.html\">Jupyter\n",
       "  Widgets Documentation</a> for setup instructions.\n",
       "</p>\n",
       "<p>\n",
       "  If you're reading this message in another frontend (for example, a static\n",
       "  rendering on GitHub or <a href=\"https://nbviewer.jupyter.org/\">NBViewer</a>),\n",
       "  it may mean that your frontend doesn't currently support widgets.\n",
       "</p>\n"
      ],
      "text/plain": [
       "HBox(children=(IntProgress(value=0, description='Epoch 11', max=200), HTML(value='')))"
      ]
     },
     "metadata": {},
     "output_type": "display_data"
    },
    {
     "name": "stdout",
     "output_type": "stream",
     "text": [
      "\n",
      "Model training time: 1 minutes 11.3 seconds\n"
     ]
    }
   ],
   "source": [
    "#model training\n",
    "#lScheduler_denoising = LScheduler(initial_lrate=0.1, drop=0.66, patience=3)\n",
    "#lrScheduler_denoising = LearningRateScheduler(lScheduler_denoising.step_decay)\n",
    "lrScheduler_denoising = CyclicLR(base_lr=1e-8, max_lr=0.006,\n",
    "                                 step_size=400, mode='triangular2', gamma=0.99994)\n",
    "start_time = time.monotonic()\n",
    "\n",
    "H = model_denoise.fit_generator(datagen_denoising.flow(X, y_angle, batch_size=8),\n",
    "                    steps_per_epoch=len(X)/8,\n",
    "                    validation_data=datagen_denoising_val.flow(X, y_angle, batch_size=8, shuffle=False), \n",
    "                    validation_steps=len(X)/8,\n",
    "                    #validation_data=[X_val,y_val],\n",
    "                    epochs=12,\n",
    "                    callbacks = [lrScheduler_denoising, \n",
    "                                 TQDMNotebookCallback(leave_inner=True, leave_outer=True)],\n",
    "                    verbose=0)\n",
    "\n",
    "model_time = time.monotonic() - start_time\n",
    "print(\"Model training time: \" + '{:d}'.format(int(model_time // 60)) + \" minutes \" \n",
    "      + '{:.1f}'.format(model_time % 60) + \" seconds\")"
   ]
  },
  {
   "cell_type": "code",
   "execution_count": 26,
   "metadata": {},
   "outputs": [
    {
     "data": {
      "image/png": "[encoded data removed]",
      "text/plain": [
       "<matplotlib.figure.Figure at 0x2878024c710>"
      ]
     },
     "metadata": {},
     "output_type": "display_data"
    }
   ],
   "source": [
    "h = lrScheduler_denoising.history\n",
    "plt.plot(h['lr'], color=\"b\", label='lr')\n",
    "plt.legend()\n",
    "plt.xlabel('# iterations')\n",
    "plt.show()"
   ]
  },
  {
   "cell_type": "code",
   "execution_count": 27,
   "metadata": {
    "collapsed": true
   },
   "outputs": [],
   "source": [
    "# serialize model to JSON\n",
    "model_json = model_denoise.to_json()\n",
    "with open(\"models/model_denoise.json\", \"w\") as json_file:\n",
    "    json_file.write(model_json)"
   ]
  },
  {
   "cell_type": "code",
   "execution_count": 28,
   "metadata": {
    "collapsed": true
   },
   "outputs": [],
   "source": [
    "# serialize weights to HDF5\n",
    "model_weights = model_denoise.get_weights()\n",
    "with open('models/model_denoise_weights.pickle', 'wb') as handle:\n",
    "    pickle.dump(model_weights, handle, protocol=pickle.HIGHEST_PROTOCOL)"
   ]
  },
  {
   "cell_type": "code",
   "execution_count": 29,
   "metadata": {},
   "outputs": [
    {
     "name": "stdout",
     "output_type": "stream",
     "text": [
      "Loaded model from disk\n"
     ]
    }
   ],
   "source": [
    "# load json and create model\n",
    "with open(\"models/model_denoise.json\", \"r\") as json_file:\n",
    "    loaded_model_json = json_file.read()\n",
    "model_denoise = model_from_json(loaded_model_json)\n",
    "# load weights into new model\n",
    "with open('models/model_denoise_weights.pickle', 'rb') as handle:\n",
    "    model_weights = pickle.load(handle)\n",
    "model_denoise.set_weights(model_weights)\n",
    "print(\"Loaded model from disk\")"
   ]
  },
  {
   "cell_type": "code",
   "execution_count": 30,
   "metadata": {
    "scrolled": false
   },
   "outputs": [
    {
     "name": "stdout",
     "output_type": "stream",
     "text": [
      "1604/1604 [==============================] - ETA:  - ETA:  - ETA:  - ETA:  - ETA:  - ETA:  - ETA:  - ETA:  - ETA:  - ETA:  - ETA:  - ETA:  - ETA:  - ETA:  - ETA:  - ETA:  - ETA:  - ETA:  - ETA:  - ETA:  - ETA:  - ETA:  - ETA:  - ETA:  - ETA:  - ETA:  - ETA:  - 2s 1ms/step\n"
     ]
    }
   ],
   "source": [
    "X_nn_denoised = model_denoise.predict(X, verbose=1)"
   ]
  },
  {
   "cell_type": "code",
   "execution_count": 31,
   "metadata": {},
   "outputs": [
    {
     "data": {
      "image/png": "[encoded data removed]",
      "text/plain": [
       "<matplotlib.figure.Figure at 0x2878224d940>"
      ]
     },
     "metadata": {},
     "output_type": "display_data"
    }
   ],
   "source": [
    "index=8\n",
    "original_index = y_train_sample.iloc[index].name\n",
    "cmap=\"inferno\"\n",
    "fig = plt.figure(figsize=(12,6))\n",
    "fig.suptitle(\"Image denoising nn: %x\" % (train_df.loc[original_index,'is_iceberg']), fontsize=16)\n",
    "ax1 = fig.add_subplot(251)\n",
    "ax1.set_title(\"Before band_1\")\n",
    "ax1.imshow(X_train_sample[index][:,:,0], cmap=cmap)\n",
    "ax2 = fig.add_subplot(252)\n",
    "ax2.set_title(\"NN Denoising band 1\")\n",
    "ax2.imshow(X_nn_denoised[original_index][:,:,0], cmap=cmap)\n",
    "ax3 = fig.add_subplot(253)\n",
    "ax3.set_title(\"Before band 2\")\n",
    "ax3.imshow(X_train_sample[index][:,:,1], cmap=cmap)\n",
    "ax4 = fig.add_subplot(254)\n",
    "ax4.set_title(\"NN Denoising band 2\")\n",
    "ax4.imshow(X_nn_denoised[original_index][:,:,1], cmap=cmap)\n",
    "plt.show()"
   ]
  },
  {
   "cell_type": "code",
   "execution_count": null,
   "metadata": {
    "collapsed": true
   },
   "outputs": [],
   "source": []
  },
  {
   "cell_type": "markdown",
   "metadata": {},
   "source": [
    "### Keras model"
   ]
  },
  {
   "cell_type": "code",
   "execution_count": 32,
   "metadata": {
    "collapsed": true
   },
   "outputs": [],
   "source": [
    "model_code=\"CNN_2018_01_21_v01\"\n",
    "model_comment=\"2 CNN inputs 3,3 conv filters - 3rd input nn denoising, na=0\""
   ]
  },
  {
   "cell_type": "code",
   "execution_count": 33,
   "metadata": {
    "scrolled": false
   },
   "outputs": [
    {
     "name": "stdout",
     "output_type": "stream",
     "text": [
      "Overwriting current_model.py\n"
     ]
    }
   ],
   "source": [
    "%%writefile current_model.py\n",
    "\n",
    "def InputBlock(x, dropout=0.2, prefix=''):\n",
    "    #conv layers for input\n",
    "    x = BatchNormalization()(x)\n",
    "    x = Conv2D(64, (3,3), activation='relu')(x)\n",
    "    x = MaxPooling2D((2, 2), strides=(2, 2))(x)\n",
    "    x = BatchNormalization()(x)\n",
    "    x = Dropout(dropout)(x) \n",
    "    return(x)\n",
    "\n",
    "main_input = Input(shape=(75,75,2), name='main_input')\n",
    "aux_input = Input(shape=(75,75,3), name='aux_input')\n",
    "aux_input_nn = Input(shape=(75,75,4), name='aux_input_nn')\n",
    "\n",
    "x1 = InputBlock(main_input, prefix='m_input')\n",
    "x2 = InputBlock(aux_input, prefix='a_input')\n",
    "x3 = model_denoise(aux_input_nn)\n",
    "x3 = InputBlock(x3,dropout=0.2, prefix='a_input_nn')\n",
    "\n",
    "x = Concatenate(axis=3)([x1,x2,x3])\n",
    "#x = BatchNormalization()(x)\n",
    "#x = Dropout(0.2)(x)\n",
    "\n",
    "#conv-block\n",
    "x = Conv2D(128, (3, 3), activation='relu')(x)\n",
    "x = MaxPooling2D((2, 2), strides=(2, 2))(x)\n",
    "x = BatchNormalization()(x)\n",
    "x = Dropout(0.2)(x)\n",
    "\n",
    "#conv-block\n",
    "x = Conv2D(256, (3, 3), activation='relu')(x)\n",
    "x = MaxPooling2D((2, 2), strides=(2, 2))(x)\n",
    "x = BatchNormalization()(x)\n",
    "x = Dropout(0.2)(x)\n",
    "    \n",
    "#flatten\n",
    "x = Flatten()(x)\n",
    "angle_input = Input(shape=[1], name='angle_input')\n",
    "#x1 = BatchNormalization()(angle_input)\n",
    "merged = Concatenate()([x, angle_input])\n",
    "\n",
    "#dense-block\n",
    "x = Dense(513, activation='relu')(merged)\n",
    "x = BatchNormalization()(x)\n",
    "x = Dropout(0.2)(x)\n",
    "\n",
    "#dense-block\n",
    "x = Dense(256, activation='relu')(x)\n",
    "x = BatchNormalization()(x)\n",
    "x = Dropout(0.2)(x)\n",
    "\n",
    "main_output = Dense(1, activation='sigmoid', name='main_output')(x)\n",
    "model_f = Model(inputs=[main_input,aux_input, \n",
    "                        aux_input_nn, \n",
    "                        angle_input], \n",
    "                        outputs=[main_output])\n",
    "\n",
    "model_f.compile(optimizer=Adam(lr=0.001, beta_1=0.9, beta_2=0.999, epsilon=1e-08, decay=0),\n",
    "loss='binary_crossentropy',\n",
    "metrics=['accuracy'])"
   ]
  },
  {
   "cell_type": "code",
   "execution_count": 45,
   "metadata": {
    "collapsed": true
   },
   "outputs": [],
   "source": [
    "%run -i current_model.py"
   ]
  },
  {
   "cell_type": "code",
   "execution_count": 35,
   "metadata": {
    "collapsed": true
   },
   "outputs": [],
   "source": [
    "class ModelHistory(Callback):\n",
    "    def __init__(self, listSize=10):\n",
    "        self.listSize = listSize\n",
    "        self.models = []\n",
    "\n",
    "    def on_epoch_end(self, epoch, logs={}):\n",
    "        lastLoss = logs.get('val_loss')\n",
    "        rank = 1 - lastLoss\n",
    "        if len(self.models) > 0:\n",
    "            if rank > self.models[0][0]: # new model is better than the worst in the heap\n",
    "                if len(self.models) >= self.listSize: #if the model heap is already full\n",
    "                    heapq.heappushpop(self.models, (rank, lastLoss, self.model.get_weights()))\n",
    "                else:\n",
    "                    heapq.heappush(self.models, (rank, lastLoss, self.model.get_weights()))\n",
    "        else:\n",
    "            heapq.heappush(self.models, (rank, lastLoss, self.model.get_weights()))\n",
    "\n",
    "def get_callbacks(filepath, save_to_disc = True, lScheduler = None,\n",
    "                  patience=10, step_decay=LScheduler().step_decay, modelHistoryCallback=None):\n",
    "    #es = EarlyStopping('val_loss', patience=patience, mode=\"min\")\n",
    "    msave = ModelCheckpoint(filepath, save_best_only=True)\n",
    "    #reduceLr = ReduceLROnPlateau(monitor='val_loss', factor=0.5,\n",
    "    #                          patience=5, min_lr=0.000001, verbose=1)\n",
    "    if lScheduler is None:\n",
    "        lrScheduler = LearningRateScheduler(step_decay)\n",
    "    else:\n",
    "        lrScheduler = lScheduler\n",
    "    tqdmCallback =  TQDMNotebookCallback(leave_inner=True, leave_outer=True)\n",
    "    if (save_to_disc):\n",
    "        return [msave, lrScheduler, modelHistoryCallback, tqdmCallback]\n",
    "    else:\n",
    "        return [lrScheduler, modelHistoryCallback, tqdmCallback]"
   ]
  },
  {
   "cell_type": "code",
   "execution_count": 36,
   "metadata": {
    "scrolled": true
   },
   "outputs": [
    {
     "name": "stdout",
     "output_type": "stream",
     "text": [
      "__________________________________________________________________________________________________\n",
      "Layer (type)                    Output Shape         Param #     Connected to                     \n",
      "==================================================================================================\n",
      "aux_input_nn (InputLayer)       (None, 75, 75, 4)    0                                            \n",
      "__________________________________________________________________________________________________\n",
      "main_input (InputLayer)         (None, 75, 75, 2)    0                                            \n",
      "__________________________________________________________________________________________________\n",
      "aux_input (InputLayer)          (None, 75, 75, 3)    0                                            \n",
      "__________________________________________________________________________________________________\n",
      "Model_nn_denoising (Model)      (None, 75, 75, 4)    1252        aux_input_nn[0][0]               \n",
      "__________________________________________________________________________________________________\n",
      "batch_normalization_4 (BatchNor (None, 75, 75, 2)    8           main_input[0][0]                 \n",
      "__________________________________________________________________________________________________\n",
      "batch_normalization_6 (BatchNor (None, 75, 75, 3)    12          aux_input[0][0]                  \n",
      "__________________________________________________________________________________________________\n",
      "batch_normalization_8 (BatchNor (None, 75, 75, 4)    16          Model_nn_denoising[1][0]         \n",
      "__________________________________________________________________________________________________\n",
      "conv2d_3 (Conv2D)               (None, 73, 73, 64)   1216        batch_normalization_4[0][0]      \n",
      "__________________________________________________________________________________________________\n",
      "conv2d_4 (Conv2D)               (None, 73, 73, 64)   1792        batch_normalization_6[0][0]      \n",
      "__________________________________________________________________________________________________\n",
      "conv2d_5 (Conv2D)               (None, 73, 73, 64)   2368        batch_normalization_8[0][0]      \n",
      "__________________________________________________________________________________________________\n",
      "max_pooling2d_1 (MaxPooling2D)  (None, 36, 36, 64)   0           conv2d_3[0][0]                   \n",
      "__________________________________________________________________________________________________\n",
      "max_pooling2d_2 (MaxPooling2D)  (None, 36, 36, 64)   0           conv2d_4[0][0]                   \n",
      "__________________________________________________________________________________________________\n",
      "max_pooling2d_3 (MaxPooling2D)  (None, 36, 36, 64)   0           conv2d_5[0][0]                   \n",
      "__________________________________________________________________________________________________\n",
      "batch_normalization_5 (BatchNor (None, 36, 36, 64)   256         max_pooling2d_1[0][0]            \n",
      "__________________________________________________________________________________________________\n",
      "batch_normalization_7 (BatchNor (None, 36, 36, 64)   256         max_pooling2d_2[0][0]            \n",
      "__________________________________________________________________________________________________\n",
      "batch_normalization_9 (BatchNor (None, 36, 36, 64)   256         max_pooling2d_3[0][0]            \n",
      "__________________________________________________________________________________________________\n",
      "dropout_3 (Dropout)             (None, 36, 36, 64)   0           batch_normalization_5[0][0]      \n",
      "__________________________________________________________________________________________________\n",
      "dropout_4 (Dropout)             (None, 36, 36, 64)   0           batch_normalization_7[0][0]      \n",
      "__________________________________________________________________________________________________\n",
      "dropout_5 (Dropout)             (None, 36, 36, 64)   0           batch_normalization_9[0][0]      \n",
      "__________________________________________________________________________________________________\n",
      "concatenate_1 (Concatenate)     (None, 36, 36, 192)  0           dropout_3[0][0]                  \n",
      "                                                                 dropout_4[0][0]                  \n",
      "                                                                 dropout_5[0][0]                  \n",
      "__________________________________________________________________________________________________\n",
      "conv2d_6 (Conv2D)               (None, 34, 34, 128)  221312      concatenate_1[0][0]              \n",
      "__________________________________________________________________________________________________\n",
      "max_pooling2d_4 (MaxPooling2D)  (None, 17, 17, 128)  0           conv2d_6[0][0]                   \n",
      "__________________________________________________________________________________________________\n",
      "batch_normalization_10 (BatchNo (None, 17, 17, 128)  512         max_pooling2d_4[0][0]            \n",
      "__________________________________________________________________________________________________\n",
      "dropout_6 (Dropout)             (None, 17, 17, 128)  0           batch_normalization_10[0][0]     \n",
      "__________________________________________________________________________________________________\n",
      "conv2d_7 (Conv2D)               (None, 15, 15, 256)  295168      dropout_6[0][0]                  \n",
      "__________________________________________________________________________________________________\n",
      "max_pooling2d_5 (MaxPooling2D)  (None, 7, 7, 256)    0           conv2d_7[0][0]                   \n",
      "__________________________________________________________________________________________________\n",
      "batch_normalization_11 (BatchNo (None, 7, 7, 256)    1024        max_pooling2d_5[0][0]            \n",
      "__________________________________________________________________________________________________\n",
      "dropout_7 (Dropout)             (None, 7, 7, 256)    0           batch_normalization_11[0][0]     \n",
      "__________________________________________________________________________________________________\n",
      "flatten_1 (Flatten)             (None, 12544)        0           dropout_7[0][0]                  \n",
      "__________________________________________________________________________________________________\n",
      "angle_input (InputLayer)        (None, 1)            0                                            \n",
      "__________________________________________________________________________________________________\n",
      "concatenate_2 (Concatenate)     (None, 12545)        0           flatten_1[0][0]                  \n",
      "                                                                 angle_input[0][0]                \n",
      "__________________________________________________________________________________________________\n",
      "dense_1 (Dense)                 (None, 513)          6436098     concatenate_2[0][0]              \n",
      "__________________________________________________________________________________________________\n",
      "batch_normalization_12 (BatchNo (None, 513)          2052        dense_1[0][0]                    \n",
      "__________________________________________________________________________________________________\n",
      "dropout_8 (Dropout)             (None, 513)          0           batch_normalization_12[0][0]     \n",
      "__________________________________________________________________________________________________\n",
      "dense_2 (Dense)                 (None, 256)          131584      dropout_8[0][0]                  \n",
      "__________________________________________________________________________________________________\n",
      "batch_normalization_13 (BatchNo (None, 256)          1024        dense_2[0][0]                    \n",
      "__________________________________________________________________________________________________\n",
      "dropout_9 (Dropout)             (None, 256)          0           batch_normalization_13[0][0]     \n",
      "__________________________________________________________________________________________________\n",
      "main_output (Dense)             (None, 1)            257         dropout_9[0][0]                  \n",
      "==================================================================================================\n",
      "Total params: 7,096,463\n",
      "Trainable params: 7,093,715\n"
     ]
    },
    {
     "name": "stdout",
     "output_type": "stream",
     "text": [
      "Non-trainable params: 2,748\n",
      "__________________________________________________________________________________________________\n"
     ]
    }
   ],
   "source": [
    "model_f.summary()"
   ]
  },
  {
   "cell_type": "code",
   "execution_count": 37,
   "metadata": {
    "scrolled": false
   },
   "outputs": [
    {
     "data": {
      "image/svg+xml": [
       "<svg height=\"1797pt\" viewBox=\"0.00 0.00 824.00 1797.00\" width=\"824pt\" xmlns=\"http://www.w3.org/2000/svg\" xmlns:xlink=\"http://www.w3.org/1999/xlink\">\n",
       "<g class=\"graph\" id=\"graph0\" transform=\"scale(1 1) rotate(0) translate(4 1793)\">\n",
       "<title>G</title>\n",
       "<polygon fill=\"white\" points=\"-4,4 -4,-1793 820,-1793 820,4 -4,4\" stroke=\"none\"/>\n",
       "<!-- 2781026889288 -->\n",
       "<g class=\"node\" id=\"node1\"><title>2781026889288</title>\n",
       "<polygon fill=\"none\" points=\"50,-1752.5 50,-1788.5 210,-1788.5 210,-1752.5 50,-1752.5\" stroke=\"black\"/>\n",
       "<text font-family=\"Times New Roman,serif\" font-size=\"14.00\" text-anchor=\"middle\" x=\"130\" y=\"-1766.8\">aux_input_nn: InputLayer</text>\n",
       "</g>\n",
       "<!-- 2781013585480 -->\n",
       "<g class=\"node\" id=\"node4\"><title>2781013585480</title>\n",
       "<polygon fill=\"none\" points=\"41.5,-1679.5 41.5,-1715.5 218.5,-1715.5 218.5,-1679.5 41.5,-1679.5\" stroke=\"black\"/>\n",
       "<text font-family=\"Times New Roman,serif\" font-size=\"14.00\" text-anchor=\"middle\" x=\"130\" y=\"-1693.8\">Model_nn_denoising: Model</text>\n",
       "</g>\n",
       "<!-- 2781026889288&#45;&gt;2781013585480 -->\n",
       "<g class=\"edge\" id=\"edge1\"><title>2781026889288-&gt;2781013585480</title>\n",
       "<path d=\"M130,-1752.31C130,-1744.29 130,-1734.55 130,-1725.57\" fill=\"none\" stroke=\"black\"/>\n",
       "<polygon fill=\"black\" points=\"133.5,-1725.53 130,-1715.53 126.5,-1725.53 133.5,-1725.53\" stroke=\"black\"/>\n",
       "</g>\n",
       "<!-- 2781024991272 -->\n",
       "<g class=\"node\" id=\"node2\"><title>2781024991272</title>\n",
       "<polygon fill=\"none\" points=\"335,-1679.5 335,-1715.5 481,-1715.5 481,-1679.5 335,-1679.5\" stroke=\"black\"/>\n",
       "<text font-family=\"Times New Roman,serif\" font-size=\"14.00\" text-anchor=\"middle\" x=\"408\" y=\"-1693.8\">main_input: InputLayer</text>\n",
       "</g>\n",
       "<!-- 2781027105536 -->\n",
       "<g class=\"node\" id=\"node5\"><title>2781027105536</title>\n",
       "<polygon fill=\"none\" points=\"278,-1606.5 278,-1642.5 538,-1642.5 538,-1606.5 278,-1606.5\" stroke=\"black\"/>\n",
       "<text font-family=\"Times New Roman,serif\" font-size=\"14.00\" text-anchor=\"middle\" x=\"408\" y=\"-1620.8\">batch_normalization_4: BatchNormalization</text>\n",
       "</g>\n",
       "<!-- 2781024991272&#45;&gt;2781027105536 -->\n",
       "<g class=\"edge\" id=\"edge2\"><title>2781024991272-&gt;2781027105536</title>\n",
       "<path d=\"M408,-1679.31C408,-1671.29 408,-1661.55 408,-1652.57\" fill=\"none\" stroke=\"black\"/>\n",
       "<polygon fill=\"black\" points=\"411.5,-1652.53 408,-1642.53 404.5,-1652.53 411.5,-1652.53\" stroke=\"black\"/>\n",
       "</g>\n",
       "<!-- 2781026921552 -->\n",
       "<g class=\"node\" id=\"node3\"><title>2781026921552</title>\n",
       "<polygon fill=\"none\" points=\"616.5,-1679.5 616.5,-1715.5 755.5,-1715.5 755.5,-1679.5 616.5,-1679.5\" stroke=\"black\"/>\n",
       "<text font-family=\"Times New Roman,serif\" font-size=\"14.00\" text-anchor=\"middle\" x=\"686\" y=\"-1693.8\">aux_input: InputLayer</text>\n",
       "</g>\n",
       "<!-- 2781063064656 -->\n",
       "<g class=\"node\" id=\"node6\"><title>2781063064656</title>\n",
       "<polygon fill=\"none\" points=\"556,-1606.5 556,-1642.5 816,-1642.5 816,-1606.5 556,-1606.5\" stroke=\"black\"/>\n",
       "<text font-family=\"Times New Roman,serif\" font-size=\"14.00\" text-anchor=\"middle\" x=\"686\" y=\"-1620.8\">batch_normalization_6: BatchNormalization</text>\n",
       "</g>\n",
       "<!-- 2781026921552&#45;&gt;2781063064656 -->\n",
       "<g class=\"edge\" id=\"edge3\"><title>2781026921552-&gt;2781063064656</title>\n",
       "<path d=\"M686,-1679.31C686,-1671.29 686,-1661.55 686,-1652.57\" fill=\"none\" stroke=\"black\"/>\n",
       "<polygon fill=\"black\" points=\"689.5,-1652.53 686,-1642.53 682.5,-1652.53 689.5,-1652.53\" stroke=\"black\"/>\n",
       "</g>\n",
       "<!-- 2782695594808 -->\n",
       "<g class=\"node\" id=\"node7\"><title>2782695594808</title>\n",
       "<polygon fill=\"none\" points=\"0,-1606.5 0,-1642.5 260,-1642.5 260,-1606.5 0,-1606.5\" stroke=\"black\"/>\n",
       "<text font-family=\"Times New Roman,serif\" font-size=\"14.00\" text-anchor=\"middle\" x=\"130\" y=\"-1620.8\">batch_normalization_8: BatchNormalization</text>\n",
       "</g>\n",
       "<!-- 2781013585480&#45;&gt;2782695594808 -->\n",
       "<g class=\"edge\" id=\"edge4\"><title>2781013585480-&gt;2782695594808</title>\n",
       "<path d=\"M130,-1679.31C130,-1671.29 130,-1661.55 130,-1652.57\" fill=\"none\" stroke=\"black\"/>\n",
       "<polygon fill=\"black\" points=\"133.5,-1652.53 130,-1642.53 126.5,-1652.53 133.5,-1652.53\" stroke=\"black\"/>\n",
       "</g>\n",
       "<!-- 2781024991048 -->\n",
       "<g class=\"node\" id=\"node8\"><title>2781024991048</title>\n",
       "<polygon fill=\"none\" points=\"344.5,-1533.5 344.5,-1569.5 471.5,-1569.5 471.5,-1533.5 344.5,-1533.5\" stroke=\"black\"/>\n",
       "<text font-family=\"Times New Roman,serif\" font-size=\"14.00\" text-anchor=\"middle\" x=\"408\" y=\"-1547.8\">conv2d_3: Conv2D</text>\n",
       "</g>\n",
       "<!-- 2781027105536&#45;&gt;2781024991048 -->\n",
       "<g class=\"edge\" id=\"edge5\"><title>2781027105536-&gt;2781024991048</title>\n",
       "<path d=\"M408,-1606.31C408,-1598.29 408,-1588.55 408,-1579.57\" fill=\"none\" stroke=\"black\"/>\n",
       "<polygon fill=\"black\" points=\"411.5,-1579.53 408,-1569.53 404.5,-1579.53 411.5,-1579.53\" stroke=\"black\"/>\n",
       "</g>\n",
       "<!-- 2781380140168 -->\n",
       "<g class=\"node\" id=\"node9\"><title>2781380140168</title>\n",
       "<polygon fill=\"none\" points=\"622.5,-1533.5 622.5,-1569.5 749.5,-1569.5 749.5,-1533.5 622.5,-1533.5\" stroke=\"black\"/>\n",
       "<text font-family=\"Times New Roman,serif\" font-size=\"14.00\" text-anchor=\"middle\" x=\"686\" y=\"-1547.8\">conv2d_4: Conv2D</text>\n",
       "</g>\n",
       "<!-- 2781063064656&#45;&gt;2781380140168 -->\n",
       "<g class=\"edge\" id=\"edge6\"><title>2781063064656-&gt;2781380140168</title>\n",
       "<path d=\"M686,-1606.31C686,-1598.29 686,-1588.55 686,-1579.57\" fill=\"none\" stroke=\"black\"/>\n",
       "<polygon fill=\"black\" points=\"689.5,-1579.53 686,-1569.53 682.5,-1579.53 689.5,-1579.53\" stroke=\"black\"/>\n",
       "</g>\n",
       "<!-- 2783019080112 -->\n",
       "<g class=\"node\" id=\"node10\"><title>2783019080112</title>\n",
       "<polygon fill=\"none\" points=\"66.5,-1533.5 66.5,-1569.5 193.5,-1569.5 193.5,-1533.5 66.5,-1533.5\" stroke=\"black\"/>\n",
       "<text font-family=\"Times New Roman,serif\" font-size=\"14.00\" text-anchor=\"middle\" x=\"130\" y=\"-1547.8\">conv2d_5: Conv2D</text>\n",
       "</g>\n",
       "<!-- 2782695594808&#45;&gt;2783019080112 -->\n",
       "<g class=\"edge\" id=\"edge7\"><title>2782695594808-&gt;2783019080112</title>\n",
       "<path d=\"M130,-1606.31C130,-1598.29 130,-1588.55 130,-1579.57\" fill=\"none\" stroke=\"black\"/>\n",
       "<polygon fill=\"black\" points=\"133.5,-1579.53 130,-1569.53 126.5,-1579.53 133.5,-1579.53\" stroke=\"black\"/>\n",
       "</g>\n",
       "<!-- 2781027227408 -->\n",
       "<g class=\"node\" id=\"node11\"><title>2781027227408</title>\n",
       "<polygon fill=\"none\" points=\"303.5,-1460.5 303.5,-1496.5 512.5,-1496.5 512.5,-1460.5 303.5,-1460.5\" stroke=\"black\"/>\n",
       "<text font-family=\"Times New Roman,serif\" font-size=\"14.00\" text-anchor=\"middle\" x=\"408\" y=\"-1474.8\">max_pooling2d_1: MaxPooling2D</text>\n",
       "</g>\n",
       "<!-- 2781024991048&#45;&gt;2781027227408 -->\n",
       "<g class=\"edge\" id=\"edge8\"><title>2781024991048-&gt;2781027227408</title>\n",
       "<path d=\"M408,-1533.31C408,-1525.29 408,-1515.55 408,-1506.57\" fill=\"none\" stroke=\"black\"/>\n",
       "<polygon fill=\"black\" points=\"411.5,-1506.53 408,-1496.53 404.5,-1506.53 411.5,-1506.53\" stroke=\"black\"/>\n",
       "</g>\n",
       "<!-- 2781383673056 -->\n",
       "<g class=\"node\" id=\"node12\"><title>2781383673056</title>\n",
       "<polygon fill=\"none\" points=\"581.5,-1460.5 581.5,-1496.5 790.5,-1496.5 790.5,-1460.5 581.5,-1460.5\" stroke=\"black\"/>\n",
       "<text font-family=\"Times New Roman,serif\" font-size=\"14.00\" text-anchor=\"middle\" x=\"686\" y=\"-1474.8\">max_pooling2d_2: MaxPooling2D</text>\n",
       "</g>\n",
       "<!-- 2781380140168&#45;&gt;2781383673056 -->\n",
       "<g class=\"edge\" id=\"edge9\"><title>2781380140168-&gt;2781383673056</title>\n",
       "<path d=\"M686,-1533.31C686,-1525.29 686,-1515.55 686,-1506.57\" fill=\"none\" stroke=\"black\"/>\n",
       "<polygon fill=\"black\" points=\"689.5,-1506.53 686,-1496.53 682.5,-1506.53 689.5,-1506.53\" stroke=\"black\"/>\n",
       "</g>\n",
       "<!-- 2784328587416 -->\n",
       "<g class=\"node\" id=\"node13\"><title>2784328587416</title>\n",
       "<polygon fill=\"none\" points=\"25.5,-1460.5 25.5,-1496.5 234.5,-1496.5 234.5,-1460.5 25.5,-1460.5\" stroke=\"black\"/>\n",
       "<text font-family=\"Times New Roman,serif\" font-size=\"14.00\" text-anchor=\"middle\" x=\"130\" y=\"-1474.8\">max_pooling2d_3: MaxPooling2D</text>\n",
       "</g>\n",
       "<!-- 2783019080112&#45;&gt;2784328587416 -->\n",
       "<g class=\"edge\" id=\"edge10\"><title>2783019080112-&gt;2784328587416</title>\n",
       "<path d=\"M130,-1533.31C130,-1525.29 130,-1515.55 130,-1506.57\" fill=\"none\" stroke=\"black\"/>\n",
       "<polygon fill=\"black\" points=\"133.5,-1506.53 130,-1496.53 126.5,-1506.53 133.5,-1506.53\" stroke=\"black\"/>\n",
       "</g>\n",
       "<!-- 2781063366640 -->\n",
       "<g class=\"node\" id=\"node14\"><title>2781063366640</title>\n",
       "<polygon fill=\"none\" points=\"278,-1387.5 278,-1423.5 538,-1423.5 538,-1387.5 278,-1387.5\" stroke=\"black\"/>\n",
       "<text font-family=\"Times New Roman,serif\" font-size=\"14.00\" text-anchor=\"middle\" x=\"408\" y=\"-1401.8\">batch_normalization_5: BatchNormalization</text>\n",
       "</g>\n",
       "<!-- 2781027227408&#45;&gt;2781063366640 -->\n",
       "<g class=\"edge\" id=\"edge11\"><title>2781027227408-&gt;2781063366640</title>\n",
       "<path d=\"M408,-1460.31C408,-1452.29 408,-1442.55 408,-1433.57\" fill=\"none\" stroke=\"black\"/>\n",
       "<polygon fill=\"black\" points=\"411.5,-1433.53 408,-1423.53 404.5,-1433.53 411.5,-1433.53\" stroke=\"black\"/>\n",
       "</g>\n",
       "<!-- 2783008853352 -->\n",
       "<g class=\"node\" id=\"node15\"><title>2783008853352</title>\n",
       "<polygon fill=\"none\" points=\"556,-1387.5 556,-1423.5 816,-1423.5 816,-1387.5 556,-1387.5\" stroke=\"black\"/>\n",
       "<text font-family=\"Times New Roman,serif\" font-size=\"14.00\" text-anchor=\"middle\" x=\"686\" y=\"-1401.8\">batch_normalization_7: BatchNormalization</text>\n",
       "</g>\n",
       "<!-- 2781383673056&#45;&gt;2783008853352 -->\n",
       "<g class=\"edge\" id=\"edge12\"><title>2781383673056-&gt;2783008853352</title>\n",
       "<path d=\"M686,-1460.31C686,-1452.29 686,-1442.55 686,-1433.57\" fill=\"none\" stroke=\"black\"/>\n",
       "<polygon fill=\"black\" points=\"689.5,-1433.53 686,-1423.53 682.5,-1433.53 689.5,-1433.53\" stroke=\"black\"/>\n",
       "</g>\n",
       "<!-- 2784328976816 -->\n",
       "<g class=\"node\" id=\"node16\"><title>2784328976816</title>\n",
       "<polygon fill=\"none\" points=\"0,-1387.5 0,-1423.5 260,-1423.5 260,-1387.5 0,-1387.5\" stroke=\"black\"/>\n",
       "<text font-family=\"Times New Roman,serif\" font-size=\"14.00\" text-anchor=\"middle\" x=\"130\" y=\"-1401.8\">batch_normalization_9: BatchNormalization</text>\n",
       "</g>\n",
       "<!-- 2784328587416&#45;&gt;2784328976816 -->\n",
       "<g class=\"edge\" id=\"edge13\"><title>2784328587416-&gt;2784328976816</title>\n",
       "<path d=\"M130,-1460.31C130,-1452.29 130,-1442.55 130,-1433.57\" fill=\"none\" stroke=\"black\"/>\n",
       "<polygon fill=\"black\" points=\"133.5,-1433.53 130,-1423.53 126.5,-1433.53 133.5,-1433.53\" stroke=\"black\"/>\n",
       "</g>\n",
       "<!-- 2781063316984 -->\n",
       "<g class=\"node\" id=\"node17\"><title>2781063316984</title>\n",
       "<polygon fill=\"none\" points=\"343,-1314.5 343,-1350.5 473,-1350.5 473,-1314.5 343,-1314.5\" stroke=\"black\"/>\n",
       "<text font-family=\"Times New Roman,serif\" font-size=\"14.00\" text-anchor=\"middle\" x=\"408\" y=\"-1328.8\">dropout_3: Dropout</text>\n",
       "</g>\n",
       "<!-- 2781063366640&#45;&gt;2781063316984 -->\n",
       "<g class=\"edge\" id=\"edge14\"><title>2781063366640-&gt;2781063316984</title>\n",
       "<path d=\"M408,-1387.31C408,-1379.29 408,-1369.55 408,-1360.57\" fill=\"none\" stroke=\"black\"/>\n",
       "<polygon fill=\"black\" points=\"411.5,-1360.53 408,-1350.53 404.5,-1360.53 411.5,-1360.53\" stroke=\"black\"/>\n",
       "</g>\n",
       "<!-- 2783008982968 -->\n",
       "<g class=\"node\" id=\"node18\"><title>2783008982968</title>\n",
       "<polygon fill=\"none\" points=\"556,-1314.5 556,-1350.5 686,-1350.5 686,-1314.5 556,-1314.5\" stroke=\"black\"/>\n",
       "<text font-family=\"Times New Roman,serif\" font-size=\"14.00\" text-anchor=\"middle\" x=\"621\" y=\"-1328.8\">dropout_4: Dropout</text>\n",
       "</g>\n",
       "<!-- 2783008853352&#45;&gt;2783008982968 -->\n",
       "<g class=\"edge\" id=\"edge15\"><title>2783008853352-&gt;2783008982968</title>\n",
       "<path d=\"M670.265,-1387.31C662.201,-1378.5 652.241,-1367.63 643.392,-1357.96\" fill=\"none\" stroke=\"black\"/>\n",
       "<polygon fill=\"black\" points=\"645.924,-1355.54 636.59,-1350.53 640.761,-1360.27 645.924,-1355.54\" stroke=\"black\"/>\n",
       "</g>\n",
       "<!-- 2784328650648 -->\n",
       "<g class=\"node\" id=\"node19\"><title>2784328650648</title>\n",
       "<polygon fill=\"none\" points=\"130,-1314.5 130,-1350.5 260,-1350.5 260,-1314.5 130,-1314.5\" stroke=\"black\"/>\n",
       "<text font-family=\"Times New Roman,serif\" font-size=\"14.00\" text-anchor=\"middle\" x=\"195\" y=\"-1328.8\">dropout_5: Dropout</text>\n",
       "</g>\n",
       "<!-- 2784328976816&#45;&gt;2784328650648 -->\n",
       "<g class=\"edge\" id=\"edge16\"><title>2784328976816-&gt;2784328650648</title>\n",
       "<path d=\"M145.735,-1387.31C153.799,-1378.5 163.759,-1367.63 172.608,-1357.96\" fill=\"none\" stroke=\"black\"/>\n",
       "<polygon fill=\"black\" points=\"175.239,-1360.27 179.41,-1350.53 170.076,-1355.54 175.239,-1360.27\" stroke=\"black\"/>\n",
       "</g>\n",
       "<!-- 2784329069288 -->\n",
       "<g class=\"node\" id=\"node20\"><title>2784329069288</title>\n",
       "<polygon fill=\"none\" points=\"321.5,-1241.5 321.5,-1277.5 494.5,-1277.5 494.5,-1241.5 321.5,-1241.5\" stroke=\"black\"/>\n",
       "<text font-family=\"Times New Roman,serif\" font-size=\"14.00\" text-anchor=\"middle\" x=\"408\" y=\"-1255.8\">concatenate_1: Concatenate</text>\n",
       "</g>\n",
       "<!-- 2781063316984&#45;&gt;2784329069288 -->\n",
       "<g class=\"edge\" id=\"edge17\"><title>2781063316984-&gt;2784329069288</title>\n",
       "<path d=\"M408,-1314.31C408,-1306.29 408,-1296.55 408,-1287.57\" fill=\"none\" stroke=\"black\"/>\n",
       "<polygon fill=\"black\" points=\"411.5,-1287.53 408,-1277.53 404.5,-1287.53 411.5,-1287.53\" stroke=\"black\"/>\n",
       "</g>\n",
       "<!-- 2783008982968&#45;&gt;2784329069288 -->\n",
       "<g class=\"edge\" id=\"edge18\"><title>2783008982968-&gt;2784329069288</title>\n",
       "<path d=\"M569.981,-1314.49C539.643,-1304.38 500.972,-1291.49 469.023,-1280.84\" fill=\"none\" stroke=\"black\"/>\n",
       "<polygon fill=\"black\" points=\"469.934,-1277.46 459.341,-1277.61 467.721,-1284.1 469.934,-1277.46\" stroke=\"black\"/>\n",
       "</g>\n",
       "<!-- 2784328650648&#45;&gt;2784329069288 -->\n",
       "<g class=\"edge\" id=\"edge19\"><title>2784328650648-&gt;2784329069288</title>\n",
       "<path d=\"M246.019,-1314.49C276.357,-1304.38 315.028,-1291.49 346.977,-1280.84\" fill=\"none\" stroke=\"black\"/>\n",
       "<polygon fill=\"black\" points=\"348.279,-1284.1 356.659,-1277.61 346.066,-1277.46 348.279,-1284.1\" stroke=\"black\"/>\n",
       "</g>\n",
       "<!-- 2784329023328 -->\n",
       "<g class=\"node\" id=\"node21\"><title>2784329023328</title>\n",
       "<polygon fill=\"none\" points=\"344.5,-1168.5 344.5,-1204.5 471.5,-1204.5 471.5,-1168.5 344.5,-1168.5\" stroke=\"black\"/>\n",
       "<text font-family=\"Times New Roman,serif\" font-size=\"14.00\" text-anchor=\"middle\" x=\"408\" y=\"-1182.8\">conv2d_6: Conv2D</text>\n",
       "</g>\n",
       "<!-- 2784329069288&#45;&gt;2784329023328 -->\n",
       "<g class=\"edge\" id=\"edge20\"><title>2784329069288-&gt;2784329023328</title>\n",
       "<path d=\"M408,-1241.31C408,-1233.29 408,-1223.55 408,-1214.57\" fill=\"none\" stroke=\"black\"/>\n",
       "<polygon fill=\"black\" points=\"411.5,-1214.53 408,-1204.53 404.5,-1214.53 411.5,-1214.53\" stroke=\"black\"/>\n",
       "</g>\n",
       "<!-- 2784328908584 -->\n",
       "<g class=\"node\" id=\"node22\"><title>2784328908584</title>\n",
       "<polygon fill=\"none\" points=\"303.5,-1095.5 303.5,-1131.5 512.5,-1131.5 512.5,-1095.5 303.5,-1095.5\" stroke=\"black\"/>\n",
       "<text font-family=\"Times New Roman,serif\" font-size=\"14.00\" text-anchor=\"middle\" x=\"408\" y=\"-1109.8\">max_pooling2d_4: MaxPooling2D</text>\n",
       "</g>\n",
       "<!-- 2784329023328&#45;&gt;2784328908584 -->\n",
       "<g class=\"edge\" id=\"edge21\"><title>2784329023328-&gt;2784328908584</title>\n",
       "<path d=\"M408,-1168.31C408,-1160.29 408,-1150.55 408,-1141.57\" fill=\"none\" stroke=\"black\"/>\n",
       "<polygon fill=\"black\" points=\"411.5,-1141.53 408,-1131.53 404.5,-1141.53 411.5,-1141.53\" stroke=\"black\"/>\n",
       "</g>\n",
       "<!-- 2781026973064 -->\n",
       "<g class=\"node\" id=\"node23\"><title>2781026973064</title>\n",
       "<polygon fill=\"none\" points=\"275,-1022.5 275,-1058.5 541,-1058.5 541,-1022.5 275,-1022.5\" stroke=\"black\"/>\n",
       "<text font-family=\"Times New Roman,serif\" font-size=\"14.00\" text-anchor=\"middle\" x=\"408\" y=\"-1036.8\">batch_normalization_10: BatchNormalization</text>\n",
       "</g>\n",
       "<!-- 2784328908584&#45;&gt;2781026973064 -->\n",
       "<g class=\"edge\" id=\"edge22\"><title>2784328908584-&gt;2781026973064</title>\n",
       "<path d=\"M408,-1095.31C408,-1087.29 408,-1077.55 408,-1068.57\" fill=\"none\" stroke=\"black\"/>\n",
       "<polygon fill=\"black\" points=\"411.5,-1068.53 408,-1058.53 404.5,-1068.53 411.5,-1068.53\" stroke=\"black\"/>\n",
       "</g>\n",
       "<!-- 2781026888952 -->\n",
       "<g class=\"node\" id=\"node24\"><title>2781026888952</title>\n",
       "<polygon fill=\"none\" points=\"343,-949.5 343,-985.5 473,-985.5 473,-949.5 343,-949.5\" stroke=\"black\"/>\n",
       "<text font-family=\"Times New Roman,serif\" font-size=\"14.00\" text-anchor=\"middle\" x=\"408\" y=\"-963.8\">dropout_6: Dropout</text>\n",
       "</g>\n",
       "<!-- 2781026973064&#45;&gt;2781026888952 -->\n",
       "<g class=\"edge\" id=\"edge23\"><title>2781026973064-&gt;2781026888952</title>\n",
       "<path d=\"M408,-1022.31C408,-1014.29 408,-1004.55 408,-995.569\" fill=\"none\" stroke=\"black\"/>\n",
       "<polygon fill=\"black\" points=\"411.5,-995.529 408,-985.529 404.5,-995.529 411.5,-995.529\" stroke=\"black\"/>\n",
       "</g>\n",
       "<!-- 2784329243448 -->\n",
       "<g class=\"node\" id=\"node25\"><title>2784329243448</title>\n",
       "<polygon fill=\"none\" points=\"344.5,-876.5 344.5,-912.5 471.5,-912.5 471.5,-876.5 344.5,-876.5\" stroke=\"black\"/>\n",
       "<text font-family=\"Times New Roman,serif\" font-size=\"14.00\" text-anchor=\"middle\" x=\"408\" y=\"-890.8\">conv2d_7: Conv2D</text>\n",
       "</g>\n",
       "<!-- 2781026888952&#45;&gt;2784329243448 -->\n",
       "<g class=\"edge\" id=\"edge24\"><title>2781026888952-&gt;2784329243448</title>\n",
       "<path d=\"M408,-949.313C408,-941.289 408,-931.547 408,-922.569\" fill=\"none\" stroke=\"black\"/>\n",
       "<polygon fill=\"black\" points=\"411.5,-922.529 408,-912.529 404.5,-922.529 411.5,-922.529\" stroke=\"black\"/>\n",
       "</g>\n",
       "<!-- 2781026819488 -->\n",
       "<g class=\"node\" id=\"node26\"><title>2781026819488</title>\n",
       "<polygon fill=\"none\" points=\"303.5,-803.5 303.5,-839.5 512.5,-839.5 512.5,-803.5 303.5,-803.5\" stroke=\"black\"/>\n",
       "<text font-family=\"Times New Roman,serif\" font-size=\"14.00\" text-anchor=\"middle\" x=\"408\" y=\"-817.8\">max_pooling2d_5: MaxPooling2D</text>\n",
       "</g>\n",
       "<!-- 2784329243448&#45;&gt;2781026819488 -->\n",
       "<g class=\"edge\" id=\"edge25\"><title>2784329243448-&gt;2781026819488</title>\n",
       "<path d=\"M408,-876.313C408,-868.289 408,-858.547 408,-849.569\" fill=\"none\" stroke=\"black\"/>\n",
       "<polygon fill=\"black\" points=\"411.5,-849.529 408,-839.529 404.5,-849.529 411.5,-849.529\" stroke=\"black\"/>\n",
       "</g>\n",
       "<!-- 2784330617632 -->\n",
       "<g class=\"node\" id=\"node27\"><title>2784330617632</title>\n",
       "<polygon fill=\"none\" points=\"275,-730.5 275,-766.5 541,-766.5 541,-730.5 275,-730.5\" stroke=\"black\"/>\n",
       "<text font-family=\"Times New Roman,serif\" font-size=\"14.00\" text-anchor=\"middle\" x=\"408\" y=\"-744.8\">batch_normalization_11: BatchNormalization</text>\n",
       "</g>\n",
       "<!-- 2781026819488&#45;&gt;2784330617632 -->\n",
       "<g class=\"edge\" id=\"edge26\"><title>2781026819488-&gt;2784330617632</title>\n",
       "<path d=\"M408,-803.313C408,-795.289 408,-785.547 408,-776.569\" fill=\"none\" stroke=\"black\"/>\n",
       "<polygon fill=\"black\" points=\"411.5,-776.529 408,-766.529 404.5,-776.529 411.5,-776.529\" stroke=\"black\"/>\n",
       "</g>\n",
       "<!-- 2784330668632 -->\n",
       "<g class=\"node\" id=\"node28\"><title>2784330668632</title>\n",
       "<polygon fill=\"none\" points=\"343,-657.5 343,-693.5 473,-693.5 473,-657.5 343,-657.5\" stroke=\"black\"/>\n",
       "<text font-family=\"Times New Roman,serif\" font-size=\"14.00\" text-anchor=\"middle\" x=\"408\" y=\"-671.8\">dropout_7: Dropout</text>\n",
       "</g>\n",
       "<!-- 2784330617632&#45;&gt;2784330668632 -->\n",
       "<g class=\"edge\" id=\"edge27\"><title>2784330617632-&gt;2784330668632</title>\n",
       "<path d=\"M408,-730.313C408,-722.289 408,-712.547 408,-703.569\" fill=\"none\" stroke=\"black\"/>\n",
       "<polygon fill=\"black\" points=\"411.5,-703.529 408,-693.529 404.5,-703.529 411.5,-703.529\" stroke=\"black\"/>\n",
       "</g>\n",
       "<!-- 2784330996200 -->\n",
       "<g class=\"node\" id=\"node29\"><title>2784330996200</title>\n",
       "<polygon fill=\"none\" points=\"353.5,-584.5 353.5,-620.5 462.5,-620.5 462.5,-584.5 353.5,-584.5\" stroke=\"black\"/>\n",
       "<text font-family=\"Times New Roman,serif\" font-size=\"14.00\" text-anchor=\"middle\" x=\"408\" y=\"-598.8\">flatten_1: Flatten</text>\n",
       "</g>\n",
       "<!-- 2784330668632&#45;&gt;2784330996200 -->\n",
       "<g class=\"edge\" id=\"edge28\"><title>2784330668632-&gt;2784330996200</title>\n",
       "<path d=\"M408,-657.313C408,-649.289 408,-639.547 408,-630.569\" fill=\"none\" stroke=\"black\"/>\n",
       "<polygon fill=\"black\" points=\"411.5,-630.529 408,-620.529 404.5,-630.529 411.5,-630.529\" stroke=\"black\"/>\n",
       "</g>\n",
       "<!-- 2784333684976 -->\n",
       "<g class=\"node\" id=\"node31\"><title>2784333684976</title>\n",
       "<polygon fill=\"none\" points=\"394.5,-511.5 394.5,-547.5 567.5,-547.5 567.5,-511.5 394.5,-511.5\" stroke=\"black\"/>\n",
       "<text font-family=\"Times New Roman,serif\" font-size=\"14.00\" text-anchor=\"middle\" x=\"481\" y=\"-525.8\">concatenate_2: Concatenate</text>\n",
       "</g>\n",
       "<!-- 2784330996200&#45;&gt;2784333684976 -->\n",
       "<g class=\"edge\" id=\"edge29\"><title>2784330996200-&gt;2784333684976</title>\n",
       "<path d=\"M425.671,-584.313C434.817,-575.417 446.135,-564.409 456.147,-554.672\" fill=\"none\" stroke=\"black\"/>\n",
       "<polygon fill=\"black\" points=\"458.763,-557.01 463.491,-547.529 453.883,-551.992 458.763,-557.01\" stroke=\"black\"/>\n",
       "</g>\n",
       "<!-- 2784330548784 -->\n",
       "<g class=\"node\" id=\"node30\"><title>2784330548784</title>\n",
       "<polygon fill=\"none\" points=\"481,-584.5 481,-620.5 629,-620.5 629,-584.5 481,-584.5\" stroke=\"black\"/>\n",
       "<text font-family=\"Times New Roman,serif\" font-size=\"14.00\" text-anchor=\"middle\" x=\"555\" y=\"-598.8\">angle_input: InputLayer</text>\n",
       "</g>\n",
       "<!-- 2784330548784&#45;&gt;2784333684976 -->\n",
       "<g class=\"edge\" id=\"edge30\"><title>2784330548784-&gt;2784333684976</title>\n",
       "<path d=\"M537.087,-584.313C527.815,-575.417 516.342,-564.409 506.193,-554.672\" fill=\"none\" stroke=\"black\"/>\n",
       "<polygon fill=\"black\" points=\"508.387,-551.927 498.748,-547.529 503.541,-556.978 508.387,-551.927\" stroke=\"black\"/>\n",
       "</g>\n",
       "<!-- 2784330881456 -->\n",
       "<g class=\"node\" id=\"node32\"><title>2784330881456</title>\n",
       "<polygon fill=\"none\" points=\"429,-438.5 429,-474.5 533,-474.5 533,-438.5 429,-438.5\" stroke=\"black\"/>\n",
       "<text font-family=\"Times New Roman,serif\" font-size=\"14.00\" text-anchor=\"middle\" x=\"481\" y=\"-452.8\">dense_1: Dense</text>\n",
       "</g>\n",
       "<!-- 2784333684976&#45;&gt;2784330881456 -->\n",
       "<g class=\"edge\" id=\"edge31\"><title>2784333684976-&gt;2784330881456</title>\n",
       "<path d=\"M481,-511.313C481,-503.289 481,-493.547 481,-484.569\" fill=\"none\" stroke=\"black\"/>\n",
       "<polygon fill=\"black\" points=\"484.5,-484.529 481,-474.529 477.5,-484.529 484.5,-484.529\" stroke=\"black\"/>\n",
       "</g>\n",
       "<!-- 2784333881016 -->\n",
       "<g class=\"node\" id=\"node33\"><title>2784333881016</title>\n",
       "<polygon fill=\"none\" points=\"348,-365.5 348,-401.5 614,-401.5 614,-365.5 348,-365.5\" stroke=\"black\"/>\n",
       "<text font-family=\"Times New Roman,serif\" font-size=\"14.00\" text-anchor=\"middle\" x=\"481\" y=\"-379.8\">batch_normalization_12: BatchNormalization</text>\n",
       "</g>\n",
       "<!-- 2784330881456&#45;&gt;2784333881016 -->\n",
       "<g class=\"edge\" id=\"edge32\"><title>2784330881456-&gt;2784333881016</title>\n",
       "<path d=\"M481,-438.313C481,-430.289 481,-420.547 481,-411.569\" fill=\"none\" stroke=\"black\"/>\n",
       "<polygon fill=\"black\" points=\"484.5,-411.529 481,-401.529 477.5,-411.529 484.5,-411.529\" stroke=\"black\"/>\n",
       "</g>\n",
       "<!-- 2784333877936 -->\n",
       "<g class=\"node\" id=\"node34\"><title>2784333877936</title>\n",
       "<polygon fill=\"none\" points=\"416,-292.5 416,-328.5 546,-328.5 546,-292.5 416,-292.5\" stroke=\"black\"/>\n",
       "<text font-family=\"Times New Roman,serif\" font-size=\"14.00\" text-anchor=\"middle\" x=\"481\" y=\"-306.8\">dropout_8: Dropout</text>\n",
       "</g>\n",
       "<!-- 2784333881016&#45;&gt;2784333877936 -->\n",
       "<g class=\"edge\" id=\"edge33\"><title>2784333881016-&gt;2784333877936</title>\n",
       "<path d=\"M481,-365.313C481,-357.289 481,-347.547 481,-338.569\" fill=\"none\" stroke=\"black\"/>\n",
       "<polygon fill=\"black\" points=\"484.5,-338.529 481,-328.529 477.5,-338.529 484.5,-338.529\" stroke=\"black\"/>\n",
       "</g>\n",
       "<!-- 2784476647664 -->\n",
       "<g class=\"node\" id=\"node35\"><title>2784476647664</title>\n",
       "<polygon fill=\"none\" points=\"429,-219.5 429,-255.5 533,-255.5 533,-219.5 429,-219.5\" stroke=\"black\"/>\n",
       "<text font-family=\"Times New Roman,serif\" font-size=\"14.00\" text-anchor=\"middle\" x=\"481\" y=\"-233.8\">dense_2: Dense</text>\n",
       "</g>\n",
       "<!-- 2784333877936&#45;&gt;2784476647664 -->\n",
       "<g class=\"edge\" id=\"edge34\"><title>2784333877936-&gt;2784476647664</title>\n",
       "<path d=\"M481,-292.313C481,-284.289 481,-274.547 481,-265.569\" fill=\"none\" stroke=\"black\"/>\n",
       "<polygon fill=\"black\" points=\"484.5,-265.529 481,-255.529 477.5,-265.529 484.5,-265.529\" stroke=\"black\"/>\n",
       "</g>\n",
       "<!-- 2784477011864 -->\n",
       "<g class=\"node\" id=\"node36\"><title>2784477011864</title>\n",
       "<polygon fill=\"none\" points=\"348,-146.5 348,-182.5 614,-182.5 614,-146.5 348,-146.5\" stroke=\"black\"/>\n",
       "<text font-family=\"Times New Roman,serif\" font-size=\"14.00\" text-anchor=\"middle\" x=\"481\" y=\"-160.8\">batch_normalization_13: BatchNormalization</text>\n",
       "</g>\n",
       "<!-- 2784476647664&#45;&gt;2784477011864 -->\n",
       "<g class=\"edge\" id=\"edge35\"><title>2784476647664-&gt;2784477011864</title>\n",
       "<path d=\"M481,-219.313C481,-211.289 481,-201.547 481,-192.569\" fill=\"none\" stroke=\"black\"/>\n",
       "<polygon fill=\"black\" points=\"484.5,-192.529 481,-182.529 477.5,-192.529 484.5,-192.529\" stroke=\"black\"/>\n",
       "</g>\n",
       "<!-- 2784477438584 -->\n",
       "<g class=\"node\" id=\"node37\"><title>2784477438584</title>\n",
       "<polygon fill=\"none\" points=\"416,-73.5 416,-109.5 546,-109.5 546,-73.5 416,-73.5\" stroke=\"black\"/>\n",
       "<text font-family=\"Times New Roman,serif\" font-size=\"14.00\" text-anchor=\"middle\" x=\"481\" y=\"-87.8\">dropout_9: Dropout</text>\n",
       "</g>\n",
       "<!-- 2784477011864&#45;&gt;2784477438584 -->\n",
       "<g class=\"edge\" id=\"edge36\"><title>2784477011864-&gt;2784477438584</title>\n",
       "<path d=\"M481,-146.313C481,-138.289 481,-128.547 481,-119.569\" fill=\"none\" stroke=\"black\"/>\n",
       "<polygon fill=\"black\" points=\"484.5,-119.529 481,-109.529 477.5,-119.529 484.5,-119.529\" stroke=\"black\"/>\n",
       "</g>\n",
       "<!-- 2784477617792 -->\n",
       "<g class=\"node\" id=\"node38\"><title>2784477617792</title>\n",
       "<polygon fill=\"none\" points=\"417,-0.5 417,-36.5 545,-36.5 545,-0.5 417,-0.5\" stroke=\"black\"/>\n",
       "<text font-family=\"Times New Roman,serif\" font-size=\"14.00\" text-anchor=\"middle\" x=\"481\" y=\"-14.8\">main_output: Dense</text>\n",
       "</g>\n",
       "<!-- 2784477438584&#45;&gt;2784477617792 -->\n",
       "<g class=\"edge\" id=\"edge37\"><title>2784477438584-&gt;2784477617792</title>\n",
       "<path d=\"M481,-73.3129C481,-65.2895 481,-55.5475 481,-46.5691\" fill=\"none\" stroke=\"black\"/>\n",
       "<polygon fill=\"black\" points=\"484.5,-46.5288 481,-36.5288 477.5,-46.5289 484.5,-46.5288\" stroke=\"black\"/>\n",
       "</g>\n",
       "</g>\n",
       "</svg>"
      ],
      "text/plain": [
       "<IPython.core.display.SVG object>"
      ]
     },
     "execution_count": 37,
     "metadata": {},
     "output_type": "execute_result"
    }
   ],
   "source": [
    "from IPython.display import SVG\n",
    "from keras.utils.vis_utils import model_to_dot\n",
    "#import os\n",
    "#os.environ[\"PATH\"] += os.pathsep + 'd:/Anaconda3/Library/bin/graphviz/'\n",
    "SVG(model_to_dot(model_f).create(prog='dot', format='svg'))"
   ]
  },
  {
   "cell_type": "markdown",
   "metadata": {},
   "source": [
    "### Model Training"
   ]
  },
  {
   "cell_type": "code",
   "execution_count": 50,
   "metadata": {},
   "outputs": [],
   "source": [
    "#name init\n",
    "model_timestamp = str(datetime.datetime.now().strftime(\"%Y_%m_%d_%H_%M_%S\"))\n",
    "model_best_weights_path = model_path + \"weights.\" + model_code + \"_\" + model_timestamp + \".hdf5\"\n",
    "#lScheduler = LScheduler(initial_lrate=0.001, drop=0.66, patience=7)\n",
    "modelEnsemble = ModelHistory(listSize=21)\n",
    "lScheduler = CyclicLR(base_lr=1e-9, max_lr=0.001,\n",
    "                                 step_size=300, mode='traingular3', beta=0.66)\n",
    "callbacks = get_callbacks(filepath=model_best_weights_path, save_to_disc=False, lScheduler=lScheduler,\n",
    "                          modelHistoryCallback=modelEnsemble)"
   ]
  },
  {
   "cell_type": "code",
   "execution_count": 51,
   "metadata": {
    "scrolled": false
   },
   "outputs": [
    {
     "data": {
      "application/vnd.jupyter.widget-view+json": {
       "model_id": "942cbf10dd0847eaab272b925cabda25",
       "version_major": 2,
       "version_minor": 0
      },
      "text/html": [
       "<p>Failed to display Jupyter Widget of type <code>HBox</code>.</p>\n",
       "<p>\n",
       "  If you're reading this message in the Jupyter Notebook or JupyterLab Notebook, it may mean\n",
       "  that the widgets JavaScript is still loading. If this message persists, it\n",
       "  likely means that the widgets JavaScript library is either not installed or\n",
       "  not enabled. See the <a href=\"https://ipywidgets.readthedocs.io/en/stable/user_install.html\">Jupyter\n",
       "  Widgets Documentation</a> for setup instructions.\n",
       "</p>\n",
       "<p>\n",
       "  If you're reading this message in another frontend (for example, a static\n",
       "  rendering on GitHub or <a href=\"https://nbviewer.jupyter.org/\">NBViewer</a>),\n",
       "  it may mean that your frontend doesn't currently support widgets.\n",
       "</p>\n"
      ],
      "text/plain": [
       "HBox(children=(IntProgress(value=0, description='Training', max=70), HTML(value='')))"
      ]
     },
     "metadata": {},
     "output_type": "display_data"
    },
    {
     "data": {
      "application/vnd.jupyter.widget-view+json": {
       "model_id": "741616ba1c3340fea96a1d5f05b6e3e1",
       "version_major": 2,
       "version_minor": 0
      },
      "text/html": [
       "<p>Failed to display Jupyter Widget of type <code>HBox</code>.</p>\n",
       "<p>\n",
       "  If you're reading this message in the Jupyter Notebook or JupyterLab Notebook, it may mean\n",
       "  that the widgets JavaScript is still loading. If this message persists, it\n",
       "  likely means that the widgets JavaScript library is either not installed or\n",
       "  not enabled. See the <a href=\"https://ipywidgets.readthedocs.io/en/stable/user_install.html\">Jupyter\n",
       "  Widgets Documentation</a> for setup instructions.\n",
       "</p>\n",
       "<p>\n",
       "  If you're reading this message in another frontend (for example, a static\n",
       "  rendering on GitHub or <a href=\"https://nbviewer.jupyter.org/\">NBViewer</a>),\n",
       "  it may mean that your frontend doesn't currently support widgets.\n",
       "</p>\n"
      ],
      "text/plain": [
       "HBox(children=(IntProgress(value=0, description='Epoch 0', max=70), HTML(value='')))"
      ]
     },
     "metadata": {},
     "output_type": "display_data"
    },
    {
     "ename": "AttributeError",
     "evalue": "'CyclicLR' object has no attribute 'scale_mode'",
     "output_type": "error",
     "traceback": [
      "\u001b[1;31m---------------------------------------------------------------------------\u001b[0m",
      "\u001b[1;31mAttributeError\u001b[0m                            Traceback (most recent call last)",
      "\u001b[1;32mL:\\Data Science\\GIT\\Statoil-C-CORE-Iceberg-Classifier-Challenge\\current_model.py\u001b[0m in \u001b[0;36m<module>\u001b[1;34m()\u001b[0m\n\u001b[0;32m      8\u001b[0m                     \u001b[1;31m#validation_data=[X_val,y_val],\u001b[0m\u001b[1;33m\u001b[0m\u001b[1;33m\u001b[0m\u001b[0m\n\u001b[0;32m      9\u001b[0m                     \u001b[0mepochs\u001b[0m\u001b[1;33m=\u001b[0m\u001b[1;36m70\u001b[0m\u001b[1;33m,\u001b[0m \u001b[0mcallbacks\u001b[0m\u001b[1;33m=\u001b[0m\u001b[0mcallbacks\u001b[0m\u001b[1;33m,\u001b[0m\u001b[1;33m\u001b[0m\u001b[0m\n\u001b[1;32m---> 10\u001b[1;33m                     verbose=0)\n\u001b[0m\u001b[0;32m     11\u001b[0m \u001b[1;33m\u001b[0m\u001b[0m\n\u001b[0;32m     12\u001b[0m \u001b[0mmodel_time\u001b[0m \u001b[1;33m=\u001b[0m \u001b[0mtime\u001b[0m\u001b[1;33m.\u001b[0m\u001b[0mmonotonic\u001b[0m\u001b[1;33m(\u001b[0m\u001b[1;33m)\u001b[0m \u001b[1;33m-\u001b[0m \u001b[0mstart_time\u001b[0m\u001b[1;33m\u001b[0m\u001b[0m\n",
      "\u001b[1;32mD:\\Anaconda3\\envs\\tf-gpu\\lib\\site-packages\\keras\\legacy\\interfaces.py\u001b[0m in \u001b[0;36mwrapper\u001b[1;34m(*args, **kwargs)\u001b[0m\n\u001b[0;32m     85\u001b[0m                 warnings.warn('Update your `' + object_name +\n\u001b[0;32m     86\u001b[0m                               '` call to the Keras 2 API: ' + signature, stacklevel=2)\n\u001b[1;32m---> 87\u001b[1;33m             \u001b[1;32mreturn\u001b[0m \u001b[0mfunc\u001b[0m\u001b[1;33m(\u001b[0m\u001b[1;33m*\u001b[0m\u001b[0margs\u001b[0m\u001b[1;33m,\u001b[0m \u001b[1;33m**\u001b[0m\u001b[0mkwargs\u001b[0m\u001b[1;33m)\u001b[0m\u001b[1;33m\u001b[0m\u001b[0m\n\u001b[0m\u001b[0;32m     88\u001b[0m         \u001b[0mwrapper\u001b[0m\u001b[1;33m.\u001b[0m\u001b[0m_original_function\u001b[0m \u001b[1;33m=\u001b[0m \u001b[0mfunc\u001b[0m\u001b[1;33m\u001b[0m\u001b[0m\n\u001b[0;32m     89\u001b[0m         \u001b[1;32mreturn\u001b[0m \u001b[0mwrapper\u001b[0m\u001b[1;33m\u001b[0m\u001b[0m\n",
      "\u001b[1;32mD:\\Anaconda3\\envs\\tf-gpu\\lib\\site-packages\\keras\\engine\\training.py\u001b[0m in \u001b[0;36mfit_generator\u001b[1;34m(self, generator, steps_per_epoch, epochs, verbose, callbacks, validation_data, validation_steps, class_weight, max_queue_size, workers, use_multiprocessing, shuffle, initial_epoch)\u001b[0m\n\u001b[0;32m   2152\u001b[0m                         \u001b[0mbatch_logs\u001b[0m\u001b[1;33m[\u001b[0m\u001b[0ml\u001b[0m\u001b[1;33m]\u001b[0m \u001b[1;33m=\u001b[0m \u001b[0mo\u001b[0m\u001b[1;33m\u001b[0m\u001b[0m\n\u001b[0;32m   2153\u001b[0m \u001b[1;33m\u001b[0m\u001b[0m\n\u001b[1;32m-> 2154\u001b[1;33m                     \u001b[0mcallbacks\u001b[0m\u001b[1;33m.\u001b[0m\u001b[0mon_batch_end\u001b[0m\u001b[1;33m(\u001b[0m\u001b[0mbatch_index\u001b[0m\u001b[1;33m,\u001b[0m \u001b[0mbatch_logs\u001b[0m\u001b[1;33m)\u001b[0m\u001b[1;33m\u001b[0m\u001b[0m\n\u001b[0m\u001b[0;32m   2155\u001b[0m \u001b[1;33m\u001b[0m\u001b[0m\n\u001b[0;32m   2156\u001b[0m                     \u001b[1;31m# Construct epoch logs.\u001b[0m\u001b[1;33m\u001b[0m\u001b[1;33m\u001b[0m\u001b[0m\n",
      "\u001b[1;32mD:\\Anaconda3\\envs\\tf-gpu\\lib\\site-packages\\keras\\callbacks.py\u001b[0m in \u001b[0;36mon_batch_end\u001b[1;34m(self, batch, logs)\u001b[0m\n\u001b[0;32m    107\u001b[0m         \u001b[0mt_before_callbacks\u001b[0m \u001b[1;33m=\u001b[0m \u001b[0mtime\u001b[0m\u001b[1;33m.\u001b[0m\u001b[0mtime\u001b[0m\u001b[1;33m(\u001b[0m\u001b[1;33m)\u001b[0m\u001b[1;33m\u001b[0m\u001b[0m\n\u001b[0;32m    108\u001b[0m         \u001b[1;32mfor\u001b[0m \u001b[0mcallback\u001b[0m \u001b[1;32min\u001b[0m \u001b[0mself\u001b[0m\u001b[1;33m.\u001b[0m\u001b[0mcallbacks\u001b[0m\u001b[1;33m:\u001b[0m\u001b[1;33m\u001b[0m\u001b[0m\n\u001b[1;32m--> 109\u001b[1;33m             \u001b[0mcallback\u001b[0m\u001b[1;33m.\u001b[0m\u001b[0mon_batch_end\u001b[0m\u001b[1;33m(\u001b[0m\u001b[0mbatch\u001b[0m\u001b[1;33m,\u001b[0m \u001b[0mlogs\u001b[0m\u001b[1;33m)\u001b[0m\u001b[1;33m\u001b[0m\u001b[0m\n\u001b[0m\u001b[0;32m    110\u001b[0m         \u001b[0mself\u001b[0m\u001b[1;33m.\u001b[0m\u001b[0m_delta_ts_batch_end\u001b[0m\u001b[1;33m.\u001b[0m\u001b[0mappend\u001b[0m\u001b[1;33m(\u001b[0m\u001b[0mtime\u001b[0m\u001b[1;33m.\u001b[0m\u001b[0mtime\u001b[0m\u001b[1;33m(\u001b[0m\u001b[1;33m)\u001b[0m \u001b[1;33m-\u001b[0m \u001b[0mt_before_callbacks\u001b[0m\u001b[1;33m)\u001b[0m\u001b[1;33m\u001b[0m\u001b[0m\n\u001b[0;32m    111\u001b[0m         \u001b[0mdelta_t_median\u001b[0m \u001b[1;33m=\u001b[0m \u001b[0mnp\u001b[0m\u001b[1;33m.\u001b[0m\u001b[0mmedian\u001b[0m\u001b[1;33m(\u001b[0m\u001b[0mself\u001b[0m\u001b[1;33m.\u001b[0m\u001b[0m_delta_ts_batch_end\u001b[0m\u001b[1;33m)\u001b[0m\u001b[1;33m\u001b[0m\u001b[0m\n",
      "\u001b[1;32mL:\\Data Science\\GIT\\Statoil-C-CORE-Iceberg-Classifier-Challenge\\cyclicLR_callback.py\u001b[0m in \u001b[0;36mon_batch_end\u001b[1;34m(self, epoch, logs)\u001b[0m\n\u001b[0;32m    128\u001b[0m         \u001b[0mself\u001b[0m\u001b[1;33m.\u001b[0m\u001b[0mtrn_iterations\u001b[0m \u001b[1;33m+=\u001b[0m \u001b[1;36m1\u001b[0m\u001b[1;33m\u001b[0m\u001b[0m\n\u001b[0;32m    129\u001b[0m         \u001b[0mself\u001b[0m\u001b[1;33m.\u001b[0m\u001b[0mclr_iterations\u001b[0m \u001b[1;33m+=\u001b[0m \u001b[1;36m1\u001b[0m\u001b[1;33m\u001b[0m\u001b[0m\n\u001b[1;32m--> 130\u001b[1;33m         \u001b[0mK\u001b[0m\u001b[1;33m.\u001b[0m\u001b[0mset_value\u001b[0m\u001b[1;33m(\u001b[0m\u001b[0mself\u001b[0m\u001b[1;33m.\u001b[0m\u001b[0mmodel\u001b[0m\u001b[1;33m.\u001b[0m\u001b[0moptimizer\u001b[0m\u001b[1;33m.\u001b[0m\u001b[0mlr\u001b[0m\u001b[1;33m,\u001b[0m \u001b[0mself\u001b[0m\u001b[1;33m.\u001b[0m\u001b[0mclr\u001b[0m\u001b[1;33m(\u001b[0m\u001b[1;33m)\u001b[0m\u001b[1;33m)\u001b[0m\u001b[1;33m\u001b[0m\u001b[0m\n\u001b[0m\u001b[0;32m    131\u001b[0m \u001b[1;33m\u001b[0m\u001b[0m\n\u001b[0;32m    132\u001b[0m         \u001b[0mself\u001b[0m\u001b[1;33m.\u001b[0m\u001b[0mhistory\u001b[0m\u001b[1;33m.\u001b[0m\u001b[0msetdefault\u001b[0m\u001b[1;33m(\u001b[0m\u001b[1;34m'lr'\u001b[0m\u001b[1;33m,\u001b[0m \u001b[1;33m[\u001b[0m\u001b[1;33m]\u001b[0m\u001b[1;33m)\u001b[0m\u001b[1;33m.\u001b[0m\u001b[0mappend\u001b[0m\u001b[1;33m(\u001b[0m\u001b[0mK\u001b[0m\u001b[1;33m.\u001b[0m\u001b[0mget_value\u001b[0m\u001b[1;33m(\u001b[0m\u001b[0mself\u001b[0m\u001b[1;33m.\u001b[0m\u001b[0mmodel\u001b[0m\u001b[1;33m.\u001b[0m\u001b[0moptimizer\u001b[0m\u001b[1;33m.\u001b[0m\u001b[0mlr\u001b[0m\u001b[1;33m)\u001b[0m\u001b[1;33m)\u001b[0m\u001b[1;33m\u001b[0m\u001b[0m\n",
      "\u001b[1;32mL:\\Data Science\\GIT\\Statoil-C-CORE-Iceberg-Classifier-Challenge\\cyclicLR_callback.py\u001b[0m in \u001b[0;36mclr\u001b[1;34m(self)\u001b[0m\n\u001b[0;32m    110\u001b[0m         \u001b[0mcycle\u001b[0m \u001b[1;33m=\u001b[0m \u001b[0mnp\u001b[0m\u001b[1;33m.\u001b[0m\u001b[0mfloor\u001b[0m\u001b[1;33m(\u001b[0m\u001b[1;36m1\u001b[0m\u001b[1;33m+\u001b[0m\u001b[0mself\u001b[0m\u001b[1;33m.\u001b[0m\u001b[0mclr_iterations\u001b[0m\u001b[1;33m/\u001b[0m\u001b[1;33m(\u001b[0m\u001b[1;36m2\u001b[0m\u001b[1;33m*\u001b[0m\u001b[0mself\u001b[0m\u001b[1;33m.\u001b[0m\u001b[0mstep_size\u001b[0m\u001b[1;33m)\u001b[0m\u001b[1;33m)\u001b[0m\u001b[1;33m\u001b[0m\u001b[0m\n\u001b[0;32m    111\u001b[0m         \u001b[0mx\u001b[0m \u001b[1;33m=\u001b[0m \u001b[0mnp\u001b[0m\u001b[1;33m.\u001b[0m\u001b[0mabs\u001b[0m\u001b[1;33m(\u001b[0m\u001b[0mself\u001b[0m\u001b[1;33m.\u001b[0m\u001b[0mclr_iterations\u001b[0m\u001b[1;33m/\u001b[0m\u001b[0mself\u001b[0m\u001b[1;33m.\u001b[0m\u001b[0mstep_size\u001b[0m \u001b[1;33m-\u001b[0m \u001b[1;36m2\u001b[0m\u001b[1;33m*\u001b[0m\u001b[0mcycle\u001b[0m \u001b[1;33m+\u001b[0m \u001b[1;36m1\u001b[0m\u001b[1;33m)\u001b[0m\u001b[1;33m\u001b[0m\u001b[0m\n\u001b[1;32m--> 112\u001b[1;33m         \u001b[1;32mif\u001b[0m \u001b[0mself\u001b[0m\u001b[1;33m.\u001b[0m\u001b[0mscale_mode\u001b[0m \u001b[1;33m==\u001b[0m \u001b[1;34m'cycle'\u001b[0m\u001b[1;33m:\u001b[0m\u001b[1;33m\u001b[0m\u001b[0m\n\u001b[0m\u001b[0;32m    113\u001b[0m             \u001b[1;32mreturn\u001b[0m \u001b[0mself\u001b[0m\u001b[1;33m.\u001b[0m\u001b[0mbase_lr\u001b[0m \u001b[1;33m+\u001b[0m \u001b[1;33m(\u001b[0m\u001b[0mself\u001b[0m\u001b[1;33m.\u001b[0m\u001b[0mmax_lr\u001b[0m\u001b[1;33m-\u001b[0m\u001b[0mself\u001b[0m\u001b[1;33m.\u001b[0m\u001b[0mbase_lr\u001b[0m\u001b[1;33m)\u001b[0m\u001b[1;33m*\u001b[0m\u001b[0mnp\u001b[0m\u001b[1;33m.\u001b[0m\u001b[0mmaximum\u001b[0m\u001b[1;33m(\u001b[0m\u001b[1;36m0\u001b[0m\u001b[1;33m,\u001b[0m \u001b[1;33m(\u001b[0m\u001b[1;36m1\u001b[0m\u001b[1;33m-\u001b[0m\u001b[0mx\u001b[0m\u001b[1;33m)\u001b[0m\u001b[1;33m)\u001b[0m\u001b[1;33m*\u001b[0m\u001b[0mself\u001b[0m\u001b[1;33m.\u001b[0m\u001b[0mscale_fn\u001b[0m\u001b[1;33m(\u001b[0m\u001b[0mcycle\u001b[0m\u001b[1;33m)\u001b[0m\u001b[1;33m\u001b[0m\u001b[0m\n\u001b[0;32m    114\u001b[0m         \u001b[1;32melse\u001b[0m\u001b[1;33m:\u001b[0m\u001b[1;33m\u001b[0m\u001b[0m\n",
      "\u001b[1;31mAttributeError\u001b[0m: 'CyclicLR' object has no attribute 'scale_mode'"
     ]
    }
   ],
   "source": [
    "#model training\n",
    "start_time = time.monotonic()\n",
    "\n",
    "H = model_f.fit_generator(datagen_angle.flow(X_train_sample, y_train_sample, batch_size=16),\n",
    "                    steps_per_epoch=len(X_train_sample)/16,\n",
    "                    validation_data=datagen_angle_val.flow(X_val, y_val, batch_size=24, shuffle=False), \n",
    "                    validation_steps=len(X_val)/24,\n",
    "                    #validation_data=[X_val,y_val],\n",
    "                    epochs=70, callbacks=callbacks,\n",
    "                    verbose=0)\n",
    "\n",
    "model_time = time.monotonic() - start_time\n",
    "print(\"Model training time: \" + '{:d}'.format(int(model_time // 60)) + \" minutes \" \n",
    "      + '{:.1f}'.format(model_time % 60) + \" seconds\")"
   ]
  },
  {
   "cell_type": "code",
   "execution_count": null,
   "metadata": {
    "collapsed": true
   },
   "outputs": [],
   "source": [
    "h = lScheduler.history\n",
    "plt.plot(h['lr'], color=\"b\", label='lr')\n",
    "plt.legend()\n",
    "plt.xlabel('# iterations')\n",
    "plt.show()"
   ]
  },
  {
   "cell_type": "code",
   "execution_count": null,
   "metadata": {
    "collapsed": true,
    "scrolled": true
   },
   "outputs": [],
   "source": [
    "plt.plot(H.history['loss'], color=\"b\", label='Training loss')\n",
    "plt.plot(H.history['val_loss'], color=\"r\", label='Validation loss')\n",
    "plt.legend()\n",
    "plt.xlabel('# epochs')\n",
    "plt.show()"
   ]
  },
  {
   "cell_type": "code",
   "execution_count": null,
   "metadata": {
    "collapsed": true
   },
   "outputs": [],
   "source": [
    "model_f.set_weights(modelEnsemble.models[len(modelEnsemble.models)-1][2])"
   ]
  },
  {
   "cell_type": "markdown",
   "metadata": {},
   "source": [
    "### Additional training epochs with SGD - warm start"
   ]
  },
  {
   "cell_type": "code",
   "execution_count": null,
   "metadata": {
    "collapsed": true
   },
   "outputs": [],
   "source": [
    "#addtional training epochs - warm start\n",
    "#lScheduler = LScheduler(initial_lrate=0.000001, drop=0.66, patience=3)\n",
    "modelEnsemble2 = ModelHistory(listSize=5)\n",
    "lScheduler = CyclicLR(base_lr=1e-9, max_lr=1e-5,\n",
    "                                 step_size=80, mode='triangular2', gamma=0.9994)\n",
    "callbacks = get_callbacks(filepath=model_best_weights_path, save_to_disc=False, lScheduler=lScheduler,\n",
    "                          modelHistoryCallback=modelEnsemble2)\n",
    "model_f.compile(optimizer=SGD(lr=0.0001),loss='binary_crossentropy',metrics=['accuracy'])\n",
    "start_time = time.monotonic()\n",
    "\n",
    "H2 = model_f.fit_generator(datagen_angle.flow(X_train_sample, y_train_sample, batch_size=24, shuffle=False),\n",
    "                    steps_per_epoch=len(X_train_sample)/24,\n",
    "                    validation_data=datagen_angle_val.flow(X_val, y_val, batch_size=24, shuffle=False), \n",
    "                    validation_steps=len(X_val)/24,\n",
    "                    #validation_data=[X_val,y_val],\n",
    "                    epochs=15, callbacks=callbacks,\n",
    "                    verbose=0)\n",
    "\n",
    "model_time = time.monotonic() - start_time\n",
    "print(\"Model training time: \" + '{:d}'.format(int(model_time // 60)) + \" minutes \" \n",
    "      + '{:.1f}'.format(model_time % 60) + \" seconds\")"
   ]
  },
  {
   "cell_type": "code",
   "execution_count": null,
   "metadata": {
    "collapsed": true
   },
   "outputs": [],
   "source": [
    "h = lScheduler.history\n",
    "plt.plot(h['lr'], color=\"b\", label='lr')\n",
    "plt.legend()\n",
    "plt.xlabel('# iterations')\n",
    "plt.show()"
   ]
  },
  {
   "cell_type": "code",
   "execution_count": null,
   "metadata": {
    "collapsed": true
   },
   "outputs": [],
   "source": [
    "for key in H.history:\n",
    "    H.history[key].extend(H2.history[key])"
   ]
  },
  {
   "cell_type": "code",
   "execution_count": null,
   "metadata": {
    "collapsed": true,
    "scrolled": false
   },
   "outputs": [],
   "source": [
    "plt.plot(H2.history['loss'], color=\"b\", label='Training loss')\n",
    "plt.plot(H2.history['val_loss'], color=\"r\", label='Validation loss')\n",
    "plt.legend()\n",
    "plt.xlabel('# epochs')\n",
    "plt.show()"
   ]
  },
  {
   "cell_type": "code",
   "execution_count": null,
   "metadata": {
    "collapsed": true
   },
   "outputs": [],
   "source": [
    "plt.plot(H.history['loss'], color=\"b\", label='Training loss')\n",
    "plt.plot(H.history['val_loss'], color=\"r\", label='Validation loss')\n",
    "plt.legend()\n",
    "plt.xlabel('# epochs')\n",
    "plt.show()"
   ]
  },
  {
   "cell_type": "code",
   "execution_count": null,
   "metadata": {
    "collapsed": true
   },
   "outputs": [],
   "source": [
    "# serialize model to JSON\n",
    "model_json = model_f.to_json()\n",
    "with open(\"models/model.json\", \"w\") as json_file:\n",
    "    json_file.write(model_json)"
   ]
  },
  {
   "cell_type": "code",
   "execution_count": null,
   "metadata": {
    "collapsed": true
   },
   "outputs": [],
   "source": [
    "# load model from JSON - don't care about the weights rith now, they are saved separately\n",
    "with open(\"models/model.json\", \"r\") as json_file:\n",
    "    loaded_model_json = json_file.read()\n",
    "    model_f = model_from_json(loaded_model_json)"
   ]
  },
  {
   "cell_type": "code",
   "execution_count": null,
   "metadata": {
    "collapsed": true,
    "scrolled": false
   },
   "outputs": [],
   "source": [
    "#model_object_path = model_path + \"model.\" + model_code + \"_\" + model_timestamp + '.hdf5'\n",
    "#model_f.save('models/last_model.hdf5') //crashes python kernel with Keras version 2.1.2\n",
    "#model_f = load_model(model_object_path)"
   ]
  },
  {
   "cell_type": "markdown",
   "metadata": {},
   "source": [
    "### Saving model history"
   ]
  },
  {
   "cell_type": "code",
   "execution_count": null,
   "metadata": {
    "collapsed": true
   },
   "outputs": [],
   "source": [
    "argmin = np.array(H.history[\"loss\"]).argmin()\n",
    "argmin"
   ]
  },
  {
   "cell_type": "code",
   "execution_count": null,
   "metadata": {
    "collapsed": true,
    "scrolled": true
   },
   "outputs": [],
   "source": [
    "argmin = np.array(H.history[\"val_loss\"]).argmin()\n",
    "argmax_acc = np.array(H.history[\"val_acc\"]).argmax()\n",
    "#with open('current_model.py','r') as model_python_code_file:\n",
    "#    models_history = pd.DataFrame({\"timestamp\":[model_timestamp], \n",
    "#                                    \"val_loss [min]\":[H.history['val_loss'][argmin]],\n",
    "#                                    \"epoch [val_loss [min]]\":argmin,\n",
    "#                                    \"training_loss [val_loss [min]]\":[H.history['loss'][argmin]],\n",
    "#                                    \"val_acc [val_loss [min]]\":[H.history['val_acc'][argmin]],\n",
    "#                                    \"training_acc [val_loss [min]]\":[H.history['acc'][argmin]],\n",
    "#                                    \n",
    "#                                    \"val_acc [max]\":[H.history['val_acc'][argmax_acc]],\n",
    "#                                    \"epoch [val_acc [max]]\":argmax_acc,\n",
    "#                                    \"training_loss [val_acc [max]]\":[H.history['loss'][argmax_acc]],\n",
    "#                                    \"val_loss [val_acc [max]]\":[H.history['val_loss'][argmax_acc]],\n",
    "#                                    \"training_acc [val_acc [max]]\":[H.history['acc'][argmax_acc]],\n",
    "#                                    \n",
    "#                                    \"model_path\":[model_object_path],\n",
    "#                                    \"model_weights_path\":[model_best_weights_path],\n",
    "#                                    \"model_python_code\":[model_python_code_file.read().replace('\\r\\n','\\n')],\n",
    "#                                    \"model_comment\":[model_comment]\n",
    "#                                })\n",
    "#                               \n",
    "#models_history = models_history[[\"timestamp\", \n",
    "#                                 \"epoch [val_loss [min]]\", \"val_loss [min]\", \"training_loss [val_loss [min]]\",\n",
    "#                                 \"val_acc [val_loss [min]]\", \"training_acc [val_loss [min]]\",\n",
    "#                                 \"epoch [val_acc [max]]\", \"val_acc [max]\", \"training_loss [val_acc [max]]\",\n",
    "#                                 \"val_loss [val_acc [max]]\", \"training_acc [val_acc [max]]\",\n",
    "#                                 \"model_path\",\"model_weights_path\",\"model_python_code\",\"model_comment\"]]\n",
    "#models_history.head()"
   ]
  },
  {
   "cell_type": "code",
   "execution_count": null,
   "metadata": {
    "collapsed": true
   },
   "outputs": [],
   "source": [
    "#print(\"Min validation loss epoch:\")\n",
    "#print(\"epoch: %d\" %(argmin),\n",
    "#      \"; val loss [min] %.4f: \" % (models_history[\"val_loss [min]\"][0]), \n",
    "#      \"; training loss: %.4f\" % (models_history[\"training_loss [val_loss [min]]\"][0]),\n",
    "#      \"; val acc: %.4f\" % (models_history[\"val_acc [val_loss [min]]\"][0]),\n",
    "#      \"; training acc: %.4f \" % (models_history[\"training_acc [val_loss [min]]\"][0])\n",
    "#     )\n",
    "#print(\"Max validation accuracy epoch:\")\n",
    "#print(\"epoch: %d\" %(argmax_acc),\n",
    "#      \"; val loss %.4f: \" % (models_history[\"val_loss [val_acc [max]]\"][0]), \n",
    "#      \"; training loss: %.4f\" % (models_history[\"training_loss [val_acc [max]]\"][0]),\n",
    "#      \"; val acc [max]: %.4f\" % (models_history[\"val_acc [max]\"][0]),\n",
    "#      \"; training acc: %.4f \" % (models_history[\"training_acc [val_acc [max]]\"][0]),\n",
    "#     )\n",
    "#print(\"model comment:\", model_comment)\n",
    "#"
   ]
  },
  {
   "cell_type": "code",
   "execution_count": null,
   "metadata": {
    "collapsed": true
   },
   "outputs": [],
   "source": [
    "#with open('models_history.csv', 'a') as f:\n",
    "#    models_history.to_csv(f, header=False,index=False)\n",
    "#    #models_history.to_csv(f, index=False)"
   ]
  },
  {
   "cell_type": "code",
   "execution_count": null,
   "metadata": {
    "collapsed": true,
    "scrolled": false
   },
   "outputs": [],
   "source": [
    "#df = pd.read_csv('models_history.csv')\n",
    "#df.tail()"
   ]
  },
  {
   "cell_type": "markdown",
   "metadata": {},
   "source": [
    "### Model Ensemble"
   ]
  },
  {
   "cell_type": "code",
   "execution_count": null,
   "metadata": {
    "collapsed": true,
    "scrolled": true
   },
   "outputs": [],
   "source": [
    "modelEnsemble.models.extend(modelEnsemble2.models)"
   ]
  },
  {
   "cell_type": "code",
   "execution_count": null,
   "metadata": {
    "collapsed": true
   },
   "outputs": [],
   "source": [
    "with open('models/modelEnsemble.pickle', 'wb') as handle:\n",
    "    pickle.dump(modelEnsemble.models, handle, protocol=pickle.HIGHEST_PROTOCOL)"
   ]
  },
  {
   "cell_type": "code",
   "execution_count": null,
   "metadata": {
    "collapsed": true
   },
   "outputs": [],
   "source": [
    "with open('models/modelEnsemble.pickle', 'rb') as handle:\n",
    "    modelEnsemble.models = pickle.load(handle)"
   ]
  },
  {
   "cell_type": "code",
   "execution_count": null,
   "metadata": {
    "collapsed": true
   },
   "outputs": [],
   "source": [
    "def get_prediction(model,weights, X, y):\n",
    "    model.set_weights(weights)\n",
    "    return model.predict_generator(datagen_angle_val.flow(X, y, batch_size=32, shuffle=False), \n",
    "                           steps = len(X)/31, verbose=1)"
   ]
  },
  {
   "cell_type": "code",
   "execution_count": null,
   "metadata": {
    "collapsed": true
   },
   "outputs": [],
   "source": [
    "def get_ensemble_predictions(X, y, modelEnsemble):\n",
    "    predictions = [get_prediction(model_f, model[2], X, y)[:X.shape[0]]\n",
    "                   for model in tqdm(modelEnsemble.models)]    \n",
    "    temp_array = np.array(predictions)\n",
    "    del(predictions)\n",
    "    temp_array = np.swapaxes(temp_array,0,1)\n",
    "    temp_array = temp_array.reshape(temp_array.shape[0],temp_array.shape[1])\n",
    "    return temp_array"
   ]
  },
  {
   "cell_type": "code",
   "execution_count": null,
   "metadata": {
    "collapsed": true
   },
   "outputs": [],
   "source": [
    "#with h5py.File('tmp_data/ensemble_data.h5', 'r') as hf:\n",
    "#    ensemble_train = hf['ensemble_train'][:]"
   ]
  },
  {
   "cell_type": "code",
   "execution_count": null,
   "metadata": {
    "collapsed": true
   },
   "outputs": [],
   "source": [
    "modelEnsemble.models[0][0]"
   ]
  },
  {
   "cell_type": "code",
   "execution_count": null,
   "metadata": {
    "collapsed": true,
    "scrolled": true
   },
   "outputs": [],
   "source": [
    "ensemble_val = get_ensemble_predictions(X_val, y_val, modelEnsemble)\n",
    "with h5py.File('tmp_data/ensemble_data.h5', 'w') as hf:\n",
    "    hf.create_dataset(\"ensemble_val\",  data=ensemble_val)\n",
    "ensemble_val.shape"
   ]
  },
  {
   "cell_type": "code",
   "execution_count": null,
   "metadata": {
    "collapsed": true
   },
   "outputs": [],
   "source": [
    "#with h5py.File('tmp_data/ensemble_data.h5', 'r') as hf:\n",
    "#    ensemble_val = hf['ensemble_val'][:]"
   ]
  },
  {
   "cell_type": "code",
   "execution_count": null,
   "metadata": {
    "collapsed": true,
    "scrolled": true
   },
   "outputs": [],
   "source": [
    "ensemble_val[1]"
   ]
  },
  {
   "cell_type": "code",
   "execution_count": null,
   "metadata": {
    "collapsed": true
   },
   "outputs": [],
   "source": [
    "def modelfit(alg, X, y , X_test, y_test, useTrainCV=True, cv_folds=5, early_stopping_rounds=50):\n",
    "    \n",
    "    if useTrainCV:\n",
    "        xgb_param = alg.get_xgb_params()\n",
    "        xgtrain = xgb.DMatrix(X, label=y)\n",
    "        cvresult = xgb.cv(xgb_param, xgtrain, num_boost_round=alg.get_params()['n_estimators'], nfold=cv_folds,\n",
    "            metrics='logloss', early_stopping_rounds=early_stopping_rounds)\n",
    "        alg.set_params(n_estimators=cvresult.shape[0])\n",
    "    \n",
    "    #Fit the algorithm on the data\n",
    "    alg.fit(X, y,eval_metric='logloss')\n",
    "        \n",
    "    #Predict training set:\n",
    "    dtrain_predictions = alg.predict(X)\n",
    "    dtrain_predprob = alg.predict_proba(X)[:,1]\n",
    "    dtest_predprob = alg.predict_proba(X_test)[:,1]\n",
    "        \n",
    "    #Print model report:\n",
    "    print(\"\\nModel Report\")\n",
    "    print(\"n_estimators: %d\" % cvresult.shape[0])\n",
    "    print(\"Accuracy : %.4g\" % metrics.accuracy_score(y, dtrain_predictions))\n",
    "    print(\"Log loss (Train): %f\" % metrics.log_loss(y, dtrain_predprob))\n",
    "    print(\"Log loss (Test): %f\" % metrics.log_loss(y_test, dtest_predprob))\n",
    "                    \n",
    "    feat_imp = pd.Series(alg.booster().get_fscore()).sort_values(ascending=False)\n",
    "    feat_imp.plot(kind='bar', title='Feature Importances')\n",
    "    plt.ylabel('Feature Importance Score')\n",
    "    plt.show()"
   ]
  },
  {
   "cell_type": "code",
   "execution_count": null,
   "metadata": {
    "collapsed": true
   },
   "outputs": [],
   "source": [
    "ensemble_train = get_ensemble_predictions(X_train, y_train, modelEnsemble)\n",
    "with h5py.File('tmp_data/ensemble_data.h5', 'a') as hf:\n",
    "    hf.create_dataset(\"ensemble_train\",  data=ensemble_train)"
   ]
  },
  {
   "cell_type": "code",
   "execution_count": null,
   "metadata": {
    "collapsed": true
   },
   "outputs": [],
   "source": [
    "with h5py.File('tmp_data/ensemble_data.h5', 'r') as hf:\n",
    "    ensemble_train = hf['ensemble_train'][:]"
   ]
  },
  {
   "cell_type": "code",
   "execution_count": null,
   "metadata": {
    "collapsed": true
   },
   "outputs": [],
   "source": [
    "ensemble_train[0]"
   ]
  },
  {
   "cell_type": "code",
   "execution_count": null,
   "metadata": {
    "collapsed": true
   },
   "outputs": [],
   "source": [
    "#ensemble_all = get_ensemble_predictions(X, y_angle, modelEnsemble)"
   ]
  },
  {
   "cell_type": "code",
   "execution_count": null,
   "metadata": {
    "collapsed": true,
    "scrolled": true
   },
   "outputs": [],
   "source": [
    "xgb1 = xgb.XGBClassifier(\n",
    " learning_rate =0.1,\n",
    " n_estimators=1000,\n",
    " max_depth=5,\n",
    " min_child_weight=1,\n",
    " gamma=0,\n",
    " subsample=0.8,\n",
    " colsample_bytree=0.8,\n",
    " objective= 'binary:logistic',\n",
    " nthread=8,\n",
    " scale_pos_weight=1,\n",
    " seed=27)\n",
    "modelfit(xgb1, ensemble_val, y_val['is_iceberg'], ensemble_train, y_train['is_iceberg'])"
   ]
  },
  {
   "cell_type": "code",
   "execution_count": null,
   "metadata": {
    "collapsed": true,
    "scrolled": true
   },
   "outputs": [],
   "source": [
    "#ensemble_all = get_ensemble_predictions(X, y_angle, modelEnsemble)"
   ]
  },
  {
   "cell_type": "code",
   "execution_count": null,
   "metadata": {
    "collapsed": true,
    "scrolled": true
   },
   "outputs": [],
   "source": [
    "param_test1 = {\n",
    " 'max_depth':list(range(3,13,2)),\n",
    " 'min_child_weight':list(range(1,10,2))\n",
    "}\n",
    "gsearch1 = GridSearchCV(estimator = xgb.XGBClassifier( learning_rate =0.1, n_estimators=35, max_depth=5,\n",
    " min_child_weight=1, gamma=0, subsample=0.8, colsample_bytree=0.8,\n",
    " objective= 'binary:logistic', nthread=8, scale_pos_weight=1, seed=random_seed), \n",
    " param_grid = param_test1, scoring='neg_log_loss',n_jobs=1,iid=False, cv=5, verbose=1)\n",
    "gsearch1.fit(ensemble_val,y_val['is_iceberg'].values)\n",
    "gsearch1.grid_scores_, gsearch1.best_params_, gsearch1.best_score_"
   ]
  },
  {
   "cell_type": "code",
   "execution_count": null,
   "metadata": {
    "collapsed": true,
    "scrolled": true
   },
   "outputs": [],
   "source": [
    "param_test2 = {\n",
    " 'max_depth':[2,3,4],\n",
    " 'min_child_weight':[2.5,3,3.5,6.5,7,7.5]\n",
    "}\n",
    "gsearch2 = GridSearchCV(estimator = xgb.XGBClassifier( learning_rate =0.1, n_estimators=35, max_depth=2,\n",
    " min_child_weight=3.5, gamma=0, subsample=0.8, colsample_bytree=0.8,\n",
    " objective= 'binary:logistic', nthread=8, scale_pos_weight=1, seed=random_seed), \n",
    " param_grid = param_test2, scoring='neg_log_loss',n_jobs=1,iid=False, cv=5, verbose=1)\n",
    "gsearch2.fit(ensemble_val,y_val['is_iceberg'].values)\n",
    "gsearch2.grid_scores_, gsearch2.best_params_, gsearch2.best_score_"
   ]
  },
  {
   "cell_type": "code",
   "execution_count": null,
   "metadata": {
    "collapsed": true
   },
   "outputs": [],
   "source": [
    "param_test3 = {\n",
    " 'gamma':[i/20.0 for i in range(0,30)]\n",
    "}\n",
    "gsearch3 = GridSearchCV(estimator = xgb.XGBClassifier( learning_rate =0.1, n_estimators=35, max_depth=2,\n",
    " min_child_weight=3.5, gamma=0, subsample=0.8, colsample_bytree=0.8,\n",
    " objective= 'binary:logistic', nthread=8, scale_pos_weight=1, seed=random_seed), \n",
    " param_grid = param_test3, scoring='neg_log_loss',n_jobs=1,iid=False, cv=5, verbose=1)\n",
    "gsearch3.fit(ensemble_val,y_val['is_iceberg'].values)\n",
    "gsearch3.grid_scores_, gsearch3.best_params_, gsearch3.best_score_"
   ]
  },
  {
   "cell_type": "code",
   "execution_count": null,
   "metadata": {
    "collapsed": true
   },
   "outputs": [],
   "source": [
    "xgb2 = xgb.XGBClassifier(\n",
    " learning_rate =0.1,\n",
    " n_estimators=1000,\n",
    " max_depth=2,\n",
    " min_child_weight=3.5,\n",
    " gamma=1.3,\n",
    " subsample=0.8,\n",
    " colsample_bytree=0.8,\n",
    " objective= 'binary:logistic',\n",
    " nthread=8,\n",
    " scale_pos_weight=1,\n",
    " seed=27)\n",
    "modelfit(xgb2, ensemble_val, y_val['is_iceberg'],ensemble_train, y_train['is_iceberg'])"
   ]
  },
  {
   "cell_type": "code",
   "execution_count": null,
   "metadata": {
    "collapsed": true,
    "scrolled": true
   },
   "outputs": [],
   "source": [
    "param_test4 = {\n",
    " 'subsample':[i/10.0 for i in range(6,10)],\n",
    " 'colsample_bytree':[i/10.0 for i in range(6,10)]\n",
    "}\n",
    "gsearch4 = GridSearchCV(estimator = xgb.XGBClassifier( learning_rate =0.1, n_estimators=40, max_depth=2,\n",
    " min_child_weight=3.5, gamma=1.3, subsample=0.8, colsample_bytree=0.8,\n",
    " objective= 'binary:logistic', nthread=8, scale_pos_weight=1, seed=random_seed), \n",
    " param_grid = param_test4, scoring='neg_log_loss',n_jobs=1,iid=False, cv=5, verbose=1)\n",
    "gsearch4.fit(ensemble_val,y_val['is_iceberg'].values)\n",
    "gsearch4.grid_scores_, gsearch4.best_params_, gsearch4.best_score_"
   ]
  },
  {
   "cell_type": "code",
   "execution_count": null,
   "metadata": {
    "collapsed": true,
    "scrolled": true
   },
   "outputs": [],
   "source": [
    "param_test5 = {\n",
    " 'subsample':[i/100.0 for i in range(70,100,5)],\n",
    " 'colsample_bytree':[i/100.0 for i in range(40,100,5)]\n",
    "}\n",
    "gsearch5 = GridSearchCV(estimator = xgb.XGBClassifier( learning_rate =0.1, n_estimators=40, max_depth=2,\n",
    " min_child_weight=3.5, gamma=1.3, subsample=0.8, colsample_bytree=0.8,\n",
    " objective= 'binary:logistic', nthread=8, scale_pos_weight=1, seed=random_seed), \n",
    " param_grid = param_test5, scoring='neg_log_loss',n_jobs=1,iid=False, cv=5, verbose=1)\n",
    "gsearch5.fit(ensemble_val,y_val['is_iceberg'].values)\n",
    "gsearch5.grid_scores_, gsearch5.best_params_, gsearch5.best_score_"
   ]
  },
  {
   "cell_type": "code",
   "execution_count": null,
   "metadata": {
    "collapsed": true,
    "scrolled": true
   },
   "outputs": [],
   "source": [
    "param_test6 = {\n",
    " 'reg_alpha':[1e-5, 1e-2, 0.1, 1, 100]\n",
    "}\n",
    "gsearch6 = GridSearchCV(estimator = xgb.XGBClassifier( learning_rate =0.1, n_estimators=40, max_depth=2,\n",
    " min_child_weight=3.5, gamma=1.3, subsample=0.75, colsample_bytree=0.4,\n",
    " objective= 'binary:logistic', nthread=8, scale_pos_weight=1, seed=random_seed), \n",
    " param_grid = param_test6, scoring='neg_log_loss',n_jobs=1,iid=False, cv=5, verbose=1)\n",
    "gsearch6.fit(ensemble_val,y_val['is_iceberg'].values)\n",
    "gsearch6.grid_scores_, gsearch6.best_params_, gsearch6.best_score_"
   ]
  },
  {
   "cell_type": "code",
   "execution_count": null,
   "metadata": {
    "collapsed": true,
    "scrolled": true
   },
   "outputs": [],
   "source": [
    "param_test7 = {\n",
    " 'reg_alpha':[0.000003, 0.00001, 0.0001, 0.0003, 0.0005]\n",
    "}\n",
    "gsearch7 = GridSearchCV(estimator = xgb.XGBClassifier( learning_rate =0.1, n_estimators=40, max_depth=2,\n",
    " min_child_weight=3.5, gamma=1.3, subsample=0.75, colsample_bytree=0.4,\n",
    " objective= 'binary:logistic', nthread=8, scale_pos_weight=1, seed=random_seed), \n",
    " param_grid = param_test7, scoring='neg_log_loss',n_jobs=1,iid=False, cv=5, verbose=1)\n",
    "gsearch7.fit(ensemble_val,y_val['is_iceberg'].values)\n",
    "gsearch7.grid_scores_, gsearch7.best_params_, gsearch7.best_score_"
   ]
  },
  {
   "cell_type": "code",
   "execution_count": null,
   "metadata": {
    "collapsed": true,
    "scrolled": true
   },
   "outputs": [],
   "source": [
    "xgb3 = xgb.XGBClassifier(\n",
    " learning_rate =0.1,\n",
    " n_estimators=1000,\n",
    " max_depth=2,\n",
    " min_child_weight=3.5,\n",
    " gamma=1.3,\n",
    " subsample=0.75,\n",
    " colsample_bytree=0.4,\n",
    " reg_alpha=3e-06,\n",
    " objective= 'binary:logistic',\n",
    " nthread=8,\n",
    " scale_pos_weight=1,\n",
    " seed=27)\n",
    "modelfit(xgb3, ensemble_val, y_val['is_iceberg'], ensemble_train, y_train['is_iceberg'])"
   ]
  },
  {
   "cell_type": "code",
   "execution_count": null,
   "metadata": {
    "collapsed": true
   },
   "outputs": [],
   "source": [
    "xgb4 = xgb.XGBClassifier(\n",
    " learning_rate =0.01,\n",
    " n_estimators=1000,\n",
    " max_depth=2,\n",
    " min_child_weight=3.5,\n",
    " gamma=1.3,\n",
    " subsample=0.75,\n",
    " colsample_bytree=0.4,\n",
    " reg_alpha=3e-06,\n",
    " objective= 'binary:logistic',\n",
    " nthread=8,\n",
    " scale_pos_weight=1,\n",
    " seed=27)\n",
    "modelfit(xgb4, ensemble_val, y_val['is_iceberg'], ensemble_train, y_train['is_iceberg'])"
   ]
  },
  {
   "cell_type": "code",
   "execution_count": null,
   "metadata": {
    "collapsed": true
   },
   "outputs": [],
   "source": [
    "xgb5 = xgb.XGBClassifier(\n",
    " learning_rate =0.03,\n",
    " n_estimators=1000,\n",
    " max_depth=5,\n",
    " min_child_weight=3.5,\n",
    " gamma=0.0,\n",
    " subsample=0.8,\n",
    " colsample_bytree=0.8,\n",
    " reg_alpha=1,\n",
    " objective= 'binary:logistic',\n",
    " nthread=8,\n",
    " scale_pos_weight=1,\n",
    " seed=27)\n",
    "modelfit(xgb5, ensemble_train, y_train['is_iceberg'], ensemble_val, y_val['is_iceberg'])"
   ]
  },
  {
   "cell_type": "code",
   "execution_count": null,
   "metadata": {
    "collapsed": true
   },
   "outputs": [],
   "source": [
    "with open('models/modelXgb4.pickle', 'wb') as handle:\n",
    "    pickle.dump(xgb4, handle, protocol=pickle.HIGHEST_PROTOCOL)"
   ]
  },
  {
   "cell_type": "code",
   "execution_count": null,
   "metadata": {
    "collapsed": true
   },
   "outputs": [],
   "source": [
    "#with open('models/modelXgb4.pickle', 'rb') as handle:\n",
    "#    xgb4 = pickle.load(handle)"
   ]
  },
  {
   "cell_type": "markdown",
   "metadata": {},
   "source": [
    "### Predictions"
   ]
  },
  {
   "cell_type": "code",
   "execution_count": null,
   "metadata": {
    "collapsed": true
   },
   "outputs": [],
   "source": [
    "#use model\n",
    "#model_object_path = \"models\\\\model.CNN_2017_12_19_v15_2017_12_21_15_54_42.hdf5\"\n",
    "#model_best_weights_path = \"models\\\\weights.CNN_2017_12_19_v15_2017_12_21_15_54_42.hdf5\""
   ]
  },
  {
   "cell_type": "code",
   "execution_count": null,
   "metadata": {
    "collapsed": true
   },
   "outputs": [],
   "source": [
    "#model_f = load_model(model_object_path)"
   ]
  },
  {
   "cell_type": "code",
   "execution_count": null,
   "metadata": {
    "collapsed": true,
    "scrolled": true
   },
   "outputs": [],
   "source": [
    "#model_f.load_weights(model_best_weights_path)"
   ]
  },
  {
   "cell_type": "code",
   "execution_count": null,
   "metadata": {
    "collapsed": true,
    "scrolled": true
   },
   "outputs": [],
   "source": [
    "#model_f.evaluate_generator(datagen_angle_val.flow(X_val, y_val, batch_size=32, shuffle=False), \n",
    "#                          steps = len(X_val)/32)"
   ]
  },
  {
   "cell_type": "code",
   "execution_count": null,
   "metadata": {
    "collapsed": true
   },
   "outputs": [],
   "source": []
  },
  {
   "cell_type": "code",
   "execution_count": null,
   "metadata": {
    "collapsed": true
   },
   "outputs": [],
   "source": [
    "test_df = pd.read_json(\"Data/test/test.json\")"
   ]
  },
  {
   "cell_type": "code",
   "execution_count": null,
   "metadata": {
    "collapsed": true,
    "scrolled": false
   },
   "outputs": [],
   "source": [
    "test_df.head()"
   ]
  },
  {
   "cell_type": "code",
   "execution_count": null,
   "metadata": {
    "collapsed": true,
    "scrolled": true
   },
   "outputs": [],
   "source": [
    "test_df['inc_angle_f'] = pd.to_numeric(test_df['inc_angle'], errors='coerce')\n",
    "print(\"missing values in inc_angle: \", test_df['inc_angle_f'].isnull().sum())\n",
    "test_df['inc_angle_f'].replace(np.nan,0, inplace=True)\n",
    "test_df.tail()"
   ]
  },
  {
   "cell_type": "code",
   "execution_count": null,
   "metadata": {
    "collapsed": true
   },
   "outputs": [],
   "source": [
    "t_band_1, t_band_2, t_band_1_t, t_band_2_t, t_band_3, X_test = get_bands(test_df)\n",
    "y_angle_test = test_df.loc[:,['is_iceberg','inc_angle_f']]\n",
    "y_angle_test['index'] = y_angle_test.index"
   ]
  },
  {
   "cell_type": "code",
   "execution_count": null,
   "metadata": {
    "collapsed": true
   },
   "outputs": [],
   "source": [
    "X_test.shape"
   ]
  },
  {
   "cell_type": "code",
   "execution_count": null,
   "metadata": {
    "collapsed": true
   },
   "outputs": [],
   "source": [
    "X_train.shape"
   ]
  },
  {
   "cell_type": "code",
   "execution_count": null,
   "metadata": {
    "collapsed": true,
    "scrolled": true
   },
   "outputs": [],
   "source": [
    "X_tt = np.append(X_test,X_train, axis=0)\n",
    "X_tt.shape"
   ]
  },
  {
   "cell_type": "code",
   "execution_count": null,
   "metadata": {
    "collapsed": true,
    "scrolled": true
   },
   "outputs": [],
   "source": [
    "y_angle_tt = pd.concat([y_angle_test,y_train])\n",
    "len(y_angle_tt)"
   ]
  },
  {
   "cell_type": "code",
   "execution_count": null,
   "metadata": {
    "collapsed": true
   },
   "outputs": [],
   "source": [
    "del(band_1)"
   ]
  },
  {
   "cell_type": "code",
   "execution_count": null,
   "metadata": {
    "collapsed": true
   },
   "outputs": [],
   "source": [
    "del(band_1_t)"
   ]
  },
  {
   "cell_type": "code",
   "execution_count": null,
   "metadata": {
    "collapsed": true
   },
   "outputs": [],
   "source": [
    "del(band_2)"
   ]
  },
  {
   "cell_type": "code",
   "execution_count": null,
   "metadata": {
    "collapsed": true
   },
   "outputs": [],
   "source": [
    "del(band_2_t)"
   ]
  },
  {
   "cell_type": "code",
   "execution_count": null,
   "metadata": {
    "collapsed": true
   },
   "outputs": [],
   "source": [
    "del(band_3)"
   ]
  },
  {
   "cell_type": "code",
   "execution_count": null,
   "metadata": {
    "collapsed": true
   },
   "outputs": [],
   "source": [
    "#del(X_train_sample)"
   ]
  },
  {
   "cell_type": "code",
   "execution_count": null,
   "metadata": {
    "collapsed": true
   },
   "outputs": [],
   "source": [
    "del(xgb1)"
   ]
  },
  {
   "cell_type": "code",
   "execution_count": null,
   "metadata": {
    "collapsed": true
   },
   "outputs": [],
   "source": [
    "del(xgb2)"
   ]
  },
  {
   "cell_type": "code",
   "execution_count": null,
   "metadata": {
    "collapsed": true
   },
   "outputs": [],
   "source": [
    "del(xgb3)"
   ]
  },
  {
   "cell_type": "code",
   "execution_count": null,
   "metadata": {
    "collapsed": true
   },
   "outputs": [],
   "source": [
    "#del(train_df)"
   ]
  },
  {
   "cell_type": "code",
   "execution_count": null,
   "metadata": {
    "collapsed": true
   },
   "outputs": [],
   "source": [
    "del(t_band_1,t_band_2,t_band_1_t, t_band_2_t, t_band_3)\n",
    "del(test_df)"
   ]
  },
  {
   "cell_type": "markdown",
   "metadata": {},
   "source": [
    "### Training denoising model on train and test data - warm start"
   ]
  },
  {
   "cell_type": "code",
   "execution_count": null,
   "metadata": {
    "collapsed": true,
    "scrolled": true
   },
   "outputs": [],
   "source": [
    "lScheduler_denoising = LScheduler(initial_lrate=0.001, drop=0.66, patience=5)\n",
    "lrScheduler_denosing = LearningRateScheduler(lScheduler_denoising.step_decay)\n",
    "#model training\n",
    "start_time = time.monotonic()\n",
    "\n",
    "H = model_denoise.fit_generator(datagen_denoising.flow(X_tt, y_angle_tt, batch_size=8),\n",
    "                    steps_per_epoch=len(X_tt)/8,\n",
    "                    validation_data=datagen_denoising_val.flow(X_tt, y_angle_tt, batch_size=8, shuffle=False), \n",
    "                    validation_steps=len(X_tt)/8,\n",
    "                    #validation_data=[X_val,y_val],\n",
    "                    epochs=10,\n",
    "                    callbacks = [lrScheduler_denosing])\n",
    "\n",
    "model_time = time.monotonic() - start_time\n",
    "print(\"Model training time: \" + '{:d}'.format(int(model_time // 60)) + \" minutes \" \n",
    "      + '{:.1f}'.format(model_time % 60) + \" seconds\")"
   ]
  },
  {
   "cell_type": "code",
   "execution_count": null,
   "metadata": {
    "collapsed": true
   },
   "outputs": [],
   "source": [
    "# serialize weights to HDF5\n",
    "model_weights = model_denoise.get_weights()\n",
    "with open('models/model_denoise_weights_tt.pickle', 'wb') as handle:\n",
    "    pickle.dump(model_weights, handle, protocol=pickle.HIGHEST_PROTOCOL)"
   ]
  },
  {
   "cell_type": "markdown",
   "metadata": {},
   "source": [
    "### training on the whole dataset"
   ]
  },
  {
   "cell_type": "code",
   "execution_count": null,
   "metadata": {
    "collapsed": true
   },
   "outputs": [],
   "source": []
  },
  {
   "cell_type": "code",
   "execution_count": null,
   "metadata": {
    "collapsed": true,
    "scrolled": true
   },
   "outputs": [],
   "source": [
    "ensemble_all = get_ensemble_predictions(X, y_angle, modelEnsemble)"
   ]
  },
  {
   "cell_type": "code",
   "execution_count": null,
   "metadata": {
    "collapsed": true
   },
   "outputs": [],
   "source": [
    "xgb4 = xgb.XGBClassifier(\n",
    " learning_rate =0.0325,\n",
    " n_estimators=1000,\n",
    " max_depth=3,\n",
    " min_child_weight=6.5,\n",
    " gamma=0.0,\n",
    " subsample=0.8,\n",
    " colsample_bytree=0.85,\n",
    " reg_alpha=3e-03,\n",
    " objective= 'binary:logistic',\n",
    " nthread=8,\n",
    " scale_pos_weight=1,\n",
    " seed=27)\n",
    "modelfit(xgb4, ensemble_all, y_angle['is_iceberg'], ensemble_train, y_train['is_iceberg'])"
   ]
  },
  {
   "cell_type": "markdown",
   "metadata": {},
   "source": [
    "### Pseudo labeling"
   ]
  },
  {
   "cell_type": "code",
   "execution_count": null,
   "metadata": {
    "collapsed": true
   },
   "outputs": [],
   "source": [
    "#del(X_train,y_train)"
   ]
  },
  {
   "cell_type": "code",
   "execution_count": null,
   "metadata": {
    "collapsed": true
   },
   "outputs": [],
   "source": [
    "#del(data)"
   ]
  },
  {
   "cell_type": "code",
   "execution_count": null,
   "metadata": {
    "collapsed": true
   },
   "outputs": [],
   "source": [
    "#del(y_train_sample)"
   ]
  },
  {
   "cell_type": "code",
   "execution_count": null,
   "metadata": {
    "collapsed": true
   },
   "outputs": [],
   "source": [
    "#del(X_tt, y_angle_tt)"
   ]
  },
  {
   "cell_type": "code",
   "execution_count": null,
   "metadata": {
    "collapsed": true
   },
   "outputs": [],
   "source": [
    "#del(modelEnsemble2)"
   ]
  },
  {
   "cell_type": "code",
   "execution_count": null,
   "metadata": {
    "collapsed": true
   },
   "outputs": [],
   "source": [
    "#del(H,H2)"
   ]
  },
  {
   "cell_type": "code",
   "execution_count": null,
   "metadata": {
    "collapsed": true
   },
   "outputs": [],
   "source": [
    "#del(X,y,y_angle)"
   ]
  },
  {
   "cell_type": "code",
   "execution_count": null,
   "metadata": {
    "collapsed": true
   },
   "outputs": [],
   "source": [
    "#del(ensemble_val, ensemble_train)"
   ]
  },
  {
   "cell_type": "code",
   "execution_count": null,
   "metadata": {
    "collapsed": true
   },
   "outputs": [],
   "source": [
    "#idx = 0\n",
    "#for model in modelEnsemble.models:\n",
    "#    pred = get_prediction(model_f, model[2], X_test, y_angle_test)[:X.shape[0]]\n",
    "#    pred = np.array(pred)\n",
    "#    dataset_name = 'ensemble_data_%02d' % idx\n",
    "#    with h5py.File('tmp_data/ensemble_test_data.hd5', 'w') as hf:\n",
    "#        hf.create_dataset(dataset_name,  data=pred)"
   ]
  },
  {
   "cell_type": "code",
   "execution_count": null,
   "metadata": {
    "collapsed": true,
    "scrolled": false
   },
   "outputs": [],
   "source": [
    "#ensemble_test = get_ensemble_predictions(X_test, y_angle_test, modelEnsemble)\n",
    "#ensemble_test.shape"
   ]
  },
  {
   "cell_type": "code",
   "execution_count": null,
   "metadata": {
    "collapsed": true
   },
   "outputs": [],
   "source": [
    "#pseudo_labels = xgb4.predict(ensemble_test)\n",
    "#test_probs = xgb4.predict_proba(ensemble_test)\n",
    "#predictions = test_probs"
   ]
  },
  {
   "cell_type": "code",
   "execution_count": null,
   "metadata": {
    "collapsed": true
   },
   "outputs": [],
   "source": [
    "#y_angle_test.count()"
   ]
  },
  {
   "cell_type": "code",
   "execution_count": null,
   "metadata": {
    "collapsed": true
   },
   "outputs": [],
   "source": [
    "#y_angle_test['is_iceberg'] = pseudo_labels\n",
    "#y_angle_tt = y_angle_test.append(y_train)\n",
    "#y_angle_tt.count()"
   ]
  },
  {
   "cell_type": "markdown",
   "metadata": {},
   "source": [
    "### Training on pseudo labels"
   ]
  },
  {
   "cell_type": "code",
   "execution_count": null,
   "metadata": {
    "collapsed": true
   },
   "outputs": [],
   "source": [
    "#lScheduler = LScheduler(initial_lrate=0.00001, drop=0.66, patience=5)\n",
    "#callbacks = [LearningRateScheduler(lScheduler.step_decay)]"
   ]
  },
  {
   "cell_type": "code",
   "execution_count": null,
   "metadata": {
    "collapsed": true
   },
   "outputs": [],
   "source": [
    "##model training\n",
    "#start_time = time.monotonic()\n",
    "#\n",
    "#H = model_f.fit_generator(datagen_angle.flow(X_tt, y_angle_tt, batch_size=32),\n",
    "#                    steps_per_epoch=len(X_test)/32,\n",
    "#                    validation_data=datagen_angle_val.flow(X_val, y_val, batch_size=32, shuffle=False), \n",
    "#                    validation_steps=len(X_val)/16,\n",
    "#                    #validation_data=[X_val,y_val],\n",
    "#                    epochs=10, callbacks=callbacks)\n",
    "#\n",
    "#model_time = time.monotonic() - start_time\n",
    "#print(\"Model training time: \" + '{:d}'.format(int(model_time // 60)) + \" minutes \" \n",
    "#      + '{:.1f}'.format(model_time % 60) + \" seconds\")"
   ]
  },
  {
   "cell_type": "code",
   "execution_count": null,
   "metadata": {
    "collapsed": true
   },
   "outputs": [],
   "source": [
    "#predictions = model_f.predict_generator(datagen_angle_val.flow(X_test, y_angle_test, batch_size=32, shuffle=False), \n",
    "#                           steps = len(X_test)/31, verbose=1)"
   ]
  },
  {
   "cell_type": "code",
   "execution_count": null,
   "metadata": {
    "collapsed": true
   },
   "outputs": [],
   "source": []
  },
  {
   "cell_type": "code",
   "execution_count": null,
   "metadata": {
    "collapsed": true
   },
   "outputs": [],
   "source": [
    "#test_df.count()"
   ]
  },
  {
   "cell_type": "code",
   "execution_count": null,
   "metadata": {
    "collapsed": true
   },
   "outputs": [],
   "source": [
    "#len(predictions[:8424])"
   ]
  },
  {
   "cell_type": "code",
   "execution_count": null,
   "metadata": {
    "collapsed": true
   },
   "outputs": [],
   "source": [
    "#submission = pd.DataFrame({'id': test_df['id'], 'is_iceberg': predictions[:8424].reshape(-1)})\n",
    "#submission.head(10)"
   ]
  },
  {
   "cell_type": "code",
   "execution_count": null,
   "metadata": {
    "collapsed": true
   },
   "outputs": [],
   "source": [
    "#submission.to_csv(\"submission.v24.csv\", index=False)"
   ]
  },
  {
   "cell_type": "code",
   "execution_count": null,
   "metadata": {
    "collapsed": true
   },
   "outputs": [],
   "source": []
  }
 ],
 "metadata": {
  "anaconda-cloud": {},
  "kernelspec": {
   "display_name": "Python 3",
   "language": "python",
   "name": "python3"
  },
  "language_info": {
   "codemirror_mode": {
    "name": "ipython",
    "version": 3
   },
   "file_extension": ".py",
   "mimetype": "text/x-python",
   "name": "python",
   "nbconvert_exporter": "python",
   "pygments_lexer": "ipython3",
   "version": "3.5.4"
  }
 },
 "nbformat": 4,
 "nbformat_minor": 1
}
