{
 "cells": [
  {
   "cell_type": "markdown",
   "metadata": {},
   "source": [
    "### Imports"
   ]
  },
  {
   "cell_type": "code",
   "execution_count": 1,
   "metadata": {
    "scrolled": true
   },
   "outputs": [
    {
     "name": "stderr",
     "output_type": "stream",
     "text": [
      "D:\\Anaconda3\\envs\\tf-gpu\\lib\\site-packages\\sklearn\\cross_validation.py:44: DeprecationWarning: This module was deprecated in version 0.18 in favor of the model_selection module into which all the refactored classes and functions are moved. Also note that the interface of the new CV iterators are different from that of this module. This module will be removed in 0.20.\n",
      "  \"This module will be removed in 0.20.\", DeprecationWarning)\n",
      "Using TensorFlow backend.\n"
     ]
    }
   ],
   "source": [
    "import numpy as np\n",
    "import pandas as pd\n",
    "import time\n",
    "import matplotlib.pyplot as plt\n",
    "import os\n",
    "import math\n",
    "import pickle\n",
    "import datetime\n",
    "import heapq\n",
    "import xgboost as xgb\n",
    "import h5py\n",
    "from tqdm import tqdm_notebook as tqdm\n",
    "\n",
    "from keras import backend as K\n",
    "from keras.models import Model, load_model\n",
    "from keras.layers import Dense, Activation, Conv2D, MaxPooling2D, Reshape, Lambda, ZeroPadding2D, GaussianNoise, AlphaDropout, Input, Concatenate\n",
    "from keras.layers.core import Flatten, Dropout\n",
    "from keras.optimizers import Adam, SGD\n",
    "from keras.layers.normalization import BatchNormalization\n",
    "from keras.preprocessing.image import ImageDataGenerator\n",
    "from keras.callbacks import ModelCheckpoint, Callback, EarlyStopping, ReduceLROnPlateau, LearningRateScheduler\n",
    "from keras.utils import to_categorical, normalize\n",
    "from keras.models import model_from_json\n",
    "from keras_tqdm import TQDMNotebookCallback\n",
    "\n",
    "from sklearn.model_selection import train_test_split, GridSearchCV\n",
    "from sklearn import metrics\n",
    "import tensorflow as tf\n",
    "\n",
    "from scipy import ndimage\n",
    "from skimage.morphology import reconstruction\n",
    "from skimage.restoration import denoise_wavelet, denoise_tv_chambolle, denoise_nl_means\n",
    "\n",
    "from cyclicLR_callback import CyclicLR\n",
    "\n",
    "random_seed = 54321\n",
    "np.random.seed(random_seed)\n",
    "cwd = os.getcwd()\n",
    "#for windows\n",
    "model_path = cwd + '\\\\models\\\\'"
   ]
  },
  {
   "cell_type": "code",
   "execution_count": 2,
   "metadata": {},
   "outputs": [
    {
     "data": {
      "text/plain": [
       "'2.1.2'"
      ]
     },
     "execution_count": 2,
     "metadata": {},
     "output_type": "execute_result"
    }
   ],
   "source": [
    "import keras\n",
    "keras.__version__"
   ]
  },
  {
   "cell_type": "markdown",
   "metadata": {},
   "source": [
    "Manually create tensorflow session to avoid potential OEM errors on laptop's GPU."
   ]
  },
  {
   "cell_type": "code",
   "execution_count": 3,
   "metadata": {
    "collapsed": true
   },
   "outputs": [],
   "source": [
    "tf.set_random_seed(random_seed)\n",
    "config = tf.ConfigProto()\n",
    "config.gpu_options.allow_growth = True\n",
    "session = tf.Session(config=config)\n",
    "K.set_session(session)\n",
    "K.set_image_dim_ordering('tf')"
   ]
  },
  {
   "cell_type": "code",
   "execution_count": 4,
   "metadata": {},
   "outputs": [
    {
     "name": "stderr",
     "output_type": "stream",
     "text": [
      "'nvidia-smi' is not recognized as an internal or external command,\n",
      "operable program or batch file.\n"
     ]
    }
   ],
   "source": [
    "!nvidia-smi"
   ]
  },
  {
   "cell_type": "markdown",
   "metadata": {},
   "source": [
    "### Load Data"
   ]
  },
  {
   "cell_type": "code",
   "execution_count": 5,
   "metadata": {
    "collapsed": true
   },
   "outputs": [],
   "source": [
    "data = pd.read_json(\"Data/train/train.json\", orient='records')\n",
    "data.head()\n",
    "train_df = data"
   ]
  },
  {
   "cell_type": "code",
   "execution_count": 6,
   "metadata": {
    "scrolled": true
   },
   "outputs": [
    {
     "name": "stdout",
     "output_type": "stream",
     "text": [
      "<class 'pandas.core.frame.DataFrame'>\n",
      "RangeIndex: 1604 entries, 0 to 1603\n",
      "Data columns (total 5 columns):\n",
      "band_1        1604 non-null object\n",
      "band_2        1604 non-null object\n",
      "id            1604 non-null object\n",
      "inc_angle     1604 non-null object\n",
      "is_iceberg    1604 non-null int64\n",
      "dtypes: int64(1), object(4)\n",
      "memory usage: 62.7+ KB\n"
     ]
    }
   ],
   "source": [
    "data.info()"
   ]
  },
  {
   "cell_type": "markdown",
   "metadata": {},
   "source": [
    "### Missing values"
   ]
  },
  {
   "cell_type": "code",
   "execution_count": 7,
   "metadata": {
    "scrolled": true
   },
   "outputs": [
    {
     "name": "stdout",
     "output_type": "stream",
     "text": [
      "missing values in inc_angle:  133\n"
     ]
    },
    {
     "data": {
      "text/html": [
       "<div>\n",
       "<style>\n",
       "    .dataframe thead tr:only-child th {\n",
       "        text-align: right;\n",
       "    }\n",
       "\n",
       "    .dataframe thead th {\n",
       "        text-align: left;\n",
       "    }\n",
       "\n",
       "    .dataframe tbody tr th {\n",
       "        vertical-align: top;\n",
       "    }\n",
       "</style>\n",
       "<table border=\"1\" class=\"dataframe\">\n",
       "  <thead>\n",
       "    <tr style=\"text-align: right;\">\n",
       "      <th></th>\n",
       "      <th>band_1</th>\n",
       "      <th>band_2</th>\n",
       "      <th>id</th>\n",
       "      <th>inc_angle</th>\n",
       "      <th>is_iceberg</th>\n",
       "      <th>inc_angle_f</th>\n",
       "    </tr>\n",
       "  </thead>\n",
       "  <tbody>\n",
       "    <tr>\n",
       "      <th>1599</th>\n",
       "      <td>[-30.999878, -29.976866, -28.233906, -29.50732...</td>\n",
       "      <td>[-27.847719, -28.233864, -24.712077999999998, ...</td>\n",
       "      <td>04e11240</td>\n",
       "      <td>na</td>\n",
       "      <td>0</td>\n",
       "      <td>0.0</td>\n",
       "    </tr>\n",
       "    <tr>\n",
       "      <th>1600</th>\n",
       "      <td>[-25.31155, -26.511555, -28.694487, -27.180115...</td>\n",
       "      <td>[-29.563713, -28.290375, -26.839405, -28.29046...</td>\n",
       "      <td>c7d6f6f8</td>\n",
       "      <td>na</td>\n",
       "      <td>0</td>\n",
       "      <td>0.0</td>\n",
       "    </tr>\n",
       "    <tr>\n",
       "      <th>1601</th>\n",
       "      <td>[-18.141895, -18.141844, -19.01737, -19.701599...</td>\n",
       "      <td>[-25.305355, -29.387701, -28.963863, -26.16023...</td>\n",
       "      <td>bba1a0f1</td>\n",
       "      <td>na</td>\n",
       "      <td>0</td>\n",
       "      <td>0.0</td>\n",
       "    </tr>\n",
       "    <tr>\n",
       "      <th>1602</th>\n",
       "      <td>[-22.455633, -25.794661, -26.954567, -22.83354...</td>\n",
       "      <td>[-26.070356, -22.093737, -21.577662, -24.53376...</td>\n",
       "      <td>7f66bb44</td>\n",
       "      <td>na</td>\n",
       "      <td>0</td>\n",
       "      <td>0.0</td>\n",
       "    </tr>\n",
       "    <tr>\n",
       "      <th>1603</th>\n",
       "      <td>[-19.909191, -20.678406, -20.208834, -18.42441...</td>\n",
       "      <td>[-24.44487, -24.956001, -27.722103, -26.078417...</td>\n",
       "      <td>9d8f326c</td>\n",
       "      <td>na</td>\n",
       "      <td>0</td>\n",
       "      <td>0.0</td>\n",
       "    </tr>\n",
       "  </tbody>\n",
       "</table>\n",
       "</div>"
      ],
      "text/plain": [
       "                                                 band_1  \\\n",
       "1599  [-30.999878, -29.976866, -28.233906, -29.50732...   \n",
       "1600  [-25.31155, -26.511555, -28.694487, -27.180115...   \n",
       "1601  [-18.141895, -18.141844, -19.01737, -19.701599...   \n",
       "1602  [-22.455633, -25.794661, -26.954567, -22.83354...   \n",
       "1603  [-19.909191, -20.678406, -20.208834, -18.42441...   \n",
       "\n",
       "                                                 band_2        id inc_angle  \\\n",
       "1599  [-27.847719, -28.233864, -24.712077999999998, ...  04e11240        na   \n",
       "1600  [-29.563713, -28.290375, -26.839405, -28.29046...  c7d6f6f8        na   \n",
       "1601  [-25.305355, -29.387701, -28.963863, -26.16023...  bba1a0f1        na   \n",
       "1602  [-26.070356, -22.093737, -21.577662, -24.53376...  7f66bb44        na   \n",
       "1603  [-24.44487, -24.956001, -27.722103, -26.078417...  9d8f326c        na   \n",
       "\n",
       "      is_iceberg  inc_angle_f  \n",
       "1599           0          0.0  \n",
       "1600           0          0.0  \n",
       "1601           0          0.0  \n",
       "1602           0          0.0  \n",
       "1603           0          0.0  "
      ]
     },
     "execution_count": 7,
     "metadata": {},
     "output_type": "execute_result"
    }
   ],
   "source": [
    "train_df['inc_angle_f'] = pd.to_numeric(train_df['inc_angle'], errors='coerce')\n",
    "print(\"missing values in inc_angle: \", train_df['inc_angle_f'].isnull().sum())\n",
    "#train_df['inc_angle_f'].replace(np.nan,train_df['inc_angle_f'].mean(), inplace=True)\n",
    "train_df['inc_angle_f'].replace(np.nan,0, inplace=True)\n",
    "train_df.tail()"
   ]
  },
  {
   "cell_type": "markdown",
   "metadata": {},
   "source": [
    "### Transform for NN"
   ]
  },
  {
   "cell_type": "code",
   "execution_count": 8,
   "metadata": {
    "collapsed": true
   },
   "outputs": [],
   "source": [
    "def get_bands(train_df):\n",
    "    max_col = np.array(train_df.apply(lambda x: max((max(train_df.loc[x.name,'band_1']),max(train_df.loc[x.name,'band_2']))),axis=1)) - 10\n",
    "    max_col2 = max_col.reshape(-1,1) * np.ones(75*75).reshape(1,75*75)\n",
    "    max_col2 = max_col2.reshape(-1,75,75)\n",
    "\n",
    "    band_1 = np.array(train_df['band_1'].tolist()).reshape(-1,75,75) - max_col2\n",
    "    band_2 = np.array(train_df['band_2'].tolist()).reshape(-1,75,75) - max_col2\n",
    "    band_1_t = 10**(band_1/10)\n",
    "    band_2_t = 10**(band_2/10)\n",
    "    band_1_t = np.where(band_1_t > 0.01, band_1_t, 0)\n",
    "    band_2_t = np.where(band_2_t > 0.01, band_2_t, 0)\n",
    "    band_3 = band_1_t - band_2_t\n",
    "    X = np.stack((band_1,band_2,band_1_t,band_2_t),axis=3)\n",
    "    \n",
    "    return band_1, band_2, band_1_t, band_2_t, band_3, X"
   ]
  },
  {
   "cell_type": "code",
   "execution_count": 9,
   "metadata": {},
   "outputs": [
    {
     "data": {
      "image/png": "[encoded data removed]",
      "text/plain": [
       "<matplotlib.figure.Figure at 0x24695decf28>"
      ]
     },
     "metadata": {},
     "output_type": "display_data"
    },
    {
     "data": {
      "image/png": "[encoded data removed]",
      "text/plain": [
       "<matplotlib.figure.Figure at 0x246a6aeacc0>"
      ]
     },
     "metadata": {},
     "output_type": "display_data"
    }
   ],
   "source": [
    "band_1, band_2, band_1_t, band_2_t, band_3, X = get_bands(train_df)\n",
    "plt.hist(band_1.flatten(), bins=200, color=\"red\", alpha=0.4)\n",
    "plt.hist(band_2.flatten(), bins=200, color=\"blue\", alpha=0.4)\n",
    "plt.show()\n",
    "\n",
    "plt.hist(band_1[train_df[train_df['is_iceberg']==0].index[:3]].flatten(), bins=50, color=\"orange\", alpha=0.4)\n",
    "plt.hist(band_1[train_df[train_df['is_iceberg']==1].index[:3]].flatten(), bins=50, color=\"green\", alpha=0.4)\n",
    "plt.show()"
   ]
  },
  {
   "cell_type": "code",
   "execution_count": 10,
   "metadata": {},
   "outputs": [
    {
     "data": {
      "image/png": "[encoded data removed]",
      "text/plain": [
       "<matplotlib.figure.Figure at 0x246fb77e5c0>"
      ]
     },
     "metadata": {},
     "output_type": "display_data"
    }
   ],
   "source": [
    "plt.hist(band_1_t.flatten(),bins=200, color=\"red\", alpha=0.4)\n",
    "plt.hist(band_2_t.flatten(),bins=200, color=\"blue\", alpha=0.4)\n",
    "plt.yscale('log')\n",
    "plt.xscale('log')\n",
    "plt.show()"
   ]
  },
  {
   "cell_type": "code",
   "execution_count": 11,
   "metadata": {},
   "outputs": [
    {
     "data": {
      "image/png": "[encoded data removed]",
      "text/plain": [
       "<matplotlib.figure.Figure at 0x246a6ad0710>"
      ]
     },
     "metadata": {},
     "output_type": "display_data"
    }
   ],
   "source": [
    "plt.hist(band_3[train_df[train_df['is_iceberg']==0].index].flatten(), bins=50, color=\"orange\", alpha=0.4)\n",
    "plt.hist(band_3[train_df[train_df['is_iceberg']==1].index].flatten(), bins=50, color=\"green\", alpha=0.4)\n",
    "plt.yscale('log')\n",
    "plt.xscale('log')\n",
    "plt.show()"
   ]
  },
  {
   "cell_type": "code",
   "execution_count": 12,
   "metadata": {
    "scrolled": false
   },
   "outputs": [
    {
     "data": {
      "image/png": "[encoded data removed]",
      "text/plain": [
       "<matplotlib.figure.Figure at 0x246a6b268d0>"
      ]
     },
     "metadata": {},
     "output_type": "display_data"
    },
    {
     "data": {
      "image/png": "[encoded data removed]",
      "text/plain": [
       "<matplotlib.figure.Figure at 0x246a6b26438>"
      ]
     },
     "metadata": {},
     "output_type": "display_data"
    }
   ],
   "source": [
    "def plot_bands(index, cmap=\"gray\"):\n",
    "    fig = plt.figure(figsize=(12,6))\n",
    "    fig.suptitle(\"Is Iceberg: %x\" % (train_df.loc[index,'is_iceberg']), fontsize=16)\n",
    "    ax1 = fig.add_subplot(251)\n",
    "    ax1.set_title(\"Band 1\")\n",
    "    ax1.imshow(band_1[index], cmap=cmap)\n",
    "    ax2 = fig.add_subplot(252)\n",
    "    ax2.set_title(\"Band 2\")\n",
    "    ax2.imshow(band_2[index], cmap=cmap)\n",
    "    ax3 = fig.add_subplot(253)\n",
    "    ax3.set_title(\"Band 1 t\")\n",
    "    ax3.imshow(band_1_t[index], cmap=cmap)\n",
    "    ax3 = fig.add_subplot(254)\n",
    "    ax3.set_title(\"Band 2 t\")\n",
    "    ax3.imshow(band_2_t[index], cmap=cmap)\n",
    "    ax3 = fig.add_subplot(255)\n",
    "    ax3.set_title(\"Band 3\")\n",
    "    ax3.imshow(band_3[index], cmap=cmap)\n",
    "    fig.tight_layout(rect=[0, 0.03, 1, 0.95])\n",
    "    plt.show()\n",
    "\n",
    "plot_bands(0,cmap=\"inferno\")\n",
    "plot_bands(2,cmap=\"inferno\")\n"
   ]
  },
  {
   "cell_type": "code",
   "execution_count": 13,
   "metadata": {
    "collapsed": true,
    "scrolled": true
   },
   "outputs": [],
   "source": [
    "y = train_df.loc[:,'is_iceberg']\n",
    "y_angle = train_df.loc[:,['is_iceberg','inc_angle_f']]\n",
    "y_angle['index'] = y_angle.index"
   ]
  },
  {
   "cell_type": "code",
   "execution_count": 14,
   "metadata": {},
   "outputs": [
    {
     "data": {
      "text/html": [
       "<div>\n",
       "<style>\n",
       "    .dataframe thead tr:only-child th {\n",
       "        text-align: right;\n",
       "    }\n",
       "\n",
       "    .dataframe thead th {\n",
       "        text-align: left;\n",
       "    }\n",
       "\n",
       "    .dataframe tbody tr th {\n",
       "        vertical-align: top;\n",
       "    }\n",
       "</style>\n",
       "<table border=\"1\" class=\"dataframe\">\n",
       "  <thead>\n",
       "    <tr style=\"text-align: right;\">\n",
       "      <th></th>\n",
       "      <th>is_iceberg</th>\n",
       "      <th>inc_angle_f</th>\n",
       "      <th>index</th>\n",
       "    </tr>\n",
       "  </thead>\n",
       "  <tbody>\n",
       "    <tr>\n",
       "      <th>0</th>\n",
       "      <td>0</td>\n",
       "      <td>43.9239</td>\n",
       "      <td>0</td>\n",
       "    </tr>\n",
       "    <tr>\n",
       "      <th>1</th>\n",
       "      <td>0</td>\n",
       "      <td>38.1562</td>\n",
       "      <td>1</td>\n",
       "    </tr>\n",
       "    <tr>\n",
       "      <th>2</th>\n",
       "      <td>1</td>\n",
       "      <td>45.2859</td>\n",
       "      <td>2</td>\n",
       "    </tr>\n",
       "    <tr>\n",
       "      <th>3</th>\n",
       "      <td>0</td>\n",
       "      <td>43.8306</td>\n",
       "      <td>3</td>\n",
       "    </tr>\n",
       "    <tr>\n",
       "      <th>4</th>\n",
       "      <td>0</td>\n",
       "      <td>35.6256</td>\n",
       "      <td>4</td>\n",
       "    </tr>\n",
       "  </tbody>\n",
       "</table>\n",
       "</div>"
      ],
      "text/plain": [
       "   is_iceberg  inc_angle_f  index\n",
       "0           0      43.9239      0\n",
       "1           0      38.1562      1\n",
       "2           1      45.2859      2\n",
       "3           0      43.8306      3\n",
       "4           0      35.6256      4"
      ]
     },
     "execution_count": 14,
     "metadata": {},
     "output_type": "execute_result"
    }
   ],
   "source": [
    "y_angle.head()"
   ]
  },
  {
   "cell_type": "markdown",
   "metadata": {},
   "source": [
    "### Split into train test and validation sets"
   ]
  },
  {
   "cell_type": "code",
   "execution_count": 15,
   "metadata": {},
   "outputs": [
    {
     "name": "stdout",
     "output_type": "stream",
     "text": [
      "(1122, 75, 75, 4)\n",
      "(482, 75, 75, 4)\n"
     ]
    }
   ],
   "source": [
    "X_train, X_val, y_train, y_val = train_test_split(X, y_angle, test_size=0.3, random_state=random_seed)\n",
    "print(X_train.shape)\n",
    "print(X_val.shape)"
   ]
  },
  {
   "cell_type": "markdown",
   "metadata": {},
   "source": [
    "### Data augmentation"
   ]
  },
  {
   "cell_type": "code",
   "execution_count": 16,
   "metadata": {
    "scrolled": false
   },
   "outputs": [
    {
     "name": "stdout",
     "output_type": "stream",
     "text": [
      "(1122, 75, 75, 4)\n"
     ]
    }
   ],
   "source": [
    "X_train_sample = X_train[:]\n",
    "y_train_sample = y_train[:]\n",
    "print(X_train_sample.shape)\n",
    "\n",
    "datagen = ImageDataGenerator(\n",
    "    samplewise_center=False,\n",
    "    samplewise_std_normalization=False,\n",
    "    rotation_range=20,\n",
    "    horizontal_flip=True,\n",
    "    vertical_flip=True,\n",
    "    fill_mode='nearest')\n",
    "\n",
    "datagen_val = ImageDataGenerator(\n",
    "    samplewise_center=False,\n",
    "    samplewise_std_normalization=False,\n",
    "    rotation_range=0,\n",
    "    horizontal_flip=False,\n",
    "    vertical_flip=False,\n",
    "    fill_mode='nearest')\n",
    "\n",
    "#custom generator for fit_generator\n",
    "from collections import Generator\n",
    "class Datagen_angle(Generator):\n",
    "    def __init__(self, imagegen=ImageDataGenerator):\n",
    "        self.imagegen = imagegen\n",
    "        \n",
    "    def flow(self, x, y, batch_size=8, shuffle=True):\n",
    "        self.generator = self.imagegen.flow(x, y, batch_size=batch_size, shuffle=shuffle)\n",
    "        return self\n",
    "    \n",
    "    def send(self, ignored):\n",
    "        temp_data = next(self.generator)\n",
    "        temp_band_3 = temp_data[0][:,:,:,2] - temp_data[0][:,:,:,3] #band_1_t - band_2_t\n",
    "        temp_stacked1 = np.stack((temp_data[0][:,:,:,0],temp_data[0][:,:,:,1]),axis=3)\n",
    "        temp_stacked2 = np.stack((temp_data[0][:,:,:,2],temp_data[0][:,:,:,3],temp_band_3),axis=3)\n",
    "        nn_denoised_temp = temp_data[0] #pass 4 bands for nn denoising input\n",
    "        return [temp_stacked1, temp_stacked2, \n",
    "                nn_denoised_temp,\n",
    "                temp_data[1][:,1]], temp_data[1][:,0]\n",
    "    \n",
    "    def throw(self, type=None, value=None, traceback=None):\n",
    "        raise StopIteration\n",
    "    \n",
    "\n",
    "datagen.fit(X_train_sample)\n",
    "datagen_val.fit(X_val)\n",
    "\n",
    "datagen_angle = Datagen_angle(imagegen=datagen)\n",
    "datagen_angle_val = Datagen_angle(imagegen=datagen_val)\n"
   ]
  },
  {
   "cell_type": "markdown",
   "metadata": {},
   "source": [
    "### Learning rate scheduler and callback definition"
   ]
  },
  {
   "cell_type": "code",
   "execution_count": 17,
   "metadata": {
    "collapsed": true
   },
   "outputs": [],
   "source": [
    "# learning rate schedule\n",
    "class LScheduler:\n",
    "    def __init__(self, initial_lrate=0.001, drop=0.66, patience=5):\n",
    "        self.initial_lrate=initial_lrate\n",
    "        self.drop = drop\n",
    "        self.patience = patience\n",
    "\n",
    "    def step_decay(self,epoch):\n",
    "        initial_lrate = self.initial_lrate\n",
    "        drop = self.drop\n",
    "        patience = self.patience\n",
    "        lrate = initial_lrate * math.pow(drop, math.floor((1+epoch)/patience))\n",
    "        if math.fmod(epoch, patience) == 0:\n",
    "            print(\"Setting learning rate: \",lrate)\n",
    "        return lrate"
   ]
  },
  {
   "cell_type": "markdown",
   "metadata": {},
   "source": [
    "### Denoising"
   ]
  },
  {
   "cell_type": "code",
   "execution_count": 18,
   "metadata": {
    "collapsed": true
   },
   "outputs": [],
   "source": [
    "def denoising(img):\n",
    "    img_list = []\n",
    "    for i in range(4):\n",
    "        image = normalize(img[:,:,i])\n",
    "        img_list.append(ndimage.median_filter(image, 3))\n",
    "    return np.stack(img_list,axis=2)"
   ]
  },
  {
   "cell_type": "code",
   "execution_count": 19,
   "metadata": {
    "collapsed": true
   },
   "outputs": [],
   "source": [
    "def apply_over_axis(func, data, mask=None, axis=0, *args, **kwargs):\n",
    "    f_list = []\n",
    "    for i in range(data.shape[axis]):\n",
    "        if mask is None:\n",
    "            f_list.append(func(data[i], *args, **kwargs))\n",
    "        else:\n",
    "            f_list.append(func(data[i], mask=mask[i], *args, **kwargs))\n",
    "    return np.stack(f_list,axis=0)"
   ]
  },
  {
   "cell_type": "code",
   "execution_count": 20,
   "metadata": {
    "collapsed": true
   },
   "outputs": [],
   "source": [
    "#X_denoised = apply_over_axis(denoising, X)"
   ]
  },
  {
   "cell_type": "code",
   "execution_count": 21,
   "metadata": {
    "collapsed": true,
    "scrolled": true
   },
   "outputs": [],
   "source": [
    "#index=8\n",
    "#original_index = y_train_sample.iloc[index].name\n",
    "#cmap=\"inferno\"\n",
    "#fig = plt.figure(figsize=(12,6))\n",
    "#fig.suptitle(\"Denoising: is iceberg: %x\" % (y_train_sample.iloc[index,0]), fontsize=16)\n",
    "#ax1 = fig.add_subplot(251)\n",
    "#ax1.set_title(\"Before\")\n",
    "#ax1.imshow(X_train_sample[index][:,:,0], cmap=cmap)\n",
    "#ax2 = fig.add_subplot(252)\n",
    "#ax2.set_title(\"Denoised\")\n",
    "#ax2.imshow(X_denoised[original_index][:,:,0], cmap=cmap)\n",
    "#ax1 = fig.add_subplot(253)\n",
    "#ax1.set_title(\"Before - band 2\")\n",
    "#ax1.imshow(X_train_sample[index][:,:,1], cmap=cmap)\n",
    "#ax2 = fig.add_subplot(254)\n",
    "#ax2.set_title(\"Denoised - band 2\")\n",
    "#ax2.imshow(X_denoised[original_index][:,:,1], cmap=cmap)\n",
    "#plt.show()"
   ]
  },
  {
   "cell_type": "markdown",
   "metadata": {},
   "source": [
    "### NN denoising"
   ]
  },
  {
   "cell_type": "code",
   "execution_count": 22,
   "metadata": {
    "collapsed": true
   },
   "outputs": [],
   "source": [
    "#custom generator for denoising\n",
    "from collections import Generator\n",
    "class Datagen_denoising(Generator):\n",
    "    def __init__(self, imagegen=ImageDataGenerator):\n",
    "        self.imagegen = imagegen\n",
    "        \n",
    "    def flow(self, x, y, batch_size=8, shuffle=True):\n",
    "        self.generator = self.imagegen.flow(x, y, batch_size=batch_size, shuffle=shuffle)\n",
    "        return self\n",
    "    \n",
    "    def send(self, ignored):\n",
    "        temp_data = next(self.generator)\n",
    "        temp_stacked1 = np.stack((temp_data[0][:,:,:,0],temp_data[0][:,:,:,1]),axis=3)\n",
    "        temp_stacked = np.stack((temp_data[0][:,:,:,0],temp_data[0][:,:,:,1],temp_data[0][:,:,:,2],\n",
    "                                temp_data[0][:,:,:,3]),axis=3)\n",
    "        return temp_stacked, temp_stacked\n",
    "    \n",
    "    def throw(self, type=None, value=None, traceback=None):\n",
    "        raise StopIteration\n",
    "        \n",
    "datagen_denoising = Datagen_denoising(imagegen=datagen)\n",
    "datagen_denoising_val = Datagen_denoising(imagegen=datagen_val)"
   ]
  },
  {
   "cell_type": "code",
   "execution_count": 23,
   "metadata": {
    "collapsed": true
   },
   "outputs": [],
   "source": [
    "m_input = Input(shape=(75,75,4), name='m_input')\n",
    "\n",
    "#conv layers for main_input\n",
    "x1 = BatchNormalization()(m_input)\n",
    "x1 = ZeroPadding2D()(x1)\n",
    "x1 = Conv2D(8, (3,3), activation='relu')(x1)\n",
    "x1 = BatchNormalization()(x1)\n",
    "x1 = Dropout(0.2)(x1)\n",
    "x1 = ZeroPadding2D()(x1)\n",
    "x1 = Conv2D(8, (3,3), activation='relu')(x1)\n",
    "x1 = BatchNormalization()(x1)\n",
    "x1 = Dropout(0.2)(x1)\n",
    "x1 = ZeroPadding2D()(x1)\n",
    "m_output = Conv2D(4, (3,3), activation='linear', name='m_output')(x1)\n",
    "model_denoise = Model(inputs=[m_input,], outputs=[m_output], name='Model_nn_denoising')\n",
    "\n",
    "model_denoise.compile(optimizer=Adam(lr=0.1, beta_1=0.9, beta_2=0.999, epsilon=1e-08, decay=0),\n",
    "loss='mean_squared_error',\n",
    "metrics=['mae'])"
   ]
  },
  {
   "cell_type": "code",
   "execution_count": 24,
   "metadata": {
    "scrolled": true
   },
   "outputs": [
    {
     "name": "stdout",
     "output_type": "stream",
     "text": [
      "_________________________________________________________________\n",
      "Layer (type)                 Output Shape              Param #   \n",
      "=================================================================\n",
      "m_input (InputLayer)         (None, 75, 75, 4)         0         \n",
      "_________________________________________________________________\n",
      "batch_normalization_1 (Batch (None, 75, 75, 4)         16        \n",
      "_________________________________________________________________\n",
      "zero_padding2d_1 (ZeroPaddin (None, 77, 77, 4)         0         \n",
      "_________________________________________________________________\n",
      "conv2d_1 (Conv2D)            (None, 75, 75, 8)         296       \n",
      "_________________________________________________________________\n",
      "batch_normalization_2 (Batch (None, 75, 75, 8)         32        \n",
      "_________________________________________________________________\n",
      "dropout_1 (Dropout)          (None, 75, 75, 8)         0         \n",
      "_________________________________________________________________\n",
      "zero_padding2d_2 (ZeroPaddin (None, 77, 77, 8)         0         \n",
      "_________________________________________________________________\n",
      "conv2d_2 (Conv2D)            (None, 75, 75, 8)         584       \n",
      "_________________________________________________________________\n",
      "batch_normalization_3 (Batch (None, 75, 75, 8)         32        \n",
      "_________________________________________________________________\n",
      "dropout_2 (Dropout)          (None, 75, 75, 8)         0         \n",
      "_________________________________________________________________\n",
      "zero_padding2d_3 (ZeroPaddin (None, 77, 77, 8)         0         \n",
      "_________________________________________________________________\n",
      "m_output (Conv2D)            (None, 75, 75, 4)         292       \n",
      "=================================================================\n",
      "Total params: 1,252\n",
      "Trainable params: 1,212\n",
      "Non-trainable params: 40\n",
      "_________________________________________________________________\n"
     ]
    }
   ],
   "source": [
    "model_denoise.summary()"
   ]
  },
  {
   "cell_type": "code",
   "execution_count": 25,
   "metadata": {
    "scrolled": false
   },
   "outputs": [
    {
     "data": {
      "application/vnd.jupyter.widget-view+json": {
       "model_id": "8fec6e0aa7304fde9e25bb6c9217f72b",
       "version_major": 2,
       "version_minor": 0
      },
      "text/html": [
       "<p>Failed to display Jupyter Widget of type <code>HBox</code>.</p>\n",
       "<p>\n",
       "  If you're reading this message in the Jupyter Notebook or JupyterLab Notebook, it may mean\n",
       "  that the widgets JavaScript is still loading. If this message persists, it\n",
       "  likely means that the widgets JavaScript library is either not installed or\n",
       "  not enabled. See the <a href=\"https://ipywidgets.readthedocs.io/en/stable/user_install.html\">Jupyter\n",
       "  Widgets Documentation</a> for setup instructions.\n",
       "</p>\n",
       "<p>\n",
       "  If you're reading this message in another frontend (for example, a static\n",
       "  rendering on GitHub or <a href=\"https://nbviewer.jupyter.org/\">NBViewer</a>),\n",
       "  it may mean that your frontend doesn't currently support widgets.\n",
       "</p>\n"
      ],
      "text/plain": [
       "HBox(children=(IntProgress(value=0, description='Training', max=12), HTML(value='')))"
      ]
     },
     "metadata": {},
     "output_type": "display_data"
    },
    {
     "data": {
      "application/vnd.jupyter.widget-view+json": {
       "model_id": "d7c6d53c65c342dfbb22bb209de0a4c7",
       "version_major": 2,
       "version_minor": 0
      },
      "text/html": [
       "<p>Failed to display Jupyter Widget of type <code>HBox</code>.</p>\n",
       "<p>\n",
       "  If you're reading this message in the Jupyter Notebook or JupyterLab Notebook, it may mean\n",
       "  that the widgets JavaScript is still loading. If this message persists, it\n",
       "  likely means that the widgets JavaScript library is either not installed or\n",
       "  not enabled. See the <a href=\"https://ipywidgets.readthedocs.io/en/stable/user_install.html\">Jupyter\n",
       "  Widgets Documentation</a> for setup instructions.\n",
       "</p>\n",
       "<p>\n",
       "  If you're reading this message in another frontend (for example, a static\n",
       "  rendering on GitHub or <a href=\"https://nbviewer.jupyter.org/\">NBViewer</a>),\n",
       "  it may mean that your frontend doesn't currently support widgets.\n",
       "</p>\n"
      ],
      "text/plain": [
       "HBox(children=(IntProgress(value=0, description='Epoch 0', max=200), HTML(value='')))"
      ]
     },
     "metadata": {},
     "output_type": "display_data"
    },
    {
     "data": {
      "application/vnd.jupyter.widget-view+json": {
       "model_id": "a63ab1cf374b4aff82ce46dca2b62c25",
       "version_major": 2,
       "version_minor": 0
      },
      "text/html": [
       "<p>Failed to display Jupyter Widget of type <code>HBox</code>.</p>\n",
       "<p>\n",
       "  If you're reading this message in the Jupyter Notebook or JupyterLab Notebook, it may mean\n",
       "  that the widgets JavaScript is still loading. If this message persists, it\n",
       "  likely means that the widgets JavaScript library is either not installed or\n",
       "  not enabled. See the <a href=\"https://ipywidgets.readthedocs.io/en/stable/user_install.html\">Jupyter\n",
       "  Widgets Documentation</a> for setup instructions.\n",
       "</p>\n",
       "<p>\n",
       "  If you're reading this message in another frontend (for example, a static\n",
       "  rendering on GitHub or <a href=\"https://nbviewer.jupyter.org/\">NBViewer</a>),\n",
       "  it may mean that your frontend doesn't currently support widgets.\n",
       "</p>\n"
      ],
      "text/plain": [
       "HBox(children=(IntProgress(value=0, description='Epoch 1', max=200), HTML(value='')))"
      ]
     },
     "metadata": {},
     "output_type": "display_data"
    },
    {
     "data": {
      "application/vnd.jupyter.widget-view+json": {
       "model_id": "acfe1e5c105444c79990b8f273e5df3c",
       "version_major": 2,
       "version_minor": 0
      },
      "text/html": [
       "<p>Failed to display Jupyter Widget of type <code>HBox</code>.</p>\n",
       "<p>\n",
       "  If you're reading this message in the Jupyter Notebook or JupyterLab Notebook, it may mean\n",
       "  that the widgets JavaScript is still loading. If this message persists, it\n",
       "  likely means that the widgets JavaScript library is either not installed or\n",
       "  not enabled. See the <a href=\"https://ipywidgets.readthedocs.io/en/stable/user_install.html\">Jupyter\n",
       "  Widgets Documentation</a> for setup instructions.\n",
       "</p>\n",
       "<p>\n",
       "  If you're reading this message in another frontend (for example, a static\n",
       "  rendering on GitHub or <a href=\"https://nbviewer.jupyter.org/\">NBViewer</a>),\n",
       "  it may mean that your frontend doesn't currently support widgets.\n",
       "</p>\n"
      ],
      "text/plain": [
       "HBox(children=(IntProgress(value=0, description='Epoch 2', max=200), HTML(value='')))"
      ]
     },
     "metadata": {},
     "output_type": "display_data"
    },
    {
     "data": {
      "application/vnd.jupyter.widget-view+json": {
       "model_id": "f190a1e7c4694b2dbfddb2eed941249d",
       "version_major": 2,
       "version_minor": 0
      },
      "text/html": [
       "<p>Failed to display Jupyter Widget of type <code>HBox</code>.</p>\n",
       "<p>\n",
       "  If you're reading this message in the Jupyter Notebook or JupyterLab Notebook, it may mean\n",
       "  that the widgets JavaScript is still loading. If this message persists, it\n",
       "  likely means that the widgets JavaScript library is either not installed or\n",
       "  not enabled. See the <a href=\"https://ipywidgets.readthedocs.io/en/stable/user_install.html\">Jupyter\n",
       "  Widgets Documentation</a> for setup instructions.\n",
       "</p>\n",
       "<p>\n",
       "  If you're reading this message in another frontend (for example, a static\n",
       "  rendering on GitHub or <a href=\"https://nbviewer.jupyter.org/\">NBViewer</a>),\n",
       "  it may mean that your frontend doesn't currently support widgets.\n",
       "</p>\n"
      ],
      "text/plain": [
       "HBox(children=(IntProgress(value=0, description='Epoch 3', max=200), HTML(value='')))"
      ]
     },
     "metadata": {},
     "output_type": "display_data"
    },
    {
     "data": {
      "application/vnd.jupyter.widget-view+json": {
       "model_id": "28e2eefb482e4f71a8e83ab99d05ff85",
       "version_major": 2,
       "version_minor": 0
      },
      "text/html": [
       "<p>Failed to display Jupyter Widget of type <code>HBox</code>.</p>\n",
       "<p>\n",
       "  If you're reading this message in the Jupyter Notebook or JupyterLab Notebook, it may mean\n",
       "  that the widgets JavaScript is still loading. If this message persists, it\n",
       "  likely means that the widgets JavaScript library is either not installed or\n",
       "  not enabled. See the <a href=\"https://ipywidgets.readthedocs.io/en/stable/user_install.html\">Jupyter\n",
       "  Widgets Documentation</a> for setup instructions.\n",
       "</p>\n",
       "<p>\n",
       "  If you're reading this message in another frontend (for example, a static\n",
       "  rendering on GitHub or <a href=\"https://nbviewer.jupyter.org/\">NBViewer</a>),\n",
       "  it may mean that your frontend doesn't currently support widgets.\n",
       "</p>\n"
      ],
      "text/plain": [
       "HBox(children=(IntProgress(value=0, description='Epoch 4', max=200), HTML(value='')))"
      ]
     },
     "metadata": {},
     "output_type": "display_data"
    },
    {
     "data": {
      "application/vnd.jupyter.widget-view+json": {
       "model_id": "6f6d305da84c43b9838a42b8227ff1f5",
       "version_major": 2,
       "version_minor": 0
      },
      "text/html": [
       "<p>Failed to display Jupyter Widget of type <code>HBox</code>.</p>\n",
       "<p>\n",
       "  If you're reading this message in the Jupyter Notebook or JupyterLab Notebook, it may mean\n",
       "  that the widgets JavaScript is still loading. If this message persists, it\n",
       "  likely means that the widgets JavaScript library is either not installed or\n",
       "  not enabled. See the <a href=\"https://ipywidgets.readthedocs.io/en/stable/user_install.html\">Jupyter\n",
       "  Widgets Documentation</a> for setup instructions.\n",
       "</p>\n",
       "<p>\n",
       "  If you're reading this message in another frontend (for example, a static\n",
       "  rendering on GitHub or <a href=\"https://nbviewer.jupyter.org/\">NBViewer</a>),\n",
       "  it may mean that your frontend doesn't currently support widgets.\n",
       "</p>\n"
      ],
      "text/plain": [
       "HBox(children=(IntProgress(value=0, description='Epoch 5', max=200), HTML(value='')))"
      ]
     },
     "metadata": {},
     "output_type": "display_data"
    },
    {
     "data": {
      "application/vnd.jupyter.widget-view+json": {
       "model_id": "42cff37b9e17475cb8b0e0a3b457b2f4",
       "version_major": 2,
       "version_minor": 0
      },
      "text/html": [
       "<p>Failed to display Jupyter Widget of type <code>HBox</code>.</p>\n",
       "<p>\n",
       "  If you're reading this message in the Jupyter Notebook or JupyterLab Notebook, it may mean\n",
       "  that the widgets JavaScript is still loading. If this message persists, it\n",
       "  likely means that the widgets JavaScript library is either not installed or\n",
       "  not enabled. See the <a href=\"https://ipywidgets.readthedocs.io/en/stable/user_install.html\">Jupyter\n",
       "  Widgets Documentation</a> for setup instructions.\n",
       "</p>\n",
       "<p>\n",
       "  If you're reading this message in another frontend (for example, a static\n",
       "  rendering on GitHub or <a href=\"https://nbviewer.jupyter.org/\">NBViewer</a>),\n",
       "  it may mean that your frontend doesn't currently support widgets.\n",
       "</p>\n"
      ],
      "text/plain": [
       "HBox(children=(IntProgress(value=0, description='Epoch 6', max=200), HTML(value='')))"
      ]
     },
     "metadata": {},
     "output_type": "display_data"
    },
    {
     "data": {
      "application/vnd.jupyter.widget-view+json": {
       "model_id": "ed3f0c11b029411f8959b0dc01ace119",
       "version_major": 2,
       "version_minor": 0
      },
      "text/html": [
       "<p>Failed to display Jupyter Widget of type <code>HBox</code>.</p>\n",
       "<p>\n",
       "  If you're reading this message in the Jupyter Notebook or JupyterLab Notebook, it may mean\n",
       "  that the widgets JavaScript is still loading. If this message persists, it\n",
       "  likely means that the widgets JavaScript library is either not installed or\n",
       "  not enabled. See the <a href=\"https://ipywidgets.readthedocs.io/en/stable/user_install.html\">Jupyter\n",
       "  Widgets Documentation</a> for setup instructions.\n",
       "</p>\n",
       "<p>\n",
       "  If you're reading this message in another frontend (for example, a static\n",
       "  rendering on GitHub or <a href=\"https://nbviewer.jupyter.org/\">NBViewer</a>),\n",
       "  it may mean that your frontend doesn't currently support widgets.\n",
       "</p>\n"
      ],
      "text/plain": [
       "HBox(children=(IntProgress(value=0, description='Epoch 7', max=200), HTML(value='')))"
      ]
     },
     "metadata": {},
     "output_type": "display_data"
    },
    {
     "data": {
      "application/vnd.jupyter.widget-view+json": {
       "model_id": "d7dbfcebab3f4c8b9b5e7a49a292d2f3",
       "version_major": 2,
       "version_minor": 0
      },
      "text/html": [
       "<p>Failed to display Jupyter Widget of type <code>HBox</code>.</p>\n",
       "<p>\n",
       "  If you're reading this message in the Jupyter Notebook or JupyterLab Notebook, it may mean\n",
       "  that the widgets JavaScript is still loading. If this message persists, it\n",
       "  likely means that the widgets JavaScript library is either not installed or\n",
       "  not enabled. See the <a href=\"https://ipywidgets.readthedocs.io/en/stable/user_install.html\">Jupyter\n",
       "  Widgets Documentation</a> for setup instructions.\n",
       "</p>\n",
       "<p>\n",
       "  If you're reading this message in another frontend (for example, a static\n",
       "  rendering on GitHub or <a href=\"https://nbviewer.jupyter.org/\">NBViewer</a>),\n",
       "  it may mean that your frontend doesn't currently support widgets.\n",
       "</p>\n"
      ],
      "text/plain": [
       "HBox(children=(IntProgress(value=0, description='Epoch 8', max=200), HTML(value='')))"
      ]
     },
     "metadata": {},
     "output_type": "display_data"
    },
    {
     "data": {
      "application/vnd.jupyter.widget-view+json": {
       "model_id": "aae0819310b54d99bbf83873a1ea99ca",
       "version_major": 2,
       "version_minor": 0
      },
      "text/html": [
       "<p>Failed to display Jupyter Widget of type <code>HBox</code>.</p>\n",
       "<p>\n",
       "  If you're reading this message in the Jupyter Notebook or JupyterLab Notebook, it may mean\n",
       "  that the widgets JavaScript is still loading. If this message persists, it\n",
       "  likely means that the widgets JavaScript library is either not installed or\n",
       "  not enabled. See the <a href=\"https://ipywidgets.readthedocs.io/en/stable/user_install.html\">Jupyter\n",
       "  Widgets Documentation</a> for setup instructions.\n",
       "</p>\n",
       "<p>\n",
       "  If you're reading this message in another frontend (for example, a static\n",
       "  rendering on GitHub or <a href=\"https://nbviewer.jupyter.org/\">NBViewer</a>),\n",
       "  it may mean that your frontend doesn't currently support widgets.\n",
       "</p>\n"
      ],
      "text/plain": [
       "HBox(children=(IntProgress(value=0, description='Epoch 9', max=200), HTML(value='')))"
      ]
     },
     "metadata": {},
     "output_type": "display_data"
    },
    {
     "data": {
      "application/vnd.jupyter.widget-view+json": {
       "model_id": "49fe0cfa1d224d31ac33a25b69fecb8d",
       "version_major": 2,
       "version_minor": 0
      },
      "text/html": [
       "<p>Failed to display Jupyter Widget of type <code>HBox</code>.</p>\n",
       "<p>\n",
       "  If you're reading this message in the Jupyter Notebook or JupyterLab Notebook, it may mean\n",
       "  that the widgets JavaScript is still loading. If this message persists, it\n",
       "  likely means that the widgets JavaScript library is either not installed or\n",
       "  not enabled. See the <a href=\"https://ipywidgets.readthedocs.io/en/stable/user_install.html\">Jupyter\n",
       "  Widgets Documentation</a> for setup instructions.\n",
       "</p>\n",
       "<p>\n",
       "  If you're reading this message in another frontend (for example, a static\n",
       "  rendering on GitHub or <a href=\"https://nbviewer.jupyter.org/\">NBViewer</a>),\n",
       "  it may mean that your frontend doesn't currently support widgets.\n",
       "</p>\n"
      ],
      "text/plain": [
       "HBox(children=(IntProgress(value=0, description='Epoch 10', max=200), HTML(value='')))"
      ]
     },
     "metadata": {},
     "output_type": "display_data"
    },
    {
     "data": {
      "application/vnd.jupyter.widget-view+json": {
       "model_id": "f34b6972365840d19ef97cacbbde4374",
       "version_major": 2,
       "version_minor": 0
      },
      "text/html": [
       "<p>Failed to display Jupyter Widget of type <code>HBox</code>.</p>\n",
       "<p>\n",
       "  If you're reading this message in the Jupyter Notebook or JupyterLab Notebook, it may mean\n",
       "  that the widgets JavaScript is still loading. If this message persists, it\n",
       "  likely means that the widgets JavaScript library is either not installed or\n",
       "  not enabled. See the <a href=\"https://ipywidgets.readthedocs.io/en/stable/user_install.html\">Jupyter\n",
       "  Widgets Documentation</a> for setup instructions.\n",
       "</p>\n",
       "<p>\n",
       "  If you're reading this message in another frontend (for example, a static\n",
       "  rendering on GitHub or <a href=\"https://nbviewer.jupyter.org/\">NBViewer</a>),\n",
       "  it may mean that your frontend doesn't currently support widgets.\n",
       "</p>\n"
      ],
      "text/plain": [
       "HBox(children=(IntProgress(value=0, description='Epoch 11', max=200), HTML(value='')))"
      ]
     },
     "metadata": {},
     "output_type": "display_data"
    },
    {
     "name": "stdout",
     "output_type": "stream",
     "text": [
      "\n",
      "Model training time: 1 minutes 8.0 seconds\n"
     ]
    }
   ],
   "source": [
    "#model training\n",
    "#lScheduler_denoising = LScheduler(initial_lrate=0.1, drop=0.66, patience=3)\n",
    "#lrScheduler_denoising = LearningRateScheduler(lScheduler_denoising.step_decay)\n",
    "lrScheduler_denoising = CyclicLR(base_lr=1e-8, max_lr=0.006,\n",
    "                                 step_size=400, mode='triangular2', gamma=0.99994)\n",
    "start_time = time.monotonic()\n",
    "\n",
    "H = model_denoise.fit_generator(datagen_denoising.flow(X, y_angle, batch_size=8),\n",
    "                    steps_per_epoch=len(X)/8,\n",
    "                    validation_data=datagen_denoising_val.flow(X, y_angle, batch_size=8, shuffle=False), \n",
    "                    validation_steps=len(X)/8,\n",
    "                    #validation_data=[X_val,y_val],\n",
    "                    epochs=12,\n",
    "                    callbacks = [lrScheduler_denoising, \n",
    "                                 TQDMNotebookCallback(leave_inner=True, leave_outer=True)],\n",
    "                    verbose=0)\n",
    "\n",
    "model_time = time.monotonic() - start_time\n",
    "print(\"Model training time: \" + '{:d}'.format(int(model_time // 60)) + \" minutes \" \n",
    "      + '{:.1f}'.format(model_time % 60) + \" seconds\")"
   ]
  },
  {
   "cell_type": "code",
   "execution_count": 26,
   "metadata": {},
   "outputs": [
    {
     "data": {
      "image/png": "[encoded data removed]",
      "text/plain": [
       "<matplotlib.figure.Figure at 0x246a6e16908>"
      ]
     },
     "metadata": {},
     "output_type": "display_data"
    }
   ],
   "source": [
    "h = lrScheduler_denoising.history\n",
    "plt.plot(h['lr'], color=\"b\", label='lr')\n",
    "plt.legend()\n",
    "plt.xlabel('# iterations')\n",
    "plt.show()"
   ]
  },
  {
   "cell_type": "code",
   "execution_count": 27,
   "metadata": {
    "collapsed": true
   },
   "outputs": [],
   "source": [
    "# serialize model to JSON\n",
    "model_json = model_denoise.to_json()\n",
    "with open(\"models/model_denoise.json\", \"w\") as json_file:\n",
    "    json_file.write(model_json)"
   ]
  },
  {
   "cell_type": "code",
   "execution_count": 28,
   "metadata": {
    "collapsed": true
   },
   "outputs": [],
   "source": [
    "# serialize weights to HDF5\n",
    "model_weights = model_denoise.get_weights()\n",
    "with open('models/model_denoise_weights.pickle', 'wb') as handle:\n",
    "    pickle.dump(model_weights, handle, protocol=pickle.HIGHEST_PROTOCOL)"
   ]
  },
  {
   "cell_type": "code",
   "execution_count": 29,
   "metadata": {},
   "outputs": [
    {
     "name": "stdout",
     "output_type": "stream",
     "text": [
      "Loaded model from disk\n"
     ]
    }
   ],
   "source": [
    "# load json and create model\n",
    "with open(\"models/model_denoise.json\", \"r\") as json_file:\n",
    "    loaded_model_json = json_file.read()\n",
    "model_denoise = model_from_json(loaded_model_json)\n",
    "# load weights into new model\n",
    "with open('models/model_denoise_weights.pickle', 'rb') as handle:\n",
    "    model_weights = pickle.load(handle)\n",
    "model_denoise.set_weights(model_weights)\n",
    "print(\"Loaded model from disk\")"
   ]
  },
  {
   "cell_type": "code",
   "execution_count": 30,
   "metadata": {
    "scrolled": false
   },
   "outputs": [
    {
     "name": "stdout",
     "output_type": "stream",
     "text": [
      "1604/1604 [==============================] - ETA:  - ETA:  - ETA:  - ETA:  - ETA:  - ETA:  - ETA:  - ETA:  - ETA:  - ETA:  - ETA:  - ETA:  - ETA:  - ETA:  - ETA:  - ETA:  - ETA:  - ETA:  - ETA:  - ETA:  - ETA:  - ETA:  - ETA:  - ETA:  - ETA:  - 1s 908us/step\n"
     ]
    }
   ],
   "source": [
    "X_nn_denoised = model_denoise.predict(X, verbose=1)"
   ]
  },
  {
   "cell_type": "code",
   "execution_count": 31,
   "metadata": {},
   "outputs": [
    {
     "data": {
      "image/png": "[encoded data removed]",
      "text/plain": [
       "<matplotlib.figure.Figure at 0x246a8bffa90>"
      ]
     },
     "metadata": {},
     "output_type": "display_data"
    }
   ],
   "source": [
    "index=8\n",
    "original_index = y_train_sample.iloc[index].name\n",
    "cmap=\"inferno\"\n",
    "fig = plt.figure(figsize=(12,6))\n",
    "fig.suptitle(\"Image denoising nn: %x\" % (train_df.loc[original_index,'is_iceberg']), fontsize=16)\n",
    "ax1 = fig.add_subplot(251)\n",
    "ax1.set_title(\"Before band_1\")\n",
    "ax1.imshow(X_train_sample[index][:,:,0], cmap=cmap)\n",
    "ax2 = fig.add_subplot(252)\n",
    "ax2.set_title(\"NN Denoising band 1\")\n",
    "ax2.imshow(X_nn_denoised[original_index][:,:,0], cmap=cmap)\n",
    "ax3 = fig.add_subplot(253)\n",
    "ax3.set_title(\"Before band 2\")\n",
    "ax3.imshow(X_train_sample[index][:,:,1], cmap=cmap)\n",
    "ax4 = fig.add_subplot(254)\n",
    "ax4.set_title(\"NN Denoising band 2\")\n",
    "ax4.imshow(X_nn_denoised[original_index][:,:,1], cmap=cmap)\n",
    "plt.show()"
   ]
  },
  {
   "cell_type": "code",
   "execution_count": null,
   "metadata": {
    "collapsed": true
   },
   "outputs": [],
   "source": []
  },
  {
   "cell_type": "markdown",
   "metadata": {},
   "source": [
    "### Keras model"
   ]
  },
  {
   "cell_type": "code",
   "execution_count": 32,
   "metadata": {
    "collapsed": true
   },
   "outputs": [],
   "source": [
    "model_code=\"CNN_2018_01_21_v01\"\n",
    "model_comment=\"2 CNN inputs 3,3 conv filters - 3rd input nn denoising, na=0\""
   ]
  },
  {
   "cell_type": "code",
   "execution_count": 33,
   "metadata": {
    "scrolled": false
   },
   "outputs": [
    {
     "name": "stdout",
     "output_type": "stream",
     "text": [
      "Overwriting current_model.py\n"
     ]
    }
   ],
   "source": [
    "%%writefile current_model.py\n",
    "\n",
    "def InputBlock(x, dropout=0.25, prefix=''):\n",
    "    #conv layers for input\n",
    "    x = BatchNormalization()(x)\n",
    "    x = Conv2D(64, (3,3), activation='relu')(x)\n",
    "    x = MaxPooling2D((2, 2), strides=(2, 2))(x)\n",
    "    x = BatchNormalization()(x)\n",
    "    x = Dropout(dropout)(x) \n",
    "    x = Conv2D(64, (3,3), activation='relu')(x)\n",
    "    x = MaxPooling2D((2, 2), strides=(2, 2))(x)\n",
    "    x = BatchNormalization()(x)\n",
    "    x = Dropout(dropout)(x) \n",
    "    return(x)\n",
    "\n",
    "main_input = Input(shape=(75,75,2), name='main_input')\n",
    "aux_input = Input(shape=(75,75,3), name='aux_input')\n",
    "aux_input_nn = Input(shape=(75,75,4), name='aux_input_nn')\n",
    "\n",
    "x1 = InputBlock(main_input, prefix='m_input')\n",
    "x2 = InputBlock(aux_input, prefix='a_input')\n",
    "x3 = model_denoise(aux_input_nn)\n",
    "x3 = InputBlock(x3,dropout=0.25, prefix='a_input_nn')\n",
    "\n",
    "x = Concatenate(axis=3)([x1,x2,x3])\n",
    "#x = BatchNormalization()(x)\n",
    "#x = Dropout(0.2)(x)\n",
    "\n",
    "#conv-block\n",
    "x = Conv2D(128, (3, 3), activation='relu')(x)\n",
    "x = MaxPooling2D((2, 2), strides=(2, 2))(x)\n",
    "x = BatchNormalization()(x)\n",
    "x = Dropout(0.25)(x)\n",
    "\n",
    "#conv-block\n",
    "x = Conv2D(256, (3, 3), activation='relu')(x)\n",
    "x = MaxPooling2D((2, 2), strides=(2, 2))(x)\n",
    "x = BatchNormalization()(x)\n",
    "x = Dropout(0.25)(x)\n",
    "    \n",
    "#flatten\n",
    "x = Flatten()(x)\n",
    "angle_input = Input(shape=[1], name='angle_input')\n",
    "#x1 = BatchNormalization()(angle_input)\n",
    "merged = Concatenate()([x, angle_input])\n",
    "\n",
    "#dense-block\n",
    "x = Dense(513, activation='relu')(merged)\n",
    "x = BatchNormalization()(x)\n",
    "x = Dropout(0.25)(x)\n",
    "\n",
    "#dense-block\n",
    "x = Dense(256, activation='relu')(x)\n",
    "x = BatchNormalization()(x)\n",
    "x = Dropout(0.25)(x)\n",
    "\n",
    "main_output = Dense(1, activation='sigmoid', name='main_output')(x)\n",
    "model_f = Model(inputs=[main_input,aux_input, \n",
    "                        aux_input_nn, \n",
    "                        angle_input], \n",
    "                        outputs=[main_output])\n",
    "\n",
    "model_f.compile(optimizer=Adam(lr=0.001, beta_1=0.9, beta_2=0.999, epsilon=1e-08, decay=0),\n",
    "loss='binary_crossentropy',\n",
    "metrics=['accuracy'])"
   ]
  },
  {
   "cell_type": "code",
   "execution_count": 52,
   "metadata": {
    "collapsed": true
   },
   "outputs": [],
   "source": [
    "%run -i current_model.py"
   ]
  },
  {
   "cell_type": "code",
   "execution_count": 35,
   "metadata": {
    "collapsed": true
   },
   "outputs": [],
   "source": [
    "class ModelHistory(Callback):\n",
    "    def __init__(self, listSize=10):\n",
    "        self.listSize = listSize\n",
    "        self.models = []\n",
    "\n",
    "    def on_epoch_end(self, epoch, logs={}):\n",
    "        lastLoss = logs.get('val_loss')\n",
    "        rank = 1 - lastLoss\n",
    "        if len(self.models) > 0:\n",
    "            if rank > self.models[0][0]: # new model is better than the worst in the heap\n",
    "                if len(self.models) >= self.listSize: #if the model heap is already full\n",
    "                    heapq.heappushpop(self.models, (rank, lastLoss, self.model.get_weights()))\n",
    "                else:\n",
    "                    heapq.heappush(self.models, (rank, lastLoss, self.model.get_weights()))\n",
    "        else:\n",
    "            heapq.heappush(self.models, (rank, lastLoss, self.model.get_weights()))\n",
    "\n",
    "def get_callbacks(filepath, save_to_disc = True, lScheduler = None,\n",
    "                  patience=10, step_decay=LScheduler().step_decay, modelHistoryCallback=None):\n",
    "    #es = EarlyStopping('val_loss', patience=patience, mode=\"min\")\n",
    "    msave = ModelCheckpoint(filepath, save_best_only=True)\n",
    "    #reduceLr = ReduceLROnPlateau(monitor='val_loss', factor=0.5,\n",
    "    #                          patience=5, min_lr=0.000001, verbose=1)\n",
    "    if lScheduler is None:\n",
    "        lrScheduler = LearningRateScheduler(step_decay)\n",
    "    else:\n",
    "        lrScheduler = lScheduler\n",
    "    tqdmCallback =  TQDMNotebookCallback(leave_inner=True, leave_outer=True)\n",
    "    if (save_to_disc):\n",
    "        return [msave, lrScheduler, modelHistoryCallback, tqdmCallback]\n",
    "    else:\n",
    "        return [lrScheduler, modelHistoryCallback, tqdmCallback]"
   ]
  },
  {
   "cell_type": "code",
   "execution_count": 36,
   "metadata": {
    "scrolled": true
   },
   "outputs": [
    {
     "name": "stdout",
     "output_type": "stream",
     "text": [
      "__________________________________________________________________________________________________\n",
      "Layer (type)                    Output Shape         Param #     Connected to                     \n",
      "==================================================================================================\n",
      "aux_input_nn (InputLayer)       (None, 75, 75, 4)    0                                            \n",
      "__________________________________________________________________________________________________\n",
      "main_input (InputLayer)         (None, 75, 75, 2)    0                                            \n",
      "__________________________________________________________________________________________________\n",
      "aux_input (InputLayer)          (None, 75, 75, 3)    0                                            \n",
      "__________________________________________________________________________________________________\n",
      "Model_nn_denoising (Model)      (None, 75, 75, 4)    1252        aux_input_nn[0][0]               \n",
      "__________________________________________________________________________________________________\n",
      "batch_normalization_4 (BatchNor (None, 75, 75, 2)    8           main_input[0][0]                 \n",
      "__________________________________________________________________________________________________\n",
      "batch_normalization_7 (BatchNor (None, 75, 75, 3)    12          aux_input[0][0]                  \n",
      "__________________________________________________________________________________________________\n",
      "batch_normalization_10 (BatchNo (None, 75, 75, 4)    16          Model_nn_denoising[1][0]         \n",
      "__________________________________________________________________________________________________\n",
      "conv2d_3 (Conv2D)               (None, 73, 73, 64)   1216        batch_normalization_4[0][0]      \n",
      "__________________________________________________________________________________________________\n",
      "conv2d_5 (Conv2D)               (None, 73, 73, 64)   1792        batch_normalization_7[0][0]      \n",
      "__________________________________________________________________________________________________\n",
      "conv2d_7 (Conv2D)               (None, 73, 73, 64)   2368        batch_normalization_10[0][0]     \n",
      "__________________________________________________________________________________________________\n",
      "max_pooling2d_1 (MaxPooling2D)  (None, 36, 36, 64)   0           conv2d_3[0][0]                   \n",
      "__________________________________________________________________________________________________\n",
      "max_pooling2d_3 (MaxPooling2D)  (None, 36, 36, 64)   0           conv2d_5[0][0]                   \n",
      "__________________________________________________________________________________________________\n",
      "max_pooling2d_5 (MaxPooling2D)  (None, 36, 36, 64)   0           conv2d_7[0][0]                   \n",
      "__________________________________________________________________________________________________\n",
      "batch_normalization_5 (BatchNor (None, 36, 36, 64)   256         max_pooling2d_1[0][0]            \n",
      "__________________________________________________________________________________________________\n",
      "batch_normalization_8 (BatchNor (None, 36, 36, 64)   256         max_pooling2d_3[0][0]            \n",
      "__________________________________________________________________________________________________\n",
      "batch_normalization_11 (BatchNo (None, 36, 36, 64)   256         max_pooling2d_5[0][0]            \n",
      "__________________________________________________________________________________________________\n",
      "dropout_3 (Dropout)             (None, 36, 36, 64)   0           batch_normalization_5[0][0]      \n",
      "__________________________________________________________________________________________________\n",
      "dropout_5 (Dropout)             (None, 36, 36, 64)   0           batch_normalization_8[0][0]      \n",
      "__________________________________________________________________________________________________\n",
      "dropout_7 (Dropout)             (None, 36, 36, 64)   0           batch_normalization_11[0][0]     \n",
      "__________________________________________________________________________________________________\n",
      "conv2d_4 (Conv2D)               (None, 34, 34, 64)   36928       dropout_3[0][0]                  \n",
      "__________________________________________________________________________________________________\n",
      "conv2d_6 (Conv2D)               (None, 34, 34, 64)   36928       dropout_5[0][0]                  \n",
      "__________________________________________________________________________________________________\n",
      "conv2d_8 (Conv2D)               (None, 34, 34, 64)   36928       dropout_7[0][0]                  \n",
      "__________________________________________________________________________________________________\n",
      "max_pooling2d_2 (MaxPooling2D)  (None, 17, 17, 64)   0           conv2d_4[0][0]                   \n",
      "__________________________________________________________________________________________________\n",
      "max_pooling2d_4 (MaxPooling2D)  (None, 17, 17, 64)   0           conv2d_6[0][0]                   \n",
      "__________________________________________________________________________________________________\n",
      "max_pooling2d_6 (MaxPooling2D)  (None, 17, 17, 64)   0           conv2d_8[0][0]                   \n",
      "__________________________________________________________________________________________________\n",
      "batch_normalization_6 (BatchNor (None, 17, 17, 64)   256         max_pooling2d_2[0][0]            \n",
      "__________________________________________________________________________________________________\n",
      "batch_normalization_9 (BatchNor (None, 17, 17, 64)   256         max_pooling2d_4[0][0]            \n",
      "__________________________________________________________________________________________________\n",
      "batch_normalization_12 (BatchNo (None, 17, 17, 64)   256         max_pooling2d_6[0][0]            \n",
      "__________________________________________________________________________________________________\n",
      "dropout_4 (Dropout)             (None, 17, 17, 64)   0           batch_normalization_6[0][0]      \n",
      "__________________________________________________________________________________________________\n",
      "dropout_6 (Dropout)             (None, 17, 17, 64)   0           batch_normalization_9[0][0]      \n",
      "__________________________________________________________________________________________________\n",
      "dropout_8 (Dropout)             (None, 17, 17, 64)   0           batch_normalization_12[0][0]     \n",
      "__________________________________________________________________________________________________\n",
      "concatenate_1 (Concatenate)     (None, 17, 17, 192)  0           dropout_4[0][0]                  \n",
      "                                                                 dropout_6[0][0]                  \n",
      "                                                                 dropout_8[0][0]                  \n",
      "__________________________________________________________________________________________________\n",
      "conv2d_9 (Conv2D)               (None, 15, 15, 128)  221312      concatenate_1[0][0]              \n",
      "__________________________________________________________________________________________________\n",
      "max_pooling2d_7 (MaxPooling2D)  (None, 7, 7, 128)    0           conv2d_9[0][0]                   \n",
      "__________________________________________________________________________________________________\n",
      "batch_normalization_13 (BatchNo (None, 7, 7, 128)    512         max_pooling2d_7[0][0]            \n",
      "__________________________________________________________________________________________________\n",
      "dropout_9 (Dropout)             (None, 7, 7, 128)    0           batch_normalization_13[0][0]     \n",
      "__________________________________________________________________________________________________\n",
      "conv2d_10 (Conv2D)              (None, 5, 5, 256)    295168      dropout_9[0][0]                  \n",
      "__________________________________________________________________________________________________\n",
      "max_pooling2d_8 (MaxPooling2D)  (None, 2, 2, 256)    0           conv2d_10[0][0]                  \n",
      "__________________________________________________________________________________________________\n",
      "batch_normalization_14 (BatchNo (None, 2, 2, 256)    1024        max_pooling2d_8[0][0]            \n"
     ]
    },
    {
     "name": "stdout",
     "output_type": "stream",
     "text": [
      "__________________________________________________________________________________________________\n",
      "dropout_10 (Dropout)            (None, 2, 2, 256)    0           batch_normalization_14[0][0]     \n",
      "__________________________________________________________________________________________________\n",
      "flatten_1 (Flatten)             (None, 1024)         0           dropout_10[0][0]                 \n",
      "__________________________________________________________________________________________________\n",
      "angle_input (InputLayer)        (None, 1)            0                                            \n",
      "__________________________________________________________________________________________________\n",
      "concatenate_2 (Concatenate)     (None, 1025)         0           flatten_1[0][0]                  \n",
      "                                                                 angle_input[0][0]                \n",
      "__________________________________________________________________________________________________\n",
      "dense_1 (Dense)                 (None, 513)          526338      concatenate_2[0][0]              \n",
      "__________________________________________________________________________________________________\n",
      "batch_normalization_15 (BatchNo (None, 513)          2052        dense_1[0][0]                    \n",
      "__________________________________________________________________________________________________\n",
      "dropout_11 (Dropout)            (None, 513)          0           batch_normalization_15[0][0]     \n",
      "__________________________________________________________________________________________________\n",
      "dense_2 (Dense)                 (None, 256)          131584      dropout_11[0][0]                 \n",
      "__________________________________________________________________________________________________\n",
      "batch_normalization_16 (BatchNo (None, 256)          1024        dense_2[0][0]                    \n",
      "__________________________________________________________________________________________________\n",
      "dropout_12 (Dropout)            (None, 256)          0           batch_normalization_16[0][0]     \n",
      "__________________________________________________________________________________________________\n",
      "main_output (Dense)             (None, 1)            257         dropout_12[0][0]                 \n",
      "==================================================================================================\n",
      "Total params: 1,298,255\n",
      "Trainable params: 1,295,123\n",
      "Non-trainable params: 3,132\n",
      "__________________________________________________________________________________________________\n"
     ]
    }
   ],
   "source": [
    "model_f.summary()"
   ]
  },
  {
   "cell_type": "code",
   "execution_count": 37,
   "metadata": {
    "scrolled": false
   },
   "outputs": [
    {
     "data": {
      "image/svg+xml": [
       "<svg height=\"2089pt\" viewBox=\"0.00 0.00 830.00 2089.00\" width=\"830pt\" xmlns=\"http://www.w3.org/2000/svg\" xmlns:xlink=\"http://www.w3.org/1999/xlink\">\n",
       "<g class=\"graph\" id=\"graph0\" transform=\"scale(1 1) rotate(0) translate(4 2085)\">\n",
       "<title>G</title>\n",
       "<polygon fill=\"white\" points=\"-4,4 -4,-2085 826,-2085 826,4 -4,4\" stroke=\"none\"/>\n",
       "<!-- 2502501719848 -->\n",
       "<g class=\"node\" id=\"node1\"><title>2502501719848</title>\n",
       "<polygon fill=\"none\" points=\"53,-2044.5 53,-2080.5 213,-2080.5 213,-2044.5 53,-2044.5\" stroke=\"black\"/>\n",
       "<text font-family=\"Times New Roman,serif\" font-size=\"14.00\" text-anchor=\"middle\" x=\"133\" y=\"-2058.8\">aux_input_nn: InputLayer</text>\n",
       "</g>\n",
       "<!-- 2502830103912 -->\n",
       "<g class=\"node\" id=\"node4\"><title>2502830103912</title>\n",
       "<polygon fill=\"none\" points=\"44.5,-1971.5 44.5,-2007.5 221.5,-2007.5 221.5,-1971.5 44.5,-1971.5\" stroke=\"black\"/>\n",
       "<text font-family=\"Times New Roman,serif\" font-size=\"14.00\" text-anchor=\"middle\" x=\"133\" y=\"-1985.8\">Model_nn_denoising: Model</text>\n",
       "</g>\n",
       "<!-- 2502501719848&#45;&gt;2502830103912 -->\n",
       "<g class=\"edge\" id=\"edge1\"><title>2502501719848-&gt;2502830103912</title>\n",
       "<path d=\"M133,-2044.31C133,-2036.29 133,-2026.55 133,-2017.57\" fill=\"none\" stroke=\"black\"/>\n",
       "<polygon fill=\"black\" points=\"136.5,-2017.53 133,-2007.53 129.5,-2017.53 136.5,-2017.53\" stroke=\"black\"/>\n",
       "</g>\n",
       "<!-- 2502502578160 -->\n",
       "<g class=\"node\" id=\"node2\"><title>2502502578160</title>\n",
       "<polygon fill=\"none\" points=\"341,-1971.5 341,-2007.5 487,-2007.5 487,-1971.5 341,-1971.5\" stroke=\"black\"/>\n",
       "<text font-family=\"Times New Roman,serif\" font-size=\"14.00\" text-anchor=\"middle\" x=\"414\" y=\"-1985.8\">main_input: InputLayer</text>\n",
       "</g>\n",
       "<!-- 2502470795392 -->\n",
       "<g class=\"node\" id=\"node5\"><title>2502470795392</title>\n",
       "<polygon fill=\"none\" points=\"284,-1898.5 284,-1934.5 544,-1934.5 544,-1898.5 284,-1898.5\" stroke=\"black\"/>\n",
       "<text font-family=\"Times New Roman,serif\" font-size=\"14.00\" text-anchor=\"middle\" x=\"414\" y=\"-1912.8\">batch_normalization_4: BatchNormalization</text>\n",
       "</g>\n",
       "<!-- 2502502578160&#45;&gt;2502470795392 -->\n",
       "<g class=\"edge\" id=\"edge2\"><title>2502502578160-&gt;2502470795392</title>\n",
       "<path d=\"M414,-1971.31C414,-1963.29 414,-1953.55 414,-1944.57\" fill=\"none\" stroke=\"black\"/>\n",
       "<polygon fill=\"black\" points=\"417.5,-1944.53 414,-1934.53 410.5,-1944.53 417.5,-1944.53\" stroke=\"black\"/>\n",
       "</g>\n",
       "<!-- 2502501772032 -->\n",
       "<g class=\"node\" id=\"node3\"><title>2502501772032</title>\n",
       "<polygon fill=\"none\" points=\"622.5,-1971.5 622.5,-2007.5 761.5,-2007.5 761.5,-1971.5 622.5,-1971.5\" stroke=\"black\"/>\n",
       "<text font-family=\"Times New Roman,serif\" font-size=\"14.00\" text-anchor=\"middle\" x=\"692\" y=\"-1985.8\">aux_input: InputLayer</text>\n",
       "</g>\n",
       "<!-- 2504788650024 -->\n",
       "<g class=\"node\" id=\"node6\"><title>2504788650024</title>\n",
       "<polygon fill=\"none\" points=\"562,-1898.5 562,-1934.5 822,-1934.5 822,-1898.5 562,-1898.5\" stroke=\"black\"/>\n",
       "<text font-family=\"Times New Roman,serif\" font-size=\"14.00\" text-anchor=\"middle\" x=\"692\" y=\"-1912.8\">batch_normalization_7: BatchNormalization</text>\n",
       "</g>\n",
       "<!-- 2502501772032&#45;&gt;2504788650024 -->\n",
       "<g class=\"edge\" id=\"edge3\"><title>2502501772032-&gt;2504788650024</title>\n",
       "<path d=\"M692,-1971.31C692,-1963.29 692,-1953.55 692,-1944.57\" fill=\"none\" stroke=\"black\"/>\n",
       "<polygon fill=\"black\" points=\"695.5,-1944.53 692,-1934.53 688.5,-1944.53 695.5,-1944.53\" stroke=\"black\"/>\n",
       "</g>\n",
       "<!-- 2505092937992 -->\n",
       "<g class=\"node\" id=\"node7\"><title>2505092937992</title>\n",
       "<polygon fill=\"none\" points=\"0,-1898.5 0,-1934.5 266,-1934.5 266,-1898.5 0,-1898.5\" stroke=\"black\"/>\n",
       "<text font-family=\"Times New Roman,serif\" font-size=\"14.00\" text-anchor=\"middle\" x=\"133\" y=\"-1912.8\">batch_normalization_10: BatchNormalization</text>\n",
       "</g>\n",
       "<!-- 2502830103912&#45;&gt;2505092937992 -->\n",
       "<g class=\"edge\" id=\"edge4\"><title>2502830103912-&gt;2505092937992</title>\n",
       "<path d=\"M133,-1971.31C133,-1963.29 133,-1953.55 133,-1944.57\" fill=\"none\" stroke=\"black\"/>\n",
       "<polygon fill=\"black\" points=\"136.5,-1944.53 133,-1934.53 129.5,-1944.53 136.5,-1944.53\" stroke=\"black\"/>\n",
       "</g>\n",
       "<!-- 2502501887784 -->\n",
       "<g class=\"node\" id=\"node8\"><title>2502501887784</title>\n",
       "<polygon fill=\"none\" points=\"350.5,-1825.5 350.5,-1861.5 477.5,-1861.5 477.5,-1825.5 350.5,-1825.5\" stroke=\"black\"/>\n",
       "<text font-family=\"Times New Roman,serif\" font-size=\"14.00\" text-anchor=\"middle\" x=\"414\" y=\"-1839.8\">conv2d_3: Conv2D</text>\n",
       "</g>\n",
       "<!-- 2502470795392&#45;&gt;2502501887784 -->\n",
       "<g class=\"edge\" id=\"edge5\"><title>2502470795392-&gt;2502501887784</title>\n",
       "<path d=\"M414,-1898.31C414,-1890.29 414,-1880.55 414,-1871.57\" fill=\"none\" stroke=\"black\"/>\n",
       "<polygon fill=\"black\" points=\"417.5,-1871.53 414,-1861.53 410.5,-1871.53 417.5,-1871.53\" stroke=\"black\"/>\n",
       "</g>\n",
       "<!-- 2504863937928 -->\n",
       "<g class=\"node\" id=\"node9\"><title>2504863937928</title>\n",
       "<polygon fill=\"none\" points=\"628.5,-1825.5 628.5,-1861.5 755.5,-1861.5 755.5,-1825.5 628.5,-1825.5\" stroke=\"black\"/>\n",
       "<text font-family=\"Times New Roman,serif\" font-size=\"14.00\" text-anchor=\"middle\" x=\"692\" y=\"-1839.8\">conv2d_5: Conv2D</text>\n",
       "</g>\n",
       "<!-- 2504788650024&#45;&gt;2504863937928 -->\n",
       "<g class=\"edge\" id=\"edge6\"><title>2504788650024-&gt;2504863937928</title>\n",
       "<path d=\"M692,-1898.31C692,-1890.29 692,-1880.55 692,-1871.57\" fill=\"none\" stroke=\"black\"/>\n",
       "<polygon fill=\"black\" points=\"695.5,-1871.53 692,-1861.53 688.5,-1871.53 695.5,-1871.53\" stroke=\"black\"/>\n",
       "</g>\n",
       "<!-- 2505099954216 -->\n",
       "<g class=\"node\" id=\"node10\"><title>2505099954216</title>\n",
       "<polygon fill=\"none\" points=\"69.5,-1825.5 69.5,-1861.5 196.5,-1861.5 196.5,-1825.5 69.5,-1825.5\" stroke=\"black\"/>\n",
       "<text font-family=\"Times New Roman,serif\" font-size=\"14.00\" text-anchor=\"middle\" x=\"133\" y=\"-1839.8\">conv2d_7: Conv2D</text>\n",
       "</g>\n",
       "<!-- 2505092937992&#45;&gt;2505099954216 -->\n",
       "<g class=\"edge\" id=\"edge7\"><title>2505092937992-&gt;2505099954216</title>\n",
       "<path d=\"M133,-1898.31C133,-1890.29 133,-1880.55 133,-1871.57\" fill=\"none\" stroke=\"black\"/>\n",
       "<polygon fill=\"black\" points=\"136.5,-1871.53 133,-1861.53 129.5,-1871.53 136.5,-1871.53\" stroke=\"black\"/>\n",
       "</g>\n",
       "<!-- 2502525164344 -->\n",
       "<g class=\"node\" id=\"node11\"><title>2502525164344</title>\n",
       "<polygon fill=\"none\" points=\"309.5,-1752.5 309.5,-1788.5 518.5,-1788.5 518.5,-1752.5 309.5,-1752.5\" stroke=\"black\"/>\n",
       "<text font-family=\"Times New Roman,serif\" font-size=\"14.00\" text-anchor=\"middle\" x=\"414\" y=\"-1766.8\">max_pooling2d_1: MaxPooling2D</text>\n",
       "</g>\n",
       "<!-- 2502501887784&#45;&gt;2502525164344 -->\n",
       "<g class=\"edge\" id=\"edge8\"><title>2502501887784-&gt;2502525164344</title>\n",
       "<path d=\"M414,-1825.31C414,-1817.29 414,-1807.55 414,-1798.57\" fill=\"none\" stroke=\"black\"/>\n",
       "<polygon fill=\"black\" points=\"417.5,-1798.53 414,-1788.53 410.5,-1798.53 417.5,-1798.53\" stroke=\"black\"/>\n",
       "</g>\n",
       "<!-- 2504866347440 -->\n",
       "<g class=\"node\" id=\"node12\"><title>2504866347440</title>\n",
       "<polygon fill=\"none\" points=\"587.5,-1752.5 587.5,-1788.5 796.5,-1788.5 796.5,-1752.5 587.5,-1752.5\" stroke=\"black\"/>\n",
       "<text font-family=\"Times New Roman,serif\" font-size=\"14.00\" text-anchor=\"middle\" x=\"692\" y=\"-1766.8\">max_pooling2d_3: MaxPooling2D</text>\n",
       "</g>\n",
       "<!-- 2504863937928&#45;&gt;2504866347440 -->\n",
       "<g class=\"edge\" id=\"edge9\"><title>2504863937928-&gt;2504866347440</title>\n",
       "<path d=\"M692,-1825.31C692,-1817.29 692,-1807.55 692,-1798.57\" fill=\"none\" stroke=\"black\"/>\n",
       "<polygon fill=\"black\" points=\"695.5,-1798.53 692,-1788.53 688.5,-1798.53 695.5,-1798.53\" stroke=\"black\"/>\n",
       "</g>\n",
       "<!-- 2505287444800 -->\n",
       "<g class=\"node\" id=\"node13\"><title>2505287444800</title>\n",
       "<polygon fill=\"none\" points=\"28.5,-1752.5 28.5,-1788.5 237.5,-1788.5 237.5,-1752.5 28.5,-1752.5\" stroke=\"black\"/>\n",
       "<text font-family=\"Times New Roman,serif\" font-size=\"14.00\" text-anchor=\"middle\" x=\"133\" y=\"-1766.8\">max_pooling2d_5: MaxPooling2D</text>\n",
       "</g>\n",
       "<!-- 2505099954216&#45;&gt;2505287444800 -->\n",
       "<g class=\"edge\" id=\"edge10\"><title>2505099954216-&gt;2505287444800</title>\n",
       "<path d=\"M133,-1825.31C133,-1817.29 133,-1807.55 133,-1798.57\" fill=\"none\" stroke=\"black\"/>\n",
       "<polygon fill=\"black\" points=\"136.5,-1798.53 133,-1788.53 129.5,-1798.53 136.5,-1798.53\" stroke=\"black\"/>\n",
       "</g>\n",
       "<!-- 2502531370288 -->\n",
       "<g class=\"node\" id=\"node14\"><title>2502531370288</title>\n",
       "<polygon fill=\"none\" points=\"284,-1679.5 284,-1715.5 544,-1715.5 544,-1679.5 284,-1679.5\" stroke=\"black\"/>\n",
       "<text font-family=\"Times New Roman,serif\" font-size=\"14.00\" text-anchor=\"middle\" x=\"414\" y=\"-1693.8\">batch_normalization_5: BatchNormalization</text>\n",
       "</g>\n",
       "<!-- 2502525164344&#45;&gt;2502531370288 -->\n",
       "<g class=\"edge\" id=\"edge11\"><title>2502525164344-&gt;2502531370288</title>\n",
       "<path d=\"M414,-1752.31C414,-1744.29 414,-1734.55 414,-1725.57\" fill=\"none\" stroke=\"black\"/>\n",
       "<polygon fill=\"black\" points=\"417.5,-1725.53 414,-1715.53 410.5,-1725.53 417.5,-1725.53\" stroke=\"black\"/>\n",
       "</g>\n",
       "<!-- 2504921956424 -->\n",
       "<g class=\"node\" id=\"node15\"><title>2504921956424</title>\n",
       "<polygon fill=\"none\" points=\"562,-1679.5 562,-1715.5 822,-1715.5 822,-1679.5 562,-1679.5\" stroke=\"black\"/>\n",
       "<text font-family=\"Times New Roman,serif\" font-size=\"14.00\" text-anchor=\"middle\" x=\"692\" y=\"-1693.8\">batch_normalization_8: BatchNormalization</text>\n",
       "</g>\n",
       "<!-- 2504866347440&#45;&gt;2504921956424 -->\n",
       "<g class=\"edge\" id=\"edge12\"><title>2504866347440-&gt;2504921956424</title>\n",
       "<path d=\"M692,-1752.31C692,-1744.29 692,-1734.55 692,-1725.57\" fill=\"none\" stroke=\"black\"/>\n",
       "<polygon fill=\"black\" points=\"695.5,-1725.53 692,-1715.53 688.5,-1725.53 695.5,-1725.53\" stroke=\"black\"/>\n",
       "</g>\n",
       "<!-- 2505287623008 -->\n",
       "<g class=\"node\" id=\"node16\"><title>2505287623008</title>\n",
       "<polygon fill=\"none\" points=\"0,-1679.5 0,-1715.5 266,-1715.5 266,-1679.5 0,-1679.5\" stroke=\"black\"/>\n",
       "<text font-family=\"Times New Roman,serif\" font-size=\"14.00\" text-anchor=\"middle\" x=\"133\" y=\"-1693.8\">batch_normalization_11: BatchNormalization</text>\n",
       "</g>\n",
       "<!-- 2505287444800&#45;&gt;2505287623008 -->\n",
       "<g class=\"edge\" id=\"edge13\"><title>2505287444800-&gt;2505287623008</title>\n",
       "<path d=\"M133,-1752.31C133,-1744.29 133,-1734.55 133,-1725.57\" fill=\"none\" stroke=\"black\"/>\n",
       "<polygon fill=\"black\" points=\"136.5,-1725.53 133,-1715.53 129.5,-1725.53 136.5,-1725.53\" stroke=\"black\"/>\n",
       "</g>\n",
       "<!-- 2502531316144 -->\n",
       "<g class=\"node\" id=\"node17\"><title>2502531316144</title>\n",
       "<polygon fill=\"none\" points=\"349,-1606.5 349,-1642.5 479,-1642.5 479,-1606.5 349,-1606.5\" stroke=\"black\"/>\n",
       "<text font-family=\"Times New Roman,serif\" font-size=\"14.00\" text-anchor=\"middle\" x=\"414\" y=\"-1620.8\">dropout_3: Dropout</text>\n",
       "</g>\n",
       "<!-- 2502531370288&#45;&gt;2502531316144 -->\n",
       "<g class=\"edge\" id=\"edge14\"><title>2502531370288-&gt;2502531316144</title>\n",
       "<path d=\"M414,-1679.31C414,-1671.29 414,-1661.55 414,-1652.57\" fill=\"none\" stroke=\"black\"/>\n",
       "<polygon fill=\"black\" points=\"417.5,-1652.53 414,-1642.53 410.5,-1652.53 417.5,-1652.53\" stroke=\"black\"/>\n",
       "</g>\n",
       "<!-- 2504922024032 -->\n",
       "<g class=\"node\" id=\"node18\"><title>2504922024032</title>\n",
       "<polygon fill=\"none\" points=\"627,-1606.5 627,-1642.5 757,-1642.5 757,-1606.5 627,-1606.5\" stroke=\"black\"/>\n",
       "<text font-family=\"Times New Roman,serif\" font-size=\"14.00\" text-anchor=\"middle\" x=\"692\" y=\"-1620.8\">dropout_5: Dropout</text>\n",
       "</g>\n",
       "<!-- 2504921956424&#45;&gt;2504922024032 -->\n",
       "<g class=\"edge\" id=\"edge15\"><title>2504921956424-&gt;2504922024032</title>\n",
       "<path d=\"M692,-1679.31C692,-1671.29 692,-1661.55 692,-1652.57\" fill=\"none\" stroke=\"black\"/>\n",
       "<polygon fill=\"black\" points=\"695.5,-1652.53 692,-1642.53 688.5,-1652.53 695.5,-1652.53\" stroke=\"black\"/>\n",
       "</g>\n",
       "<!-- 2505287755480 -->\n",
       "<g class=\"node\" id=\"node19\"><title>2505287755480</title>\n",
       "<polygon fill=\"none\" points=\"68,-1606.5 68,-1642.5 198,-1642.5 198,-1606.5 68,-1606.5\" stroke=\"black\"/>\n",
       "<text font-family=\"Times New Roman,serif\" font-size=\"14.00\" text-anchor=\"middle\" x=\"133\" y=\"-1620.8\">dropout_7: Dropout</text>\n",
       "</g>\n",
       "<!-- 2505287623008&#45;&gt;2505287755480 -->\n",
       "<g class=\"edge\" id=\"edge16\"><title>2505287623008-&gt;2505287755480</title>\n",
       "<path d=\"M133,-1679.31C133,-1671.29 133,-1661.55 133,-1652.57\" fill=\"none\" stroke=\"black\"/>\n",
       "<polygon fill=\"black\" points=\"136.5,-1652.53 133,-1642.53 129.5,-1652.53 136.5,-1652.53\" stroke=\"black\"/>\n",
       "</g>\n",
       "<!-- 2502531247408 -->\n",
       "<g class=\"node\" id=\"node20\"><title>2502531247408</title>\n",
       "<polygon fill=\"none\" points=\"350.5,-1533.5 350.5,-1569.5 477.5,-1569.5 477.5,-1533.5 350.5,-1533.5\" stroke=\"black\"/>\n",
       "<text font-family=\"Times New Roman,serif\" font-size=\"14.00\" text-anchor=\"middle\" x=\"414\" y=\"-1547.8\">conv2d_4: Conv2D</text>\n",
       "</g>\n",
       "<!-- 2502531316144&#45;&gt;2502531247408 -->\n",
       "<g class=\"edge\" id=\"edge17\"><title>2502531316144-&gt;2502531247408</title>\n",
       "<path d=\"M414,-1606.31C414,-1598.29 414,-1588.55 414,-1579.57\" fill=\"none\" stroke=\"black\"/>\n",
       "<polygon fill=\"black\" points=\"417.5,-1579.53 414,-1569.53 410.5,-1579.53 417.5,-1579.53\" stroke=\"black\"/>\n",
       "</g>\n",
       "<!-- 2504927863248 -->\n",
       "<g class=\"node\" id=\"node21\"><title>2504927863248</title>\n",
       "<polygon fill=\"none\" points=\"628.5,-1533.5 628.5,-1569.5 755.5,-1569.5 755.5,-1533.5 628.5,-1533.5\" stroke=\"black\"/>\n",
       "<text font-family=\"Times New Roman,serif\" font-size=\"14.00\" text-anchor=\"middle\" x=\"692\" y=\"-1547.8\">conv2d_6: Conv2D</text>\n",
       "</g>\n",
       "<!-- 2504922024032&#45;&gt;2504927863248 -->\n",
       "<g class=\"edge\" id=\"edge18\"><title>2504922024032-&gt;2504927863248</title>\n",
       "<path d=\"M692,-1606.31C692,-1598.29 692,-1588.55 692,-1579.57\" fill=\"none\" stroke=\"black\"/>\n",
       "<polygon fill=\"black\" points=\"695.5,-1579.53 692,-1569.53 688.5,-1579.53 695.5,-1579.53\" stroke=\"black\"/>\n",
       "</g>\n",
       "<!-- 2505287972736 -->\n",
       "<g class=\"node\" id=\"node22\"><title>2505287972736</title>\n",
       "<polygon fill=\"none\" points=\"69.5,-1533.5 69.5,-1569.5 196.5,-1569.5 196.5,-1533.5 69.5,-1533.5\" stroke=\"black\"/>\n",
       "<text font-family=\"Times New Roman,serif\" font-size=\"14.00\" text-anchor=\"middle\" x=\"133\" y=\"-1547.8\">conv2d_8: Conv2D</text>\n",
       "</g>\n",
       "<!-- 2505287755480&#45;&gt;2505287972736 -->\n",
       "<g class=\"edge\" id=\"edge19\"><title>2505287755480-&gt;2505287972736</title>\n",
       "<path d=\"M133,-1606.31C133,-1598.29 133,-1588.55 133,-1579.57\" fill=\"none\" stroke=\"black\"/>\n",
       "<polygon fill=\"black\" points=\"136.5,-1579.53 133,-1569.53 129.5,-1579.53 136.5,-1579.53\" stroke=\"black\"/>\n",
       "</g>\n",
       "<!-- 2503248533936 -->\n",
       "<g class=\"node\" id=\"node23\"><title>2503248533936</title>\n",
       "<polygon fill=\"none\" points=\"309.5,-1460.5 309.5,-1496.5 518.5,-1496.5 518.5,-1460.5 309.5,-1460.5\" stroke=\"black\"/>\n",
       "<text font-family=\"Times New Roman,serif\" font-size=\"14.00\" text-anchor=\"middle\" x=\"414\" y=\"-1474.8\">max_pooling2d_2: MaxPooling2D</text>\n",
       "</g>\n",
       "<!-- 2502531247408&#45;&gt;2503248533936 -->\n",
       "<g class=\"edge\" id=\"edge20\"><title>2502531247408-&gt;2503248533936</title>\n",
       "<path d=\"M414,-1533.31C414,-1525.29 414,-1515.55 414,-1506.57\" fill=\"none\" stroke=\"black\"/>\n",
       "<polygon fill=\"black\" points=\"417.5,-1506.53 414,-1496.53 410.5,-1506.53 417.5,-1506.53\" stroke=\"black\"/>\n",
       "</g>\n",
       "<!-- 2504927954144 -->\n",
       "<g class=\"node\" id=\"node24\"><title>2504927954144</title>\n",
       "<polygon fill=\"none\" points=\"587.5,-1460.5 587.5,-1496.5 796.5,-1496.5 796.5,-1460.5 587.5,-1460.5\" stroke=\"black\"/>\n",
       "<text font-family=\"Times New Roman,serif\" font-size=\"14.00\" text-anchor=\"middle\" x=\"692\" y=\"-1474.8\">max_pooling2d_4: MaxPooling2D</text>\n",
       "</g>\n",
       "<!-- 2504927863248&#45;&gt;2504927954144 -->\n",
       "<g class=\"edge\" id=\"edge21\"><title>2504927863248-&gt;2504927954144</title>\n",
       "<path d=\"M692,-1533.31C692,-1525.29 692,-1515.55 692,-1506.57\" fill=\"none\" stroke=\"black\"/>\n",
       "<polygon fill=\"black\" points=\"695.5,-1506.53 692,-1496.53 688.5,-1506.53 695.5,-1506.53\" stroke=\"black\"/>\n",
       "</g>\n",
       "<!-- 2505287916904 -->\n",
       "<g class=\"node\" id=\"node25\"><title>2505287916904</title>\n",
       "<polygon fill=\"none\" points=\"28.5,-1460.5 28.5,-1496.5 237.5,-1496.5 237.5,-1460.5 28.5,-1460.5\" stroke=\"black\"/>\n",
       "<text font-family=\"Times New Roman,serif\" font-size=\"14.00\" text-anchor=\"middle\" x=\"133\" y=\"-1474.8\">max_pooling2d_6: MaxPooling2D</text>\n",
       "</g>\n",
       "<!-- 2505287972736&#45;&gt;2505287916904 -->\n",
       "<g class=\"edge\" id=\"edge22\"><title>2505287972736-&gt;2505287916904</title>\n",
       "<path d=\"M133,-1533.31C133,-1525.29 133,-1515.55 133,-1506.57\" fill=\"none\" stroke=\"black\"/>\n",
       "<polygon fill=\"black\" points=\"136.5,-1506.53 133,-1496.53 129.5,-1506.53 136.5,-1506.53\" stroke=\"black\"/>\n",
       "</g>\n",
       "<!-- 2503248743336 -->\n",
       "<g class=\"node\" id=\"node26\"><title>2503248743336</title>\n",
       "<polygon fill=\"none\" points=\"284,-1387.5 284,-1423.5 544,-1423.5 544,-1387.5 284,-1387.5\" stroke=\"black\"/>\n",
       "<text font-family=\"Times New Roman,serif\" font-size=\"14.00\" text-anchor=\"middle\" x=\"414\" y=\"-1401.8\">batch_normalization_6: BatchNormalization</text>\n",
       "</g>\n",
       "<!-- 2503248533936&#45;&gt;2503248743336 -->\n",
       "<g class=\"edge\" id=\"edge23\"><title>2503248533936-&gt;2503248743336</title>\n",
       "<path d=\"M414,-1460.31C414,-1452.29 414,-1442.55 414,-1433.57\" fill=\"none\" stroke=\"black\"/>\n",
       "<polygon fill=\"black\" points=\"417.5,-1433.53 414,-1423.53 410.5,-1433.53 417.5,-1433.53\" stroke=\"black\"/>\n",
       "</g>\n",
       "<!-- 2505066471888 -->\n",
       "<g class=\"node\" id=\"node27\"><title>2505066471888</title>\n",
       "<polygon fill=\"none\" points=\"562,-1387.5 562,-1423.5 822,-1423.5 822,-1387.5 562,-1387.5\" stroke=\"black\"/>\n",
       "<text font-family=\"Times New Roman,serif\" font-size=\"14.00\" text-anchor=\"middle\" x=\"692\" y=\"-1401.8\">batch_normalization_9: BatchNormalization</text>\n",
       "</g>\n",
       "<!-- 2504927954144&#45;&gt;2505066471888 -->\n",
       "<g class=\"edge\" id=\"edge24\"><title>2504927954144-&gt;2505066471888</title>\n",
       "<path d=\"M692,-1460.31C692,-1452.29 692,-1442.55 692,-1433.57\" fill=\"none\" stroke=\"black\"/>\n",
       "<polygon fill=\"black\" points=\"695.5,-1433.53 692,-1423.53 688.5,-1433.53 695.5,-1433.53\" stroke=\"black\"/>\n",
       "</g>\n",
       "<!-- 2505288693296 -->\n",
       "<g class=\"node\" id=\"node28\"><title>2505288693296</title>\n",
       "<polygon fill=\"none\" points=\"0,-1387.5 0,-1423.5 266,-1423.5 266,-1387.5 0,-1387.5\" stroke=\"black\"/>\n",
       "<text font-family=\"Times New Roman,serif\" font-size=\"14.00\" text-anchor=\"middle\" x=\"133\" y=\"-1401.8\">batch_normalization_12: BatchNormalization</text>\n",
       "</g>\n",
       "<!-- 2505287916904&#45;&gt;2505288693296 -->\n",
       "<g class=\"edge\" id=\"edge25\"><title>2505287916904-&gt;2505288693296</title>\n",
       "<path d=\"M133,-1460.31C133,-1452.29 133,-1442.55 133,-1433.57\" fill=\"none\" stroke=\"black\"/>\n",
       "<polygon fill=\"black\" points=\"136.5,-1433.53 133,-1423.53 129.5,-1433.53 136.5,-1433.53\" stroke=\"black\"/>\n",
       "</g>\n",
       "<!-- 2504788500376 -->\n",
       "<g class=\"node\" id=\"node29\"><title>2504788500376</title>\n",
       "<polygon fill=\"none\" points=\"349,-1314.5 349,-1350.5 479,-1350.5 479,-1314.5 349,-1314.5\" stroke=\"black\"/>\n",
       "<text font-family=\"Times New Roman,serif\" font-size=\"14.00\" text-anchor=\"middle\" x=\"414\" y=\"-1328.8\">dropout_4: Dropout</text>\n",
       "</g>\n",
       "<!-- 2503248743336&#45;&gt;2504788500376 -->\n",
       "<g class=\"edge\" id=\"edge26\"><title>2503248743336-&gt;2504788500376</title>\n",
       "<path d=\"M414,-1387.31C414,-1379.29 414,-1369.55 414,-1360.57\" fill=\"none\" stroke=\"black\"/>\n",
       "<polygon fill=\"black\" points=\"417.5,-1360.53 414,-1350.53 410.5,-1360.53 417.5,-1360.53\" stroke=\"black\"/>\n",
       "</g>\n",
       "<!-- 2505092605936 -->\n",
       "<g class=\"node\" id=\"node30\"><title>2505092605936</title>\n",
       "<polygon fill=\"none\" points=\"562,-1314.5 562,-1350.5 692,-1350.5 692,-1314.5 562,-1314.5\" stroke=\"black\"/>\n",
       "<text font-family=\"Times New Roman,serif\" font-size=\"14.00\" text-anchor=\"middle\" x=\"627\" y=\"-1328.8\">dropout_6: Dropout</text>\n",
       "</g>\n",
       "<!-- 2505066471888&#45;&gt;2505092605936 -->\n",
       "<g class=\"edge\" id=\"edge27\"><title>2505066471888-&gt;2505092605936</title>\n",
       "<path d=\"M676.265,-1387.31C668.201,-1378.5 658.241,-1367.63 649.392,-1357.96\" fill=\"none\" stroke=\"black\"/>\n",
       "<polygon fill=\"black\" points=\"651.924,-1355.54 642.59,-1350.53 646.761,-1360.27 651.924,-1355.54\" stroke=\"black\"/>\n",
       "</g>\n",
       "<!-- 2505288556048 -->\n",
       "<g class=\"node\" id=\"node31\"><title>2505288556048</title>\n",
       "<polygon fill=\"none\" points=\"135,-1314.5 135,-1350.5 265,-1350.5 265,-1314.5 135,-1314.5\" stroke=\"black\"/>\n",
       "<text font-family=\"Times New Roman,serif\" font-size=\"14.00\" text-anchor=\"middle\" x=\"200\" y=\"-1328.8\">dropout_8: Dropout</text>\n",
       "</g>\n",
       "<!-- 2505288693296&#45;&gt;2505288556048 -->\n",
       "<g class=\"edge\" id=\"edge28\"><title>2505288693296-&gt;2505288556048</title>\n",
       "<path d=\"M149.219,-1387.31C157.531,-1378.5 167.798,-1367.63 176.92,-1357.96\" fill=\"none\" stroke=\"black\"/>\n",
       "<polygon fill=\"black\" points=\"179.613,-1360.2 183.931,-1350.53 174.522,-1355.4 179.613,-1360.2\" stroke=\"black\"/>\n",
       "</g>\n",
       "<!-- 2505288845520 -->\n",
       "<g class=\"node\" id=\"node32\"><title>2505288845520</title>\n",
       "<polygon fill=\"none\" points=\"327.5,-1241.5 327.5,-1277.5 500.5,-1277.5 500.5,-1241.5 327.5,-1241.5\" stroke=\"black\"/>\n",
       "<text font-family=\"Times New Roman,serif\" font-size=\"14.00\" text-anchor=\"middle\" x=\"414\" y=\"-1255.8\">concatenate_1: Concatenate</text>\n",
       "</g>\n",
       "<!-- 2504788500376&#45;&gt;2505288845520 -->\n",
       "<g class=\"edge\" id=\"edge29\"><title>2504788500376-&gt;2505288845520</title>\n",
       "<path d=\"M414,-1314.31C414,-1306.29 414,-1296.55 414,-1287.57\" fill=\"none\" stroke=\"black\"/>\n",
       "<polygon fill=\"black\" points=\"417.5,-1287.53 414,-1277.53 410.5,-1287.53 417.5,-1287.53\" stroke=\"black\"/>\n",
       "</g>\n",
       "<!-- 2505092605936&#45;&gt;2505288845520 -->\n",
       "<g class=\"edge\" id=\"edge30\"><title>2505092605936-&gt;2505288845520</title>\n",
       "<path d=\"M575.981,-1314.49C545.643,-1304.38 506.972,-1291.49 475.023,-1280.84\" fill=\"none\" stroke=\"black\"/>\n",
       "<polygon fill=\"black\" points=\"475.934,-1277.46 465.341,-1277.61 473.721,-1284.1 475.934,-1277.46\" stroke=\"black\"/>\n",
       "</g>\n",
       "<!-- 2505288556048&#45;&gt;2505288845520 -->\n",
       "<g class=\"edge\" id=\"edge31\"><title>2505288556048-&gt;2505288845520</title>\n",
       "<path d=\"M251.258,-1314.49C281.739,-1304.38 320.592,-1291.49 352.69,-1280.84\" fill=\"none\" stroke=\"black\"/>\n",
       "<polygon fill=\"black\" points=\"354.029,-1284.08 362.418,-1277.61 351.825,-1277.44 354.029,-1284.08\" stroke=\"black\"/>\n",
       "</g>\n",
       "<!-- 2505289202600 -->\n",
       "<g class=\"node\" id=\"node33\"><title>2505289202600</title>\n",
       "<polygon fill=\"none\" points=\"350.5,-1168.5 350.5,-1204.5 477.5,-1204.5 477.5,-1168.5 350.5,-1168.5\" stroke=\"black\"/>\n",
       "<text font-family=\"Times New Roman,serif\" font-size=\"14.00\" text-anchor=\"middle\" x=\"414\" y=\"-1182.8\">conv2d_9: Conv2D</text>\n",
       "</g>\n",
       "<!-- 2505288845520&#45;&gt;2505289202600 -->\n",
       "<g class=\"edge\" id=\"edge32\"><title>2505288845520-&gt;2505289202600</title>\n",
       "<path d=\"M414,-1241.31C414,-1233.29 414,-1223.55 414,-1214.57\" fill=\"none\" stroke=\"black\"/>\n",
       "<polygon fill=\"black\" points=\"417.5,-1214.53 414,-1204.53 410.5,-1214.53 417.5,-1214.53\" stroke=\"black\"/>\n",
       "</g>\n",
       "<!-- 2505288739696 -->\n",
       "<g class=\"node\" id=\"node34\"><title>2505288739696</title>\n",
       "<polygon fill=\"none\" points=\"309.5,-1095.5 309.5,-1131.5 518.5,-1131.5 518.5,-1095.5 309.5,-1095.5\" stroke=\"black\"/>\n",
       "<text font-family=\"Times New Roman,serif\" font-size=\"14.00\" text-anchor=\"middle\" x=\"414\" y=\"-1109.8\">max_pooling2d_7: MaxPooling2D</text>\n",
       "</g>\n",
       "<!-- 2505289202600&#45;&gt;2505288739696 -->\n",
       "<g class=\"edge\" id=\"edge33\"><title>2505289202600-&gt;2505288739696</title>\n",
       "<path d=\"M414,-1168.31C414,-1160.29 414,-1150.55 414,-1141.57\" fill=\"none\" stroke=\"black\"/>\n",
       "<polygon fill=\"black\" points=\"417.5,-1141.53 414,-1131.53 410.5,-1141.53 417.5,-1141.53\" stroke=\"black\"/>\n",
       "</g>\n",
       "<!-- 2505289833776 -->\n",
       "<g class=\"node\" id=\"node35\"><title>2505289833776</title>\n",
       "<polygon fill=\"none\" points=\"281,-1022.5 281,-1058.5 547,-1058.5 547,-1022.5 281,-1022.5\" stroke=\"black\"/>\n",
       "<text font-family=\"Times New Roman,serif\" font-size=\"14.00\" text-anchor=\"middle\" x=\"414\" y=\"-1036.8\">batch_normalization_13: BatchNormalization</text>\n",
       "</g>\n",
       "<!-- 2505288739696&#45;&gt;2505289833776 -->\n",
       "<g class=\"edge\" id=\"edge34\"><title>2505288739696-&gt;2505289833776</title>\n",
       "<path d=\"M414,-1095.31C414,-1087.29 414,-1077.55 414,-1068.57\" fill=\"none\" stroke=\"black\"/>\n",
       "<polygon fill=\"black\" points=\"417.5,-1068.53 414,-1058.53 410.5,-1068.53 417.5,-1068.53\" stroke=\"black\"/>\n",
       "</g>\n",
       "<!-- 2505289783728 -->\n",
       "<g class=\"node\" id=\"node36\"><title>2505289783728</title>\n",
       "<polygon fill=\"none\" points=\"349,-949.5 349,-985.5 479,-985.5 479,-949.5 349,-949.5\" stroke=\"black\"/>\n",
       "<text font-family=\"Times New Roman,serif\" font-size=\"14.00\" text-anchor=\"middle\" x=\"414\" y=\"-963.8\">dropout_9: Dropout</text>\n",
       "</g>\n",
       "<!-- 2505289833776&#45;&gt;2505289783728 -->\n",
       "<g class=\"edge\" id=\"edge35\"><title>2505289833776-&gt;2505289783728</title>\n",
       "<path d=\"M414,-1022.31C414,-1014.29 414,-1004.55 414,-995.569\" fill=\"none\" stroke=\"black\"/>\n",
       "<polygon fill=\"black\" points=\"417.5,-995.529 414,-985.529 410.5,-995.529 417.5,-995.529\" stroke=\"black\"/>\n",
       "</g>\n",
       "<!-- 2505289945328 -->\n",
       "<g class=\"node\" id=\"node37\"><title>2505289945328</title>\n",
       "<polygon fill=\"none\" points=\"347,-876.5 347,-912.5 481,-912.5 481,-876.5 347,-876.5\" stroke=\"black\"/>\n",
       "<text font-family=\"Times New Roman,serif\" font-size=\"14.00\" text-anchor=\"middle\" x=\"414\" y=\"-890.8\">conv2d_10: Conv2D</text>\n",
       "</g>\n",
       "<!-- 2505289783728&#45;&gt;2505289945328 -->\n",
       "<g class=\"edge\" id=\"edge36\"><title>2505289783728-&gt;2505289945328</title>\n",
       "<path d=\"M414,-949.313C414,-941.289 414,-931.547 414,-922.569\" fill=\"none\" stroke=\"black\"/>\n",
       "<polygon fill=\"black\" points=\"417.5,-922.529 414,-912.529 410.5,-922.529 417.5,-922.529\" stroke=\"black\"/>\n",
       "</g>\n",
       "<!-- 2505290292024 -->\n",
       "<g class=\"node\" id=\"node38\"><title>2505290292024</title>\n",
       "<polygon fill=\"none\" points=\"309.5,-803.5 309.5,-839.5 518.5,-839.5 518.5,-803.5 309.5,-803.5\" stroke=\"black\"/>\n",
       "<text font-family=\"Times New Roman,serif\" font-size=\"14.00\" text-anchor=\"middle\" x=\"414\" y=\"-817.8\">max_pooling2d_8: MaxPooling2D</text>\n",
       "</g>\n",
       "<!-- 2505289945328&#45;&gt;2505290292024 -->\n",
       "<g class=\"edge\" id=\"edge37\"><title>2505289945328-&gt;2505290292024</title>\n",
       "<path d=\"M414,-876.313C414,-868.289 414,-858.547 414,-849.569\" fill=\"none\" stroke=\"black\"/>\n",
       "<polygon fill=\"black\" points=\"417.5,-849.529 414,-839.529 410.5,-849.529 417.5,-849.529\" stroke=\"black\"/>\n",
       "</g>\n",
       "<!-- 2505290757120 -->\n",
       "<g class=\"node\" id=\"node39\"><title>2505290757120</title>\n",
       "<polygon fill=\"none\" points=\"281,-730.5 281,-766.5 547,-766.5 547,-730.5 281,-730.5\" stroke=\"black\"/>\n",
       "<text font-family=\"Times New Roman,serif\" font-size=\"14.00\" text-anchor=\"middle\" x=\"414\" y=\"-744.8\">batch_normalization_14: BatchNormalization</text>\n",
       "</g>\n",
       "<!-- 2505290292024&#45;&gt;2505290757120 -->\n",
       "<g class=\"edge\" id=\"edge38\"><title>2505290292024-&gt;2505290757120</title>\n",
       "<path d=\"M414,-803.313C414,-795.289 414,-785.547 414,-776.569\" fill=\"none\" stroke=\"black\"/>\n",
       "<polygon fill=\"black\" points=\"417.5,-776.529 414,-766.529 410.5,-776.529 417.5,-776.529\" stroke=\"black\"/>\n",
       "</g>\n",
       "<!-- 2505290818784 -->\n",
       "<g class=\"node\" id=\"node40\"><title>2505290818784</title>\n",
       "<polygon fill=\"none\" points=\"345.5,-657.5 345.5,-693.5 482.5,-693.5 482.5,-657.5 345.5,-657.5\" stroke=\"black\"/>\n",
       "<text font-family=\"Times New Roman,serif\" font-size=\"14.00\" text-anchor=\"middle\" x=\"414\" y=\"-671.8\">dropout_10: Dropout</text>\n",
       "</g>\n",
       "<!-- 2505290757120&#45;&gt;2505290818784 -->\n",
       "<g class=\"edge\" id=\"edge39\"><title>2505290757120-&gt;2505290818784</title>\n",
       "<path d=\"M414,-730.313C414,-722.289 414,-712.547 414,-703.569\" fill=\"none\" stroke=\"black\"/>\n",
       "<polygon fill=\"black\" points=\"417.5,-703.529 414,-693.529 410.5,-703.529 417.5,-703.529\" stroke=\"black\"/>\n",
       "</g>\n",
       "<!-- 2505290958832 -->\n",
       "<g class=\"node\" id=\"node41\"><title>2505290958832</title>\n",
       "<polygon fill=\"none\" points=\"359.5,-584.5 359.5,-620.5 468.5,-620.5 468.5,-584.5 359.5,-584.5\" stroke=\"black\"/>\n",
       "<text font-family=\"Times New Roman,serif\" font-size=\"14.00\" text-anchor=\"middle\" x=\"414\" y=\"-598.8\">flatten_1: Flatten</text>\n",
       "</g>\n",
       "<!-- 2505290818784&#45;&gt;2505290958832 -->\n",
       "<g class=\"edge\" id=\"edge40\"><title>2505290818784-&gt;2505290958832</title>\n",
       "<path d=\"M414,-657.313C414,-649.289 414,-639.547 414,-630.569\" fill=\"none\" stroke=\"black\"/>\n",
       "<polygon fill=\"black\" points=\"417.5,-630.529 414,-620.529 410.5,-630.529 417.5,-630.529\" stroke=\"black\"/>\n",
       "</g>\n",
       "<!-- 2505291011016 -->\n",
       "<g class=\"node\" id=\"node43\"><title>2505291011016</title>\n",
       "<polygon fill=\"none\" points=\"400.5,-511.5 400.5,-547.5 573.5,-547.5 573.5,-511.5 400.5,-511.5\" stroke=\"black\"/>\n",
       "<text font-family=\"Times New Roman,serif\" font-size=\"14.00\" text-anchor=\"middle\" x=\"487\" y=\"-525.8\">concatenate_2: Concatenate</text>\n",
       "</g>\n",
       "<!-- 2505290958832&#45;&gt;2505291011016 -->\n",
       "<g class=\"edge\" id=\"edge41\"><title>2505290958832-&gt;2505291011016</title>\n",
       "<path d=\"M431.671,-584.313C440.817,-575.417 452.135,-564.409 462.147,-554.672\" fill=\"none\" stroke=\"black\"/>\n",
       "<polygon fill=\"black\" points=\"464.763,-557.01 469.491,-547.529 459.883,-551.992 464.763,-557.01\" stroke=\"black\"/>\n",
       "</g>\n",
       "<!-- 2505290700896 -->\n",
       "<g class=\"node\" id=\"node42\"><title>2505290700896</title>\n",
       "<polygon fill=\"none\" points=\"487,-584.5 487,-620.5 635,-620.5 635,-584.5 487,-584.5\" stroke=\"black\"/>\n",
       "<text font-family=\"Times New Roman,serif\" font-size=\"14.00\" text-anchor=\"middle\" x=\"561\" y=\"-598.8\">angle_input: InputLayer</text>\n",
       "</g>\n",
       "<!-- 2505290700896&#45;&gt;2505291011016 -->\n",
       "<g class=\"edge\" id=\"edge42\"><title>2505290700896-&gt;2505291011016</title>\n",
       "<path d=\"M543.087,-584.313C533.815,-575.417 522.342,-564.409 512.193,-554.672\" fill=\"none\" stroke=\"black\"/>\n",
       "<polygon fill=\"black\" points=\"514.387,-551.927 504.748,-547.529 509.541,-556.978 514.387,-551.927\" stroke=\"black\"/>\n",
       "</g>\n",
       "<!-- 2505291138384 -->\n",
       "<g class=\"node\" id=\"node44\"><title>2505291138384</title>\n",
       "<polygon fill=\"none\" points=\"435,-438.5 435,-474.5 539,-474.5 539,-438.5 435,-438.5\" stroke=\"black\"/>\n",
       "<text font-family=\"Times New Roman,serif\" font-size=\"14.00\" text-anchor=\"middle\" x=\"487\" y=\"-452.8\">dense_1: Dense</text>\n",
       "</g>\n",
       "<!-- 2505291011016&#45;&gt;2505291138384 -->\n",
       "<g class=\"edge\" id=\"edge43\"><title>2505291011016-&gt;2505291138384</title>\n",
       "<path d=\"M487,-511.313C487,-503.289 487,-493.547 487,-484.569\" fill=\"none\" stroke=\"black\"/>\n",
       "<polygon fill=\"black\" points=\"490.5,-484.529 487,-474.529 483.5,-484.529 490.5,-484.529\" stroke=\"black\"/>\n",
       "</g>\n",
       "<!-- 2505291733536 -->\n",
       "<g class=\"node\" id=\"node45\"><title>2505291733536</title>\n",
       "<polygon fill=\"none\" points=\"354,-365.5 354,-401.5 620,-401.5 620,-365.5 354,-365.5\" stroke=\"black\"/>\n",
       "<text font-family=\"Times New Roman,serif\" font-size=\"14.00\" text-anchor=\"middle\" x=\"487\" y=\"-379.8\">batch_normalization_15: BatchNormalization</text>\n",
       "</g>\n",
       "<!-- 2505291138384&#45;&gt;2505291733536 -->\n",
       "<g class=\"edge\" id=\"edge44\"><title>2505291138384-&gt;2505291733536</title>\n",
       "<path d=\"M487,-438.313C487,-430.289 487,-420.547 487,-411.569\" fill=\"none\" stroke=\"black\"/>\n",
       "<polygon fill=\"black\" points=\"490.5,-411.529 487,-401.529 483.5,-411.529 490.5,-411.529\" stroke=\"black\"/>\n",
       "</g>\n",
       "<!-- 2505291898496 -->\n",
       "<g class=\"node\" id=\"node46\"><title>2505291898496</title>\n",
       "<polygon fill=\"none\" points=\"418.5,-292.5 418.5,-328.5 555.5,-328.5 555.5,-292.5 418.5,-292.5\" stroke=\"black\"/>\n",
       "<text font-family=\"Times New Roman,serif\" font-size=\"14.00\" text-anchor=\"middle\" x=\"487\" y=\"-306.8\">dropout_11: Dropout</text>\n",
       "</g>\n",
       "<!-- 2505291733536&#45;&gt;2505291898496 -->\n",
       "<g class=\"edge\" id=\"edge45\"><title>2505291733536-&gt;2505291898496</title>\n",
       "<path d=\"M487,-365.313C487,-357.289 487,-347.547 487,-338.569\" fill=\"none\" stroke=\"black\"/>\n",
       "<polygon fill=\"black\" points=\"490.5,-338.529 487,-328.529 483.5,-338.529 490.5,-338.529\" stroke=\"black\"/>\n",
       "</g>\n",
       "<!-- 2505292073112 -->\n",
       "<g class=\"node\" id=\"node47\"><title>2505292073112</title>\n",
       "<polygon fill=\"none\" points=\"435,-219.5 435,-255.5 539,-255.5 539,-219.5 435,-219.5\" stroke=\"black\"/>\n",
       "<text font-family=\"Times New Roman,serif\" font-size=\"14.00\" text-anchor=\"middle\" x=\"487\" y=\"-233.8\">dense_2: Dense</text>\n",
       "</g>\n",
       "<!-- 2505291898496&#45;&gt;2505292073112 -->\n",
       "<g class=\"edge\" id=\"edge46\"><title>2505291898496-&gt;2505292073112</title>\n",
       "<path d=\"M487,-292.313C487,-284.289 487,-274.547 487,-265.569\" fill=\"none\" stroke=\"black\"/>\n",
       "<polygon fill=\"black\" points=\"490.5,-265.529 487,-255.529 483.5,-265.529 490.5,-265.529\" stroke=\"black\"/>\n",
       "</g>\n",
       "<!-- 2505292444840 -->\n",
       "<g class=\"node\" id=\"node48\"><title>2505292444840</title>\n",
       "<polygon fill=\"none\" points=\"354,-146.5 354,-182.5 620,-182.5 620,-146.5 354,-146.5\" stroke=\"black\"/>\n",
       "<text font-family=\"Times New Roman,serif\" font-size=\"14.00\" text-anchor=\"middle\" x=\"487\" y=\"-160.8\">batch_normalization_16: BatchNormalization</text>\n",
       "</g>\n",
       "<!-- 2505292073112&#45;&gt;2505292444840 -->\n",
       "<g class=\"edge\" id=\"edge47\"><title>2505292073112-&gt;2505292444840</title>\n",
       "<path d=\"M487,-219.313C487,-211.289 487,-201.547 487,-192.569\" fill=\"none\" stroke=\"black\"/>\n",
       "<polygon fill=\"black\" points=\"490.5,-192.529 487,-182.529 483.5,-192.529 490.5,-192.529\" stroke=\"black\"/>\n",
       "</g>\n",
       "<!-- 2505292660864 -->\n",
       "<g class=\"node\" id=\"node49\"><title>2505292660864</title>\n",
       "<polygon fill=\"none\" points=\"418.5,-73.5 418.5,-109.5 555.5,-109.5 555.5,-73.5 418.5,-73.5\" stroke=\"black\"/>\n",
       "<text font-family=\"Times New Roman,serif\" font-size=\"14.00\" text-anchor=\"middle\" x=\"487\" y=\"-87.8\">dropout_12: Dropout</text>\n",
       "</g>\n",
       "<!-- 2505292444840&#45;&gt;2505292660864 -->\n",
       "<g class=\"edge\" id=\"edge48\"><title>2505292444840-&gt;2505292660864</title>\n",
       "<path d=\"M487,-146.313C487,-138.289 487,-128.547 487,-119.569\" fill=\"none\" stroke=\"black\"/>\n",
       "<polygon fill=\"black\" points=\"490.5,-119.529 487,-109.529 483.5,-119.529 490.5,-119.529\" stroke=\"black\"/>\n",
       "</g>\n",
       "<!-- 2505293032920 -->\n",
       "<g class=\"node\" id=\"node50\"><title>2505293032920</title>\n",
       "<polygon fill=\"none\" points=\"423,-0.5 423,-36.5 551,-36.5 551,-0.5 423,-0.5\" stroke=\"black\"/>\n",
       "<text font-family=\"Times New Roman,serif\" font-size=\"14.00\" text-anchor=\"middle\" x=\"487\" y=\"-14.8\">main_output: Dense</text>\n",
       "</g>\n",
       "<!-- 2505292660864&#45;&gt;2505293032920 -->\n",
       "<g class=\"edge\" id=\"edge49\"><title>2505292660864-&gt;2505293032920</title>\n",
       "<path d=\"M487,-73.3129C487,-65.2895 487,-55.5475 487,-46.5691\" fill=\"none\" stroke=\"black\"/>\n",
       "<polygon fill=\"black\" points=\"490.5,-46.5288 487,-36.5288 483.5,-46.5289 490.5,-46.5288\" stroke=\"black\"/>\n",
       "</g>\n",
       "</g>\n",
       "</svg>"
      ],
      "text/plain": [
       "<IPython.core.display.SVG object>"
      ]
     },
     "execution_count": 37,
     "metadata": {},
     "output_type": "execute_result"
    }
   ],
   "source": [
    "from IPython.display import SVG\n",
    "from keras.utils.vis_utils import model_to_dot\n",
    "#import os\n",
    "#os.environ[\"PATH\"] += os.pathsep + 'd:/Anaconda3/Library/bin/graphviz/'\n",
    "SVG(model_to_dot(model_f).create(prog='dot', format='svg'))"
   ]
  },
  {
   "cell_type": "markdown",
   "metadata": {},
   "source": [
    "### Model Training"
   ]
  },
  {
   "cell_type": "code",
   "execution_count": 53,
   "metadata": {},
   "outputs": [],
   "source": [
    "#name init\n",
    "model_timestamp = str(datetime.datetime.now().strftime(\"%Y_%m_%d_%H_%M_%S\"))\n",
    "model_best_weights_path = model_path + \"weights.\" + model_code + \"_\" + model_timestamp + \".hdf5\"\n",
    "#lScheduler = LScheduler(initial_lrate=0.001, drop=0.66, patience=7)\n",
    "modelEnsemble = ModelHistory(listSize=21)\n",
    "lScheduler = CyclicLR(base_lr=0.001, max_lr=0.003,\n",
    "                                 step_size=300, mode='triangular3', beta=0.33, theta=0.11)\n",
    "callbacks = get_callbacks(filepath=model_best_weights_path, save_to_disc=False, lScheduler=lScheduler,\n",
    "                          modelHistoryCallback=modelEnsemble)"
   ]
  },
  {
   "cell_type": "code",
   "execution_count": null,
   "metadata": {
    "scrolled": false
   },
   "outputs": [
    {
     "data": {
      "application/vnd.jupyter.widget-view+json": {
       "model_id": "44c7cb5e5045460fa76acf06516f1a2f",
       "version_major": 2,
       "version_minor": 0
      },
      "text/html": [
       "<p>Failed to display Jupyter Widget of type <code>HBox</code>.</p>\n",
       "<p>\n",
       "  If you're reading this message in the Jupyter Notebook or JupyterLab Notebook, it may mean\n",
       "  that the widgets JavaScript is still loading. If this message persists, it\n",
       "  likely means that the widgets JavaScript library is either not installed or\n",
       "  not enabled. See the <a href=\"https://ipywidgets.readthedocs.io/en/stable/user_install.html\">Jupyter\n",
       "  Widgets Documentation</a> for setup instructions.\n",
       "</p>\n",
       "<p>\n",
       "  If you're reading this message in another frontend (for example, a static\n",
       "  rendering on GitHub or <a href=\"https://nbviewer.jupyter.org/\">NBViewer</a>),\n",
       "  it may mean that your frontend doesn't currently support widgets.\n",
       "</p>\n"
      ],
      "text/plain": [
       "HBox(children=(IntProgress(value=0, description='Training'), HTML(value='')))"
      ]
     },
     "metadata": {},
     "output_type": "display_data"
    },
    {
     "data": {
      "application/vnd.jupyter.widget-view+json": {
       "model_id": "7278f7820400405f867c0f9844b755be",
       "version_major": 2,
       "version_minor": 0
      },
      "text/html": [
       "<p>Failed to display Jupyter Widget of type <code>HBox</code>.</p>\n",
       "<p>\n",
       "  If you're reading this message in the Jupyter Notebook or JupyterLab Notebook, it may mean\n",
       "  that the widgets JavaScript is still loading. If this message persists, it\n",
       "  likely means that the widgets JavaScript library is either not installed or\n",
       "  not enabled. See the <a href=\"https://ipywidgets.readthedocs.io/en/stable/user_install.html\">Jupyter\n",
       "  Widgets Documentation</a> for setup instructions.\n",
       "</p>\n",
       "<p>\n",
       "  If you're reading this message in another frontend (for example, a static\n",
       "  rendering on GitHub or <a href=\"https://nbviewer.jupyter.org/\">NBViewer</a>),\n",
       "  it may mean that your frontend doesn't currently support widgets.\n",
       "</p>\n"
      ],
      "text/plain": [
       "HBox(children=(IntProgress(value=0, description='Epoch 0', max=70), HTML(value='')))"
      ]
     },
     "metadata": {},
     "output_type": "display_data"
    },
    {
     "data": {
      "application/vnd.jupyter.widget-view+json": {
       "model_id": "c6a90993575644ed86099699176e9248",
       "version_major": 2,
       "version_minor": 0
      },
      "text/html": [
       "<p>Failed to display Jupyter Widget of type <code>HBox</code>.</p>\n",
       "<p>\n",
       "  If you're reading this message in the Jupyter Notebook or JupyterLab Notebook, it may mean\n",
       "  that the widgets JavaScript is still loading. If this message persists, it\n",
       "  likely means that the widgets JavaScript library is either not installed or\n",
       "  not enabled. See the <a href=\"https://ipywidgets.readthedocs.io/en/stable/user_install.html\">Jupyter\n",
       "  Widgets Documentation</a> for setup instructions.\n",
       "</p>\n",
       "<p>\n",
       "  If you're reading this message in another frontend (for example, a static\n",
       "  rendering on GitHub or <a href=\"https://nbviewer.jupyter.org/\">NBViewer</a>),\n",
       "  it may mean that your frontend doesn't currently support widgets.\n",
       "</p>\n"
      ],
      "text/plain": [
       "HBox(children=(IntProgress(value=0, description='Epoch 1', max=70), HTML(value='')))"
      ]
     },
     "metadata": {},
     "output_type": "display_data"
    },
    {
     "data": {
      "application/vnd.jupyter.widget-view+json": {
       "model_id": "001c21551a6e416abc3670562500aa09",
       "version_major": 2,
       "version_minor": 0
      },
      "text/html": [
       "<p>Failed to display Jupyter Widget of type <code>HBox</code>.</p>\n",
       "<p>\n",
       "  If you're reading this message in the Jupyter Notebook or JupyterLab Notebook, it may mean\n",
       "  that the widgets JavaScript is still loading. If this message persists, it\n",
       "  likely means that the widgets JavaScript library is either not installed or\n",
       "  not enabled. See the <a href=\"https://ipywidgets.readthedocs.io/en/stable/user_install.html\">Jupyter\n",
       "  Widgets Documentation</a> for setup instructions.\n",
       "</p>\n",
       "<p>\n",
       "  If you're reading this message in another frontend (for example, a static\n",
       "  rendering on GitHub or <a href=\"https://nbviewer.jupyter.org/\">NBViewer</a>),\n",
       "  it may mean that your frontend doesn't currently support widgets.\n",
       "</p>\n"
      ],
      "text/plain": [
       "HBox(children=(IntProgress(value=0, description='Epoch 2', max=70), HTML(value='')))"
      ]
     },
     "metadata": {},
     "output_type": "display_data"
    },
    {
     "data": {
      "application/vnd.jupyter.widget-view+json": {
       "model_id": "c21d975ad3e347d1bc1700596b59732d",
       "version_major": 2,
       "version_minor": 0
      },
      "text/html": [
       "<p>Failed to display Jupyter Widget of type <code>HBox</code>.</p>\n",
       "<p>\n",
       "  If you're reading this message in the Jupyter Notebook or JupyterLab Notebook, it may mean\n",
       "  that the widgets JavaScript is still loading. If this message persists, it\n",
       "  likely means that the widgets JavaScript library is either not installed or\n",
       "  not enabled. See the <a href=\"https://ipywidgets.readthedocs.io/en/stable/user_install.html\">Jupyter\n",
       "  Widgets Documentation</a> for setup instructions.\n",
       "</p>\n",
       "<p>\n",
       "  If you're reading this message in another frontend (for example, a static\n",
       "  rendering on GitHub or <a href=\"https://nbviewer.jupyter.org/\">NBViewer</a>),\n",
       "  it may mean that your frontend doesn't currently support widgets.\n",
       "</p>\n"
      ],
      "text/plain": [
       "HBox(children=(IntProgress(value=0, description='Epoch 3', max=70), HTML(value='')))"
      ]
     },
     "metadata": {},
     "output_type": "display_data"
    },
    {
     "data": {
      "application/vnd.jupyter.widget-view+json": {
       "model_id": "636e5f5214fe4fce97c0e61d3e101b83",
       "version_major": 2,
       "version_minor": 0
      },
      "text/html": [
       "<p>Failed to display Jupyter Widget of type <code>HBox</code>.</p>\n",
       "<p>\n",
       "  If you're reading this message in the Jupyter Notebook or JupyterLab Notebook, it may mean\n",
       "  that the widgets JavaScript is still loading. If this message persists, it\n",
       "  likely means that the widgets JavaScript library is either not installed or\n",
       "  not enabled. See the <a href=\"https://ipywidgets.readthedocs.io/en/stable/user_install.html\">Jupyter\n",
       "  Widgets Documentation</a> for setup instructions.\n",
       "</p>\n",
       "<p>\n",
       "  If you're reading this message in another frontend (for example, a static\n",
       "  rendering on GitHub or <a href=\"https://nbviewer.jupyter.org/\">NBViewer</a>),\n",
       "  it may mean that your frontend doesn't currently support widgets.\n",
       "</p>\n"
      ],
      "text/plain": [
       "HBox(children=(IntProgress(value=0, description='Epoch 4', max=70), HTML(value='')))"
      ]
     },
     "metadata": {},
     "output_type": "display_data"
    },
    {
     "data": {
      "application/vnd.jupyter.widget-view+json": {
       "model_id": "957f7666ea3541e0998c861ac82b1669",
       "version_major": 2,
       "version_minor": 0
      },
      "text/html": [
       "<p>Failed to display Jupyter Widget of type <code>HBox</code>.</p>\n",
       "<p>\n",
       "  If you're reading this message in the Jupyter Notebook or JupyterLab Notebook, it may mean\n",
       "  that the widgets JavaScript is still loading. If this message persists, it\n",
       "  likely means that the widgets JavaScript library is either not installed or\n",
       "  not enabled. See the <a href=\"https://ipywidgets.readthedocs.io/en/stable/user_install.html\">Jupyter\n",
       "  Widgets Documentation</a> for setup instructions.\n",
       "</p>\n",
       "<p>\n",
       "  If you're reading this message in another frontend (for example, a static\n",
       "  rendering on GitHub or <a href=\"https://nbviewer.jupyter.org/\">NBViewer</a>),\n",
       "  it may mean that your frontend doesn't currently support widgets.\n",
       "</p>\n"
      ],
      "text/plain": [
       "HBox(children=(IntProgress(value=0, description='Epoch 5', max=70), HTML(value='')))"
      ]
     },
     "metadata": {},
     "output_type": "display_data"
    },
    {
     "data": {
      "application/vnd.jupyter.widget-view+json": {
       "model_id": "2d4089a629354c42856bb45d3d7bcc3c",
       "version_major": 2,
       "version_minor": 0
      },
      "text/html": [
       "<p>Failed to display Jupyter Widget of type <code>HBox</code>.</p>\n",
       "<p>\n",
       "  If you're reading this message in the Jupyter Notebook or JupyterLab Notebook, it may mean\n",
       "  that the widgets JavaScript is still loading. If this message persists, it\n",
       "  likely means that the widgets JavaScript library is either not installed or\n",
       "  not enabled. See the <a href=\"https://ipywidgets.readthedocs.io/en/stable/user_install.html\">Jupyter\n",
       "  Widgets Documentation</a> for setup instructions.\n",
       "</p>\n",
       "<p>\n",
       "  If you're reading this message in another frontend (for example, a static\n",
       "  rendering on GitHub or <a href=\"https://nbviewer.jupyter.org/\">NBViewer</a>),\n",
       "  it may mean that your frontend doesn't currently support widgets.\n",
       "</p>\n"
      ],
      "text/plain": [
       "HBox(children=(IntProgress(value=0, description='Epoch 6', max=70), HTML(value='')))"
      ]
     },
     "metadata": {},
     "output_type": "display_data"
    },
    {
     "data": {
      "application/vnd.jupyter.widget-view+json": {
       "model_id": "9e1ed7426f8b4e51a32397961a5e2286",
       "version_major": 2,
       "version_minor": 0
      },
      "text/html": [
       "<p>Failed to display Jupyter Widget of type <code>HBox</code>.</p>\n",
       "<p>\n",
       "  If you're reading this message in the Jupyter Notebook or JupyterLab Notebook, it may mean\n",
       "  that the widgets JavaScript is still loading. If this message persists, it\n",
       "  likely means that the widgets JavaScript library is either not installed or\n",
       "  not enabled. See the <a href=\"https://ipywidgets.readthedocs.io/en/stable/user_install.html\">Jupyter\n",
       "  Widgets Documentation</a> for setup instructions.\n",
       "</p>\n",
       "<p>\n",
       "  If you're reading this message in another frontend (for example, a static\n",
       "  rendering on GitHub or <a href=\"https://nbviewer.jupyter.org/\">NBViewer</a>),\n",
       "  it may mean that your frontend doesn't currently support widgets.\n",
       "</p>\n"
      ],
      "text/plain": [
       "HBox(children=(IntProgress(value=0, description='Epoch 7', max=70), HTML(value='')))"
      ]
     },
     "metadata": {},
     "output_type": "display_data"
    },
    {
     "data": {
      "application/vnd.jupyter.widget-view+json": {
       "model_id": "0b1b9bc7f5e34953b0fe887ae1bc5f8f",
       "version_major": 2,
       "version_minor": 0
      },
      "text/html": [
       "<p>Failed to display Jupyter Widget of type <code>HBox</code>.</p>\n",
       "<p>\n",
       "  If you're reading this message in the Jupyter Notebook or JupyterLab Notebook, it may mean\n",
       "  that the widgets JavaScript is still loading. If this message persists, it\n",
       "  likely means that the widgets JavaScript library is either not installed or\n",
       "  not enabled. See the <a href=\"https://ipywidgets.readthedocs.io/en/stable/user_install.html\">Jupyter\n",
       "  Widgets Documentation</a> for setup instructions.\n",
       "</p>\n",
       "<p>\n",
       "  If you're reading this message in another frontend (for example, a static\n",
       "  rendering on GitHub or <a href=\"https://nbviewer.jupyter.org/\">NBViewer</a>),\n",
       "  it may mean that your frontend doesn't currently support widgets.\n",
       "</p>\n"
      ],
      "text/plain": [
       "HBox(children=(IntProgress(value=0, description='Epoch 8', max=70), HTML(value='')))"
      ]
     },
     "metadata": {},
     "output_type": "display_data"
    },
    {
     "data": {
      "application/vnd.jupyter.widget-view+json": {
       "model_id": "ef9491e96dd644348b62fc77269f61f5",
       "version_major": 2,
       "version_minor": 0
      },
      "text/html": [
       "<p>Failed to display Jupyter Widget of type <code>HBox</code>.</p>\n",
       "<p>\n",
       "  If you're reading this message in the Jupyter Notebook or JupyterLab Notebook, it may mean\n",
       "  that the widgets JavaScript is still loading. If this message persists, it\n",
       "  likely means that the widgets JavaScript library is either not installed or\n",
       "  not enabled. See the <a href=\"https://ipywidgets.readthedocs.io/en/stable/user_install.html\">Jupyter\n",
       "  Widgets Documentation</a> for setup instructions.\n",
       "</p>\n",
       "<p>\n",
       "  If you're reading this message in another frontend (for example, a static\n",
       "  rendering on GitHub or <a href=\"https://nbviewer.jupyter.org/\">NBViewer</a>),\n",
       "  it may mean that your frontend doesn't currently support widgets.\n",
       "</p>\n"
      ],
      "text/plain": [
       "HBox(children=(IntProgress(value=0, description='Epoch 9', max=70), HTML(value='')))"
      ]
     },
     "metadata": {},
     "output_type": "display_data"
    },
    {
     "data": {
      "application/vnd.jupyter.widget-view+json": {
       "model_id": "a3bc71a792a44c2f84e6329cadd57b85",
       "version_major": 2,
       "version_minor": 0
      },
      "text/html": [
       "<p>Failed to display Jupyter Widget of type <code>HBox</code>.</p>\n",
       "<p>\n",
       "  If you're reading this message in the Jupyter Notebook or JupyterLab Notebook, it may mean\n",
       "  that the widgets JavaScript is still loading. If this message persists, it\n",
       "  likely means that the widgets JavaScript library is either not installed or\n",
       "  not enabled. See the <a href=\"https://ipywidgets.readthedocs.io/en/stable/user_install.html\">Jupyter\n",
       "  Widgets Documentation</a> for setup instructions.\n",
       "</p>\n",
       "<p>\n",
       "  If you're reading this message in another frontend (for example, a static\n",
       "  rendering on GitHub or <a href=\"https://nbviewer.jupyter.org/\">NBViewer</a>),\n",
       "  it may mean that your frontend doesn't currently support widgets.\n",
       "</p>\n"
      ],
      "text/plain": [
       "HBox(children=(IntProgress(value=0, description='Epoch 10', max=70), HTML(value='')))"
      ]
     },
     "metadata": {},
     "output_type": "display_data"
    },
    {
     "data": {
      "application/vnd.jupyter.widget-view+json": {
       "model_id": "8544a5a6fe224216912fff313b5c3348",
       "version_major": 2,
       "version_minor": 0
      },
      "text/html": [
       "<p>Failed to display Jupyter Widget of type <code>HBox</code>.</p>\n",
       "<p>\n",
       "  If you're reading this message in the Jupyter Notebook or JupyterLab Notebook, it may mean\n",
       "  that the widgets JavaScript is still loading. If this message persists, it\n",
       "  likely means that the widgets JavaScript library is either not installed or\n",
       "  not enabled. See the <a href=\"https://ipywidgets.readthedocs.io/en/stable/user_install.html\">Jupyter\n",
       "  Widgets Documentation</a> for setup instructions.\n",
       "</p>\n",
       "<p>\n",
       "  If you're reading this message in another frontend (for example, a static\n",
       "  rendering on GitHub or <a href=\"https://nbviewer.jupyter.org/\">NBViewer</a>),\n",
       "  it may mean that your frontend doesn't currently support widgets.\n",
       "</p>\n"
      ],
      "text/plain": [
       "HBox(children=(IntProgress(value=0, description='Epoch 11', max=70), HTML(value='')))"
      ]
     },
     "metadata": {},
     "output_type": "display_data"
    },
    {
     "data": {
      "application/vnd.jupyter.widget-view+json": {
       "model_id": "9c0653001fa5403ea40e772e62caefa7",
       "version_major": 2,
       "version_minor": 0
      },
      "text/html": [
       "<p>Failed to display Jupyter Widget of type <code>HBox</code>.</p>\n",
       "<p>\n",
       "  If you're reading this message in the Jupyter Notebook or JupyterLab Notebook, it may mean\n",
       "  that the widgets JavaScript is still loading. If this message persists, it\n",
       "  likely means that the widgets JavaScript library is either not installed or\n",
       "  not enabled. See the <a href=\"https://ipywidgets.readthedocs.io/en/stable/user_install.html\">Jupyter\n",
       "  Widgets Documentation</a> for setup instructions.\n",
       "</p>\n",
       "<p>\n",
       "  If you're reading this message in another frontend (for example, a static\n",
       "  rendering on GitHub or <a href=\"https://nbviewer.jupyter.org/\">NBViewer</a>),\n",
       "  it may mean that your frontend doesn't currently support widgets.\n",
       "</p>\n"
      ],
      "text/plain": [
       "HBox(children=(IntProgress(value=0, description='Epoch 12', max=70), HTML(value='')))"
      ]
     },
     "metadata": {},
     "output_type": "display_data"
    },
    {
     "data": {
      "application/vnd.jupyter.widget-view+json": {
       "model_id": "007f77bafb364b77ae33e19e853208ce",
       "version_major": 2,
       "version_minor": 0
      },
      "text/html": [
       "<p>Failed to display Jupyter Widget of type <code>HBox</code>.</p>\n",
       "<p>\n",
       "  If you're reading this message in the Jupyter Notebook or JupyterLab Notebook, it may mean\n",
       "  that the widgets JavaScript is still loading. If this message persists, it\n",
       "  likely means that the widgets JavaScript library is either not installed or\n",
       "  not enabled. See the <a href=\"https://ipywidgets.readthedocs.io/en/stable/user_install.html\">Jupyter\n",
       "  Widgets Documentation</a> for setup instructions.\n",
       "</p>\n",
       "<p>\n",
       "  If you're reading this message in another frontend (for example, a static\n",
       "  rendering on GitHub or <a href=\"https://nbviewer.jupyter.org/\">NBViewer</a>),\n",
       "  it may mean that your frontend doesn't currently support widgets.\n",
       "</p>\n"
      ],
      "text/plain": [
       "HBox(children=(IntProgress(value=0, description='Epoch 13', max=70), HTML(value='')))"
      ]
     },
     "metadata": {},
     "output_type": "display_data"
    },
    {
     "data": {
      "application/vnd.jupyter.widget-view+json": {
       "model_id": "e59799e389d849dcaee90b215e4c8aa3",
       "version_major": 2,
       "version_minor": 0
      },
      "text/html": [
       "<p>Failed to display Jupyter Widget of type <code>HBox</code>.</p>\n",
       "<p>\n",
       "  If you're reading this message in the Jupyter Notebook or JupyterLab Notebook, it may mean\n",
       "  that the widgets JavaScript is still loading. If this message persists, it\n",
       "  likely means that the widgets JavaScript library is either not installed or\n",
       "  not enabled. See the <a href=\"https://ipywidgets.readthedocs.io/en/stable/user_install.html\">Jupyter\n",
       "  Widgets Documentation</a> for setup instructions.\n",
       "</p>\n",
       "<p>\n",
       "  If you're reading this message in another frontend (for example, a static\n",
       "  rendering on GitHub or <a href=\"https://nbviewer.jupyter.org/\">NBViewer</a>),\n",
       "  it may mean that your frontend doesn't currently support widgets.\n",
       "</p>\n"
      ],
      "text/plain": [
       "HBox(children=(IntProgress(value=0, description='Epoch 14', max=70), HTML(value='')))"
      ]
     },
     "metadata": {},
     "output_type": "display_data"
    },
    {
     "data": {
      "application/vnd.jupyter.widget-view+json": {
       "model_id": "77c571715eb84f00aeda9722374c457e",
       "version_major": 2,
       "version_minor": 0
      },
      "text/html": [
       "<p>Failed to display Jupyter Widget of type <code>HBox</code>.</p>\n",
       "<p>\n",
       "  If you're reading this message in the Jupyter Notebook or JupyterLab Notebook, it may mean\n",
       "  that the widgets JavaScript is still loading. If this message persists, it\n",
       "  likely means that the widgets JavaScript library is either not installed or\n",
       "  not enabled. See the <a href=\"https://ipywidgets.readthedocs.io/en/stable/user_install.html\">Jupyter\n",
       "  Widgets Documentation</a> for setup instructions.\n",
       "</p>\n",
       "<p>\n",
       "  If you're reading this message in another frontend (for example, a static\n",
       "  rendering on GitHub or <a href=\"https://nbviewer.jupyter.org/\">NBViewer</a>),\n",
       "  it may mean that your frontend doesn't currently support widgets.\n",
       "</p>\n"
      ],
      "text/plain": [
       "HBox(children=(IntProgress(value=0, description='Epoch 15', max=70), HTML(value='')))"
      ]
     },
     "metadata": {},
     "output_type": "display_data"
    },
    {
     "data": {
      "application/vnd.jupyter.widget-view+json": {
       "model_id": "a21915137f864bca9e804f37ac782fad",
       "version_major": 2,
       "version_minor": 0
      },
      "text/html": [
       "<p>Failed to display Jupyter Widget of type <code>HBox</code>.</p>\n",
       "<p>\n",
       "  If you're reading this message in the Jupyter Notebook or JupyterLab Notebook, it may mean\n",
       "  that the widgets JavaScript is still loading. If this message persists, it\n",
       "  likely means that the widgets JavaScript library is either not installed or\n",
       "  not enabled. See the <a href=\"https://ipywidgets.readthedocs.io/en/stable/user_install.html\">Jupyter\n",
       "  Widgets Documentation</a> for setup instructions.\n",
       "</p>\n",
       "<p>\n",
       "  If you're reading this message in another frontend (for example, a static\n",
       "  rendering on GitHub or <a href=\"https://nbviewer.jupyter.org/\">NBViewer</a>),\n",
       "  it may mean that your frontend doesn't currently support widgets.\n",
       "</p>\n"
      ],
      "text/plain": [
       "HBox(children=(IntProgress(value=0, description='Epoch 16', max=70), HTML(value='')))"
      ]
     },
     "metadata": {},
     "output_type": "display_data"
    },
    {
     "data": {
      "application/vnd.jupyter.widget-view+json": {
       "model_id": "5e5ea631dc504c8bab147d7fb9c3504e",
       "version_major": 2,
       "version_minor": 0
      },
      "text/html": [
       "<p>Failed to display Jupyter Widget of type <code>HBox</code>.</p>\n",
       "<p>\n",
       "  If you're reading this message in the Jupyter Notebook or JupyterLab Notebook, it may mean\n",
       "  that the widgets JavaScript is still loading. If this message persists, it\n",
       "  likely means that the widgets JavaScript library is either not installed or\n",
       "  not enabled. See the <a href=\"https://ipywidgets.readthedocs.io/en/stable/user_install.html\">Jupyter\n",
       "  Widgets Documentation</a> for setup instructions.\n",
       "</p>\n",
       "<p>\n",
       "  If you're reading this message in another frontend (for example, a static\n",
       "  rendering on GitHub or <a href=\"https://nbviewer.jupyter.org/\">NBViewer</a>),\n",
       "  it may mean that your frontend doesn't currently support widgets.\n",
       "</p>\n"
      ],
      "text/plain": [
       "HBox(children=(IntProgress(value=0, description='Epoch 17', max=70), HTML(value='')))"
      ]
     },
     "metadata": {},
     "output_type": "display_data"
    },
    {
     "data": {
      "application/vnd.jupyter.widget-view+json": {
       "model_id": "12c777b497fd4db79bdd904ced5ca44d",
       "version_major": 2,
       "version_minor": 0
      },
      "text/html": [
       "<p>Failed to display Jupyter Widget of type <code>HBox</code>.</p>\n",
       "<p>\n",
       "  If you're reading this message in the Jupyter Notebook or JupyterLab Notebook, it may mean\n",
       "  that the widgets JavaScript is still loading. If this message persists, it\n",
       "  likely means that the widgets JavaScript library is either not installed or\n",
       "  not enabled. See the <a href=\"https://ipywidgets.readthedocs.io/en/stable/user_install.html\">Jupyter\n",
       "  Widgets Documentation</a> for setup instructions.\n",
       "</p>\n",
       "<p>\n",
       "  If you're reading this message in another frontend (for example, a static\n",
       "  rendering on GitHub or <a href=\"https://nbviewer.jupyter.org/\">NBViewer</a>),\n",
       "  it may mean that your frontend doesn't currently support widgets.\n",
       "</p>\n"
      ],
      "text/plain": [
       "HBox(children=(IntProgress(value=0, description='Epoch 18', max=70), HTML(value='')))"
      ]
     },
     "metadata": {},
     "output_type": "display_data"
    },
    {
     "data": {
      "application/vnd.jupyter.widget-view+json": {
       "model_id": "8698dafb6e2f47f5ad0ea1558753517a",
       "version_major": 2,
       "version_minor": 0
      },
      "text/html": [
       "<p>Failed to display Jupyter Widget of type <code>HBox</code>.</p>\n",
       "<p>\n",
       "  If you're reading this message in the Jupyter Notebook or JupyterLab Notebook, it may mean\n",
       "  that the widgets JavaScript is still loading. If this message persists, it\n",
       "  likely means that the widgets JavaScript library is either not installed or\n",
       "  not enabled. See the <a href=\"https://ipywidgets.readthedocs.io/en/stable/user_install.html\">Jupyter\n",
       "  Widgets Documentation</a> for setup instructions.\n",
       "</p>\n",
       "<p>\n",
       "  If you're reading this message in another frontend (for example, a static\n",
       "  rendering on GitHub or <a href=\"https://nbviewer.jupyter.org/\">NBViewer</a>),\n",
       "  it may mean that your frontend doesn't currently support widgets.\n",
       "</p>\n"
      ],
      "text/plain": [
       "HBox(children=(IntProgress(value=0, description='Epoch 19', max=70), HTML(value='')))"
      ]
     },
     "metadata": {},
     "output_type": "display_data"
    },
    {
     "data": {
      "application/vnd.jupyter.widget-view+json": {
       "model_id": "836b40c7bbed409d9046498bd26a7473",
       "version_major": 2,
       "version_minor": 0
      },
      "text/html": [
       "<p>Failed to display Jupyter Widget of type <code>HBox</code>.</p>\n",
       "<p>\n",
       "  If you're reading this message in the Jupyter Notebook or JupyterLab Notebook, it may mean\n",
       "  that the widgets JavaScript is still loading. If this message persists, it\n",
       "  likely means that the widgets JavaScript library is either not installed or\n",
       "  not enabled. See the <a href=\"https://ipywidgets.readthedocs.io/en/stable/user_install.html\">Jupyter\n",
       "  Widgets Documentation</a> for setup instructions.\n",
       "</p>\n",
       "<p>\n",
       "  If you're reading this message in another frontend (for example, a static\n",
       "  rendering on GitHub or <a href=\"https://nbviewer.jupyter.org/\">NBViewer</a>),\n",
       "  it may mean that your frontend doesn't currently support widgets.\n",
       "</p>\n"
      ],
      "text/plain": [
       "HBox(children=(IntProgress(value=0, description='Epoch 20', max=70), HTML(value='')))"
      ]
     },
     "metadata": {},
     "output_type": "display_data"
    },
    {
     "data": {
      "application/vnd.jupyter.widget-view+json": {
       "model_id": "54563ed0ec9c41a4925734d04d55bb2f",
       "version_major": 2,
       "version_minor": 0
      },
      "text/html": [
       "<p>Failed to display Jupyter Widget of type <code>HBox</code>.</p>\n",
       "<p>\n",
       "  If you're reading this message in the Jupyter Notebook or JupyterLab Notebook, it may mean\n",
       "  that the widgets JavaScript is still loading. If this message persists, it\n",
       "  likely means that the widgets JavaScript library is either not installed or\n",
       "  not enabled. See the <a href=\"https://ipywidgets.readthedocs.io/en/stable/user_install.html\">Jupyter\n",
       "  Widgets Documentation</a> for setup instructions.\n",
       "</p>\n",
       "<p>\n",
       "  If you're reading this message in another frontend (for example, a static\n",
       "  rendering on GitHub or <a href=\"https://nbviewer.jupyter.org/\">NBViewer</a>),\n",
       "  it may mean that your frontend doesn't currently support widgets.\n",
       "</p>\n"
      ],
      "text/plain": [
       "HBox(children=(IntProgress(value=0, description='Epoch 21', max=70), HTML(value='')))"
      ]
     },
     "metadata": {},
     "output_type": "display_data"
    },
    {
     "data": {
      "application/vnd.jupyter.widget-view+json": {
       "model_id": "1c944fe62da34f1ab746cf3c1bee24bd",
       "version_major": 2,
       "version_minor": 0
      },
      "text/html": [
       "<p>Failed to display Jupyter Widget of type <code>HBox</code>.</p>\n",
       "<p>\n",
       "  If you're reading this message in the Jupyter Notebook or JupyterLab Notebook, it may mean\n",
       "  that the widgets JavaScript is still loading. If this message persists, it\n",
       "  likely means that the widgets JavaScript library is either not installed or\n",
       "  not enabled. See the <a href=\"https://ipywidgets.readthedocs.io/en/stable/user_install.html\">Jupyter\n",
       "  Widgets Documentation</a> for setup instructions.\n",
       "</p>\n",
       "<p>\n",
       "  If you're reading this message in another frontend (for example, a static\n",
       "  rendering on GitHub or <a href=\"https://nbviewer.jupyter.org/\">NBViewer</a>),\n",
       "  it may mean that your frontend doesn't currently support widgets.\n",
       "</p>\n"
      ],
      "text/plain": [
       "HBox(children=(IntProgress(value=0, description='Epoch 22', max=70), HTML(value='')))"
      ]
     },
     "metadata": {},
     "output_type": "display_data"
    },
    {
     "data": {
      "application/vnd.jupyter.widget-view+json": {
       "model_id": "8c1599d597364533ab5b4a18697c957b",
       "version_major": 2,
       "version_minor": 0
      },
      "text/html": [
       "<p>Failed to display Jupyter Widget of type <code>HBox</code>.</p>\n",
       "<p>\n",
       "  If you're reading this message in the Jupyter Notebook or JupyterLab Notebook, it may mean\n",
       "  that the widgets JavaScript is still loading. If this message persists, it\n",
       "  likely means that the widgets JavaScript library is either not installed or\n",
       "  not enabled. See the <a href=\"https://ipywidgets.readthedocs.io/en/stable/user_install.html\">Jupyter\n",
       "  Widgets Documentation</a> for setup instructions.\n",
       "</p>\n",
       "<p>\n",
       "  If you're reading this message in another frontend (for example, a static\n",
       "  rendering on GitHub or <a href=\"https://nbviewer.jupyter.org/\">NBViewer</a>),\n",
       "  it may mean that your frontend doesn't currently support widgets.\n",
       "</p>\n"
      ],
      "text/plain": [
       "HBox(children=(IntProgress(value=0, description='Epoch 23', max=70), HTML(value='')))"
      ]
     },
     "metadata": {},
     "output_type": "display_data"
    },
    {
     "data": {
      "application/vnd.jupyter.widget-view+json": {
       "model_id": "0041da69c8b34633a26ba6b2b0c94d98",
       "version_major": 2,
       "version_minor": 0
      },
      "text/html": [
       "<p>Failed to display Jupyter Widget of type <code>HBox</code>.</p>\n",
       "<p>\n",
       "  If you're reading this message in the Jupyter Notebook or JupyterLab Notebook, it may mean\n",
       "  that the widgets JavaScript is still loading. If this message persists, it\n",
       "  likely means that the widgets JavaScript library is either not installed or\n",
       "  not enabled. See the <a href=\"https://ipywidgets.readthedocs.io/en/stable/user_install.html\">Jupyter\n",
       "  Widgets Documentation</a> for setup instructions.\n",
       "</p>\n",
       "<p>\n",
       "  If you're reading this message in another frontend (for example, a static\n",
       "  rendering on GitHub or <a href=\"https://nbviewer.jupyter.org/\">NBViewer</a>),\n",
       "  it may mean that your frontend doesn't currently support widgets.\n",
       "</p>\n"
      ],
      "text/plain": [
       "HBox(children=(IntProgress(value=0, description='Epoch 24', max=70), HTML(value='')))"
      ]
     },
     "metadata": {},
     "output_type": "display_data"
    },
    {
     "data": {
      "application/vnd.jupyter.widget-view+json": {
       "model_id": "bff822a4373748238612098113ccab51",
       "version_major": 2,
       "version_minor": 0
      },
      "text/html": [
       "<p>Failed to display Jupyter Widget of type <code>HBox</code>.</p>\n",
       "<p>\n",
       "  If you're reading this message in the Jupyter Notebook or JupyterLab Notebook, it may mean\n",
       "  that the widgets JavaScript is still loading. If this message persists, it\n",
       "  likely means that the widgets JavaScript library is either not installed or\n",
       "  not enabled. See the <a href=\"https://ipywidgets.readthedocs.io/en/stable/user_install.html\">Jupyter\n",
       "  Widgets Documentation</a> for setup instructions.\n",
       "</p>\n",
       "<p>\n",
       "  If you're reading this message in another frontend (for example, a static\n",
       "  rendering on GitHub or <a href=\"https://nbviewer.jupyter.org/\">NBViewer</a>),\n",
       "  it may mean that your frontend doesn't currently support widgets.\n",
       "</p>\n"
      ],
      "text/plain": [
       "HBox(children=(IntProgress(value=0, description='Epoch 25', max=70), HTML(value='')))"
      ]
     },
     "metadata": {},
     "output_type": "display_data"
    },
    {
     "data": {
      "application/vnd.jupyter.widget-view+json": {
       "model_id": "5ff4c10554b14f0195c79ef920379c5e",
       "version_major": 2,
       "version_minor": 0
      },
      "text/html": [
       "<p>Failed to display Jupyter Widget of type <code>HBox</code>.</p>\n",
       "<p>\n",
       "  If you're reading this message in the Jupyter Notebook or JupyterLab Notebook, it may mean\n",
       "  that the widgets JavaScript is still loading. If this message persists, it\n",
       "  likely means that the widgets JavaScript library is either not installed or\n",
       "  not enabled. See the <a href=\"https://ipywidgets.readthedocs.io/en/stable/user_install.html\">Jupyter\n",
       "  Widgets Documentation</a> for setup instructions.\n",
       "</p>\n",
       "<p>\n",
       "  If you're reading this message in another frontend (for example, a static\n",
       "  rendering on GitHub or <a href=\"https://nbviewer.jupyter.org/\">NBViewer</a>),\n",
       "  it may mean that your frontend doesn't currently support widgets.\n",
       "</p>\n"
      ],
      "text/plain": [
       "HBox(children=(IntProgress(value=0, description='Epoch 26', max=70), HTML(value='')))"
      ]
     },
     "metadata": {},
     "output_type": "display_data"
    },
    {
     "data": {
      "application/vnd.jupyter.widget-view+json": {
       "model_id": "6ae610e8fc474e038b903271bdf5f59d",
       "version_major": 2,
       "version_minor": 0
      },
      "text/html": [
       "<p>Failed to display Jupyter Widget of type <code>HBox</code>.</p>\n",
       "<p>\n",
       "  If you're reading this message in the Jupyter Notebook or JupyterLab Notebook, it may mean\n",
       "  that the widgets JavaScript is still loading. If this message persists, it\n",
       "  likely means that the widgets JavaScript library is either not installed or\n",
       "  not enabled. See the <a href=\"https://ipywidgets.readthedocs.io/en/stable/user_install.html\">Jupyter\n",
       "  Widgets Documentation</a> for setup instructions.\n",
       "</p>\n",
       "<p>\n",
       "  If you're reading this message in another frontend (for example, a static\n",
       "  rendering on GitHub or <a href=\"https://nbviewer.jupyter.org/\">NBViewer</a>),\n",
       "  it may mean that your frontend doesn't currently support widgets.\n",
       "</p>\n"
      ],
      "text/plain": [
       "HBox(children=(IntProgress(value=0, description='Epoch 27', max=70), HTML(value='')))"
      ]
     },
     "metadata": {},
     "output_type": "display_data"
    },
    {
     "data": {
      "application/vnd.jupyter.widget-view+json": {
       "model_id": "518696f5c7b84a97afb039bfb0e8d616",
       "version_major": 2,
       "version_minor": 0
      },
      "text/html": [
       "<p>Failed to display Jupyter Widget of type <code>HBox</code>.</p>\n",
       "<p>\n",
       "  If you're reading this message in the Jupyter Notebook or JupyterLab Notebook, it may mean\n",
       "  that the widgets JavaScript is still loading. If this message persists, it\n",
       "  likely means that the widgets JavaScript library is either not installed or\n",
       "  not enabled. See the <a href=\"https://ipywidgets.readthedocs.io/en/stable/user_install.html\">Jupyter\n",
       "  Widgets Documentation</a> for setup instructions.\n",
       "</p>\n",
       "<p>\n",
       "  If you're reading this message in another frontend (for example, a static\n",
       "  rendering on GitHub or <a href=\"https://nbviewer.jupyter.org/\">NBViewer</a>),\n",
       "  it may mean that your frontend doesn't currently support widgets.\n",
       "</p>\n"
      ],
      "text/plain": [
       "HBox(children=(IntProgress(value=0, description='Epoch 28', max=70), HTML(value='')))"
      ]
     },
     "metadata": {},
     "output_type": "display_data"
    },
    {
     "data": {
      "application/vnd.jupyter.widget-view+json": {
       "model_id": "34b51955a86542039bc4fa3e3cf6e055",
       "version_major": 2,
       "version_minor": 0
      },
      "text/html": [
       "<p>Failed to display Jupyter Widget of type <code>HBox</code>.</p>\n",
       "<p>\n",
       "  If you're reading this message in the Jupyter Notebook or JupyterLab Notebook, it may mean\n",
       "  that the widgets JavaScript is still loading. If this message persists, it\n",
       "  likely means that the widgets JavaScript library is either not installed or\n",
       "  not enabled. See the <a href=\"https://ipywidgets.readthedocs.io/en/stable/user_install.html\">Jupyter\n",
       "  Widgets Documentation</a> for setup instructions.\n",
       "</p>\n",
       "<p>\n",
       "  If you're reading this message in another frontend (for example, a static\n",
       "  rendering on GitHub or <a href=\"https://nbviewer.jupyter.org/\">NBViewer</a>),\n",
       "  it may mean that your frontend doesn't currently support widgets.\n",
       "</p>\n"
      ],
      "text/plain": [
       "HBox(children=(IntProgress(value=0, description='Epoch 29', max=70), HTML(value='')))"
      ]
     },
     "metadata": {},
     "output_type": "display_data"
    },
    {
     "data": {
      "application/vnd.jupyter.widget-view+json": {
       "model_id": "9003941fcae849e29e3f8c6db3edbfef",
       "version_major": 2,
       "version_minor": 0
      },
      "text/html": [
       "<p>Failed to display Jupyter Widget of type <code>HBox</code>.</p>\n",
       "<p>\n",
       "  If you're reading this message in the Jupyter Notebook or JupyterLab Notebook, it may mean\n",
       "  that the widgets JavaScript is still loading. If this message persists, it\n",
       "  likely means that the widgets JavaScript library is either not installed or\n",
       "  not enabled. See the <a href=\"https://ipywidgets.readthedocs.io/en/stable/user_install.html\">Jupyter\n",
       "  Widgets Documentation</a> for setup instructions.\n",
       "</p>\n",
       "<p>\n",
       "  If you're reading this message in another frontend (for example, a static\n",
       "  rendering on GitHub or <a href=\"https://nbviewer.jupyter.org/\">NBViewer</a>),\n",
       "  it may mean that your frontend doesn't currently support widgets.\n",
       "</p>\n"
      ],
      "text/plain": [
       "HBox(children=(IntProgress(value=0, description='Epoch 30', max=70), HTML(value='')))"
      ]
     },
     "metadata": {},
     "output_type": "display_data"
    },
    {
     "data": {
      "application/vnd.jupyter.widget-view+json": {
       "model_id": "143a7860fb07460688c3695dfe381330",
       "version_major": 2,
       "version_minor": 0
      },
      "text/html": [
       "<p>Failed to display Jupyter Widget of type <code>HBox</code>.</p>\n",
       "<p>\n",
       "  If you're reading this message in the Jupyter Notebook or JupyterLab Notebook, it may mean\n",
       "  that the widgets JavaScript is still loading. If this message persists, it\n",
       "  likely means that the widgets JavaScript library is either not installed or\n",
       "  not enabled. See the <a href=\"https://ipywidgets.readthedocs.io/en/stable/user_install.html\">Jupyter\n",
       "  Widgets Documentation</a> for setup instructions.\n",
       "</p>\n",
       "<p>\n",
       "  If you're reading this message in another frontend (for example, a static\n",
       "  rendering on GitHub or <a href=\"https://nbviewer.jupyter.org/\">NBViewer</a>),\n",
       "  it may mean that your frontend doesn't currently support widgets.\n",
       "</p>\n"
      ],
      "text/plain": [
       "HBox(children=(IntProgress(value=0, description='Epoch 31', max=70), HTML(value='')))"
      ]
     },
     "metadata": {},
     "output_type": "display_data"
    },
    {
     "data": {
      "application/vnd.jupyter.widget-view+json": {
       "model_id": "5f5a6ca9f0954f96a88f0e4432d7a7bb",
       "version_major": 2,
       "version_minor": 0
      },
      "text/html": [
       "<p>Failed to display Jupyter Widget of type <code>HBox</code>.</p>\n",
       "<p>\n",
       "  If you're reading this message in the Jupyter Notebook or JupyterLab Notebook, it may mean\n",
       "  that the widgets JavaScript is still loading. If this message persists, it\n",
       "  likely means that the widgets JavaScript library is either not installed or\n",
       "  not enabled. See the <a href=\"https://ipywidgets.readthedocs.io/en/stable/user_install.html\">Jupyter\n",
       "  Widgets Documentation</a> for setup instructions.\n",
       "</p>\n",
       "<p>\n",
       "  If you're reading this message in another frontend (for example, a static\n",
       "  rendering on GitHub or <a href=\"https://nbviewer.jupyter.org/\">NBViewer</a>),\n",
       "  it may mean that your frontend doesn't currently support widgets.\n",
       "</p>\n"
      ],
      "text/plain": [
       "HBox(children=(IntProgress(value=0, description='Epoch 32', max=70), HTML(value='')))"
      ]
     },
     "metadata": {},
     "output_type": "display_data"
    },
    {
     "data": {
      "application/vnd.jupyter.widget-view+json": {
       "model_id": "36a3767e7a7d491a86aa732286fc2347",
       "version_major": 2,
       "version_minor": 0
      },
      "text/html": [
       "<p>Failed to display Jupyter Widget of type <code>HBox</code>.</p>\n",
       "<p>\n",
       "  If you're reading this message in the Jupyter Notebook or JupyterLab Notebook, it may mean\n",
       "  that the widgets JavaScript is still loading. If this message persists, it\n",
       "  likely means that the widgets JavaScript library is either not installed or\n",
       "  not enabled. See the <a href=\"https://ipywidgets.readthedocs.io/en/stable/user_install.html\">Jupyter\n",
       "  Widgets Documentation</a> for setup instructions.\n",
       "</p>\n",
       "<p>\n",
       "  If you're reading this message in another frontend (for example, a static\n",
       "  rendering on GitHub or <a href=\"https://nbviewer.jupyter.org/\">NBViewer</a>),\n",
       "  it may mean that your frontend doesn't currently support widgets.\n",
       "</p>\n"
      ],
      "text/plain": [
       "HBox(children=(IntProgress(value=0, description='Epoch 33', max=70), HTML(value='')))"
      ]
     },
     "metadata": {},
     "output_type": "display_data"
    },
    {
     "data": {
      "application/vnd.jupyter.widget-view+json": {
       "model_id": "5a121cdc204f4d28a54f9d50dc5a84b6",
       "version_major": 2,
       "version_minor": 0
      },
      "text/html": [
       "<p>Failed to display Jupyter Widget of type <code>HBox</code>.</p>\n",
       "<p>\n",
       "  If you're reading this message in the Jupyter Notebook or JupyterLab Notebook, it may mean\n",
       "  that the widgets JavaScript is still loading. If this message persists, it\n",
       "  likely means that the widgets JavaScript library is either not installed or\n",
       "  not enabled. See the <a href=\"https://ipywidgets.readthedocs.io/en/stable/user_install.html\">Jupyter\n",
       "  Widgets Documentation</a> for setup instructions.\n",
       "</p>\n",
       "<p>\n",
       "  If you're reading this message in another frontend (for example, a static\n",
       "  rendering on GitHub or <a href=\"https://nbviewer.jupyter.org/\">NBViewer</a>),\n",
       "  it may mean that your frontend doesn't currently support widgets.\n",
       "</p>\n"
      ],
      "text/plain": [
       "HBox(children=(IntProgress(value=0, description='Epoch 34', max=70), HTML(value='')))"
      ]
     },
     "metadata": {},
     "output_type": "display_data"
    },
    {
     "data": {
      "application/vnd.jupyter.widget-view+json": {
       "model_id": "b40ed46bb97e409391cc40afe5c739a0",
       "version_major": 2,
       "version_minor": 0
      },
      "text/html": [
       "<p>Failed to display Jupyter Widget of type <code>HBox</code>.</p>\n",
       "<p>\n",
       "  If you're reading this message in the Jupyter Notebook or JupyterLab Notebook, it may mean\n",
       "  that the widgets JavaScript is still loading. If this message persists, it\n",
       "  likely means that the widgets JavaScript library is either not installed or\n",
       "  not enabled. See the <a href=\"https://ipywidgets.readthedocs.io/en/stable/user_install.html\">Jupyter\n",
       "  Widgets Documentation</a> for setup instructions.\n",
       "</p>\n",
       "<p>\n",
       "  If you're reading this message in another frontend (for example, a static\n",
       "  rendering on GitHub or <a href=\"https://nbviewer.jupyter.org/\">NBViewer</a>),\n",
       "  it may mean that your frontend doesn't currently support widgets.\n",
       "</p>\n"
      ],
      "text/plain": [
       "HBox(children=(IntProgress(value=0, description='Epoch 35', max=70), HTML(value='')))"
      ]
     },
     "metadata": {},
     "output_type": "display_data"
    },
    {
     "data": {
      "application/vnd.jupyter.widget-view+json": {
       "model_id": "7a2f744696be409296d25abfe345d8d1",
       "version_major": 2,
       "version_minor": 0
      },
      "text/html": [
       "<p>Failed to display Jupyter Widget of type <code>HBox</code>.</p>\n",
       "<p>\n",
       "  If you're reading this message in the Jupyter Notebook or JupyterLab Notebook, it may mean\n",
       "  that the widgets JavaScript is still loading. If this message persists, it\n",
       "  likely means that the widgets JavaScript library is either not installed or\n",
       "  not enabled. See the <a href=\"https://ipywidgets.readthedocs.io/en/stable/user_install.html\">Jupyter\n",
       "  Widgets Documentation</a> for setup instructions.\n",
       "</p>\n",
       "<p>\n",
       "  If you're reading this message in another frontend (for example, a static\n",
       "  rendering on GitHub or <a href=\"https://nbviewer.jupyter.org/\">NBViewer</a>),\n",
       "  it may mean that your frontend doesn't currently support widgets.\n",
       "</p>\n"
      ],
      "text/plain": [
       "HBox(children=(IntProgress(value=0, description='Epoch 36', max=70), HTML(value='')))"
      ]
     },
     "metadata": {},
     "output_type": "display_data"
    },
    {
     "data": {
      "application/vnd.jupyter.widget-view+json": {
       "model_id": "a33a4783f9074f6aa5edfc5b92135e90",
       "version_major": 2,
       "version_minor": 0
      },
      "text/html": [
       "<p>Failed to display Jupyter Widget of type <code>HBox</code>.</p>\n",
       "<p>\n",
       "  If you're reading this message in the Jupyter Notebook or JupyterLab Notebook, it may mean\n",
       "  that the widgets JavaScript is still loading. If this message persists, it\n",
       "  likely means that the widgets JavaScript library is either not installed or\n",
       "  not enabled. See the <a href=\"https://ipywidgets.readthedocs.io/en/stable/user_install.html\">Jupyter\n",
       "  Widgets Documentation</a> for setup instructions.\n",
       "</p>\n",
       "<p>\n",
       "  If you're reading this message in another frontend (for example, a static\n",
       "  rendering on GitHub or <a href=\"https://nbviewer.jupyter.org/\">NBViewer</a>),\n",
       "  it may mean that your frontend doesn't currently support widgets.\n",
       "</p>\n"
      ],
      "text/plain": [
       "HBox(children=(IntProgress(value=0, description='Epoch 37', max=70), HTML(value='')))"
      ]
     },
     "metadata": {},
     "output_type": "display_data"
    },
    {
     "data": {
      "application/vnd.jupyter.widget-view+json": {
       "model_id": "df2fb78da1e04ead85696fe5b869a205",
       "version_major": 2,
       "version_minor": 0
      },
      "text/html": [
       "<p>Failed to display Jupyter Widget of type <code>HBox</code>.</p>\n",
       "<p>\n",
       "  If you're reading this message in the Jupyter Notebook or JupyterLab Notebook, it may mean\n",
       "  that the widgets JavaScript is still loading. If this message persists, it\n",
       "  likely means that the widgets JavaScript library is either not installed or\n",
       "  not enabled. See the <a href=\"https://ipywidgets.readthedocs.io/en/stable/user_install.html\">Jupyter\n",
       "  Widgets Documentation</a> for setup instructions.\n",
       "</p>\n",
       "<p>\n",
       "  If you're reading this message in another frontend (for example, a static\n",
       "  rendering on GitHub or <a href=\"https://nbviewer.jupyter.org/\">NBViewer</a>),\n",
       "  it may mean that your frontend doesn't currently support widgets.\n",
       "</p>\n"
      ],
      "text/plain": [
       "HBox(children=(IntProgress(value=0, description='Epoch 38', max=70), HTML(value='')))"
      ]
     },
     "metadata": {},
     "output_type": "display_data"
    },
    {
     "data": {
      "application/vnd.jupyter.widget-view+json": {
       "model_id": "d01963a6fa6d4cf5a208f7470c362ff4",
       "version_major": 2,
       "version_minor": 0
      },
      "text/html": [
       "<p>Failed to display Jupyter Widget of type <code>HBox</code>.</p>\n",
       "<p>\n",
       "  If you're reading this message in the Jupyter Notebook or JupyterLab Notebook, it may mean\n",
       "  that the widgets JavaScript is still loading. If this message persists, it\n",
       "  likely means that the widgets JavaScript library is either not installed or\n",
       "  not enabled. See the <a href=\"https://ipywidgets.readthedocs.io/en/stable/user_install.html\">Jupyter\n",
       "  Widgets Documentation</a> for setup instructions.\n",
       "</p>\n",
       "<p>\n",
       "  If you're reading this message in another frontend (for example, a static\n",
       "  rendering on GitHub or <a href=\"https://nbviewer.jupyter.org/\">NBViewer</a>),\n",
       "  it may mean that your frontend doesn't currently support widgets.\n",
       "</p>\n"
      ],
      "text/plain": [
       "HBox(children=(IntProgress(value=0, description='Epoch 39', max=70), HTML(value='')))"
      ]
     },
     "metadata": {},
     "output_type": "display_data"
    },
    {
     "data": {
      "application/vnd.jupyter.widget-view+json": {
       "model_id": "41078fa7ec4642f79f77c4492c122891",
       "version_major": 2,
       "version_minor": 0
      },
      "text/html": [
       "<p>Failed to display Jupyter Widget of type <code>HBox</code>.</p>\n",
       "<p>\n",
       "  If you're reading this message in the Jupyter Notebook or JupyterLab Notebook, it may mean\n",
       "  that the widgets JavaScript is still loading. If this message persists, it\n",
       "  likely means that the widgets JavaScript library is either not installed or\n",
       "  not enabled. See the <a href=\"https://ipywidgets.readthedocs.io/en/stable/user_install.html\">Jupyter\n",
       "  Widgets Documentation</a> for setup instructions.\n",
       "</p>\n",
       "<p>\n",
       "  If you're reading this message in another frontend (for example, a static\n",
       "  rendering on GitHub or <a href=\"https://nbviewer.jupyter.org/\">NBViewer</a>),\n",
       "  it may mean that your frontend doesn't currently support widgets.\n",
       "</p>\n"
      ],
      "text/plain": [
       "HBox(children=(IntProgress(value=0, description='Epoch 40', max=70), HTML(value='')))"
      ]
     },
     "metadata": {},
     "output_type": "display_data"
    }
   ],
   "source": [
    "#model training\n",
    "start_time = time.monotonic()\n",
    "\n",
    "H = model_f.fit_generator(datagen_angle.flow(X_train_sample, y_train_sample, batch_size=16),\n",
    "                    steps_per_epoch=len(X_train_sample)/16,\n",
    "                    validation_data=datagen_angle_val.flow(X_val, y_val, batch_size=24, shuffle=False), \n",
    "                    validation_steps=len(X_val)/24,\n",
    "                    #validation_data=[X_val,y_val],\n",
    "                    epochs=100, callbacks=callbacks,\n",
    "                    verbose=0)\n",
    "\n",
    "model_time = time.monotonic() - start_time\n",
    "print(\"Model training time: \" + '{:d}'.format(int(model_time // 60)) + \" minutes \" \n",
    "      + '{:.1f}'.format(model_time % 60) + \" seconds\")"
   ]
  },
  {
   "cell_type": "code",
   "execution_count": 50,
   "metadata": {},
   "outputs": [
    {
     "data": {
      "image/png": "[encoded data removed]",
      "text/plain": [
       "<matplotlib.figure.Figure at 0x2476a374320>"
      ]
     },
     "metadata": {},
     "output_type": "display_data"
    }
   ],
   "source": [
    "h = lScheduler.history\n",
    "plt.plot(h['lr'], color=\"b\", label='lr')\n",
    "plt.legend()\n",
    "plt.xlabel('# iterations')\n",
    "plt.show()"
   ]
  },
  {
   "cell_type": "code",
   "execution_count": 83,
   "metadata": {
    "scrolled": true
   },
   "outputs": [
    {
     "data": {
      "image/png": "[encoded data removed]",
      "text/plain": [
       "<matplotlib.figure.Figure at 0x288c1c1beb8>"
      ]
     },
     "metadata": {},
     "output_type": "display_data"
    }
   ],
   "source": [
    "plt.plot(H.history['loss'], color=\"b\", label='Training loss')\n",
    "plt.plot(H.history['val_loss'], color=\"r\", label='Validation loss')\n",
    "plt.legend()\n",
    "plt.xlabel('# epochs')\n",
    "plt.show()"
   ]
  },
  {
   "cell_type": "code",
   "execution_count": null,
   "metadata": {
    "collapsed": true
   },
   "outputs": [],
   "source": [
    "model_f.set_weights(modelEnsemble.models[len(modelEnsemble.models)-1][2])"
   ]
  },
  {
   "cell_type": "markdown",
   "metadata": {},
   "source": [
    "### Additional training epochs with SGD - warm start"
   ]
  },
  {
   "cell_type": "code",
   "execution_count": null,
   "metadata": {
    "collapsed": true
   },
   "outputs": [],
   "source": [
    "#addtional training epochs - warm start\n",
    "#lScheduler = LScheduler(initial_lrate=0.000001, drop=0.66, patience=3)\n",
    "modelEnsemble2 = ModelHistory(listSize=5)\n",
    "lScheduler = CyclicLR(base_lr=1e-9, max_lr=1e-5,\n",
    "                                 step_size=80, mode='triangular2', gamma=0.9994)\n",
    "callbacks = get_callbacks(filepath=model_best_weights_path, save_to_disc=False, lScheduler=lScheduler,\n",
    "                          modelHistoryCallback=modelEnsemble2)\n",
    "model_f.compile(optimizer=SGD(lr=0.0001),loss='binary_crossentropy',metrics=['accuracy'])\n",
    "start_time = time.monotonic()\n",
    "\n",
    "H2 = model_f.fit_generator(datagen_angle.flow(X_train_sample, y_train_sample, batch_size=24, shuffle=False),\n",
    "                    steps_per_epoch=len(X_train_sample)/24,\n",
    "                    validation_data=datagen_angle_val.flow(X_val, y_val, batch_size=24, shuffle=False), \n",
    "                    validation_steps=len(X_val)/24,\n",
    "                    #validation_data=[X_val,y_val],\n",
    "                    epochs=15, callbacks=callbacks,\n",
    "                    verbose=0)\n",
    "\n",
    "model_time = time.monotonic() - start_time\n",
    "print(\"Model training time: \" + '{:d}'.format(int(model_time // 60)) + \" minutes \" \n",
    "      + '{:.1f}'.format(model_time % 60) + \" seconds\")"
   ]
  },
  {
   "cell_type": "code",
   "execution_count": null,
   "metadata": {
    "collapsed": true
   },
   "outputs": [],
   "source": [
    "h = lScheduler.history\n",
    "plt.plot(h['lr'], color=\"b\", label='lr')\n",
    "plt.legend()\n",
    "plt.xlabel('# iterations')\n",
    "plt.show()"
   ]
  },
  {
   "cell_type": "code",
   "execution_count": null,
   "metadata": {
    "collapsed": true
   },
   "outputs": [],
   "source": [
    "for key in H.history:\n",
    "    H.history[key].extend(H2.history[key])"
   ]
  },
  {
   "cell_type": "code",
   "execution_count": null,
   "metadata": {
    "collapsed": true,
    "scrolled": false
   },
   "outputs": [],
   "source": [
    "plt.plot(H2.history['loss'], color=\"b\", label='Training loss')\n",
    "plt.plot(H2.history['val_loss'], color=\"r\", label='Validation loss')\n",
    "plt.legend()\n",
    "plt.xlabel('# epochs')\n",
    "plt.show()"
   ]
  },
  {
   "cell_type": "code",
   "execution_count": null,
   "metadata": {
    "collapsed": true
   },
   "outputs": [],
   "source": [
    "plt.plot(H.history['loss'], color=\"b\", label='Training loss')\n",
    "plt.plot(H.history['val_loss'], color=\"r\", label='Validation loss')\n",
    "plt.legend()\n",
    "plt.xlabel('# epochs')\n",
    "plt.show()"
   ]
  },
  {
   "cell_type": "code",
   "execution_count": null,
   "metadata": {
    "collapsed": true
   },
   "outputs": [],
   "source": [
    "# serialize model to JSON\n",
    "model_json = model_f.to_json()\n",
    "with open(\"models/model.json\", \"w\") as json_file:\n",
    "    json_file.write(model_json)"
   ]
  },
  {
   "cell_type": "code",
   "execution_count": null,
   "metadata": {
    "collapsed": true
   },
   "outputs": [],
   "source": [
    "# load model from JSON - don't care about the weights rith now, they are saved separately\n",
    "with open(\"models/model.json\", \"r\") as json_file:\n",
    "    loaded_model_json = json_file.read()\n",
    "    model_f = model_from_json(loaded_model_json)"
   ]
  },
  {
   "cell_type": "code",
   "execution_count": null,
   "metadata": {
    "collapsed": true,
    "scrolled": false
   },
   "outputs": [],
   "source": [
    "#model_object_path = model_path + \"model.\" + model_code + \"_\" + model_timestamp + '.hdf5'\n",
    "#model_f.save('models/last_model.hdf5') //crashes python kernel with Keras version 2.1.2\n",
    "#model_f = load_model(model_object_path)"
   ]
  },
  {
   "cell_type": "markdown",
   "metadata": {},
   "source": [
    "### Saving model history"
   ]
  },
  {
   "cell_type": "code",
   "execution_count": null,
   "metadata": {
    "collapsed": true
   },
   "outputs": [],
   "source": [
    "argmin = np.array(H.history[\"loss\"]).argmin()\n",
    "argmin"
   ]
  },
  {
   "cell_type": "code",
   "execution_count": null,
   "metadata": {
    "collapsed": true,
    "scrolled": true
   },
   "outputs": [],
   "source": [
    "argmin = np.array(H.history[\"val_loss\"]).argmin()\n",
    "argmax_acc = np.array(H.history[\"val_acc\"]).argmax()\n",
    "#with open('current_model.py','r') as model_python_code_file:\n",
    "#    models_history = pd.DataFrame({\"timestamp\":[model_timestamp], \n",
    "#                                    \"val_loss [min]\":[H.history['val_loss'][argmin]],\n",
    "#                                    \"epoch [val_loss [min]]\":argmin,\n",
    "#                                    \"training_loss [val_loss [min]]\":[H.history['loss'][argmin]],\n",
    "#                                    \"val_acc [val_loss [min]]\":[H.history['val_acc'][argmin]],\n",
    "#                                    \"training_acc [val_loss [min]]\":[H.history['acc'][argmin]],\n",
    "#                                    \n",
    "#                                    \"val_acc [max]\":[H.history['val_acc'][argmax_acc]],\n",
    "#                                    \"epoch [val_acc [max]]\":argmax_acc,\n",
    "#                                    \"training_loss [val_acc [max]]\":[H.history['loss'][argmax_acc]],\n",
    "#                                    \"val_loss [val_acc [max]]\":[H.history['val_loss'][argmax_acc]],\n",
    "#                                    \"training_acc [val_acc [max]]\":[H.history['acc'][argmax_acc]],\n",
    "#                                    \n",
    "#                                    \"model_path\":[model_object_path],\n",
    "#                                    \"model_weights_path\":[model_best_weights_path],\n",
    "#                                    \"model_python_code\":[model_python_code_file.read().replace('\\r\\n','\\n')],\n",
    "#                                    \"model_comment\":[model_comment]\n",
    "#                                })\n",
    "#                               \n",
    "#models_history = models_history[[\"timestamp\", \n",
    "#                                 \"epoch [val_loss [min]]\", \"val_loss [min]\", \"training_loss [val_loss [min]]\",\n",
    "#                                 \"val_acc [val_loss [min]]\", \"training_acc [val_loss [min]]\",\n",
    "#                                 \"epoch [val_acc [max]]\", \"val_acc [max]\", \"training_loss [val_acc [max]]\",\n",
    "#                                 \"val_loss [val_acc [max]]\", \"training_acc [val_acc [max]]\",\n",
    "#                                 \"model_path\",\"model_weights_path\",\"model_python_code\",\"model_comment\"]]\n",
    "#models_history.head()"
   ]
  },
  {
   "cell_type": "code",
   "execution_count": null,
   "metadata": {
    "collapsed": true
   },
   "outputs": [],
   "source": [
    "#print(\"Min validation loss epoch:\")\n",
    "#print(\"epoch: %d\" %(argmin),\n",
    "#      \"; val loss [min] %.4f: \" % (models_history[\"val_loss [min]\"][0]), \n",
    "#      \"; training loss: %.4f\" % (models_history[\"training_loss [val_loss [min]]\"][0]),\n",
    "#      \"; val acc: %.4f\" % (models_history[\"val_acc [val_loss [min]]\"][0]),\n",
    "#      \"; training acc: %.4f \" % (models_history[\"training_acc [val_loss [min]]\"][0])\n",
    "#     )\n",
    "#print(\"Max validation accuracy epoch:\")\n",
    "#print(\"epoch: %d\" %(argmax_acc),\n",
    "#      \"; val loss %.4f: \" % (models_history[\"val_loss [val_acc [max]]\"][0]), \n",
    "#      \"; training loss: %.4f\" % (models_history[\"training_loss [val_acc [max]]\"][0]),\n",
    "#      \"; val acc [max]: %.4f\" % (models_history[\"val_acc [max]\"][0]),\n",
    "#      \"; training acc: %.4f \" % (models_history[\"training_acc [val_acc [max]]\"][0]),\n",
    "#     )\n",
    "#print(\"model comment:\", model_comment)\n",
    "#"
   ]
  },
  {
   "cell_type": "code",
   "execution_count": null,
   "metadata": {
    "collapsed": true
   },
   "outputs": [],
   "source": [
    "#with open('models_history.csv', 'a') as f:\n",
    "#    models_history.to_csv(f, header=False,index=False)\n",
    "#    #models_history.to_csv(f, index=False)"
   ]
  },
  {
   "cell_type": "code",
   "execution_count": null,
   "metadata": {
    "collapsed": true,
    "scrolled": false
   },
   "outputs": [],
   "source": [
    "#df = pd.read_csv('models_history.csv')\n",
    "#df.tail()"
   ]
  },
  {
   "cell_type": "markdown",
   "metadata": {},
   "source": [
    "### Model Ensemble"
   ]
  },
  {
   "cell_type": "code",
   "execution_count": null,
   "metadata": {
    "collapsed": true,
    "scrolled": true
   },
   "outputs": [],
   "source": [
    "modelEnsemble.models.extend(modelEnsemble2.models)"
   ]
  },
  {
   "cell_type": "code",
   "execution_count": null,
   "metadata": {
    "collapsed": true
   },
   "outputs": [],
   "source": [
    "with open('models/modelEnsemble.pickle', 'wb') as handle:\n",
    "    pickle.dump(modelEnsemble.models, handle, protocol=pickle.HIGHEST_PROTOCOL)"
   ]
  },
  {
   "cell_type": "code",
   "execution_count": null,
   "metadata": {
    "collapsed": true
   },
   "outputs": [],
   "source": [
    "with open('models/modelEnsemble.pickle', 'rb') as handle:\n",
    "    modelEnsemble.models = pickle.load(handle)"
   ]
  },
  {
   "cell_type": "code",
   "execution_count": null,
   "metadata": {
    "collapsed": true
   },
   "outputs": [],
   "source": [
    "def get_prediction(model,weights, X, y):\n",
    "    model.set_weights(weights)\n",
    "    return model.predict_generator(datagen_angle_val.flow(X, y, batch_size=32, shuffle=False), \n",
    "                           steps = len(X)/31, verbose=1)"
   ]
  },
  {
   "cell_type": "code",
   "execution_count": null,
   "metadata": {
    "collapsed": true
   },
   "outputs": [],
   "source": [
    "def get_ensemble_predictions(X, y, modelEnsemble):\n",
    "    predictions = [get_prediction(model_f, model[2], X, y)[:X.shape[0]]\n",
    "                   for model in tqdm(modelEnsemble.models)]    \n",
    "    temp_array = np.array(predictions)\n",
    "    del(predictions)\n",
    "    temp_array = np.swapaxes(temp_array,0,1)\n",
    "    temp_array = temp_array.reshape(temp_array.shape[0],temp_array.shape[1])\n",
    "    return temp_array"
   ]
  },
  {
   "cell_type": "code",
   "execution_count": null,
   "metadata": {
    "collapsed": true
   },
   "outputs": [],
   "source": [
    "#with h5py.File('tmp_data/ensemble_data.h5', 'r') as hf:\n",
    "#    ensemble_train = hf['ensemble_train'][:]"
   ]
  },
  {
   "cell_type": "code",
   "execution_count": null,
   "metadata": {
    "collapsed": true
   },
   "outputs": [],
   "source": [
    "modelEnsemble.models[0][0]"
   ]
  },
  {
   "cell_type": "code",
   "execution_count": null,
   "metadata": {
    "collapsed": true,
    "scrolled": true
   },
   "outputs": [],
   "source": [
    "ensemble_val = get_ensemble_predictions(X_val, y_val, modelEnsemble)\n",
    "with h5py.File('tmp_data/ensemble_data.h5', 'w') as hf:\n",
    "    hf.create_dataset(\"ensemble_val\",  data=ensemble_val)\n",
    "ensemble_val.shape"
   ]
  },
  {
   "cell_type": "code",
   "execution_count": null,
   "metadata": {
    "collapsed": true
   },
   "outputs": [],
   "source": [
    "#with h5py.File('tmp_data/ensemble_data.h5', 'r') as hf:\n",
    "#    ensemble_val = hf['ensemble_val'][:]"
   ]
  },
  {
   "cell_type": "code",
   "execution_count": null,
   "metadata": {
    "collapsed": true,
    "scrolled": true
   },
   "outputs": [],
   "source": [
    "ensemble_val[1]"
   ]
  },
  {
   "cell_type": "code",
   "execution_count": null,
   "metadata": {
    "collapsed": true
   },
   "outputs": [],
   "source": [
    "def modelfit(alg, X, y , X_test, y_test, useTrainCV=True, cv_folds=5, early_stopping_rounds=50):\n",
    "    \n",
    "    if useTrainCV:\n",
    "        xgb_param = alg.get_xgb_params()\n",
    "        xgtrain = xgb.DMatrix(X, label=y)\n",
    "        cvresult = xgb.cv(xgb_param, xgtrain, num_boost_round=alg.get_params()['n_estimators'], nfold=cv_folds,\n",
    "            metrics='logloss', early_stopping_rounds=early_stopping_rounds)\n",
    "        alg.set_params(n_estimators=cvresult.shape[0])\n",
    "    \n",
    "    #Fit the algorithm on the data\n",
    "    alg.fit(X, y,eval_metric='logloss')\n",
    "        \n",
    "    #Predict training set:\n",
    "    dtrain_predictions = alg.predict(X)\n",
    "    dtrain_predprob = alg.predict_proba(X)[:,1]\n",
    "    dtest_predprob = alg.predict_proba(X_test)[:,1]\n",
    "        \n",
    "    #Print model report:\n",
    "    print(\"\\nModel Report\")\n",
    "    print(\"n_estimators: %d\" % cvresult.shape[0])\n",
    "    print(\"Accuracy : %.4g\" % metrics.accuracy_score(y, dtrain_predictions))\n",
    "    print(\"Log loss (Train): %f\" % metrics.log_loss(y, dtrain_predprob))\n",
    "    print(\"Log loss (Test): %f\" % metrics.log_loss(y_test, dtest_predprob))\n",
    "                    \n",
    "    feat_imp = pd.Series(alg.booster().get_fscore()).sort_values(ascending=False)\n",
    "    feat_imp.plot(kind='bar', title='Feature Importances')\n",
    "    plt.ylabel('Feature Importance Score')\n",
    "    plt.show()"
   ]
  },
  {
   "cell_type": "code",
   "execution_count": null,
   "metadata": {
    "collapsed": true
   },
   "outputs": [],
   "source": [
    "ensemble_train = get_ensemble_predictions(X_train, y_train, modelEnsemble)\n",
    "with h5py.File('tmp_data/ensemble_data.h5', 'a') as hf:\n",
    "    hf.create_dataset(\"ensemble_train\",  data=ensemble_train)"
   ]
  },
  {
   "cell_type": "code",
   "execution_count": null,
   "metadata": {
    "collapsed": true
   },
   "outputs": [],
   "source": [
    "with h5py.File('tmp_data/ensemble_data.h5', 'r') as hf:\n",
    "    ensemble_train = hf['ensemble_train'][:]"
   ]
  },
  {
   "cell_type": "code",
   "execution_count": null,
   "metadata": {
    "collapsed": true
   },
   "outputs": [],
   "source": [
    "ensemble_train[0]"
   ]
  },
  {
   "cell_type": "code",
   "execution_count": null,
   "metadata": {
    "collapsed": true
   },
   "outputs": [],
   "source": [
    "#ensemble_all = get_ensemble_predictions(X, y_angle, modelEnsemble)"
   ]
  },
  {
   "cell_type": "code",
   "execution_count": null,
   "metadata": {
    "collapsed": true,
    "scrolled": true
   },
   "outputs": [],
   "source": [
    "xgb1 = xgb.XGBClassifier(\n",
    " learning_rate =0.1,\n",
    " n_estimators=1000,\n",
    " max_depth=5,\n",
    " min_child_weight=1,\n",
    " gamma=0,\n",
    " subsample=0.8,\n",
    " colsample_bytree=0.8,\n",
    " objective= 'binary:logistic',\n",
    " nthread=8,\n",
    " scale_pos_weight=1,\n",
    " seed=27)\n",
    "modelfit(xgb1, ensemble_val, y_val['is_iceberg'], ensemble_train, y_train['is_iceberg'])"
   ]
  },
  {
   "cell_type": "code",
   "execution_count": null,
   "metadata": {
    "collapsed": true,
    "scrolled": true
   },
   "outputs": [],
   "source": [
    "#ensemble_all = get_ensemble_predictions(X, y_angle, modelEnsemble)"
   ]
  },
  {
   "cell_type": "code",
   "execution_count": null,
   "metadata": {
    "collapsed": true,
    "scrolled": true
   },
   "outputs": [],
   "source": [
    "param_test1 = {\n",
    " 'max_depth':list(range(3,13,2)),\n",
    " 'min_child_weight':list(range(1,10,2))\n",
    "}\n",
    "gsearch1 = GridSearchCV(estimator = xgb.XGBClassifier( learning_rate =0.1, n_estimators=35, max_depth=5,\n",
    " min_child_weight=1, gamma=0, subsample=0.8, colsample_bytree=0.8,\n",
    " objective= 'binary:logistic', nthread=8, scale_pos_weight=1, seed=random_seed), \n",
    " param_grid = param_test1, scoring='neg_log_loss',n_jobs=1,iid=False, cv=5, verbose=1)\n",
    "gsearch1.fit(ensemble_val,y_val['is_iceberg'].values)\n",
    "gsearch1.grid_scores_, gsearch1.best_params_, gsearch1.best_score_"
   ]
  },
  {
   "cell_type": "code",
   "execution_count": null,
   "metadata": {
    "collapsed": true,
    "scrolled": true
   },
   "outputs": [],
   "source": [
    "param_test2 = {\n",
    " 'max_depth':[2,3,4],\n",
    " 'min_child_weight':[2.5,3,3.5,6.5,7,7.5]\n",
    "}\n",
    "gsearch2 = GridSearchCV(estimator = xgb.XGBClassifier( learning_rate =0.1, n_estimators=35, max_depth=2,\n",
    " min_child_weight=3.5, gamma=0, subsample=0.8, colsample_bytree=0.8,\n",
    " objective= 'binary:logistic', nthread=8, scale_pos_weight=1, seed=random_seed), \n",
    " param_grid = param_test2, scoring='neg_log_loss',n_jobs=1,iid=False, cv=5, verbose=1)\n",
    "gsearch2.fit(ensemble_val,y_val['is_iceberg'].values)\n",
    "gsearch2.grid_scores_, gsearch2.best_params_, gsearch2.best_score_"
   ]
  },
  {
   "cell_type": "code",
   "execution_count": null,
   "metadata": {
    "collapsed": true
   },
   "outputs": [],
   "source": [
    "param_test3 = {\n",
    " 'gamma':[i/20.0 for i in range(0,30)]\n",
    "}\n",
    "gsearch3 = GridSearchCV(estimator = xgb.XGBClassifier( learning_rate =0.1, n_estimators=35, max_depth=2,\n",
    " min_child_weight=3.5, gamma=0, subsample=0.8, colsample_bytree=0.8,\n",
    " objective= 'binary:logistic', nthread=8, scale_pos_weight=1, seed=random_seed), \n",
    " param_grid = param_test3, scoring='neg_log_loss',n_jobs=1,iid=False, cv=5, verbose=1)\n",
    "gsearch3.fit(ensemble_val,y_val['is_iceberg'].values)\n",
    "gsearch3.grid_scores_, gsearch3.best_params_, gsearch3.best_score_"
   ]
  },
  {
   "cell_type": "code",
   "execution_count": null,
   "metadata": {
    "collapsed": true
   },
   "outputs": [],
   "source": [
    "xgb2 = xgb.XGBClassifier(\n",
    " learning_rate =0.1,\n",
    " n_estimators=1000,\n",
    " max_depth=2,\n",
    " min_child_weight=3.5,\n",
    " gamma=1.3,\n",
    " subsample=0.8,\n",
    " colsample_bytree=0.8,\n",
    " objective= 'binary:logistic',\n",
    " nthread=8,\n",
    " scale_pos_weight=1,\n",
    " seed=27)\n",
    "modelfit(xgb2, ensemble_val, y_val['is_iceberg'],ensemble_train, y_train['is_iceberg'])"
   ]
  },
  {
   "cell_type": "code",
   "execution_count": null,
   "metadata": {
    "collapsed": true,
    "scrolled": true
   },
   "outputs": [],
   "source": [
    "param_test4 = {\n",
    " 'subsample':[i/10.0 for i in range(6,10)],\n",
    " 'colsample_bytree':[i/10.0 for i in range(6,10)]\n",
    "}\n",
    "gsearch4 = GridSearchCV(estimator = xgb.XGBClassifier( learning_rate =0.1, n_estimators=40, max_depth=2,\n",
    " min_child_weight=3.5, gamma=1.3, subsample=0.8, colsample_bytree=0.8,\n",
    " objective= 'binary:logistic', nthread=8, scale_pos_weight=1, seed=random_seed), \n",
    " param_grid = param_test4, scoring='neg_log_loss',n_jobs=1,iid=False, cv=5, verbose=1)\n",
    "gsearch4.fit(ensemble_val,y_val['is_iceberg'].values)\n",
    "gsearch4.grid_scores_, gsearch4.best_params_, gsearch4.best_score_"
   ]
  },
  {
   "cell_type": "code",
   "execution_count": null,
   "metadata": {
    "collapsed": true,
    "scrolled": true
   },
   "outputs": [],
   "source": [
    "param_test5 = {\n",
    " 'subsample':[i/100.0 for i in range(70,100,5)],\n",
    " 'colsample_bytree':[i/100.0 for i in range(40,100,5)]\n",
    "}\n",
    "gsearch5 = GridSearchCV(estimator = xgb.XGBClassifier( learning_rate =0.1, n_estimators=40, max_depth=2,\n",
    " min_child_weight=3.5, gamma=1.3, subsample=0.8, colsample_bytree=0.8,\n",
    " objective= 'binary:logistic', nthread=8, scale_pos_weight=1, seed=random_seed), \n",
    " param_grid = param_test5, scoring='neg_log_loss',n_jobs=1,iid=False, cv=5, verbose=1)\n",
    "gsearch5.fit(ensemble_val,y_val['is_iceberg'].values)\n",
    "gsearch5.grid_scores_, gsearch5.best_params_, gsearch5.best_score_"
   ]
  },
  {
   "cell_type": "code",
   "execution_count": null,
   "metadata": {
    "collapsed": true,
    "scrolled": true
   },
   "outputs": [],
   "source": [
    "param_test6 = {\n",
    " 'reg_alpha':[1e-5, 1e-2, 0.1, 1, 100]\n",
    "}\n",
    "gsearch6 = GridSearchCV(estimator = xgb.XGBClassifier( learning_rate =0.1, n_estimators=40, max_depth=2,\n",
    " min_child_weight=3.5, gamma=1.3, subsample=0.75, colsample_bytree=0.4,\n",
    " objective= 'binary:logistic', nthread=8, scale_pos_weight=1, seed=random_seed), \n",
    " param_grid = param_test6, scoring='neg_log_loss',n_jobs=1,iid=False, cv=5, verbose=1)\n",
    "gsearch6.fit(ensemble_val,y_val['is_iceberg'].values)\n",
    "gsearch6.grid_scores_, gsearch6.best_params_, gsearch6.best_score_"
   ]
  },
  {
   "cell_type": "code",
   "execution_count": null,
   "metadata": {
    "collapsed": true,
    "scrolled": true
   },
   "outputs": [],
   "source": [
    "param_test7 = {\n",
    " 'reg_alpha':[0.000003, 0.00001, 0.0001, 0.0003, 0.0005]\n",
    "}\n",
    "gsearch7 = GridSearchCV(estimator = xgb.XGBClassifier( learning_rate =0.1, n_estimators=40, max_depth=2,\n",
    " min_child_weight=3.5, gamma=1.3, subsample=0.75, colsample_bytree=0.4,\n",
    " objective= 'binary:logistic', nthread=8, scale_pos_weight=1, seed=random_seed), \n",
    " param_grid = param_test7, scoring='neg_log_loss',n_jobs=1,iid=False, cv=5, verbose=1)\n",
    "gsearch7.fit(ensemble_val,y_val['is_iceberg'].values)\n",
    "gsearch7.grid_scores_, gsearch7.best_params_, gsearch7.best_score_"
   ]
  },
  {
   "cell_type": "code",
   "execution_count": null,
   "metadata": {
    "collapsed": true,
    "scrolled": true
   },
   "outputs": [],
   "source": [
    "xgb3 = xgb.XGBClassifier(\n",
    " learning_rate =0.1,\n",
    " n_estimators=1000,\n",
    " max_depth=2,\n",
    " min_child_weight=3.5,\n",
    " gamma=1.3,\n",
    " subsample=0.75,\n",
    " colsample_bytree=0.4,\n",
    " reg_alpha=3e-06,\n",
    " objective= 'binary:logistic',\n",
    " nthread=8,\n",
    " scale_pos_weight=1,\n",
    " seed=27)\n",
    "modelfit(xgb3, ensemble_val, y_val['is_iceberg'], ensemble_train, y_train['is_iceberg'])"
   ]
  },
  {
   "cell_type": "code",
   "execution_count": null,
   "metadata": {
    "collapsed": true
   },
   "outputs": [],
   "source": [
    "xgb4 = xgb.XGBClassifier(\n",
    " learning_rate =0.01,\n",
    " n_estimators=1000,\n",
    " max_depth=2,\n",
    " min_child_weight=3.5,\n",
    " gamma=1.3,\n",
    " subsample=0.75,\n",
    " colsample_bytree=0.4,\n",
    " reg_alpha=3e-06,\n",
    " objective= 'binary:logistic',\n",
    " nthread=8,\n",
    " scale_pos_weight=1,\n",
    " seed=27)\n",
    "modelfit(xgb4, ensemble_val, y_val['is_iceberg'], ensemble_train, y_train['is_iceberg'])"
   ]
  },
  {
   "cell_type": "code",
   "execution_count": null,
   "metadata": {
    "collapsed": true
   },
   "outputs": [],
   "source": [
    "xgb5 = xgb.XGBClassifier(\n",
    " learning_rate =0.03,\n",
    " n_estimators=1000,\n",
    " max_depth=5,\n",
    " min_child_weight=3.5,\n",
    " gamma=0.0,\n",
    " subsample=0.8,\n",
    " colsample_bytree=0.8,\n",
    " reg_alpha=1,\n",
    " objective= 'binary:logistic',\n",
    " nthread=8,\n",
    " scale_pos_weight=1,\n",
    " seed=27)\n",
    "modelfit(xgb5, ensemble_train, y_train['is_iceberg'], ensemble_val, y_val['is_iceberg'])"
   ]
  },
  {
   "cell_type": "code",
   "execution_count": null,
   "metadata": {
    "collapsed": true
   },
   "outputs": [],
   "source": [
    "with open('models/modelXgb4.pickle', 'wb') as handle:\n",
    "    pickle.dump(xgb4, handle, protocol=pickle.HIGHEST_PROTOCOL)"
   ]
  },
  {
   "cell_type": "code",
   "execution_count": null,
   "metadata": {
    "collapsed": true
   },
   "outputs": [],
   "source": [
    "#with open('models/modelXgb4.pickle', 'rb') as handle:\n",
    "#    xgb4 = pickle.load(handle)"
   ]
  },
  {
   "cell_type": "markdown",
   "metadata": {},
   "source": [
    "### Predictions"
   ]
  },
  {
   "cell_type": "code",
   "execution_count": null,
   "metadata": {
    "collapsed": true
   },
   "outputs": [],
   "source": [
    "#use model\n",
    "#model_object_path = \"models\\\\model.CNN_2017_12_19_v15_2017_12_21_15_54_42.hdf5\"\n",
    "#model_best_weights_path = \"models\\\\weights.CNN_2017_12_19_v15_2017_12_21_15_54_42.hdf5\""
   ]
  },
  {
   "cell_type": "code",
   "execution_count": null,
   "metadata": {
    "collapsed": true
   },
   "outputs": [],
   "source": [
    "#model_f = load_model(model_object_path)"
   ]
  },
  {
   "cell_type": "code",
   "execution_count": null,
   "metadata": {
    "collapsed": true,
    "scrolled": true
   },
   "outputs": [],
   "source": [
    "#model_f.load_weights(model_best_weights_path)"
   ]
  },
  {
   "cell_type": "code",
   "execution_count": null,
   "metadata": {
    "collapsed": true,
    "scrolled": true
   },
   "outputs": [],
   "source": [
    "#model_f.evaluate_generator(datagen_angle_val.flow(X_val, y_val, batch_size=32, shuffle=False), \n",
    "#                          steps = len(X_val)/32)"
   ]
  },
  {
   "cell_type": "code",
   "execution_count": null,
   "metadata": {
    "collapsed": true
   },
   "outputs": [],
   "source": []
  },
  {
   "cell_type": "code",
   "execution_count": null,
   "metadata": {
    "collapsed": true
   },
   "outputs": [],
   "source": [
    "test_df = pd.read_json(\"Data/test/test.json\")"
   ]
  },
  {
   "cell_type": "code",
   "execution_count": null,
   "metadata": {
    "collapsed": true,
    "scrolled": false
   },
   "outputs": [],
   "source": [
    "test_df.head()"
   ]
  },
  {
   "cell_type": "code",
   "execution_count": null,
   "metadata": {
    "collapsed": true,
    "scrolled": true
   },
   "outputs": [],
   "source": [
    "test_df['inc_angle_f'] = pd.to_numeric(test_df['inc_angle'], errors='coerce')\n",
    "print(\"missing values in inc_angle: \", test_df['inc_angle_f'].isnull().sum())\n",
    "test_df['inc_angle_f'].replace(np.nan,0, inplace=True)\n",
    "test_df.tail()"
   ]
  },
  {
   "cell_type": "code",
   "execution_count": null,
   "metadata": {
    "collapsed": true
   },
   "outputs": [],
   "source": [
    "t_band_1, t_band_2, t_band_1_t, t_band_2_t, t_band_3, X_test = get_bands(test_df)\n",
    "y_angle_test = test_df.loc[:,['is_iceberg','inc_angle_f']]\n",
    "y_angle_test['index'] = y_angle_test.index"
   ]
  },
  {
   "cell_type": "code",
   "execution_count": null,
   "metadata": {
    "collapsed": true
   },
   "outputs": [],
   "source": [
    "X_test.shape"
   ]
  },
  {
   "cell_type": "code",
   "execution_count": null,
   "metadata": {
    "collapsed": true
   },
   "outputs": [],
   "source": [
    "X_train.shape"
   ]
  },
  {
   "cell_type": "code",
   "execution_count": null,
   "metadata": {
    "collapsed": true,
    "scrolled": true
   },
   "outputs": [],
   "source": [
    "X_tt = np.append(X_test,X_train, axis=0)\n",
    "X_tt.shape"
   ]
  },
  {
   "cell_type": "code",
   "execution_count": null,
   "metadata": {
    "collapsed": true,
    "scrolled": true
   },
   "outputs": [],
   "source": [
    "y_angle_tt = pd.concat([y_angle_test,y_train])\n",
    "len(y_angle_tt)"
   ]
  },
  {
   "cell_type": "code",
   "execution_count": null,
   "metadata": {
    "collapsed": true
   },
   "outputs": [],
   "source": [
    "del(band_1)"
   ]
  },
  {
   "cell_type": "code",
   "execution_count": null,
   "metadata": {
    "collapsed": true
   },
   "outputs": [],
   "source": [
    "del(band_1_t)"
   ]
  },
  {
   "cell_type": "code",
   "execution_count": null,
   "metadata": {
    "collapsed": true
   },
   "outputs": [],
   "source": [
    "del(band_2)"
   ]
  },
  {
   "cell_type": "code",
   "execution_count": null,
   "metadata": {
    "collapsed": true
   },
   "outputs": [],
   "source": [
    "del(band_2_t)"
   ]
  },
  {
   "cell_type": "code",
   "execution_count": null,
   "metadata": {
    "collapsed": true
   },
   "outputs": [],
   "source": [
    "del(band_3)"
   ]
  },
  {
   "cell_type": "code",
   "execution_count": null,
   "metadata": {
    "collapsed": true
   },
   "outputs": [],
   "source": [
    "#del(X_train_sample)"
   ]
  },
  {
   "cell_type": "code",
   "execution_count": null,
   "metadata": {
    "collapsed": true
   },
   "outputs": [],
   "source": [
    "del(xgb1)"
   ]
  },
  {
   "cell_type": "code",
   "execution_count": null,
   "metadata": {
    "collapsed": true
   },
   "outputs": [],
   "source": [
    "del(xgb2)"
   ]
  },
  {
   "cell_type": "code",
   "execution_count": null,
   "metadata": {
    "collapsed": true
   },
   "outputs": [],
   "source": [
    "del(xgb3)"
   ]
  },
  {
   "cell_type": "code",
   "execution_count": null,
   "metadata": {
    "collapsed": true
   },
   "outputs": [],
   "source": [
    "#del(train_df)"
   ]
  },
  {
   "cell_type": "code",
   "execution_count": null,
   "metadata": {
    "collapsed": true
   },
   "outputs": [],
   "source": [
    "del(t_band_1,t_band_2,t_band_1_t, t_band_2_t, t_band_3)\n",
    "del(test_df)"
   ]
  },
  {
   "cell_type": "markdown",
   "metadata": {},
   "source": [
    "### Training denoising model on train and test data - warm start"
   ]
  },
  {
   "cell_type": "code",
   "execution_count": null,
   "metadata": {
    "collapsed": true,
    "scrolled": true
   },
   "outputs": [],
   "source": [
    "lScheduler_denoising = LScheduler(initial_lrate=0.001, drop=0.66, patience=5)\n",
    "lrScheduler_denosing = LearningRateScheduler(lScheduler_denoising.step_decay)\n",
    "#model training\n",
    "start_time = time.monotonic()\n",
    "\n",
    "H = model_denoise.fit_generator(datagen_denoising.flow(X_tt, y_angle_tt, batch_size=8),\n",
    "                    steps_per_epoch=len(X_tt)/8,\n",
    "                    validation_data=datagen_denoising_val.flow(X_tt, y_angle_tt, batch_size=8, shuffle=False), \n",
    "                    validation_steps=len(X_tt)/8,\n",
    "                    #validation_data=[X_val,y_val],\n",
    "                    epochs=10,\n",
    "                    callbacks = [lrScheduler_denosing])\n",
    "\n",
    "model_time = time.monotonic() - start_time\n",
    "print(\"Model training time: \" + '{:d}'.format(int(model_time // 60)) + \" minutes \" \n",
    "      + '{:.1f}'.format(model_time % 60) + \" seconds\")"
   ]
  },
  {
   "cell_type": "code",
   "execution_count": null,
   "metadata": {
    "collapsed": true
   },
   "outputs": [],
   "source": [
    "# serialize weights to HDF5\n",
    "model_weights = model_denoise.get_weights()\n",
    "with open('models/model_denoise_weights_tt.pickle', 'wb') as handle:\n",
    "    pickle.dump(model_weights, handle, protocol=pickle.HIGHEST_PROTOCOL)"
   ]
  },
  {
   "cell_type": "markdown",
   "metadata": {},
   "source": [
    "### training on the whole dataset"
   ]
  },
  {
   "cell_type": "code",
   "execution_count": null,
   "metadata": {
    "collapsed": true
   },
   "outputs": [],
   "source": []
  },
  {
   "cell_type": "code",
   "execution_count": null,
   "metadata": {
    "collapsed": true,
    "scrolled": true
   },
   "outputs": [],
   "source": [
    "ensemble_all = get_ensemble_predictions(X, y_angle, modelEnsemble)"
   ]
  },
  {
   "cell_type": "code",
   "execution_count": null,
   "metadata": {
    "collapsed": true
   },
   "outputs": [],
   "source": [
    "xgb4 = xgb.XGBClassifier(\n",
    " learning_rate =0.0325,\n",
    " n_estimators=1000,\n",
    " max_depth=3,\n",
    " min_child_weight=6.5,\n",
    " gamma=0.0,\n",
    " subsample=0.8,\n",
    " colsample_bytree=0.85,\n",
    " reg_alpha=3e-03,\n",
    " objective= 'binary:logistic',\n",
    " nthread=8,\n",
    " scale_pos_weight=1,\n",
    " seed=27)\n",
    "modelfit(xgb4, ensemble_all, y_angle['is_iceberg'], ensemble_train, y_train['is_iceberg'])"
   ]
  },
  {
   "cell_type": "markdown",
   "metadata": {},
   "source": [
    "### Pseudo labeling"
   ]
  },
  {
   "cell_type": "code",
   "execution_count": null,
   "metadata": {
    "collapsed": true
   },
   "outputs": [],
   "source": [
    "#del(X_train,y_train)"
   ]
  },
  {
   "cell_type": "code",
   "execution_count": null,
   "metadata": {
    "collapsed": true
   },
   "outputs": [],
   "source": [
    "#del(data)"
   ]
  },
  {
   "cell_type": "code",
   "execution_count": null,
   "metadata": {
    "collapsed": true
   },
   "outputs": [],
   "source": [
    "#del(y_train_sample)"
   ]
  },
  {
   "cell_type": "code",
   "execution_count": null,
   "metadata": {
    "collapsed": true
   },
   "outputs": [],
   "source": [
    "#del(X_tt, y_angle_tt)"
   ]
  },
  {
   "cell_type": "code",
   "execution_count": null,
   "metadata": {
    "collapsed": true
   },
   "outputs": [],
   "source": [
    "#del(modelEnsemble2)"
   ]
  },
  {
   "cell_type": "code",
   "execution_count": null,
   "metadata": {
    "collapsed": true
   },
   "outputs": [],
   "source": [
    "#del(H,H2)"
   ]
  },
  {
   "cell_type": "code",
   "execution_count": null,
   "metadata": {
    "collapsed": true
   },
   "outputs": [],
   "source": [
    "#del(X,y,y_angle)"
   ]
  },
  {
   "cell_type": "code",
   "execution_count": null,
   "metadata": {
    "collapsed": true
   },
   "outputs": [],
   "source": [
    "#del(ensemble_val, ensemble_train)"
   ]
  },
  {
   "cell_type": "code",
   "execution_count": null,
   "metadata": {
    "collapsed": true
   },
   "outputs": [],
   "source": [
    "#idx = 0\n",
    "#for model in modelEnsemble.models:\n",
    "#    pred = get_prediction(model_f, model[2], X_test, y_angle_test)[:X.shape[0]]\n",
    "#    pred = np.array(pred)\n",
    "#    dataset_name = 'ensemble_data_%02d' % idx\n",
    "#    with h5py.File('tmp_data/ensemble_test_data.hd5', 'w') as hf:\n",
    "#        hf.create_dataset(dataset_name,  data=pred)"
   ]
  },
  {
   "cell_type": "code",
   "execution_count": null,
   "metadata": {
    "collapsed": true,
    "scrolled": false
   },
   "outputs": [],
   "source": [
    "#ensemble_test = get_ensemble_predictions(X_test, y_angle_test, modelEnsemble)\n",
    "#ensemble_test.shape"
   ]
  },
  {
   "cell_type": "code",
   "execution_count": null,
   "metadata": {
    "collapsed": true
   },
   "outputs": [],
   "source": [
    "#pseudo_labels = xgb4.predict(ensemble_test)\n",
    "#test_probs = xgb4.predict_proba(ensemble_test)\n",
    "#predictions = test_probs"
   ]
  },
  {
   "cell_type": "code",
   "execution_count": null,
   "metadata": {
    "collapsed": true
   },
   "outputs": [],
   "source": [
    "#y_angle_test.count()"
   ]
  },
  {
   "cell_type": "code",
   "execution_count": null,
   "metadata": {
    "collapsed": true
   },
   "outputs": [],
   "source": [
    "#y_angle_test['is_iceberg'] = pseudo_labels\n",
    "#y_angle_tt = y_angle_test.append(y_train)\n",
    "#y_angle_tt.count()"
   ]
  },
  {
   "cell_type": "markdown",
   "metadata": {},
   "source": [
    "### Training on pseudo labels"
   ]
  },
  {
   "cell_type": "code",
   "execution_count": null,
   "metadata": {
    "collapsed": true
   },
   "outputs": [],
   "source": [
    "#lScheduler = LScheduler(initial_lrate=0.00001, drop=0.66, patience=5)\n",
    "#callbacks = [LearningRateScheduler(lScheduler.step_decay)]"
   ]
  },
  {
   "cell_type": "code",
   "execution_count": null,
   "metadata": {
    "collapsed": true
   },
   "outputs": [],
   "source": [
    "##model training\n",
    "#start_time = time.monotonic()\n",
    "#\n",
    "#H = model_f.fit_generator(datagen_angle.flow(X_tt, y_angle_tt, batch_size=32),\n",
    "#                    steps_per_epoch=len(X_test)/32,\n",
    "#                    validation_data=datagen_angle_val.flow(X_val, y_val, batch_size=32, shuffle=False), \n",
    "#                    validation_steps=len(X_val)/16,\n",
    "#                    #validation_data=[X_val,y_val],\n",
    "#                    epochs=10, callbacks=callbacks)\n",
    "#\n",
    "#model_time = time.monotonic() - start_time\n",
    "#print(\"Model training time: \" + '{:d}'.format(int(model_time // 60)) + \" minutes \" \n",
    "#      + '{:.1f}'.format(model_time % 60) + \" seconds\")"
   ]
  },
  {
   "cell_type": "code",
   "execution_count": null,
   "metadata": {
    "collapsed": true
   },
   "outputs": [],
   "source": [
    "#predictions = model_f.predict_generator(datagen_angle_val.flow(X_test, y_angle_test, batch_size=32, shuffle=False), \n",
    "#                           steps = len(X_test)/31, verbose=1)"
   ]
  },
  {
   "cell_type": "code",
   "execution_count": null,
   "metadata": {
    "collapsed": true
   },
   "outputs": [],
   "source": []
  },
  {
   "cell_type": "code",
   "execution_count": null,
   "metadata": {
    "collapsed": true
   },
   "outputs": [],
   "source": [
    "#test_df.count()"
   ]
  },
  {
   "cell_type": "code",
   "execution_count": null,
   "metadata": {
    "collapsed": true
   },
   "outputs": [],
   "source": [
    "#len(predictions[:8424])"
   ]
  },
  {
   "cell_type": "code",
   "execution_count": null,
   "metadata": {
    "collapsed": true
   },
   "outputs": [],
   "source": [
    "#submission = pd.DataFrame({'id': test_df['id'], 'is_iceberg': predictions[:8424].reshape(-1)})\n",
    "#submission.head(10)"
   ]
  },
  {
   "cell_type": "code",
   "execution_count": null,
   "metadata": {
    "collapsed": true
   },
   "outputs": [],
   "source": [
    "#submission.to_csv(\"submission.v24.csv\", index=False)"
   ]
  },
  {
   "cell_type": "code",
   "execution_count": null,
   "metadata": {
    "collapsed": true
   },
   "outputs": [],
   "source": []
  }
 ],
 "metadata": {
  "anaconda-cloud": {},
  "kernelspec": {
   "display_name": "Python 3",
   "language": "python",
   "name": "python3"
  },
  "language_info": {
   "codemirror_mode": {
    "name": "ipython",
    "version": 3
   },
   "file_extension": ".py",
   "mimetype": "text/x-python",
   "name": "python",
   "nbconvert_exporter": "python",
   "pygments_lexer": "ipython3",
   "version": "3.5.4"
  }
 },
 "nbformat": 4,
 "nbformat_minor": 1
}
