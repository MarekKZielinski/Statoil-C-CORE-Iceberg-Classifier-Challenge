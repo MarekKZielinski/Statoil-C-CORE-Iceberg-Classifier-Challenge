{
 "cells": [
  {
   "cell_type": "markdown",
   "metadata": {},
   "source": [
    "### Imports"
   ]
  },
  {
   "cell_type": "code",
   "execution_count": 1,
   "metadata": {
    "scrolled": false
   },
   "outputs": [
    {
     "name": "stderr",
     "output_type": "stream",
     "text": [
      "Using TensorFlow backend.\n"
     ]
    }
   ],
   "source": [
    "import numpy as np\n",
    "import pandas as pd\n",
    "import time\n",
    "import matplotlib.pyplot as plt\n",
    "import os\n",
    "import math\n",
    "import pickle\n",
    "import datetime\n",
    "\n",
    "from keras import backend as K\n",
    "from keras.models import Model, load_model\n",
    "from keras.layers import Dense, Activation, Conv2D, MaxPooling2D, Reshape, Lambda, ZeroPadding2D, GaussianNoise, AlphaDropout, Input, Concatenate\n",
    "from keras.layers.core import Flatten, Dropout\n",
    "from keras.optimizers import Adam\n",
    "from keras.layers.normalization import BatchNormalization\n",
    "from keras.preprocessing.image import ImageDataGenerator\n",
    "from keras.callbacks import ModelCheckpoint, Callback, EarlyStopping, ReduceLROnPlateau, LearningRateScheduler\n",
    "from keras.utils import to_categorical, normalize\n",
    "\n",
    "from sklearn.model_selection import train_test_split\n",
    "import tensorflow as tf\n",
    "\n",
    "from scipy import ndimage\n",
    "from skimage.morphology import reconstruction\n",
    "from skimage.restoration import denoise_wavelet, denoise_tv_chambolle, denoise_nl_means\n",
    "\n",
    "\n",
    "random_seed = 54321\n",
    "np.random.seed(random_seed)\n",
    "cwd = os.getcwd()\n",
    "#for windows\n",
    "model_path = cwd + '\\\\models\\\\'"
   ]
  },
  {
   "cell_type": "markdown",
   "metadata": {},
   "source": [
    "Manually create tensorflow session to avoid potential OEM errors on laptop's GPU."
   ]
  },
  {
   "cell_type": "code",
   "execution_count": 2,
   "metadata": {
    "collapsed": true
   },
   "outputs": [],
   "source": [
    "tf.set_random_seed(random_seed)\n",
    "config = tf.ConfigProto()\n",
    "config.gpu_options.allow_growth = True\n",
    "session = tf.Session(config=config)\n",
    "K.set_session(session)\n",
    "K.set_image_dim_ordering('tf')"
   ]
  },
  {
   "cell_type": "code",
   "execution_count": 3,
   "metadata": {},
   "outputs": [
    {
     "name": "stderr",
     "output_type": "stream",
     "text": [
      "'nvidia-smi' is not recognized as an internal or external command,\n",
      "operable program or batch file.\n"
     ]
    }
   ],
   "source": [
    "!nvidia-smi"
   ]
  },
  {
   "cell_type": "markdown",
   "metadata": {},
   "source": [
    "### Load Data"
   ]
  },
  {
   "cell_type": "code",
   "execution_count": 4,
   "metadata": {
    "collapsed": true
   },
   "outputs": [],
   "source": [
    "data = pd.read_json(\"Data/train/train.json\", orient='records')\n",
    "data.head()\n",
    "train_df = data"
   ]
  },
  {
   "cell_type": "code",
   "execution_count": 5,
   "metadata": {
    "scrolled": true
   },
   "outputs": [
    {
     "name": "stdout",
     "output_type": "stream",
     "text": [
      "<class 'pandas.core.frame.DataFrame'>\n",
      "RangeIndex: 1604 entries, 0 to 1603\n",
      "Data columns (total 5 columns):\n",
      "band_1        1604 non-null object\n",
      "band_2        1604 non-null object\n",
      "id            1604 non-null object\n",
      "inc_angle     1604 non-null object\n",
      "is_iceberg    1604 non-null int64\n",
      "dtypes: int64(1), object(4)\n",
      "memory usage: 62.7+ KB\n"
     ]
    }
   ],
   "source": [
    "data.info()"
   ]
  },
  {
   "cell_type": "markdown",
   "metadata": {},
   "source": [
    "### Missing values"
   ]
  },
  {
   "cell_type": "code",
   "execution_count": 6,
   "metadata": {
    "scrolled": true
   },
   "outputs": [
    {
     "name": "stdout",
     "output_type": "stream",
     "text": [
      "missing values in inc_angle:  133\n"
     ]
    },
    {
     "data": {
      "text/html": [
       "<div>\n",
       "<style>\n",
       "    .dataframe thead tr:only-child th {\n",
       "        text-align: right;\n",
       "    }\n",
       "\n",
       "    .dataframe thead th {\n",
       "        text-align: left;\n",
       "    }\n",
       "\n",
       "    .dataframe tbody tr th {\n",
       "        vertical-align: top;\n",
       "    }\n",
       "</style>\n",
       "<table border=\"1\" class=\"dataframe\">\n",
       "  <thead>\n",
       "    <tr style=\"text-align: right;\">\n",
       "      <th></th>\n",
       "      <th>band_1</th>\n",
       "      <th>band_2</th>\n",
       "      <th>id</th>\n",
       "      <th>inc_angle</th>\n",
       "      <th>is_iceberg</th>\n",
       "      <th>inc_angle_f</th>\n",
       "    </tr>\n",
       "  </thead>\n",
       "  <tbody>\n",
       "    <tr>\n",
       "      <th>1599</th>\n",
       "      <td>[-30.999878, -29.976866, -28.233906, -29.50732...</td>\n",
       "      <td>[-27.847719, -28.233864, -24.712077999999998, ...</td>\n",
       "      <td>04e11240</td>\n",
       "      <td>na</td>\n",
       "      <td>0</td>\n",
       "      <td>39.268707</td>\n",
       "    </tr>\n",
       "    <tr>\n",
       "      <th>1600</th>\n",
       "      <td>[-25.31155, -26.511555, -28.694487, -27.180115...</td>\n",
       "      <td>[-29.563713, -28.290375, -26.839405, -28.29046...</td>\n",
       "      <td>c7d6f6f8</td>\n",
       "      <td>na</td>\n",
       "      <td>0</td>\n",
       "      <td>39.268707</td>\n",
       "    </tr>\n",
       "    <tr>\n",
       "      <th>1601</th>\n",
       "      <td>[-18.141895, -18.141844, -19.01737, -19.701599...</td>\n",
       "      <td>[-25.305355, -29.387701, -28.963863, -26.16023...</td>\n",
       "      <td>bba1a0f1</td>\n",
       "      <td>na</td>\n",
       "      <td>0</td>\n",
       "      <td>39.268707</td>\n",
       "    </tr>\n",
       "    <tr>\n",
       "      <th>1602</th>\n",
       "      <td>[-22.455633, -25.794661, -26.954567, -22.83354...</td>\n",
       "      <td>[-26.070356, -22.093737, -21.577662, -24.53376...</td>\n",
       "      <td>7f66bb44</td>\n",
       "      <td>na</td>\n",
       "      <td>0</td>\n",
       "      <td>39.268707</td>\n",
       "    </tr>\n",
       "    <tr>\n",
       "      <th>1603</th>\n",
       "      <td>[-19.909191, -20.678406, -20.208834, -18.42441...</td>\n",
       "      <td>[-24.44487, -24.956001, -27.722103, -26.078417...</td>\n",
       "      <td>9d8f326c</td>\n",
       "      <td>na</td>\n",
       "      <td>0</td>\n",
       "      <td>39.268707</td>\n",
       "    </tr>\n",
       "  </tbody>\n",
       "</table>\n",
       "</div>"
      ],
      "text/plain": [
       "                                                 band_1  \\\n",
       "1599  [-30.999878, -29.976866, -28.233906, -29.50732...   \n",
       "1600  [-25.31155, -26.511555, -28.694487, -27.180115...   \n",
       "1601  [-18.141895, -18.141844, -19.01737, -19.701599...   \n",
       "1602  [-22.455633, -25.794661, -26.954567, -22.83354...   \n",
       "1603  [-19.909191, -20.678406, -20.208834, -18.42441...   \n",
       "\n",
       "                                                 band_2        id inc_angle  \\\n",
       "1599  [-27.847719, -28.233864, -24.712077999999998, ...  04e11240        na   \n",
       "1600  [-29.563713, -28.290375, -26.839405, -28.29046...  c7d6f6f8        na   \n",
       "1601  [-25.305355, -29.387701, -28.963863, -26.16023...  bba1a0f1        na   \n",
       "1602  [-26.070356, -22.093737, -21.577662, -24.53376...  7f66bb44        na   \n",
       "1603  [-24.44487, -24.956001, -27.722103, -26.078417...  9d8f326c        na   \n",
       "\n",
       "      is_iceberg  inc_angle_f  \n",
       "1599           0    39.268707  \n",
       "1600           0    39.268707  \n",
       "1601           0    39.268707  \n",
       "1602           0    39.268707  \n",
       "1603           0    39.268707  "
      ]
     },
     "execution_count": 6,
     "metadata": {},
     "output_type": "execute_result"
    }
   ],
   "source": [
    "train_df['inc_angle_f'] = pd.to_numeric(train_df['inc_angle'], errors='coerce')\n",
    "print(\"missing values in inc_angle: \", train_df['inc_angle_f'].isnull().sum())\n",
    "train_df['inc_angle_f'].replace(np.nan,train_df['inc_angle_f'].mean(), inplace=True)\n",
    "train_df.tail()"
   ]
  },
  {
   "cell_type": "markdown",
   "metadata": {},
   "source": [
    "### Transform for NN"
   ]
  },
  {
   "cell_type": "code",
   "execution_count": 7,
   "metadata": {
    "collapsed": true
   },
   "outputs": [],
   "source": [
    "def get_bands(train_df):\n",
    "    max_col = np.array(train_df.apply(lambda x: max((max(train_df.loc[x.name,'band_1']),max(train_df.loc[x.name,'band_2']))),axis=1)) - 10\n",
    "    max_col2 = max_col.reshape(-1,1) * np.ones(75*75).reshape(1,75*75)\n",
    "    max_col2 = max_col2.reshape(-1,75,75)\n",
    "\n",
    "    band_1 = np.array(train_df['band_1'].tolist()).reshape(-1,75,75) - max_col2\n",
    "    band_2 = np.array(train_df['band_2'].tolist()).reshape(-1,75,75) - max_col2\n",
    "    band_1_t = 10**(band_1/10)\n",
    "    band_2_t = 10**(band_2/10)\n",
    "    band_1_t = np.where(band_1_t > 0.01, band_1_t, 0)\n",
    "    band_2_t = np.where(band_2_t > 0.01, band_2_t, 0)\n",
    "    band_3 = band_1_t - band_2_t\n",
    "    X = np.stack((band_1,band_2,band_1_t,band_2_t),axis=3)\n",
    "    \n",
    "    return band_1, band_2, band_1_t, band_2_t, band_3, X"
   ]
  },
  {
   "cell_type": "code",
   "execution_count": 8,
   "metadata": {},
   "outputs": [
    {
     "data": {
      "image/png": "[encoded data removed]",
      "text/plain": [
       "<matplotlib.figure.Figure at 0x242dabf82b0>"
      ]
     },
     "metadata": {},
     "output_type": "display_data"
    },
    {
     "data": {
      "image/png": "[encoded data removed]",
      "text/plain": [
       "<matplotlib.figure.Figure at 0x242dabf8b00>"
      ]
     },
     "metadata": {},
     "output_type": "display_data"
    }
   ],
   "source": [
    "band_1, band_2, band_1_t, band_2_t, band_3, X = get_bands(train_df)\n",
    "plt.hist(band_1.flatten(), bins=200, color=\"red\", alpha=0.4)\n",
    "plt.hist(band_2.flatten(), bins=200, color=\"blue\", alpha=0.4)\n",
    "plt.show()\n",
    "\n",
    "plt.hist(band_1[train_df[train_df['is_iceberg']==0].index[:3]].flatten(), bins=50, color=\"orange\", alpha=0.4)\n",
    "plt.hist(band_1[train_df[train_df['is_iceberg']==1].index[:3]].flatten(), bins=50, color=\"green\", alpha=0.4)\n",
    "plt.show()"
   ]
  },
  {
   "cell_type": "code",
   "execution_count": 9,
   "metadata": {},
   "outputs": [
    {
     "data": {
      "image/png": "[encoded data removed]",
      "text/plain": [
       "<matplotlib.figure.Figure at 0x242aa383828>"
      ]
     },
     "metadata": {},
     "output_type": "display_data"
    }
   ],
   "source": [
    "plt.hist(band_1_t.flatten(),bins=200, color=\"red\", alpha=0.4)\n",
    "plt.hist(band_2_t.flatten(),bins=200, color=\"blue\", alpha=0.4)\n",
    "plt.yscale('log')\n",
    "plt.xscale('log')\n",
    "plt.show()"
   ]
  },
  {
   "cell_type": "code",
   "execution_count": 10,
   "metadata": {},
   "outputs": [
    {
     "data": {
      "image/png": "[encoded data removed]",
      "text/plain": [
       "<matplotlib.figure.Figure at 0x242e7abe048>"
      ]
     },
     "metadata": {},
     "output_type": "display_data"
    }
   ],
   "source": [
    "plt.hist(band_3[train_df[train_df['is_iceberg']==0].index].flatten(), bins=50, color=\"orange\", alpha=0.4)\n",
    "plt.hist(band_3[train_df[train_df['is_iceberg']==1].index].flatten(), bins=50, color=\"green\", alpha=0.4)\n",
    "plt.yscale('log')\n",
    "plt.xscale('log')\n",
    "plt.show()"
   ]
  },
  {
   "cell_type": "code",
   "execution_count": 11,
   "metadata": {
    "scrolled": false
   },
   "outputs": [
    {
     "data": {
      "image/png": "[encoded data removed]",
      "text/plain": [
       "<matplotlib.figure.Figure at 0x242ab478dd8>"
      ]
     },
     "metadata": {},
     "output_type": "display_data"
    },
    {
     "data": {
      "image/png": "[encoded data removed]",
      "text/plain": [
       "<matplotlib.figure.Figure at 0x242ab478da0>"
      ]
     },
     "metadata": {},
     "output_type": "display_data"
    }
   ],
   "source": [
    "def plot_bands(index, cmap=\"gray\"):\n",
    "    fig = plt.figure(figsize=(12,6))\n",
    "    fig.suptitle(\"Is Iceberg: %x\" % (train_df.loc[index,'is_iceberg']), fontsize=16)\n",
    "    ax1 = fig.add_subplot(251)\n",
    "    ax1.set_title(\"Band 1\")\n",
    "    ax1.imshow(band_1[index], cmap=cmap)\n",
    "    ax2 = fig.add_subplot(252)\n",
    "    ax2.set_title(\"Band 2\")\n",
    "    ax2.imshow(band_2[index], cmap=cmap)\n",
    "    ax3 = fig.add_subplot(253)\n",
    "    ax3.set_title(\"Band 1 t\")\n",
    "    ax3.imshow(band_1_t[index], cmap=cmap)\n",
    "    ax3 = fig.add_subplot(254)\n",
    "    ax3.set_title(\"Band 2 t\")\n",
    "    ax3.imshow(band_2_t[index], cmap=cmap)\n",
    "    ax3 = fig.add_subplot(255)\n",
    "    ax3.set_title(\"Band 3\")\n",
    "    ax3.imshow(band_3[index], cmap=cmap)\n",
    "    fig.tight_layout(rect=[0, 0.03, 1, 0.95])\n",
    "    plt.show()\n",
    "\n",
    "plot_bands(0,cmap=\"inferno\")\n",
    "plot_bands(2,cmap=\"inferno\")\n"
   ]
  },
  {
   "cell_type": "code",
   "execution_count": 12,
   "metadata": {
    "collapsed": true,
    "scrolled": true
   },
   "outputs": [],
   "source": [
    "y = train_df.loc[:,'is_iceberg']\n",
    "y_angle = train_df.loc[:,['is_iceberg','inc_angle_f']]\n",
    "y_angle['index'] = y_angle.index"
   ]
  },
  {
   "cell_type": "code",
   "execution_count": 13,
   "metadata": {},
   "outputs": [
    {
     "data": {
      "text/html": [
       "<div>\n",
       "<style>\n",
       "    .dataframe thead tr:only-child th {\n",
       "        text-align: right;\n",
       "    }\n",
       "\n",
       "    .dataframe thead th {\n",
       "        text-align: left;\n",
       "    }\n",
       "\n",
       "    .dataframe tbody tr th {\n",
       "        vertical-align: top;\n",
       "    }\n",
       "</style>\n",
       "<table border=\"1\" class=\"dataframe\">\n",
       "  <thead>\n",
       "    <tr style=\"text-align: right;\">\n",
       "      <th></th>\n",
       "      <th>is_iceberg</th>\n",
       "      <th>inc_angle_f</th>\n",
       "      <th>index</th>\n",
       "    </tr>\n",
       "  </thead>\n",
       "  <tbody>\n",
       "    <tr>\n",
       "      <th>0</th>\n",
       "      <td>0</td>\n",
       "      <td>43.9239</td>\n",
       "      <td>0</td>\n",
       "    </tr>\n",
       "    <tr>\n",
       "      <th>1</th>\n",
       "      <td>0</td>\n",
       "      <td>38.1562</td>\n",
       "      <td>1</td>\n",
       "    </tr>\n",
       "    <tr>\n",
       "      <th>2</th>\n",
       "      <td>1</td>\n",
       "      <td>45.2859</td>\n",
       "      <td>2</td>\n",
       "    </tr>\n",
       "    <tr>\n",
       "      <th>3</th>\n",
       "      <td>0</td>\n",
       "      <td>43.8306</td>\n",
       "      <td>3</td>\n",
       "    </tr>\n",
       "    <tr>\n",
       "      <th>4</th>\n",
       "      <td>0</td>\n",
       "      <td>35.6256</td>\n",
       "      <td>4</td>\n",
       "    </tr>\n",
       "  </tbody>\n",
       "</table>\n",
       "</div>"
      ],
      "text/plain": [
       "   is_iceberg  inc_angle_f  index\n",
       "0           0      43.9239      0\n",
       "1           0      38.1562      1\n",
       "2           1      45.2859      2\n",
       "3           0      43.8306      3\n",
       "4           0      35.6256      4"
      ]
     },
     "execution_count": 13,
     "metadata": {},
     "output_type": "execute_result"
    }
   ],
   "source": [
    "y_angle.head()"
   ]
  },
  {
   "cell_type": "markdown",
   "metadata": {},
   "source": [
    "### Split into train test and validation sets"
   ]
  },
  {
   "cell_type": "code",
   "execution_count": 14,
   "metadata": {},
   "outputs": [
    {
     "name": "stdout",
     "output_type": "stream",
     "text": [
      "(1122, 75, 75, 4)\n",
      "(482, 75, 75, 4)\n"
     ]
    }
   ],
   "source": [
    "X_train, X_val, y_train, y_val = train_test_split(X, y_angle, test_size=0.3, random_state=random_seed)\n",
    "print(X_train.shape)\n",
    "print(X_val.shape)"
   ]
  },
  {
   "cell_type": "markdown",
   "metadata": {},
   "source": [
    "### Data augmentation"
   ]
  },
  {
   "cell_type": "code",
   "execution_count": 15,
   "metadata": {
    "scrolled": false
   },
   "outputs": [
    {
     "name": "stdout",
     "output_type": "stream",
     "text": [
      "(1122, 75, 75, 4)\n"
     ]
    }
   ],
   "source": [
    "X_train_sample = X_train[:]\n",
    "y_train_sample = y_train[:]\n",
    "print(X_train_sample.shape)\n",
    "\n",
    "datagen = ImageDataGenerator(\n",
    "    samplewise_center=False,\n",
    "    samplewise_std_normalization=False,\n",
    "    rotation_range=20,\n",
    "    horizontal_flip=True,\n",
    "    vertical_flip=True,\n",
    "    fill_mode='nearest')\n",
    "\n",
    "datagen_val = ImageDataGenerator(\n",
    "    samplewise_center=False,\n",
    "    samplewise_std_normalization=False,\n",
    "    rotation_range=0,\n",
    "    horizontal_flip=False,\n",
    "    vertical_flip=False,\n",
    "    fill_mode='nearest')\n",
    "\n",
    "#custom generator for fit_generator\n",
    "from collections import Generator\n",
    "class Datagen_angle(Generator):\n",
    "    def __init__(self, imagegen=ImageDataGenerator):\n",
    "        self.imagegen = imagegen\n",
    "        \n",
    "    def flow(self, x, y, batch_size=8, shuffle=True):\n",
    "        self.generator = self.imagegen.flow(x, y, batch_size=batch_size, shuffle=shuffle)\n",
    "        return self\n",
    "    \n",
    "    def send(self, ignored):\n",
    "        temp_data = next(self.generator)\n",
    "        temp_band_3 = temp_data[0][:,:,:,2] - temp_data[0][:,:,:,3] #band_1_t - band_2_t\n",
    "        temp_stacked1 = np.stack((temp_data[0][:,:,:,0],temp_data[0][:,:,:,1]),axis=3)\n",
    "        temp_stacked2 = np.stack((temp_data[0][:,:,:,2],temp_data[0][:,:,:,3],temp_band_3),axis=3)\n",
    "        #nn_denoised_temp = temp_data[0] #pass 4 bands for nn denoising input\n",
    "        return [temp_stacked1, temp_stacked2, \n",
    "                #nn_denoised_temp,\n",
    "                temp_data[1][:,1]], temp_data[1][:,0]\n",
    "    \n",
    "    def throw(self, type=None, value=None, traceback=None):\n",
    "        raise StopIteration\n",
    "    \n",
    "\n",
    "datagen.fit(X_train_sample)\n",
    "datagen_val.fit(X_val)\n",
    "\n",
    "datagen_angle = Datagen_angle(imagegen=datagen)\n",
    "datagen_angle_val = Datagen_angle(imagegen=datagen_val)\n"
   ]
  },
  {
   "cell_type": "markdown",
   "metadata": {},
   "source": [
    "### Denoising"
   ]
  },
  {
   "cell_type": "code",
   "execution_count": 16,
   "metadata": {
    "collapsed": true
   },
   "outputs": [],
   "source": [
    "def denoising(img):\n",
    "    img_list = []\n",
    "    for i in range(4):\n",
    "        image = normalize(img[:,:,i])\n",
    "        img_list.append(ndimage.median_filter(image, 3))\n",
    "    return np.stack(img_list,axis=2)"
   ]
  },
  {
   "cell_type": "code",
   "execution_count": 17,
   "metadata": {
    "collapsed": true
   },
   "outputs": [],
   "source": [
    "def apply_over_axis(func, data, mask=None, axis=0, *args, **kwargs):\n",
    "    f_list = []\n",
    "    for i in range(data.shape[axis]):\n",
    "        if mask is None:\n",
    "            f_list.append(func(data[i], *args, **kwargs))\n",
    "        else:\n",
    "            f_list.append(func(data[i], mask=mask[i], *args, **kwargs))\n",
    "    return np.stack(f_list,axis=0)"
   ]
  },
  {
   "cell_type": "code",
   "execution_count": 18,
   "metadata": {
    "collapsed": true
   },
   "outputs": [],
   "source": [
    "#X_denoised = apply_over_axis(denoising, X)"
   ]
  },
  {
   "cell_type": "code",
   "execution_count": 19,
   "metadata": {
    "scrolled": true
   },
   "outputs": [],
   "source": [
    "#index=8\n",
    "#original_index = y_train_sample.iloc[index].name\n",
    "#cmap=\"inferno\"\n",
    "#fig = plt.figure(figsize=(12,6))\n",
    "#fig.suptitle(\"Denoising: is iceberg: %x\" % (y_train_sample.iloc[index,0]), fontsize=16)\n",
    "#ax1 = fig.add_subplot(251)\n",
    "#ax1.set_title(\"Before\")\n",
    "#ax1.imshow(X_train_sample[index][:,:,0], cmap=cmap)\n",
    "#ax2 = fig.add_subplot(252)\n",
    "#ax2.set_title(\"Denoised\")\n",
    "#ax2.imshow(X_denoised[original_index][:,:,0], cmap=cmap)\n",
    "#ax1 = fig.add_subplot(253)\n",
    "#ax1.set_title(\"Before - band 2\")\n",
    "#ax1.imshow(X_train_sample[index][:,:,1], cmap=cmap)\n",
    "#ax2 = fig.add_subplot(254)\n",
    "#ax2.set_title(\"Denoised - band 2\")\n",
    "#ax2.imshow(X_denoised[original_index][:,:,1], cmap=cmap)\n",
    "#plt.show()"
   ]
  },
  {
   "cell_type": "markdown",
   "metadata": {},
   "source": [
    "### NN denoising"
   ]
  },
  {
   "cell_type": "code",
   "execution_count": 20,
   "metadata": {
    "collapsed": true
   },
   "outputs": [],
   "source": [
    "##custom generator for denoising\n",
    "#from collections import Generator\n",
    "#class Datagen_denoising(Generator):\n",
    "#    def __init__(self, imagegen=ImageDataGenerator):\n",
    "#        self.imagegen = imagegen\n",
    "#        \n",
    "#    def flow(self, x, y, batch_size=8, shuffle=True):\n",
    "#        self.generator = self.imagegen.flow(x, y, batch_size=batch_size, shuffle=shuffle)\n",
    "#        return self\n",
    "#    \n",
    "#    def send(self, ignored):\n",
    "#        temp_data = next(self.generator)\n",
    "#        temp_stacked1 = np.stack((temp_data[0][:,:,:,0],temp_data[0][:,:,:,1]),axis=3)\n",
    "#        temp_stacked = np.stack((temp_data[0][:,:,:,0],temp_data[0][:,:,:,1],temp_data[0][:,:,:,2],\n",
    "#                                temp_data[0][:,:,:,3]),axis=3)\n",
    "#        return temp_stacked, temp_stacked\n",
    "#    \n",
    "#    def throw(self, type=None, value=None, traceback=None):\n",
    "#        raise StopIteration\n",
    "#        \n",
    "#datagen_denoising = Datagen_denoising(imagegen=datagen)\n",
    "#datagen_denoising_val = Datagen_denoising(imagegen=datagen_val)"
   ]
  },
  {
   "cell_type": "code",
   "execution_count": 21,
   "metadata": {
    "collapsed": true
   },
   "outputs": [],
   "source": [
    "#m_input = Input(shape=(75,75,4), name='m_input')\n",
    "#\n",
    "##conv layers for main_input\n",
    "#x1 = BatchNormalization()(m_input)\n",
    "#x1 = ZeroPadding2D()(x1)\n",
    "#x1 = Conv2D(8, (3,3), activation='relu')(x1)\n",
    "#x1 = BatchNormalization()(x1)\n",
    "#x1 = Dropout(0.2)(x1)\n",
    "#x1 = ZeroPadding2D()(x1)\n",
    "#x1 = Conv2D(8, (3,3), activation='relu')(x1)\n",
    "#x1 = BatchNormalization()(x1)\n",
    "#x1 = Dropout(0.2)(x1)\n",
    "#x1 = ZeroPadding2D()(x1)\n",
    "#m_output = Conv2D(4, (3,3), activation='linear', name='m_output')(x1)\n",
    "#model_denoise = Model(inputs=[m_input,], outputs=[m_output], name='Model_nn_denoising')\n",
    "#\n",
    "#model_denoise.compile(optimizer=Adam(lr=0.1, beta_1=0.9, beta_2=0.999, epsilon=1e-08, decay=0),\n",
    "#loss='mean_squared_error',\n",
    "#metrics=['mae'])"
   ]
  },
  {
   "cell_type": "code",
   "execution_count": 22,
   "metadata": {
    "scrolled": false
   },
   "outputs": [],
   "source": [
    "#model_denoise.summary()"
   ]
  },
  {
   "cell_type": "code",
   "execution_count": 23,
   "metadata": {
    "scrolled": false
   },
   "outputs": [],
   "source": [
    "'''\n",
    "#model training\n",
    "start_time = time.monotonic()\n",
    "\n",
    "H = model_denoise.fit_generator(datagen_denoising.flow(X, y_angle, batch_size=8),\n",
    "                    steps_per_epoch=len(X)/8,\n",
    "                    validation_data=datagen_denoising_val.flow(X, y_angle, batch_size=8, shuffle=False), \n",
    "                    validation_steps=len(X)/8,\n",
    "                    #validation_data=[X_val,y_val],\n",
    "                    epochs=10)\n",
    "\n",
    "model_time = time.monotonic() - start_time\n",
    "print(\"Model training time: \" + '{:d}'.format(int(model_time // 60)) + \" minutes \" \n",
    "      + '{:.1f}'.format(model_time % 60) + \" seconds\")\n",
    "''';"
   ]
  },
  {
   "cell_type": "code",
   "execution_count": 24,
   "metadata": {
    "scrolled": false
   },
   "outputs": [],
   "source": [
    "#X_nn_denoised = model_denoise.predict(X, verbose=1)"
   ]
  },
  {
   "cell_type": "code",
   "execution_count": 25,
   "metadata": {},
   "outputs": [],
   "source": [
    "#index=8\n",
    "#original_index = y_train_sample.iloc[index].name\n",
    "#cmap=\"inferno\"\n",
    "#fig = plt.figure(figsize=(12,6))\n",
    "#fig.suptitle(\"Image denoising nn: %x\" % (train_df.loc[original_index,'is_iceberg']), fontsize=16)\n",
    "#ax1 = fig.add_subplot(251)\n",
    "#ax1.set_title(\"Before band_1\")\n",
    "#ax1.imshow(X_train_sample[index][:,:,0], cmap=cmap)\n",
    "#ax2 = fig.add_subplot(252)\n",
    "#ax2.set_title(\"NN Denoising band 1\")\n",
    "#ax2.imshow(X_nn_denoised[original_index][:,:,0], cmap=cmap)\n",
    "#ax3 = fig.add_subplot(253)\n",
    "#ax3.set_title(\"Before band 2\")\n",
    "#ax3.imshow(X_train_sample[index][:,:,1], cmap=cmap)\n",
    "#ax4 = fig.add_subplot(254)\n",
    "#ax4.set_title(\"NN Denoising band 2\")\n",
    "#ax4.imshow(X_nn_denoised[original_index][:,:,1], cmap=cmap)\n",
    "#plt.show()"
   ]
  },
  {
   "cell_type": "code",
   "execution_count": null,
   "metadata": {
    "collapsed": true
   },
   "outputs": [],
   "source": []
  },
  {
   "cell_type": "markdown",
   "metadata": {},
   "source": [
    "### Filtering regional maxima"
   ]
  },
  {
   "cell_type": "code",
   "execution_count": 26,
   "metadata": {
    "collapsed": true
   },
   "outputs": [],
   "source": [
    "#def img_filtering(img,mask,h=0.75):\n",
    "#    img_list = []\n",
    "#    for i in range(img.shape[2]):\n",
    "#        image = img[:,:,i]\n",
    "#        mask1 = mask[:,:,i]\n",
    "#        h = (mask1.max() - mask1.min()) * h\n",
    "#        seed = mask1 - h\n",
    "#        dilated = reconstruction(seed, mask1, method='dilation')\n",
    "#        hdome = image * dilated\n",
    "#        img_list.append(hdome)\n",
    "#    return np.stack(img_list,axis=2)\n",
    "#\n",
    "#def img_dilated(mask,h=0.2):\n",
    "#    img_list = []\n",
    "#    for i in range(mask.shape[2]):\n",
    "#        mask1 = mask[:,:,i]\n",
    "#        h = (mask1.max() - mask1.min()) * h\n",
    "#        seed = mask1 - h\n",
    "#        dilated = reconstruction(seed, mask1, method='dilation')\n",
    "#        img_list.append(dilated)\n",
    "#    return np.stack(img_list,axis=2)    "
   ]
  },
  {
   "cell_type": "code",
   "execution_count": 27,
   "metadata": {
    "collapsed": true
   },
   "outputs": [],
   "source": [
    "#X_filtered = apply_over_axis(img_filtering, X, mask=X_denoised)\n",
    "#X_dilated = apply_over_axis(img_dilated, X_denoised )"
   ]
  },
  {
   "cell_type": "code",
   "execution_count": 28,
   "metadata": {},
   "outputs": [],
   "source": [
    "#base_images = X_train_sample\n",
    "#index=8\n",
    "#original_index = y_train_sample.iloc[index].name\n",
    "#cmap=\"inferno\"\n",
    "#fig = plt.figure(figsize=(14,6))\n",
    "#fig.suptitle(\"Image filtering: %x\" % (train_df.loc[original_index,'is_iceberg']), fontsize=16)\n",
    "#ax1 = fig.add_subplot(251)\n",
    "#ax1.set_title(\"Before\")\n",
    "#ax1.imshow(base_images[index][:,:,0], cmap=cmap)\n",
    "#ax2 = fig.add_subplot(252)\n",
    "#ax2.set_title(\"Filtered\")\n",
    "#ax2.imshow(X_filtered[original_index][:,:,0], cmap=cmap)\n",
    "#ax1 = fig.add_subplot(253)\n",
    "#ax1.set_title(\"Before - band 2\")\n",
    "#ax1.imshow(base_images[index][:,:,0], cmap=cmap)\n",
    "#ax2 = fig.add_subplot(254)\n",
    "#ax2.set_title(\"Filtered - band 2\")\n",
    "#ax2.imshow(X_filtered[original_index][:,:,0], cmap=cmap)\n",
    "#ax4 = fig.add_subplot(255)\n",
    "#ax4.set_title(\"Dilated - band 1\")\n",
    "#ax4.imshow(X_dilated[original_index][:,:,0], cmap=cmap)\n",
    "#plt.show()"
   ]
  },
  {
   "cell_type": "markdown",
   "metadata": {},
   "source": [
    "### Keras model"
   ]
  },
  {
   "cell_type": "code",
   "execution_count": 29,
   "metadata": {
    "collapsed": true
   },
   "outputs": [],
   "source": [
    "model_code=\"CNN_2017_12_19_v15\"\n",
    "model_comment=\"2 CNN inputs 3,3 conv filters - base model, no denoising, na=mean\""
   ]
  },
  {
   "cell_type": "code",
   "execution_count": 30,
   "metadata": {
    "scrolled": false
   },
   "outputs": [
    {
     "name": "stdout",
     "output_type": "stream",
     "text": [
      "Overwriting current_model.py\n"
     ]
    }
   ],
   "source": [
    "%%writefile current_model.py\n",
    "\n",
    "def InputBlock(x, dropout=0.2, prefix=''):\n",
    "    #conv layers for input\n",
    "    x = BatchNormalization()(x)\n",
    "    x = Conv2D(64, (3,3), activation='relu')(x)\n",
    "    x = MaxPooling2D((2, 2), strides=(2, 2))(x)\n",
    "    x = BatchNormalization()(x)\n",
    "    x = Dropout(dropout)(x) \n",
    "    return(x)\n",
    "\n",
    "main_input = Input(shape=(75,75,2), name='main_input')\n",
    "aux_input = Input(shape=(75,75,3), name='aux_input')\n",
    "#aux_input_nn = Input(shape=(75,75,4), name='aux_input_nn')\n",
    "\n",
    "x1 = InputBlock(main_input, prefix='m_input')\n",
    "x2 = InputBlock(aux_input, prefix='a_input')\n",
    "#x3 = model_denoise(aux_input_nn)\n",
    "#x3 = InputBlock(x3,dropout=0.2, prefix='a_input_nn')\n",
    "\n",
    "x = Concatenate(axis=3)([x1,x2])\n",
    "#x = BatchNormalization()(x)\n",
    "#x = Dropout(0.2)(x)\n",
    "\n",
    "#conv-block\n",
    "x = Conv2D(128, (3, 3), activation='relu')(x)\n",
    "x = MaxPooling2D((2, 2), strides=(2, 2))(x)\n",
    "x = BatchNormalization()(x)\n",
    "x = Dropout(0.2)(x)\n",
    "\n",
    "#conv-block\n",
    "x = Conv2D(256, (3, 3), activation='relu')(x)\n",
    "x = MaxPooling2D((2, 2), strides=(2, 2))(x)\n",
    "x = BatchNormalization()(x)\n",
    "x = Dropout(0.2)(x)\n",
    "    \n",
    "#flatten\n",
    "x = Flatten()(x)\n",
    "angle_input = Input(shape=[1], name='angle_input')\n",
    "#x1 = BatchNormalization()(angle_input)\n",
    "merged = Concatenate()([x, angle_input])\n",
    "\n",
    "#dense-block\n",
    "x = Dense(513, activation='relu')(merged)\n",
    "x = BatchNormalization()(x)\n",
    "x = Dropout(0.2)(x)\n",
    "\n",
    "#dense-block\n",
    "x = Dense(256, activation='relu')(x)\n",
    "x = BatchNormalization()(x)\n",
    "x = Dropout(0.2)(x)\n",
    "\n",
    "main_output = Dense(1, activation='sigmoid', name='main_output')(x)\n",
    "model_f = Model(inputs=[main_input,aux_input, \n",
    "                        #aux_input_nn, \n",
    "                        angle_input], \n",
    "                        outputs=[main_output])\n",
    "\n",
    "model_f.compile(optimizer=Adam(lr=0.001, beta_1=0.9, beta_2=0.999, epsilon=1e-08, decay=0),\n",
    "loss='binary_crossentropy',\n",
    "metrics=['accuracy'])"
   ]
  },
  {
   "cell_type": "code",
   "execution_count": 31,
   "metadata": {
    "collapsed": true
   },
   "outputs": [],
   "source": [
    "%run -i current_model.py"
   ]
  },
  {
   "cell_type": "code",
   "execution_count": 32,
   "metadata": {
    "collapsed": true
   },
   "outputs": [],
   "source": [
    "def step_decay(epoch):\n",
    "    initial_lrate = 0.001\n",
    "    drop = 0.66\n",
    "    patience = 7.0\n",
    "    lrate = initial_lrate * math.pow(drop, math.floor((1+epoch)/patience))\n",
    "    if math.fmod(epoch, patience) == 0:\n",
    "        print(\"Setting learning rate: \",lrate)\n",
    "    return lrate\n",
    "\n",
    "def step_decay2(epoch):\n",
    "    initial_lrate = 0.000001\n",
    "    drop = 0.66\n",
    "    patience = 5.0\n",
    "    lrate = initial_lrate * math.pow(drop, math.floor((1+epoch)/patience))\n",
    "    if math.fmod(epoch, patience) == 0:\n",
    "        print(\"Setting learning rate: \",lrate)\n",
    "    return lrate\n",
    "\n",
    "# learning rate schedule\n",
    "class LScheduler:\n",
    "    def __init__(self, initial_lrate=0.001):\n",
    "        self.initial_lrate=initial_lrate\n",
    "\n",
    "    def step_decay(epoch,logs):\n",
    "        initial_lrate = self.initial_lrate\n",
    "        drop = 0.66\n",
    "        patience = 5.0\n",
    "        lrate = initial_lrate * math.pow(drop, math.floor((1+epoch)/patience))\n",
    "        if math.fmod(epoch, patience) == 0:\n",
    "            print(\"Setting learning rate: \",lrate)\n",
    "        return lrate\n",
    "\n",
    "def get_callbacks(filepath, patience=10, step_decay=step_decay):\n",
    "    #es = EarlyStopping('val_loss', patience=patience, mode=\"min\")\n",
    "    msave = ModelCheckpoint(filepath, save_best_only=True)\n",
    "    #reduceLr = ReduceLROnPlateau(monitor='val_loss', factor=0.5,\n",
    "    #                          patience=5, min_lr=0.000001, verbose=1)\n",
    "    lrScheduler = LearningRateScheduler(step_decay)\n",
    "    return [msave, lrScheduler]"
   ]
  },
  {
   "cell_type": "code",
   "execution_count": 33,
   "metadata": {
    "scrolled": true
   },
   "outputs": [
    {
     "name": "stdout",
     "output_type": "stream",
     "text": [
      "____________________________________________________________________________________________________\n",
      "Layer (type)                     Output Shape          Param #     Connected to                     \n",
      "====================================================================================================\n",
      "main_input (InputLayer)          (None, 75, 75, 2)     0                                            \n",
      "____________________________________________________________________________________________________\n",
      "aux_input (InputLayer)           (None, 75, 75, 3)     0                                            \n",
      "____________________________________________________________________________________________________\n",
      "batch_normalization_1 (BatchNorm (None, 75, 75, 2)     8           main_input[0][0]                 \n",
      "____________________________________________________________________________________________________\n",
      "batch_normalization_3 (BatchNorm (None, 75, 75, 3)     12          aux_input[0][0]                  \n",
      "____________________________________________________________________________________________________\n",
      "conv2d_1 (Conv2D)                (None, 73, 73, 64)    1216        batch_normalization_1[0][0]      \n",
      "____________________________________________________________________________________________________\n",
      "conv2d_2 (Conv2D)                (None, 73, 73, 64)    1792        batch_normalization_3[0][0]      \n",
      "____________________________________________________________________________________________________\n",
      "max_pooling2d_1 (MaxPooling2D)   (None, 36, 36, 64)    0           conv2d_1[0][0]                   \n",
      "____________________________________________________________________________________________________\n",
      "max_pooling2d_2 (MaxPooling2D)   (None, 36, 36, 64)    0           conv2d_2[0][0]                   \n",
      "____________________________________________________________________________________________________\n",
      "batch_normalization_2 (BatchNorm (None, 36, 36, 64)    256         max_pooling2d_1[0][0]            \n",
      "____________________________________________________________________________________________________\n",
      "batch_normalization_4 (BatchNorm (None, 36, 36, 64)    256         max_pooling2d_2[0][0]            \n",
      "____________________________________________________________________________________________________\n",
      "dropout_1 (Dropout)              (None, 36, 36, 64)    0           batch_normalization_2[0][0]      \n",
      "____________________________________________________________________________________________________\n",
      "dropout_2 (Dropout)              (None, 36, 36, 64)    0           batch_normalization_4[0][0]      \n",
      "____________________________________________________________________________________________________\n",
      "concatenate_1 (Concatenate)      (None, 36, 36, 128)   0           dropout_1[0][0]                  \n",
      "                                                                   dropout_2[0][0]                  \n",
      "____________________________________________________________________________________________________\n",
      "conv2d_3 (Conv2D)                (None, 34, 34, 128)   147584      concatenate_1[0][0]              \n",
      "____________________________________________________________________________________________________\n",
      "max_pooling2d_3 (MaxPooling2D)   (None, 17, 17, 128)   0           conv2d_3[0][0]                   \n",
      "____________________________________________________________________________________________________\n",
      "batch_normalization_5 (BatchNorm (None, 17, 17, 128)   512         max_pooling2d_3[0][0]            \n",
      "____________________________________________________________________________________________________\n",
      "dropout_3 (Dropout)              (None, 17, 17, 128)   0           batch_normalization_5[0][0]      \n",
      "____________________________________________________________________________________________________\n",
      "conv2d_4 (Conv2D)                (None, 15, 15, 256)   295168      dropout_3[0][0]                  \n",
      "____________________________________________________________________________________________________\n",
      "max_pooling2d_4 (MaxPooling2D)   (None, 7, 7, 256)     0           conv2d_4[0][0]                   \n",
      "____________________________________________________________________________________________________\n",
      "batch_normalization_6 (BatchNorm (None, 7, 7, 256)     1024        max_pooling2d_4[0][0]            \n",
      "____________________________________________________________________________________________________\n",
      "dropout_4 (Dropout)              (None, 7, 7, 256)     0           batch_normalization_6[0][0]      \n",
      "____________________________________________________________________________________________________\n",
      "flatten_1 (Flatten)              (None, 12544)         0           dropout_4[0][0]                  \n",
      "____________________________________________________________________________________________________\n",
      "angle_input (InputLayer)         (None, 1)             0                                            \n",
      "____________________________________________________________________________________________________\n",
      "concatenate_2 (Concatenate)      (None, 12545)         0           flatten_1[0][0]                  \n",
      "                                                                   angle_input[0][0]                \n",
      "____________________________________________________________________________________________________\n",
      "dense_1 (Dense)                  (None, 513)           6436098     concatenate_2[0][0]              \n",
      "____________________________________________________________________________________________________\n",
      "batch_normalization_7 (BatchNorm (None, 513)           2052        dense_1[0][0]                    \n",
      "____________________________________________________________________________________________________\n",
      "dropout_5 (Dropout)              (None, 513)           0           batch_normalization_7[0][0]      \n",
      "____________________________________________________________________________________________________\n",
      "dense_2 (Dense)                  (None, 256)           131584      dropout_5[0][0]                  \n",
      "____________________________________________________________________________________________________\n",
      "batch_normalization_8 (BatchNorm (None, 256)           1024        dense_2[0][0]                    \n",
      "____________________________________________________________________________________________________\n",
      "dropout_6 (Dropout)              (None, 256)           0           batch_normalization_8[0][0]      \n",
      "____________________________________________________________________________________________________\n",
      "main_output (Dense)              (None, 1)             257         dropout_6[0][0]                  \n",
      "====================================================================================================\n",
      "Total params: 7,018,843\n",
      "Trainable params: 7,016,271\n",
      "Non-trainable params: 2,572\n",
      "____________________________________________________________________________________________________\n"
     ]
    }
   ],
   "source": [
    "model_f.summary()"
   ]
  },
  {
   "cell_type": "code",
   "execution_count": 34,
   "metadata": {
    "scrolled": false
   },
   "outputs": [
    {
     "data": {
      "image/svg+xml": [
       "<svg height=\"1724pt\" viewBox=\"0.00 0.00 546.00 1724.00\" width=\"546pt\" xmlns=\"http://www.w3.org/2000/svg\" xmlns:xlink=\"http://www.w3.org/1999/xlink\">\n",
       "<g class=\"graph\" id=\"graph0\" transform=\"scale(1 1) rotate(0) translate(4 1720)\">\n",
       "<title>G</title>\n",
       "<polygon fill=\"white\" points=\"-4,4 -4,-1720 542,-1720 542,4 -4,4\" stroke=\"none\"/>\n",
       "<!-- 2486597376768 -->\n",
       "<g class=\"node\" id=\"node1\"><title>2486597376768</title>\n",
       "<polygon fill=\"none\" points=\"57,-1679.5 57,-1715.5 203,-1715.5 203,-1679.5 57,-1679.5\" stroke=\"black\"/>\n",
       "<text font-family=\"Times New Roman,serif\" font-size=\"14.00\" text-anchor=\"middle\" x=\"130\" y=\"-1693.8\">main_input: InputLayer</text>\n",
       "</g>\n",
       "<!-- 2485346219288 -->\n",
       "<g class=\"node\" id=\"node3\"><title>2485346219288</title>\n",
       "<polygon fill=\"none\" points=\"0,-1606.5 0,-1642.5 260,-1642.5 260,-1606.5 0,-1606.5\" stroke=\"black\"/>\n",
       "<text font-family=\"Times New Roman,serif\" font-size=\"14.00\" text-anchor=\"middle\" x=\"130\" y=\"-1620.8\">batch_normalization_1: BatchNormalization</text>\n",
       "</g>\n",
       "<!-- 2486597376768&#45;&gt;2485346219288 -->\n",
       "<g class=\"edge\" id=\"edge1\"><title>2486597376768-&gt;2485346219288</title>\n",
       "<path d=\"M130,-1679.31C130,-1671.29 130,-1661.55 130,-1652.57\" fill=\"none\" stroke=\"black\"/>\n",
       "<polygon fill=\"black\" points=\"133.5,-1652.53 130,-1642.53 126.5,-1652.53 133.5,-1652.53\" stroke=\"black\"/>\n",
       "</g>\n",
       "<!-- 2485346218560 -->\n",
       "<g class=\"node\" id=\"node2\"><title>2485346218560</title>\n",
       "<polygon fill=\"none\" points=\"338.5,-1679.5 338.5,-1715.5 477.5,-1715.5 477.5,-1679.5 338.5,-1679.5\" stroke=\"black\"/>\n",
       "<text font-family=\"Times New Roman,serif\" font-size=\"14.00\" text-anchor=\"middle\" x=\"408\" y=\"-1693.8\">aux_input: InputLayer</text>\n",
       "</g>\n",
       "<!-- 2485371034704 -->\n",
       "<g class=\"node\" id=\"node4\"><title>2485371034704</title>\n",
       "<polygon fill=\"none\" points=\"278,-1606.5 278,-1642.5 538,-1642.5 538,-1606.5 278,-1606.5\" stroke=\"black\"/>\n",
       "<text font-family=\"Times New Roman,serif\" font-size=\"14.00\" text-anchor=\"middle\" x=\"408\" y=\"-1620.8\">batch_normalization_3: BatchNormalization</text>\n",
       "</g>\n",
       "<!-- 2485346218560&#45;&gt;2485371034704 -->\n",
       "<g class=\"edge\" id=\"edge2\"><title>2485346218560-&gt;2485371034704</title>\n",
       "<path d=\"M408,-1679.31C408,-1671.29 408,-1661.55 408,-1652.57\" fill=\"none\" stroke=\"black\"/>\n",
       "<polygon fill=\"black\" points=\"411.5,-1652.53 408,-1642.53 404.5,-1652.53 411.5,-1652.53\" stroke=\"black\"/>\n",
       "</g>\n",
       "<!-- 2485365053760 -->\n",
       "<g class=\"node\" id=\"node5\"><title>2485365053760</title>\n",
       "<polygon fill=\"none\" points=\"66.5,-1533.5 66.5,-1569.5 193.5,-1569.5 193.5,-1533.5 66.5,-1533.5\" stroke=\"black\"/>\n",
       "<text font-family=\"Times New Roman,serif\" font-size=\"14.00\" text-anchor=\"middle\" x=\"130\" y=\"-1547.8\">conv2d_1: Conv2D</text>\n",
       "</g>\n",
       "<!-- 2485346219288&#45;&gt;2485365053760 -->\n",
       "<g class=\"edge\" id=\"edge3\"><title>2485346219288-&gt;2485365053760</title>\n",
       "<path d=\"M130,-1606.31C130,-1598.29 130,-1588.55 130,-1579.57\" fill=\"none\" stroke=\"black\"/>\n",
       "<polygon fill=\"black\" points=\"133.5,-1579.53 130,-1569.53 126.5,-1579.53 133.5,-1579.53\" stroke=\"black\"/>\n",
       "</g>\n",
       "<!-- 2485345833536 -->\n",
       "<g class=\"node\" id=\"node6\"><title>2485345833536</title>\n",
       "<polygon fill=\"none\" points=\"344.5,-1533.5 344.5,-1569.5 471.5,-1569.5 471.5,-1533.5 344.5,-1533.5\" stroke=\"black\"/>\n",
       "<text font-family=\"Times New Roman,serif\" font-size=\"14.00\" text-anchor=\"middle\" x=\"408\" y=\"-1547.8\">conv2d_2: Conv2D</text>\n",
       "</g>\n",
       "<!-- 2485371034704&#45;&gt;2485345833536 -->\n",
       "<g class=\"edge\" id=\"edge4\"><title>2485371034704-&gt;2485345833536</title>\n",
       "<path d=\"M408,-1606.31C408,-1598.29 408,-1588.55 408,-1579.57\" fill=\"none\" stroke=\"black\"/>\n",
       "<polygon fill=\"black\" points=\"411.5,-1579.53 408,-1569.53 404.5,-1579.53 411.5,-1579.53\" stroke=\"black\"/>\n",
       "</g>\n",
       "<!-- 2486715610448 -->\n",
       "<g class=\"node\" id=\"node7\"><title>2486715610448</title>\n",
       "<polygon fill=\"none\" points=\"25.5,-1460.5 25.5,-1496.5 234.5,-1496.5 234.5,-1460.5 25.5,-1460.5\" stroke=\"black\"/>\n",
       "<text font-family=\"Times New Roman,serif\" font-size=\"14.00\" text-anchor=\"middle\" x=\"130\" y=\"-1474.8\">max_pooling2d_1: MaxPooling2D</text>\n",
       "</g>\n",
       "<!-- 2485365053760&#45;&gt;2486715610448 -->\n",
       "<g class=\"edge\" id=\"edge5\"><title>2485365053760-&gt;2486715610448</title>\n",
       "<path d=\"M130,-1533.31C130,-1525.29 130,-1515.55 130,-1506.57\" fill=\"none\" stroke=\"black\"/>\n",
       "<polygon fill=\"black\" points=\"133.5,-1506.53 130,-1496.53 126.5,-1506.53 133.5,-1506.53\" stroke=\"black\"/>\n",
       "</g>\n",
       "<!-- 2485347502176 -->\n",
       "<g class=\"node\" id=\"node8\"><title>2485347502176</title>\n",
       "<polygon fill=\"none\" points=\"303.5,-1460.5 303.5,-1496.5 512.5,-1496.5 512.5,-1460.5 303.5,-1460.5\" stroke=\"black\"/>\n",
       "<text font-family=\"Times New Roman,serif\" font-size=\"14.00\" text-anchor=\"middle\" x=\"408\" y=\"-1474.8\">max_pooling2d_2: MaxPooling2D</text>\n",
       "</g>\n",
       "<!-- 2485345833536&#45;&gt;2485347502176 -->\n",
       "<g class=\"edge\" id=\"edge6\"><title>2485345833536-&gt;2485347502176</title>\n",
       "<path d=\"M408,-1533.31C408,-1525.29 408,-1515.55 408,-1506.57\" fill=\"none\" stroke=\"black\"/>\n",
       "<polygon fill=\"black\" points=\"411.5,-1506.53 408,-1496.53 404.5,-1506.53 411.5,-1506.53\" stroke=\"black\"/>\n",
       "</g>\n",
       "<!-- 2485636971152 -->\n",
       "<g class=\"node\" id=\"node9\"><title>2485636971152</title>\n",
       "<polygon fill=\"none\" points=\"0,-1387.5 0,-1423.5 260,-1423.5 260,-1387.5 0,-1387.5\" stroke=\"black\"/>\n",
       "<text font-family=\"Times New Roman,serif\" font-size=\"14.00\" text-anchor=\"middle\" x=\"130\" y=\"-1401.8\">batch_normalization_2: BatchNormalization</text>\n",
       "</g>\n",
       "<!-- 2486715610448&#45;&gt;2485636971152 -->\n",
       "<g class=\"edge\" id=\"edge7\"><title>2486715610448-&gt;2485636971152</title>\n",
       "<path d=\"M130,-1460.31C130,-1452.29 130,-1442.55 130,-1433.57\" fill=\"none\" stroke=\"black\"/>\n",
       "<polygon fill=\"black\" points=\"133.5,-1433.53 130,-1423.53 126.5,-1433.53 133.5,-1433.53\" stroke=\"black\"/>\n",
       "</g>\n",
       "<!-- 2486705715016 -->\n",
       "<g class=\"node\" id=\"node10\"><title>2486705715016</title>\n",
       "<polygon fill=\"none\" points=\"278,-1387.5 278,-1423.5 538,-1423.5 538,-1387.5 278,-1387.5\" stroke=\"black\"/>\n",
       "<text font-family=\"Times New Roman,serif\" font-size=\"14.00\" text-anchor=\"middle\" x=\"408\" y=\"-1401.8\">batch_normalization_4: BatchNormalization</text>\n",
       "</g>\n",
       "<!-- 2485347502176&#45;&gt;2486705715016 -->\n",
       "<g class=\"edge\" id=\"edge8\"><title>2485347502176-&gt;2486705715016</title>\n",
       "<path d=\"M408,-1460.31C408,-1452.29 408,-1442.55 408,-1433.57\" fill=\"none\" stroke=\"black\"/>\n",
       "<polygon fill=\"black\" points=\"411.5,-1433.53 408,-1423.53 404.5,-1433.53 411.5,-1433.53\" stroke=\"black\"/>\n",
       "</g>\n",
       "<!-- 2486403874544 -->\n",
       "<g class=\"node\" id=\"node11\"><title>2486403874544</title>\n",
       "<polygon fill=\"none\" points=\"130,-1314.5 130,-1350.5 260,-1350.5 260,-1314.5 130,-1314.5\" stroke=\"black\"/>\n",
       "<text font-family=\"Times New Roman,serif\" font-size=\"14.00\" text-anchor=\"middle\" x=\"195\" y=\"-1328.8\">dropout_1: Dropout</text>\n",
       "</g>\n",
       "<!-- 2485636971152&#45;&gt;2486403874544 -->\n",
       "<g class=\"edge\" id=\"edge9\"><title>2485636971152-&gt;2486403874544</title>\n",
       "<path d=\"M145.735,-1387.31C153.799,-1378.5 163.759,-1367.63 172.608,-1357.96\" fill=\"none\" stroke=\"black\"/>\n",
       "<polygon fill=\"black\" points=\"175.239,-1360.27 179.41,-1350.53 170.076,-1355.54 175.239,-1360.27\" stroke=\"black\"/>\n",
       "</g>\n",
       "<!-- 2486315277896 -->\n",
       "<g class=\"node\" id=\"node12\"><title>2486315277896</title>\n",
       "<polygon fill=\"none\" points=\"310,-1314.5 310,-1350.5 440,-1350.5 440,-1314.5 310,-1314.5\" stroke=\"black\"/>\n",
       "<text font-family=\"Times New Roman,serif\" font-size=\"14.00\" text-anchor=\"middle\" x=\"375\" y=\"-1328.8\">dropout_2: Dropout</text>\n",
       "</g>\n",
       "<!-- 2486705715016&#45;&gt;2486315277896 -->\n",
       "<g class=\"edge\" id=\"edge10\"><title>2486705715016-&gt;2486315277896</title>\n",
       "<path d=\"M400.012,-1387.31C396.161,-1379.03 391.458,-1368.91 387.174,-1359.69\" fill=\"none\" stroke=\"black\"/>\n",
       "<polygon fill=\"black\" points=\"390.304,-1358.12 382.915,-1350.53 383.956,-1361.07 390.304,-1358.12\" stroke=\"black\"/>\n",
       "</g>\n",
       "<!-- 2486397551392 -->\n",
       "<g class=\"node\" id=\"node13\"><title>2486397551392</title>\n",
       "<polygon fill=\"none\" points=\"198.5,-1241.5 198.5,-1277.5 371.5,-1277.5 371.5,-1241.5 198.5,-1241.5\" stroke=\"black\"/>\n",
       "<text font-family=\"Times New Roman,serif\" font-size=\"14.00\" text-anchor=\"middle\" x=\"285\" y=\"-1255.8\">concatenate_1: Concatenate</text>\n",
       "</g>\n",
       "<!-- 2486403874544&#45;&gt;2486397551392 -->\n",
       "<g class=\"edge\" id=\"edge11\"><title>2486403874544-&gt;2486397551392</title>\n",
       "<path d=\"M216.786,-1314.31C228.394,-1305.16 242.839,-1293.76 255.445,-1283.82\" fill=\"none\" stroke=\"black\"/>\n",
       "<polygon fill=\"black\" points=\"257.731,-1286.47 263.414,-1277.53 253.395,-1280.97 257.731,-1286.47\" stroke=\"black\"/>\n",
       "</g>\n",
       "<!-- 2486315277896&#45;&gt;2486397551392 -->\n",
       "<g class=\"edge\" id=\"edge12\"><title>2486315277896-&gt;2486397551392</title>\n",
       "<path d=\"M353.214,-1314.31C341.606,-1305.16 327.161,-1293.76 314.555,-1283.82\" fill=\"none\" stroke=\"black\"/>\n",
       "<polygon fill=\"black\" points=\"316.605,-1280.97 306.586,-1277.53 312.269,-1286.47 316.605,-1280.97\" stroke=\"black\"/>\n",
       "</g>\n",
       "<!-- 2485364936320 -->\n",
       "<g class=\"node\" id=\"node14\"><title>2485364936320</title>\n",
       "<polygon fill=\"none\" points=\"221.5,-1168.5 221.5,-1204.5 348.5,-1204.5 348.5,-1168.5 221.5,-1168.5\" stroke=\"black\"/>\n",
       "<text font-family=\"Times New Roman,serif\" font-size=\"14.00\" text-anchor=\"middle\" x=\"285\" y=\"-1182.8\">conv2d_3: Conv2D</text>\n",
       "</g>\n",
       "<!-- 2486397551392&#45;&gt;2485364936320 -->\n",
       "<g class=\"edge\" id=\"edge13\"><title>2486397551392-&gt;2485364936320</title>\n",
       "<path d=\"M285,-1241.31C285,-1233.29 285,-1223.55 285,-1214.57\" fill=\"none\" stroke=\"black\"/>\n",
       "<polygon fill=\"black\" points=\"288.5,-1214.53 285,-1204.53 281.5,-1214.53 288.5,-1214.53\" stroke=\"black\"/>\n",
       "</g>\n",
       "<!-- 2485346077104 -->\n",
       "<g class=\"node\" id=\"node15\"><title>2485346077104</title>\n",
       "<polygon fill=\"none\" points=\"180.5,-1095.5 180.5,-1131.5 389.5,-1131.5 389.5,-1095.5 180.5,-1095.5\" stroke=\"black\"/>\n",
       "<text font-family=\"Times New Roman,serif\" font-size=\"14.00\" text-anchor=\"middle\" x=\"285\" y=\"-1109.8\">max_pooling2d_3: MaxPooling2D</text>\n",
       "</g>\n",
       "<!-- 2485364936320&#45;&gt;2485346077104 -->\n",
       "<g class=\"edge\" id=\"edge14\"><title>2485364936320-&gt;2485346077104</title>\n",
       "<path d=\"M285,-1168.31C285,-1160.29 285,-1150.55 285,-1141.57\" fill=\"none\" stroke=\"black\"/>\n",
       "<polygon fill=\"black\" points=\"288.5,-1141.53 285,-1131.53 281.5,-1141.53 288.5,-1141.53\" stroke=\"black\"/>\n",
       "</g>\n",
       "<!-- 2485635112520 -->\n",
       "<g class=\"node\" id=\"node16\"><title>2485635112520</title>\n",
       "<polygon fill=\"none\" points=\"155,-1022.5 155,-1058.5 415,-1058.5 415,-1022.5 155,-1022.5\" stroke=\"black\"/>\n",
       "<text font-family=\"Times New Roman,serif\" font-size=\"14.00\" text-anchor=\"middle\" x=\"285\" y=\"-1036.8\">batch_normalization_5: BatchNormalization</text>\n",
       "</g>\n",
       "<!-- 2485346077104&#45;&gt;2485635112520 -->\n",
       "<g class=\"edge\" id=\"edge15\"><title>2485346077104-&gt;2485635112520</title>\n",
       "<path d=\"M285,-1095.31C285,-1087.29 285,-1077.55 285,-1068.57\" fill=\"none\" stroke=\"black\"/>\n",
       "<polygon fill=\"black\" points=\"288.5,-1068.53 285,-1058.53 281.5,-1068.53 288.5,-1068.53\" stroke=\"black\"/>\n",
       "</g>\n",
       "<!-- 2485639326072 -->\n",
       "<g class=\"node\" id=\"node17\"><title>2485639326072</title>\n",
       "<polygon fill=\"none\" points=\"220,-949.5 220,-985.5 350,-985.5 350,-949.5 220,-949.5\" stroke=\"black\"/>\n",
       "<text font-family=\"Times New Roman,serif\" font-size=\"14.00\" text-anchor=\"middle\" x=\"285\" y=\"-963.8\">dropout_3: Dropout</text>\n",
       "</g>\n",
       "<!-- 2485635112520&#45;&gt;2485639326072 -->\n",
       "<g class=\"edge\" id=\"edge16\"><title>2485635112520-&gt;2485639326072</title>\n",
       "<path d=\"M285,-1022.31C285,-1014.29 285,-1004.55 285,-995.569\" fill=\"none\" stroke=\"black\"/>\n",
       "<polygon fill=\"black\" points=\"288.5,-995.529 285,-985.529 281.5,-995.529 288.5,-995.529\" stroke=\"black\"/>\n",
       "</g>\n",
       "<!-- 2485639345936 -->\n",
       "<g class=\"node\" id=\"node18\"><title>2485639345936</title>\n",
       "<polygon fill=\"none\" points=\"221.5,-876.5 221.5,-912.5 348.5,-912.5 348.5,-876.5 221.5,-876.5\" stroke=\"black\"/>\n",
       "<text font-family=\"Times New Roman,serif\" font-size=\"14.00\" text-anchor=\"middle\" x=\"285\" y=\"-890.8\">conv2d_4: Conv2D</text>\n",
       "</g>\n",
       "<!-- 2485639326072&#45;&gt;2485639345936 -->\n",
       "<g class=\"edge\" id=\"edge17\"><title>2485639326072-&gt;2485639345936</title>\n",
       "<path d=\"M285,-949.313C285,-941.289 285,-931.547 285,-922.569\" fill=\"none\" stroke=\"black\"/>\n",
       "<polygon fill=\"black\" points=\"288.5,-922.529 285,-912.529 281.5,-922.529 288.5,-922.529\" stroke=\"black\"/>\n",
       "</g>\n",
       "<!-- 2485365268552 -->\n",
       "<g class=\"node\" id=\"node19\"><title>2485365268552</title>\n",
       "<polygon fill=\"none\" points=\"180.5,-803.5 180.5,-839.5 389.5,-839.5 389.5,-803.5 180.5,-803.5\" stroke=\"black\"/>\n",
       "<text font-family=\"Times New Roman,serif\" font-size=\"14.00\" text-anchor=\"middle\" x=\"285\" y=\"-817.8\">max_pooling2d_4: MaxPooling2D</text>\n",
       "</g>\n",
       "<!-- 2485639345936&#45;&gt;2485365268552 -->\n",
       "<g class=\"edge\" id=\"edge18\"><title>2485639345936-&gt;2485365268552</title>\n",
       "<path d=\"M285,-876.313C285,-868.289 285,-858.547 285,-849.569\" fill=\"none\" stroke=\"black\"/>\n",
       "<polygon fill=\"black\" points=\"288.5,-849.529 285,-839.529 281.5,-849.529 288.5,-849.529\" stroke=\"black\"/>\n",
       "</g>\n",
       "<!-- 2486377901584 -->\n",
       "<g class=\"node\" id=\"node20\"><title>2486377901584</title>\n",
       "<polygon fill=\"none\" points=\"155,-730.5 155,-766.5 415,-766.5 415,-730.5 155,-730.5\" stroke=\"black\"/>\n",
       "<text font-family=\"Times New Roman,serif\" font-size=\"14.00\" text-anchor=\"middle\" x=\"285\" y=\"-744.8\">batch_normalization_6: BatchNormalization</text>\n",
       "</g>\n",
       "<!-- 2485365268552&#45;&gt;2486377901584 -->\n",
       "<g class=\"edge\" id=\"edge19\"><title>2485365268552-&gt;2486377901584</title>\n",
       "<path d=\"M285,-803.313C285,-795.289 285,-785.547 285,-776.569\" fill=\"none\" stroke=\"black\"/>\n",
       "<polygon fill=\"black\" points=\"288.5,-776.529 285,-766.529 281.5,-776.529 288.5,-776.529\" stroke=\"black\"/>\n",
       "</g>\n",
       "<!-- 2485367783264 -->\n",
       "<g class=\"node\" id=\"node21\"><title>2485367783264</title>\n",
       "<polygon fill=\"none\" points=\"220,-657.5 220,-693.5 350,-693.5 350,-657.5 220,-657.5\" stroke=\"black\"/>\n",
       "<text font-family=\"Times New Roman,serif\" font-size=\"14.00\" text-anchor=\"middle\" x=\"285\" y=\"-671.8\">dropout_4: Dropout</text>\n",
       "</g>\n",
       "<!-- 2486377901584&#45;&gt;2485367783264 -->\n",
       "<g class=\"edge\" id=\"edge20\"><title>2486377901584-&gt;2485367783264</title>\n",
       "<path d=\"M285,-730.313C285,-722.289 285,-712.547 285,-703.569\" fill=\"none\" stroke=\"black\"/>\n",
       "<polygon fill=\"black\" points=\"288.5,-703.529 285,-693.529 281.5,-703.529 288.5,-703.529\" stroke=\"black\"/>\n",
       "</g>\n",
       "<!-- 2485365183544 -->\n",
       "<g class=\"node\" id=\"node22\"><title>2485365183544</title>\n",
       "<polygon fill=\"none\" points=\"230.5,-584.5 230.5,-620.5 339.5,-620.5 339.5,-584.5 230.5,-584.5\" stroke=\"black\"/>\n",
       "<text font-family=\"Times New Roman,serif\" font-size=\"14.00\" text-anchor=\"middle\" x=\"285\" y=\"-598.8\">flatten_1: Flatten</text>\n",
       "</g>\n",
       "<!-- 2485367783264&#45;&gt;2485365183544 -->\n",
       "<g class=\"edge\" id=\"edge21\"><title>2485367783264-&gt;2485365183544</title>\n",
       "<path d=\"M285,-657.313C285,-649.289 285,-639.547 285,-630.569\" fill=\"none\" stroke=\"black\"/>\n",
       "<polygon fill=\"black\" points=\"288.5,-630.529 285,-620.529 281.5,-630.529 288.5,-630.529\" stroke=\"black\"/>\n",
       "</g>\n",
       "<!-- 2485637406224 -->\n",
       "<g class=\"node\" id=\"node24\"><title>2485637406224</title>\n",
       "<polygon fill=\"none\" points=\"271.5,-511.5 271.5,-547.5 444.5,-547.5 444.5,-511.5 271.5,-511.5\" stroke=\"black\"/>\n",
       "<text font-family=\"Times New Roman,serif\" font-size=\"14.00\" text-anchor=\"middle\" x=\"358\" y=\"-525.8\">concatenate_2: Concatenate</text>\n",
       "</g>\n",
       "<!-- 2485365183544&#45;&gt;2485637406224 -->\n",
       "<g class=\"edge\" id=\"edge22\"><title>2485365183544-&gt;2485637406224</title>\n",
       "<path d=\"M302.671,-584.313C311.817,-575.417 323.135,-564.409 333.147,-554.672\" fill=\"none\" stroke=\"black\"/>\n",
       "<polygon fill=\"black\" points=\"335.763,-557.01 340.491,-547.529 330.883,-551.992 335.763,-557.01\" stroke=\"black\"/>\n",
       "</g>\n",
       "<!-- 2485635461416 -->\n",
       "<g class=\"node\" id=\"node23\"><title>2485635461416</title>\n",
       "<polygon fill=\"none\" points=\"358,-584.5 358,-620.5 506,-620.5 506,-584.5 358,-584.5\" stroke=\"black\"/>\n",
       "<text font-family=\"Times New Roman,serif\" font-size=\"14.00\" text-anchor=\"middle\" x=\"432\" y=\"-598.8\">angle_input: InputLayer</text>\n",
       "</g>\n",
       "<!-- 2485635461416&#45;&gt;2485637406224 -->\n",
       "<g class=\"edge\" id=\"edge23\"><title>2485635461416-&gt;2485637406224</title>\n",
       "<path d=\"M414.087,-584.313C404.815,-575.417 393.342,-564.409 383.193,-554.672\" fill=\"none\" stroke=\"black\"/>\n",
       "<polygon fill=\"black\" points=\"385.387,-551.927 375.748,-547.529 380.541,-556.978 385.387,-551.927\" stroke=\"black\"/>\n",
       "</g>\n",
       "<!-- 2485637404656 -->\n",
       "<g class=\"node\" id=\"node25\"><title>2485637404656</title>\n",
       "<polygon fill=\"none\" points=\"306,-438.5 306,-474.5 410,-474.5 410,-438.5 306,-438.5\" stroke=\"black\"/>\n",
       "<text font-family=\"Times New Roman,serif\" font-size=\"14.00\" text-anchor=\"middle\" x=\"358\" y=\"-452.8\">dense_1: Dense</text>\n",
       "</g>\n",
       "<!-- 2485637406224&#45;&gt;2485637404656 -->\n",
       "<g class=\"edge\" id=\"edge24\"><title>2485637406224-&gt;2485637404656</title>\n",
       "<path d=\"M358,-511.313C358,-503.289 358,-493.547 358,-484.569\" fill=\"none\" stroke=\"black\"/>\n",
       "<polygon fill=\"black\" points=\"361.5,-484.529 358,-474.529 354.5,-484.529 361.5,-484.529\" stroke=\"black\"/>\n",
       "</g>\n",
       "<!-- 2485637044544 -->\n",
       "<g class=\"node\" id=\"node26\"><title>2485637044544</title>\n",
       "<polygon fill=\"none\" points=\"228,-365.5 228,-401.5 488,-401.5 488,-365.5 228,-365.5\" stroke=\"black\"/>\n",
       "<text font-family=\"Times New Roman,serif\" font-size=\"14.00\" text-anchor=\"middle\" x=\"358\" y=\"-379.8\">batch_normalization_7: BatchNormalization</text>\n",
       "</g>\n",
       "<!-- 2485637404656&#45;&gt;2485637044544 -->\n",
       "<g class=\"edge\" id=\"edge25\"><title>2485637404656-&gt;2485637044544</title>\n",
       "<path d=\"M358,-438.313C358,-430.289 358,-420.547 358,-411.569\" fill=\"none\" stroke=\"black\"/>\n",
       "<polygon fill=\"black\" points=\"361.5,-411.529 358,-401.529 354.5,-411.529 361.5,-411.529\" stroke=\"black\"/>\n",
       "</g>\n",
       "<!-- 2485636985296 -->\n",
       "<g class=\"node\" id=\"node27\"><title>2485636985296</title>\n",
       "<polygon fill=\"none\" points=\"293,-292.5 293,-328.5 423,-328.5 423,-292.5 293,-292.5\" stroke=\"black\"/>\n",
       "<text font-family=\"Times New Roman,serif\" font-size=\"14.00\" text-anchor=\"middle\" x=\"358\" y=\"-306.8\">dropout_5: Dropout</text>\n",
       "</g>\n",
       "<!-- 2485637044544&#45;&gt;2485636985296 -->\n",
       "<g class=\"edge\" id=\"edge26\"><title>2485637044544-&gt;2485636985296</title>\n",
       "<path d=\"M358,-365.313C358,-357.289 358,-347.547 358,-338.569\" fill=\"none\" stroke=\"black\"/>\n",
       "<polygon fill=\"black\" points=\"361.5,-338.529 358,-328.529 354.5,-338.529 361.5,-338.529\" stroke=\"black\"/>\n",
       "</g>\n",
       "<!-- 2485637462616 -->\n",
       "<g class=\"node\" id=\"node28\"><title>2485637462616</title>\n",
       "<polygon fill=\"none\" points=\"306,-219.5 306,-255.5 410,-255.5 410,-219.5 306,-219.5\" stroke=\"black\"/>\n",
       "<text font-family=\"Times New Roman,serif\" font-size=\"14.00\" text-anchor=\"middle\" x=\"358\" y=\"-233.8\">dense_2: Dense</text>\n",
       "</g>\n",
       "<!-- 2485636985296&#45;&gt;2485637462616 -->\n",
       "<g class=\"edge\" id=\"edge27\"><title>2485636985296-&gt;2485637462616</title>\n",
       "<path d=\"M358,-292.313C358,-284.289 358,-274.547 358,-265.569\" fill=\"none\" stroke=\"black\"/>\n",
       "<polygon fill=\"black\" points=\"361.5,-265.529 358,-255.529 354.5,-265.529 361.5,-265.529\" stroke=\"black\"/>\n",
       "</g>\n",
       "<!-- 2485370961368 -->\n",
       "<g class=\"node\" id=\"node29\"><title>2485370961368</title>\n",
       "<polygon fill=\"none\" points=\"228,-146.5 228,-182.5 488,-182.5 488,-146.5 228,-146.5\" stroke=\"black\"/>\n",
       "<text font-family=\"Times New Roman,serif\" font-size=\"14.00\" text-anchor=\"middle\" x=\"358\" y=\"-160.8\">batch_normalization_8: BatchNormalization</text>\n",
       "</g>\n",
       "<!-- 2485637462616&#45;&gt;2485370961368 -->\n",
       "<g class=\"edge\" id=\"edge28\"><title>2485637462616-&gt;2485370961368</title>\n",
       "<path d=\"M358,-219.313C358,-211.289 358,-201.547 358,-192.569\" fill=\"none\" stroke=\"black\"/>\n",
       "<polygon fill=\"black\" points=\"361.5,-192.529 358,-182.529 354.5,-192.529 361.5,-192.529\" stroke=\"black\"/>\n",
       "</g>\n",
       "<!-- 2485636475256 -->\n",
       "<g class=\"node\" id=\"node30\"><title>2485636475256</title>\n",
       "<polygon fill=\"none\" points=\"293,-73.5 293,-109.5 423,-109.5 423,-73.5 293,-73.5\" stroke=\"black\"/>\n",
       "<text font-family=\"Times New Roman,serif\" font-size=\"14.00\" text-anchor=\"middle\" x=\"358\" y=\"-87.8\">dropout_6: Dropout</text>\n",
       "</g>\n",
       "<!-- 2485370961368&#45;&gt;2485636475256 -->\n",
       "<g class=\"edge\" id=\"edge29\"><title>2485370961368-&gt;2485636475256</title>\n",
       "<path d=\"M358,-146.313C358,-138.289 358,-128.547 358,-119.569\" fill=\"none\" stroke=\"black\"/>\n",
       "<polygon fill=\"black\" points=\"361.5,-119.529 358,-109.529 354.5,-119.529 361.5,-119.529\" stroke=\"black\"/>\n",
       "</g>\n",
       "<!-- 2485639126768 -->\n",
       "<g class=\"node\" id=\"node31\"><title>2485639126768</title>\n",
       "<polygon fill=\"none\" points=\"294,-0.5 294,-36.5 422,-36.5 422,-0.5 294,-0.5\" stroke=\"black\"/>\n",
       "<text font-family=\"Times New Roman,serif\" font-size=\"14.00\" text-anchor=\"middle\" x=\"358\" y=\"-14.8\">main_output: Dense</text>\n",
       "</g>\n",
       "<!-- 2485636475256&#45;&gt;2485639126768 -->\n",
       "<g class=\"edge\" id=\"edge30\"><title>2485636475256-&gt;2485639126768</title>\n",
       "<path d=\"M358,-73.3129C358,-65.2895 358,-55.5475 358,-46.5691\" fill=\"none\" stroke=\"black\"/>\n",
       "<polygon fill=\"black\" points=\"361.5,-46.5288 358,-36.5288 354.5,-46.5289 361.5,-46.5288\" stroke=\"black\"/>\n",
       "</g>\n",
       "</g>\n",
       "</svg>"
      ],
      "text/plain": [
       "<IPython.core.display.SVG object>"
      ]
     },
     "execution_count": 34,
     "metadata": {},
     "output_type": "execute_result"
    }
   ],
   "source": [
    "from IPython.display import SVG\n",
    "from keras.utils.vis_utils import model_to_dot\n",
    "#import os\n",
    "#os.environ[\"PATH\"] += os.pathsep + 'd:/Anaconda3/Library/bin/graphviz/'\n",
    "SVG(model_to_dot(model_f).create(prog='dot', format='svg'))"
   ]
  },
  {
   "cell_type": "markdown",
   "metadata": {},
   "source": [
    "### Model Training"
   ]
  },
  {
   "cell_type": "code",
   "execution_count": 35,
   "metadata": {
    "collapsed": true
   },
   "outputs": [],
   "source": [
    "#name init\n",
    "model_timestamp = str(datetime.datetime.now().strftime(\"%Y_%m_%d_%H_%M_%S\"))\n",
    "model_best_weights_path = model_path + \"weights.\" + model_code + \"_\" + model_timestamp + \".hdf5\"\n",
    "callbacks = get_callbacks(filepath=model_best_weights_path, patience=10, step_decay=step_decay)"
   ]
  },
  {
   "cell_type": "code",
   "execution_count": 36,
   "metadata": {
    "scrolled": false
   },
   "outputs": [
    {
     "name": "stdout",
     "output_type": "stream",
     "text": [
      "Setting learning rate:  0.001\n",
      "Epoch 1/56\n",
      "47/46 [==============================] - 15s - loss: 0.6774 - acc: 0.6735 - val_loss: 0.9858 - val_acc: 0.6185\n",
      "Epoch 2/56\n",
      "47/46 [==============================] - 12s - loss: 0.5325 - acc: 0.7450 - val_loss: 0.5084 - val_acc: 0.7947\n",
      "Epoch 3/56\n",
      "47/46 [==============================] - 12s - loss: 0.4751 - acc: 0.7680 - val_loss: 0.5895 - val_acc: 0.6883\n",
      "Epoch 4/56\n",
      "47/46 [==============================] - 12s - loss: 0.4718 - acc: 0.7725 - val_loss: 0.6591 - val_acc: 0.6787\n",
      "Epoch 5/56\n",
      "47/46 [==============================] - 12s - loss: 0.4272 - acc: 0.8035 - val_loss: 0.5182 - val_acc: 0.7564\n",
      "Epoch 6/56\n",
      "47/46 [==============================] - 12s - loss: 0.4362 - acc: 0.7899 - val_loss: 0.4317 - val_acc: 0.7702\n",
      "Epoch 7/56\n",
      "47/46 [==============================] - 12s - loss: 0.4059 - acc: 0.8115 - val_loss: 0.4856 - val_acc: 0.7617\n",
      "Setting learning rate:  0.00066\n",
      "Epoch 8/56\n",
      "47/46 [==============================] - 12s - loss: 0.3753 - acc: 0.8254 - val_loss: 0.4466 - val_acc: 0.7931\n",
      "Epoch 9/56\n",
      "47/46 [==============================] - 12s - loss: 0.4003 - acc: 0.8194 - val_loss: 0.3848 - val_acc: 0.8234\n",
      "Epoch 10/56\n",
      "47/46 [==============================] - 12s - loss: 0.3651 - acc: 0.8194 - val_loss: 0.4724 - val_acc: 0.7649\n",
      "Epoch 11/56\n",
      "47/46 [==============================] - 12s - loss: 0.3608 - acc: 0.8345 - val_loss: 0.3246 - val_acc: 0.8628\n",
      "Epoch 12/56\n",
      "47/46 [==============================] - 12s - loss: 0.3643 - acc: 0.8372 - val_loss: 0.3120 - val_acc: 0.8436\n",
      "Epoch 13/56\n",
      "47/46 [==============================] - 12s - loss: 0.3292 - acc: 0.8493 - val_loss: 0.2528 - val_acc: 0.8777\n",
      "Epoch 14/56\n",
      "47/46 [==============================] - 12s - loss: 0.3537 - acc: 0.8469 - val_loss: 0.2626 - val_acc: 0.8904\n",
      "Setting learning rate:  0.00043560000000000007\n",
      "Epoch 15/56\n",
      "47/46 [==============================] - 12s - loss: 0.3121 - acc: 0.8608 - val_loss: 0.2727 - val_acc: 0.8711\n",
      "Epoch 16/56\n",
      "47/46 [==============================] - 12s - loss: 0.3190 - acc: 0.8694 - val_loss: 0.2592 - val_acc: 0.8819\n",
      "Epoch 17/56\n",
      "47/46 [==============================] - 12s - loss: 0.3083 - acc: 0.8561 - val_loss: 0.2403 - val_acc: 0.8957\n",
      "Epoch 18/56\n",
      "47/46 [==============================] - 12s - loss: 0.3330 - acc: 0.8555 - val_loss: 0.3000 - val_acc: 0.8713\n",
      "Epoch 19/56\n",
      "47/46 [==============================] - 12s - loss: 0.2992 - acc: 0.8735 - val_loss: 0.3542 - val_acc: 0.8330\n",
      "Epoch 20/56\n",
      "47/46 [==============================] - 12s - loss: 0.3192 - acc: 0.8720 - val_loss: 0.3459 - val_acc: 0.8351\n",
      "Epoch 21/56\n",
      "47/46 [==============================] - 12s - loss: 0.3178 - acc: 0.8617 - val_loss: 0.2488 - val_acc: 0.8862\n",
      "Setting learning rate:  0.00028749600000000004\n",
      "Epoch 22/56\n",
      "47/46 [==============================] - 13s - loss: 0.2741 - acc: 0.8774 - val_loss: 0.2291 - val_acc: 0.9137\n",
      "Epoch 23/56\n",
      "47/46 [==============================] - 12s - loss: 0.2853 - acc: 0.8726 - val_loss: 0.2744 - val_acc: 0.8766\n",
      "Epoch 24/56\n",
      "47/46 [==============================] - 12s - loss: 0.2767 - acc: 0.8738 - val_loss: 0.2544 - val_acc: 0.8809\n",
      "Epoch 25/56\n",
      "47/46 [==============================] - 12s - loss: 0.3004 - acc: 0.8641 - val_loss: 0.2400 - val_acc: 0.8926\n",
      "Epoch 26/56\n",
      "47/46 [==============================] - 12s - loss: 0.2700 - acc: 0.8753 - val_loss: 0.3110 - val_acc: 0.8638\n",
      "Epoch 27/56\n",
      "47/46 [==============================] - 12s - loss: 0.2699 - acc: 0.8948 - val_loss: 0.2416 - val_acc: 0.9011\n",
      "Epoch 28/56\n",
      "47/46 [==============================] - 12s - loss: 0.2475 - acc: 0.8942 - val_loss: 0.2320 - val_acc: 0.8968\n",
      "Setting learning rate:  0.00018974736000000004\n",
      "Epoch 29/56\n",
      "47/46 [==============================] - 12s - loss: 0.2433 - acc: 0.8907 - val_loss: 0.2559 - val_acc: 0.9064\n",
      "Epoch 30/56\n",
      "47/46 [==============================] - 12s - loss: 0.2674 - acc: 0.8871 - val_loss: 0.2230 - val_acc: 0.9202\n",
      "Epoch 31/56\n",
      "47/46 [==============================] - 12s - loss: 0.2678 - acc: 0.8850 - val_loss: 0.2373 - val_acc: 0.8926\n",
      "Epoch 32/56\n",
      "47/46 [==============================] - 12s - loss: 0.2495 - acc: 0.9010 - val_loss: 0.2920 - val_acc: 0.8809\n",
      "Epoch 33/56\n",
      "47/46 [==============================] - 12s - loss: 0.2310 - acc: 0.9034 - val_loss: 0.2521 - val_acc: 0.9043\n",
      "Epoch 34/56\n",
      "47/46 [==============================] - 12s - loss: 0.2644 - acc: 0.8977 - val_loss: 0.2423 - val_acc: 0.9128\n",
      "Epoch 35/56\n",
      "47/46 [==============================] - 12s - loss: 0.2669 - acc: 0.8842 - val_loss: 0.2094 - val_acc: 0.9191\n",
      "Setting learning rate:  0.00012523325760000005\n",
      "Epoch 36/56\n",
      "47/46 [==============================] - 12s - loss: 0.2314 - acc: 0.8998 - val_loss: 0.2442 - val_acc: 0.8919\n",
      "Epoch 37/56\n",
      "47/46 [==============================] - 12s - loss: 0.2351 - acc: 0.9034 - val_loss: 0.2393 - val_acc: 0.9064\n",
      "Epoch 38/56\n",
      "47/46 [==============================] - 12s - loss: 0.2468 - acc: 0.8845 - val_loss: 0.2411 - val_acc: 0.9000\n",
      "Epoch 39/56\n",
      "47/46 [==============================] - 12s - loss: 0.2218 - acc: 0.9057 - val_loss: 0.2068 - val_acc: 0.9234\n",
      "Epoch 40/56\n",
      "47/46 [==============================] - 12s - loss: 0.2040 - acc: 0.9226 - val_loss: 0.2056 - val_acc: 0.9170\n",
      "Epoch 41/56\n",
      "47/46 [==============================] - 12s - loss: 0.2260 - acc: 0.9176 - val_loss: 0.1997 - val_acc: 0.9213\n",
      "Epoch 42/56\n",
      "47/46 [==============================] - 12s - loss: 0.2004 - acc: 0.9105 - val_loss: 0.1974 - val_acc: 0.9223\n",
      "Setting learning rate:  8.265395001600003e-05\n",
      "Epoch 43/56\n",
      "47/46 [==============================] - 12s - loss: 0.2125 - acc: 0.9137 - val_loss: 0.2158 - val_acc: 0.9127\n",
      "Epoch 44/56\n",
      "47/46 [==============================] - 12s - loss: 0.2149 - acc: 0.9069 - val_loss: 0.2088 - val_acc: 0.9202\n",
      "Epoch 45/56\n",
      "47/46 [==============================] - 12s - loss: 0.2156 - acc: 0.9181 - val_loss: 0.2271 - val_acc: 0.9213\n",
      "Epoch 46/56\n",
      "47/46 [==============================] - 12s - loss: 0.2141 - acc: 0.9096 - val_loss: 0.1954 - val_acc: 0.9309\n",
      "Epoch 47/56\n",
      "47/46 [==============================] - 12s - loss: 0.1989 - acc: 0.9214 - val_loss: 0.2266 - val_acc: 0.9202\n",
      "Epoch 48/56\n",
      "47/46 [==============================] - 12s - loss: 0.1845 - acc: 0.9232 - val_loss: 0.2081 - val_acc: 0.9287\n",
      "Epoch 49/56\n",
      "47/46 [==============================] - 12s - loss: 0.1829 - acc: 0.9335 - val_loss: 0.1906 - val_acc: 0.9298\n",
      "Setting learning rate:  5.455160701056002e-05\n",
      "Epoch 50/56\n",
      "47/46 [==============================] - 12s - loss: 0.1785 - acc: 0.9243 - val_loss: 0.1964 - val_acc: 0.9168\n",
      "Epoch 51/56\n",
      "47/46 [==============================] - 12s - loss: 0.1969 - acc: 0.9276 - val_loss: 0.1975 - val_acc: 0.9298\n",
      "Epoch 52/56\n",
      "47/46 [==============================] - 12s - loss: 0.1929 - acc: 0.9211 - val_loss: 0.1992 - val_acc: 0.9213\n",
      "Epoch 53/56\n",
      "47/46 [==============================] - 12s - loss: 0.1815 - acc: 0.9270 - val_loss: 0.1941 - val_acc: 0.9277\n",
      "Epoch 54/56\n",
      "47/46 [==============================] - 12s - loss: 0.1764 - acc: 0.9249 - val_loss: 0.2119 - val_acc: 0.9255\n",
      "Epoch 55/56\n",
      "47/46 [==============================] - 12s - loss: 0.2007 - acc: 0.9137 - val_loss: 0.2250 - val_acc: 0.9213\n",
      "Epoch 56/56\n",
      "47/46 [==============================] - 12s - loss: 0.1724 - acc: 0.9441 - val_loss: 0.2053 - val_acc: 0.9202\n",
      "Model training time: 11 minutes 41.7 seconds\n"
     ]
    }
   ],
   "source": [
    "#model training\n",
    "start_time = time.monotonic()\n",
    "\n",
    "H = model_f.fit_generator(datagen_angle.flow(X_train_sample, y_train_sample, batch_size=24),\n",
    "                    steps_per_epoch=len(X_train_sample)/24,\n",
    "                    validation_data=datagen_angle_val.flow(X_val, y_val, batch_size=24, shuffle=False), \n",
    "                    validation_steps=len(X_val)/12,\n",
    "                    #validation_data=[X_val,y_val],\n",
    "                    epochs=56, callbacks=callbacks)\n",
    "\n",
    "model_time = time.monotonic() - start_time\n",
    "print(\"Model training time: \" + '{:d}'.format(int(model_time // 60)) + \" minutes \" \n",
    "      + '{:.1f}'.format(model_time % 60) + \" seconds\")"
   ]
  },
  {
   "cell_type": "code",
   "execution_count": 37,
   "metadata": {
    "scrolled": true
   },
   "outputs": [
    {
     "data": {
      "image/png": "[encoded data removed]",
      "text/plain": [
       "<matplotlib.figure.Figure at 0x242bb9062b0>"
      ]
     },
     "metadata": {},
     "output_type": "display_data"
    }
   ],
   "source": [
    "plt.plot(H.history['loss'], color=\"b\", label='Training loss')\n",
    "plt.plot(H.history['val_loss'], color=\"r\", label='Validation loss')\n",
    "plt.legend()\n",
    "plt.xlabel('# epochs')\n",
    "plt.show()"
   ]
  },
  {
   "cell_type": "code",
   "execution_count": 38,
   "metadata": {},
   "outputs": [
    {
     "name": "stdout",
     "output_type": "stream",
     "text": [
      "Setting learning rate:  1e-06\n",
      "Epoch 1/14\n",
      "47/46 [==============================] - 13s - loss: 0.1827 - acc: 0.9362 - val_loss: 0.2082 - val_acc: 0.9153\n",
      "Epoch 2/14\n",
      "47/46 [==============================] - 13s - loss: 0.1604 - acc: 0.9456 - val_loss: 0.2069 - val_acc: 0.9113\n",
      "Epoch 3/14\n",
      "47/46 [==============================] - 12s - loss: 0.1610 - acc: 0.9317 - val_loss: 0.2127 - val_acc: 0.9145\n",
      "Epoch 4/14\n",
      "47/46 [==============================] - 12s - loss: 0.1671 - acc: 0.9332 - val_loss: 0.2144 - val_acc: 0.9173\n",
      "Epoch 5/14\n",
      "47/46 [==============================] - 12s - loss: 0.1777 - acc: 0.9214 - val_loss: 0.2072 - val_acc: 0.9198\n",
      "Setting learning rate:  6.6e-07\n",
      "Epoch 6/14\n",
      "47/46 [==============================] - 13s - loss: 0.1719 - acc: 0.9323 - val_loss: 0.1988 - val_acc: 0.9247\n",
      "Epoch 7/14\n",
      "47/46 [==============================] - 12s - loss: 0.1784 - acc: 0.9279 - val_loss: 0.2030 - val_acc: 0.9201\n",
      "Epoch 8/14\n",
      "47/46 [==============================] - 12s - loss: 0.1745 - acc: 0.9291 - val_loss: 0.2050 - val_acc: 0.9193\n",
      "Epoch 9/14\n",
      "47/46 [==============================] - 12s - loss: 0.1771 - acc: 0.9267 - val_loss: 0.2143 - val_acc: 0.9149\n",
      "Epoch 10/14\n",
      "47/46 [==============================] - 12s - loss: 0.1643 - acc: 0.9335 - val_loss: 0.2019 - val_acc: 0.9190\n",
      "Setting learning rate:  4.356e-07\n",
      "Epoch 11/14\n",
      "47/46 [==============================] - 12s - loss: 0.1879 - acc: 0.9288 - val_loss: 0.2038 - val_acc: 0.9206\n",
      "Epoch 12/14\n",
      "47/46 [==============================] - 12s - loss: 0.1697 - acc: 0.9338 - val_loss: 0.2104 - val_acc: 0.9137\n",
      "Epoch 13/14\n",
      "47/46 [==============================] - 12s - loss: 0.1693 - acc: 0.9350 - val_loss: 0.2079 - val_acc: 0.9177\n",
      "Epoch 14/14\n",
      "47/46 [==============================] - 12s - loss: 0.1710 - acc: 0.9285 - val_loss: 0.2109 - val_acc: 0.9141\n",
      "Model training time: 3 minutes 0.5 seconds\n"
     ]
    }
   ],
   "source": [
    "#addtional training epochs\n",
    "callbacks = get_callbacks(filepath=model_best_weights_path, patience=10, step_decay=step_decay2)\n",
    "start_time = time.monotonic()\n",
    "\n",
    "H2 = model_f.fit_generator(datagen_angle.flow(X_train_sample, y_train_sample, batch_size=24),\n",
    "                    steps_per_epoch=len(X_train_sample)/24,\n",
    "                    validation_data=datagen_angle_val.flow(X_val, y_val, batch_size=32, shuffle=False), \n",
    "                    validation_steps=len(X_val)/12,\n",
    "                    #validation_data=[X_val,y_val],\n",
    "                    epochs=14, callbacks=callbacks)\n",
    "\n",
    "model_time = time.monotonic() - start_time\n",
    "print(\"Model training time: \" + '{:d}'.format(int(model_time // 60)) + \" minutes \" \n",
    "      + '{:.1f}'.format(model_time % 60) + \" seconds\")"
   ]
  },
  {
   "cell_type": "code",
   "execution_count": 39,
   "metadata": {
    "collapsed": true
   },
   "outputs": [],
   "source": [
    "for key in H.history:\n",
    "    H.history[key].extend(H2.history[key])"
   ]
  },
  {
   "cell_type": "code",
   "execution_count": 40,
   "metadata": {
    "scrolled": false
   },
   "outputs": [
    {
     "data": {
      "image/png": "[encoded data removed]",
      "text/plain": [
       "<matplotlib.figure.Figure at 0x242bbb88710>"
      ]
     },
     "metadata": {},
     "output_type": "display_data"
    }
   ],
   "source": [
    "plt.plot(H2.history['loss'], color=\"b\", label='Training loss')\n",
    "plt.plot(H2.history['val_loss'], color=\"r\", label='Validation loss')\n",
    "plt.legend()\n",
    "plt.xlabel('# epochs')\n",
    "plt.show()"
   ]
  },
  {
   "cell_type": "code",
   "execution_count": 41,
   "metadata": {},
   "outputs": [
    {
     "data": {
      "image/png": "[encoded data removed]",
      "text/plain": [
       "<matplotlib.figure.Figure at 0x242c38f72b0>"
      ]
     },
     "metadata": {},
     "output_type": "display_data"
    }
   ],
   "source": [
    "plt.plot(H.history['loss'], color=\"b\", label='Training loss')\n",
    "plt.plot(H.history['val_loss'], color=\"r\", label='Validation loss')\n",
    "plt.legend()\n",
    "plt.xlabel('# epochs')\n",
    "plt.show()"
   ]
  },
  {
   "cell_type": "code",
   "execution_count": 42,
   "metadata": {
    "collapsed": true,
    "scrolled": false
   },
   "outputs": [],
   "source": [
    "model_object_path = model_path + \"model.\" + model_code + \"_\" + model_timestamp + '.hdf5'\n",
    "model_f.save(model_object_path)\n",
    "#model_f = load_model(model_object_path)"
   ]
  },
  {
   "cell_type": "markdown",
   "metadata": {},
   "source": [
    "### Saving model history"
   ]
  },
  {
   "cell_type": "code",
   "execution_count": null,
   "metadata": {
    "collapsed": true
   },
   "outputs": [],
   "source": []
  },
  {
   "cell_type": "code",
   "execution_count": 43,
   "metadata": {
    "scrolled": true
   },
   "outputs": [
    {
     "data": {
      "text/html": [
       "<div>\n",
       "<style>\n",
       "    .dataframe thead tr:only-child th {\n",
       "        text-align: right;\n",
       "    }\n",
       "\n",
       "    .dataframe thead th {\n",
       "        text-align: left;\n",
       "    }\n",
       "\n",
       "    .dataframe tbody tr th {\n",
       "        vertical-align: top;\n",
       "    }\n",
       "</style>\n",
       "<table border=\"1\" class=\"dataframe\">\n",
       "  <thead>\n",
       "    <tr style=\"text-align: right;\">\n",
       "      <th></th>\n",
       "      <th>timestamp</th>\n",
       "      <th>epoch [val_loss [min]]</th>\n",
       "      <th>val_loss [min]</th>\n",
       "      <th>training_loss [val_loss [min]]</th>\n",
       "      <th>val_acc [val_loss [min]]</th>\n",
       "      <th>training_acc [val_loss [min]]</th>\n",
       "      <th>epoch [val_acc [max]]</th>\n",
       "      <th>val_acc [max]</th>\n",
       "      <th>training_loss [val_acc [max]]</th>\n",
       "      <th>val_loss [val_acc [max]]</th>\n",
       "      <th>training_acc [val_acc [max]]</th>\n",
       "      <th>model_path</th>\n",
       "      <th>model_weights_path</th>\n",
       "      <th>model_python_code</th>\n",
       "      <th>model_comment</th>\n",
       "    </tr>\n",
       "  </thead>\n",
       "  <tbody>\n",
       "    <tr>\n",
       "      <th>0</th>\n",
       "      <td>2017_12_21_15_35_25</td>\n",
       "      <td>48</td>\n",
       "      <td>0.190576</td>\n",
       "      <td>0.183202</td>\n",
       "      <td>0.929787</td>\n",
       "      <td>0.933155</td>\n",
       "      <td>45</td>\n",
       "      <td>0.930851</td>\n",
       "      <td>0.214926</td>\n",
       "      <td>0.195366</td>\n",
       "      <td>0.909091</td>\n",
       "      <td>L:\\Data Science\\GIT\\Statoil-C-CORE-Iceberg-Cla...</td>\n",
       "      <td>L:\\Data Science\\GIT\\Statoil-C-CORE-Iceberg-Cla...</td>\n",
       "      <td>\\ndef InputBlock(x, dropout=0.2, prefix=''):\\n...</td>\n",
       "      <td>2 CNN inputs 3,3 conv filters - base model, no...</td>\n",
       "    </tr>\n",
       "  </tbody>\n",
       "</table>\n",
       "</div>"
      ],
      "text/plain": [
       "             timestamp  epoch [val_loss [min]]  val_loss [min]  \\\n",
       "0  2017_12_21_15_35_25                      48        0.190576   \n",
       "\n",
       "   training_loss [val_loss [min]]  val_acc [val_loss [min]]  \\\n",
       "0                        0.183202                  0.929787   \n",
       "\n",
       "   training_acc [val_loss [min]]  epoch [val_acc [max]]  val_acc [max]  \\\n",
       "0                       0.933155                     45       0.930851   \n",
       "\n",
       "   training_loss [val_acc [max]]  val_loss [val_acc [max]]  \\\n",
       "0                       0.214926                  0.195366   \n",
       "\n",
       "   training_acc [val_acc [max]]  \\\n",
       "0                      0.909091   \n",
       "\n",
       "                                          model_path  \\\n",
       "0  L:\\Data Science\\GIT\\Statoil-C-CORE-Iceberg-Cla...   \n",
       "\n",
       "                                  model_weights_path  \\\n",
       "0  L:\\Data Science\\GIT\\Statoil-C-CORE-Iceberg-Cla...   \n",
       "\n",
       "                                   model_python_code  \\\n",
       "0  \\ndef InputBlock(x, dropout=0.2, prefix=''):\\n...   \n",
       "\n",
       "                                       model_comment  \n",
       "0  2 CNN inputs 3,3 conv filters - base model, no...  "
      ]
     },
     "execution_count": 43,
     "metadata": {},
     "output_type": "execute_result"
    }
   ],
   "source": [
    "argmin = np.array(H.history[\"val_loss\"]).argmin()\n",
    "argmax_acc = np.array(H.history[\"val_acc\"]).argmax()\n",
    "with open('current_model.py','r') as model_python_code_file:\n",
    "    models_history = pd.DataFrame({\"timestamp\":[model_timestamp], \n",
    "                                    \"val_loss [min]\":[H.history['val_loss'][argmin]],\n",
    "                                    \"epoch [val_loss [min]]\":argmin,\n",
    "                                    \"training_loss [val_loss [min]]\":[H.history['loss'][argmin]],\n",
    "                                    \"val_acc [val_loss [min]]\":[H.history['val_acc'][argmin]],\n",
    "                                    \"training_acc [val_loss [min]]\":[H.history['acc'][argmin]],\n",
    "                                    \n",
    "                                    \"val_acc [max]\":[H.history['val_acc'][argmax_acc]],\n",
    "                                    \"epoch [val_acc [max]]\":argmax_acc,\n",
    "                                    \"training_loss [val_acc [max]]\":[H.history['loss'][argmax_acc]],\n",
    "                                    \"val_loss [val_acc [max]]\":[H.history['val_loss'][argmax_acc]],\n",
    "                                    \"training_acc [val_acc [max]]\":[H.history['acc'][argmax_acc]],\n",
    "                                    \n",
    "                                    \"model_path\":[model_object_path],\n",
    "                                    \"model_weights_path\":[model_best_weights_path],\n",
    "                                    \"model_python_code\":[model_python_code_file.read().replace('\\r\\n','\\n')],\n",
    "                                    \"model_comment\":[model_comment]\n",
    "                                })\n",
    "                               \n",
    "models_history = models_history[[\"timestamp\", \n",
    "                                 \"epoch [val_loss [min]]\", \"val_loss [min]\", \"training_loss [val_loss [min]]\",\n",
    "                                 \"val_acc [val_loss [min]]\", \"training_acc [val_loss [min]]\",\n",
    "                                 \"epoch [val_acc [max]]\", \"val_acc [max]\", \"training_loss [val_acc [max]]\",\n",
    "                                 \"val_loss [val_acc [max]]\", \"training_acc [val_acc [max]]\",\n",
    "                                 \"model_path\",\"model_weights_path\",\"model_python_code\",\"model_comment\"]]\n",
    "models_history.head()"
   ]
  },
  {
   "cell_type": "code",
   "execution_count": 44,
   "metadata": {},
   "outputs": [
    {
     "name": "stdout",
     "output_type": "stream",
     "text": [
      "Min validation loss epoch:\n",
      "epoch: 48 ; val loss [min] 0.1906:  ; training loss: 0.1832 ; val acc: 0.9298 ; training acc: 0.9332 \n",
      "Max validation accuracy epoch:\n",
      "epoch: 45 ; val loss 0.1954:  ; training loss: 0.2149 ; val acc [max]: 0.9309 ; training acc: 0.9091 \n",
      "model comment: 2 CNN inputs 3,3 conv filters - base model, no denoising, na=mean\n"
     ]
    }
   ],
   "source": [
    "print(\"Min validation loss epoch:\")\n",
    "print(\"epoch: %d\" %(argmin),\n",
    "      \"; val loss [min] %.4f: \" % (models_history[\"val_loss [min]\"][0]), \n",
    "      \"; training loss: %.4f\" % (models_history[\"training_loss [val_loss [min]]\"][0]),\n",
    "      \"; val acc: %.4f\" % (models_history[\"val_acc [val_loss [min]]\"][0]),\n",
    "      \"; training acc: %.4f \" % (models_history[\"training_acc [val_loss [min]]\"][0])\n",
    "     )\n",
    "print(\"Max validation accuracy epoch:\")\n",
    "print(\"epoch: %d\" %(argmax_acc),\n",
    "      \"; val loss %.4f: \" % (models_history[\"val_loss [val_acc [max]]\"][0]), \n",
    "      \"; training loss: %.4f\" % (models_history[\"training_loss [val_acc [max]]\"][0]),\n",
    "      \"; val acc [max]: %.4f\" % (models_history[\"val_acc [max]\"][0]),\n",
    "      \"; training acc: %.4f \" % (models_history[\"training_acc [val_acc [max]]\"][0]),\n",
    "     )\n",
    "print(\"model comment:\", model_comment)\n"
   ]
  },
  {
   "cell_type": "code",
   "execution_count": 45,
   "metadata": {
    "collapsed": true
   },
   "outputs": [],
   "source": [
    "with open('models_history.csv', 'a') as f:\n",
    "    models_history.to_csv(f, header=False,index=False)\n",
    "    #models_history.to_csv(f, index=False)"
   ]
  },
  {
   "cell_type": "code",
   "execution_count": 46,
   "metadata": {
    "scrolled": false
   },
   "outputs": [
    {
     "data": {
      "text/html": [
       "<div>\n",
       "<style>\n",
       "    .dataframe thead tr:only-child th {\n",
       "        text-align: right;\n",
       "    }\n",
       "\n",
       "    .dataframe thead th {\n",
       "        text-align: left;\n",
       "    }\n",
       "\n",
       "    .dataframe tbody tr th {\n",
       "        vertical-align: top;\n",
       "    }\n",
       "</style>\n",
       "<table border=\"1\" class=\"dataframe\">\n",
       "  <thead>\n",
       "    <tr style=\"text-align: right;\">\n",
       "      <th></th>\n",
       "      <th>timestamp</th>\n",
       "      <th>epoch [val_loss [min]]</th>\n",
       "      <th>val_loss [min]</th>\n",
       "      <th>training_loss [val_loss [min]]</th>\n",
       "      <th>val_acc [val_loss [min]]</th>\n",
       "      <th>training_acc [val_loss [min]]</th>\n",
       "      <th>epoch [val_acc [max]]</th>\n",
       "      <th>val_acc [max]</th>\n",
       "      <th>training_loss [val_acc [max]]</th>\n",
       "      <th>val_loss [val_acc [max]]</th>\n",
       "      <th>training_acc [val_acc [max]]</th>\n",
       "      <th>model_path</th>\n",
       "      <th>model_weights_path</th>\n",
       "      <th>model_python_code</th>\n",
       "      <th>model_comment</th>\n",
       "    </tr>\n",
       "  </thead>\n",
       "  <tbody>\n",
       "    <tr>\n",
       "      <th>17</th>\n",
       "      <td>2017_12_20_22_23_00</td>\n",
       "      <td>104</td>\n",
       "      <td>0.327691</td>\n",
       "      <td>0.159640</td>\n",
       "      <td>0.875519</td>\n",
       "      <td>0.931373</td>\n",
       "      <td>57</td>\n",
       "      <td>0.875519</td>\n",
       "      <td>0.157828</td>\n",
       "      <td>0.352734</td>\n",
       "      <td>0.937611</td>\n",
       "      <td>/iceberg\\models\\model.CNN_2017_12_19_v15_2017_...</td>\n",
       "      <td>/iceberg\\models\\weights.CNN_2017_12_19_v15_201...</td>\n",
       "      <td>\\ndef InceptionBlock(x, n_kernels=32, prefix='...</td>\n",
       "      <td>VOLTA 2 CNN inputs 3,3 conv filters - inceptio...</td>\n",
       "    </tr>\n",
       "    <tr>\n",
       "      <th>18</th>\n",
       "      <td>2017_12_20_22_23_00</td>\n",
       "      <td>104</td>\n",
       "      <td>0.327691</td>\n",
       "      <td>0.159640</td>\n",
       "      <td>0.875519</td>\n",
       "      <td>0.931373</td>\n",
       "      <td>57</td>\n",
       "      <td>0.875519</td>\n",
       "      <td>0.157828</td>\n",
       "      <td>0.352734</td>\n",
       "      <td>0.937611</td>\n",
       "      <td>/iceberg\\models\\model.CNN_2017_12_19_v15_2017_...</td>\n",
       "      <td>/iceberg\\models\\weights.CNN_2017_12_19_v15_201...</td>\n",
       "      <td>\\ndef InceptionBlock(x, n_kernels=32, prefix='...</td>\n",
       "      <td>VOLTA 2 CNN inputs 3,3 conv filters - inceptio...</td>\n",
       "    </tr>\n",
       "    <tr>\n",
       "      <th>19</th>\n",
       "      <td>2017_12_20_23_03_06</td>\n",
       "      <td>52</td>\n",
       "      <td>0.296401</td>\n",
       "      <td>0.152571</td>\n",
       "      <td>0.879668</td>\n",
       "      <td>0.943850</td>\n",
       "      <td>59</td>\n",
       "      <td>0.887967</td>\n",
       "      <td>0.162104</td>\n",
       "      <td>0.300197</td>\n",
       "      <td>0.933155</td>\n",
       "      <td>/iceberg\\models\\model.CNN_2017_12_19_v15_2017_...</td>\n",
       "      <td>/iceberg\\models\\weights.CNN_2017_12_19_v15_201...</td>\n",
       "      <td>\\ndef InceptionBlock(x, n_kernels=32, prefix='...</td>\n",
       "      <td>VOLTA 2 CNN inputs 3,3 conv filters - inceptio...</td>\n",
       "    </tr>\n",
       "    <tr>\n",
       "      <th>20</th>\n",
       "      <td>2017_12_20_23_39_40</td>\n",
       "      <td>120</td>\n",
       "      <td>0.210953</td>\n",
       "      <td>0.157278</td>\n",
       "      <td>0.923237</td>\n",
       "      <td>0.936720</td>\n",
       "      <td>120</td>\n",
       "      <td>0.923237</td>\n",
       "      <td>0.157278</td>\n",
       "      <td>0.210953</td>\n",
       "      <td>0.936720</td>\n",
       "      <td>/iceberg/models/model.CNN_2017_12_19_v15_2017_...</td>\n",
       "      <td>/iceberg/models/weights.CNN_2017_12_19_v15_201...</td>\n",
       "      <td>\\ndef InceptionBlock(x, n_kernels=64, prefix='...</td>\n",
       "      <td>VOLTA 2 CNN inputs 3,3 conv filters - inceptio...</td>\n",
       "    </tr>\n",
       "    <tr>\n",
       "      <th>21</th>\n",
       "      <td>2017_12_21_15_35_25</td>\n",
       "      <td>48</td>\n",
       "      <td>0.190576</td>\n",
       "      <td>0.183202</td>\n",
       "      <td>0.929787</td>\n",
       "      <td>0.933155</td>\n",
       "      <td>45</td>\n",
       "      <td>0.930851</td>\n",
       "      <td>0.214926</td>\n",
       "      <td>0.195366</td>\n",
       "      <td>0.909091</td>\n",
       "      <td>L:\\Data Science\\GIT\\Statoil-C-CORE-Iceberg-Cla...</td>\n",
       "      <td>L:\\Data Science\\GIT\\Statoil-C-CORE-Iceberg-Cla...</td>\n",
       "      <td>\\ndef InputBlock(x, dropout=0.2, prefix=''):\\n...</td>\n",
       "      <td>2 CNN inputs 3,3 conv filters - base model, no...</td>\n",
       "    </tr>\n",
       "  </tbody>\n",
       "</table>\n",
       "</div>"
      ],
      "text/plain": [
       "              timestamp  epoch [val_loss [min]]  val_loss [min]  \\\n",
       "17  2017_12_20_22_23_00                     104        0.327691   \n",
       "18  2017_12_20_22_23_00                     104        0.327691   \n",
       "19  2017_12_20_23_03_06                      52        0.296401   \n",
       "20  2017_12_20_23_39_40                     120        0.210953   \n",
       "21  2017_12_21_15_35_25                      48        0.190576   \n",
       "\n",
       "    training_loss [val_loss [min]]  val_acc [val_loss [min]]  \\\n",
       "17                        0.159640                  0.875519   \n",
       "18                        0.159640                  0.875519   \n",
       "19                        0.152571                  0.879668   \n",
       "20                        0.157278                  0.923237   \n",
       "21                        0.183202                  0.929787   \n",
       "\n",
       "    training_acc [val_loss [min]]  epoch [val_acc [max]]  val_acc [max]  \\\n",
       "17                       0.931373                     57       0.875519   \n",
       "18                       0.931373                     57       0.875519   \n",
       "19                       0.943850                     59       0.887967   \n",
       "20                       0.936720                    120       0.923237   \n",
       "21                       0.933155                     45       0.930851   \n",
       "\n",
       "    training_loss [val_acc [max]]  val_loss [val_acc [max]]  \\\n",
       "17                       0.157828                  0.352734   \n",
       "18                       0.157828                  0.352734   \n",
       "19                       0.162104                  0.300197   \n",
       "20                       0.157278                  0.210953   \n",
       "21                       0.214926                  0.195366   \n",
       "\n",
       "    training_acc [val_acc [max]]  \\\n",
       "17                      0.937611   \n",
       "18                      0.937611   \n",
       "19                      0.933155   \n",
       "20                      0.936720   \n",
       "21                      0.909091   \n",
       "\n",
       "                                           model_path  \\\n",
       "17  /iceberg\\models\\model.CNN_2017_12_19_v15_2017_...   \n",
       "18  /iceberg\\models\\model.CNN_2017_12_19_v15_2017_...   \n",
       "19  /iceberg\\models\\model.CNN_2017_12_19_v15_2017_...   \n",
       "20  /iceberg/models/model.CNN_2017_12_19_v15_2017_...   \n",
       "21  L:\\Data Science\\GIT\\Statoil-C-CORE-Iceberg-Cla...   \n",
       "\n",
       "                                   model_weights_path  \\\n",
       "17  /iceberg\\models\\weights.CNN_2017_12_19_v15_201...   \n",
       "18  /iceberg\\models\\weights.CNN_2017_12_19_v15_201...   \n",
       "19  /iceberg\\models\\weights.CNN_2017_12_19_v15_201...   \n",
       "20  /iceberg/models/weights.CNN_2017_12_19_v15_201...   \n",
       "21  L:\\Data Science\\GIT\\Statoil-C-CORE-Iceberg-Cla...   \n",
       "\n",
       "                                    model_python_code  \\\n",
       "17  \\ndef InceptionBlock(x, n_kernels=32, prefix='...   \n",
       "18  \\ndef InceptionBlock(x, n_kernels=32, prefix='...   \n",
       "19  \\ndef InceptionBlock(x, n_kernels=32, prefix='...   \n",
       "20  \\ndef InceptionBlock(x, n_kernels=64, prefix='...   \n",
       "21  \\ndef InputBlock(x, dropout=0.2, prefix=''):\\n...   \n",
       "\n",
       "                                        model_comment  \n",
       "17  VOLTA 2 CNN inputs 3,3 conv filters - inceptio...  \n",
       "18  VOLTA 2 CNN inputs 3,3 conv filters - inceptio...  \n",
       "19  VOLTA 2 CNN inputs 3,3 conv filters - inceptio...  \n",
       "20  VOLTA 2 CNN inputs 3,3 conv filters - inceptio...  \n",
       "21  2 CNN inputs 3,3 conv filters - base model, no...  "
      ]
     },
     "execution_count": 46,
     "metadata": {},
     "output_type": "execute_result"
    }
   ],
   "source": [
    "df = pd.read_csv('models_history.csv')\n",
    "df.tail()"
   ]
  },
  {
   "cell_type": "markdown",
   "metadata": {},
   "source": [
    "### Predictions"
   ]
  },
  {
   "cell_type": "code",
   "execution_count": 49,
   "metadata": {
    "collapsed": true,
    "scrolled": true
   },
   "outputs": [],
   "source": [
    "model_f.load_weights(model_best_weights_path)"
   ]
  },
  {
   "cell_type": "code",
   "execution_count": 48,
   "metadata": {},
   "outputs": [
    {
     "ename": "ValueError",
     "evalue": "The model expects 3 input arrays, but only received one array. Found: array with shape (482, 75, 75, 4)",
     "output_type": "error",
     "traceback": [
      "\u001b[1;31m---------------------------------------------------------------------------\u001b[0m",
      "\u001b[1;31mValueError\u001b[0m                                Traceback (most recent call last)",
      "\u001b[1;32mL:\\Data Science\\GIT\\Statoil-C-CORE-Iceberg-Classifier-Challenge\\current_model.py\u001b[0m in \u001b[0;36m<module>\u001b[1;34m()\u001b[0m\n\u001b[1;32m----> 1\u001b[1;33m \u001b[0mmodel_f\u001b[0m\u001b[1;33m.\u001b[0m\u001b[0mevaluate\u001b[0m\u001b[1;33m(\u001b[0m\u001b[0mX_val\u001b[0m\u001b[1;33m,\u001b[0m\u001b[0my_val\u001b[0m\u001b[1;33m,\u001b[0m \u001b[0mverbose\u001b[0m\u001b[1;33m=\u001b[0m\u001b[1;36m1\u001b[0m\u001b[1;33m,\u001b[0m \u001b[0mbatch_size\u001b[0m\u001b[1;33m=\u001b[0m\u001b[1;36m64\u001b[0m\u001b[1;33m)\u001b[0m\u001b[1;33m\u001b[0m\u001b[0m\n\u001b[0m",
      "\u001b[1;32mD:\\Anaconda3\\envs\\tf-gpu\\lib\\site-packages\\keras\\engine\\training.py\u001b[0m in \u001b[0;36mevaluate\u001b[1;34m(self, x, y, batch_size, verbose, sample_weight)\u001b[0m\n\u001b[0;32m   1462\u001b[0m             \u001b[0msample_weight\u001b[0m\u001b[1;33m=\u001b[0m\u001b[0msample_weight\u001b[0m\u001b[1;33m,\u001b[0m\u001b[1;33m\u001b[0m\u001b[0m\n\u001b[0;32m   1463\u001b[0m             \u001b[0mcheck_batch_axis\u001b[0m\u001b[1;33m=\u001b[0m\u001b[1;32mFalse\u001b[0m\u001b[1;33m,\u001b[0m\u001b[1;33m\u001b[0m\u001b[0m\n\u001b[1;32m-> 1464\u001b[1;33m             batch_size=batch_size)\n\u001b[0m\u001b[0;32m   1465\u001b[0m         \u001b[1;31m# Prepare inputs, delegate logic to `_test_loop`.\u001b[0m\u001b[1;33m\u001b[0m\u001b[1;33m\u001b[0m\u001b[0m\n\u001b[0;32m   1466\u001b[0m         \u001b[1;32mif\u001b[0m \u001b[0mself\u001b[0m\u001b[1;33m.\u001b[0m\u001b[0muses_learning_phase\u001b[0m \u001b[1;32mand\u001b[0m \u001b[1;32mnot\u001b[0m \u001b[0misinstance\u001b[0m\u001b[1;33m(\u001b[0m\u001b[0mK\u001b[0m\u001b[1;33m.\u001b[0m\u001b[0mlearning_phase\u001b[0m\u001b[1;33m(\u001b[0m\u001b[1;33m)\u001b[0m\u001b[1;33m,\u001b[0m \u001b[0mint\u001b[0m\u001b[1;33m)\u001b[0m\u001b[1;33m:\u001b[0m\u001b[1;33m\u001b[0m\u001b[0m\n",
      "\u001b[1;32mD:\\Anaconda3\\envs\\tf-gpu\\lib\\site-packages\\keras\\engine\\training.py\u001b[0m in \u001b[0;36m_standardize_user_data\u001b[1;34m(self, x, y, sample_weight, class_weight, check_batch_axis, batch_size)\u001b[0m\n\u001b[0;32m   1232\u001b[0m                                     \u001b[0mself\u001b[0m\u001b[1;33m.\u001b[0m\u001b[0m_feed_input_shapes\u001b[0m\u001b[1;33m,\u001b[0m\u001b[1;33m\u001b[0m\u001b[0m\n\u001b[0;32m   1233\u001b[0m                                     \u001b[0mcheck_batch_axis\u001b[0m\u001b[1;33m=\u001b[0m\u001b[1;32mFalse\u001b[0m\u001b[1;33m,\u001b[0m\u001b[1;33m\u001b[0m\u001b[0m\n\u001b[1;32m-> 1234\u001b[1;33m                                     exception_prefix='input')\n\u001b[0m\u001b[0;32m   1235\u001b[0m         y = _standardize_input_data(y, self._feed_output_names,\n\u001b[0;32m   1236\u001b[0m                                     \u001b[0moutput_shapes\u001b[0m\u001b[1;33m,\u001b[0m\u001b[1;33m\u001b[0m\u001b[0m\n",
      "\u001b[1;32mD:\\Anaconda3\\envs\\tf-gpu\\lib\\site-packages\\keras\\engine\\training.py\u001b[0m in \u001b[0;36m_standardize_input_data\u001b[1;34m(data, names, shapes, check_batch_axis, exception_prefix)\u001b[0m\n\u001b[0;32m    105\u001b[0m                              \u001b[0mexception_prefix\u001b[0m \u001b[1;33m+\u001b[0m\u001b[1;33m\u001b[0m\u001b[0m\n\u001b[0;32m    106\u001b[0m                              \u001b[1;34m' arrays, but only received one array. '\u001b[0m\u001b[1;33m\u001b[0m\u001b[0m\n\u001b[1;32m--> 107\u001b[1;33m                              'Found: array with shape ' + str(data.shape))\n\u001b[0m\u001b[0;32m    108\u001b[0m         \u001b[0marrays\u001b[0m \u001b[1;33m=\u001b[0m \u001b[1;33m[\u001b[0m\u001b[0mdata\u001b[0m\u001b[1;33m]\u001b[0m\u001b[1;33m\u001b[0m\u001b[0m\n\u001b[0;32m    109\u001b[0m \u001b[1;33m\u001b[0m\u001b[0m\n",
      "\u001b[1;31mValueError\u001b[0m: The model expects 3 input arrays, but only received one array. Found: array with shape (482, 75, 75, 4)"
     ]
    }
   ],
   "source": [
    "model_f.evaluate(X_val,y_val, verbose=1, batch_size=64)"
   ]
  },
  {
   "cell_type": "code",
   "execution_count": null,
   "metadata": {
    "collapsed": true
   },
   "outputs": [],
   "source": [
    "test_df = pd.read_json(\"Data/test/test.json\")"
   ]
  },
  {
   "cell_type": "code",
   "execution_count": null,
   "metadata": {
    "collapsed": true
   },
   "outputs": [],
   "source": [
    "test_df.head()"
   ]
  },
  {
   "cell_type": "code",
   "execution_count": null,
   "metadata": {
    "collapsed": true
   },
   "outputs": [],
   "source": [
    "t_band_1, t_band_2, t_band_1_t, t_band_2_t, t_band_3, X_test = get_bands(test_df)"
   ]
  },
  {
   "cell_type": "code",
   "execution_count": null,
   "metadata": {
    "collapsed": true
   },
   "outputs": [],
   "source": [
    "predictions = model.predict(X_test,verbose=1, batch_size=64)"
   ]
  },
  {
   "cell_type": "code",
   "execution_count": null,
   "metadata": {
    "collapsed": true
   },
   "outputs": [],
   "source": [
    "submission = pd.DataFrame({'id': test_df['id'], 'is_iceberg': predictions.reshape(-1)})\n",
    "submission.head()"
   ]
  },
  {
   "cell_type": "code",
   "execution_count": null,
   "metadata": {
    "collapsed": true
   },
   "outputs": [],
   "source": [
    "submission.to_csv(\"submission.v7.csv\", index=False)"
   ]
  },
  {
   "cell_type": "code",
   "execution_count": null,
   "metadata": {
    "collapsed": true
   },
   "outputs": [],
   "source": []
  }
 ],
 "metadata": {
  "anaconda-cloud": {},
  "kernelspec": {
   "display_name": "Python [tf-gpu]",
   "language": "python",
   "name": "Python [tf-gpu]"
  },
  "language_info": {
   "codemirror_mode": {
    "name": "ipython",
    "version": 3
   },
   "file_extension": ".py",
   "mimetype": "text/x-python",
   "name": "python",
   "nbconvert_exporter": "python",
   "pygments_lexer": "ipython3",
   "version": "3.5.3"
  }
 },
 "nbformat": 4,
 "nbformat_minor": 1
}
